{
 "cells": [
  {
   "attachments": {},
   "cell_type": "markdown",
   "metadata": {},
   "source": [
    "### **Comparison with 2020 data**\n",
    "\n",
    "The 2022 bioimage analysis survey data was compared with the data from 2020."
   ]
  },
  {
   "cell_type": "code",
   "execution_count": 2,
   "metadata": {},
   "outputs": [],
   "source": [
    "#importing the necessary modules\n",
    "import pandas as pd\n",
    "import plotly.express as px\n",
    "import plotly.graph_objects as go\n",
    "from plotly.subplots import make_subplots\n",
    "import matplotlib.pyplot as plt\n",
    "import numpy as np\n",
    "import plotly.io as pio\n",
    "import kaleido\n",
    "from utils import * \n"
   ]
  },
  {
   "cell_type": "code",
   "execution_count": 3,
   "metadata": {},
   "outputs": [],
   "source": [
    "#reading data from another notebook \n",
    "%store -r data"
   ]
  },
  {
   "attachments": {},
   "cell_type": "markdown",
   "metadata": {},
   "source": [
    "#### Role"
   ]
  },
  {
   "cell_type": "code",
   "execution_count": 4,
   "metadata": {},
   "outputs": [],
   "source": [
    "# pie chart for the roles of the survey participants \n",
    "role_2021 = pd.read_csv('C:\\\\Users\\\\ssivagur\\\\Documents\\\\2021_Image_analysis_survey_data\\\\Which_of_the_following_roles_best_describes_you.txt')\n",
    "role_2021= role_2021.rename(columns={'0':'role'})\n",
    "role_2021['category'] = role_2021['role'].apply(lambda x: 'Other' if x not in ['Postdoctoral fellow','Undergraduate/Graduate student', 'Principal investigator', 'Facility staff', 'Research scientist', 'Image analyst', 'Facility director', 'Clinician'] else x)\n",
    "role_2021['category_1'] = role_2021['category'].apply(lambda x: 'Image/data analyst' if x=='Image analyst' else x)\n",
    "\n"
   ]
  },
  {
   "cell_type": "code",
   "execution_count": 5,
   "metadata": {},
   "outputs": [
    {
     "data": {
      "application/vnd.plotly.v1+json": {
       "config": {
        "plotlyServerURL": "https://plot.ly"
       },
       "data": [
        {
         "name": "2020",
         "orientation": "v",
         "text": [
          108,
          99,
          70,
          65,
          62,
          30,
          28,
          21,
          1
         ],
         "type": "bar",
         "x": [
          "Postdoctoral fellow",
          "Undergraduate/Graduate student",
          "Principal investigator",
          "Facility staff",
          "Research scientist",
          "Image/data analyst",
          "Facility director",
          "Other",
          "Clinician"
         ],
         "y": [
          108,
          99,
          70,
          65,
          62,
          30,
          28,
          21,
          1
         ]
        },
        {
         "name": "2022",
         "orientation": "v",
         "text": [
          105,
          82,
          72,
          70,
          66,
          53,
          39,
          6
         ],
         "type": "bar",
         "x": [
          "Undergraduate/Graduate student",
          "Facility staff",
          "Postdoctoral fellow",
          "Research scientist",
          "Principal investigator",
          "Facility director",
          "Image/data analyst",
          "Clinician"
         ],
         "y": [
          105,
          82,
          72,
          70,
          66,
          53,
          39,
          6
         ]
        }
       ],
       "layout": {
        "font": {
         "color": "Black",
         "family": "Helvetica",
         "size": 16
        },
        "height": 500,
        "legend": {
         "font": {
          "color": "Black",
          "size": 16
         },
         "title": {
          "font": {
           "family": "Helvetica"
          }
         }
        },
        "template": {
         "data": {
          "bar": [
           {
            "error_x": {
             "color": "#2a3f5f"
            },
            "error_y": {
             "color": "#2a3f5f"
            },
            "marker": {
             "line": {
              "color": "#E5ECF6",
              "width": 0.5
             },
             "pattern": {
              "fillmode": "overlay",
              "size": 10,
              "solidity": 0.2
             }
            },
            "type": "bar"
           }
          ],
          "barpolar": [
           {
            "marker": {
             "line": {
              "color": "#E5ECF6",
              "width": 0.5
             },
             "pattern": {
              "fillmode": "overlay",
              "size": 10,
              "solidity": 0.2
             }
            },
            "type": "barpolar"
           }
          ],
          "carpet": [
           {
            "aaxis": {
             "endlinecolor": "#2a3f5f",
             "gridcolor": "white",
             "linecolor": "white",
             "minorgridcolor": "white",
             "startlinecolor": "#2a3f5f"
            },
            "baxis": {
             "endlinecolor": "#2a3f5f",
             "gridcolor": "white",
             "linecolor": "white",
             "minorgridcolor": "white",
             "startlinecolor": "#2a3f5f"
            },
            "type": "carpet"
           }
          ],
          "choropleth": [
           {
            "colorbar": {
             "outlinewidth": 0,
             "ticks": ""
            },
            "type": "choropleth"
           }
          ],
          "contour": [
           {
            "colorbar": {
             "outlinewidth": 0,
             "ticks": ""
            },
            "colorscale": [
             [
              0,
              "#0d0887"
             ],
             [
              0.1111111111111111,
              "#46039f"
             ],
             [
              0.2222222222222222,
              "#7201a8"
             ],
             [
              0.3333333333333333,
              "#9c179e"
             ],
             [
              0.4444444444444444,
              "#bd3786"
             ],
             [
              0.5555555555555556,
              "#d8576b"
             ],
             [
              0.6666666666666666,
              "#ed7953"
             ],
             [
              0.7777777777777778,
              "#fb9f3a"
             ],
             [
              0.8888888888888888,
              "#fdca26"
             ],
             [
              1,
              "#f0f921"
             ]
            ],
            "type": "contour"
           }
          ],
          "contourcarpet": [
           {
            "colorbar": {
             "outlinewidth": 0,
             "ticks": ""
            },
            "type": "contourcarpet"
           }
          ],
          "heatmap": [
           {
            "colorbar": {
             "outlinewidth": 0,
             "ticks": ""
            },
            "colorscale": [
             [
              0,
              "#0d0887"
             ],
             [
              0.1111111111111111,
              "#46039f"
             ],
             [
              0.2222222222222222,
              "#7201a8"
             ],
             [
              0.3333333333333333,
              "#9c179e"
             ],
             [
              0.4444444444444444,
              "#bd3786"
             ],
             [
              0.5555555555555556,
              "#d8576b"
             ],
             [
              0.6666666666666666,
              "#ed7953"
             ],
             [
              0.7777777777777778,
              "#fb9f3a"
             ],
             [
              0.8888888888888888,
              "#fdca26"
             ],
             [
              1,
              "#f0f921"
             ]
            ],
            "type": "heatmap"
           }
          ],
          "heatmapgl": [
           {
            "colorbar": {
             "outlinewidth": 0,
             "ticks": ""
            },
            "colorscale": [
             [
              0,
              "#0d0887"
             ],
             [
              0.1111111111111111,
              "#46039f"
             ],
             [
              0.2222222222222222,
              "#7201a8"
             ],
             [
              0.3333333333333333,
              "#9c179e"
             ],
             [
              0.4444444444444444,
              "#bd3786"
             ],
             [
              0.5555555555555556,
              "#d8576b"
             ],
             [
              0.6666666666666666,
              "#ed7953"
             ],
             [
              0.7777777777777778,
              "#fb9f3a"
             ],
             [
              0.8888888888888888,
              "#fdca26"
             ],
             [
              1,
              "#f0f921"
             ]
            ],
            "type": "heatmapgl"
           }
          ],
          "histogram": [
           {
            "marker": {
             "pattern": {
              "fillmode": "overlay",
              "size": 10,
              "solidity": 0.2
             }
            },
            "type": "histogram"
           }
          ],
          "histogram2d": [
           {
            "colorbar": {
             "outlinewidth": 0,
             "ticks": ""
            },
            "colorscale": [
             [
              0,
              "#0d0887"
             ],
             [
              0.1111111111111111,
              "#46039f"
             ],
             [
              0.2222222222222222,
              "#7201a8"
             ],
             [
              0.3333333333333333,
              "#9c179e"
             ],
             [
              0.4444444444444444,
              "#bd3786"
             ],
             [
              0.5555555555555556,
              "#d8576b"
             ],
             [
              0.6666666666666666,
              "#ed7953"
             ],
             [
              0.7777777777777778,
              "#fb9f3a"
             ],
             [
              0.8888888888888888,
              "#fdca26"
             ],
             [
              1,
              "#f0f921"
             ]
            ],
            "type": "histogram2d"
           }
          ],
          "histogram2dcontour": [
           {
            "colorbar": {
             "outlinewidth": 0,
             "ticks": ""
            },
            "colorscale": [
             [
              0,
              "#0d0887"
             ],
             [
              0.1111111111111111,
              "#46039f"
             ],
             [
              0.2222222222222222,
              "#7201a8"
             ],
             [
              0.3333333333333333,
              "#9c179e"
             ],
             [
              0.4444444444444444,
              "#bd3786"
             ],
             [
              0.5555555555555556,
              "#d8576b"
             ],
             [
              0.6666666666666666,
              "#ed7953"
             ],
             [
              0.7777777777777778,
              "#fb9f3a"
             ],
             [
              0.8888888888888888,
              "#fdca26"
             ],
             [
              1,
              "#f0f921"
             ]
            ],
            "type": "histogram2dcontour"
           }
          ],
          "mesh3d": [
           {
            "colorbar": {
             "outlinewidth": 0,
             "ticks": ""
            },
            "type": "mesh3d"
           }
          ],
          "parcoords": [
           {
            "line": {
             "colorbar": {
              "outlinewidth": 0,
              "ticks": ""
             }
            },
            "type": "parcoords"
           }
          ],
          "pie": [
           {
            "automargin": true,
            "type": "pie"
           }
          ],
          "scatter": [
           {
            "fillpattern": {
             "fillmode": "overlay",
             "size": 10,
             "solidity": 0.2
            },
            "type": "scatter"
           }
          ],
          "scatter3d": [
           {
            "line": {
             "colorbar": {
              "outlinewidth": 0,
              "ticks": ""
             }
            },
            "marker": {
             "colorbar": {
              "outlinewidth": 0,
              "ticks": ""
             }
            },
            "type": "scatter3d"
           }
          ],
          "scattercarpet": [
           {
            "marker": {
             "colorbar": {
              "outlinewidth": 0,
              "ticks": ""
             }
            },
            "type": "scattercarpet"
           }
          ],
          "scattergeo": [
           {
            "marker": {
             "colorbar": {
              "outlinewidth": 0,
              "ticks": ""
             }
            },
            "type": "scattergeo"
           }
          ],
          "scattergl": [
           {
            "marker": {
             "colorbar": {
              "outlinewidth": 0,
              "ticks": ""
             }
            },
            "type": "scattergl"
           }
          ],
          "scattermapbox": [
           {
            "marker": {
             "colorbar": {
              "outlinewidth": 0,
              "ticks": ""
             }
            },
            "type": "scattermapbox"
           }
          ],
          "scatterpolar": [
           {
            "marker": {
             "colorbar": {
              "outlinewidth": 0,
              "ticks": ""
             }
            },
            "type": "scatterpolar"
           }
          ],
          "scatterpolargl": [
           {
            "marker": {
             "colorbar": {
              "outlinewidth": 0,
              "ticks": ""
             }
            },
            "type": "scatterpolargl"
           }
          ],
          "scatterternary": [
           {
            "marker": {
             "colorbar": {
              "outlinewidth": 0,
              "ticks": ""
             }
            },
            "type": "scatterternary"
           }
          ],
          "surface": [
           {
            "colorbar": {
             "outlinewidth": 0,
             "ticks": ""
            },
            "colorscale": [
             [
              0,
              "#0d0887"
             ],
             [
              0.1111111111111111,
              "#46039f"
             ],
             [
              0.2222222222222222,
              "#7201a8"
             ],
             [
              0.3333333333333333,
              "#9c179e"
             ],
             [
              0.4444444444444444,
              "#bd3786"
             ],
             [
              0.5555555555555556,
              "#d8576b"
             ],
             [
              0.6666666666666666,
              "#ed7953"
             ],
             [
              0.7777777777777778,
              "#fb9f3a"
             ],
             [
              0.8888888888888888,
              "#fdca26"
             ],
             [
              1,
              "#f0f921"
             ]
            ],
            "type": "surface"
           }
          ],
          "table": [
           {
            "cells": {
             "fill": {
              "color": "#EBF0F8"
             },
             "line": {
              "color": "white"
             }
            },
            "header": {
             "fill": {
              "color": "#C8D4E3"
             },
             "line": {
              "color": "white"
             }
            },
            "type": "table"
           }
          ]
         },
         "layout": {
          "annotationdefaults": {
           "arrowcolor": "#2a3f5f",
           "arrowhead": 0,
           "arrowwidth": 1
          },
          "autotypenumbers": "strict",
          "coloraxis": {
           "colorbar": {
            "outlinewidth": 0,
            "ticks": ""
           }
          },
          "colorscale": {
           "diverging": [
            [
             0,
             "#8e0152"
            ],
            [
             0.1,
             "#c51b7d"
            ],
            [
             0.2,
             "#de77ae"
            ],
            [
             0.3,
             "#f1b6da"
            ],
            [
             0.4,
             "#fde0ef"
            ],
            [
             0.5,
             "#f7f7f7"
            ],
            [
             0.6,
             "#e6f5d0"
            ],
            [
             0.7,
             "#b8e186"
            ],
            [
             0.8,
             "#7fbc41"
            ],
            [
             0.9,
             "#4d9221"
            ],
            [
             1,
             "#276419"
            ]
           ],
           "sequential": [
            [
             0,
             "#0d0887"
            ],
            [
             0.1111111111111111,
             "#46039f"
            ],
            [
             0.2222222222222222,
             "#7201a8"
            ],
            [
             0.3333333333333333,
             "#9c179e"
            ],
            [
             0.4444444444444444,
             "#bd3786"
            ],
            [
             0.5555555555555556,
             "#d8576b"
            ],
            [
             0.6666666666666666,
             "#ed7953"
            ],
            [
             0.7777777777777778,
             "#fb9f3a"
            ],
            [
             0.8888888888888888,
             "#fdca26"
            ],
            [
             1,
             "#f0f921"
            ]
           ],
           "sequentialminus": [
            [
             0,
             "#0d0887"
            ],
            [
             0.1111111111111111,
             "#46039f"
            ],
            [
             0.2222222222222222,
             "#7201a8"
            ],
            [
             0.3333333333333333,
             "#9c179e"
            ],
            [
             0.4444444444444444,
             "#bd3786"
            ],
            [
             0.5555555555555556,
             "#d8576b"
            ],
            [
             0.6666666666666666,
             "#ed7953"
            ],
            [
             0.7777777777777778,
             "#fb9f3a"
            ],
            [
             0.8888888888888888,
             "#fdca26"
            ],
            [
             1,
             "#f0f921"
            ]
           ]
          },
          "colorway": [
           "#636efa",
           "#EF553B",
           "#00cc96",
           "#ab63fa",
           "#FFA15A",
           "#19d3f3",
           "#FF6692",
           "#B6E880",
           "#FF97FF",
           "#FECB52"
          ],
          "font": {
           "color": "#2a3f5f"
          },
          "geo": {
           "bgcolor": "white",
           "lakecolor": "white",
           "landcolor": "#E5ECF6",
           "showlakes": true,
           "showland": true,
           "subunitcolor": "white"
          },
          "hoverlabel": {
           "align": "left"
          },
          "hovermode": "closest",
          "mapbox": {
           "style": "light"
          },
          "paper_bgcolor": "white",
          "plot_bgcolor": "#E5ECF6",
          "polar": {
           "angularaxis": {
            "gridcolor": "white",
            "linecolor": "white",
            "ticks": ""
           },
           "bgcolor": "#E5ECF6",
           "radialaxis": {
            "gridcolor": "white",
            "linecolor": "white",
            "ticks": ""
           }
          },
          "scene": {
           "xaxis": {
            "backgroundcolor": "#E5ECF6",
            "gridcolor": "white",
            "gridwidth": 2,
            "linecolor": "white",
            "showbackground": true,
            "ticks": "",
            "zerolinecolor": "white"
           },
           "yaxis": {
            "backgroundcolor": "#E5ECF6",
            "gridcolor": "white",
            "gridwidth": 2,
            "linecolor": "white",
            "showbackground": true,
            "ticks": "",
            "zerolinecolor": "white"
           },
           "zaxis": {
            "backgroundcolor": "#E5ECF6",
            "gridcolor": "white",
            "gridwidth": 2,
            "linecolor": "white",
            "showbackground": true,
            "ticks": "",
            "zerolinecolor": "white"
           }
          },
          "shapedefaults": {
           "line": {
            "color": "#2a3f5f"
           }
          },
          "ternary": {
           "aaxis": {
            "gridcolor": "white",
            "linecolor": "white",
            "ticks": ""
           },
           "baxis": {
            "gridcolor": "white",
            "linecolor": "white",
            "ticks": ""
           },
           "bgcolor": "#E5ECF6",
           "caxis": {
            "gridcolor": "white",
            "linecolor": "white",
            "ticks": ""
           }
          },
          "title": {
           "x": 0.05
          },
          "xaxis": {
           "automargin": true,
           "gridcolor": "white",
           "linecolor": "white",
           "ticks": "",
           "title": {
            "standoff": 15
           },
           "zerolinecolor": "white",
           "zerolinewidth": 2
          },
          "yaxis": {
           "automargin": true,
           "gridcolor": "white",
           "linecolor": "white",
           "ticks": "",
           "title": {
            "standoff": 15
           },
           "zerolinecolor": "white",
           "zerolinewidth": 2
          }
         }
        },
        "title": {
         "text": "Role",
         "x": 0.5,
         "y": 0.85
        },
        "width": 600,
        "yaxis": {
         "categoryorder": "total ascending"
        }
       }
      }
     },
     "metadata": {},
     "output_type": "display_data"
    }
   ],
   "source": [
    "#combined figure\n",
    "role_2021_2022 = go.Figure()\n",
    "\n",
    "role_2021_2022.add_traces(go.Bar(name='2020', x=role_2021[\"category_1\"].value_counts().index, y=role_2021[\"category_1\"].value_counts().values, orientation='v', text=role_2021[\"category_1\"].value_counts().values))\n",
    "role_2021_2022.add_traces(go.Bar(name='2022', x=data['Role'].value_counts().index, y=data['Role'].value_counts().values, orientation='v', text=data['Role'].value_counts().values))\n",
    "role_2021_2022.update_layout(width=600, height=500, title='Role', title_x=0.5, title_y=0.85, font=dict(family='Helvetica', color=\"Black\", size=16), legend=dict(title_font_family = 'Helvetica', font=dict(size=16, color=\"Black\")))\n",
    "role_2021_2022.update_yaxes(categoryorder = 'total ascending')\n"
   ]
  },
  {
   "attachments": {},
   "cell_type": "markdown",
   "metadata": {},
   "source": [
    "#### Location"
   ]
  },
  {
   "cell_type": "code",
   "execution_count": 6,
   "metadata": {},
   "outputs": [
    {
     "data": {
      "application/vnd.plotly.v1+json": {
       "config": {
        "plotlyServerURL": "https://plot.ly"
       },
       "data": [
        {
         "name": "2020",
         "text": [
          289,
          162,
          14,
          11,
          6,
          2
         ],
         "type": "bar",
         "x": [
          "North America",
          "Europe",
          "Asia",
          "Australia",
          "South America",
          "Africa"
         ],
         "y": [
          289,
          162,
          14,
          11,
          6,
          2
         ]
        },
        {
         "name": "2022",
         "text": [
          230,
          213,
          28,
          13,
          8,
          1
         ],
         "type": "bar",
         "x": [
          "Europe",
          "North America",
          "Asia",
          "South America",
          "Australia",
          "Africa"
         ],
         "y": [
          230,
          213,
          28,
          13,
          8,
          1
         ]
        }
       ],
       "layout": {
        "font": {
         "color": "Black",
         "family": "Helvetica",
         "size": 16
        },
        "height": 500,
        "legend": {
         "font": {
          "color": "Black",
          "size": 16
         },
         "title": {
          "font": {
           "family": "Helvetica"
          }
         }
        },
        "template": {
         "data": {
          "bar": [
           {
            "error_x": {
             "color": "#2a3f5f"
            },
            "error_y": {
             "color": "#2a3f5f"
            },
            "marker": {
             "line": {
              "color": "#E5ECF6",
              "width": 0.5
             },
             "pattern": {
              "fillmode": "overlay",
              "size": 10,
              "solidity": 0.2
             }
            },
            "type": "bar"
           }
          ],
          "barpolar": [
           {
            "marker": {
             "line": {
              "color": "#E5ECF6",
              "width": 0.5
             },
             "pattern": {
              "fillmode": "overlay",
              "size": 10,
              "solidity": 0.2
             }
            },
            "type": "barpolar"
           }
          ],
          "carpet": [
           {
            "aaxis": {
             "endlinecolor": "#2a3f5f",
             "gridcolor": "white",
             "linecolor": "white",
             "minorgridcolor": "white",
             "startlinecolor": "#2a3f5f"
            },
            "baxis": {
             "endlinecolor": "#2a3f5f",
             "gridcolor": "white",
             "linecolor": "white",
             "minorgridcolor": "white",
             "startlinecolor": "#2a3f5f"
            },
            "type": "carpet"
           }
          ],
          "choropleth": [
           {
            "colorbar": {
             "outlinewidth": 0,
             "ticks": ""
            },
            "type": "choropleth"
           }
          ],
          "contour": [
           {
            "colorbar": {
             "outlinewidth": 0,
             "ticks": ""
            },
            "colorscale": [
             [
              0,
              "#0d0887"
             ],
             [
              0.1111111111111111,
              "#46039f"
             ],
             [
              0.2222222222222222,
              "#7201a8"
             ],
             [
              0.3333333333333333,
              "#9c179e"
             ],
             [
              0.4444444444444444,
              "#bd3786"
             ],
             [
              0.5555555555555556,
              "#d8576b"
             ],
             [
              0.6666666666666666,
              "#ed7953"
             ],
             [
              0.7777777777777778,
              "#fb9f3a"
             ],
             [
              0.8888888888888888,
              "#fdca26"
             ],
             [
              1,
              "#f0f921"
             ]
            ],
            "type": "contour"
           }
          ],
          "contourcarpet": [
           {
            "colorbar": {
             "outlinewidth": 0,
             "ticks": ""
            },
            "type": "contourcarpet"
           }
          ],
          "heatmap": [
           {
            "colorbar": {
             "outlinewidth": 0,
             "ticks": ""
            },
            "colorscale": [
             [
              0,
              "#0d0887"
             ],
             [
              0.1111111111111111,
              "#46039f"
             ],
             [
              0.2222222222222222,
              "#7201a8"
             ],
             [
              0.3333333333333333,
              "#9c179e"
             ],
             [
              0.4444444444444444,
              "#bd3786"
             ],
             [
              0.5555555555555556,
              "#d8576b"
             ],
             [
              0.6666666666666666,
              "#ed7953"
             ],
             [
              0.7777777777777778,
              "#fb9f3a"
             ],
             [
              0.8888888888888888,
              "#fdca26"
             ],
             [
              1,
              "#f0f921"
             ]
            ],
            "type": "heatmap"
           }
          ],
          "heatmapgl": [
           {
            "colorbar": {
             "outlinewidth": 0,
             "ticks": ""
            },
            "colorscale": [
             [
              0,
              "#0d0887"
             ],
             [
              0.1111111111111111,
              "#46039f"
             ],
             [
              0.2222222222222222,
              "#7201a8"
             ],
             [
              0.3333333333333333,
              "#9c179e"
             ],
             [
              0.4444444444444444,
              "#bd3786"
             ],
             [
              0.5555555555555556,
              "#d8576b"
             ],
             [
              0.6666666666666666,
              "#ed7953"
             ],
             [
              0.7777777777777778,
              "#fb9f3a"
             ],
             [
              0.8888888888888888,
              "#fdca26"
             ],
             [
              1,
              "#f0f921"
             ]
            ],
            "type": "heatmapgl"
           }
          ],
          "histogram": [
           {
            "marker": {
             "pattern": {
              "fillmode": "overlay",
              "size": 10,
              "solidity": 0.2
             }
            },
            "type": "histogram"
           }
          ],
          "histogram2d": [
           {
            "colorbar": {
             "outlinewidth": 0,
             "ticks": ""
            },
            "colorscale": [
             [
              0,
              "#0d0887"
             ],
             [
              0.1111111111111111,
              "#46039f"
             ],
             [
              0.2222222222222222,
              "#7201a8"
             ],
             [
              0.3333333333333333,
              "#9c179e"
             ],
             [
              0.4444444444444444,
              "#bd3786"
             ],
             [
              0.5555555555555556,
              "#d8576b"
             ],
             [
              0.6666666666666666,
              "#ed7953"
             ],
             [
              0.7777777777777778,
              "#fb9f3a"
             ],
             [
              0.8888888888888888,
              "#fdca26"
             ],
             [
              1,
              "#f0f921"
             ]
            ],
            "type": "histogram2d"
           }
          ],
          "histogram2dcontour": [
           {
            "colorbar": {
             "outlinewidth": 0,
             "ticks": ""
            },
            "colorscale": [
             [
              0,
              "#0d0887"
             ],
             [
              0.1111111111111111,
              "#46039f"
             ],
             [
              0.2222222222222222,
              "#7201a8"
             ],
             [
              0.3333333333333333,
              "#9c179e"
             ],
             [
              0.4444444444444444,
              "#bd3786"
             ],
             [
              0.5555555555555556,
              "#d8576b"
             ],
             [
              0.6666666666666666,
              "#ed7953"
             ],
             [
              0.7777777777777778,
              "#fb9f3a"
             ],
             [
              0.8888888888888888,
              "#fdca26"
             ],
             [
              1,
              "#f0f921"
             ]
            ],
            "type": "histogram2dcontour"
           }
          ],
          "mesh3d": [
           {
            "colorbar": {
             "outlinewidth": 0,
             "ticks": ""
            },
            "type": "mesh3d"
           }
          ],
          "parcoords": [
           {
            "line": {
             "colorbar": {
              "outlinewidth": 0,
              "ticks": ""
             }
            },
            "type": "parcoords"
           }
          ],
          "pie": [
           {
            "automargin": true,
            "type": "pie"
           }
          ],
          "scatter": [
           {
            "fillpattern": {
             "fillmode": "overlay",
             "size": 10,
             "solidity": 0.2
            },
            "type": "scatter"
           }
          ],
          "scatter3d": [
           {
            "line": {
             "colorbar": {
              "outlinewidth": 0,
              "ticks": ""
             }
            },
            "marker": {
             "colorbar": {
              "outlinewidth": 0,
              "ticks": ""
             }
            },
            "type": "scatter3d"
           }
          ],
          "scattercarpet": [
           {
            "marker": {
             "colorbar": {
              "outlinewidth": 0,
              "ticks": ""
             }
            },
            "type": "scattercarpet"
           }
          ],
          "scattergeo": [
           {
            "marker": {
             "colorbar": {
              "outlinewidth": 0,
              "ticks": ""
             }
            },
            "type": "scattergeo"
           }
          ],
          "scattergl": [
           {
            "marker": {
             "colorbar": {
              "outlinewidth": 0,
              "ticks": ""
             }
            },
            "type": "scattergl"
           }
          ],
          "scattermapbox": [
           {
            "marker": {
             "colorbar": {
              "outlinewidth": 0,
              "ticks": ""
             }
            },
            "type": "scattermapbox"
           }
          ],
          "scatterpolar": [
           {
            "marker": {
             "colorbar": {
              "outlinewidth": 0,
              "ticks": ""
             }
            },
            "type": "scatterpolar"
           }
          ],
          "scatterpolargl": [
           {
            "marker": {
             "colorbar": {
              "outlinewidth": 0,
              "ticks": ""
             }
            },
            "type": "scatterpolargl"
           }
          ],
          "scatterternary": [
           {
            "marker": {
             "colorbar": {
              "outlinewidth": 0,
              "ticks": ""
             }
            },
            "type": "scatterternary"
           }
          ],
          "surface": [
           {
            "colorbar": {
             "outlinewidth": 0,
             "ticks": ""
            },
            "colorscale": [
             [
              0,
              "#0d0887"
             ],
             [
              0.1111111111111111,
              "#46039f"
             ],
             [
              0.2222222222222222,
              "#7201a8"
             ],
             [
              0.3333333333333333,
              "#9c179e"
             ],
             [
              0.4444444444444444,
              "#bd3786"
             ],
             [
              0.5555555555555556,
              "#d8576b"
             ],
             [
              0.6666666666666666,
              "#ed7953"
             ],
             [
              0.7777777777777778,
              "#fb9f3a"
             ],
             [
              0.8888888888888888,
              "#fdca26"
             ],
             [
              1,
              "#f0f921"
             ]
            ],
            "type": "surface"
           }
          ],
          "table": [
           {
            "cells": {
             "fill": {
              "color": "#EBF0F8"
             },
             "line": {
              "color": "white"
             }
            },
            "header": {
             "fill": {
              "color": "#C8D4E3"
             },
             "line": {
              "color": "white"
             }
            },
            "type": "table"
           }
          ]
         },
         "layout": {
          "annotationdefaults": {
           "arrowcolor": "#2a3f5f",
           "arrowhead": 0,
           "arrowwidth": 1
          },
          "autotypenumbers": "strict",
          "coloraxis": {
           "colorbar": {
            "outlinewidth": 0,
            "ticks": ""
           }
          },
          "colorscale": {
           "diverging": [
            [
             0,
             "#8e0152"
            ],
            [
             0.1,
             "#c51b7d"
            ],
            [
             0.2,
             "#de77ae"
            ],
            [
             0.3,
             "#f1b6da"
            ],
            [
             0.4,
             "#fde0ef"
            ],
            [
             0.5,
             "#f7f7f7"
            ],
            [
             0.6,
             "#e6f5d0"
            ],
            [
             0.7,
             "#b8e186"
            ],
            [
             0.8,
             "#7fbc41"
            ],
            [
             0.9,
             "#4d9221"
            ],
            [
             1,
             "#276419"
            ]
           ],
           "sequential": [
            [
             0,
             "#0d0887"
            ],
            [
             0.1111111111111111,
             "#46039f"
            ],
            [
             0.2222222222222222,
             "#7201a8"
            ],
            [
             0.3333333333333333,
             "#9c179e"
            ],
            [
             0.4444444444444444,
             "#bd3786"
            ],
            [
             0.5555555555555556,
             "#d8576b"
            ],
            [
             0.6666666666666666,
             "#ed7953"
            ],
            [
             0.7777777777777778,
             "#fb9f3a"
            ],
            [
             0.8888888888888888,
             "#fdca26"
            ],
            [
             1,
             "#f0f921"
            ]
           ],
           "sequentialminus": [
            [
             0,
             "#0d0887"
            ],
            [
             0.1111111111111111,
             "#46039f"
            ],
            [
             0.2222222222222222,
             "#7201a8"
            ],
            [
             0.3333333333333333,
             "#9c179e"
            ],
            [
             0.4444444444444444,
             "#bd3786"
            ],
            [
             0.5555555555555556,
             "#d8576b"
            ],
            [
             0.6666666666666666,
             "#ed7953"
            ],
            [
             0.7777777777777778,
             "#fb9f3a"
            ],
            [
             0.8888888888888888,
             "#fdca26"
            ],
            [
             1,
             "#f0f921"
            ]
           ]
          },
          "colorway": [
           "#636efa",
           "#EF553B",
           "#00cc96",
           "#ab63fa",
           "#FFA15A",
           "#19d3f3",
           "#FF6692",
           "#B6E880",
           "#FF97FF",
           "#FECB52"
          ],
          "font": {
           "color": "#2a3f5f"
          },
          "geo": {
           "bgcolor": "white",
           "lakecolor": "white",
           "landcolor": "#E5ECF6",
           "showlakes": true,
           "showland": true,
           "subunitcolor": "white"
          },
          "hoverlabel": {
           "align": "left"
          },
          "hovermode": "closest",
          "mapbox": {
           "style": "light"
          },
          "paper_bgcolor": "white",
          "plot_bgcolor": "#E5ECF6",
          "polar": {
           "angularaxis": {
            "gridcolor": "white",
            "linecolor": "white",
            "ticks": ""
           },
           "bgcolor": "#E5ECF6",
           "radialaxis": {
            "gridcolor": "white",
            "linecolor": "white",
            "ticks": ""
           }
          },
          "scene": {
           "xaxis": {
            "backgroundcolor": "#E5ECF6",
            "gridcolor": "white",
            "gridwidth": 2,
            "linecolor": "white",
            "showbackground": true,
            "ticks": "",
            "zerolinecolor": "white"
           },
           "yaxis": {
            "backgroundcolor": "#E5ECF6",
            "gridcolor": "white",
            "gridwidth": 2,
            "linecolor": "white",
            "showbackground": true,
            "ticks": "",
            "zerolinecolor": "white"
           },
           "zaxis": {
            "backgroundcolor": "#E5ECF6",
            "gridcolor": "white",
            "gridwidth": 2,
            "linecolor": "white",
            "showbackground": true,
            "ticks": "",
            "zerolinecolor": "white"
           }
          },
          "shapedefaults": {
           "line": {
            "color": "#2a3f5f"
           }
          },
          "ternary": {
           "aaxis": {
            "gridcolor": "white",
            "linecolor": "white",
            "ticks": ""
           },
           "baxis": {
            "gridcolor": "white",
            "linecolor": "white",
            "ticks": ""
           },
           "bgcolor": "#E5ECF6",
           "caxis": {
            "gridcolor": "white",
            "linecolor": "white",
            "ticks": ""
           }
          },
          "title": {
           "x": 0.05
          },
          "xaxis": {
           "automargin": true,
           "gridcolor": "white",
           "linecolor": "white",
           "ticks": "",
           "title": {
            "standoff": 15
           },
           "zerolinecolor": "white",
           "zerolinewidth": 2
          },
          "yaxis": {
           "automargin": true,
           "gridcolor": "white",
           "linecolor": "white",
           "ticks": "",
           "title": {
            "standoff": 15
           },
           "zerolinecolor": "white",
           "zerolinewidth": 2
          }
         }
        },
        "title": {
         "text": "Location",
         "x": 0.5,
         "y": 0.85
        },
        "width": 500
       }
      }
     },
     "metadata": {},
     "output_type": "display_data"
    }
   ],
   "source": [
    "#location \n",
    "location_2021 = pd.read_csv('C:\\\\Users\\\\ssivagur\\\\Documents\\\\2021_Image_analysis_survey_data\\\\Where_do_you_currently_primarily_work.txt')\n",
    "location_2021= location_2021.rename(columns={'0':'location'})\n",
    "\n",
    "#combined figure\n",
    "loc = go.Figure()\n",
    "\n",
    "loc.add_traces(go.Bar(name='2020', x=location_2021['location'].value_counts().index, y=location_2021['location'].value_counts().values, text=location_2021['location'].value_counts().values))\n",
    "loc.add_traces(go.Bar(name='2022', x=data['Location'].value_counts().index, y=data['Location'].value_counts().values, text=data['Location'].value_counts().values))\n",
    "loc.update_layout(width=500, height=500, title='Location', title_x=0.5, title_y=0.85, font=dict(family='Helvetica', color=\"Black\", size=16), legend=dict(title_font_family = 'Helvetica', font=dict(size=16, color=\"Black\")))\n"
   ]
  },
  {
   "attachments": {},
   "cell_type": "markdown",
   "metadata": {},
   "source": [
    "#### Work type"
   ]
  },
  {
   "cell_type": "code",
   "execution_count": 7,
   "metadata": {},
   "outputs": [],
   "source": [
    "# work type_2021\n",
    "work_type_2021 = pd.read_csv('C:\\\\Users\\\\ssivagur\\\\Documents\\\\2021_Image_analysis_survey_data\\\\How_would_you_describe_your_work.txt')\n",
    "work_type_2021= work_type_2021.rename(columns={'0':'work_type'})\n",
    "work_type_2021.loc[work_type_2021[\"work_type\"] < 3, \"Work type\" ] = \"Imaging\"\n",
    "work_type_2021.loc[(work_type_2021[\"work_type\"] >= 3) & (work_type_2021[\"work_type\"] < 5), \"Work type\"] = \"Balanced\"\n",
    "work_type_2021.loc[work_type_2021[\"work_type\"] >= 5, \"Work type\"] = \"Analyst\"\n",
    "work_type_counts_2021 = work_type_2021[\"Work type\"].value_counts()\n",
    "work_type_counts_2021 \n",
    "#knowledge in computational skills_2021 \n",
    "comp_skill_2021 = pd.read_csv('C:\\\\Users\\\\ssivagur\\\\Documents\\\\2021_Image_analysis_survey_data\\\\How_would_you_rate_your_computational_skills.txt')\n",
    "comp_skill_2021= comp_skill_2021.rename(columns={'0':'comp_skill'})\n",
    "\n",
    "comp_skill_2021.loc[comp_skill_2021[\"comp_skill\"] < 3, \"Knowledge of computational skills\"] = \"Low skill\"\n",
    "comp_skill_2021.loc[(comp_skill_2021[\"comp_skill\"] >= 3) & (comp_skill_2021[\"comp_skill\"] < 5), \"Knowledge of computational skills\"] = \"Medium skill\"\n",
    "comp_skill_2021.loc[comp_skill_2021[\"comp_skill\"] >= 5, \"Knowledge of computational skills\"] = \"High skill\"\n",
    "computational_knowledge_2021 = comp_skill_2021[\"Knowledge of computational skills\"].value_counts()\n"
   ]
  },
  {
   "cell_type": "code",
   "execution_count": 8,
   "metadata": {},
   "outputs": [
    {
     "data": {
      "application/vnd.plotly.v1+json": {
       "config": {
        "plotlyServerURL": "https://plot.ly"
       },
       "data": [
        {
         "domain": {
          "x": [
           0,
           0.45
          ],
          "y": [
           0,
           1
          ]
         },
         "hole": 0.4,
         "hoverinfo": "label+percent+name",
         "labels": [
          "Balanced",
          "Analyst",
          "Imaging"
         ],
         "type": "pie",
         "values": [
          289,
          132,
          63
         ]
        },
        {
         "domain": {
          "x": [
           0.55,
           1
          ],
          "y": [
           0,
           1
          ]
         },
         "hole": 0.4,
         "hoverinfo": "label+percent+name",
         "labels": [
          "Balanced",
          "Analyst",
          "Imaging"
         ],
         "type": "pie",
         "values": [
          322,
          90,
          81
         ]
        }
       ],
       "layout": {
        "annotations": [
         {
          "font": {
           "size": 16
          },
          "showarrow": false,
          "text": "2020",
          "x": 0.18,
          "y": 0.5
         },
         {
          "font": {
           "size": 16
          },
          "showarrow": false,
          "text": "2022",
          "x": 0.82,
          "y": 0.5
         }
        ],
        "font": {
         "color": "Black",
         "family": "Helvetica",
         "size": 16
        },
        "height": 350,
        "legend": {
         "font": {
          "color": "Black",
          "size": 16
         },
         "title": {
          "font": {
           "family": "Helvetica"
          }
         }
        },
        "template": {
         "data": {
          "bar": [
           {
            "error_x": {
             "color": "#2a3f5f"
            },
            "error_y": {
             "color": "#2a3f5f"
            },
            "marker": {
             "line": {
              "color": "#E5ECF6",
              "width": 0.5
             },
             "pattern": {
              "fillmode": "overlay",
              "size": 10,
              "solidity": 0.2
             }
            },
            "type": "bar"
           }
          ],
          "barpolar": [
           {
            "marker": {
             "line": {
              "color": "#E5ECF6",
              "width": 0.5
             },
             "pattern": {
              "fillmode": "overlay",
              "size": 10,
              "solidity": 0.2
             }
            },
            "type": "barpolar"
           }
          ],
          "carpet": [
           {
            "aaxis": {
             "endlinecolor": "#2a3f5f",
             "gridcolor": "white",
             "linecolor": "white",
             "minorgridcolor": "white",
             "startlinecolor": "#2a3f5f"
            },
            "baxis": {
             "endlinecolor": "#2a3f5f",
             "gridcolor": "white",
             "linecolor": "white",
             "minorgridcolor": "white",
             "startlinecolor": "#2a3f5f"
            },
            "type": "carpet"
           }
          ],
          "choropleth": [
           {
            "colorbar": {
             "outlinewidth": 0,
             "ticks": ""
            },
            "type": "choropleth"
           }
          ],
          "contour": [
           {
            "colorbar": {
             "outlinewidth": 0,
             "ticks": ""
            },
            "colorscale": [
             [
              0,
              "#0d0887"
             ],
             [
              0.1111111111111111,
              "#46039f"
             ],
             [
              0.2222222222222222,
              "#7201a8"
             ],
             [
              0.3333333333333333,
              "#9c179e"
             ],
             [
              0.4444444444444444,
              "#bd3786"
             ],
             [
              0.5555555555555556,
              "#d8576b"
             ],
             [
              0.6666666666666666,
              "#ed7953"
             ],
             [
              0.7777777777777778,
              "#fb9f3a"
             ],
             [
              0.8888888888888888,
              "#fdca26"
             ],
             [
              1,
              "#f0f921"
             ]
            ],
            "type": "contour"
           }
          ],
          "contourcarpet": [
           {
            "colorbar": {
             "outlinewidth": 0,
             "ticks": ""
            },
            "type": "contourcarpet"
           }
          ],
          "heatmap": [
           {
            "colorbar": {
             "outlinewidth": 0,
             "ticks": ""
            },
            "colorscale": [
             [
              0,
              "#0d0887"
             ],
             [
              0.1111111111111111,
              "#46039f"
             ],
             [
              0.2222222222222222,
              "#7201a8"
             ],
             [
              0.3333333333333333,
              "#9c179e"
             ],
             [
              0.4444444444444444,
              "#bd3786"
             ],
             [
              0.5555555555555556,
              "#d8576b"
             ],
             [
              0.6666666666666666,
              "#ed7953"
             ],
             [
              0.7777777777777778,
              "#fb9f3a"
             ],
             [
              0.8888888888888888,
              "#fdca26"
             ],
             [
              1,
              "#f0f921"
             ]
            ],
            "type": "heatmap"
           }
          ],
          "heatmapgl": [
           {
            "colorbar": {
             "outlinewidth": 0,
             "ticks": ""
            },
            "colorscale": [
             [
              0,
              "#0d0887"
             ],
             [
              0.1111111111111111,
              "#46039f"
             ],
             [
              0.2222222222222222,
              "#7201a8"
             ],
             [
              0.3333333333333333,
              "#9c179e"
             ],
             [
              0.4444444444444444,
              "#bd3786"
             ],
             [
              0.5555555555555556,
              "#d8576b"
             ],
             [
              0.6666666666666666,
              "#ed7953"
             ],
             [
              0.7777777777777778,
              "#fb9f3a"
             ],
             [
              0.8888888888888888,
              "#fdca26"
             ],
             [
              1,
              "#f0f921"
             ]
            ],
            "type": "heatmapgl"
           }
          ],
          "histogram": [
           {
            "marker": {
             "pattern": {
              "fillmode": "overlay",
              "size": 10,
              "solidity": 0.2
             }
            },
            "type": "histogram"
           }
          ],
          "histogram2d": [
           {
            "colorbar": {
             "outlinewidth": 0,
             "ticks": ""
            },
            "colorscale": [
             [
              0,
              "#0d0887"
             ],
             [
              0.1111111111111111,
              "#46039f"
             ],
             [
              0.2222222222222222,
              "#7201a8"
             ],
             [
              0.3333333333333333,
              "#9c179e"
             ],
             [
              0.4444444444444444,
              "#bd3786"
             ],
             [
              0.5555555555555556,
              "#d8576b"
             ],
             [
              0.6666666666666666,
              "#ed7953"
             ],
             [
              0.7777777777777778,
              "#fb9f3a"
             ],
             [
              0.8888888888888888,
              "#fdca26"
             ],
             [
              1,
              "#f0f921"
             ]
            ],
            "type": "histogram2d"
           }
          ],
          "histogram2dcontour": [
           {
            "colorbar": {
             "outlinewidth": 0,
             "ticks": ""
            },
            "colorscale": [
             [
              0,
              "#0d0887"
             ],
             [
              0.1111111111111111,
              "#46039f"
             ],
             [
              0.2222222222222222,
              "#7201a8"
             ],
             [
              0.3333333333333333,
              "#9c179e"
             ],
             [
              0.4444444444444444,
              "#bd3786"
             ],
             [
              0.5555555555555556,
              "#d8576b"
             ],
             [
              0.6666666666666666,
              "#ed7953"
             ],
             [
              0.7777777777777778,
              "#fb9f3a"
             ],
             [
              0.8888888888888888,
              "#fdca26"
             ],
             [
              1,
              "#f0f921"
             ]
            ],
            "type": "histogram2dcontour"
           }
          ],
          "mesh3d": [
           {
            "colorbar": {
             "outlinewidth": 0,
             "ticks": ""
            },
            "type": "mesh3d"
           }
          ],
          "parcoords": [
           {
            "line": {
             "colorbar": {
              "outlinewidth": 0,
              "ticks": ""
             }
            },
            "type": "parcoords"
           }
          ],
          "pie": [
           {
            "automargin": true,
            "type": "pie"
           }
          ],
          "scatter": [
           {
            "fillpattern": {
             "fillmode": "overlay",
             "size": 10,
             "solidity": 0.2
            },
            "type": "scatter"
           }
          ],
          "scatter3d": [
           {
            "line": {
             "colorbar": {
              "outlinewidth": 0,
              "ticks": ""
             }
            },
            "marker": {
             "colorbar": {
              "outlinewidth": 0,
              "ticks": ""
             }
            },
            "type": "scatter3d"
           }
          ],
          "scattercarpet": [
           {
            "marker": {
             "colorbar": {
              "outlinewidth": 0,
              "ticks": ""
             }
            },
            "type": "scattercarpet"
           }
          ],
          "scattergeo": [
           {
            "marker": {
             "colorbar": {
              "outlinewidth": 0,
              "ticks": ""
             }
            },
            "type": "scattergeo"
           }
          ],
          "scattergl": [
           {
            "marker": {
             "colorbar": {
              "outlinewidth": 0,
              "ticks": ""
             }
            },
            "type": "scattergl"
           }
          ],
          "scattermapbox": [
           {
            "marker": {
             "colorbar": {
              "outlinewidth": 0,
              "ticks": ""
             }
            },
            "type": "scattermapbox"
           }
          ],
          "scatterpolar": [
           {
            "marker": {
             "colorbar": {
              "outlinewidth": 0,
              "ticks": ""
             }
            },
            "type": "scatterpolar"
           }
          ],
          "scatterpolargl": [
           {
            "marker": {
             "colorbar": {
              "outlinewidth": 0,
              "ticks": ""
             }
            },
            "type": "scatterpolargl"
           }
          ],
          "scatterternary": [
           {
            "marker": {
             "colorbar": {
              "outlinewidth": 0,
              "ticks": ""
             }
            },
            "type": "scatterternary"
           }
          ],
          "surface": [
           {
            "colorbar": {
             "outlinewidth": 0,
             "ticks": ""
            },
            "colorscale": [
             [
              0,
              "#0d0887"
             ],
             [
              0.1111111111111111,
              "#46039f"
             ],
             [
              0.2222222222222222,
              "#7201a8"
             ],
             [
              0.3333333333333333,
              "#9c179e"
             ],
             [
              0.4444444444444444,
              "#bd3786"
             ],
             [
              0.5555555555555556,
              "#d8576b"
             ],
             [
              0.6666666666666666,
              "#ed7953"
             ],
             [
              0.7777777777777778,
              "#fb9f3a"
             ],
             [
              0.8888888888888888,
              "#fdca26"
             ],
             [
              1,
              "#f0f921"
             ]
            ],
            "type": "surface"
           }
          ],
          "table": [
           {
            "cells": {
             "fill": {
              "color": "#EBF0F8"
             },
             "line": {
              "color": "white"
             }
            },
            "header": {
             "fill": {
              "color": "#C8D4E3"
             },
             "line": {
              "color": "white"
             }
            },
            "type": "table"
           }
          ]
         },
         "layout": {
          "annotationdefaults": {
           "arrowcolor": "#2a3f5f",
           "arrowhead": 0,
           "arrowwidth": 1
          },
          "autotypenumbers": "strict",
          "coloraxis": {
           "colorbar": {
            "outlinewidth": 0,
            "ticks": ""
           }
          },
          "colorscale": {
           "diverging": [
            [
             0,
             "#8e0152"
            ],
            [
             0.1,
             "#c51b7d"
            ],
            [
             0.2,
             "#de77ae"
            ],
            [
             0.3,
             "#f1b6da"
            ],
            [
             0.4,
             "#fde0ef"
            ],
            [
             0.5,
             "#f7f7f7"
            ],
            [
             0.6,
             "#e6f5d0"
            ],
            [
             0.7,
             "#b8e186"
            ],
            [
             0.8,
             "#7fbc41"
            ],
            [
             0.9,
             "#4d9221"
            ],
            [
             1,
             "#276419"
            ]
           ],
           "sequential": [
            [
             0,
             "#0d0887"
            ],
            [
             0.1111111111111111,
             "#46039f"
            ],
            [
             0.2222222222222222,
             "#7201a8"
            ],
            [
             0.3333333333333333,
             "#9c179e"
            ],
            [
             0.4444444444444444,
             "#bd3786"
            ],
            [
             0.5555555555555556,
             "#d8576b"
            ],
            [
             0.6666666666666666,
             "#ed7953"
            ],
            [
             0.7777777777777778,
             "#fb9f3a"
            ],
            [
             0.8888888888888888,
             "#fdca26"
            ],
            [
             1,
             "#f0f921"
            ]
           ],
           "sequentialminus": [
            [
             0,
             "#0d0887"
            ],
            [
             0.1111111111111111,
             "#46039f"
            ],
            [
             0.2222222222222222,
             "#7201a8"
            ],
            [
             0.3333333333333333,
             "#9c179e"
            ],
            [
             0.4444444444444444,
             "#bd3786"
            ],
            [
             0.5555555555555556,
             "#d8576b"
            ],
            [
             0.6666666666666666,
             "#ed7953"
            ],
            [
             0.7777777777777778,
             "#fb9f3a"
            ],
            [
             0.8888888888888888,
             "#fdca26"
            ],
            [
             1,
             "#f0f921"
            ]
           ]
          },
          "colorway": [
           "#636efa",
           "#EF553B",
           "#00cc96",
           "#ab63fa",
           "#FFA15A",
           "#19d3f3",
           "#FF6692",
           "#B6E880",
           "#FF97FF",
           "#FECB52"
          ],
          "font": {
           "color": "#2a3f5f"
          },
          "geo": {
           "bgcolor": "white",
           "lakecolor": "white",
           "landcolor": "#E5ECF6",
           "showlakes": true,
           "showland": true,
           "subunitcolor": "white"
          },
          "hoverlabel": {
           "align": "left"
          },
          "hovermode": "closest",
          "mapbox": {
           "style": "light"
          },
          "paper_bgcolor": "white",
          "plot_bgcolor": "#E5ECF6",
          "polar": {
           "angularaxis": {
            "gridcolor": "white",
            "linecolor": "white",
            "ticks": ""
           },
           "bgcolor": "#E5ECF6",
           "radialaxis": {
            "gridcolor": "white",
            "linecolor": "white",
            "ticks": ""
           }
          },
          "scene": {
           "xaxis": {
            "backgroundcolor": "#E5ECF6",
            "gridcolor": "white",
            "gridwidth": 2,
            "linecolor": "white",
            "showbackground": true,
            "ticks": "",
            "zerolinecolor": "white"
           },
           "yaxis": {
            "backgroundcolor": "#E5ECF6",
            "gridcolor": "white",
            "gridwidth": 2,
            "linecolor": "white",
            "showbackground": true,
            "ticks": "",
            "zerolinecolor": "white"
           },
           "zaxis": {
            "backgroundcolor": "#E5ECF6",
            "gridcolor": "white",
            "gridwidth": 2,
            "linecolor": "white",
            "showbackground": true,
            "ticks": "",
            "zerolinecolor": "white"
           }
          },
          "shapedefaults": {
           "line": {
            "color": "#2a3f5f"
           }
          },
          "ternary": {
           "aaxis": {
            "gridcolor": "white",
            "linecolor": "white",
            "ticks": ""
           },
           "baxis": {
            "gridcolor": "white",
            "linecolor": "white",
            "ticks": ""
           },
           "bgcolor": "#E5ECF6",
           "caxis": {
            "gridcolor": "white",
            "linecolor": "white",
            "ticks": ""
           }
          },
          "title": {
           "x": 0.05
          },
          "xaxis": {
           "automargin": true,
           "gridcolor": "white",
           "linecolor": "white",
           "ticks": "",
           "title": {
            "standoff": 15
           },
           "zerolinecolor": "white",
           "zerolinewidth": 2
          },
          "yaxis": {
           "automargin": true,
           "gridcolor": "white",
           "linecolor": "white",
           "ticks": "",
           "title": {
            "standoff": 15
           },
           "zerolinecolor": "white",
           "zerolinewidth": 2
          }
         }
        },
        "title": {
         "text": "Work type",
         "x": 0.5,
         "y": 0.8
        },
        "width": 600
       }
      }
     },
     "metadata": {},
     "output_type": "display_data"
    }
   ],
   "source": [
    "%store -r work_type_counts\n",
    "# comparing 2021 and 2022 work type\n",
    "work_21_22 = go.Figure()\n",
    "\n",
    "work_21_22.add_trace(go.Bar(name=2020, x=work_type_counts_2021.index, y=work_type_counts_2021.values, text=work_type_counts_2021.values))\n",
    "work_21_22.add_trace(go.Bar(name=2022, x=work_type_counts.index , y=work_type_counts.values, text=work_type_counts.values))\n",
    "\n",
    "work_21_22.update_layout(title = 'Work type', title_x=0.5, width=400, height=400, font=dict(family='Helvetica', color=\"Black\", size=16), legend=dict(title_font_family = 'Helvetica', font=dict(size=16, color=\"Black\")))\n",
    "# comparing 2021 and 2022 work type and comp skill in percentage\n",
    "from plotly.subplots import make_subplots\n",
    "\n",
    "work_21_22_percent= go.Figure()\n",
    "work_21_22_percent = make_subplots(rows=1, cols=2, specs=[[{'type':'domain'}, {'type':'domain'}]])\n",
    "\n",
    "work_21_22_percent.add_trace(go.Pie(labels=work_type_counts_2021.index, values=work_type_counts_2021.values), 1,1)\n",
    "work_21_22_percent.add_trace(go.Pie(labels = work_type_counts.index , values=work_type_counts.values),1,2)\n",
    "work_21_22_percent.update_traces(hole=.4, hoverinfo=\"label+percent+name\")\n",
    "work_21_22_percent.update_layout(title_x=0.5, title_y=0.80, title_text=\"Work type\", annotations=[dict(text='2020', x=0.18, y=0.5, font_size=16, showarrow=False),dict(text='2022', x=0.82, y=0.5, font_size=16, showarrow=False)])\n",
    "work_21_22_percent.update_layout(font=dict(family='Helvetica', color=\"Black\", size=16), legend=dict(title_font_family = 'Helvetica', font=dict(size=16, color=\"Black\")))\n",
    "work_21_22_percent.update_layout(width=600, height=350)\n"
   ]
  },
  {
   "attachments": {},
   "cell_type": "markdown",
   "metadata": {},
   "source": [
    "#### Computational knowledge"
   ]
  },
  {
   "cell_type": "code",
   "execution_count": 47,
   "metadata": {},
   "outputs": [
    {
     "data": {
      "application/vnd.plotly.v1+json": {
       "config": {
        "plotlyServerURL": "https://plot.ly"
       },
       "data": [
        {
         "name": "2020",
         "text": [
          238,
          181,
          65
         ],
         "type": "bar",
         "x": [
          "High skill",
          "Medium skill",
          "Low skill"
         ],
         "y": [
          238,
          181,
          65
         ]
        },
        {
         "name": "2022",
         "text": [
          323,
          104,
          66
         ],
         "type": "bar",
         "x": [
          "Medium skill",
          "High skill",
          "Low skill"
         ],
         "y": [
          323,
          104,
          66
         ]
        }
       ],
       "layout": {
        "font": {
         "color": "Black",
         "family": "Helvetica",
         "size": 16
        },
        "height": 400,
        "legend": {
         "font": {
          "color": "Black",
          "size": 16
         },
         "title": {
          "font": {
           "family": "Helvetica"
          }
         }
        },
        "template": {
         "data": {
          "bar": [
           {
            "error_x": {
             "color": "#2a3f5f"
            },
            "error_y": {
             "color": "#2a3f5f"
            },
            "marker": {
             "line": {
              "color": "#E5ECF6",
              "width": 0.5
             },
             "pattern": {
              "fillmode": "overlay",
              "size": 10,
              "solidity": 0.2
             }
            },
            "type": "bar"
           }
          ],
          "barpolar": [
           {
            "marker": {
             "line": {
              "color": "#E5ECF6",
              "width": 0.5
             },
             "pattern": {
              "fillmode": "overlay",
              "size": 10,
              "solidity": 0.2
             }
            },
            "type": "barpolar"
           }
          ],
          "carpet": [
           {
            "aaxis": {
             "endlinecolor": "#2a3f5f",
             "gridcolor": "white",
             "linecolor": "white",
             "minorgridcolor": "white",
             "startlinecolor": "#2a3f5f"
            },
            "baxis": {
             "endlinecolor": "#2a3f5f",
             "gridcolor": "white",
             "linecolor": "white",
             "minorgridcolor": "white",
             "startlinecolor": "#2a3f5f"
            },
            "type": "carpet"
           }
          ],
          "choropleth": [
           {
            "colorbar": {
             "outlinewidth": 0,
             "ticks": ""
            },
            "type": "choropleth"
           }
          ],
          "contour": [
           {
            "colorbar": {
             "outlinewidth": 0,
             "ticks": ""
            },
            "colorscale": [
             [
              0,
              "#0d0887"
             ],
             [
              0.1111111111111111,
              "#46039f"
             ],
             [
              0.2222222222222222,
              "#7201a8"
             ],
             [
              0.3333333333333333,
              "#9c179e"
             ],
             [
              0.4444444444444444,
              "#bd3786"
             ],
             [
              0.5555555555555556,
              "#d8576b"
             ],
             [
              0.6666666666666666,
              "#ed7953"
             ],
             [
              0.7777777777777778,
              "#fb9f3a"
             ],
             [
              0.8888888888888888,
              "#fdca26"
             ],
             [
              1,
              "#f0f921"
             ]
            ],
            "type": "contour"
           }
          ],
          "contourcarpet": [
           {
            "colorbar": {
             "outlinewidth": 0,
             "ticks": ""
            },
            "type": "contourcarpet"
           }
          ],
          "heatmap": [
           {
            "colorbar": {
             "outlinewidth": 0,
             "ticks": ""
            },
            "colorscale": [
             [
              0,
              "#0d0887"
             ],
             [
              0.1111111111111111,
              "#46039f"
             ],
             [
              0.2222222222222222,
              "#7201a8"
             ],
             [
              0.3333333333333333,
              "#9c179e"
             ],
             [
              0.4444444444444444,
              "#bd3786"
             ],
             [
              0.5555555555555556,
              "#d8576b"
             ],
             [
              0.6666666666666666,
              "#ed7953"
             ],
             [
              0.7777777777777778,
              "#fb9f3a"
             ],
             [
              0.8888888888888888,
              "#fdca26"
             ],
             [
              1,
              "#f0f921"
             ]
            ],
            "type": "heatmap"
           }
          ],
          "heatmapgl": [
           {
            "colorbar": {
             "outlinewidth": 0,
             "ticks": ""
            },
            "colorscale": [
             [
              0,
              "#0d0887"
             ],
             [
              0.1111111111111111,
              "#46039f"
             ],
             [
              0.2222222222222222,
              "#7201a8"
             ],
             [
              0.3333333333333333,
              "#9c179e"
             ],
             [
              0.4444444444444444,
              "#bd3786"
             ],
             [
              0.5555555555555556,
              "#d8576b"
             ],
             [
              0.6666666666666666,
              "#ed7953"
             ],
             [
              0.7777777777777778,
              "#fb9f3a"
             ],
             [
              0.8888888888888888,
              "#fdca26"
             ],
             [
              1,
              "#f0f921"
             ]
            ],
            "type": "heatmapgl"
           }
          ],
          "histogram": [
           {
            "marker": {
             "pattern": {
              "fillmode": "overlay",
              "size": 10,
              "solidity": 0.2
             }
            },
            "type": "histogram"
           }
          ],
          "histogram2d": [
           {
            "colorbar": {
             "outlinewidth": 0,
             "ticks": ""
            },
            "colorscale": [
             [
              0,
              "#0d0887"
             ],
             [
              0.1111111111111111,
              "#46039f"
             ],
             [
              0.2222222222222222,
              "#7201a8"
             ],
             [
              0.3333333333333333,
              "#9c179e"
             ],
             [
              0.4444444444444444,
              "#bd3786"
             ],
             [
              0.5555555555555556,
              "#d8576b"
             ],
             [
              0.6666666666666666,
              "#ed7953"
             ],
             [
              0.7777777777777778,
              "#fb9f3a"
             ],
             [
              0.8888888888888888,
              "#fdca26"
             ],
             [
              1,
              "#f0f921"
             ]
            ],
            "type": "histogram2d"
           }
          ],
          "histogram2dcontour": [
           {
            "colorbar": {
             "outlinewidth": 0,
             "ticks": ""
            },
            "colorscale": [
             [
              0,
              "#0d0887"
             ],
             [
              0.1111111111111111,
              "#46039f"
             ],
             [
              0.2222222222222222,
              "#7201a8"
             ],
             [
              0.3333333333333333,
              "#9c179e"
             ],
             [
              0.4444444444444444,
              "#bd3786"
             ],
             [
              0.5555555555555556,
              "#d8576b"
             ],
             [
              0.6666666666666666,
              "#ed7953"
             ],
             [
              0.7777777777777778,
              "#fb9f3a"
             ],
             [
              0.8888888888888888,
              "#fdca26"
             ],
             [
              1,
              "#f0f921"
             ]
            ],
            "type": "histogram2dcontour"
           }
          ],
          "mesh3d": [
           {
            "colorbar": {
             "outlinewidth": 0,
             "ticks": ""
            },
            "type": "mesh3d"
           }
          ],
          "parcoords": [
           {
            "line": {
             "colorbar": {
              "outlinewidth": 0,
              "ticks": ""
             }
            },
            "type": "parcoords"
           }
          ],
          "pie": [
           {
            "automargin": true,
            "type": "pie"
           }
          ],
          "scatter": [
           {
            "fillpattern": {
             "fillmode": "overlay",
             "size": 10,
             "solidity": 0.2
            },
            "type": "scatter"
           }
          ],
          "scatter3d": [
           {
            "line": {
             "colorbar": {
              "outlinewidth": 0,
              "ticks": ""
             }
            },
            "marker": {
             "colorbar": {
              "outlinewidth": 0,
              "ticks": ""
             }
            },
            "type": "scatter3d"
           }
          ],
          "scattercarpet": [
           {
            "marker": {
             "colorbar": {
              "outlinewidth": 0,
              "ticks": ""
             }
            },
            "type": "scattercarpet"
           }
          ],
          "scattergeo": [
           {
            "marker": {
             "colorbar": {
              "outlinewidth": 0,
              "ticks": ""
             }
            },
            "type": "scattergeo"
           }
          ],
          "scattergl": [
           {
            "marker": {
             "colorbar": {
              "outlinewidth": 0,
              "ticks": ""
             }
            },
            "type": "scattergl"
           }
          ],
          "scattermapbox": [
           {
            "marker": {
             "colorbar": {
              "outlinewidth": 0,
              "ticks": ""
             }
            },
            "type": "scattermapbox"
           }
          ],
          "scatterpolar": [
           {
            "marker": {
             "colorbar": {
              "outlinewidth": 0,
              "ticks": ""
             }
            },
            "type": "scatterpolar"
           }
          ],
          "scatterpolargl": [
           {
            "marker": {
             "colorbar": {
              "outlinewidth": 0,
              "ticks": ""
             }
            },
            "type": "scatterpolargl"
           }
          ],
          "scatterternary": [
           {
            "marker": {
             "colorbar": {
              "outlinewidth": 0,
              "ticks": ""
             }
            },
            "type": "scatterternary"
           }
          ],
          "surface": [
           {
            "colorbar": {
             "outlinewidth": 0,
             "ticks": ""
            },
            "colorscale": [
             [
              0,
              "#0d0887"
             ],
             [
              0.1111111111111111,
              "#46039f"
             ],
             [
              0.2222222222222222,
              "#7201a8"
             ],
             [
              0.3333333333333333,
              "#9c179e"
             ],
             [
              0.4444444444444444,
              "#bd3786"
             ],
             [
              0.5555555555555556,
              "#d8576b"
             ],
             [
              0.6666666666666666,
              "#ed7953"
             ],
             [
              0.7777777777777778,
              "#fb9f3a"
             ],
             [
              0.8888888888888888,
              "#fdca26"
             ],
             [
              1,
              "#f0f921"
             ]
            ],
            "type": "surface"
           }
          ],
          "table": [
           {
            "cells": {
             "fill": {
              "color": "#EBF0F8"
             },
             "line": {
              "color": "white"
             }
            },
            "header": {
             "fill": {
              "color": "#C8D4E3"
             },
             "line": {
              "color": "white"
             }
            },
            "type": "table"
           }
          ]
         },
         "layout": {
          "annotationdefaults": {
           "arrowcolor": "#2a3f5f",
           "arrowhead": 0,
           "arrowwidth": 1
          },
          "autotypenumbers": "strict",
          "coloraxis": {
           "colorbar": {
            "outlinewidth": 0,
            "ticks": ""
           }
          },
          "colorscale": {
           "diverging": [
            [
             0,
             "#8e0152"
            ],
            [
             0.1,
             "#c51b7d"
            ],
            [
             0.2,
             "#de77ae"
            ],
            [
             0.3,
             "#f1b6da"
            ],
            [
             0.4,
             "#fde0ef"
            ],
            [
             0.5,
             "#f7f7f7"
            ],
            [
             0.6,
             "#e6f5d0"
            ],
            [
             0.7,
             "#b8e186"
            ],
            [
             0.8,
             "#7fbc41"
            ],
            [
             0.9,
             "#4d9221"
            ],
            [
             1,
             "#276419"
            ]
           ],
           "sequential": [
            [
             0,
             "#0d0887"
            ],
            [
             0.1111111111111111,
             "#46039f"
            ],
            [
             0.2222222222222222,
             "#7201a8"
            ],
            [
             0.3333333333333333,
             "#9c179e"
            ],
            [
             0.4444444444444444,
             "#bd3786"
            ],
            [
             0.5555555555555556,
             "#d8576b"
            ],
            [
             0.6666666666666666,
             "#ed7953"
            ],
            [
             0.7777777777777778,
             "#fb9f3a"
            ],
            [
             0.8888888888888888,
             "#fdca26"
            ],
            [
             1,
             "#f0f921"
            ]
           ],
           "sequentialminus": [
            [
             0,
             "#0d0887"
            ],
            [
             0.1111111111111111,
             "#46039f"
            ],
            [
             0.2222222222222222,
             "#7201a8"
            ],
            [
             0.3333333333333333,
             "#9c179e"
            ],
            [
             0.4444444444444444,
             "#bd3786"
            ],
            [
             0.5555555555555556,
             "#d8576b"
            ],
            [
             0.6666666666666666,
             "#ed7953"
            ],
            [
             0.7777777777777778,
             "#fb9f3a"
            ],
            [
             0.8888888888888888,
             "#fdca26"
            ],
            [
             1,
             "#f0f921"
            ]
           ]
          },
          "colorway": [
           "#636efa",
           "#EF553B",
           "#00cc96",
           "#ab63fa",
           "#FFA15A",
           "#19d3f3",
           "#FF6692",
           "#B6E880",
           "#FF97FF",
           "#FECB52"
          ],
          "font": {
           "color": "#2a3f5f"
          },
          "geo": {
           "bgcolor": "white",
           "lakecolor": "white",
           "landcolor": "#E5ECF6",
           "showlakes": true,
           "showland": true,
           "subunitcolor": "white"
          },
          "hoverlabel": {
           "align": "left"
          },
          "hovermode": "closest",
          "mapbox": {
           "style": "light"
          },
          "paper_bgcolor": "white",
          "plot_bgcolor": "#E5ECF6",
          "polar": {
           "angularaxis": {
            "gridcolor": "white",
            "linecolor": "white",
            "ticks": ""
           },
           "bgcolor": "#E5ECF6",
           "radialaxis": {
            "gridcolor": "white",
            "linecolor": "white",
            "ticks": ""
           }
          },
          "scene": {
           "xaxis": {
            "backgroundcolor": "#E5ECF6",
            "gridcolor": "white",
            "gridwidth": 2,
            "linecolor": "white",
            "showbackground": true,
            "ticks": "",
            "zerolinecolor": "white"
           },
           "yaxis": {
            "backgroundcolor": "#E5ECF6",
            "gridcolor": "white",
            "gridwidth": 2,
            "linecolor": "white",
            "showbackground": true,
            "ticks": "",
            "zerolinecolor": "white"
           },
           "zaxis": {
            "backgroundcolor": "#E5ECF6",
            "gridcolor": "white",
            "gridwidth": 2,
            "linecolor": "white",
            "showbackground": true,
            "ticks": "",
            "zerolinecolor": "white"
           }
          },
          "shapedefaults": {
           "line": {
            "color": "#2a3f5f"
           }
          },
          "ternary": {
           "aaxis": {
            "gridcolor": "white",
            "linecolor": "white",
            "ticks": ""
           },
           "baxis": {
            "gridcolor": "white",
            "linecolor": "white",
            "ticks": ""
           },
           "bgcolor": "#E5ECF6",
           "caxis": {
            "gridcolor": "white",
            "linecolor": "white",
            "ticks": ""
           }
          },
          "title": {
           "x": 0.05
          },
          "xaxis": {
           "automargin": true,
           "gridcolor": "white",
           "linecolor": "white",
           "ticks": "",
           "title": {
            "standoff": 15
           },
           "zerolinecolor": "white",
           "zerolinewidth": 2
          },
          "yaxis": {
           "automargin": true,
           "gridcolor": "white",
           "linecolor": "white",
           "ticks": "",
           "title": {
            "standoff": 15
           },
           "zerolinecolor": "white",
           "zerolinewidth": 2
          }
         }
        },
        "title": {
         "text": "Computational knowledge",
         "x": 0.5
        },
        "width": 400
       }
      }
     },
     "metadata": {},
     "output_type": "display_data"
    }
   ],
   "source": [
    "%store -r computational_knowledge\n",
    "# comparing 2021 and 2022 comp skill\n",
    "comp_skill_21_22 = go.Figure()\n",
    "\n",
    "comp_skill_21_22.add_trace(go.Bar(name=2020, x= computational_knowledge_2021.index, y=computational_knowledge_2021.values, text=computational_knowledge_2021.values))\n",
    "comp_skill_21_22.add_trace(go.Bar(name=2022, x=computational_knowledge.index , y=computational_knowledge.values, text=computational_knowledge.values))\n",
    "\n",
    "comp_skill_21_22.update_layout(title = 'Computational knowledge', title_x=0.5, width=400, height=400, font=dict(family='Helvetica', color=\"Black\", size=16), legend=dict(title_font_family = 'Helvetica', font=dict(size=16, color=\"Black\")))\n"
   ]
  },
  {
   "cell_type": "code",
   "execution_count": 48,
   "metadata": {},
   "outputs": [
    {
     "data": {
      "application/vnd.plotly.v1+json": {
       "config": {
        "plotlyServerURL": "https://plot.ly"
       },
       "data": [
        {
         "name": "2020",
         "text": [
          296,
          122,
          66
         ],
         "type": "bar",
         "x": [
          "High comfort",
          "Medium comfort",
          "Low comfort"
         ],
         "y": [
          296,
          122,
          66
         ]
        },
        {
         "name": "2022",
         "text": [
          241,
          184,
          68
         ],
         "type": "bar",
         "x": [
          "Medium comfort",
          "High comfort",
          "Low comfort"
         ],
         "y": [
          241,
          184,
          68
         ]
        }
       ],
       "layout": {
        "font": {
         "color": "Black",
         "family": "Helvetica",
         "size": 14
        },
        "height": 400,
        "legend": {
         "font": {
          "color": "Black",
          "size": 16
         },
         "title": {
          "font": {
           "family": "Helvetica"
          }
         }
        },
        "template": {
         "data": {
          "bar": [
           {
            "error_x": {
             "color": "#2a3f5f"
            },
            "error_y": {
             "color": "#2a3f5f"
            },
            "marker": {
             "line": {
              "color": "#E5ECF6",
              "width": 0.5
             },
             "pattern": {
              "fillmode": "overlay",
              "size": 10,
              "solidity": 0.2
             }
            },
            "type": "bar"
           }
          ],
          "barpolar": [
           {
            "marker": {
             "line": {
              "color": "#E5ECF6",
              "width": 0.5
             },
             "pattern": {
              "fillmode": "overlay",
              "size": 10,
              "solidity": 0.2
             }
            },
            "type": "barpolar"
           }
          ],
          "carpet": [
           {
            "aaxis": {
             "endlinecolor": "#2a3f5f",
             "gridcolor": "white",
             "linecolor": "white",
             "minorgridcolor": "white",
             "startlinecolor": "#2a3f5f"
            },
            "baxis": {
             "endlinecolor": "#2a3f5f",
             "gridcolor": "white",
             "linecolor": "white",
             "minorgridcolor": "white",
             "startlinecolor": "#2a3f5f"
            },
            "type": "carpet"
           }
          ],
          "choropleth": [
           {
            "colorbar": {
             "outlinewidth": 0,
             "ticks": ""
            },
            "type": "choropleth"
           }
          ],
          "contour": [
           {
            "colorbar": {
             "outlinewidth": 0,
             "ticks": ""
            },
            "colorscale": [
             [
              0,
              "#0d0887"
             ],
             [
              0.1111111111111111,
              "#46039f"
             ],
             [
              0.2222222222222222,
              "#7201a8"
             ],
             [
              0.3333333333333333,
              "#9c179e"
             ],
             [
              0.4444444444444444,
              "#bd3786"
             ],
             [
              0.5555555555555556,
              "#d8576b"
             ],
             [
              0.6666666666666666,
              "#ed7953"
             ],
             [
              0.7777777777777778,
              "#fb9f3a"
             ],
             [
              0.8888888888888888,
              "#fdca26"
             ],
             [
              1,
              "#f0f921"
             ]
            ],
            "type": "contour"
           }
          ],
          "contourcarpet": [
           {
            "colorbar": {
             "outlinewidth": 0,
             "ticks": ""
            },
            "type": "contourcarpet"
           }
          ],
          "heatmap": [
           {
            "colorbar": {
             "outlinewidth": 0,
             "ticks": ""
            },
            "colorscale": [
             [
              0,
              "#0d0887"
             ],
             [
              0.1111111111111111,
              "#46039f"
             ],
             [
              0.2222222222222222,
              "#7201a8"
             ],
             [
              0.3333333333333333,
              "#9c179e"
             ],
             [
              0.4444444444444444,
              "#bd3786"
             ],
             [
              0.5555555555555556,
              "#d8576b"
             ],
             [
              0.6666666666666666,
              "#ed7953"
             ],
             [
              0.7777777777777778,
              "#fb9f3a"
             ],
             [
              0.8888888888888888,
              "#fdca26"
             ],
             [
              1,
              "#f0f921"
             ]
            ],
            "type": "heatmap"
           }
          ],
          "heatmapgl": [
           {
            "colorbar": {
             "outlinewidth": 0,
             "ticks": ""
            },
            "colorscale": [
             [
              0,
              "#0d0887"
             ],
             [
              0.1111111111111111,
              "#46039f"
             ],
             [
              0.2222222222222222,
              "#7201a8"
             ],
             [
              0.3333333333333333,
              "#9c179e"
             ],
             [
              0.4444444444444444,
              "#bd3786"
             ],
             [
              0.5555555555555556,
              "#d8576b"
             ],
             [
              0.6666666666666666,
              "#ed7953"
             ],
             [
              0.7777777777777778,
              "#fb9f3a"
             ],
             [
              0.8888888888888888,
              "#fdca26"
             ],
             [
              1,
              "#f0f921"
             ]
            ],
            "type": "heatmapgl"
           }
          ],
          "histogram": [
           {
            "marker": {
             "pattern": {
              "fillmode": "overlay",
              "size": 10,
              "solidity": 0.2
             }
            },
            "type": "histogram"
           }
          ],
          "histogram2d": [
           {
            "colorbar": {
             "outlinewidth": 0,
             "ticks": ""
            },
            "colorscale": [
             [
              0,
              "#0d0887"
             ],
             [
              0.1111111111111111,
              "#46039f"
             ],
             [
              0.2222222222222222,
              "#7201a8"
             ],
             [
              0.3333333333333333,
              "#9c179e"
             ],
             [
              0.4444444444444444,
              "#bd3786"
             ],
             [
              0.5555555555555556,
              "#d8576b"
             ],
             [
              0.6666666666666666,
              "#ed7953"
             ],
             [
              0.7777777777777778,
              "#fb9f3a"
             ],
             [
              0.8888888888888888,
              "#fdca26"
             ],
             [
              1,
              "#f0f921"
             ]
            ],
            "type": "histogram2d"
           }
          ],
          "histogram2dcontour": [
           {
            "colorbar": {
             "outlinewidth": 0,
             "ticks": ""
            },
            "colorscale": [
             [
              0,
              "#0d0887"
             ],
             [
              0.1111111111111111,
              "#46039f"
             ],
             [
              0.2222222222222222,
              "#7201a8"
             ],
             [
              0.3333333333333333,
              "#9c179e"
             ],
             [
              0.4444444444444444,
              "#bd3786"
             ],
             [
              0.5555555555555556,
              "#d8576b"
             ],
             [
              0.6666666666666666,
              "#ed7953"
             ],
             [
              0.7777777777777778,
              "#fb9f3a"
             ],
             [
              0.8888888888888888,
              "#fdca26"
             ],
             [
              1,
              "#f0f921"
             ]
            ],
            "type": "histogram2dcontour"
           }
          ],
          "mesh3d": [
           {
            "colorbar": {
             "outlinewidth": 0,
             "ticks": ""
            },
            "type": "mesh3d"
           }
          ],
          "parcoords": [
           {
            "line": {
             "colorbar": {
              "outlinewidth": 0,
              "ticks": ""
             }
            },
            "type": "parcoords"
           }
          ],
          "pie": [
           {
            "automargin": true,
            "type": "pie"
           }
          ],
          "scatter": [
           {
            "fillpattern": {
             "fillmode": "overlay",
             "size": 10,
             "solidity": 0.2
            },
            "type": "scatter"
           }
          ],
          "scatter3d": [
           {
            "line": {
             "colorbar": {
              "outlinewidth": 0,
              "ticks": ""
             }
            },
            "marker": {
             "colorbar": {
              "outlinewidth": 0,
              "ticks": ""
             }
            },
            "type": "scatter3d"
           }
          ],
          "scattercarpet": [
           {
            "marker": {
             "colorbar": {
              "outlinewidth": 0,
              "ticks": ""
             }
            },
            "type": "scattercarpet"
           }
          ],
          "scattergeo": [
           {
            "marker": {
             "colorbar": {
              "outlinewidth": 0,
              "ticks": ""
             }
            },
            "type": "scattergeo"
           }
          ],
          "scattergl": [
           {
            "marker": {
             "colorbar": {
              "outlinewidth": 0,
              "ticks": ""
             }
            },
            "type": "scattergl"
           }
          ],
          "scattermapbox": [
           {
            "marker": {
             "colorbar": {
              "outlinewidth": 0,
              "ticks": ""
             }
            },
            "type": "scattermapbox"
           }
          ],
          "scatterpolar": [
           {
            "marker": {
             "colorbar": {
              "outlinewidth": 0,
              "ticks": ""
             }
            },
            "type": "scatterpolar"
           }
          ],
          "scatterpolargl": [
           {
            "marker": {
             "colorbar": {
              "outlinewidth": 0,
              "ticks": ""
             }
            },
            "type": "scatterpolargl"
           }
          ],
          "scatterternary": [
           {
            "marker": {
             "colorbar": {
              "outlinewidth": 0,
              "ticks": ""
             }
            },
            "type": "scatterternary"
           }
          ],
          "surface": [
           {
            "colorbar": {
             "outlinewidth": 0,
             "ticks": ""
            },
            "colorscale": [
             [
              0,
              "#0d0887"
             ],
             [
              0.1111111111111111,
              "#46039f"
             ],
             [
              0.2222222222222222,
              "#7201a8"
             ],
             [
              0.3333333333333333,
              "#9c179e"
             ],
             [
              0.4444444444444444,
              "#bd3786"
             ],
             [
              0.5555555555555556,
              "#d8576b"
             ],
             [
              0.6666666666666666,
              "#ed7953"
             ],
             [
              0.7777777777777778,
              "#fb9f3a"
             ],
             [
              0.8888888888888888,
              "#fdca26"
             ],
             [
              1,
              "#f0f921"
             ]
            ],
            "type": "surface"
           }
          ],
          "table": [
           {
            "cells": {
             "fill": {
              "color": "#EBF0F8"
             },
             "line": {
              "color": "white"
             }
            },
            "header": {
             "fill": {
              "color": "#C8D4E3"
             },
             "line": {
              "color": "white"
             }
            },
            "type": "table"
           }
          ]
         },
         "layout": {
          "annotationdefaults": {
           "arrowcolor": "#2a3f5f",
           "arrowhead": 0,
           "arrowwidth": 1
          },
          "autotypenumbers": "strict",
          "coloraxis": {
           "colorbar": {
            "outlinewidth": 0,
            "ticks": ""
           }
          },
          "colorscale": {
           "diverging": [
            [
             0,
             "#8e0152"
            ],
            [
             0.1,
             "#c51b7d"
            ],
            [
             0.2,
             "#de77ae"
            ],
            [
             0.3,
             "#f1b6da"
            ],
            [
             0.4,
             "#fde0ef"
            ],
            [
             0.5,
             "#f7f7f7"
            ],
            [
             0.6,
             "#e6f5d0"
            ],
            [
             0.7,
             "#b8e186"
            ],
            [
             0.8,
             "#7fbc41"
            ],
            [
             0.9,
             "#4d9221"
            ],
            [
             1,
             "#276419"
            ]
           ],
           "sequential": [
            [
             0,
             "#0d0887"
            ],
            [
             0.1111111111111111,
             "#46039f"
            ],
            [
             0.2222222222222222,
             "#7201a8"
            ],
            [
             0.3333333333333333,
             "#9c179e"
            ],
            [
             0.4444444444444444,
             "#bd3786"
            ],
            [
             0.5555555555555556,
             "#d8576b"
            ],
            [
             0.6666666666666666,
             "#ed7953"
            ],
            [
             0.7777777777777778,
             "#fb9f3a"
            ],
            [
             0.8888888888888888,
             "#fdca26"
            ],
            [
             1,
             "#f0f921"
            ]
           ],
           "sequentialminus": [
            [
             0,
             "#0d0887"
            ],
            [
             0.1111111111111111,
             "#46039f"
            ],
            [
             0.2222222222222222,
             "#7201a8"
            ],
            [
             0.3333333333333333,
             "#9c179e"
            ],
            [
             0.4444444444444444,
             "#bd3786"
            ],
            [
             0.5555555555555556,
             "#d8576b"
            ],
            [
             0.6666666666666666,
             "#ed7953"
            ],
            [
             0.7777777777777778,
             "#fb9f3a"
            ],
            [
             0.8888888888888888,
             "#fdca26"
            ],
            [
             1,
             "#f0f921"
            ]
           ]
          },
          "colorway": [
           "#636efa",
           "#EF553B",
           "#00cc96",
           "#ab63fa",
           "#FFA15A",
           "#19d3f3",
           "#FF6692",
           "#B6E880",
           "#FF97FF",
           "#FECB52"
          ],
          "font": {
           "color": "#2a3f5f"
          },
          "geo": {
           "bgcolor": "white",
           "lakecolor": "white",
           "landcolor": "#E5ECF6",
           "showlakes": true,
           "showland": true,
           "subunitcolor": "white"
          },
          "hoverlabel": {
           "align": "left"
          },
          "hovermode": "closest",
          "mapbox": {
           "style": "light"
          },
          "paper_bgcolor": "white",
          "plot_bgcolor": "#E5ECF6",
          "polar": {
           "angularaxis": {
            "gridcolor": "white",
            "linecolor": "white",
            "ticks": ""
           },
           "bgcolor": "#E5ECF6",
           "radialaxis": {
            "gridcolor": "white",
            "linecolor": "white",
            "ticks": ""
           }
          },
          "scene": {
           "xaxis": {
            "backgroundcolor": "#E5ECF6",
            "gridcolor": "white",
            "gridwidth": 2,
            "linecolor": "white",
            "showbackground": true,
            "ticks": "",
            "zerolinecolor": "white"
           },
           "yaxis": {
            "backgroundcolor": "#E5ECF6",
            "gridcolor": "white",
            "gridwidth": 2,
            "linecolor": "white",
            "showbackground": true,
            "ticks": "",
            "zerolinecolor": "white"
           },
           "zaxis": {
            "backgroundcolor": "#E5ECF6",
            "gridcolor": "white",
            "gridwidth": 2,
            "linecolor": "white",
            "showbackground": true,
            "ticks": "",
            "zerolinecolor": "white"
           }
          },
          "shapedefaults": {
           "line": {
            "color": "#2a3f5f"
           }
          },
          "ternary": {
           "aaxis": {
            "gridcolor": "white",
            "linecolor": "white",
            "ticks": ""
           },
           "baxis": {
            "gridcolor": "white",
            "linecolor": "white",
            "ticks": ""
           },
           "bgcolor": "#E5ECF6",
           "caxis": {
            "gridcolor": "white",
            "linecolor": "white",
            "ticks": ""
           }
          },
          "title": {
           "x": 0.05
          },
          "xaxis": {
           "automargin": true,
           "gridcolor": "white",
           "linecolor": "white",
           "ticks": "",
           "title": {
            "standoff": 15
           },
           "zerolinecolor": "white",
           "zerolinewidth": 2
          },
          "yaxis": {
           "automargin": true,
           "gridcolor": "white",
           "linecolor": "white",
           "ticks": "",
           "title": {
            "standoff": 15
           },
           "zerolinecolor": "white",
           "zerolinewidth": 2
          }
         }
        },
        "title": {
         "text": "Comfort in developing <br> new computational skills",
         "x": 0.5
        },
        "width": 400
       }
      }
     },
     "metadata": {},
     "output_type": "display_data"
    }
   ],
   "source": [
    "# comfort in developing new computational skills \n",
    "comf_2021 = pd.read_csv('C:\\\\Users\\\\ssivagur\\\\Documents\\\\2021_Image_analysis_survey_data\\\\How_would_you_rate_your_comfort_in_developing_new_computational_skills.txt')\n",
    "comf_2021= comf_2021.rename(columns={'0':'comfort'})\n",
    "\n",
    "# Comfort in developing new computational skills\n",
    "comf_2021.loc[comf_2021[\"comfort\"] < 3, 'Comfort'] = 'Low comfort'\n",
    "comf_2021.loc[(comf_2021['comfort'] >= 3) & (comf_2021['comfort'] < 5), 'Comfort'] = \"Medium comfort\"\n",
    "comf_2021.loc[comf_2021['comfort'] >= 5 , 'Comfort'] = \"High comfort\"\n",
    "\n",
    "\n",
    "#Comparing comfort in developing new computational skills\n",
    "comf_21_22 = go.Figure()\n",
    "\n",
    "comf_21_22.add_trace(go.Bar(name=2020, x= comf_2021['Comfort'].value_counts().index, y=comf_2021['Comfort'].value_counts().values, text=comf_2021['Comfort'].value_counts().values))\n",
    "comf_21_22.add_trace(go.Bar(name=2022, x=data['Comfort'].value_counts().index, y=data['Comfort'].value_counts().values, text=data['Comfort'].value_counts().values))\n",
    "\n",
    "comf_21_22.update_layout(title = 'Comfort in developing <br> new computational skills', title_x=0.5, width=400, height=400, font=dict(family='Helvetica', color=\"Black\", size=14), legend=dict(title_font_family = 'Helvetica', font=dict(size=16, color=\"Black\")))\n"
   ]
  },
  {
   "attachments": {},
   "cell_type": "markdown",
   "metadata": {},
   "source": [
    "#### Approach to image analysis problems"
   ]
  },
  {
   "cell_type": "code",
   "execution_count": 10,
   "metadata": {},
   "outputs": [],
   "source": [
    "#solving image analysis problems- 2020\n",
    "\n",
    "sol_2021 = pd.read_csv('C:\\\\Users\\\\ssivagur\\\\Documents\\\\2021_Image_analysis_survey_data\\\\How_do_you_generally_go_about_solving_an_image_analysis_problem_Check_the_approaches_you_use_the_most.txt')\n",
    "sol_2021 = sol_2021.rename(columns={'0':'solution'})\n"
   ]
  },
  {
   "cell_type": "code",
   "execution_count": 11,
   "metadata": {},
   "outputs": [],
   "source": [
    "def count_other(series, list_to_include=[]):\n",
    "    list = sol_2021['solution'].dropna().tolist()\n",
    "    list_split = [i.split(',') for i in list]\n",
    "    list_flat = [i for innerlist in list_split for i in innerlist]\n",
    "    list_wo_spaces = [i.lstrip() for i in list_flat] #removing the leading spaces in the string \n",
    "    list_counts = dict((x,list_wo_spaces.count(x)) for x in set(list_wo_spaces))\n",
    "\n",
    "    filtered_dict = {k:v for k,v in list_counts.items() if k in list_to_include} \n",
    "    filtered_dict_other = {k:v for k,v in list_counts.items() if k not in list_to_include}  # filtering out the 'Other'category\n",
    "    df = pd.DataFrame.from_dict(filtered_dict, orient='index')\n",
    "    other_df = pd.DataFrame.from_dict(filtered_dict_other, orient ='index')\n",
    "    df = df.reset_index()\n",
    "    df = df.rename(columns={0:'counts'})\n",
    "\n",
    "    #Other category is added  as a separate row along with the sum \n",
    "    other = {'index':'Other', 'counts':other_df[0].sum()}\n",
    "    df = df.append(other, ignore_index=True)\n",
    "    return df\n"
   ]
  },
  {
   "cell_type": "code",
   "execution_count": 12,
   "metadata": {},
   "outputs": [
    {
     "name": "stderr",
     "output_type": "stream",
     "text": [
      "C:\\Users\\ssivagur\\AppData\\Local\\Temp\\ipykernel_80320\\3258138431.py:17: FutureWarning:\n",
      "\n",
      "The frame.append method is deprecated and will be removed from pandas in a future version. Use pandas.concat instead.\n",
      "\n"
     ]
    }
   ],
   "source": [
    "sol_2020_df = count_other(sol_2021['solution'], list_to_include =['Sit down with a tool I know and start playing with the data', 'Ask a friend or colleague to help me', 'Ask on forum.image.sc', 'Look up solutions generally on the internet (Google)',\n",
    "'Look up solutions on a particular website (please list below)', 'Look up solutions in the scientific literature'])"
   ]
  },
  {
   "cell_type": "code",
   "execution_count": 13,
   "metadata": {},
   "outputs": [],
   "source": [
    "def barchart_df(series):\n",
    "    #creating the dcitionary of the unique values with the counts \n",
    "    list = series.dropna(how='all').tolist()\n",
    "    list_split = [re.split(r',\\s*(?![^()]*\\))', i) for i in list]   #splitting the list based on comma but not the ones inside the bracket \n",
    "    list_flat = [i for innerlist in list_split for i in innerlist]  #converting a nested list to a flat list \n",
    "    list_wo_spaces = [i.lstrip() for i in list_flat] #removing the leading spaces in the string \n",
    "    dict_count = dict((x,list_wo_spaces.count(x)) for x in set(list_wo_spaces)) # creating a dictionary with counts of each unique values \n",
    "    \n",
    "\n",
    "    #creating a dataframe from the modified dictionary \n",
    "    df = pd.DataFrame.from_dict(dict_count, orient='index')\n",
    "    df = df.rename(columns={0:'counts'})\n",
    "    return df "
   ]
  },
  {
   "cell_type": "code",
   "execution_count": 14,
   "metadata": {},
   "outputs": [],
   "source": [
    "sol_2022_df = barchart_df(data[\"Approach to solutions\"])"
   ]
  },
  {
   "cell_type": "code",
   "execution_count": 15,
   "metadata": {},
   "outputs": [
    {
     "data": {
      "application/vnd.plotly.v1+json": {
       "config": {
        "plotlyServerURL": "https://plot.ly"
       },
       "data": [
        {
         "name": "2020",
         "orientation": "h",
         "text": [
          40,
          104,
          227,
          201,
          429,
          345,
          30
         ],
         "type": "bar",
         "x": [
          40,
          104,
          227,
          201,
          429,
          345,
          30
         ],
         "y": [
          "Look up solutions on a particular website (please list below)",
          "Ask on forum.image.sc",
          "Look up solutions in the scientific literature",
          "Ask a friend or colleague to help me",
          "Sit down with a tool I know and start playing with the data",
          "Look up solutions generally on the internet (Google)",
          "Other"
         ]
        },
        {
         "name": "2022",
         "orientation": "h",
         "text": [
          408,
          359,
          280,
          212,
          41,
          107
         ],
         "type": "bar",
         "x": [
          408,
          359,
          280,
          212,
          41,
          107
         ],
         "y": [
          "Sit down with a tool I know and start playing with the data",
          "Look up solutions generally on the internet (Google)",
          "Look up solutions in the scientific literature",
          "Ask a friend or colleague to help me",
          "Look up solutions on a particular website (please list below)",
          "Ask on forum.image.sc"
         ]
        }
       ],
       "layout": {
        "font": {
         "color": "Black",
         "family": "Helvetica",
         "size": 16
        },
        "height": 400,
        "legend": {
         "font": {
          "color": "Black",
          "size": 16
         },
         "title": {
          "font": {
           "family": "Helvetica"
          }
         }
        },
        "template": {
         "data": {
          "bar": [
           {
            "error_x": {
             "color": "#2a3f5f"
            },
            "error_y": {
             "color": "#2a3f5f"
            },
            "marker": {
             "line": {
              "color": "#E5ECF6",
              "width": 0.5
             },
             "pattern": {
              "fillmode": "overlay",
              "size": 10,
              "solidity": 0.2
             }
            },
            "type": "bar"
           }
          ],
          "barpolar": [
           {
            "marker": {
             "line": {
              "color": "#E5ECF6",
              "width": 0.5
             },
             "pattern": {
              "fillmode": "overlay",
              "size": 10,
              "solidity": 0.2
             }
            },
            "type": "barpolar"
           }
          ],
          "carpet": [
           {
            "aaxis": {
             "endlinecolor": "#2a3f5f",
             "gridcolor": "white",
             "linecolor": "white",
             "minorgridcolor": "white",
             "startlinecolor": "#2a3f5f"
            },
            "baxis": {
             "endlinecolor": "#2a3f5f",
             "gridcolor": "white",
             "linecolor": "white",
             "minorgridcolor": "white",
             "startlinecolor": "#2a3f5f"
            },
            "type": "carpet"
           }
          ],
          "choropleth": [
           {
            "colorbar": {
             "outlinewidth": 0,
             "ticks": ""
            },
            "type": "choropleth"
           }
          ],
          "contour": [
           {
            "colorbar": {
             "outlinewidth": 0,
             "ticks": ""
            },
            "colorscale": [
             [
              0,
              "#0d0887"
             ],
             [
              0.1111111111111111,
              "#46039f"
             ],
             [
              0.2222222222222222,
              "#7201a8"
             ],
             [
              0.3333333333333333,
              "#9c179e"
             ],
             [
              0.4444444444444444,
              "#bd3786"
             ],
             [
              0.5555555555555556,
              "#d8576b"
             ],
             [
              0.6666666666666666,
              "#ed7953"
             ],
             [
              0.7777777777777778,
              "#fb9f3a"
             ],
             [
              0.8888888888888888,
              "#fdca26"
             ],
             [
              1,
              "#f0f921"
             ]
            ],
            "type": "contour"
           }
          ],
          "contourcarpet": [
           {
            "colorbar": {
             "outlinewidth": 0,
             "ticks": ""
            },
            "type": "contourcarpet"
           }
          ],
          "heatmap": [
           {
            "colorbar": {
             "outlinewidth": 0,
             "ticks": ""
            },
            "colorscale": [
             [
              0,
              "#0d0887"
             ],
             [
              0.1111111111111111,
              "#46039f"
             ],
             [
              0.2222222222222222,
              "#7201a8"
             ],
             [
              0.3333333333333333,
              "#9c179e"
             ],
             [
              0.4444444444444444,
              "#bd3786"
             ],
             [
              0.5555555555555556,
              "#d8576b"
             ],
             [
              0.6666666666666666,
              "#ed7953"
             ],
             [
              0.7777777777777778,
              "#fb9f3a"
             ],
             [
              0.8888888888888888,
              "#fdca26"
             ],
             [
              1,
              "#f0f921"
             ]
            ],
            "type": "heatmap"
           }
          ],
          "heatmapgl": [
           {
            "colorbar": {
             "outlinewidth": 0,
             "ticks": ""
            },
            "colorscale": [
             [
              0,
              "#0d0887"
             ],
             [
              0.1111111111111111,
              "#46039f"
             ],
             [
              0.2222222222222222,
              "#7201a8"
             ],
             [
              0.3333333333333333,
              "#9c179e"
             ],
             [
              0.4444444444444444,
              "#bd3786"
             ],
             [
              0.5555555555555556,
              "#d8576b"
             ],
             [
              0.6666666666666666,
              "#ed7953"
             ],
             [
              0.7777777777777778,
              "#fb9f3a"
             ],
             [
              0.8888888888888888,
              "#fdca26"
             ],
             [
              1,
              "#f0f921"
             ]
            ],
            "type": "heatmapgl"
           }
          ],
          "histogram": [
           {
            "marker": {
             "pattern": {
              "fillmode": "overlay",
              "size": 10,
              "solidity": 0.2
             }
            },
            "type": "histogram"
           }
          ],
          "histogram2d": [
           {
            "colorbar": {
             "outlinewidth": 0,
             "ticks": ""
            },
            "colorscale": [
             [
              0,
              "#0d0887"
             ],
             [
              0.1111111111111111,
              "#46039f"
             ],
             [
              0.2222222222222222,
              "#7201a8"
             ],
             [
              0.3333333333333333,
              "#9c179e"
             ],
             [
              0.4444444444444444,
              "#bd3786"
             ],
             [
              0.5555555555555556,
              "#d8576b"
             ],
             [
              0.6666666666666666,
              "#ed7953"
             ],
             [
              0.7777777777777778,
              "#fb9f3a"
             ],
             [
              0.8888888888888888,
              "#fdca26"
             ],
             [
              1,
              "#f0f921"
             ]
            ],
            "type": "histogram2d"
           }
          ],
          "histogram2dcontour": [
           {
            "colorbar": {
             "outlinewidth": 0,
             "ticks": ""
            },
            "colorscale": [
             [
              0,
              "#0d0887"
             ],
             [
              0.1111111111111111,
              "#46039f"
             ],
             [
              0.2222222222222222,
              "#7201a8"
             ],
             [
              0.3333333333333333,
              "#9c179e"
             ],
             [
              0.4444444444444444,
              "#bd3786"
             ],
             [
              0.5555555555555556,
              "#d8576b"
             ],
             [
              0.6666666666666666,
              "#ed7953"
             ],
             [
              0.7777777777777778,
              "#fb9f3a"
             ],
             [
              0.8888888888888888,
              "#fdca26"
             ],
             [
              1,
              "#f0f921"
             ]
            ],
            "type": "histogram2dcontour"
           }
          ],
          "mesh3d": [
           {
            "colorbar": {
             "outlinewidth": 0,
             "ticks": ""
            },
            "type": "mesh3d"
           }
          ],
          "parcoords": [
           {
            "line": {
             "colorbar": {
              "outlinewidth": 0,
              "ticks": ""
             }
            },
            "type": "parcoords"
           }
          ],
          "pie": [
           {
            "automargin": true,
            "type": "pie"
           }
          ],
          "scatter": [
           {
            "fillpattern": {
             "fillmode": "overlay",
             "size": 10,
             "solidity": 0.2
            },
            "type": "scatter"
           }
          ],
          "scatter3d": [
           {
            "line": {
             "colorbar": {
              "outlinewidth": 0,
              "ticks": ""
             }
            },
            "marker": {
             "colorbar": {
              "outlinewidth": 0,
              "ticks": ""
             }
            },
            "type": "scatter3d"
           }
          ],
          "scattercarpet": [
           {
            "marker": {
             "colorbar": {
              "outlinewidth": 0,
              "ticks": ""
             }
            },
            "type": "scattercarpet"
           }
          ],
          "scattergeo": [
           {
            "marker": {
             "colorbar": {
              "outlinewidth": 0,
              "ticks": ""
             }
            },
            "type": "scattergeo"
           }
          ],
          "scattergl": [
           {
            "marker": {
             "colorbar": {
              "outlinewidth": 0,
              "ticks": ""
             }
            },
            "type": "scattergl"
           }
          ],
          "scattermapbox": [
           {
            "marker": {
             "colorbar": {
              "outlinewidth": 0,
              "ticks": ""
             }
            },
            "type": "scattermapbox"
           }
          ],
          "scatterpolar": [
           {
            "marker": {
             "colorbar": {
              "outlinewidth": 0,
              "ticks": ""
             }
            },
            "type": "scatterpolar"
           }
          ],
          "scatterpolargl": [
           {
            "marker": {
             "colorbar": {
              "outlinewidth": 0,
              "ticks": ""
             }
            },
            "type": "scatterpolargl"
           }
          ],
          "scatterternary": [
           {
            "marker": {
             "colorbar": {
              "outlinewidth": 0,
              "ticks": ""
             }
            },
            "type": "scatterternary"
           }
          ],
          "surface": [
           {
            "colorbar": {
             "outlinewidth": 0,
             "ticks": ""
            },
            "colorscale": [
             [
              0,
              "#0d0887"
             ],
             [
              0.1111111111111111,
              "#46039f"
             ],
             [
              0.2222222222222222,
              "#7201a8"
             ],
             [
              0.3333333333333333,
              "#9c179e"
             ],
             [
              0.4444444444444444,
              "#bd3786"
             ],
             [
              0.5555555555555556,
              "#d8576b"
             ],
             [
              0.6666666666666666,
              "#ed7953"
             ],
             [
              0.7777777777777778,
              "#fb9f3a"
             ],
             [
              0.8888888888888888,
              "#fdca26"
             ],
             [
              1,
              "#f0f921"
             ]
            ],
            "type": "surface"
           }
          ],
          "table": [
           {
            "cells": {
             "fill": {
              "color": "#EBF0F8"
             },
             "line": {
              "color": "white"
             }
            },
            "header": {
             "fill": {
              "color": "#C8D4E3"
             },
             "line": {
              "color": "white"
             }
            },
            "type": "table"
           }
          ]
         },
         "layout": {
          "annotationdefaults": {
           "arrowcolor": "#2a3f5f",
           "arrowhead": 0,
           "arrowwidth": 1
          },
          "autotypenumbers": "strict",
          "coloraxis": {
           "colorbar": {
            "outlinewidth": 0,
            "ticks": ""
           }
          },
          "colorscale": {
           "diverging": [
            [
             0,
             "#8e0152"
            ],
            [
             0.1,
             "#c51b7d"
            ],
            [
             0.2,
             "#de77ae"
            ],
            [
             0.3,
             "#f1b6da"
            ],
            [
             0.4,
             "#fde0ef"
            ],
            [
             0.5,
             "#f7f7f7"
            ],
            [
             0.6,
             "#e6f5d0"
            ],
            [
             0.7,
             "#b8e186"
            ],
            [
             0.8,
             "#7fbc41"
            ],
            [
             0.9,
             "#4d9221"
            ],
            [
             1,
             "#276419"
            ]
           ],
           "sequential": [
            [
             0,
             "#0d0887"
            ],
            [
             0.1111111111111111,
             "#46039f"
            ],
            [
             0.2222222222222222,
             "#7201a8"
            ],
            [
             0.3333333333333333,
             "#9c179e"
            ],
            [
             0.4444444444444444,
             "#bd3786"
            ],
            [
             0.5555555555555556,
             "#d8576b"
            ],
            [
             0.6666666666666666,
             "#ed7953"
            ],
            [
             0.7777777777777778,
             "#fb9f3a"
            ],
            [
             0.8888888888888888,
             "#fdca26"
            ],
            [
             1,
             "#f0f921"
            ]
           ],
           "sequentialminus": [
            [
             0,
             "#0d0887"
            ],
            [
             0.1111111111111111,
             "#46039f"
            ],
            [
             0.2222222222222222,
             "#7201a8"
            ],
            [
             0.3333333333333333,
             "#9c179e"
            ],
            [
             0.4444444444444444,
             "#bd3786"
            ],
            [
             0.5555555555555556,
             "#d8576b"
            ],
            [
             0.6666666666666666,
             "#ed7953"
            ],
            [
             0.7777777777777778,
             "#fb9f3a"
            ],
            [
             0.8888888888888888,
             "#fdca26"
            ],
            [
             1,
             "#f0f921"
            ]
           ]
          },
          "colorway": [
           "#636efa",
           "#EF553B",
           "#00cc96",
           "#ab63fa",
           "#FFA15A",
           "#19d3f3",
           "#FF6692",
           "#B6E880",
           "#FF97FF",
           "#FECB52"
          ],
          "font": {
           "color": "#2a3f5f"
          },
          "geo": {
           "bgcolor": "white",
           "lakecolor": "white",
           "landcolor": "#E5ECF6",
           "showlakes": true,
           "showland": true,
           "subunitcolor": "white"
          },
          "hoverlabel": {
           "align": "left"
          },
          "hovermode": "closest",
          "mapbox": {
           "style": "light"
          },
          "paper_bgcolor": "white",
          "plot_bgcolor": "#E5ECF6",
          "polar": {
           "angularaxis": {
            "gridcolor": "white",
            "linecolor": "white",
            "ticks": ""
           },
           "bgcolor": "#E5ECF6",
           "radialaxis": {
            "gridcolor": "white",
            "linecolor": "white",
            "ticks": ""
           }
          },
          "scene": {
           "xaxis": {
            "backgroundcolor": "#E5ECF6",
            "gridcolor": "white",
            "gridwidth": 2,
            "linecolor": "white",
            "showbackground": true,
            "ticks": "",
            "zerolinecolor": "white"
           },
           "yaxis": {
            "backgroundcolor": "#E5ECF6",
            "gridcolor": "white",
            "gridwidth": 2,
            "linecolor": "white",
            "showbackground": true,
            "ticks": "",
            "zerolinecolor": "white"
           },
           "zaxis": {
            "backgroundcolor": "#E5ECF6",
            "gridcolor": "white",
            "gridwidth": 2,
            "linecolor": "white",
            "showbackground": true,
            "ticks": "",
            "zerolinecolor": "white"
           }
          },
          "shapedefaults": {
           "line": {
            "color": "#2a3f5f"
           }
          },
          "ternary": {
           "aaxis": {
            "gridcolor": "white",
            "linecolor": "white",
            "ticks": ""
           },
           "baxis": {
            "gridcolor": "white",
            "linecolor": "white",
            "ticks": ""
           },
           "bgcolor": "#E5ECF6",
           "caxis": {
            "gridcolor": "white",
            "linecolor": "white",
            "ticks": ""
           }
          },
          "title": {
           "x": 0.05
          },
          "xaxis": {
           "automargin": true,
           "gridcolor": "white",
           "linecolor": "white",
           "ticks": "",
           "title": {
            "standoff": 15
           },
           "zerolinecolor": "white",
           "zerolinewidth": 2
          },
          "yaxis": {
           "automargin": true,
           "gridcolor": "white",
           "linecolor": "white",
           "ticks": "",
           "title": {
            "standoff": 15
           },
           "zerolinecolor": "white",
           "zerolinewidth": 2
          }
         }
        },
        "title": {
         "text": "Approaches to image analysis problems",
         "x": 0.5
        },
        "width": 700,
        "yaxis": {
         "categoryorder": "total ascending"
        }
       }
      }
     },
     "metadata": {},
     "output_type": "display_data"
    }
   ],
   "source": [
    "\n",
    "#Comparing - approaches to image analysis problems \n",
    "sol_21_22 = go.Figure()\n",
    "\n",
    "sol_21_22.add_trace(go.Bar(name=2020, y= sol_2020_df['index'], x=sol_2020_df['counts'], text=sol_2020_df['counts'], orientation='h'))\n",
    "sol_21_22.add_trace(go.Bar(name=2022, y=sol_2022_df.index, x=sol_2022_df['counts'], text=sol_2022_df['counts'], orientation='h'))\n",
    "sol_21_22.update_layout(title = 'Approaches to image analysis problems', title_x=0.5, width=700, height=400, font=dict(family='Helvetica', color=\"Black\", size=16), legend=dict(title_font_family = 'Helvetica', font=dict(size=16, color=\"Black\")))\n",
    "sol_21_22.update_yaxes(categoryorder='total ascending')\n"
   ]
  },
  {
   "attachments": {},
   "cell_type": "markdown",
   "metadata": {},
   "source": [
    "#### Notifications"
   ]
  },
  {
   "cell_type": "code",
   "execution_count": 16,
   "metadata": {},
   "outputs": [],
   "source": [
    "#Notifications of the future workshops\n",
    "notifications_2021 = pd.read_csv('C:\\\\Users\\\\ssivagur\\\\Documents\\\\2021_Image_analysis_survey_data\\\\How_would_you_prefer_to_be_notified_about_image_analysis_workshops_sessions_or_conferences_being_planned.txt')\n",
    "notifications_2021 = notifications_2021.rename(columns={'0':'Notifications'})\n",
    "notifications_2021['notify'] = notifications_2021['Notifications'].apply(lambda x: 'Other' if x not in ['Email list', 'Postings on image.sc forum or microforum', 'Twitter', 'My local microscopy facility', 'Word of mouth'] else x)\n"
   ]
  },
  {
   "cell_type": "code",
   "execution_count": 17,
   "metadata": {},
   "outputs": [
    {
     "data": {
      "application/vnd.plotly.v1+json": {
       "config": {
        "plotlyServerURL": "https://plot.ly"
       },
       "data": [
        {
         "name": "2020",
         "orientation": "h",
         "text": [
          235,
          90,
          76,
          60,
          11,
          8
         ],
         "type": "bar",
         "x": [
          235,
          90,
          76,
          60,
          11,
          8
         ],
         "y": [
          "Email list",
          "Postings on image.sc forum or microforum",
          "Twitter",
          "My local microscopy facility",
          "Other",
          "Word of mouth"
         ]
        },
        {
         "name": "2022",
         "orientation": "h",
         "text": [
          217,
          91,
          78,
          47,
          39,
          9,
          9
         ],
         "type": "bar",
         "x": [
          217,
          91,
          78,
          47,
          39,
          9,
          9
         ],
         "y": [
          "Email list",
          "Twitter",
          "Postings on image.sc forum or microforum",
          "My local microscopy facility",
          "A discipline-specific society or network",
          "Word of mouth",
          "Other"
         ]
        }
       ],
       "layout": {
        "font": {
         "color": "Black",
         "family": "Helvetica",
         "size": 16
        },
        "height": 500,
        "legend": {
         "font": {
          "color": "Black",
          "size": 16
         },
         "title": {
          "font": {
           "family": "Helvetica"
          }
         }
        },
        "template": {
         "data": {
          "bar": [
           {
            "error_x": {
             "color": "#2a3f5f"
            },
            "error_y": {
             "color": "#2a3f5f"
            },
            "marker": {
             "line": {
              "color": "#E5ECF6",
              "width": 0.5
             },
             "pattern": {
              "fillmode": "overlay",
              "size": 10,
              "solidity": 0.2
             }
            },
            "type": "bar"
           }
          ],
          "barpolar": [
           {
            "marker": {
             "line": {
              "color": "#E5ECF6",
              "width": 0.5
             },
             "pattern": {
              "fillmode": "overlay",
              "size": 10,
              "solidity": 0.2
             }
            },
            "type": "barpolar"
           }
          ],
          "carpet": [
           {
            "aaxis": {
             "endlinecolor": "#2a3f5f",
             "gridcolor": "white",
             "linecolor": "white",
             "minorgridcolor": "white",
             "startlinecolor": "#2a3f5f"
            },
            "baxis": {
             "endlinecolor": "#2a3f5f",
             "gridcolor": "white",
             "linecolor": "white",
             "minorgridcolor": "white",
             "startlinecolor": "#2a3f5f"
            },
            "type": "carpet"
           }
          ],
          "choropleth": [
           {
            "colorbar": {
             "outlinewidth": 0,
             "ticks": ""
            },
            "type": "choropleth"
           }
          ],
          "contour": [
           {
            "colorbar": {
             "outlinewidth": 0,
             "ticks": ""
            },
            "colorscale": [
             [
              0,
              "#0d0887"
             ],
             [
              0.1111111111111111,
              "#46039f"
             ],
             [
              0.2222222222222222,
              "#7201a8"
             ],
             [
              0.3333333333333333,
              "#9c179e"
             ],
             [
              0.4444444444444444,
              "#bd3786"
             ],
             [
              0.5555555555555556,
              "#d8576b"
             ],
             [
              0.6666666666666666,
              "#ed7953"
             ],
             [
              0.7777777777777778,
              "#fb9f3a"
             ],
             [
              0.8888888888888888,
              "#fdca26"
             ],
             [
              1,
              "#f0f921"
             ]
            ],
            "type": "contour"
           }
          ],
          "contourcarpet": [
           {
            "colorbar": {
             "outlinewidth": 0,
             "ticks": ""
            },
            "type": "contourcarpet"
           }
          ],
          "heatmap": [
           {
            "colorbar": {
             "outlinewidth": 0,
             "ticks": ""
            },
            "colorscale": [
             [
              0,
              "#0d0887"
             ],
             [
              0.1111111111111111,
              "#46039f"
             ],
             [
              0.2222222222222222,
              "#7201a8"
             ],
             [
              0.3333333333333333,
              "#9c179e"
             ],
             [
              0.4444444444444444,
              "#bd3786"
             ],
             [
              0.5555555555555556,
              "#d8576b"
             ],
             [
              0.6666666666666666,
              "#ed7953"
             ],
             [
              0.7777777777777778,
              "#fb9f3a"
             ],
             [
              0.8888888888888888,
              "#fdca26"
             ],
             [
              1,
              "#f0f921"
             ]
            ],
            "type": "heatmap"
           }
          ],
          "heatmapgl": [
           {
            "colorbar": {
             "outlinewidth": 0,
             "ticks": ""
            },
            "colorscale": [
             [
              0,
              "#0d0887"
             ],
             [
              0.1111111111111111,
              "#46039f"
             ],
             [
              0.2222222222222222,
              "#7201a8"
             ],
             [
              0.3333333333333333,
              "#9c179e"
             ],
             [
              0.4444444444444444,
              "#bd3786"
             ],
             [
              0.5555555555555556,
              "#d8576b"
             ],
             [
              0.6666666666666666,
              "#ed7953"
             ],
             [
              0.7777777777777778,
              "#fb9f3a"
             ],
             [
              0.8888888888888888,
              "#fdca26"
             ],
             [
              1,
              "#f0f921"
             ]
            ],
            "type": "heatmapgl"
           }
          ],
          "histogram": [
           {
            "marker": {
             "pattern": {
              "fillmode": "overlay",
              "size": 10,
              "solidity": 0.2
             }
            },
            "type": "histogram"
           }
          ],
          "histogram2d": [
           {
            "colorbar": {
             "outlinewidth": 0,
             "ticks": ""
            },
            "colorscale": [
             [
              0,
              "#0d0887"
             ],
             [
              0.1111111111111111,
              "#46039f"
             ],
             [
              0.2222222222222222,
              "#7201a8"
             ],
             [
              0.3333333333333333,
              "#9c179e"
             ],
             [
              0.4444444444444444,
              "#bd3786"
             ],
             [
              0.5555555555555556,
              "#d8576b"
             ],
             [
              0.6666666666666666,
              "#ed7953"
             ],
             [
              0.7777777777777778,
              "#fb9f3a"
             ],
             [
              0.8888888888888888,
              "#fdca26"
             ],
             [
              1,
              "#f0f921"
             ]
            ],
            "type": "histogram2d"
           }
          ],
          "histogram2dcontour": [
           {
            "colorbar": {
             "outlinewidth": 0,
             "ticks": ""
            },
            "colorscale": [
             [
              0,
              "#0d0887"
             ],
             [
              0.1111111111111111,
              "#46039f"
             ],
             [
              0.2222222222222222,
              "#7201a8"
             ],
             [
              0.3333333333333333,
              "#9c179e"
             ],
             [
              0.4444444444444444,
              "#bd3786"
             ],
             [
              0.5555555555555556,
              "#d8576b"
             ],
             [
              0.6666666666666666,
              "#ed7953"
             ],
             [
              0.7777777777777778,
              "#fb9f3a"
             ],
             [
              0.8888888888888888,
              "#fdca26"
             ],
             [
              1,
              "#f0f921"
             ]
            ],
            "type": "histogram2dcontour"
           }
          ],
          "mesh3d": [
           {
            "colorbar": {
             "outlinewidth": 0,
             "ticks": ""
            },
            "type": "mesh3d"
           }
          ],
          "parcoords": [
           {
            "line": {
             "colorbar": {
              "outlinewidth": 0,
              "ticks": ""
             }
            },
            "type": "parcoords"
           }
          ],
          "pie": [
           {
            "automargin": true,
            "type": "pie"
           }
          ],
          "scatter": [
           {
            "fillpattern": {
             "fillmode": "overlay",
             "size": 10,
             "solidity": 0.2
            },
            "type": "scatter"
           }
          ],
          "scatter3d": [
           {
            "line": {
             "colorbar": {
              "outlinewidth": 0,
              "ticks": ""
             }
            },
            "marker": {
             "colorbar": {
              "outlinewidth": 0,
              "ticks": ""
             }
            },
            "type": "scatter3d"
           }
          ],
          "scattercarpet": [
           {
            "marker": {
             "colorbar": {
              "outlinewidth": 0,
              "ticks": ""
             }
            },
            "type": "scattercarpet"
           }
          ],
          "scattergeo": [
           {
            "marker": {
             "colorbar": {
              "outlinewidth": 0,
              "ticks": ""
             }
            },
            "type": "scattergeo"
           }
          ],
          "scattergl": [
           {
            "marker": {
             "colorbar": {
              "outlinewidth": 0,
              "ticks": ""
             }
            },
            "type": "scattergl"
           }
          ],
          "scattermapbox": [
           {
            "marker": {
             "colorbar": {
              "outlinewidth": 0,
              "ticks": ""
             }
            },
            "type": "scattermapbox"
           }
          ],
          "scatterpolar": [
           {
            "marker": {
             "colorbar": {
              "outlinewidth": 0,
              "ticks": ""
             }
            },
            "type": "scatterpolar"
           }
          ],
          "scatterpolargl": [
           {
            "marker": {
             "colorbar": {
              "outlinewidth": 0,
              "ticks": ""
             }
            },
            "type": "scatterpolargl"
           }
          ],
          "scatterternary": [
           {
            "marker": {
             "colorbar": {
              "outlinewidth": 0,
              "ticks": ""
             }
            },
            "type": "scatterternary"
           }
          ],
          "surface": [
           {
            "colorbar": {
             "outlinewidth": 0,
             "ticks": ""
            },
            "colorscale": [
             [
              0,
              "#0d0887"
             ],
             [
              0.1111111111111111,
              "#46039f"
             ],
             [
              0.2222222222222222,
              "#7201a8"
             ],
             [
              0.3333333333333333,
              "#9c179e"
             ],
             [
              0.4444444444444444,
              "#bd3786"
             ],
             [
              0.5555555555555556,
              "#d8576b"
             ],
             [
              0.6666666666666666,
              "#ed7953"
             ],
             [
              0.7777777777777778,
              "#fb9f3a"
             ],
             [
              0.8888888888888888,
              "#fdca26"
             ],
             [
              1,
              "#f0f921"
             ]
            ],
            "type": "surface"
           }
          ],
          "table": [
           {
            "cells": {
             "fill": {
              "color": "#EBF0F8"
             },
             "line": {
              "color": "white"
             }
            },
            "header": {
             "fill": {
              "color": "#C8D4E3"
             },
             "line": {
              "color": "white"
             }
            },
            "type": "table"
           }
          ]
         },
         "layout": {
          "annotationdefaults": {
           "arrowcolor": "#2a3f5f",
           "arrowhead": 0,
           "arrowwidth": 1
          },
          "autotypenumbers": "strict",
          "coloraxis": {
           "colorbar": {
            "outlinewidth": 0,
            "ticks": ""
           }
          },
          "colorscale": {
           "diverging": [
            [
             0,
             "#8e0152"
            ],
            [
             0.1,
             "#c51b7d"
            ],
            [
             0.2,
             "#de77ae"
            ],
            [
             0.3,
             "#f1b6da"
            ],
            [
             0.4,
             "#fde0ef"
            ],
            [
             0.5,
             "#f7f7f7"
            ],
            [
             0.6,
             "#e6f5d0"
            ],
            [
             0.7,
             "#b8e186"
            ],
            [
             0.8,
             "#7fbc41"
            ],
            [
             0.9,
             "#4d9221"
            ],
            [
             1,
             "#276419"
            ]
           ],
           "sequential": [
            [
             0,
             "#0d0887"
            ],
            [
             0.1111111111111111,
             "#46039f"
            ],
            [
             0.2222222222222222,
             "#7201a8"
            ],
            [
             0.3333333333333333,
             "#9c179e"
            ],
            [
             0.4444444444444444,
             "#bd3786"
            ],
            [
             0.5555555555555556,
             "#d8576b"
            ],
            [
             0.6666666666666666,
             "#ed7953"
            ],
            [
             0.7777777777777778,
             "#fb9f3a"
            ],
            [
             0.8888888888888888,
             "#fdca26"
            ],
            [
             1,
             "#f0f921"
            ]
           ],
           "sequentialminus": [
            [
             0,
             "#0d0887"
            ],
            [
             0.1111111111111111,
             "#46039f"
            ],
            [
             0.2222222222222222,
             "#7201a8"
            ],
            [
             0.3333333333333333,
             "#9c179e"
            ],
            [
             0.4444444444444444,
             "#bd3786"
            ],
            [
             0.5555555555555556,
             "#d8576b"
            ],
            [
             0.6666666666666666,
             "#ed7953"
            ],
            [
             0.7777777777777778,
             "#fb9f3a"
            ],
            [
             0.8888888888888888,
             "#fdca26"
            ],
            [
             1,
             "#f0f921"
            ]
           ]
          },
          "colorway": [
           "#636efa",
           "#EF553B",
           "#00cc96",
           "#ab63fa",
           "#FFA15A",
           "#19d3f3",
           "#FF6692",
           "#B6E880",
           "#FF97FF",
           "#FECB52"
          ],
          "font": {
           "color": "#2a3f5f"
          },
          "geo": {
           "bgcolor": "white",
           "lakecolor": "white",
           "landcolor": "#E5ECF6",
           "showlakes": true,
           "showland": true,
           "subunitcolor": "white"
          },
          "hoverlabel": {
           "align": "left"
          },
          "hovermode": "closest",
          "mapbox": {
           "style": "light"
          },
          "paper_bgcolor": "white",
          "plot_bgcolor": "#E5ECF6",
          "polar": {
           "angularaxis": {
            "gridcolor": "white",
            "linecolor": "white",
            "ticks": ""
           },
           "bgcolor": "#E5ECF6",
           "radialaxis": {
            "gridcolor": "white",
            "linecolor": "white",
            "ticks": ""
           }
          },
          "scene": {
           "xaxis": {
            "backgroundcolor": "#E5ECF6",
            "gridcolor": "white",
            "gridwidth": 2,
            "linecolor": "white",
            "showbackground": true,
            "ticks": "",
            "zerolinecolor": "white"
           },
           "yaxis": {
            "backgroundcolor": "#E5ECF6",
            "gridcolor": "white",
            "gridwidth": 2,
            "linecolor": "white",
            "showbackground": true,
            "ticks": "",
            "zerolinecolor": "white"
           },
           "zaxis": {
            "backgroundcolor": "#E5ECF6",
            "gridcolor": "white",
            "gridwidth": 2,
            "linecolor": "white",
            "showbackground": true,
            "ticks": "",
            "zerolinecolor": "white"
           }
          },
          "shapedefaults": {
           "line": {
            "color": "#2a3f5f"
           }
          },
          "ternary": {
           "aaxis": {
            "gridcolor": "white",
            "linecolor": "white",
            "ticks": ""
           },
           "baxis": {
            "gridcolor": "white",
            "linecolor": "white",
            "ticks": ""
           },
           "bgcolor": "#E5ECF6",
           "caxis": {
            "gridcolor": "white",
            "linecolor": "white",
            "ticks": ""
           }
          },
          "title": {
           "x": 0.05
          },
          "xaxis": {
           "automargin": true,
           "gridcolor": "white",
           "linecolor": "white",
           "ticks": "",
           "title": {
            "standoff": 15
           },
           "zerolinecolor": "white",
           "zerolinewidth": 2
          },
          "yaxis": {
           "automargin": true,
           "gridcolor": "white",
           "linecolor": "white",
           "ticks": "",
           "title": {
            "standoff": 15
           },
           "zerolinecolor": "white",
           "zerolinewidth": 2
          }
         }
        },
        "title": {
         "text": "Notifications for the future image analysis workshops",
         "x": 0.5,
         "y": 0.9
        },
        "width": 600,
        "yaxis": {
         "categoryorder": "total ascending"
        }
       }
      }
     },
     "metadata": {},
     "output_type": "display_data"
    }
   ],
   "source": [
    "#reading data from other notebook\n",
    "%store -r counts_notifications\n",
    "\n",
    "#Comparison - 2020 ad 2022\n",
    "not_21_22 = go.Figure()\n",
    "\n",
    "not_21_22.add_trace(go.Bar(name='2020', y=notifications_2021['notify'].value_counts().index, x=notifications_2021['notify'].value_counts().values, orientation='h', text=notifications_2021['notify'].value_counts().values))\n",
    "not_21_22.add_trace(go.Bar(name='2022', y=counts_notifications['notify'].value_counts().index, x=counts_notifications['notify'].value_counts().values, orientation='h', text=counts_notifications['notify'].value_counts().values))\n",
    "not_21_22.update_layout(title='Notifications for the future image analysis workshops', title_x=0.5, title_y=0.9, width=600, height=500)\n",
    "not_21_22.update_yaxes(categoryorder='total ascending')\n",
    "not_21_22.update_layout(font=dict(family='Helvetica', color=\"Black\", size=16), legend=dict(title_font_family = 'Helvetica', font=dict(size=16, color=\"Black\")))\n"
   ]
  },
  {
   "attachments": {},
   "cell_type": "markdown",
   "metadata": {},
   "source": [
    "#### Most used image analysis tools "
   ]
  },
  {
   "cell_type": "code",
   "execution_count": 18,
   "metadata": {},
   "outputs": [],
   "source": [
    "#most used image analysis tools\n",
    "most_used_2021 = pd.read_csv('C:\\\\Users\\\\ssivagur\\\\Documents\\\\2021_Image_analysis_survey_data\\\\What_image_analysis_tools_do_you_use_the_most.txt')\n",
    "most_used_2021 = most_used_2021.rename(columns={'0':'most_used_tools'})\n"
   ]
  },
  {
   "cell_type": "code",
   "execution_count": 19,
   "metadata": {},
   "outputs": [],
   "source": [
    "def tools_count_df(series):\n",
    "#creating the dcitionary of the unique values with the counts \n",
    "    list = series.dropna(how='all').tolist()\n",
    "    list_split = [re.split(r',\\s*(?![^()]*\\))', i) for i in list]   #splitting the list based on comma but not the ones inside the bracket \n",
    "    list_flat = [i for innerlist in list_split for i in innerlist]  #converting a nested list to a flat list \n",
    "    list_wo_spaces = [i.rstrip() for i in list_flat] #removing the leading spaces in the string \n",
    "    dict_count = dict((x,list_wo_spaces.count(x)) for x in set(list_wo_spaces)) # creating a dictionary with counts of each unique values \n",
    "   \n",
    "    #shortening the index to avoid having lengthy axis labels\n",
    "    final_key=[]\n",
    "    for i in dict_count.keys():\n",
    "        new_key = i.split('(')\n",
    "        new_key = [new_key[0]]\n",
    "        new_key = [i.rstrip() for i in new_key]\n",
    "        final_key = final_key + new_key\n",
    "        \n",
    "    #changing the key values in a dictionary \n",
    "    list = dict_count.values()\n",
    "    final_dict = dict(zip(final_key, list))\n",
    "    \n",
    "    #creating a dataframe from the modified dictionary \n",
    "    tools_df = pd.DataFrame.from_dict(final_dict, orient='index')\n",
    "    tools_df = tools_df.rename(columns={0:'counts'})\n",
    "    tools_df = tools_df.drop('None')\n",
    "    return tools_df"
   ]
  },
  {
   "cell_type": "code",
   "execution_count": 20,
   "metadata": {},
   "outputs": [],
   "source": [
    "most_2022_df = tools_count_df(data['Most used image analysis tools'])"
   ]
  },
  {
   "cell_type": "code",
   "execution_count": 21,
   "metadata": {},
   "outputs": [
    {
     "data": {
      "application/vnd.plotly.v1+json": {
       "config": {
        "plotlyServerURL": "https://plot.ly"
       },
       "data": [
        {
         "name": "2020",
         "orientation": "h",
         "text": [
          34,
          34,
          323,
          77,
          0
         ],
         "type": "bar",
         "x": [
          34,
          34,
          323,
          77,
          0
         ],
         "y": [
          "Commercial software that comes with my microscope",
          "Other commercial software",
          "Open source point-and-click software",
          "Computational libraries and scripts",
          "None"
         ]
        },
        {
         "name": "2022",
         "orientation": "h",
         "text": [
          25,
          77,
          29,
          323
         ],
         "type": "bar",
         "x": [
          25,
          77,
          29,
          323
         ],
         "y": [
          "Other commercial software",
          "Computational libraries and scripts",
          "Commercial software that comes with my microscope",
          "Open source point-and-click software"
         ]
        }
       ],
       "layout": {
        "font": {
         "color": "Black",
         "family": "Helvetica",
         "size": 16
        },
        "height": 400,
        "legend": {
         "font": {
          "color": "Black",
          "size": 16
         },
         "title": {
          "font": {
           "family": "Helvetica"
          }
         }
        },
        "template": {
         "data": {
          "bar": [
           {
            "error_x": {
             "color": "#2a3f5f"
            },
            "error_y": {
             "color": "#2a3f5f"
            },
            "marker": {
             "line": {
              "color": "#E5ECF6",
              "width": 0.5
             },
             "pattern": {
              "fillmode": "overlay",
              "size": 10,
              "solidity": 0.2
             }
            },
            "type": "bar"
           }
          ],
          "barpolar": [
           {
            "marker": {
             "line": {
              "color": "#E5ECF6",
              "width": 0.5
             },
             "pattern": {
              "fillmode": "overlay",
              "size": 10,
              "solidity": 0.2
             }
            },
            "type": "barpolar"
           }
          ],
          "carpet": [
           {
            "aaxis": {
             "endlinecolor": "#2a3f5f",
             "gridcolor": "white",
             "linecolor": "white",
             "minorgridcolor": "white",
             "startlinecolor": "#2a3f5f"
            },
            "baxis": {
             "endlinecolor": "#2a3f5f",
             "gridcolor": "white",
             "linecolor": "white",
             "minorgridcolor": "white",
             "startlinecolor": "#2a3f5f"
            },
            "type": "carpet"
           }
          ],
          "choropleth": [
           {
            "colorbar": {
             "outlinewidth": 0,
             "ticks": ""
            },
            "type": "choropleth"
           }
          ],
          "contour": [
           {
            "colorbar": {
             "outlinewidth": 0,
             "ticks": ""
            },
            "colorscale": [
             [
              0,
              "#0d0887"
             ],
             [
              0.1111111111111111,
              "#46039f"
             ],
             [
              0.2222222222222222,
              "#7201a8"
             ],
             [
              0.3333333333333333,
              "#9c179e"
             ],
             [
              0.4444444444444444,
              "#bd3786"
             ],
             [
              0.5555555555555556,
              "#d8576b"
             ],
             [
              0.6666666666666666,
              "#ed7953"
             ],
             [
              0.7777777777777778,
              "#fb9f3a"
             ],
             [
              0.8888888888888888,
              "#fdca26"
             ],
             [
              1,
              "#f0f921"
             ]
            ],
            "type": "contour"
           }
          ],
          "contourcarpet": [
           {
            "colorbar": {
             "outlinewidth": 0,
             "ticks": ""
            },
            "type": "contourcarpet"
           }
          ],
          "heatmap": [
           {
            "colorbar": {
             "outlinewidth": 0,
             "ticks": ""
            },
            "colorscale": [
             [
              0,
              "#0d0887"
             ],
             [
              0.1111111111111111,
              "#46039f"
             ],
             [
              0.2222222222222222,
              "#7201a8"
             ],
             [
              0.3333333333333333,
              "#9c179e"
             ],
             [
              0.4444444444444444,
              "#bd3786"
             ],
             [
              0.5555555555555556,
              "#d8576b"
             ],
             [
              0.6666666666666666,
              "#ed7953"
             ],
             [
              0.7777777777777778,
              "#fb9f3a"
             ],
             [
              0.8888888888888888,
              "#fdca26"
             ],
             [
              1,
              "#f0f921"
             ]
            ],
            "type": "heatmap"
           }
          ],
          "heatmapgl": [
           {
            "colorbar": {
             "outlinewidth": 0,
             "ticks": ""
            },
            "colorscale": [
             [
              0,
              "#0d0887"
             ],
             [
              0.1111111111111111,
              "#46039f"
             ],
             [
              0.2222222222222222,
              "#7201a8"
             ],
             [
              0.3333333333333333,
              "#9c179e"
             ],
             [
              0.4444444444444444,
              "#bd3786"
             ],
             [
              0.5555555555555556,
              "#d8576b"
             ],
             [
              0.6666666666666666,
              "#ed7953"
             ],
             [
              0.7777777777777778,
              "#fb9f3a"
             ],
             [
              0.8888888888888888,
              "#fdca26"
             ],
             [
              1,
              "#f0f921"
             ]
            ],
            "type": "heatmapgl"
           }
          ],
          "histogram": [
           {
            "marker": {
             "pattern": {
              "fillmode": "overlay",
              "size": 10,
              "solidity": 0.2
             }
            },
            "type": "histogram"
           }
          ],
          "histogram2d": [
           {
            "colorbar": {
             "outlinewidth": 0,
             "ticks": ""
            },
            "colorscale": [
             [
              0,
              "#0d0887"
             ],
             [
              0.1111111111111111,
              "#46039f"
             ],
             [
              0.2222222222222222,
              "#7201a8"
             ],
             [
              0.3333333333333333,
              "#9c179e"
             ],
             [
              0.4444444444444444,
              "#bd3786"
             ],
             [
              0.5555555555555556,
              "#d8576b"
             ],
             [
              0.6666666666666666,
              "#ed7953"
             ],
             [
              0.7777777777777778,
              "#fb9f3a"
             ],
             [
              0.8888888888888888,
              "#fdca26"
             ],
             [
              1,
              "#f0f921"
             ]
            ],
            "type": "histogram2d"
           }
          ],
          "histogram2dcontour": [
           {
            "colorbar": {
             "outlinewidth": 0,
             "ticks": ""
            },
            "colorscale": [
             [
              0,
              "#0d0887"
             ],
             [
              0.1111111111111111,
              "#46039f"
             ],
             [
              0.2222222222222222,
              "#7201a8"
             ],
             [
              0.3333333333333333,
              "#9c179e"
             ],
             [
              0.4444444444444444,
              "#bd3786"
             ],
             [
              0.5555555555555556,
              "#d8576b"
             ],
             [
              0.6666666666666666,
              "#ed7953"
             ],
             [
              0.7777777777777778,
              "#fb9f3a"
             ],
             [
              0.8888888888888888,
              "#fdca26"
             ],
             [
              1,
              "#f0f921"
             ]
            ],
            "type": "histogram2dcontour"
           }
          ],
          "mesh3d": [
           {
            "colorbar": {
             "outlinewidth": 0,
             "ticks": ""
            },
            "type": "mesh3d"
           }
          ],
          "parcoords": [
           {
            "line": {
             "colorbar": {
              "outlinewidth": 0,
              "ticks": ""
             }
            },
            "type": "parcoords"
           }
          ],
          "pie": [
           {
            "automargin": true,
            "type": "pie"
           }
          ],
          "scatter": [
           {
            "fillpattern": {
             "fillmode": "overlay",
             "size": 10,
             "solidity": 0.2
            },
            "type": "scatter"
           }
          ],
          "scatter3d": [
           {
            "line": {
             "colorbar": {
              "outlinewidth": 0,
              "ticks": ""
             }
            },
            "marker": {
             "colorbar": {
              "outlinewidth": 0,
              "ticks": ""
             }
            },
            "type": "scatter3d"
           }
          ],
          "scattercarpet": [
           {
            "marker": {
             "colorbar": {
              "outlinewidth": 0,
              "ticks": ""
             }
            },
            "type": "scattercarpet"
           }
          ],
          "scattergeo": [
           {
            "marker": {
             "colorbar": {
              "outlinewidth": 0,
              "ticks": ""
             }
            },
            "type": "scattergeo"
           }
          ],
          "scattergl": [
           {
            "marker": {
             "colorbar": {
              "outlinewidth": 0,
              "ticks": ""
             }
            },
            "type": "scattergl"
           }
          ],
          "scattermapbox": [
           {
            "marker": {
             "colorbar": {
              "outlinewidth": 0,
              "ticks": ""
             }
            },
            "type": "scattermapbox"
           }
          ],
          "scatterpolar": [
           {
            "marker": {
             "colorbar": {
              "outlinewidth": 0,
              "ticks": ""
             }
            },
            "type": "scatterpolar"
           }
          ],
          "scatterpolargl": [
           {
            "marker": {
             "colorbar": {
              "outlinewidth": 0,
              "ticks": ""
             }
            },
            "type": "scatterpolargl"
           }
          ],
          "scatterternary": [
           {
            "marker": {
             "colorbar": {
              "outlinewidth": 0,
              "ticks": ""
             }
            },
            "type": "scatterternary"
           }
          ],
          "surface": [
           {
            "colorbar": {
             "outlinewidth": 0,
             "ticks": ""
            },
            "colorscale": [
             [
              0,
              "#0d0887"
             ],
             [
              0.1111111111111111,
              "#46039f"
             ],
             [
              0.2222222222222222,
              "#7201a8"
             ],
             [
              0.3333333333333333,
              "#9c179e"
             ],
             [
              0.4444444444444444,
              "#bd3786"
             ],
             [
              0.5555555555555556,
              "#d8576b"
             ],
             [
              0.6666666666666666,
              "#ed7953"
             ],
             [
              0.7777777777777778,
              "#fb9f3a"
             ],
             [
              0.8888888888888888,
              "#fdca26"
             ],
             [
              1,
              "#f0f921"
             ]
            ],
            "type": "surface"
           }
          ],
          "table": [
           {
            "cells": {
             "fill": {
              "color": "#EBF0F8"
             },
             "line": {
              "color": "white"
             }
            },
            "header": {
             "fill": {
              "color": "#C8D4E3"
             },
             "line": {
              "color": "white"
             }
            },
            "type": "table"
           }
          ]
         },
         "layout": {
          "annotationdefaults": {
           "arrowcolor": "#2a3f5f",
           "arrowhead": 0,
           "arrowwidth": 1
          },
          "autotypenumbers": "strict",
          "coloraxis": {
           "colorbar": {
            "outlinewidth": 0,
            "ticks": ""
           }
          },
          "colorscale": {
           "diverging": [
            [
             0,
             "#8e0152"
            ],
            [
             0.1,
             "#c51b7d"
            ],
            [
             0.2,
             "#de77ae"
            ],
            [
             0.3,
             "#f1b6da"
            ],
            [
             0.4,
             "#fde0ef"
            ],
            [
             0.5,
             "#f7f7f7"
            ],
            [
             0.6,
             "#e6f5d0"
            ],
            [
             0.7,
             "#b8e186"
            ],
            [
             0.8,
             "#7fbc41"
            ],
            [
             0.9,
             "#4d9221"
            ],
            [
             1,
             "#276419"
            ]
           ],
           "sequential": [
            [
             0,
             "#0d0887"
            ],
            [
             0.1111111111111111,
             "#46039f"
            ],
            [
             0.2222222222222222,
             "#7201a8"
            ],
            [
             0.3333333333333333,
             "#9c179e"
            ],
            [
             0.4444444444444444,
             "#bd3786"
            ],
            [
             0.5555555555555556,
             "#d8576b"
            ],
            [
             0.6666666666666666,
             "#ed7953"
            ],
            [
             0.7777777777777778,
             "#fb9f3a"
            ],
            [
             0.8888888888888888,
             "#fdca26"
            ],
            [
             1,
             "#f0f921"
            ]
           ],
           "sequentialminus": [
            [
             0,
             "#0d0887"
            ],
            [
             0.1111111111111111,
             "#46039f"
            ],
            [
             0.2222222222222222,
             "#7201a8"
            ],
            [
             0.3333333333333333,
             "#9c179e"
            ],
            [
             0.4444444444444444,
             "#bd3786"
            ],
            [
             0.5555555555555556,
             "#d8576b"
            ],
            [
             0.6666666666666666,
             "#ed7953"
            ],
            [
             0.7777777777777778,
             "#fb9f3a"
            ],
            [
             0.8888888888888888,
             "#fdca26"
            ],
            [
             1,
             "#f0f921"
            ]
           ]
          },
          "colorway": [
           "#636efa",
           "#EF553B",
           "#00cc96",
           "#ab63fa",
           "#FFA15A",
           "#19d3f3",
           "#FF6692",
           "#B6E880",
           "#FF97FF",
           "#FECB52"
          ],
          "font": {
           "color": "#2a3f5f"
          },
          "geo": {
           "bgcolor": "white",
           "lakecolor": "white",
           "landcolor": "#E5ECF6",
           "showlakes": true,
           "showland": true,
           "subunitcolor": "white"
          },
          "hoverlabel": {
           "align": "left"
          },
          "hovermode": "closest",
          "mapbox": {
           "style": "light"
          },
          "paper_bgcolor": "white",
          "plot_bgcolor": "#E5ECF6",
          "polar": {
           "angularaxis": {
            "gridcolor": "white",
            "linecolor": "white",
            "ticks": ""
           },
           "bgcolor": "#E5ECF6",
           "radialaxis": {
            "gridcolor": "white",
            "linecolor": "white",
            "ticks": ""
           }
          },
          "scene": {
           "xaxis": {
            "backgroundcolor": "#E5ECF6",
            "gridcolor": "white",
            "gridwidth": 2,
            "linecolor": "white",
            "showbackground": true,
            "ticks": "",
            "zerolinecolor": "white"
           },
           "yaxis": {
            "backgroundcolor": "#E5ECF6",
            "gridcolor": "white",
            "gridwidth": 2,
            "linecolor": "white",
            "showbackground": true,
            "ticks": "",
            "zerolinecolor": "white"
           },
           "zaxis": {
            "backgroundcolor": "#E5ECF6",
            "gridcolor": "white",
            "gridwidth": 2,
            "linecolor": "white",
            "showbackground": true,
            "ticks": "",
            "zerolinecolor": "white"
           }
          },
          "shapedefaults": {
           "line": {
            "color": "#2a3f5f"
           }
          },
          "ternary": {
           "aaxis": {
            "gridcolor": "white",
            "linecolor": "white",
            "ticks": ""
           },
           "baxis": {
            "gridcolor": "white",
            "linecolor": "white",
            "ticks": ""
           },
           "bgcolor": "#E5ECF6",
           "caxis": {
            "gridcolor": "white",
            "linecolor": "white",
            "ticks": ""
           }
          },
          "title": {
           "x": 0.05
          },
          "xaxis": {
           "automargin": true,
           "gridcolor": "white",
           "linecolor": "white",
           "ticks": "",
           "title": {
            "standoff": 15
           },
           "zerolinecolor": "white",
           "zerolinewidth": 2
          },
          "yaxis": {
           "automargin": true,
           "gridcolor": "white",
           "linecolor": "white",
           "ticks": "",
           "title": {
            "standoff": 15
           },
           "zerolinecolor": "white",
           "zerolinewidth": 2
          }
         }
        },
        "title": {
         "text": "Most used image analysis tools",
         "x": 0.5,
         "y": 0.95
        },
        "width": 700,
        "yaxis": {
         "categoryorder": "total ascending"
        }
       }
      }
     },
     "metadata": {},
     "output_type": "display_data"
    }
   ],
   "source": [
    "\n",
    "#using the following instead of teh value counts since the legends couldn't be shortened \n",
    "most_used_2021['Commercial software that comes with my microscope'] = most_used_2021['most_used_tools'].apply(lambda x:True if x == 'Commercial software that comes with my microscope (ie Columbus, Elements, Softworx, etc)' else False)\n",
    "most_used_2021['Other commercial software'] = most_used_2021['most_used_tools'].apply(lambda x: True if x == 'Other commercial software (Imaris, Volocity, etc)' else False)\n",
    "most_used_2021['Open source point-and-click software'] = most_used_2021['most_used_tools'].apply(lambda x: True if x == 'Open source point-and-click software (ImageJ, FIJI, Icy, CellProfiler, etc)'else False)\n",
    "most_used_2021['Computational libraries and scripts'] = most_used_2021['most_used_tools'].apply(lambda x:True if x == 'Computational libraries and scripts (scikit-image, MATLAB, etc)' else False)\n",
    "most_used_2021['None'] = most_used_2021['most_used_tools'].apply(lambda x:True if x == 'None' else False)\n",
    "most_used_2021_subset = most_used_2021.iloc[:, 1:6]\n",
    "most_used_2021_subset\n",
    "\n",
    "#creating a subset\n",
    "most_used_2021_df = pd.DataFrame(most_used_2021_subset.sum())\n",
    "most_used_2021_df = most_used_2021_df.reset_index()\n",
    "most_used_2021_df = most_used_2021_df.rename(columns={'index':'tools', 0 :'counts'})\n",
    "most_used_2021_df\n",
    "\n",
    "#comparing with 2022\n",
    "most_used_21_22 = go.Figure()\n",
    "\n",
    "most_used_21_22.add_trace(go.Bar(name='2020', x= most_used_2021_df['counts'], y=most_used_2021_df['tools'], orientation='h', text=most_used_2021_df['counts']))\n",
    "most_used_21_22.add_trace(go.Bar(name='2022', x=most_2022_df['counts'], y=most_2022_df.index, orientation='h', text=most_2022_df['counts']))\n",
    "most_used_21_22.update_layout(title = 'Most used image analysis tools', title_x=0.5,title_y = 0.95, width=700, height=400)\n",
    "most_used_21_22.update_layout(font=dict(family='Helvetica', color=\"Black\", size=16), legend=dict(title_font_family = 'Helvetica', font=dict(size=16, color=\"Black\")))\n",
    "most_used_21_22.update_yaxes(categoryorder='total ascending')"
   ]
  },
  {
   "attachments": {},
   "cell_type": "markdown",
   "metadata": {},
   "source": [
    "#### Commonly used image analysis tools"
   ]
  },
  {
   "cell_type": "code",
   "execution_count": 22,
   "metadata": {},
   "outputs": [],
   "source": [
    "com_tool_df = tools_count_df(data['Commonly used image analysis tools'])"
   ]
  },
  {
   "cell_type": "code",
   "execution_count": 23,
   "metadata": {},
   "outputs": [
    {
     "data": {
      "application/vnd.plotly.v1+json": {
       "config": {
        "plotlyServerURL": "https://plot.ly"
       },
       "data": [
        {
         "name": "2020",
         "orientation": "h",
         "text": [
          305,
          280,
          480,
          274,
          2
         ],
         "type": "bar",
         "x": [
          305,
          280,
          480,
          274,
          2
         ],
         "y": [
          "Commercial software that comes with my microscope",
          "Other commercial software",
          "Open source point-and-click software",
          "Computational libraries and scripts",
          "Tools_none"
         ]
        },
        {
         "name": "2022",
         "orientation": "h",
         "text": [
          251,
          307,
          451,
          236
         ],
         "type": "bar",
         "x": [
          251,
          307,
          451,
          236
         ],
         "y": [
          "Other commercial software",
          "Commercial software that comes with my microscope",
          "Open source point-and-click software",
          "Computational libraries and scripts"
         ]
        }
       ],
       "layout": {
        "font": {
         "color": "Black",
         "family": "Helvetica",
         "size": 16
        },
        "height": 400,
        "legend": {
         "font": {
          "color": "Black",
          "size": 16
         },
         "title": {
          "font": {
           "family": "Helvetica"
          }
         }
        },
        "template": {
         "data": {
          "bar": [
           {
            "error_x": {
             "color": "#2a3f5f"
            },
            "error_y": {
             "color": "#2a3f5f"
            },
            "marker": {
             "line": {
              "color": "#E5ECF6",
              "width": 0.5
             },
             "pattern": {
              "fillmode": "overlay",
              "size": 10,
              "solidity": 0.2
             }
            },
            "type": "bar"
           }
          ],
          "barpolar": [
           {
            "marker": {
             "line": {
              "color": "#E5ECF6",
              "width": 0.5
             },
             "pattern": {
              "fillmode": "overlay",
              "size": 10,
              "solidity": 0.2
             }
            },
            "type": "barpolar"
           }
          ],
          "carpet": [
           {
            "aaxis": {
             "endlinecolor": "#2a3f5f",
             "gridcolor": "white",
             "linecolor": "white",
             "minorgridcolor": "white",
             "startlinecolor": "#2a3f5f"
            },
            "baxis": {
             "endlinecolor": "#2a3f5f",
             "gridcolor": "white",
             "linecolor": "white",
             "minorgridcolor": "white",
             "startlinecolor": "#2a3f5f"
            },
            "type": "carpet"
           }
          ],
          "choropleth": [
           {
            "colorbar": {
             "outlinewidth": 0,
             "ticks": ""
            },
            "type": "choropleth"
           }
          ],
          "contour": [
           {
            "colorbar": {
             "outlinewidth": 0,
             "ticks": ""
            },
            "colorscale": [
             [
              0,
              "#0d0887"
             ],
             [
              0.1111111111111111,
              "#46039f"
             ],
             [
              0.2222222222222222,
              "#7201a8"
             ],
             [
              0.3333333333333333,
              "#9c179e"
             ],
             [
              0.4444444444444444,
              "#bd3786"
             ],
             [
              0.5555555555555556,
              "#d8576b"
             ],
             [
              0.6666666666666666,
              "#ed7953"
             ],
             [
              0.7777777777777778,
              "#fb9f3a"
             ],
             [
              0.8888888888888888,
              "#fdca26"
             ],
             [
              1,
              "#f0f921"
             ]
            ],
            "type": "contour"
           }
          ],
          "contourcarpet": [
           {
            "colorbar": {
             "outlinewidth": 0,
             "ticks": ""
            },
            "type": "contourcarpet"
           }
          ],
          "heatmap": [
           {
            "colorbar": {
             "outlinewidth": 0,
             "ticks": ""
            },
            "colorscale": [
             [
              0,
              "#0d0887"
             ],
             [
              0.1111111111111111,
              "#46039f"
             ],
             [
              0.2222222222222222,
              "#7201a8"
             ],
             [
              0.3333333333333333,
              "#9c179e"
             ],
             [
              0.4444444444444444,
              "#bd3786"
             ],
             [
              0.5555555555555556,
              "#d8576b"
             ],
             [
              0.6666666666666666,
              "#ed7953"
             ],
             [
              0.7777777777777778,
              "#fb9f3a"
             ],
             [
              0.8888888888888888,
              "#fdca26"
             ],
             [
              1,
              "#f0f921"
             ]
            ],
            "type": "heatmap"
           }
          ],
          "heatmapgl": [
           {
            "colorbar": {
             "outlinewidth": 0,
             "ticks": ""
            },
            "colorscale": [
             [
              0,
              "#0d0887"
             ],
             [
              0.1111111111111111,
              "#46039f"
             ],
             [
              0.2222222222222222,
              "#7201a8"
             ],
             [
              0.3333333333333333,
              "#9c179e"
             ],
             [
              0.4444444444444444,
              "#bd3786"
             ],
             [
              0.5555555555555556,
              "#d8576b"
             ],
             [
              0.6666666666666666,
              "#ed7953"
             ],
             [
              0.7777777777777778,
              "#fb9f3a"
             ],
             [
              0.8888888888888888,
              "#fdca26"
             ],
             [
              1,
              "#f0f921"
             ]
            ],
            "type": "heatmapgl"
           }
          ],
          "histogram": [
           {
            "marker": {
             "pattern": {
              "fillmode": "overlay",
              "size": 10,
              "solidity": 0.2
             }
            },
            "type": "histogram"
           }
          ],
          "histogram2d": [
           {
            "colorbar": {
             "outlinewidth": 0,
             "ticks": ""
            },
            "colorscale": [
             [
              0,
              "#0d0887"
             ],
             [
              0.1111111111111111,
              "#46039f"
             ],
             [
              0.2222222222222222,
              "#7201a8"
             ],
             [
              0.3333333333333333,
              "#9c179e"
             ],
             [
              0.4444444444444444,
              "#bd3786"
             ],
             [
              0.5555555555555556,
              "#d8576b"
             ],
             [
              0.6666666666666666,
              "#ed7953"
             ],
             [
              0.7777777777777778,
              "#fb9f3a"
             ],
             [
              0.8888888888888888,
              "#fdca26"
             ],
             [
              1,
              "#f0f921"
             ]
            ],
            "type": "histogram2d"
           }
          ],
          "histogram2dcontour": [
           {
            "colorbar": {
             "outlinewidth": 0,
             "ticks": ""
            },
            "colorscale": [
             [
              0,
              "#0d0887"
             ],
             [
              0.1111111111111111,
              "#46039f"
             ],
             [
              0.2222222222222222,
              "#7201a8"
             ],
             [
              0.3333333333333333,
              "#9c179e"
             ],
             [
              0.4444444444444444,
              "#bd3786"
             ],
             [
              0.5555555555555556,
              "#d8576b"
             ],
             [
              0.6666666666666666,
              "#ed7953"
             ],
             [
              0.7777777777777778,
              "#fb9f3a"
             ],
             [
              0.8888888888888888,
              "#fdca26"
             ],
             [
              1,
              "#f0f921"
             ]
            ],
            "type": "histogram2dcontour"
           }
          ],
          "mesh3d": [
           {
            "colorbar": {
             "outlinewidth": 0,
             "ticks": ""
            },
            "type": "mesh3d"
           }
          ],
          "parcoords": [
           {
            "line": {
             "colorbar": {
              "outlinewidth": 0,
              "ticks": ""
             }
            },
            "type": "parcoords"
           }
          ],
          "pie": [
           {
            "automargin": true,
            "type": "pie"
           }
          ],
          "scatter": [
           {
            "fillpattern": {
             "fillmode": "overlay",
             "size": 10,
             "solidity": 0.2
            },
            "type": "scatter"
           }
          ],
          "scatter3d": [
           {
            "line": {
             "colorbar": {
              "outlinewidth": 0,
              "ticks": ""
             }
            },
            "marker": {
             "colorbar": {
              "outlinewidth": 0,
              "ticks": ""
             }
            },
            "type": "scatter3d"
           }
          ],
          "scattercarpet": [
           {
            "marker": {
             "colorbar": {
              "outlinewidth": 0,
              "ticks": ""
             }
            },
            "type": "scattercarpet"
           }
          ],
          "scattergeo": [
           {
            "marker": {
             "colorbar": {
              "outlinewidth": 0,
              "ticks": ""
             }
            },
            "type": "scattergeo"
           }
          ],
          "scattergl": [
           {
            "marker": {
             "colorbar": {
              "outlinewidth": 0,
              "ticks": ""
             }
            },
            "type": "scattergl"
           }
          ],
          "scattermapbox": [
           {
            "marker": {
             "colorbar": {
              "outlinewidth": 0,
              "ticks": ""
             }
            },
            "type": "scattermapbox"
           }
          ],
          "scatterpolar": [
           {
            "marker": {
             "colorbar": {
              "outlinewidth": 0,
              "ticks": ""
             }
            },
            "type": "scatterpolar"
           }
          ],
          "scatterpolargl": [
           {
            "marker": {
             "colorbar": {
              "outlinewidth": 0,
              "ticks": ""
             }
            },
            "type": "scatterpolargl"
           }
          ],
          "scatterternary": [
           {
            "marker": {
             "colorbar": {
              "outlinewidth": 0,
              "ticks": ""
             }
            },
            "type": "scatterternary"
           }
          ],
          "surface": [
           {
            "colorbar": {
             "outlinewidth": 0,
             "ticks": ""
            },
            "colorscale": [
             [
              0,
              "#0d0887"
             ],
             [
              0.1111111111111111,
              "#46039f"
             ],
             [
              0.2222222222222222,
              "#7201a8"
             ],
             [
              0.3333333333333333,
              "#9c179e"
             ],
             [
              0.4444444444444444,
              "#bd3786"
             ],
             [
              0.5555555555555556,
              "#d8576b"
             ],
             [
              0.6666666666666666,
              "#ed7953"
             ],
             [
              0.7777777777777778,
              "#fb9f3a"
             ],
             [
              0.8888888888888888,
              "#fdca26"
             ],
             [
              1,
              "#f0f921"
             ]
            ],
            "type": "surface"
           }
          ],
          "table": [
           {
            "cells": {
             "fill": {
              "color": "#EBF0F8"
             },
             "line": {
              "color": "white"
             }
            },
            "header": {
             "fill": {
              "color": "#C8D4E3"
             },
             "line": {
              "color": "white"
             }
            },
            "type": "table"
           }
          ]
         },
         "layout": {
          "annotationdefaults": {
           "arrowcolor": "#2a3f5f",
           "arrowhead": 0,
           "arrowwidth": 1
          },
          "autotypenumbers": "strict",
          "coloraxis": {
           "colorbar": {
            "outlinewidth": 0,
            "ticks": ""
           }
          },
          "colorscale": {
           "diverging": [
            [
             0,
             "#8e0152"
            ],
            [
             0.1,
             "#c51b7d"
            ],
            [
             0.2,
             "#de77ae"
            ],
            [
             0.3,
             "#f1b6da"
            ],
            [
             0.4,
             "#fde0ef"
            ],
            [
             0.5,
             "#f7f7f7"
            ],
            [
             0.6,
             "#e6f5d0"
            ],
            [
             0.7,
             "#b8e186"
            ],
            [
             0.8,
             "#7fbc41"
            ],
            [
             0.9,
             "#4d9221"
            ],
            [
             1,
             "#276419"
            ]
           ],
           "sequential": [
            [
             0,
             "#0d0887"
            ],
            [
             0.1111111111111111,
             "#46039f"
            ],
            [
             0.2222222222222222,
             "#7201a8"
            ],
            [
             0.3333333333333333,
             "#9c179e"
            ],
            [
             0.4444444444444444,
             "#bd3786"
            ],
            [
             0.5555555555555556,
             "#d8576b"
            ],
            [
             0.6666666666666666,
             "#ed7953"
            ],
            [
             0.7777777777777778,
             "#fb9f3a"
            ],
            [
             0.8888888888888888,
             "#fdca26"
            ],
            [
             1,
             "#f0f921"
            ]
           ],
           "sequentialminus": [
            [
             0,
             "#0d0887"
            ],
            [
             0.1111111111111111,
             "#46039f"
            ],
            [
             0.2222222222222222,
             "#7201a8"
            ],
            [
             0.3333333333333333,
             "#9c179e"
            ],
            [
             0.4444444444444444,
             "#bd3786"
            ],
            [
             0.5555555555555556,
             "#d8576b"
            ],
            [
             0.6666666666666666,
             "#ed7953"
            ],
            [
             0.7777777777777778,
             "#fb9f3a"
            ],
            [
             0.8888888888888888,
             "#fdca26"
            ],
            [
             1,
             "#f0f921"
            ]
           ]
          },
          "colorway": [
           "#636efa",
           "#EF553B",
           "#00cc96",
           "#ab63fa",
           "#FFA15A",
           "#19d3f3",
           "#FF6692",
           "#B6E880",
           "#FF97FF",
           "#FECB52"
          ],
          "font": {
           "color": "#2a3f5f"
          },
          "geo": {
           "bgcolor": "white",
           "lakecolor": "white",
           "landcolor": "#E5ECF6",
           "showlakes": true,
           "showland": true,
           "subunitcolor": "white"
          },
          "hoverlabel": {
           "align": "left"
          },
          "hovermode": "closest",
          "mapbox": {
           "style": "light"
          },
          "paper_bgcolor": "white",
          "plot_bgcolor": "#E5ECF6",
          "polar": {
           "angularaxis": {
            "gridcolor": "white",
            "linecolor": "white",
            "ticks": ""
           },
           "bgcolor": "#E5ECF6",
           "radialaxis": {
            "gridcolor": "white",
            "linecolor": "white",
            "ticks": ""
           }
          },
          "scene": {
           "xaxis": {
            "backgroundcolor": "#E5ECF6",
            "gridcolor": "white",
            "gridwidth": 2,
            "linecolor": "white",
            "showbackground": true,
            "ticks": "",
            "zerolinecolor": "white"
           },
           "yaxis": {
            "backgroundcolor": "#E5ECF6",
            "gridcolor": "white",
            "gridwidth": 2,
            "linecolor": "white",
            "showbackground": true,
            "ticks": "",
            "zerolinecolor": "white"
           },
           "zaxis": {
            "backgroundcolor": "#E5ECF6",
            "gridcolor": "white",
            "gridwidth": 2,
            "linecolor": "white",
            "showbackground": true,
            "ticks": "",
            "zerolinecolor": "white"
           }
          },
          "shapedefaults": {
           "line": {
            "color": "#2a3f5f"
           }
          },
          "ternary": {
           "aaxis": {
            "gridcolor": "white",
            "linecolor": "white",
            "ticks": ""
           },
           "baxis": {
            "gridcolor": "white",
            "linecolor": "white",
            "ticks": ""
           },
           "bgcolor": "#E5ECF6",
           "caxis": {
            "gridcolor": "white",
            "linecolor": "white",
            "ticks": ""
           }
          },
          "title": {
           "x": 0.05
          },
          "xaxis": {
           "automargin": true,
           "gridcolor": "white",
           "linecolor": "white",
           "ticks": "",
           "title": {
            "standoff": 15
           },
           "zerolinecolor": "white",
           "zerolinewidth": 2
          },
          "yaxis": {
           "automargin": true,
           "gridcolor": "white",
           "linecolor": "white",
           "ticks": "",
           "title": {
            "standoff": 15
           },
           "zerolinecolor": "white",
           "zerolinewidth": 2
          }
         }
        },
        "title": {
         "text": "Commonly used image analysis tools",
         "x": 0.5
        },
        "width": 700,
        "yaxis": {
         "categoryorder": "total ascending"
        }
       }
      }
     },
     "metadata": {},
     "output_type": "display_data"
    }
   ],
   "source": [
    "#What image analysis tools have you used before?\n",
    "com_tool_2021 = pd.read_csv('C:\\\\Users\\\\ssivagur\\\\Documents\\\\2021_Image_analysis_survey_data\\\\What_image_analysis_tools_have_you_used_before_check_all_that_apply.txt')\n",
    "com_tool_2021 = com_tool_2021.rename(columns={'0':'com_used_tools'})\n",
    "\n",
    "#Commonly used image analysis tools\n",
    "com_tool_2021['Commonly used image analysis tools'] = com_tool_2021['com_used_tools'].astype(str) # this is done to ignore the Nan for analysis \n",
    "com_tool_2021[\"Commercial software that comes with my microscope\"] = com_tool_2021['com_used_tools'].apply(lambda x: True if 'Columbus' in x else False)\n",
    "com_tool_2021[\"Other commercial software\"] = com_tool_2021['com_used_tools'].apply(lambda x: True if 'Imaris' in x else False)\n",
    "com_tool_2021[\"Open source point-and-click software\"] = com_tool_2021[\"com_used_tools\"].apply(lambda x: True if 'FIJI' in x else False)\n",
    "com_tool_2021[\"Computational libraries and scripts\"] = com_tool_2021[\"com_used_tools\"].apply(lambda x: True if 'MATLAB' in x else False)\n",
    "com_tool_2021[\"Tools_none\"] = com_tool_2021[\"com_used_tools\"].apply(lambda x: True if 'None' in x else False)\n",
    "\n",
    "# creating a subset of the dataframe\n",
    "com_tool_2021_subset = com_tool_2021.iloc[:, 2:7]\n",
    "com_tool_2021_df = pd.DataFrame(com_tool_2021_subset.sum())\n",
    "com_tool_2021_df = com_tool_2021_df.reset_index()\n",
    "com_tool_2021_df = com_tool_2021_df.rename(columns={'index':'tools', 0:'counts'})\n",
    "com_tool_2021_df\n",
    "# comparison of the commonly used image analysis tools - 2020 and 2022\n",
    "com_tool_21_22 = go.Figure()\n",
    "\n",
    "com_tool_21_22.add_trace(go.Bar(name='2020', y=com_tool_2021_df['tools'], x=com_tool_2021_df['counts'], text=com_tool_2021_df['counts'], orientation='h'))\n",
    "com_tool_21_22.add_trace(go.Bar(name='2022', x=com_tool_df['counts'], y=com_tool_df.index, text=com_tool_df['counts'], orientation='h'))\n",
    "\n",
    "com_tool_21_22.update_layout(width=700, height=400, title=\"Commonly used image analysis tools\", title_x=0.5, font=dict(family='Helvetica', color=\"Black\", size=16), legend=dict(title_font_family = 'Helvetica', font=dict(size=16, color=\"Black\")))\n",
    "com_tool_21_22.update_yaxes(categoryorder = 'total ascending')\n"
   ]
  },
  {
   "attachments": {},
   "cell_type": "markdown",
   "metadata": {},
   "source": [
    "#### Kinds of images analyzed"
   ]
  },
  {
   "cell_type": "code",
   "execution_count": 24,
   "metadata": {},
   "outputs": [],
   "source": [
    "#what type of images do you commonly want to analyze?\n",
    "\n",
    "# Brightfield manually acquired-2020\n",
    "BF_manual_2020 = pd.read_csv('C:\\\\Users\\\\ssivagur\\\\Documents\\\\2021_Image_analysis_survey_data\\\\What_kinds_of_images_do_you_commonly_want_to_analyze_Brightfield_DIC_phase-contrast_of_cells_or_organisms_from_manually_selected_fields.txt')\n",
    "BF_manual_2020 = BF_manual_2020.rename(columns={'0':'Brightfield/DIC/phase-contrast manually acquired'})\n",
    "\n",
    "# Brightfield automated-2020\n",
    "BF_automated_2020 = pd.read_csv('C:\\\\Users\\\\ssivagur\\\\Documents\\\\2021_Image_analysis_survey_data\\\\What_kinds_of_images_do_you_commonly_want_to_analyze_Brightfield_DIC_phase-contrast_of_cells_or_organisms_from_an_automated_microscope.txt')\n",
    "BF_automated_2020 = BF_automated_2020.rename(columns={'0':'Brightfield/DIC/phase-contrast automated'})\n",
    "\n",
    "#fluorescent manual -2020\n",
    "fluorescent_manual_2020 = pd.read_csv('C:\\\\Users\\\\ssivagur\\\\Documents\\\\2021_Image_analysis_survey_data\\\\What_kinds_of_images_do_you_commonly_want_to_analyze_Fluorescent_images_of_cells_organisms_from_manually_selected_fields.txt')\n",
    "fluorescent_manual_2020 = fluorescent_manual_2020.rename(columns={'0':'Fluorescent images manually acquired'})\n",
    "\n",
    "#fluorescent automated -2020\n",
    "fluorescent_automated_2020 = pd.read_csv('C:\\\\Users\\\\ssivagur\\\\Documents\\\\2021_Image_analysis_survey_data\\\\What_kinds_of_images_do_you_commonly_want_to_analyze_Fluorescent_images_of_cells_organisms_from_an_automated_microscope.txt')\n",
    "fluorescent_automated_2020 = fluorescent_automated_2020.rename(columns={'0':'Fluorescent images automated'})\n",
    "\n",
    "#histology in tissue sections-2020\n",
    "histology_2020 = pd.read_csv('C:\\\\Users\\\\ssivagur\\\\Documents\\\\2021_Image_analysis_survey_data\\\\What_kinds_of_images_do_you_commonly_want_to_analyze_Histologically_stained_tissue_sections.txt')\n",
    "histology_2020 = histology_2020.rename(columns={'0':'Histological tissue sections'})\n",
    "\n",
    "#fluorescence in tissue sections-2020\n",
    "flo_2020 = pd.read_csv('C:\\\\Users\\\\ssivagur\\\\Documents\\\\2021_Image_analysis_survey_data\\\\What_kinds_of_images_do_you_commonly_want_to_analyze_Fluorescently_stained_tissue_sections.txt')\n",
    "flo_2020 = flo_2020.rename(columns={'0':'Fluorescence in tissue sections'})\n",
    "\n",
    "#Electron microscopy -2020\n",
    "elec_2020 = pd.read_csv('C:\\\\Users\\\\ssivagur\\\\Documents\\\\2021_Image_analysis_survey_data\\\\What_kinds_of_images_do_you_commonly_want_to_analyze_Electron_microscopy.txt')\n",
    "elec_2020 = elec_2020.rename(columns={'0':'Electron microscopy'})\n",
    "\n",
    "#Imaging mass spectrometry - 2020\n",
    "ms_2020 = pd.read_csv('C:\\\\Users\\\\ssivagur\\\\Documents\\\\2021_Image_analysis_survey_data\\\\What_kinds_of_images_do_you_commonly_want_to_analyze_Imaging_mass_spectrometry.txt')\n",
    "ms_2020 = ms_2020.rename(columns={'0':'Imaging mass spectrometry'})\n",
    "\n",
    "#Imaging flow cytometry - 2020\n",
    "fc_2020 = pd.read_csv('C:\\\\Users\\\\ssivagur\\\\Documents\\\\2021_Image_analysis_survey_data\\\\What_kinds_of_images_do_you_commonly_want_to_analyze_Imaging_flow_cytometry.txt')\n",
    "fc_2020 = fc_2020.rename(columns={'0':'Imaging flow cytometry'})\n",
    "\n",
    "#super resolution - 2020\n",
    "sr_2020 = pd.read_csv('C:\\\\Users\\\\ssivagur\\\\Documents\\\\2021_Image_analysis_survey_data\\\\What_kinds_of_images_do_you_commonly_want_to_analyze_Superresolution_PALM_STORM.txt')\n",
    "sr_2020 = sr_2020.rename(columns={'0':'Superresolution (PALM/STORM)'})\n",
    "\n",
    "#FLIM -2020\n",
    "flim_2020 = pd.read_csv('C:\\\\Users\\\\ssivagur\\\\Documents\\\\2021_Image_analysis_survey_data\\\\What_kinds_of_images_do_you_commonly_want_to_analyze_Autofluorescence_imaging_ie_FLIM.txt')\n",
    "flim_2020 = flim_2020.rename(columns={'0':'Autofluorescence imaging (ie FLIM)'})\n",
    "\n",
    "# combining all the dataframes - modality - 2020\n",
    "modality_type_combined_2020 = pd.concat([BF_manual_2020,BF_automated_2020,fluorescent_manual_2020,fluorescent_automated_2020,histology_2020,\n",
    "flo_2020,elec_2020,ms_2020,fc_2020,sr_2020,flim_2020], axis=1)\n"
   ]
  },
  {
   "cell_type": "code",
   "execution_count": 25,
   "metadata": {},
   "outputs": [
    {
     "data": {
      "application/vnd.plotly.v1+json": {
       "config": {
        "plotlyServerURL": "https://plot.ly"
       },
       "data": [
        {
         "name": "2D",
         "orientation": "h",
         "text": [
          195,
          121,
          293,
          185,
          165,
          216,
          76,
          15,
          16,
          86,
          46
         ],
         "type": "bar",
         "x": [
          195,
          121,
          293,
          185,
          165,
          216,
          76,
          15,
          16,
          86,
          46
         ],
         "y": [
          "Brightfield/DIC/phase-contrast manually acquired",
          "Brightfield/DIC/phase-contrast automated",
          "Fluorescent images manually acquired",
          "Fluorescent images automated",
          "Histological tissue sections",
          "Fluorescence in tissue sections",
          "Electron microscopy",
          "Imaging mass spectrometry",
          "Imaging flow cytometry",
          "Superresolution (PALM/STORM)",
          "Autofluorescence imaging (ie FLIM)"
         ]
        },
        {
         "name": "2D+time",
         "orientation": "h",
         "text": [
          121,
          104,
          220,
          144,
          23,
          31,
          8,
          1,
          6,
          41,
          30
         ],
         "type": "bar",
         "x": [
          121,
          104,
          220,
          144,
          23,
          31,
          8,
          1,
          6,
          41,
          30
         ],
         "y": [
          "Brightfield/DIC/phase-contrast manually acquired",
          "Brightfield/DIC/phase-contrast automated",
          "Fluorescent images manually acquired",
          "Fluorescent images automated",
          "Histological tissue sections",
          "Fluorescence in tissue sections",
          "Electron microscopy",
          "Imaging mass spectrometry",
          "Imaging flow cytometry",
          "Superresolution (PALM/STORM)",
          "Autofluorescence imaging (ie FLIM)"
         ]
        },
        {
         "name": "3D(<3000x3000x100)",
         "orientation": "h",
         "text": [
          57,
          38,
          228,
          123,
          27,
          134,
          26,
          null,
          1,
          58,
          15
         ],
         "type": "bar",
         "x": [
          57,
          38,
          228,
          123,
          27,
          134,
          26,
          null,
          1,
          58,
          15
         ],
         "y": [
          "Brightfield/DIC/phase-contrast manually acquired",
          "Brightfield/DIC/phase-contrast automated",
          "Fluorescent images manually acquired",
          "Fluorescent images automated",
          "Histological tissue sections",
          "Fluorescence in tissue sections",
          "Electron microscopy",
          "Imaging mass spectrometry",
          "Imaging flow cytometry",
          "Superresolution (PALM/STORM)",
          "Autofluorescence imaging (ie FLIM)"
         ]
        },
        {
         "name": "3D+time",
         "orientation": "h",
         "text": [
          36,
          27,
          169,
          104,
          6,
          20,
          4,
          null,
          1,
          24,
          15
         ],
         "type": "bar",
         "x": [
          36,
          27,
          169,
          104,
          6,
          20,
          4,
          null,
          1,
          24,
          15
         ],
         "y": [
          "Brightfield/DIC/phase-contrast manually acquired",
          "Brightfield/DIC/phase-contrast automated",
          "Fluorescent images manually acquired",
          "Fluorescent images automated",
          "Histological tissue sections",
          "Fluorescence in tissue sections",
          "Electron microscopy",
          "Imaging mass spectrometry",
          "Imaging flow cytometry",
          "Superresolution (PALM/STORM)",
          "Autofluorescence imaging (ie FLIM)"
         ]
        },
        {
         "name": "3Dlargevolume+time",
         "orientation": "h",
         "text": [
          9,
          6,
          64,
          39,
          5,
          19,
          1,
          1,
          1,
          3,
          4
         ],
         "type": "bar",
         "x": [
          9,
          6,
          64,
          39,
          5,
          19,
          1,
          1,
          1,
          3,
          4
         ],
         "y": [
          "Brightfield/DIC/phase-contrast manually acquired",
          "Brightfield/DIC/phase-contrast automated",
          "Fluorescent images manually acquired",
          "Fluorescent images automated",
          "Histological tissue sections",
          "Fluorescence in tissue sections",
          "Electron microscopy",
          "Imaging mass spectrometry",
          "Imaging flow cytometry",
          "Superresolution (PALM/STORM)",
          "Autofluorescence imaging (ie FLIM)"
         ]
        },
        {
         "name": "3D(SPIM/largevolume)",
         "orientation": "h",
         "text": [
          11,
          8,
          80,
          46,
          11,
          43,
          15,
          null,
          null,
          3,
          4
         ],
         "type": "bar",
         "x": [
          11,
          8,
          80,
          46,
          11,
          43,
          15,
          null,
          null,
          3,
          4
         ],
         "y": [
          "Brightfield/DIC/phase-contrast manually acquired",
          "Brightfield/DIC/phase-contrast automated",
          "Fluorescent images manually acquired",
          "Fluorescent images automated",
          "Histological tissue sections",
          "Fluorescence in tissue sections",
          "Electron microscopy",
          "Imaging mass spectrometry",
          "Imaging flow cytometry",
          "Superresolution (PALM/STORM)",
          "Autofluorescence imaging (ie FLIM)"
         ]
        }
       ],
       "layout": {
        "barmode": "stack",
        "font": {
         "color": "Black",
         "family": "Helvetica",
         "size": 16
        },
        "height": 500,
        "legend": {
         "font": {
          "color": "Black",
          "size": 16
         },
         "title": {
          "font": {
           "family": "Helvetica"
          }
         },
         "x": 0.99,
         "xanchor": "right",
         "y": 0.02,
         "yanchor": "bottom"
        },
        "template": {
         "data": {
          "bar": [
           {
            "error_x": {
             "color": "#2a3f5f"
            },
            "error_y": {
             "color": "#2a3f5f"
            },
            "marker": {
             "line": {
              "color": "#E5ECF6",
              "width": 0.5
             },
             "pattern": {
              "fillmode": "overlay",
              "size": 10,
              "solidity": 0.2
             }
            },
            "type": "bar"
           }
          ],
          "barpolar": [
           {
            "marker": {
             "line": {
              "color": "#E5ECF6",
              "width": 0.5
             },
             "pattern": {
              "fillmode": "overlay",
              "size": 10,
              "solidity": 0.2
             }
            },
            "type": "barpolar"
           }
          ],
          "carpet": [
           {
            "aaxis": {
             "endlinecolor": "#2a3f5f",
             "gridcolor": "white",
             "linecolor": "white",
             "minorgridcolor": "white",
             "startlinecolor": "#2a3f5f"
            },
            "baxis": {
             "endlinecolor": "#2a3f5f",
             "gridcolor": "white",
             "linecolor": "white",
             "minorgridcolor": "white",
             "startlinecolor": "#2a3f5f"
            },
            "type": "carpet"
           }
          ],
          "choropleth": [
           {
            "colorbar": {
             "outlinewidth": 0,
             "ticks": ""
            },
            "type": "choropleth"
           }
          ],
          "contour": [
           {
            "colorbar": {
             "outlinewidth": 0,
             "ticks": ""
            },
            "colorscale": [
             [
              0,
              "#0d0887"
             ],
             [
              0.1111111111111111,
              "#46039f"
             ],
             [
              0.2222222222222222,
              "#7201a8"
             ],
             [
              0.3333333333333333,
              "#9c179e"
             ],
             [
              0.4444444444444444,
              "#bd3786"
             ],
             [
              0.5555555555555556,
              "#d8576b"
             ],
             [
              0.6666666666666666,
              "#ed7953"
             ],
             [
              0.7777777777777778,
              "#fb9f3a"
             ],
             [
              0.8888888888888888,
              "#fdca26"
             ],
             [
              1,
              "#f0f921"
             ]
            ],
            "type": "contour"
           }
          ],
          "contourcarpet": [
           {
            "colorbar": {
             "outlinewidth": 0,
             "ticks": ""
            },
            "type": "contourcarpet"
           }
          ],
          "heatmap": [
           {
            "colorbar": {
             "outlinewidth": 0,
             "ticks": ""
            },
            "colorscale": [
             [
              0,
              "#0d0887"
             ],
             [
              0.1111111111111111,
              "#46039f"
             ],
             [
              0.2222222222222222,
              "#7201a8"
             ],
             [
              0.3333333333333333,
              "#9c179e"
             ],
             [
              0.4444444444444444,
              "#bd3786"
             ],
             [
              0.5555555555555556,
              "#d8576b"
             ],
             [
              0.6666666666666666,
              "#ed7953"
             ],
             [
              0.7777777777777778,
              "#fb9f3a"
             ],
             [
              0.8888888888888888,
              "#fdca26"
             ],
             [
              1,
              "#f0f921"
             ]
            ],
            "type": "heatmap"
           }
          ],
          "heatmapgl": [
           {
            "colorbar": {
             "outlinewidth": 0,
             "ticks": ""
            },
            "colorscale": [
             [
              0,
              "#0d0887"
             ],
             [
              0.1111111111111111,
              "#46039f"
             ],
             [
              0.2222222222222222,
              "#7201a8"
             ],
             [
              0.3333333333333333,
              "#9c179e"
             ],
             [
              0.4444444444444444,
              "#bd3786"
             ],
             [
              0.5555555555555556,
              "#d8576b"
             ],
             [
              0.6666666666666666,
              "#ed7953"
             ],
             [
              0.7777777777777778,
              "#fb9f3a"
             ],
             [
              0.8888888888888888,
              "#fdca26"
             ],
             [
              1,
              "#f0f921"
             ]
            ],
            "type": "heatmapgl"
           }
          ],
          "histogram": [
           {
            "marker": {
             "pattern": {
              "fillmode": "overlay",
              "size": 10,
              "solidity": 0.2
             }
            },
            "type": "histogram"
           }
          ],
          "histogram2d": [
           {
            "colorbar": {
             "outlinewidth": 0,
             "ticks": ""
            },
            "colorscale": [
             [
              0,
              "#0d0887"
             ],
             [
              0.1111111111111111,
              "#46039f"
             ],
             [
              0.2222222222222222,
              "#7201a8"
             ],
             [
              0.3333333333333333,
              "#9c179e"
             ],
             [
              0.4444444444444444,
              "#bd3786"
             ],
             [
              0.5555555555555556,
              "#d8576b"
             ],
             [
              0.6666666666666666,
              "#ed7953"
             ],
             [
              0.7777777777777778,
              "#fb9f3a"
             ],
             [
              0.8888888888888888,
              "#fdca26"
             ],
             [
              1,
              "#f0f921"
             ]
            ],
            "type": "histogram2d"
           }
          ],
          "histogram2dcontour": [
           {
            "colorbar": {
             "outlinewidth": 0,
             "ticks": ""
            },
            "colorscale": [
             [
              0,
              "#0d0887"
             ],
             [
              0.1111111111111111,
              "#46039f"
             ],
             [
              0.2222222222222222,
              "#7201a8"
             ],
             [
              0.3333333333333333,
              "#9c179e"
             ],
             [
              0.4444444444444444,
              "#bd3786"
             ],
             [
              0.5555555555555556,
              "#d8576b"
             ],
             [
              0.6666666666666666,
              "#ed7953"
             ],
             [
              0.7777777777777778,
              "#fb9f3a"
             ],
             [
              0.8888888888888888,
              "#fdca26"
             ],
             [
              1,
              "#f0f921"
             ]
            ],
            "type": "histogram2dcontour"
           }
          ],
          "mesh3d": [
           {
            "colorbar": {
             "outlinewidth": 0,
             "ticks": ""
            },
            "type": "mesh3d"
           }
          ],
          "parcoords": [
           {
            "line": {
             "colorbar": {
              "outlinewidth": 0,
              "ticks": ""
             }
            },
            "type": "parcoords"
           }
          ],
          "pie": [
           {
            "automargin": true,
            "type": "pie"
           }
          ],
          "scatter": [
           {
            "fillpattern": {
             "fillmode": "overlay",
             "size": 10,
             "solidity": 0.2
            },
            "type": "scatter"
           }
          ],
          "scatter3d": [
           {
            "line": {
             "colorbar": {
              "outlinewidth": 0,
              "ticks": ""
             }
            },
            "marker": {
             "colorbar": {
              "outlinewidth": 0,
              "ticks": ""
             }
            },
            "type": "scatter3d"
           }
          ],
          "scattercarpet": [
           {
            "marker": {
             "colorbar": {
              "outlinewidth": 0,
              "ticks": ""
             }
            },
            "type": "scattercarpet"
           }
          ],
          "scattergeo": [
           {
            "marker": {
             "colorbar": {
              "outlinewidth": 0,
              "ticks": ""
             }
            },
            "type": "scattergeo"
           }
          ],
          "scattergl": [
           {
            "marker": {
             "colorbar": {
              "outlinewidth": 0,
              "ticks": ""
             }
            },
            "type": "scattergl"
           }
          ],
          "scattermapbox": [
           {
            "marker": {
             "colorbar": {
              "outlinewidth": 0,
              "ticks": ""
             }
            },
            "type": "scattermapbox"
           }
          ],
          "scatterpolar": [
           {
            "marker": {
             "colorbar": {
              "outlinewidth": 0,
              "ticks": ""
             }
            },
            "type": "scatterpolar"
           }
          ],
          "scatterpolargl": [
           {
            "marker": {
             "colorbar": {
              "outlinewidth": 0,
              "ticks": ""
             }
            },
            "type": "scatterpolargl"
           }
          ],
          "scatterternary": [
           {
            "marker": {
             "colorbar": {
              "outlinewidth": 0,
              "ticks": ""
             }
            },
            "type": "scatterternary"
           }
          ],
          "surface": [
           {
            "colorbar": {
             "outlinewidth": 0,
             "ticks": ""
            },
            "colorscale": [
             [
              0,
              "#0d0887"
             ],
             [
              0.1111111111111111,
              "#46039f"
             ],
             [
              0.2222222222222222,
              "#7201a8"
             ],
             [
              0.3333333333333333,
              "#9c179e"
             ],
             [
              0.4444444444444444,
              "#bd3786"
             ],
             [
              0.5555555555555556,
              "#d8576b"
             ],
             [
              0.6666666666666666,
              "#ed7953"
             ],
             [
              0.7777777777777778,
              "#fb9f3a"
             ],
             [
              0.8888888888888888,
              "#fdca26"
             ],
             [
              1,
              "#f0f921"
             ]
            ],
            "type": "surface"
           }
          ],
          "table": [
           {
            "cells": {
             "fill": {
              "color": "#EBF0F8"
             },
             "line": {
              "color": "white"
             }
            },
            "header": {
             "fill": {
              "color": "#C8D4E3"
             },
             "line": {
              "color": "white"
             }
            },
            "type": "table"
           }
          ]
         },
         "layout": {
          "annotationdefaults": {
           "arrowcolor": "#2a3f5f",
           "arrowhead": 0,
           "arrowwidth": 1
          },
          "autotypenumbers": "strict",
          "coloraxis": {
           "colorbar": {
            "outlinewidth": 0,
            "ticks": ""
           }
          },
          "colorscale": {
           "diverging": [
            [
             0,
             "#8e0152"
            ],
            [
             0.1,
             "#c51b7d"
            ],
            [
             0.2,
             "#de77ae"
            ],
            [
             0.3,
             "#f1b6da"
            ],
            [
             0.4,
             "#fde0ef"
            ],
            [
             0.5,
             "#f7f7f7"
            ],
            [
             0.6,
             "#e6f5d0"
            ],
            [
             0.7,
             "#b8e186"
            ],
            [
             0.8,
             "#7fbc41"
            ],
            [
             0.9,
             "#4d9221"
            ],
            [
             1,
             "#276419"
            ]
           ],
           "sequential": [
            [
             0,
             "#0d0887"
            ],
            [
             0.1111111111111111,
             "#46039f"
            ],
            [
             0.2222222222222222,
             "#7201a8"
            ],
            [
             0.3333333333333333,
             "#9c179e"
            ],
            [
             0.4444444444444444,
             "#bd3786"
            ],
            [
             0.5555555555555556,
             "#d8576b"
            ],
            [
             0.6666666666666666,
             "#ed7953"
            ],
            [
             0.7777777777777778,
             "#fb9f3a"
            ],
            [
             0.8888888888888888,
             "#fdca26"
            ],
            [
             1,
             "#f0f921"
            ]
           ],
           "sequentialminus": [
            [
             0,
             "#0d0887"
            ],
            [
             0.1111111111111111,
             "#46039f"
            ],
            [
             0.2222222222222222,
             "#7201a8"
            ],
            [
             0.3333333333333333,
             "#9c179e"
            ],
            [
             0.4444444444444444,
             "#bd3786"
            ],
            [
             0.5555555555555556,
             "#d8576b"
            ],
            [
             0.6666666666666666,
             "#ed7953"
            ],
            [
             0.7777777777777778,
             "#fb9f3a"
            ],
            [
             0.8888888888888888,
             "#fdca26"
            ],
            [
             1,
             "#f0f921"
            ]
           ]
          },
          "colorway": [
           "#636efa",
           "#EF553B",
           "#00cc96",
           "#ab63fa",
           "#FFA15A",
           "#19d3f3",
           "#FF6692",
           "#B6E880",
           "#FF97FF",
           "#FECB52"
          ],
          "font": {
           "color": "#2a3f5f"
          },
          "geo": {
           "bgcolor": "white",
           "lakecolor": "white",
           "landcolor": "#E5ECF6",
           "showlakes": true,
           "showland": true,
           "subunitcolor": "white"
          },
          "hoverlabel": {
           "align": "left"
          },
          "hovermode": "closest",
          "mapbox": {
           "style": "light"
          },
          "paper_bgcolor": "white",
          "plot_bgcolor": "#E5ECF6",
          "polar": {
           "angularaxis": {
            "gridcolor": "white",
            "linecolor": "white",
            "ticks": ""
           },
           "bgcolor": "#E5ECF6",
           "radialaxis": {
            "gridcolor": "white",
            "linecolor": "white",
            "ticks": ""
           }
          },
          "scene": {
           "xaxis": {
            "backgroundcolor": "#E5ECF6",
            "gridcolor": "white",
            "gridwidth": 2,
            "linecolor": "white",
            "showbackground": true,
            "ticks": "",
            "zerolinecolor": "white"
           },
           "yaxis": {
            "backgroundcolor": "#E5ECF6",
            "gridcolor": "white",
            "gridwidth": 2,
            "linecolor": "white",
            "showbackground": true,
            "ticks": "",
            "zerolinecolor": "white"
           },
           "zaxis": {
            "backgroundcolor": "#E5ECF6",
            "gridcolor": "white",
            "gridwidth": 2,
            "linecolor": "white",
            "showbackground": true,
            "ticks": "",
            "zerolinecolor": "white"
           }
          },
          "shapedefaults": {
           "line": {
            "color": "#2a3f5f"
           }
          },
          "ternary": {
           "aaxis": {
            "gridcolor": "white",
            "linecolor": "white",
            "ticks": ""
           },
           "baxis": {
            "gridcolor": "white",
            "linecolor": "white",
            "ticks": ""
           },
           "bgcolor": "#E5ECF6",
           "caxis": {
            "gridcolor": "white",
            "linecolor": "white",
            "ticks": ""
           }
          },
          "title": {
           "x": 0.05
          },
          "xaxis": {
           "automargin": true,
           "gridcolor": "white",
           "linecolor": "white",
           "ticks": "",
           "title": {
            "standoff": 15
           },
           "zerolinecolor": "white",
           "zerolinewidth": 2
          },
          "yaxis": {
           "automargin": true,
           "gridcolor": "white",
           "linecolor": "white",
           "ticks": "",
           "title": {
            "standoff": 15
           },
           "zerolinecolor": "white",
           "zerolinewidth": 2
          }
         }
        },
        "title": {
         "text": "Kinds_of_images_analyzed_2020",
         "x": 0.5,
         "y": 0.9
        },
        "width": 1200,
        "yaxis": {
         "categoryorder": "total ascending"
        }
       }
      }
     },
     "metadata": {},
     "output_type": "display_data"
    }
   ],
   "source": [
    "stacked_barchart(modality_type_combined_2020, title='Kinds_of_images_analyzed_2020', order_of_stacks=['2D', '2D+time','3D(<3000x3000x100)', '3D+time', '3Dlargevolume+time', '3D(SPIM/largevolume)'])"
   ]
  },
  {
   "cell_type": "code",
   "execution_count": null,
   "metadata": {},
   "outputs": [],
   "source": [
    "\n",
    "#Commonly analyzed images - 2020 and 2022\n",
    "\n",
    "image_20_22 = go.Figure()\n",
    "\n",
    "image_20_22.add_trace(go.Bar(name='2020', y=modality_type_combined_2020['modality'], x=modality_type_combined_2020['sum'], text=modality_type_combined_2020['sum'], orientation='h'))\n",
    "image_20_22.add_trace(go.Bar(name='2022', y=modality_type_combined['modality'], x=modality_type_combined['sum'], text=modality_type_combined['sum'],  orientation='h'))\n",
    "\n",
    "image_20_22.update_layout(width=1000, height=500, title=\"Commonly analyzed images\", title_x=0.5,title_y=0.90, font=dict(family='Helvetica', color=\"Black\", size=16), legend=dict(title_font_family = 'Helvetica', font=dict(size=16, color=\"Black\")))\n",
    "image_20_22.update_yaxes(categoryorder = 'total ascending')\n",
    "#stacked bar chart for the modality and types combined \n",
    "\n",
    "mod_type_com = go.Figure()\n",
    "\n",
    "mod_type_com.add_trace(go.Bar(name='2D', x =modality_type_combined[\"2D\"], y =modality_type_combined[\"modality\"], orientation='h', text=modality_type_combined[\"2D\"]))\n",
    "mod_type_chart.add_trace(go.Bar(name= '2D + time', x =modality_type_combined[\"2D + time\"], y =modality_type_combined[\"modality\"], orientation='h', text=modality_type_combined[\"2D + time\"]))\n",
    "mod_type_chart.add_trace(go.Bar(name= '3D', x =modality_type_combined[\"3D\"], y =modality_type_combined[\"modality\"], orientation='h', text=modality_type_combined[\"3D\"]))\n",
    "mod_type_chart.add_trace(go.Bar(name= '3D + time', x =modality_type_combined[\"3D + time\"], y =modality_type_combined[\"modality\"], orientation='h', text=modality_type_combined[\"3D + time\"]))\n",
    "mod_type_chart.add_trace(go.Bar(name= '3D (SPIM/large volume)', x =modality_type_combined[\"3D (SPIM/large volume)\"], y =modality_type_combined[\"modality\"], orientation='h', text=modality_type_combined[\"3D (SPIM/large volume)\"]))\n",
    "mod_type_chart.add_trace(go.Bar(name= '3D large volume + time', x =modality_type_combined[\"3D large volume + time\"], y =modality_type_combined[\"modality\"], orientation='h', text=modality_type_combined[\"3D large volume + time\"]))\n",
    "\n",
    "mod_type_chart.update_layout(barmode='stack', title ='What kinds of images do you commonly want to analyze?', title_x=0.5, height =500, title_y=0.9, font=dict(family='Helvetica', color=\"Black\", size=16), legend=dict(title_font_family = 'Helvetica', font=dict(size=16, color=\"Black\")))\n",
    "mod_type_chart.update_yaxes(categoryorder='total ascending')\n",
    "\n"
   ]
  },
  {
   "attachments": {},
   "cell_type": "markdown",
   "metadata": {},
   "source": [
    "#### Topics of interest - comparison"
   ]
  },
  {
   "cell_type": "code",
   "execution_count": 26,
   "metadata": {},
   "outputs": [
    {
     "data": {
      "text/html": [
       "<div>\n",
       "<style scoped>\n",
       "    .dataframe tbody tr th:only-of-type {\n",
       "        vertical-align: middle;\n",
       "    }\n",
       "\n",
       "    .dataframe tbody tr th {\n",
       "        vertical-align: top;\n",
       "    }\n",
       "\n",
       "    .dataframe thead th {\n",
       "        text-align: right;\n",
       "    }\n",
       "</style>\n",
       "<table border=\"1\" class=\"dataframe\">\n",
       "  <thead>\n",
       "    <tr style=\"text-align: right;\">\n",
       "      <th></th>\n",
       "      <th>interest</th>\n",
       "      <th>Image analysis theory</th>\n",
       "      <th>Image analysis practices</th>\n",
       "      <th>Practices related to particular field</th>\n",
       "      <th>Specific software tool</th>\n",
       "      <th>Deep learning for image analysis</th>\n",
       "      <th>percent_theory</th>\n",
       "      <th>percent_practices</th>\n",
       "      <th>percent_particular</th>\n",
       "      <th>percent_sptool</th>\n",
       "      <th>percent_DL</th>\n",
       "    </tr>\n",
       "  </thead>\n",
       "  <tbody>\n",
       "    <tr>\n",
       "      <th>0</th>\n",
       "      <td>Very interested</td>\n",
       "      <td>182</td>\n",
       "      <td>248</td>\n",
       "      <td>360</td>\n",
       "      <td>238</td>\n",
       "      <td>234</td>\n",
       "      <td>37.6</td>\n",
       "      <td>51.2</td>\n",
       "      <td>74.4</td>\n",
       "      <td>49.2</td>\n",
       "      <td>48.3</td>\n",
       "    </tr>\n",
       "    <tr>\n",
       "      <th>1</th>\n",
       "      <td>Moderately interested</td>\n",
       "      <td>147</td>\n",
       "      <td>162</td>\n",
       "      <td>94</td>\n",
       "      <td>149</td>\n",
       "      <td>138</td>\n",
       "      <td>30.4</td>\n",
       "      <td>33.5</td>\n",
       "      <td>19.4</td>\n",
       "      <td>30.8</td>\n",
       "      <td>28.5</td>\n",
       "    </tr>\n",
       "    <tr>\n",
       "      <th>2</th>\n",
       "      <td>Somewhat interested</td>\n",
       "      <td>126</td>\n",
       "      <td>68</td>\n",
       "      <td>28</td>\n",
       "      <td>83</td>\n",
       "      <td>88</td>\n",
       "      <td>26.0</td>\n",
       "      <td>14.0</td>\n",
       "      <td>5.8</td>\n",
       "      <td>17.1</td>\n",
       "      <td>18.2</td>\n",
       "    </tr>\n",
       "    <tr>\n",
       "      <th>3</th>\n",
       "      <td>Not at all interested</td>\n",
       "      <td>29</td>\n",
       "      <td>6</td>\n",
       "      <td>2</td>\n",
       "      <td>14</td>\n",
       "      <td>24</td>\n",
       "      <td>6.0</td>\n",
       "      <td>1.2</td>\n",
       "      <td>0.4</td>\n",
       "      <td>2.9</td>\n",
       "      <td>5.0</td>\n",
       "    </tr>\n",
       "  </tbody>\n",
       "</table>\n",
       "</div>"
      ],
      "text/plain": [
       "                interest  Image analysis theory  Image analysis practices  \\\n",
       "0        Very interested                    182                       248   \n",
       "1  Moderately interested                    147                       162   \n",
       "2    Somewhat interested                    126                        68   \n",
       "3  Not at all interested                     29                         6   \n",
       "\n",
       "   Practices related to particular field  Specific software tool  \\\n",
       "0                                    360                     238   \n",
       "1                                     94                     149   \n",
       "2                                     28                      83   \n",
       "3                                      2                      14   \n",
       "\n",
       "   Deep learning for image analysis  percent_theory  percent_practices  \\\n",
       "0                               234            37.6               51.2   \n",
       "1                               138            30.4               33.5   \n",
       "2                                88            26.0               14.0   \n",
       "3                                24             6.0                1.2   \n",
       "\n",
       "   percent_particular  percent_sptool  percent_DL  \n",
       "0                74.4            49.2        48.3  \n",
       "1                19.4            30.8        28.5  \n",
       "2                 5.8            17.1        18.2  \n",
       "3                 0.4             2.9         5.0  "
      ]
     },
     "execution_count": 26,
     "metadata": {},
     "output_type": "execute_result"
    }
   ],
   "source": [
    "# Topics of interest for the tutorials - 2020 and 2022\n",
    "int_2020_theory = pd.read_csv('C:\\\\Users\\\\ssivagur\\\\Documents\\\\2021_Image_analysis_survey_data\\\\How_interested_are_you_in_learning_more_about_the_following_topics_Image_analysis_theory_.txt')\n",
    "int_2020_theory = int_2020_theory.rename(columns={'0':'theory'})\n",
    "int_2020_theory = int_2020_theory['theory'].value_counts().to_frame()\n",
    "\n",
    "int_2020_practices = pd.read_csv('C:\\\\Users\\\\ssivagur\\\\Documents\\\\2021_Image_analysis_survey_data\\\\How_interested_are_you_in_learning_more_about_the_following_topics_General_image_analysis_practices.txt')\n",
    "int_2020_practices = int_2020_practices.rename(columns={'0':'practices'})\n",
    "int_2020_practices = int_2020_practices['practices'].value_counts().to_frame()\n",
    "\n",
    "int_2020_par_field = pd.read_csv('C:\\\\Users\\\\ssivagur\\\\Documents\\\\2021_Image_analysis_survey_data\\\\How_interested_are_you_in_learning_more_about_the_following_topics_Image_analysis_practices_particular_to_my_field.txt')\n",
    "int_2020_par_field = int_2020_par_field.rename(columns={'0':'Practices related to particular field'})\n",
    "int_2020_par_field = int_2020_par_field['Practices related to particular field'].value_counts().to_frame()\n",
    "\n",
    "int_2020_spc_tool = pd.read_csv('C:\\\\Users\\\\ssivagur\\\\Documents\\\\2021_Image_analysis_survey_data\\\\How_interested_are_you_in_learning_more_about_the_following_topics_Learning_to_use_a_particular_software_tool.txt')\n",
    "int_2020_spc_tool = int_2020_spc_tool.rename(columns={'0':'Specific software tool'})\n",
    "int_2020_spc_tool = int_2020_spc_tool['Specific software tool'].value_counts().to_frame()\n",
    "\n",
    "int_2020_DL = pd.read_csv('C:\\\\Users\\\\ssivagur\\\\Documents\\\\2021_Image_analysis_survey_data\\\\How_interested_are_you_in_learning_more_about_the_following_topics_Deep_learning_as_applied_to_image_analysis.txt')\n",
    "int_2020_DL = int_2020_DL.rename(columns={'0':'Deep learning for image analysis'})\n",
    "int_2020_DL = int_2020_DL['Deep learning for image analysis'].value_counts().to_frame()\n",
    "int_2020_com = pd.concat([int_2020_theory, int_2020_practices, int_2020_par_field, int_2020_spc_tool, int_2020_DL], axis=1)\n",
    "int_2020_com = int_2020_com.rename(columns={'theory':'Image analysis theory', 'practices':'Image analysis practices'})\n",
    "int_2020_com = int_2020_com.reset_index()\n",
    "int_2020_com = int_2020_com.rename(columns={'index':'interest'})\n",
    "\n",
    "#changing the value of the row since the it is 'A little interested' in 2020 and 'somewhat interested' in 2022\n",
    "int_2020_com.loc[2,'interest'] = 'Somewhat interested'\n",
    "\n",
    "#getting the percentage \n",
    "int_2020_com['percent_theory'] = (int_2020_com['Image analysis theory']/int_2020_com['Image analysis theory'].sum()) *100\n",
    "int_2020_com['percent_practices'] = (int_2020_com['Image analysis practices']/int_2020_com['Image analysis practices'].sum()) *100\n",
    "int_2020_com['percent_particular'] = (int_2020_com['Practices related to particular field']/int_2020_com['Practices related to particular field'].sum()) *100\n",
    "int_2020_com['percent_sptool'] = (int_2020_com['Specific software tool']/int_2020_com['Specific software tool'].sum()) *100\n",
    "int_2020_com['percent_DL'] = (int_2020_com['Deep learning for image analysis']/int_2020_com['Deep learning for image analysis'].sum()) *100\n",
    "\n",
    "#rounding up the decimals\n",
    "int_2020_com['percent_theory']= int_2020_com['percent_theory'].round(decimals=1)\n",
    "int_2020_com['percent_practices'] = int_2020_com['percent_practices'].round(decimals=1)\n",
    "int_2020_com['percent_particular'] = int_2020_com['percent_particular'].round(decimals=1)\n",
    "int_2020_com['percent_sptool'] = int_2020_com['percent_sptool'].round(decimals=1)\n",
    "int_2020_com['percent_DL'] = int_2020_com['percent_DL'].round(decimals=1)\n",
    "int_2020_com\n"
   ]
  },
  {
   "cell_type": "code",
   "execution_count": 34,
   "metadata": {},
   "outputs": [],
   "source": [
    "trial_radar = data[\"Image analysis theory\"].value_counts().to_frame()\n",
    "trial_radar_1=data[\"Image analysis practices\"].value_counts().to_frame()\n",
    "trial_radar_2=data[\"Topics related to sub discipline\"].value_counts().to_frame()\n",
    "trial_radar_3=data[\"Specific software tool\"].value_counts().to_frame()\n",
    "trial_radar_4=data[\"Deep learning for image analysis\"].value_counts().to_frame()\n",
    "trial_radar_5=data[\"Analyzing large images\"].value_counts().to_frame()\n",
    "trial_radar_6=data[\"Visualization of results\"].value_counts().to_frame()\n",
    "\n",
    "#concatenating all the related columns for topics of interest\n",
    "trial = pd.concat([trial_radar, trial_radar_1, trial_radar_2, trial_radar_3, trial_radar_4, trial_radar_5, trial_radar_6], axis=1)\n",
    "\n",
    "#Reseting the index so that the column can be renamed\n",
    "trial =trial.reset_index()\n",
    "trial = trial.rename(columns={'index':'interest'})"
   ]
  },
  {
   "cell_type": "code",
   "execution_count": 36,
   "metadata": {},
   "outputs": [
    {
     "data": {
      "text/html": [
       "<div>\n",
       "<style scoped>\n",
       "    .dataframe tbody tr th:only-of-type {\n",
       "        vertical-align: middle;\n",
       "    }\n",
       "\n",
       "    .dataframe tbody tr th {\n",
       "        vertical-align: top;\n",
       "    }\n",
       "\n",
       "    .dataframe thead th {\n",
       "        text-align: right;\n",
       "    }\n",
       "</style>\n",
       "<table border=\"1\" class=\"dataframe\">\n",
       "  <thead>\n",
       "    <tr style=\"text-align: right;\">\n",
       "      <th></th>\n",
       "      <th>interest</th>\n",
       "      <th>Image analysis theory</th>\n",
       "      <th>Image analysis practices</th>\n",
       "      <th>Topics related to sub discipline</th>\n",
       "      <th>Specific software tool</th>\n",
       "      <th>Deep learning for image analysis</th>\n",
       "      <th>percent_theory</th>\n",
       "      <th>percent_practices</th>\n",
       "      <th>percent_particular</th>\n",
       "      <th>percent_sptool</th>\n",
       "      <th>percent_DL</th>\n",
       "    </tr>\n",
       "  </thead>\n",
       "  <tbody>\n",
       "    <tr>\n",
       "      <th>0</th>\n",
       "      <td>Very interested</td>\n",
       "      <td>157</td>\n",
       "      <td>227</td>\n",
       "      <td>341</td>\n",
       "      <td>223</td>\n",
       "      <td>207</td>\n",
       "      <td>31.8</td>\n",
       "      <td>46.0</td>\n",
       "      <td>69.2</td>\n",
       "      <td>45.2</td>\n",
       "      <td>42.0</td>\n",
       "    </tr>\n",
       "    <tr>\n",
       "      <th>1</th>\n",
       "      <td>Moderately interested</td>\n",
       "      <td>150</td>\n",
       "      <td>188</td>\n",
       "      <td>109</td>\n",
       "      <td>171</td>\n",
       "      <td>143</td>\n",
       "      <td>30.4</td>\n",
       "      <td>38.1</td>\n",
       "      <td>22.1</td>\n",
       "      <td>34.7</td>\n",
       "      <td>29.0</td>\n",
       "    </tr>\n",
       "    <tr>\n",
       "      <th>2</th>\n",
       "      <td>Somewhat interested</td>\n",
       "      <td>147</td>\n",
       "      <td>69</td>\n",
       "      <td>36</td>\n",
       "      <td>82</td>\n",
       "      <td>114</td>\n",
       "      <td>29.8</td>\n",
       "      <td>14.0</td>\n",
       "      <td>7.3</td>\n",
       "      <td>16.6</td>\n",
       "      <td>23.1</td>\n",
       "    </tr>\n",
       "    <tr>\n",
       "      <th>3</th>\n",
       "      <td>Not at all interested</td>\n",
       "      <td>39</td>\n",
       "      <td>9</td>\n",
       "      <td>7</td>\n",
       "      <td>17</td>\n",
       "      <td>29</td>\n",
       "      <td>7.9</td>\n",
       "      <td>1.8</td>\n",
       "      <td>1.4</td>\n",
       "      <td>3.4</td>\n",
       "      <td>5.9</td>\n",
       "    </tr>\n",
       "  </tbody>\n",
       "</table>\n",
       "</div>"
      ],
      "text/plain": [
       "                interest  Image analysis theory  Image analysis practices  \\\n",
       "0        Very interested                    157                       227   \n",
       "1  Moderately interested                    150                       188   \n",
       "2    Somewhat interested                    147                        69   \n",
       "3  Not at all interested                     39                         9   \n",
       "\n",
       "   Topics related to sub discipline  Specific software tool  \\\n",
       "0                               341                     223   \n",
       "1                               109                     171   \n",
       "2                                36                      82   \n",
       "3                                 7                      17   \n",
       "\n",
       "   Deep learning for image analysis  percent_theory  percent_practices  \\\n",
       "0                               207            31.8               46.0   \n",
       "1                               143            30.4               38.1   \n",
       "2                               114            29.8               14.0   \n",
       "3                                29             7.9                1.8   \n",
       "\n",
       "   percent_particular  percent_sptool  percent_DL  \n",
       "0                69.2            45.2        42.0  \n",
       "1                22.1            34.7        29.0  \n",
       "2                 7.3            16.6        23.1  \n",
       "3                 1.4             3.4         5.9  "
      ]
     },
     "execution_count": 36,
     "metadata": {},
     "output_type": "execute_result"
    }
   ],
   "source": [
    "#editing the 2022 column \n",
    "trial_subset = trial.iloc[:, 0:6]\n",
    "trial_subset = trial_subset.rename(columns={'Interes in topics Image analysis theory':'Image analysis theory', 'Interest in topics Image analysis practices':'Image analysis practices','Interest in topics related to sub discipline':'Practices related to particular field','Interest in topics Specific software tool':'Specific software tool', 'Interest in topics Deep learning for image analysis':'Deep learning for image analysis'})\n",
    "trial_subset\n",
    "\n",
    "#getting the percentage \n",
    "trial_subset['percent_theory'] = (trial_subset['Image analysis theory']/trial_subset['Image analysis theory'].sum()) *100\n",
    "trial_subset['percent_practices'] = (trial_subset['Image analysis practices']/trial_subset['Image analysis practices'].sum()) *100\n",
    "trial_subset['percent_particular'] = (trial_subset['Topics related to sub discipline']/trial_subset['Topics related to sub discipline'].sum()) *100\n",
    "trial_subset['percent_sptool'] = (trial_subset['Specific software tool']/trial_subset['Specific software tool'].sum()) *100\n",
    "trial_subset['percent_DL'] = (trial_subset['Deep learning for image analysis']/trial_subset['Deep learning for image analysis'].sum()) *100\n",
    "\n",
    "#rounding up the decimals\n",
    "trial_subset['percent_theory']= trial_subset['percent_theory'].round(decimals=1)\n",
    "trial_subset['percent_practices'] = trial_subset['percent_practices'].round(decimals=1)\n",
    "trial_subset['percent_particular'] = trial_subset['percent_particular'].round(decimals=1)\n",
    "trial_subset['percent_sptool'] = trial_subset['percent_sptool'].round(decimals=1)\n",
    "trial_subset['percent_DL'] = trial_subset['percent_DL'].round(decimals=1)\n",
    "trial_subset\n"
   ]
  },
  {
   "cell_type": "code",
   "execution_count": 37,
   "metadata": {},
   "outputs": [
    {
     "data": {
      "application/vnd.plotly.v1+json": {
       "config": {
        "plotlyServerURL": "https://plot.ly"
       },
       "data": [
        {
         "legendgroup": "group1",
         "marker": {
          "color": "#636EFA"
         },
         "name": "2020",
         "text": [
          37.6,
          30.4,
          26,
          6
         ],
         "type": "bar",
         "x": [
          "Very interested",
          "Moderately interested",
          "Somewhat interested",
          "Not at all interested"
         ],
         "xaxis": "x",
         "y": [
          37.6,
          30.4,
          26,
          6
         ],
         "yaxis": "y"
        },
        {
         "legendgroup": "group1",
         "marker": {
          "color": "rgba(255, 0, 0, 0.6)"
         },
         "name": "2022",
         "text": [
          31.8,
          30.4,
          29.8,
          7.9
         ],
         "type": "bar",
         "x": [
          "Very interested",
          "Moderately interested",
          "Somewhat interested",
          "Not at all interested"
         ],
         "xaxis": "x",
         "y": [
          31.8,
          30.4,
          29.8,
          7.9
         ],
         "yaxis": "y"
        },
        {
         "marker": {
          "color": "#636EFA"
         },
         "showlegend": false,
         "text": [
          51.2,
          33.5,
          14,
          1.2
         ],
         "type": "bar",
         "x": [
          "Very interested",
          "Moderately interested",
          "Somewhat interested",
          "Not at all interested"
         ],
         "xaxis": "x2",
         "y": [
          51.2,
          33.5,
          14,
          1.2
         ],
         "yaxis": "y2"
        },
        {
         "marker": {
          "color": "rgba(255, 0, 0, 0.6)"
         },
         "showlegend": false,
         "text": [
          46,
          38.1,
          14,
          1.8
         ],
         "type": "bar",
         "x": [
          "Very interested",
          "Moderately interested",
          "Somewhat interested",
          "Not at all interested"
         ],
         "xaxis": "x2",
         "y": [
          46,
          38.1,
          14,
          1.8
         ],
         "yaxis": "y2"
        },
        {
         "marker": {
          "color": "#636EFA"
         },
         "showlegend": false,
         "text": [
          74.4,
          19.4,
          5.8,
          0.4
         ],
         "type": "bar",
         "x": [
          "Very interested",
          "Moderately interested",
          "Somewhat interested",
          "Not at all interested"
         ],
         "xaxis": "x3",
         "y": [
          74.4,
          19.4,
          5.8,
          0.4
         ],
         "yaxis": "y3"
        },
        {
         "marker": {
          "color": "rgba(255, 0, 0, 0.6)"
         },
         "showlegend": false,
         "text": [
          69.2,
          22.1,
          7.3,
          1.4
         ],
         "type": "bar",
         "x": [
          "Very interested",
          "Moderately interested",
          "Somewhat interested",
          "Not at all interested"
         ],
         "xaxis": "x3",
         "y": [
          69.2,
          22.1,
          7.3,
          1.4
         ],
         "yaxis": "y3"
        },
        {
         "marker": {
          "color": "#636EFA"
         },
         "showlegend": false,
         "text": [
          49.2,
          30.8,
          17.1,
          2.9
         ],
         "type": "bar",
         "x": [
          "Very interested",
          "Moderately interested",
          "Somewhat interested",
          "Not at all interested"
         ],
         "xaxis": "x4",
         "y": [
          49.2,
          30.8,
          17.1,
          2.9
         ],
         "yaxis": "y4"
        },
        {
         "marker": {
          "color": "rgba(255, 0, 0, 0.6)"
         },
         "showlegend": false,
         "text": [
          45.2,
          34.7,
          16.6,
          3.4
         ],
         "type": "bar",
         "x": [
          "Very interested",
          "Moderately interested",
          "Somewhat interested",
          "Not at all interested"
         ],
         "xaxis": "x4",
         "y": [
          45.2,
          34.7,
          16.6,
          3.4
         ],
         "yaxis": "y4"
        },
        {
         "marker": {
          "color": "#636EFA"
         },
         "showlegend": false,
         "text": [
          48.3,
          28.5,
          18.2,
          5
         ],
         "type": "bar",
         "x": [
          "Very interested",
          "Moderately interested",
          "Somewhat interested",
          "Not at all interested"
         ],
         "xaxis": "x5",
         "y": [
          48.3,
          28.5,
          18.2,
          5
         ],
         "yaxis": "y5"
        },
        {
         "marker": {
          "color": "rgba(255, 0, 0, 0.6)"
         },
         "showlegend": false,
         "text": [
          42,
          29,
          23.1,
          5.9
         ],
         "type": "bar",
         "x": [
          "Very interested",
          "Moderately interested",
          "Somewhat interested",
          "Not at all interested"
         ],
         "xaxis": "x5",
         "y": [
          42,
          29,
          23.1,
          5.9
         ],
         "yaxis": "y5"
        }
       ],
       "layout": {
        "annotations": [
         {
          "font": {
           "size": 16
          },
          "showarrow": false,
          "text": "Image analysis theory",
          "x": 0.225,
          "xanchor": "center",
          "xref": "paper",
          "y": 1,
          "yanchor": "bottom",
          "yref": "paper"
         },
         {
          "font": {
           "size": 16
          },
          "showarrow": false,
          "text": "Image analysis practices",
          "x": 0.775,
          "xanchor": "center",
          "xref": "paper",
          "y": 1,
          "yanchor": "bottom",
          "yref": "paper"
         },
         {
          "font": {
           "size": 16
          },
          "showarrow": false,
          "text": "Image analysis practices <br> related to particular field",
          "x": 0.225,
          "xanchor": "center",
          "xref": "paper",
          "y": 0.71875,
          "yanchor": "bottom",
          "yref": "paper"
         },
         {
          "font": {
           "size": 16
          },
          "showarrow": false,
          "text": "Specific software tool",
          "x": 0.775,
          "xanchor": "center",
          "xref": "paper",
          "y": 0.71875,
          "yanchor": "bottom",
          "yref": "paper"
         },
         {
          "font": {
           "size": 16
          },
          "showarrow": false,
          "text": "Deep learning for image analysis",
          "x": 0.225,
          "xanchor": "center",
          "xref": "paper",
          "y": 0.4375,
          "yanchor": "bottom",
          "yref": "paper"
         }
        ],
        "font": {
         "color": "Black",
         "family": "Helvetica",
         "size": 14
        },
        "height": 1200,
        "legend": {
         "font": {
          "color": "Black",
          "size": 16
         },
         "title": {
          "font": {
           "family": "Helvetica"
          }
         }
        },
        "template": {
         "data": {
          "bar": [
           {
            "error_x": {
             "color": "#2a3f5f"
            },
            "error_y": {
             "color": "#2a3f5f"
            },
            "marker": {
             "line": {
              "color": "#E5ECF6",
              "width": 0.5
             },
             "pattern": {
              "fillmode": "overlay",
              "size": 10,
              "solidity": 0.2
             }
            },
            "type": "bar"
           }
          ],
          "barpolar": [
           {
            "marker": {
             "line": {
              "color": "#E5ECF6",
              "width": 0.5
             },
             "pattern": {
              "fillmode": "overlay",
              "size": 10,
              "solidity": 0.2
             }
            },
            "type": "barpolar"
           }
          ],
          "carpet": [
           {
            "aaxis": {
             "endlinecolor": "#2a3f5f",
             "gridcolor": "white",
             "linecolor": "white",
             "minorgridcolor": "white",
             "startlinecolor": "#2a3f5f"
            },
            "baxis": {
             "endlinecolor": "#2a3f5f",
             "gridcolor": "white",
             "linecolor": "white",
             "minorgridcolor": "white",
             "startlinecolor": "#2a3f5f"
            },
            "type": "carpet"
           }
          ],
          "choropleth": [
           {
            "colorbar": {
             "outlinewidth": 0,
             "ticks": ""
            },
            "type": "choropleth"
           }
          ],
          "contour": [
           {
            "colorbar": {
             "outlinewidth": 0,
             "ticks": ""
            },
            "colorscale": [
             [
              0,
              "#0d0887"
             ],
             [
              0.1111111111111111,
              "#46039f"
             ],
             [
              0.2222222222222222,
              "#7201a8"
             ],
             [
              0.3333333333333333,
              "#9c179e"
             ],
             [
              0.4444444444444444,
              "#bd3786"
             ],
             [
              0.5555555555555556,
              "#d8576b"
             ],
             [
              0.6666666666666666,
              "#ed7953"
             ],
             [
              0.7777777777777778,
              "#fb9f3a"
             ],
             [
              0.8888888888888888,
              "#fdca26"
             ],
             [
              1,
              "#f0f921"
             ]
            ],
            "type": "contour"
           }
          ],
          "contourcarpet": [
           {
            "colorbar": {
             "outlinewidth": 0,
             "ticks": ""
            },
            "type": "contourcarpet"
           }
          ],
          "heatmap": [
           {
            "colorbar": {
             "outlinewidth": 0,
             "ticks": ""
            },
            "colorscale": [
             [
              0,
              "#0d0887"
             ],
             [
              0.1111111111111111,
              "#46039f"
             ],
             [
              0.2222222222222222,
              "#7201a8"
             ],
             [
              0.3333333333333333,
              "#9c179e"
             ],
             [
              0.4444444444444444,
              "#bd3786"
             ],
             [
              0.5555555555555556,
              "#d8576b"
             ],
             [
              0.6666666666666666,
              "#ed7953"
             ],
             [
              0.7777777777777778,
              "#fb9f3a"
             ],
             [
              0.8888888888888888,
              "#fdca26"
             ],
             [
              1,
              "#f0f921"
             ]
            ],
            "type": "heatmap"
           }
          ],
          "heatmapgl": [
           {
            "colorbar": {
             "outlinewidth": 0,
             "ticks": ""
            },
            "colorscale": [
             [
              0,
              "#0d0887"
             ],
             [
              0.1111111111111111,
              "#46039f"
             ],
             [
              0.2222222222222222,
              "#7201a8"
             ],
             [
              0.3333333333333333,
              "#9c179e"
             ],
             [
              0.4444444444444444,
              "#bd3786"
             ],
             [
              0.5555555555555556,
              "#d8576b"
             ],
             [
              0.6666666666666666,
              "#ed7953"
             ],
             [
              0.7777777777777778,
              "#fb9f3a"
             ],
             [
              0.8888888888888888,
              "#fdca26"
             ],
             [
              1,
              "#f0f921"
             ]
            ],
            "type": "heatmapgl"
           }
          ],
          "histogram": [
           {
            "marker": {
             "pattern": {
              "fillmode": "overlay",
              "size": 10,
              "solidity": 0.2
             }
            },
            "type": "histogram"
           }
          ],
          "histogram2d": [
           {
            "colorbar": {
             "outlinewidth": 0,
             "ticks": ""
            },
            "colorscale": [
             [
              0,
              "#0d0887"
             ],
             [
              0.1111111111111111,
              "#46039f"
             ],
             [
              0.2222222222222222,
              "#7201a8"
             ],
             [
              0.3333333333333333,
              "#9c179e"
             ],
             [
              0.4444444444444444,
              "#bd3786"
             ],
             [
              0.5555555555555556,
              "#d8576b"
             ],
             [
              0.6666666666666666,
              "#ed7953"
             ],
             [
              0.7777777777777778,
              "#fb9f3a"
             ],
             [
              0.8888888888888888,
              "#fdca26"
             ],
             [
              1,
              "#f0f921"
             ]
            ],
            "type": "histogram2d"
           }
          ],
          "histogram2dcontour": [
           {
            "colorbar": {
             "outlinewidth": 0,
             "ticks": ""
            },
            "colorscale": [
             [
              0,
              "#0d0887"
             ],
             [
              0.1111111111111111,
              "#46039f"
             ],
             [
              0.2222222222222222,
              "#7201a8"
             ],
             [
              0.3333333333333333,
              "#9c179e"
             ],
             [
              0.4444444444444444,
              "#bd3786"
             ],
             [
              0.5555555555555556,
              "#d8576b"
             ],
             [
              0.6666666666666666,
              "#ed7953"
             ],
             [
              0.7777777777777778,
              "#fb9f3a"
             ],
             [
              0.8888888888888888,
              "#fdca26"
             ],
             [
              1,
              "#f0f921"
             ]
            ],
            "type": "histogram2dcontour"
           }
          ],
          "mesh3d": [
           {
            "colorbar": {
             "outlinewidth": 0,
             "ticks": ""
            },
            "type": "mesh3d"
           }
          ],
          "parcoords": [
           {
            "line": {
             "colorbar": {
              "outlinewidth": 0,
              "ticks": ""
             }
            },
            "type": "parcoords"
           }
          ],
          "pie": [
           {
            "automargin": true,
            "type": "pie"
           }
          ],
          "scatter": [
           {
            "fillpattern": {
             "fillmode": "overlay",
             "size": 10,
             "solidity": 0.2
            },
            "type": "scatter"
           }
          ],
          "scatter3d": [
           {
            "line": {
             "colorbar": {
              "outlinewidth": 0,
              "ticks": ""
             }
            },
            "marker": {
             "colorbar": {
              "outlinewidth": 0,
              "ticks": ""
             }
            },
            "type": "scatter3d"
           }
          ],
          "scattercarpet": [
           {
            "marker": {
             "colorbar": {
              "outlinewidth": 0,
              "ticks": ""
             }
            },
            "type": "scattercarpet"
           }
          ],
          "scattergeo": [
           {
            "marker": {
             "colorbar": {
              "outlinewidth": 0,
              "ticks": ""
             }
            },
            "type": "scattergeo"
           }
          ],
          "scattergl": [
           {
            "marker": {
             "colorbar": {
              "outlinewidth": 0,
              "ticks": ""
             }
            },
            "type": "scattergl"
           }
          ],
          "scattermapbox": [
           {
            "marker": {
             "colorbar": {
              "outlinewidth": 0,
              "ticks": ""
             }
            },
            "type": "scattermapbox"
           }
          ],
          "scatterpolar": [
           {
            "marker": {
             "colorbar": {
              "outlinewidth": 0,
              "ticks": ""
             }
            },
            "type": "scatterpolar"
           }
          ],
          "scatterpolargl": [
           {
            "marker": {
             "colorbar": {
              "outlinewidth": 0,
              "ticks": ""
             }
            },
            "type": "scatterpolargl"
           }
          ],
          "scatterternary": [
           {
            "marker": {
             "colorbar": {
              "outlinewidth": 0,
              "ticks": ""
             }
            },
            "type": "scatterternary"
           }
          ],
          "surface": [
           {
            "colorbar": {
             "outlinewidth": 0,
             "ticks": ""
            },
            "colorscale": [
             [
              0,
              "#0d0887"
             ],
             [
              0.1111111111111111,
              "#46039f"
             ],
             [
              0.2222222222222222,
              "#7201a8"
             ],
             [
              0.3333333333333333,
              "#9c179e"
             ],
             [
              0.4444444444444444,
              "#bd3786"
             ],
             [
              0.5555555555555556,
              "#d8576b"
             ],
             [
              0.6666666666666666,
              "#ed7953"
             ],
             [
              0.7777777777777778,
              "#fb9f3a"
             ],
             [
              0.8888888888888888,
              "#fdca26"
             ],
             [
              1,
              "#f0f921"
             ]
            ],
            "type": "surface"
           }
          ],
          "table": [
           {
            "cells": {
             "fill": {
              "color": "#EBF0F8"
             },
             "line": {
              "color": "white"
             }
            },
            "header": {
             "fill": {
              "color": "#C8D4E3"
             },
             "line": {
              "color": "white"
             }
            },
            "type": "table"
           }
          ]
         },
         "layout": {
          "annotationdefaults": {
           "arrowcolor": "#2a3f5f",
           "arrowhead": 0,
           "arrowwidth": 1
          },
          "autotypenumbers": "strict",
          "coloraxis": {
           "colorbar": {
            "outlinewidth": 0,
            "ticks": ""
           }
          },
          "colorscale": {
           "diverging": [
            [
             0,
             "#8e0152"
            ],
            [
             0.1,
             "#c51b7d"
            ],
            [
             0.2,
             "#de77ae"
            ],
            [
             0.3,
             "#f1b6da"
            ],
            [
             0.4,
             "#fde0ef"
            ],
            [
             0.5,
             "#f7f7f7"
            ],
            [
             0.6,
             "#e6f5d0"
            ],
            [
             0.7,
             "#b8e186"
            ],
            [
             0.8,
             "#7fbc41"
            ],
            [
             0.9,
             "#4d9221"
            ],
            [
             1,
             "#276419"
            ]
           ],
           "sequential": [
            [
             0,
             "#0d0887"
            ],
            [
             0.1111111111111111,
             "#46039f"
            ],
            [
             0.2222222222222222,
             "#7201a8"
            ],
            [
             0.3333333333333333,
             "#9c179e"
            ],
            [
             0.4444444444444444,
             "#bd3786"
            ],
            [
             0.5555555555555556,
             "#d8576b"
            ],
            [
             0.6666666666666666,
             "#ed7953"
            ],
            [
             0.7777777777777778,
             "#fb9f3a"
            ],
            [
             0.8888888888888888,
             "#fdca26"
            ],
            [
             1,
             "#f0f921"
            ]
           ],
           "sequentialminus": [
            [
             0,
             "#0d0887"
            ],
            [
             0.1111111111111111,
             "#46039f"
            ],
            [
             0.2222222222222222,
             "#7201a8"
            ],
            [
             0.3333333333333333,
             "#9c179e"
            ],
            [
             0.4444444444444444,
             "#bd3786"
            ],
            [
             0.5555555555555556,
             "#d8576b"
            ],
            [
             0.6666666666666666,
             "#ed7953"
            ],
            [
             0.7777777777777778,
             "#fb9f3a"
            ],
            [
             0.8888888888888888,
             "#fdca26"
            ],
            [
             1,
             "#f0f921"
            ]
           ]
          },
          "colorway": [
           "#636efa",
           "#EF553B",
           "#00cc96",
           "#ab63fa",
           "#FFA15A",
           "#19d3f3",
           "#FF6692",
           "#B6E880",
           "#FF97FF",
           "#FECB52"
          ],
          "font": {
           "color": "#2a3f5f"
          },
          "geo": {
           "bgcolor": "white",
           "lakecolor": "white",
           "landcolor": "#E5ECF6",
           "showlakes": true,
           "showland": true,
           "subunitcolor": "white"
          },
          "hoverlabel": {
           "align": "left"
          },
          "hovermode": "closest",
          "mapbox": {
           "style": "light"
          },
          "paper_bgcolor": "white",
          "plot_bgcolor": "#E5ECF6",
          "polar": {
           "angularaxis": {
            "gridcolor": "white",
            "linecolor": "white",
            "ticks": ""
           },
           "bgcolor": "#E5ECF6",
           "radialaxis": {
            "gridcolor": "white",
            "linecolor": "white",
            "ticks": ""
           }
          },
          "scene": {
           "xaxis": {
            "backgroundcolor": "#E5ECF6",
            "gridcolor": "white",
            "gridwidth": 2,
            "linecolor": "white",
            "showbackground": true,
            "ticks": "",
            "zerolinecolor": "white"
           },
           "yaxis": {
            "backgroundcolor": "#E5ECF6",
            "gridcolor": "white",
            "gridwidth": 2,
            "linecolor": "white",
            "showbackground": true,
            "ticks": "",
            "zerolinecolor": "white"
           },
           "zaxis": {
            "backgroundcolor": "#E5ECF6",
            "gridcolor": "white",
            "gridwidth": 2,
            "linecolor": "white",
            "showbackground": true,
            "ticks": "",
            "zerolinecolor": "white"
           }
          },
          "shapedefaults": {
           "line": {
            "color": "#2a3f5f"
           }
          },
          "ternary": {
           "aaxis": {
            "gridcolor": "white",
            "linecolor": "white",
            "ticks": ""
           },
           "baxis": {
            "gridcolor": "white",
            "linecolor": "white",
            "ticks": ""
           },
           "bgcolor": "#E5ECF6",
           "caxis": {
            "gridcolor": "white",
            "linecolor": "white",
            "ticks": ""
           }
          },
          "title": {
           "x": 0.05
          },
          "xaxis": {
           "automargin": true,
           "gridcolor": "white",
           "linecolor": "white",
           "ticks": "",
           "title": {
            "standoff": 15
           },
           "zerolinecolor": "white",
           "zerolinewidth": 2
          },
          "yaxis": {
           "automargin": true,
           "gridcolor": "white",
           "linecolor": "white",
           "ticks": "",
           "title": {
            "standoff": 15
           },
           "zerolinecolor": "white",
           "zerolinewidth": 2
          }
         }
        },
        "title": {
         "text": "Topics of interest for the future workshops",
         "x": 0.5
        },
        "width": 650,
        "xaxis": {
         "anchor": "y",
         "domain": [
          0,
          0.45
         ]
        },
        "xaxis2": {
         "anchor": "y2",
         "domain": [
          0.55,
          1
         ]
        },
        "xaxis3": {
         "anchor": "y3",
         "domain": [
          0,
          0.45
         ]
        },
        "xaxis4": {
         "anchor": "y4",
         "domain": [
          0.55,
          1
         ]
        },
        "xaxis5": {
         "anchor": "y5",
         "domain": [
          0,
          0.45
         ]
        },
        "xaxis6": {
         "anchor": "y6",
         "domain": [
          0.55,
          1
         ]
        },
        "xaxis7": {
         "anchor": "y7",
         "domain": [
          0,
          0.45
         ]
        },
        "xaxis8": {
         "anchor": "y8",
         "domain": [
          0.55,
          1
         ]
        },
        "yaxis": {
         "anchor": "x",
         "domain": [
          0.84375,
          1
         ],
         "matches": "y7",
         "title": {
          "text": "Percent"
         }
        },
        "yaxis2": {
         "anchor": "x2",
         "domain": [
          0.84375,
          1
         ],
         "matches": "y7",
         "showticklabels": false
        },
        "yaxis3": {
         "anchor": "x3",
         "domain": [
          0.5625,
          0.71875
         ],
         "matches": "y7",
         "title": {
          "text": "Percent"
         }
        },
        "yaxis4": {
         "anchor": "x4",
         "domain": [
          0.5625,
          0.71875
         ],
         "matches": "y7",
         "showticklabels": false
        },
        "yaxis5": {
         "anchor": "x5",
         "domain": [
          0.28125,
          0.4375
         ],
         "matches": "y7",
         "title": {
          "text": "Percent"
         }
        },
        "yaxis6": {
         "anchor": "x6",
         "domain": [
          0.28125,
          0.4375
         ],
         "matches": "y7",
         "showticklabels": false
        },
        "yaxis7": {
         "anchor": "x7",
         "domain": [
          0,
          0.15625
         ]
        },
        "yaxis8": {
         "anchor": "x8",
         "domain": [
          0,
          0.15625
         ],
         "matches": "y7",
         "showticklabels": false
        }
       }
      }
     },
     "metadata": {},
     "output_type": "display_data"
    }
   ],
   "source": [
    "#comparison - topics of interest for the tutorials \n",
    "int_tut_20_22 = go.Figure()\n",
    "\n",
    "int_tut_20_22 = make_subplots(rows=4, cols=2,shared_yaxes='all', subplot_titles=('Image analysis theory', 'Image analysis practices', 'Image analysis practices <br> related to particular field', 'Specific software tool', 'Deep learning for image analysis'))\n",
    "\n",
    "\n",
    "int_tut_20_22.add_trace(go.Bar(name=\"2020\", x=int_2020_com['interest'], y=int_2020_com['percent_theory'], text=int_2020_com['percent_theory'],marker_color= '#636EFA', legendgroup='group1', yaxis='y1'), row=1, col=1)\n",
    "int_tut_20_22.add_trace(go.Bar(name=\"2022\", x=trial_subset['interest'], y=trial_subset['percent_theory'], text=trial_subset['percent_theory'],marker_color= 'rgba(255, 0, 0, 0.6)', legendgroup='group1'), row=1, col=1)\n",
    "\n",
    "int_tut_20_22.add_trace(go.Bar(x=int_2020_com['interest'], y=int_2020_com['percent_practices'], text=int_2020_com['percent_practices'],marker_color= '#636EFA', showlegend=False),row=1, col=2)\n",
    "int_tut_20_22.add_trace(go.Bar(x=trial_subset['interest'], y=trial_subset['percent_practices'], text=trial_subset['percent_practices'],marker_color= 'rgba(255, 0, 0, 0.6)', showlegend=False),row=1, col=2)\n",
    "\n",
    "int_tut_20_22.add_trace(go.Bar(x=int_2020_com['interest'], y=int_2020_com['percent_particular'], text=int_2020_com['percent_particular'],marker_color= '#636EFA',showlegend=False, yaxis='y3'),row=2, col=1)\n",
    "int_tut_20_22.add_trace(go.Bar(x=trial_subset['interest'], y=trial_subset['percent_particular'], text=trial_subset['percent_particular'],marker_color= 'rgba(255, 0, 0, 0.6)',showlegend=False),row=2, col=1)\n",
    "\n",
    "int_tut_20_22.add_trace(go.Bar(x=int_2020_com['interest'], y=int_2020_com['percent_sptool'], text=int_2020_com['percent_sptool'],marker_color= '#636EFA',showlegend=False),row=2, col=2)\n",
    "int_tut_20_22.add_trace(go.Bar(x=trial_subset['interest'], y=trial_subset['percent_sptool'], text=trial_subset['percent_sptool'],marker_color= 'rgba(255, 0, 0, 0.6)',showlegend=False),row=2, col=2)\n",
    "\n",
    "int_tut_20_22.add_trace(go.Bar(x=int_2020_com['interest'], y=int_2020_com['percent_DL'], text=int_2020_com['percent_DL'],marker_color= '#636EFA',showlegend=False, yaxis='y5'),row=3, col=1)\n",
    "int_tut_20_22.add_trace(go.Bar(x=trial_subset['interest'], y=trial_subset['percent_DL'], text=trial_subset['percent_DL'],marker_color= 'rgba(255, 0, 0, 0.6)', showlegend=False),row=3, col=1)\n",
    "\n",
    "\n",
    "int_tut_20_22.update_layout(width=650, height=1200, font=dict(family='Helvetica', color=\"Black\", size=14), legend=dict(title_font_family = 'Helvetica', font=dict(size=16, color=\"Black\")))\n",
    "int_tut_20_22.update_layout(yaxis1=(dict(title='Percent')), yaxis3=(dict(title='Percent')), yaxis5=(dict(title='Percent')))\n",
    "int_tut_20_22.update_layout(title='Topics of interest for the future workshops', title_x =0.5)\n"
   ]
  },
  {
   "attachments": {},
   "cell_type": "markdown",
   "metadata": {},
   "source": [
    "#### Fold change in the interests"
   ]
  },
  {
   "cell_type": "code",
   "execution_count": 38,
   "metadata": {},
   "outputs": [
    {
     "data": {
      "application/vnd.plotly.v1+json": {
       "config": {
        "plotlyServerURL": "https://plot.ly"
       },
       "data": [
        {
         "marker": {
          "color": "royalblue"
         },
         "name": "Very interested",
         "type": "bar",
         "x": [
          "Image analysis theory",
          "Image analysis practices",
          "Image analysis practices related to particular subdiscipline",
          "Particular software tool",
          "Deep learning for image analysis"
         ],
         "y": [
          -0.15,
          -0.1,
          -0.07,
          -0.08,
          -0.13
         ]
        },
        {
         "marker": {
          "color": "dodgerblue"
         },
         "name": "Moderately interested",
         "type": "bar",
         "x": [
          "Image analysis theory",
          "Image analysis practices",
          "Image analysis practices related to particular subdiscipline",
          "Particular software tool",
          "Deep learning for image analysis"
         ],
         "y": [
          0,
          0.14,
          0.14,
          0.13,
          0.02
         ]
        },
        {
         "marker": {
          "color": "cornflowerblue"
         },
         "name": "Somewhat interested",
         "type": "bar",
         "x": [
          "Image analysis theory",
          "Image analysis practices",
          "Image analysis practices related to particular subdiscipline",
          "Particular software tool",
          "Deep learning for image analysis"
         ],
         "y": [
          0.15,
          0,
          0.26,
          -0.03,
          0.27
         ]
        },
        {
         "marker": {
          "color": "skyblue"
         },
         "name": "Not at all interested",
         "type": "bar",
         "x": [
          "Image analysis theory",
          "Image analysis practices",
          "Image analysis practices related to particular subdiscipline",
          "Particular software tool",
          "Deep learning for image analysis"
         ],
         "y": [
          0.32,
          0.5,
          2.5,
          0.17,
          0.18
         ]
        }
       ],
       "layout": {
        "barmode": "group",
        "font": {
         "color": "Black",
         "family": "Helvetica",
         "size": 14
        },
        "height": 600,
        "legend": {
         "font": {
          "color": "Black",
          "size": 16
         },
         "title": {
          "font": {
           "family": "Helvetica"
          }
         }
        },
        "template": {
         "data": {
          "bar": [
           {
            "error_x": {
             "color": "#2a3f5f"
            },
            "error_y": {
             "color": "#2a3f5f"
            },
            "marker": {
             "line": {
              "color": "#E5ECF6",
              "width": 0.5
             },
             "pattern": {
              "fillmode": "overlay",
              "size": 10,
              "solidity": 0.2
             }
            },
            "type": "bar"
           }
          ],
          "barpolar": [
           {
            "marker": {
             "line": {
              "color": "#E5ECF6",
              "width": 0.5
             },
             "pattern": {
              "fillmode": "overlay",
              "size": 10,
              "solidity": 0.2
             }
            },
            "type": "barpolar"
           }
          ],
          "carpet": [
           {
            "aaxis": {
             "endlinecolor": "#2a3f5f",
             "gridcolor": "white",
             "linecolor": "white",
             "minorgridcolor": "white",
             "startlinecolor": "#2a3f5f"
            },
            "baxis": {
             "endlinecolor": "#2a3f5f",
             "gridcolor": "white",
             "linecolor": "white",
             "minorgridcolor": "white",
             "startlinecolor": "#2a3f5f"
            },
            "type": "carpet"
           }
          ],
          "choropleth": [
           {
            "colorbar": {
             "outlinewidth": 0,
             "ticks": ""
            },
            "type": "choropleth"
           }
          ],
          "contour": [
           {
            "colorbar": {
             "outlinewidth": 0,
             "ticks": ""
            },
            "colorscale": [
             [
              0,
              "#0d0887"
             ],
             [
              0.1111111111111111,
              "#46039f"
             ],
             [
              0.2222222222222222,
              "#7201a8"
             ],
             [
              0.3333333333333333,
              "#9c179e"
             ],
             [
              0.4444444444444444,
              "#bd3786"
             ],
             [
              0.5555555555555556,
              "#d8576b"
             ],
             [
              0.6666666666666666,
              "#ed7953"
             ],
             [
              0.7777777777777778,
              "#fb9f3a"
             ],
             [
              0.8888888888888888,
              "#fdca26"
             ],
             [
              1,
              "#f0f921"
             ]
            ],
            "type": "contour"
           }
          ],
          "contourcarpet": [
           {
            "colorbar": {
             "outlinewidth": 0,
             "ticks": ""
            },
            "type": "contourcarpet"
           }
          ],
          "heatmap": [
           {
            "colorbar": {
             "outlinewidth": 0,
             "ticks": ""
            },
            "colorscale": [
             [
              0,
              "#0d0887"
             ],
             [
              0.1111111111111111,
              "#46039f"
             ],
             [
              0.2222222222222222,
              "#7201a8"
             ],
             [
              0.3333333333333333,
              "#9c179e"
             ],
             [
              0.4444444444444444,
              "#bd3786"
             ],
             [
              0.5555555555555556,
              "#d8576b"
             ],
             [
              0.6666666666666666,
              "#ed7953"
             ],
             [
              0.7777777777777778,
              "#fb9f3a"
             ],
             [
              0.8888888888888888,
              "#fdca26"
             ],
             [
              1,
              "#f0f921"
             ]
            ],
            "type": "heatmap"
           }
          ],
          "heatmapgl": [
           {
            "colorbar": {
             "outlinewidth": 0,
             "ticks": ""
            },
            "colorscale": [
             [
              0,
              "#0d0887"
             ],
             [
              0.1111111111111111,
              "#46039f"
             ],
             [
              0.2222222222222222,
              "#7201a8"
             ],
             [
              0.3333333333333333,
              "#9c179e"
             ],
             [
              0.4444444444444444,
              "#bd3786"
             ],
             [
              0.5555555555555556,
              "#d8576b"
             ],
             [
              0.6666666666666666,
              "#ed7953"
             ],
             [
              0.7777777777777778,
              "#fb9f3a"
             ],
             [
              0.8888888888888888,
              "#fdca26"
             ],
             [
              1,
              "#f0f921"
             ]
            ],
            "type": "heatmapgl"
           }
          ],
          "histogram": [
           {
            "marker": {
             "pattern": {
              "fillmode": "overlay",
              "size": 10,
              "solidity": 0.2
             }
            },
            "type": "histogram"
           }
          ],
          "histogram2d": [
           {
            "colorbar": {
             "outlinewidth": 0,
             "ticks": ""
            },
            "colorscale": [
             [
              0,
              "#0d0887"
             ],
             [
              0.1111111111111111,
              "#46039f"
             ],
             [
              0.2222222222222222,
              "#7201a8"
             ],
             [
              0.3333333333333333,
              "#9c179e"
             ],
             [
              0.4444444444444444,
              "#bd3786"
             ],
             [
              0.5555555555555556,
              "#d8576b"
             ],
             [
              0.6666666666666666,
              "#ed7953"
             ],
             [
              0.7777777777777778,
              "#fb9f3a"
             ],
             [
              0.8888888888888888,
              "#fdca26"
             ],
             [
              1,
              "#f0f921"
             ]
            ],
            "type": "histogram2d"
           }
          ],
          "histogram2dcontour": [
           {
            "colorbar": {
             "outlinewidth": 0,
             "ticks": ""
            },
            "colorscale": [
             [
              0,
              "#0d0887"
             ],
             [
              0.1111111111111111,
              "#46039f"
             ],
             [
              0.2222222222222222,
              "#7201a8"
             ],
             [
              0.3333333333333333,
              "#9c179e"
             ],
             [
              0.4444444444444444,
              "#bd3786"
             ],
             [
              0.5555555555555556,
              "#d8576b"
             ],
             [
              0.6666666666666666,
              "#ed7953"
             ],
             [
              0.7777777777777778,
              "#fb9f3a"
             ],
             [
              0.8888888888888888,
              "#fdca26"
             ],
             [
              1,
              "#f0f921"
             ]
            ],
            "type": "histogram2dcontour"
           }
          ],
          "mesh3d": [
           {
            "colorbar": {
             "outlinewidth": 0,
             "ticks": ""
            },
            "type": "mesh3d"
           }
          ],
          "parcoords": [
           {
            "line": {
             "colorbar": {
              "outlinewidth": 0,
              "ticks": ""
             }
            },
            "type": "parcoords"
           }
          ],
          "pie": [
           {
            "automargin": true,
            "type": "pie"
           }
          ],
          "scatter": [
           {
            "fillpattern": {
             "fillmode": "overlay",
             "size": 10,
             "solidity": 0.2
            },
            "type": "scatter"
           }
          ],
          "scatter3d": [
           {
            "line": {
             "colorbar": {
              "outlinewidth": 0,
              "ticks": ""
             }
            },
            "marker": {
             "colorbar": {
              "outlinewidth": 0,
              "ticks": ""
             }
            },
            "type": "scatter3d"
           }
          ],
          "scattercarpet": [
           {
            "marker": {
             "colorbar": {
              "outlinewidth": 0,
              "ticks": ""
             }
            },
            "type": "scattercarpet"
           }
          ],
          "scattergeo": [
           {
            "marker": {
             "colorbar": {
              "outlinewidth": 0,
              "ticks": ""
             }
            },
            "type": "scattergeo"
           }
          ],
          "scattergl": [
           {
            "marker": {
             "colorbar": {
              "outlinewidth": 0,
              "ticks": ""
             }
            },
            "type": "scattergl"
           }
          ],
          "scattermapbox": [
           {
            "marker": {
             "colorbar": {
              "outlinewidth": 0,
              "ticks": ""
             }
            },
            "type": "scattermapbox"
           }
          ],
          "scatterpolar": [
           {
            "marker": {
             "colorbar": {
              "outlinewidth": 0,
              "ticks": ""
             }
            },
            "type": "scatterpolar"
           }
          ],
          "scatterpolargl": [
           {
            "marker": {
             "colorbar": {
              "outlinewidth": 0,
              "ticks": ""
             }
            },
            "type": "scatterpolargl"
           }
          ],
          "scatterternary": [
           {
            "marker": {
             "colorbar": {
              "outlinewidth": 0,
              "ticks": ""
             }
            },
            "type": "scatterternary"
           }
          ],
          "surface": [
           {
            "colorbar": {
             "outlinewidth": 0,
             "ticks": ""
            },
            "colorscale": [
             [
              0,
              "#0d0887"
             ],
             [
              0.1111111111111111,
              "#46039f"
             ],
             [
              0.2222222222222222,
              "#7201a8"
             ],
             [
              0.3333333333333333,
              "#9c179e"
             ],
             [
              0.4444444444444444,
              "#bd3786"
             ],
             [
              0.5555555555555556,
              "#d8576b"
             ],
             [
              0.6666666666666666,
              "#ed7953"
             ],
             [
              0.7777777777777778,
              "#fb9f3a"
             ],
             [
              0.8888888888888888,
              "#fdca26"
             ],
             [
              1,
              "#f0f921"
             ]
            ],
            "type": "surface"
           }
          ],
          "table": [
           {
            "cells": {
             "fill": {
              "color": "#EBF0F8"
             },
             "line": {
              "color": "white"
             }
            },
            "header": {
             "fill": {
              "color": "#C8D4E3"
             },
             "line": {
              "color": "white"
             }
            },
            "type": "table"
           }
          ]
         },
         "layout": {
          "annotationdefaults": {
           "arrowcolor": "#2a3f5f",
           "arrowhead": 0,
           "arrowwidth": 1
          },
          "autotypenumbers": "strict",
          "coloraxis": {
           "colorbar": {
            "outlinewidth": 0,
            "ticks": ""
           }
          },
          "colorscale": {
           "diverging": [
            [
             0,
             "#8e0152"
            ],
            [
             0.1,
             "#c51b7d"
            ],
            [
             0.2,
             "#de77ae"
            ],
            [
             0.3,
             "#f1b6da"
            ],
            [
             0.4,
             "#fde0ef"
            ],
            [
             0.5,
             "#f7f7f7"
            ],
            [
             0.6,
             "#e6f5d0"
            ],
            [
             0.7,
             "#b8e186"
            ],
            [
             0.8,
             "#7fbc41"
            ],
            [
             0.9,
             "#4d9221"
            ],
            [
             1,
             "#276419"
            ]
           ],
           "sequential": [
            [
             0,
             "#0d0887"
            ],
            [
             0.1111111111111111,
             "#46039f"
            ],
            [
             0.2222222222222222,
             "#7201a8"
            ],
            [
             0.3333333333333333,
             "#9c179e"
            ],
            [
             0.4444444444444444,
             "#bd3786"
            ],
            [
             0.5555555555555556,
             "#d8576b"
            ],
            [
             0.6666666666666666,
             "#ed7953"
            ],
            [
             0.7777777777777778,
             "#fb9f3a"
            ],
            [
             0.8888888888888888,
             "#fdca26"
            ],
            [
             1,
             "#f0f921"
            ]
           ],
           "sequentialminus": [
            [
             0,
             "#0d0887"
            ],
            [
             0.1111111111111111,
             "#46039f"
            ],
            [
             0.2222222222222222,
             "#7201a8"
            ],
            [
             0.3333333333333333,
             "#9c179e"
            ],
            [
             0.4444444444444444,
             "#bd3786"
            ],
            [
             0.5555555555555556,
             "#d8576b"
            ],
            [
             0.6666666666666666,
             "#ed7953"
            ],
            [
             0.7777777777777778,
             "#fb9f3a"
            ],
            [
             0.8888888888888888,
             "#fdca26"
            ],
            [
             1,
             "#f0f921"
            ]
           ]
          },
          "colorway": [
           "#636efa",
           "#EF553B",
           "#00cc96",
           "#ab63fa",
           "#FFA15A",
           "#19d3f3",
           "#FF6692",
           "#B6E880",
           "#FF97FF",
           "#FECB52"
          ],
          "font": {
           "color": "#2a3f5f"
          },
          "geo": {
           "bgcolor": "white",
           "lakecolor": "white",
           "landcolor": "#E5ECF6",
           "showlakes": true,
           "showland": true,
           "subunitcolor": "white"
          },
          "hoverlabel": {
           "align": "left"
          },
          "hovermode": "closest",
          "mapbox": {
           "style": "light"
          },
          "paper_bgcolor": "white",
          "plot_bgcolor": "#E5ECF6",
          "polar": {
           "angularaxis": {
            "gridcolor": "white",
            "linecolor": "white",
            "ticks": ""
           },
           "bgcolor": "#E5ECF6",
           "radialaxis": {
            "gridcolor": "white",
            "linecolor": "white",
            "ticks": ""
           }
          },
          "scene": {
           "xaxis": {
            "backgroundcolor": "#E5ECF6",
            "gridcolor": "white",
            "gridwidth": 2,
            "linecolor": "white",
            "showbackground": true,
            "ticks": "",
            "zerolinecolor": "white"
           },
           "yaxis": {
            "backgroundcolor": "#E5ECF6",
            "gridcolor": "white",
            "gridwidth": 2,
            "linecolor": "white",
            "showbackground": true,
            "ticks": "",
            "zerolinecolor": "white"
           },
           "zaxis": {
            "backgroundcolor": "#E5ECF6",
            "gridcolor": "white",
            "gridwidth": 2,
            "linecolor": "white",
            "showbackground": true,
            "ticks": "",
            "zerolinecolor": "white"
           }
          },
          "shapedefaults": {
           "line": {
            "color": "#2a3f5f"
           }
          },
          "ternary": {
           "aaxis": {
            "gridcolor": "white",
            "linecolor": "white",
            "ticks": ""
           },
           "baxis": {
            "gridcolor": "white",
            "linecolor": "white",
            "ticks": ""
           },
           "bgcolor": "#E5ECF6",
           "caxis": {
            "gridcolor": "white",
            "linecolor": "white",
            "ticks": ""
           }
          },
          "title": {
           "x": 0.05
          },
          "xaxis": {
           "automargin": true,
           "gridcolor": "white",
           "linecolor": "white",
           "ticks": "",
           "title": {
            "standoff": 15
           },
           "zerolinecolor": "white",
           "zerolinewidth": 2
          },
          "yaxis": {
           "automargin": true,
           "gridcolor": "white",
           "linecolor": "white",
           "ticks": "",
           "title": {
            "standoff": 15
           },
           "zerolinecolor": "white",
           "zerolinewidth": 2
          }
         }
        },
        "title": {
         "text": "Fold change in topics of interest with respect to 2020 data"
        },
        "width": 700,
        "yaxis": {
         "title": {
          "text": "Fold change"
         }
        }
       }
      }
     },
     "metadata": {},
     "output_type": "display_data"
    }
   ],
   "source": [
    "# Creating dataframes to understand the fold change in the topics of interest for future workshops\n",
    "int_2020_com\n",
    "trial_subset\n",
    "#2020 columns \n",
    "int_2020_com_sub = int_2020_com.drop(int_2020_com.columns[[1,2,3,4,5]], axis=1)\n",
    "int_2020_com_sub.columns = [i+'20' for i in int_2020_com_sub.columns]\n",
    "int_2020_com_sub\n",
    "#2022 columns \n",
    "trial_subset_sub = trial_subset.drop(trial_subset.columns[[1,2,3,4,5]], axis=1)\n",
    "trial_subset_sub.columns = [i+'22' for i in trial_subset_sub.columns]\n",
    "trial_subset_sub\n",
    "#combining dataframes \n",
    "int_22_20 = pd.concat([trial_subset_sub, int_2020_com_sub], axis=1)\n",
    "int_22_20\n",
    "# calculating the fold change\n",
    "for i in range(1,6):\n",
    "    col_name=int_22_20.columns[i]\n",
    "    int_22_20[col_name+'fold']=(int_22_20.iloc[:, i]-int_22_20.iloc[:, i+6])/int_22_20.iloc[:, i+6]\n",
    "    int_22_20[col_name+'fold']  = int_22_20[col_name+'fold'].round(decimals=2)\n",
    "#selecting the desired columns from the dataframe \n",
    "int_22_20_1 = int_22_20.iloc[:,0]\n",
    "int_22_20_2 = int_22_20.iloc[:,12:18]\n",
    "combined = pd.concat([int_22_20_1, int_22_20_2], axis=1)\n",
    "combined = combined.set_index('interest22').transpose()\n",
    "combined = combined.reset_index()\n",
    "combined\n",
    "#replacing the values\n",
    "combined = combined.replace('percent_theory22fold', 'Image analysis theory')\n",
    "combined = combined.replace('percent_practices22fold', 'Image analysis practices')\n",
    "combined = combined.replace('percent_particular22fold', 'Image analysis practices related to particular subdiscipline')\n",
    "combined = combined.replace('percent_sptool22fold', 'Particular software tool')\n",
    "combined = combined.replace('percent_DL22fold', 'Deep learning for image analysis')\n",
    "combined\n",
    "#fold change bar chart\n",
    "int_fold_bar = go.Figure()\n",
    "\n",
    "int_fold_bar.add_trace(go.Bar(name='Very interested',x=combined['index'], y=combined['Very interested'], marker_color='royalblue'))\n",
    "int_fold_bar.add_trace(go.Bar(name='Moderately interested',x=combined['index'], y=combined['Moderately interested'], marker_color='dodgerblue'))\n",
    "int_fold_bar.add_trace(go.Bar(name='Somewhat interested',x=combined['index'], y=combined['Somewhat interested'], marker_color='cornflowerblue'))\n",
    "int_fold_bar.add_trace(go.Bar(name='Not at all interested',x=combined['index'], y=combined['Not at all interested'], marker_color='skyblue'))\n",
    "int_fold_bar.update_layout(barmode='group',title='Fold change in topics of interest with respect to 2020 data', width=700, height=600, font=dict(family='Helvetica', color=\"Black\", size=14), legend=dict(title_font_family = 'Helvetica', font=dict(size=16, color=\"Black\")))\n",
    "int_fold_bar.update_yaxes(title='Fold change')\n"
   ]
  },
  {
   "attachments": {},
   "cell_type": "markdown",
   "metadata": {},
   "source": [
    "#### Preferable instructional methods - comparison"
   ]
  },
  {
   "cell_type": "code",
   "execution_count": 40,
   "metadata": {},
   "outputs": [],
   "source": [
    "\n",
    "#Preferable instructional methods - 2020\n",
    "art_20 = pd.read_csv('C:\\\\Users\\\\ssivagur\\\\Documents\\\\2021_Image_analysis_survey_data\\\\For_any_topics_you_re_interested_in_how_interested_would_you_be_in_learning_about_them_in_the_following_ways_Scholarly_best_practices_article.txt')\n",
    "art_20 = art_20.rename(columns={'0':'article'})\n",
    "art_20 = art_20['article'].value_counts().to_frame()\n",
    "\n",
    "wrt_tut_20 = pd.read_csv('C:\\\\Users\\\\ssivagur\\\\Documents\\\\2021_Image_analysis_survey_data\\\\For_any_topics_you_re_interested_in_how_interested_would_you_be_in_learning_about_them_in_the_following_ways_Written_step-by-step_tutorial.txt')\n",
    "wrt_tut_20 = wrt_tut_20.rename(columns={'0':'written tutorial'})\n",
    "wrt_tut_20 = wrt_tut_20['written tutorial'].value_counts().to_frame()\n",
    "\n",
    "vid_tut_20 = pd.read_csv('C:\\\\Users\\\\ssivagur\\\\Documents\\\\2021_Image_analysis_survey_data\\\\For_any_topics_you_re_interested_in_how_interested_would_you_be_in_learning_about_them_in_the_following_ways_Video_tutorial.txt')\n",
    "vid_tut_20 = vid_tut_20.rename(columns={'0':'video tutorial'})\n",
    "vid_tut_20 = vid_tut_20['video tutorial'].value_counts().to_frame()\n",
    "\n",
    "int_web_20 = pd.read_csv('C:\\\\Users\\\\ssivagur\\\\Documents\\\\2021_Image_analysis_survey_data\\\\For_any_topics_you_re_interested_in_how_interested_would_you_be_in_learning_about_them_in_the_following_ways_Interactive_webinar.txt')\n",
    "int_web_20 = int_web_20.rename(columns={'0':'interactive webinar'})\n",
    "int_web_20 = int_web_20['interactive webinar'].value_counts().to_frame()\n",
    "\n",
    "off_hr_20 = pd.read_csv('C:\\\\Users\\\\ssivagur\\\\Documents\\\\2021_Image_analysis_survey_data\\\\For_any_topics_you_re_interested_in_how_interested_would_you_be_in_learning_about_them_in_the_following_ways_One-on-one_office_hours_with_an_expert.txt')\n",
    "off_hr_20 = off_hr_20.rename(columns={'0':'office hour'})\n",
    "off_hr_20 = off_hr_20['office hour'].value_counts().to_frame()\n",
    "\n",
    "one_day_20 = pd.read_csv('C:\\\\Users\\\\ssivagur\\\\Documents\\\\2021_Image_analysis_survey_data\\\\For_any_topics_you_re_interested_in_how_interested_would_you_be_in_learning_about_them_in_the_following_ways_In_person_seminar_tutorial_lasting_lessthan1_day.txt')\n",
    "one_day_20 = one_day_20.rename(columns={'0':'one day'})\n",
    "one_day_20 = one_day_20['one day'].value_counts().to_frame()\n",
    "\n",
    "mul_day_20 = pd.read_csv('C:\\\\Users\\\\ssivagur\\\\Documents\\\\2021_Image_analysis_survey_data\\\\For_any_topics_you_re_interested_in_how_interested_would_you_be_in_learning_about_them_in_the_following_ways_Multiday_workshop.txt')\n",
    "mul_day_20 = mul_day_20.rename(columns={'0':'multi day'})\n",
    "mul_day_20 = mul_day_20['multi day'].value_counts().to_frame()\n",
    "#Combining all the dataframes \n",
    "pre_tut_20 = pd.concat([art_20,wrt_tut_20,vid_tut_20,int_web_20,off_hr_20,one_day_20,mul_day_20], axis=1)\n",
    "pre_tut_20 = pre_tut_20.reset_index()\n",
    "pre_tut_20.loc[2, 'index'] = 'Somewhat interested'\n",
    "\n",
    "#creating percentage columns \n",
    "pre_tut_20['percent_article'] = (pre_tut_20['article']/pre_tut_20['article'].sum())* 100\n",
    "pre_tut_20['percent_article']= pre_tut_20['percent_article'].round(decimals=1)\n",
    "\n",
    "pre_tut_20['percent_written'] = (pre_tut_20['written tutorial']/pre_tut_20['written tutorial'].sum())*100\n",
    "pre_tut_20['percent_written']=pre_tut_20['percent_written'].round(decimals=1)\n",
    "\n",
    "pre_tut_20['percent_video'] = (pre_tut_20['video tutorial']/pre_tut_20['video tutorial'].sum())*100\n",
    "pre_tut_20['percent_video']= pre_tut_20['percent_video'].round(decimals=1)\n",
    "\n",
    "pre_tut_20['percent_web'] = (pre_tut_20['interactive webinar']/pre_tut_20['interactive webinar'].sum())*100\n",
    "pre_tut_20['percent_web']=pre_tut_20['percent_web'].round(decimals=1)\n",
    "\n",
    "pre_tut_20['percent_off'] = (pre_tut_20['office hour']/pre_tut_20['office hour'].sum())*100\n",
    "pre_tut_20['percent_off']=pre_tut_20['percent_off'].round(decimals=1)\n",
    "\n",
    "pre_tut_20['percent_one'] = (pre_tut_20['one day']/pre_tut_20['one day'].sum())*100\n",
    "pre_tut_20['percent_one']=pre_tut_20['percent_one'].round(decimals=1)\n",
    "\n",
    "pre_tut_20['percent_mul'] = (pre_tut_20['multi day']/pre_tut_20['multi day'].sum())*100\n",
    "pre_tut_20['percent_mul']=pre_tut_20['percent_mul'].round(decimals=1)\n",
    "\n",
    "pre_tut_20\n",
    "#preferable instructional methods - 2022\n",
    "art = data[\"Best practices articles\"].value_counts().to_frame()\n",
    "wrt = data[\"Written tutorials\"].value_counts().to_frame()\n",
    "vid = data[\"Video tutorial\"].value_counts().to_frame()\n",
    "web = data[\"Interactive webinar\"].value_counts().to_frame()\n",
    "off = data[\"Office hours\"].value_counts().to_frame()\n",
    "one = data[\"One day seminar\"].value_counts().to_frame()\n",
    "mul = data[\"Multiday workshop\"].value_counts().to_frame()\n",
    "\n",
    "#combining all the dataframes\n",
    "mtds = pd.concat([art, wrt, vid, web, off, one, mul], axis=1)\n",
    "mtds = mtds.reset_index()\n",
    "mtds['index'] = ['Somewhat interested', 'Moderately interested', 'Very interested', 'Not at all interested']\n",
    "\n",
    "#creating percentage columns \n",
    "mtds['per_art'] = (mtds['Best practices articles']/mtds['Best practices articles'].sum())*100\n",
    "mtds['per_art'] = mtds['per_art'].round(decimals=1)\n",
    "\n",
    "mtds['per_wrt'] = (mtds['Written tutorials']/mtds['Written tutorials'].sum())*100\n",
    "mtds['per_wrt'] =mtds['per_wrt'].round(decimals=1)\n",
    "\n",
    "mtds['per_vid'] = (mtds['Video tutorial']/mtds['Video tutorial'].sum())*100\n",
    "mtds['per_vid'] = mtds['per_vid'].round(decimals=1)\n",
    "\n",
    "mtds['per_web'] = (mtds['Interactive webinar']/mtds['Interactive webinar'].sum())*100\n",
    "mtds['per_web'] =mtds['per_web'].round(decimals=1)\n",
    "\n",
    "mtds['per_off'] = (mtds['Office hours']/mtds['Office hours'].sum())*100\n",
    "mtds['per_off'] = mtds['per_off'].round(decimals=1)\n",
    "\n",
    "mtds['per_one'] = (mtds['One day seminar']/mtds['One day seminar'].sum())*100\n",
    "mtds['per_one'] = mtds['per_one'].round(decimals=1)\n",
    "\n",
    "mtds['per_mul'] = (mtds['Multiday workshop']/mtds['Multiday workshop'].sum())*100\n",
    "mtds['per_mul'] = mtds['per_mul'].round(decimals=1)\n"
   ]
  },
  {
   "cell_type": "code",
   "execution_count": 42,
   "metadata": {},
   "outputs": [
    {
     "data": {
      "application/vnd.plotly.v1+json": {
       "config": {
        "plotlyServerURL": "https://plot.ly"
       },
       "data": [
        {
         "marker": {
          "color": "#636EFA"
         },
         "name": "2020",
         "text": [
          43.4,
          29.5,
          21.9,
          5.2
         ],
         "type": "bar",
         "x": [
          "Moderately interested",
          "Very interested",
          "Somewhat interested",
          "Not at all interested"
         ],
         "xaxis": "x",
         "y": [
          43.4,
          29.5,
          21.9,
          5.2
         ],
         "yaxis": "y"
        },
        {
         "marker": {
          "color": "rgba(255, 0, 0, 0.6)"
         },
         "name": "2022",
         "text": [
          38.5,
          33.5,
          18.1,
          9.9
         ],
         "type": "bar",
         "x": [
          "Somewhat interested",
          "Moderately interested",
          "Very interested",
          "Not at all interested"
         ],
         "xaxis": "x",
         "y": [
          38.5,
          33.5,
          18.1,
          9.9
         ],
         "yaxis": "y"
        },
        {
         "marker": {
          "color": "#636EFA"
         },
         "showlegend": false,
         "text": [
          28.5,
          62.8,
          7,
          1.7
         ],
         "type": "bar",
         "x": [
          "Moderately interested",
          "Very interested",
          "Somewhat interested",
          "Not at all interested"
         ],
         "xaxis": "x2",
         "y": [
          28.5,
          62.8,
          7,
          1.7
         ],
         "yaxis": "y2"
        },
        {
         "marker": {
          "color": "rgba(255, 0, 0, 0.6)"
         },
         "showlegend": false,
         "text": [
          10.8,
          29.8,
          58.8,
          0.6
         ],
         "type": "bar",
         "x": [
          "Somewhat interested",
          "Moderately interested",
          "Very interested",
          "Not at all interested"
         ],
         "xaxis": "x2",
         "y": [
          10.8,
          29.8,
          58.8,
          0.6
         ],
         "yaxis": "y2"
        },
        {
         "marker": {
          "color": "#636EFA"
         },
         "showlegend": false,
         "text": [
          23.1,
          57.2,
          15.1,
          4.5
         ],
         "type": "bar",
         "x": [
          "Moderately interested",
          "Very interested",
          "Somewhat interested",
          "Not at all interested"
         ],
         "xaxis": "x3",
         "y": [
          23.1,
          57.2,
          15.1,
          4.5
         ],
         "yaxis": "y3"
        },
        {
         "marker": {
          "color": "rgba(255, 0, 0, 0.6)"
         },
         "showlegend": false,
         "text": [
          19.5,
          27.6,
          46.5,
          6.5
         ],
         "type": "bar",
         "x": [
          "Somewhat interested",
          "Moderately interested",
          "Very interested",
          "Not at all interested"
         ],
         "xaxis": "x3",
         "y": [
          19.5,
          27.6,
          46.5,
          6.5
         ],
         "yaxis": "y3"
        },
        {
         "marker": {
          "color": "#636EFA"
         },
         "showlegend": false,
         "text": [
          31,
          41.7,
          21.3,
          6
         ],
         "type": "bar",
         "x": [
          "Moderately interested",
          "Very interested",
          "Somewhat interested",
          "Not at all interested"
         ],
         "xaxis": "x4",
         "y": [
          31,
          41.7,
          21.3,
          6
         ],
         "yaxis": "y4"
        },
        {
         "marker": {
          "color": "rgba(255, 0, 0, 0.6)"
         },
         "showlegend": false,
         "text": [
          33.7,
          34.9,
          20.7,
          10.8
         ],
         "type": "bar",
         "x": [
          "Somewhat interested",
          "Moderately interested",
          "Very interested",
          "Not at all interested"
         ],
         "xaxis": "x4",
         "y": [
          33.7,
          34.9,
          20.7,
          10.8
         ],
         "yaxis": "y4"
        },
        {
         "marker": {
          "color": "#636EFA"
         },
         "showlegend": false,
         "text": [
          27.5,
          33.3,
          27.9,
          11.4
         ],
         "type": "bar",
         "x": [
          "Moderately interested",
          "Very interested",
          "Somewhat interested",
          "Not at all interested"
         ],
         "xaxis": "x5",
         "y": [
          27.5,
          33.3,
          27.9,
          11.4
         ],
         "yaxis": "y5"
        },
        {
         "marker": {
          "color": "rgba(255, 0, 0, 0.6)"
         },
         "showlegend": false,
         "text": [
          25.4,
          24.5,
          38.9,
          11.2
         ],
         "type": "bar",
         "x": [
          "Somewhat interested",
          "Moderately interested",
          "Very interested",
          "Not at all interested"
         ],
         "xaxis": "x5",
         "y": [
          25.4,
          24.5,
          38.9,
          11.2
         ],
         "yaxis": "y5"
        },
        {
         "marker": {
          "color": "#636EFA"
         },
         "showlegend": false,
         "text": [
          33.3,
          29.8,
          25.6,
          11.4
         ],
         "type": "bar",
         "x": [
          "Moderately interested",
          "Very interested",
          "Somewhat interested",
          "Not at all interested"
         ],
         "xaxis": "x6",
         "y": [
          33.3,
          29.8,
          25.6,
          11.4
         ],
         "yaxis": "y6"
        },
        {
         "marker": {
          "color": "rgba(255, 0, 0, 0.6)"
         },
         "showlegend": false,
         "text": [
          30,
          34.3,
          23.3,
          12.4
         ],
         "type": "bar",
         "x": [
          "Somewhat interested",
          "Moderately interested",
          "Very interested",
          "Not at all interested"
         ],
         "xaxis": "x6",
         "y": [
          30,
          34.3,
          23.3,
          12.4
         ],
         "yaxis": "y6"
        },
        {
         "marker": {
          "color": "#636EFA"
         },
         "showlegend": false,
         "text": [
          31.8,
          30.8,
          27.5,
          9.9
         ],
         "type": "bar",
         "x": [
          "Moderately interested",
          "Very interested",
          "Somewhat interested",
          "Not at all interested"
         ],
         "xaxis": "x7",
         "y": [
          31.8,
          30.8,
          27.5,
          9.9
         ],
         "yaxis": "y7"
        },
        {
         "marker": {
          "color": "rgba(255, 0, 0, 0.6)"
         },
         "showlegend": false,
         "text": [
          37.1,
          27.8,
          18.1,
          17
         ],
         "type": "bar",
         "x": [
          "Somewhat interested",
          "Moderately interested",
          "Very interested",
          "Not at all interested"
         ],
         "xaxis": "x7",
         "y": [
          37.1,
          27.8,
          18.1,
          17
         ],
         "yaxis": "y7"
        }
       ],
       "layout": {
        "annotations": [
         {
          "font": {
           "size": 16
          },
          "showarrow": false,
          "text": "Best practices articles",
          "x": 0.225,
          "xanchor": "center",
          "xref": "paper",
          "y": 1,
          "yanchor": "bottom",
          "yref": "paper"
         },
         {
          "font": {
           "size": 16
          },
          "showarrow": false,
          "text": "Written tutorial",
          "x": 0.775,
          "xanchor": "center",
          "xref": "paper",
          "y": 1,
          "yanchor": "bottom",
          "yref": "paper"
         },
         {
          "font": {
           "size": 16
          },
          "showarrow": false,
          "text": "Video tutorial",
          "x": 0.225,
          "xanchor": "center",
          "xref": "paper",
          "y": 0.71875,
          "yanchor": "bottom",
          "yref": "paper"
         },
         {
          "font": {
           "size": 16
          },
          "showarrow": false,
          "text": "Interactive webinar",
          "x": 0.775,
          "xanchor": "center",
          "xref": "paper",
          "y": 0.71875,
          "yanchor": "bottom",
          "yref": "paper"
         },
         {
          "font": {
           "size": 16
          },
          "showarrow": false,
          "text": "Office hours",
          "x": 0.225,
          "xanchor": "center",
          "xref": "paper",
          "y": 0.4375,
          "yanchor": "bottom",
          "yref": "paper"
         },
         {
          "font": {
           "size": 16
          },
          "showarrow": false,
          "text": "In-person/one day workshop",
          "x": 0.775,
          "xanchor": "center",
          "xref": "paper",
          "y": 0.4375,
          "yanchor": "bottom",
          "yref": "paper"
         },
         {
          "font": {
           "size": 16
          },
          "showarrow": false,
          "text": "Multi-day workshop",
          "x": 0.225,
          "xanchor": "center",
          "xref": "paper",
          "y": 0.15625,
          "yanchor": "bottom",
          "yref": "paper"
         }
        ],
        "font": {
         "color": "Black",
         "family": "Helvetica",
         "size": 14
        },
        "height": 1250,
        "legend": {
         "font": {
          "color": "Black",
          "size": 16
         },
         "title": {
          "font": {
           "family": "Helvetica"
          }
         }
        },
        "template": {
         "data": {
          "bar": [
           {
            "error_x": {
             "color": "#2a3f5f"
            },
            "error_y": {
             "color": "#2a3f5f"
            },
            "marker": {
             "line": {
              "color": "#E5ECF6",
              "width": 0.5
             },
             "pattern": {
              "fillmode": "overlay",
              "size": 10,
              "solidity": 0.2
             }
            },
            "type": "bar"
           }
          ],
          "barpolar": [
           {
            "marker": {
             "line": {
              "color": "#E5ECF6",
              "width": 0.5
             },
             "pattern": {
              "fillmode": "overlay",
              "size": 10,
              "solidity": 0.2
             }
            },
            "type": "barpolar"
           }
          ],
          "carpet": [
           {
            "aaxis": {
             "endlinecolor": "#2a3f5f",
             "gridcolor": "white",
             "linecolor": "white",
             "minorgridcolor": "white",
             "startlinecolor": "#2a3f5f"
            },
            "baxis": {
             "endlinecolor": "#2a3f5f",
             "gridcolor": "white",
             "linecolor": "white",
             "minorgridcolor": "white",
             "startlinecolor": "#2a3f5f"
            },
            "type": "carpet"
           }
          ],
          "choropleth": [
           {
            "colorbar": {
             "outlinewidth": 0,
             "ticks": ""
            },
            "type": "choropleth"
           }
          ],
          "contour": [
           {
            "colorbar": {
             "outlinewidth": 0,
             "ticks": ""
            },
            "colorscale": [
             [
              0,
              "#0d0887"
             ],
             [
              0.1111111111111111,
              "#46039f"
             ],
             [
              0.2222222222222222,
              "#7201a8"
             ],
             [
              0.3333333333333333,
              "#9c179e"
             ],
             [
              0.4444444444444444,
              "#bd3786"
             ],
             [
              0.5555555555555556,
              "#d8576b"
             ],
             [
              0.6666666666666666,
              "#ed7953"
             ],
             [
              0.7777777777777778,
              "#fb9f3a"
             ],
             [
              0.8888888888888888,
              "#fdca26"
             ],
             [
              1,
              "#f0f921"
             ]
            ],
            "type": "contour"
           }
          ],
          "contourcarpet": [
           {
            "colorbar": {
             "outlinewidth": 0,
             "ticks": ""
            },
            "type": "contourcarpet"
           }
          ],
          "heatmap": [
           {
            "colorbar": {
             "outlinewidth": 0,
             "ticks": ""
            },
            "colorscale": [
             [
              0,
              "#0d0887"
             ],
             [
              0.1111111111111111,
              "#46039f"
             ],
             [
              0.2222222222222222,
              "#7201a8"
             ],
             [
              0.3333333333333333,
              "#9c179e"
             ],
             [
              0.4444444444444444,
              "#bd3786"
             ],
             [
              0.5555555555555556,
              "#d8576b"
             ],
             [
              0.6666666666666666,
              "#ed7953"
             ],
             [
              0.7777777777777778,
              "#fb9f3a"
             ],
             [
              0.8888888888888888,
              "#fdca26"
             ],
             [
              1,
              "#f0f921"
             ]
            ],
            "type": "heatmap"
           }
          ],
          "heatmapgl": [
           {
            "colorbar": {
             "outlinewidth": 0,
             "ticks": ""
            },
            "colorscale": [
             [
              0,
              "#0d0887"
             ],
             [
              0.1111111111111111,
              "#46039f"
             ],
             [
              0.2222222222222222,
              "#7201a8"
             ],
             [
              0.3333333333333333,
              "#9c179e"
             ],
             [
              0.4444444444444444,
              "#bd3786"
             ],
             [
              0.5555555555555556,
              "#d8576b"
             ],
             [
              0.6666666666666666,
              "#ed7953"
             ],
             [
              0.7777777777777778,
              "#fb9f3a"
             ],
             [
              0.8888888888888888,
              "#fdca26"
             ],
             [
              1,
              "#f0f921"
             ]
            ],
            "type": "heatmapgl"
           }
          ],
          "histogram": [
           {
            "marker": {
             "pattern": {
              "fillmode": "overlay",
              "size": 10,
              "solidity": 0.2
             }
            },
            "type": "histogram"
           }
          ],
          "histogram2d": [
           {
            "colorbar": {
             "outlinewidth": 0,
             "ticks": ""
            },
            "colorscale": [
             [
              0,
              "#0d0887"
             ],
             [
              0.1111111111111111,
              "#46039f"
             ],
             [
              0.2222222222222222,
              "#7201a8"
             ],
             [
              0.3333333333333333,
              "#9c179e"
             ],
             [
              0.4444444444444444,
              "#bd3786"
             ],
             [
              0.5555555555555556,
              "#d8576b"
             ],
             [
              0.6666666666666666,
              "#ed7953"
             ],
             [
              0.7777777777777778,
              "#fb9f3a"
             ],
             [
              0.8888888888888888,
              "#fdca26"
             ],
             [
              1,
              "#f0f921"
             ]
            ],
            "type": "histogram2d"
           }
          ],
          "histogram2dcontour": [
           {
            "colorbar": {
             "outlinewidth": 0,
             "ticks": ""
            },
            "colorscale": [
             [
              0,
              "#0d0887"
             ],
             [
              0.1111111111111111,
              "#46039f"
             ],
             [
              0.2222222222222222,
              "#7201a8"
             ],
             [
              0.3333333333333333,
              "#9c179e"
             ],
             [
              0.4444444444444444,
              "#bd3786"
             ],
             [
              0.5555555555555556,
              "#d8576b"
             ],
             [
              0.6666666666666666,
              "#ed7953"
             ],
             [
              0.7777777777777778,
              "#fb9f3a"
             ],
             [
              0.8888888888888888,
              "#fdca26"
             ],
             [
              1,
              "#f0f921"
             ]
            ],
            "type": "histogram2dcontour"
           }
          ],
          "mesh3d": [
           {
            "colorbar": {
             "outlinewidth": 0,
             "ticks": ""
            },
            "type": "mesh3d"
           }
          ],
          "parcoords": [
           {
            "line": {
             "colorbar": {
              "outlinewidth": 0,
              "ticks": ""
             }
            },
            "type": "parcoords"
           }
          ],
          "pie": [
           {
            "automargin": true,
            "type": "pie"
           }
          ],
          "scatter": [
           {
            "fillpattern": {
             "fillmode": "overlay",
             "size": 10,
             "solidity": 0.2
            },
            "type": "scatter"
           }
          ],
          "scatter3d": [
           {
            "line": {
             "colorbar": {
              "outlinewidth": 0,
              "ticks": ""
             }
            },
            "marker": {
             "colorbar": {
              "outlinewidth": 0,
              "ticks": ""
             }
            },
            "type": "scatter3d"
           }
          ],
          "scattercarpet": [
           {
            "marker": {
             "colorbar": {
              "outlinewidth": 0,
              "ticks": ""
             }
            },
            "type": "scattercarpet"
           }
          ],
          "scattergeo": [
           {
            "marker": {
             "colorbar": {
              "outlinewidth": 0,
              "ticks": ""
             }
            },
            "type": "scattergeo"
           }
          ],
          "scattergl": [
           {
            "marker": {
             "colorbar": {
              "outlinewidth": 0,
              "ticks": ""
             }
            },
            "type": "scattergl"
           }
          ],
          "scattermapbox": [
           {
            "marker": {
             "colorbar": {
              "outlinewidth": 0,
              "ticks": ""
             }
            },
            "type": "scattermapbox"
           }
          ],
          "scatterpolar": [
           {
            "marker": {
             "colorbar": {
              "outlinewidth": 0,
              "ticks": ""
             }
            },
            "type": "scatterpolar"
           }
          ],
          "scatterpolargl": [
           {
            "marker": {
             "colorbar": {
              "outlinewidth": 0,
              "ticks": ""
             }
            },
            "type": "scatterpolargl"
           }
          ],
          "scatterternary": [
           {
            "marker": {
             "colorbar": {
              "outlinewidth": 0,
              "ticks": ""
             }
            },
            "type": "scatterternary"
           }
          ],
          "surface": [
           {
            "colorbar": {
             "outlinewidth": 0,
             "ticks": ""
            },
            "colorscale": [
             [
              0,
              "#0d0887"
             ],
             [
              0.1111111111111111,
              "#46039f"
             ],
             [
              0.2222222222222222,
              "#7201a8"
             ],
             [
              0.3333333333333333,
              "#9c179e"
             ],
             [
              0.4444444444444444,
              "#bd3786"
             ],
             [
              0.5555555555555556,
              "#d8576b"
             ],
             [
              0.6666666666666666,
              "#ed7953"
             ],
             [
              0.7777777777777778,
              "#fb9f3a"
             ],
             [
              0.8888888888888888,
              "#fdca26"
             ],
             [
              1,
              "#f0f921"
             ]
            ],
            "type": "surface"
           }
          ],
          "table": [
           {
            "cells": {
             "fill": {
              "color": "#EBF0F8"
             },
             "line": {
              "color": "white"
             }
            },
            "header": {
             "fill": {
              "color": "#C8D4E3"
             },
             "line": {
              "color": "white"
             }
            },
            "type": "table"
           }
          ]
         },
         "layout": {
          "annotationdefaults": {
           "arrowcolor": "#2a3f5f",
           "arrowhead": 0,
           "arrowwidth": 1
          },
          "autotypenumbers": "strict",
          "coloraxis": {
           "colorbar": {
            "outlinewidth": 0,
            "ticks": ""
           }
          },
          "colorscale": {
           "diverging": [
            [
             0,
             "#8e0152"
            ],
            [
             0.1,
             "#c51b7d"
            ],
            [
             0.2,
             "#de77ae"
            ],
            [
             0.3,
             "#f1b6da"
            ],
            [
             0.4,
             "#fde0ef"
            ],
            [
             0.5,
             "#f7f7f7"
            ],
            [
             0.6,
             "#e6f5d0"
            ],
            [
             0.7,
             "#b8e186"
            ],
            [
             0.8,
             "#7fbc41"
            ],
            [
             0.9,
             "#4d9221"
            ],
            [
             1,
             "#276419"
            ]
           ],
           "sequential": [
            [
             0,
             "#0d0887"
            ],
            [
             0.1111111111111111,
             "#46039f"
            ],
            [
             0.2222222222222222,
             "#7201a8"
            ],
            [
             0.3333333333333333,
             "#9c179e"
            ],
            [
             0.4444444444444444,
             "#bd3786"
            ],
            [
             0.5555555555555556,
             "#d8576b"
            ],
            [
             0.6666666666666666,
             "#ed7953"
            ],
            [
             0.7777777777777778,
             "#fb9f3a"
            ],
            [
             0.8888888888888888,
             "#fdca26"
            ],
            [
             1,
             "#f0f921"
            ]
           ],
           "sequentialminus": [
            [
             0,
             "#0d0887"
            ],
            [
             0.1111111111111111,
             "#46039f"
            ],
            [
             0.2222222222222222,
             "#7201a8"
            ],
            [
             0.3333333333333333,
             "#9c179e"
            ],
            [
             0.4444444444444444,
             "#bd3786"
            ],
            [
             0.5555555555555556,
             "#d8576b"
            ],
            [
             0.6666666666666666,
             "#ed7953"
            ],
            [
             0.7777777777777778,
             "#fb9f3a"
            ],
            [
             0.8888888888888888,
             "#fdca26"
            ],
            [
             1,
             "#f0f921"
            ]
           ]
          },
          "colorway": [
           "#636efa",
           "#EF553B",
           "#00cc96",
           "#ab63fa",
           "#FFA15A",
           "#19d3f3",
           "#FF6692",
           "#B6E880",
           "#FF97FF",
           "#FECB52"
          ],
          "font": {
           "color": "#2a3f5f"
          },
          "geo": {
           "bgcolor": "white",
           "lakecolor": "white",
           "landcolor": "#E5ECF6",
           "showlakes": true,
           "showland": true,
           "subunitcolor": "white"
          },
          "hoverlabel": {
           "align": "left"
          },
          "hovermode": "closest",
          "mapbox": {
           "style": "light"
          },
          "paper_bgcolor": "white",
          "plot_bgcolor": "#E5ECF6",
          "polar": {
           "angularaxis": {
            "gridcolor": "white",
            "linecolor": "white",
            "ticks": ""
           },
           "bgcolor": "#E5ECF6",
           "radialaxis": {
            "gridcolor": "white",
            "linecolor": "white",
            "ticks": ""
           }
          },
          "scene": {
           "xaxis": {
            "backgroundcolor": "#E5ECF6",
            "gridcolor": "white",
            "gridwidth": 2,
            "linecolor": "white",
            "showbackground": true,
            "ticks": "",
            "zerolinecolor": "white"
           },
           "yaxis": {
            "backgroundcolor": "#E5ECF6",
            "gridcolor": "white",
            "gridwidth": 2,
            "linecolor": "white",
            "showbackground": true,
            "ticks": "",
            "zerolinecolor": "white"
           },
           "zaxis": {
            "backgroundcolor": "#E5ECF6",
            "gridcolor": "white",
            "gridwidth": 2,
            "linecolor": "white",
            "showbackground": true,
            "ticks": "",
            "zerolinecolor": "white"
           }
          },
          "shapedefaults": {
           "line": {
            "color": "#2a3f5f"
           }
          },
          "ternary": {
           "aaxis": {
            "gridcolor": "white",
            "linecolor": "white",
            "ticks": ""
           },
           "baxis": {
            "gridcolor": "white",
            "linecolor": "white",
            "ticks": ""
           },
           "bgcolor": "#E5ECF6",
           "caxis": {
            "gridcolor": "white",
            "linecolor": "white",
            "ticks": ""
           }
          },
          "title": {
           "x": 0.05
          },
          "xaxis": {
           "automargin": true,
           "gridcolor": "white",
           "linecolor": "white",
           "ticks": "",
           "title": {
            "standoff": 15
           },
           "zerolinecolor": "white",
           "zerolinewidth": 2
          },
          "yaxis": {
           "automargin": true,
           "gridcolor": "white",
           "linecolor": "white",
           "ticks": "",
           "title": {
            "standoff": 15
           },
           "zerolinecolor": "white",
           "zerolinewidth": 2
          }
         }
        },
        "title": {
         "text": "Preferable instructional methods",
         "x": 0.5
        },
        "width": 650,
        "xaxis": {
         "anchor": "y",
         "categoryarray": [
          "Very interested",
          "Moderately interested",
          "Somewhat interested",
          "Not at all interested"
         ],
         "categoryorder": "array",
         "domain": [
          0,
          0.45
         ]
        },
        "xaxis2": {
         "anchor": "y2",
         "categoryarray": [
          "Very interested",
          "Moderately interested",
          "Somewhat interested",
          "Not at all interested"
         ],
         "categoryorder": "array",
         "domain": [
          0.55,
          1
         ]
        },
        "xaxis3": {
         "anchor": "y3",
         "categoryarray": [
          "Very interested",
          "Moderately interested",
          "Somewhat interested",
          "Not at all interested"
         ],
         "categoryorder": "array",
         "domain": [
          0,
          0.45
         ]
        },
        "xaxis4": {
         "anchor": "y4",
         "categoryarray": [
          "Very interested",
          "Moderately interested",
          "Somewhat interested",
          "Not at all interested"
         ],
         "categoryorder": "array",
         "domain": [
          0.55,
          1
         ]
        },
        "xaxis5": {
         "anchor": "y5",
         "categoryarray": [
          "Very interested",
          "Moderately interested",
          "Somewhat interested",
          "Not at all interested"
         ],
         "categoryorder": "array",
         "domain": [
          0,
          0.45
         ]
        },
        "xaxis6": {
         "anchor": "y6",
         "categoryarray": [
          "Very interested",
          "Moderately interested",
          "Somewhat interested",
          "Not at all interested"
         ],
         "categoryorder": "array",
         "domain": [
          0.55,
          1
         ]
        },
        "xaxis7": {
         "anchor": "y7",
         "categoryarray": [
          "Very interested",
          "Moderately interested",
          "Somewhat interested",
          "Not at all interested"
         ],
         "categoryorder": "array",
         "domain": [
          0,
          0.45
         ]
        },
        "xaxis8": {
         "anchor": "y8",
         "categoryarray": [
          "Very interested",
          "Moderately interested",
          "Somewhat interested",
          "Not at all interested"
         ],
         "categoryorder": "array",
         "domain": [
          0.55,
          1
         ]
        },
        "yaxis": {
         "anchor": "x",
         "domain": [
          0.84375,
          1
         ],
         "matches": "y7",
         "title": {
          "text": "Percent"
         }
        },
        "yaxis2": {
         "anchor": "x2",
         "domain": [
          0.84375,
          1
         ],
         "matches": "y7",
         "showticklabels": false
        },
        "yaxis3": {
         "anchor": "x3",
         "domain": [
          0.5625,
          0.71875
         ],
         "matches": "y7",
         "title": {
          "text": "Percent"
         }
        },
        "yaxis4": {
         "anchor": "x4",
         "domain": [
          0.5625,
          0.71875
         ],
         "matches": "y7",
         "showticklabels": false
        },
        "yaxis5": {
         "anchor": "x5",
         "domain": [
          0.28125,
          0.4375
         ],
         "matches": "y7",
         "title": {
          "text": "Percent"
         }
        },
        "yaxis6": {
         "anchor": "x6",
         "domain": [
          0.28125,
          0.4375
         ],
         "matches": "y7",
         "showticklabels": false
        },
        "yaxis7": {
         "anchor": "x7",
         "domain": [
          0,
          0.15625
         ],
         "title": {
          "text": "Percent"
         }
        },
        "yaxis8": {
         "anchor": "x8",
         "domain": [
          0,
          0.15625
         ],
         "matches": "y7",
         "showticklabels": false
        }
       }
      }
     },
     "metadata": {},
     "output_type": "display_data"
    }
   ],
   "source": [
    "\n",
    "#comparison-graphs \n",
    "int_mtd_20_22 = go.Figure()\n",
    "\n",
    "int_mtd_20_22 = make_subplots(rows=4, cols=2,shared_yaxes='all', subplot_titles=('Best practices articles', 'Written tutorial', 'Video tutorial', 'Interactive webinar', 'Office hours', 'In-person/one day workshop', 'Multi-day workshop'))\n",
    "\n",
    "int_mtd_20_22.add_trace(go.Bar(name='2020',x=pre_tut_20['index'], y=pre_tut_20['percent_article'],text=pre_tut_20['percent_article'], marker_color= '#636EFA', yaxis='y1'),1,1)\n",
    "int_mtd_20_22.add_trace(go.Bar(name='2022', x=mtds['index'], y=mtds['per_art'],text=mtds['per_art'], marker_color= 'rgba(255, 0, 0, 0.6)'),1,1) \n",
    "\n",
    "int_mtd_20_22.add_trace(go.Bar(x=pre_tut_20['index'], y=pre_tut_20['percent_written'],text=pre_tut_20['percent_written'], marker_color= '#636EFA', showlegend=False),1,2)\n",
    "int_mtd_20_22.add_trace(go.Bar(x=mtds['index'], y=mtds['per_wrt'],text=mtds['per_wrt'], marker_color= 'rgba(255, 0, 0, 0.6)', showlegend=False),1,2) \n",
    "\n",
    "int_mtd_20_22.add_trace(go.Bar(x=pre_tut_20['index'], y=pre_tut_20['percent_video'],text=pre_tut_20['percent_video'], marker_color= '#636EFA', showlegend=False, yaxis='y3'),2,1)\n",
    "int_mtd_20_22.add_trace(go.Bar(x=mtds['index'], y=mtds['per_vid'],text=mtds['per_vid'], marker_color= 'rgba(255, 0, 0, 0.6)', showlegend=False),2,1) \n",
    "\n",
    "int_mtd_20_22.add_trace(go.Bar(x=pre_tut_20['index'], y=pre_tut_20['percent_web'],text=pre_tut_20['percent_web'], marker_color= '#636EFA', showlegend=False),2,2)\n",
    "int_mtd_20_22.add_trace(go.Bar(x=mtds['index'], y=mtds['per_web'],text=mtds['per_web'], marker_color= 'rgba(255, 0, 0, 0.6)', showlegend=False),2,2)\n",
    "\n",
    "int_mtd_20_22.add_trace(go.Bar(x=pre_tut_20['index'], y=pre_tut_20['percent_off'],text=pre_tut_20['percent_off'], marker_color= '#636EFA', showlegend=False, yaxis='y5'),3,1)\n",
    "int_mtd_20_22.add_trace(go.Bar(x=mtds['index'], y=mtds['per_off'],text=mtds['per_off'], marker_color= 'rgba(255, 0, 0, 0.6)', showlegend=False),3,1)\n",
    "\n",
    "int_mtd_20_22.add_trace(go.Bar(x=pre_tut_20['index'], y=pre_tut_20['percent_one'],text=pre_tut_20['percent_one'], marker_color= '#636EFA', showlegend=False),3,2)\n",
    "int_mtd_20_22.add_trace(go.Bar(x=mtds['index'], y=mtds['per_one'],text=mtds['per_one'], marker_color= 'rgba(255, 0, 0, 0.6)',showlegend=False),3,2)\n",
    "\n",
    "int_mtd_20_22.add_trace(go.Bar(x=pre_tut_20['index'], y=pre_tut_20['percent_mul'],text=pre_tut_20['percent_mul'], marker_color= '#636EFA', showlegend=False, yaxis='y7'),4,1)\n",
    "int_mtd_20_22.add_trace(go.Bar(x=mtds['index'], y=mtds['per_mul'],text=mtds['per_mul'], marker_color= 'rgba(255, 0, 0, 0.6)', showlegend=False),4,1)\n",
    "\n",
    "int_mtd_20_22.update_layout(width=650, height=1250, font=dict(family='Helvetica', color=\"Black\", size=14), legend=dict(title_font_family = 'Helvetica', font=dict(size=16, color=\"Black\")))\n",
    "int_mtd_20_22.update_layout(yaxis1=(dict(title='Percent')), yaxis3=(dict(title='Percent')), yaxis5=(dict(title='Percent')), yaxis7=(dict(title='Percent')))\n",
    "int_mtd_20_22.update_xaxes(categoryorder='array',categoryarray = ['Very interested', 'Moderately interested', 'Somewhat interested','Not at all interested'])\n",
    "int_mtd_20_22.update_layout(title='Preferable instructional methods', title_x =0.5)\n"
   ]
  },
  {
   "attachments": {},
   "cell_type": "markdown",
   "metadata": {},
   "source": [
    "#### Fold change in the preferable instructional methods"
   ]
  },
  {
   "cell_type": "code",
   "execution_count": 62,
   "metadata": {},
   "outputs": [
    {
     "data": {
      "text/html": [
       "<div>\n",
       "<style scoped>\n",
       "    .dataframe tbody tr th:only-of-type {\n",
       "        vertical-align: middle;\n",
       "    }\n",
       "\n",
       "    .dataframe tbody tr th {\n",
       "        vertical-align: top;\n",
       "    }\n",
       "\n",
       "    .dataframe thead th {\n",
       "        text-align: right;\n",
       "    }\n",
       "</style>\n",
       "<table border=\"1\" class=\"dataframe\">\n",
       "  <thead>\n",
       "    <tr style=\"text-align: right;\">\n",
       "      <th></th>\n",
       "      <th>index22</th>\n",
       "      <th>per_art22</th>\n",
       "      <th>per_wrt22</th>\n",
       "      <th>per_vid22</th>\n",
       "      <th>per_web22</th>\n",
       "      <th>per_off22</th>\n",
       "      <th>per_one22</th>\n",
       "      <th>per_mul22</th>\n",
       "      <th>index</th>\n",
       "      <th>percent_article</th>\n",
       "      <th>...</th>\n",
       "      <th>percent_off</th>\n",
       "      <th>percent_one</th>\n",
       "      <th>percent_mul</th>\n",
       "      <th>per_art22fold</th>\n",
       "      <th>per_wrt22fold</th>\n",
       "      <th>per_vid22fold</th>\n",
       "      <th>per_web22fold</th>\n",
       "      <th>per_off22fold</th>\n",
       "      <th>per_one22fold</th>\n",
       "      <th>per_mul22fold</th>\n",
       "    </tr>\n",
       "  </thead>\n",
       "  <tbody>\n",
       "    <tr>\n",
       "      <th>0</th>\n",
       "      <td>Moderately interested</td>\n",
       "      <td>33.5</td>\n",
       "      <td>29.8</td>\n",
       "      <td>27.6</td>\n",
       "      <td>34.9</td>\n",
       "      <td>24.5</td>\n",
       "      <td>34.3</td>\n",
       "      <td>27.8</td>\n",
       "      <td>Moderately interested</td>\n",
       "      <td>43.4</td>\n",
       "      <td>...</td>\n",
       "      <td>27.5</td>\n",
       "      <td>33.3</td>\n",
       "      <td>31.8</td>\n",
       "      <td>-0.23</td>\n",
       "      <td>0.05</td>\n",
       "      <td>0.19</td>\n",
       "      <td>0.13</td>\n",
       "      <td>-0.11</td>\n",
       "      <td>0.03</td>\n",
       "      <td>-0.13</td>\n",
       "    </tr>\n",
       "    <tr>\n",
       "      <th>1</th>\n",
       "      <td>Not at all interested</td>\n",
       "      <td>9.9</td>\n",
       "      <td>0.6</td>\n",
       "      <td>6.5</td>\n",
       "      <td>10.8</td>\n",
       "      <td>11.2</td>\n",
       "      <td>12.4</td>\n",
       "      <td>17.0</td>\n",
       "      <td>Not at all interested</td>\n",
       "      <td>5.2</td>\n",
       "      <td>...</td>\n",
       "      <td>11.4</td>\n",
       "      <td>11.4</td>\n",
       "      <td>9.9</td>\n",
       "      <td>0.90</td>\n",
       "      <td>-0.65</td>\n",
       "      <td>0.44</td>\n",
       "      <td>0.80</td>\n",
       "      <td>-0.02</td>\n",
       "      <td>0.09</td>\n",
       "      <td>0.72</td>\n",
       "    </tr>\n",
       "    <tr>\n",
       "      <th>2</th>\n",
       "      <td>Somewhat interested</td>\n",
       "      <td>38.5</td>\n",
       "      <td>10.8</td>\n",
       "      <td>19.5</td>\n",
       "      <td>33.7</td>\n",
       "      <td>25.4</td>\n",
       "      <td>30.0</td>\n",
       "      <td>37.1</td>\n",
       "      <td>Somewhat interested</td>\n",
       "      <td>21.9</td>\n",
       "      <td>...</td>\n",
       "      <td>27.9</td>\n",
       "      <td>25.6</td>\n",
       "      <td>27.5</td>\n",
       "      <td>0.76</td>\n",
       "      <td>0.54</td>\n",
       "      <td>0.29</td>\n",
       "      <td>0.58</td>\n",
       "      <td>-0.09</td>\n",
       "      <td>0.17</td>\n",
       "      <td>0.35</td>\n",
       "    </tr>\n",
       "    <tr>\n",
       "      <th>3</th>\n",
       "      <td>Very interested</td>\n",
       "      <td>18.1</td>\n",
       "      <td>58.8</td>\n",
       "      <td>46.5</td>\n",
       "      <td>20.7</td>\n",
       "      <td>38.9</td>\n",
       "      <td>23.3</td>\n",
       "      <td>18.1</td>\n",
       "      <td>Very interested</td>\n",
       "      <td>29.5</td>\n",
       "      <td>...</td>\n",
       "      <td>33.3</td>\n",
       "      <td>29.8</td>\n",
       "      <td>30.8</td>\n",
       "      <td>-0.39</td>\n",
       "      <td>-0.06</td>\n",
       "      <td>-0.19</td>\n",
       "      <td>-0.50</td>\n",
       "      <td>0.17</td>\n",
       "      <td>-0.22</td>\n",
       "      <td>-0.41</td>\n",
       "    </tr>\n",
       "  </tbody>\n",
       "</table>\n",
       "<p>4 rows × 23 columns</p>\n",
       "</div>"
      ],
      "text/plain": [
       "                 index22  per_art22  per_wrt22  per_vid22  per_web22  \\\n",
       "0  Moderately interested       33.5       29.8       27.6       34.9   \n",
       "1  Not at all interested        9.9        0.6        6.5       10.8   \n",
       "2    Somewhat interested       38.5       10.8       19.5       33.7   \n",
       "3        Very interested       18.1       58.8       46.5       20.7   \n",
       "\n",
       "   per_off22  per_one22  per_mul22                  index  percent_article  \\\n",
       "0       24.5       34.3       27.8  Moderately interested             43.4   \n",
       "1       11.2       12.4       17.0  Not at all interested              5.2   \n",
       "2       25.4       30.0       37.1    Somewhat interested             21.9   \n",
       "3       38.9       23.3       18.1        Very interested             29.5   \n",
       "\n",
       "   ...  percent_off  percent_one  percent_mul  per_art22fold  per_wrt22fold  \\\n",
       "0  ...         27.5         33.3         31.8          -0.23           0.05   \n",
       "1  ...         11.4         11.4          9.9           0.90          -0.65   \n",
       "2  ...         27.9         25.6         27.5           0.76           0.54   \n",
       "3  ...         33.3         29.8         30.8          -0.39          -0.06   \n",
       "\n",
       "   per_vid22fold  per_web22fold  per_off22fold  per_one22fold  per_mul22fold  \n",
       "0           0.19           0.13          -0.11           0.03          -0.13  \n",
       "1           0.44           0.80          -0.02           0.09           0.72  \n",
       "2           0.29           0.58          -0.09           0.17           0.35  \n",
       "3          -0.19          -0.50           0.17          -0.22          -0.41  \n",
       "\n",
       "[4 rows x 23 columns]"
      ]
     },
     "execution_count": 62,
     "metadata": {},
     "output_type": "execute_result"
    }
   ],
   "source": [
    "# Dipalying the fold change - 2020 and 2022\n",
    "pre_tut_20\n",
    "mtds\n",
    "\n",
    "#creating dataframes for the fold change \n",
    "fold_df_20 = pre_tut_20.drop(pre_tut_20.columns[[1, 2,3,4,5,6,7]], axis=1)\n",
    "fold_df_22 = mtds.drop(mtds.columns[[1,2,3,4,5,6,7]], axis=1)\n",
    "\n",
    "\n",
    "fold_df_20 = fold_df_20.sort_values(by='index').reset_index(drop=True)\n",
    "fold_df_22.columns = [(i+'22') for i in fold_df_22.columns]\n",
    "fold_df_22 = fold_df_22.sort_values(by='index22').reset_index(drop=True)\n",
    "\n",
    "fold_df_22_20 = pd.concat([fold_df_22, fold_df_20], axis=1)\n",
    "fold_df_22_20\n",
    "#Calculating the fold change \n",
    "for i in range(1,8):\n",
    "    col_name=fold_df_22_20.columns[i]\n",
    "    fold_df_22_20[col_name+'fold']=(fold_df_22_20.iloc[:, i]-fold_df_22_20.iloc[:, i+8])/fold_df_22_20.iloc[:, i+8]\n",
    "    fold_df_22_20[col_name+'fold']  = fold_df_22_20[col_name+'fold'].round(decimals=2)\n",
    "\n",
    "fold_df_22_20\n",
    "fold_df_22_20_sub_1 = fold_df_22_20.iloc[:, 0]\n",
    "fold_df_22_20_sub_2 = fold_df_22_20.iloc[:, 16:]\n",
    "fold_df_22_20_sub = pd.concat([fold_df_22_20_sub_1, fold_df_22_20_sub_2], axis=1)\n",
    "fold_df_22_20_sub = fold_df_22_20_sub.set_index('index22').transpose()\n",
    "fold_df_22_20_sub = fold_df_22_20_sub.reset_index()\n",
    "\n",
    "#Changing the column names \n",
    "fold_df_22_20_sub = fold_df_22_20_sub.replace('per_art22fold', 'Best practices articles')\n",
    "fold_df_22_20_sub = fold_df_22_20_sub.replace('per_wrt22fold', 'Written tutorials')\n",
    "fold_df_22_20_sub = fold_df_22_20_sub.replace('per_vid22fold', 'Video tutorials')\n",
    "fold_df_22_20_sub = fold_df_22_20_sub.replace('per_web22fold', 'Interactive webinar')\n",
    "fold_df_22_20_sub = fold_df_22_20_sub.replace('per_off22fold', 'Office hours')\n",
    "fold_df_22_20_sub = fold_df_22_20_sub.replace('per_one22fold', 'In-person seminar/ One day workshop')\n",
    "fold_df_22_20_sub = fold_df_22_20_sub.replace('per_mul22fold', 'Multiday workshop')\n",
    "fold_df_22_20\n"
   ]
  },
  {
   "cell_type": "code",
   "execution_count": null,
   "metadata": {},
   "outputs": [],
   "source": [
    "#plotting fold change \n",
    "fold_bar = go.Figure()\n",
    "\n",
    "fold_bar.add_trace(go.Bar(name='Very interested',x=fold_df_22_20_sub['index'], y=fold_df_22_20_sub['Very interested'], marker_color='royalblue'))\n",
    "fold_bar.add_trace(go.Bar(name='Moderately interested',x=fold_df_22_20_sub['index'], y=fold_df_22_20_sub['Moderately interested'], marker_color='dodgerblue'))\n",
    "fold_bar.add_trace(go.Bar(name='Somewhat interested',x=fold_df_22_20_sub['index'], y=fold_df_22_20_sub['Somewhat interested'], marker_color='cornflowerblue'))\n",
    "fold_bar.add_trace(go.Bar(name='Not at all interested',x=fold_df_22_20_sub['index'], y=fold_df_22_20_sub['Not at all interested'], marker_color='skyblue'))\n",
    "fold_bar.update_layout(barmode='group',title='Fold change in the preferable instructional <br>methods with respect to 2020 data', width=700, height=500, font=dict(family='Helvetica', color=\"Black\", size=14), legend=dict(title_font_family = 'Helvetica', font=dict(size=16, color=\"Black\")))\n",
    "fold_bar.update_yaxes(title='Fold change')\n"
   ]
  },
  {
   "attachments": {},
   "cell_type": "markdown",
   "metadata": {},
   "source": [
    "#### Combined fold change - interest and the preferable instructional methods"
   ]
  },
  {
   "cell_type": "code",
   "execution_count": 45,
   "metadata": {},
   "outputs": [
    {
     "data": {
      "application/vnd.plotly.v1+json": {
       "config": {
        "plotlyServerURL": "https://plot.ly"
       },
       "data": [
        {
         "marker": {
          "color": [
           "blue",
           "blue",
           "blue",
           "blue",
           "blue",
           "crimson",
           "crimson",
           "crimson",
           "crimson",
           "crimson",
           "crimson",
           "crimson"
          ]
         },
         "orientation": "v",
         "type": "bar",
         "x": [
          "Image analysis theory",
          "Image analysis practices",
          "Image analysis practices related to particular subdiscipline",
          "Particular software tool",
          "Deep learning for image analysis",
          "Best practices articles",
          "Written tutorials",
          "Video tutorials",
          "Interactive webinar",
          "Office hours",
          "In-person seminar/ One day workshop",
          "Multiday workshop"
         ],
         "y": [
          -0.15,
          -0.1,
          -0.07,
          -0.08,
          -0.13,
          -0.39,
          -0.06,
          -0.19,
          -0.5,
          0.17,
          -0.22,
          -0.41
         ]
        }
       ],
       "layout": {
        "barmode": "group",
        "font": {
         "color": "Black",
         "family": "Helvetica",
         "size": 14
        },
        "height": 700,
        "legend": {
         "font": {
          "color": "Black",
          "size": 16
         },
         "title": {
          "font": {
           "family": "Helvetica"
          }
         }
        },
        "template": {
         "data": {
          "bar": [
           {
            "error_x": {
             "color": "#2a3f5f"
            },
            "error_y": {
             "color": "#2a3f5f"
            },
            "marker": {
             "line": {
              "color": "#E5ECF6",
              "width": 0.5
             },
             "pattern": {
              "fillmode": "overlay",
              "size": 10,
              "solidity": 0.2
             }
            },
            "type": "bar"
           }
          ],
          "barpolar": [
           {
            "marker": {
             "line": {
              "color": "#E5ECF6",
              "width": 0.5
             },
             "pattern": {
              "fillmode": "overlay",
              "size": 10,
              "solidity": 0.2
             }
            },
            "type": "barpolar"
           }
          ],
          "carpet": [
           {
            "aaxis": {
             "endlinecolor": "#2a3f5f",
             "gridcolor": "white",
             "linecolor": "white",
             "minorgridcolor": "white",
             "startlinecolor": "#2a3f5f"
            },
            "baxis": {
             "endlinecolor": "#2a3f5f",
             "gridcolor": "white",
             "linecolor": "white",
             "minorgridcolor": "white",
             "startlinecolor": "#2a3f5f"
            },
            "type": "carpet"
           }
          ],
          "choropleth": [
           {
            "colorbar": {
             "outlinewidth": 0,
             "ticks": ""
            },
            "type": "choropleth"
           }
          ],
          "contour": [
           {
            "colorbar": {
             "outlinewidth": 0,
             "ticks": ""
            },
            "colorscale": [
             [
              0,
              "#0d0887"
             ],
             [
              0.1111111111111111,
              "#46039f"
             ],
             [
              0.2222222222222222,
              "#7201a8"
             ],
             [
              0.3333333333333333,
              "#9c179e"
             ],
             [
              0.4444444444444444,
              "#bd3786"
             ],
             [
              0.5555555555555556,
              "#d8576b"
             ],
             [
              0.6666666666666666,
              "#ed7953"
             ],
             [
              0.7777777777777778,
              "#fb9f3a"
             ],
             [
              0.8888888888888888,
              "#fdca26"
             ],
             [
              1,
              "#f0f921"
             ]
            ],
            "type": "contour"
           }
          ],
          "contourcarpet": [
           {
            "colorbar": {
             "outlinewidth": 0,
             "ticks": ""
            },
            "type": "contourcarpet"
           }
          ],
          "heatmap": [
           {
            "colorbar": {
             "outlinewidth": 0,
             "ticks": ""
            },
            "colorscale": [
             [
              0,
              "#0d0887"
             ],
             [
              0.1111111111111111,
              "#46039f"
             ],
             [
              0.2222222222222222,
              "#7201a8"
             ],
             [
              0.3333333333333333,
              "#9c179e"
             ],
             [
              0.4444444444444444,
              "#bd3786"
             ],
             [
              0.5555555555555556,
              "#d8576b"
             ],
             [
              0.6666666666666666,
              "#ed7953"
             ],
             [
              0.7777777777777778,
              "#fb9f3a"
             ],
             [
              0.8888888888888888,
              "#fdca26"
             ],
             [
              1,
              "#f0f921"
             ]
            ],
            "type": "heatmap"
           }
          ],
          "heatmapgl": [
           {
            "colorbar": {
             "outlinewidth": 0,
             "ticks": ""
            },
            "colorscale": [
             [
              0,
              "#0d0887"
             ],
             [
              0.1111111111111111,
              "#46039f"
             ],
             [
              0.2222222222222222,
              "#7201a8"
             ],
             [
              0.3333333333333333,
              "#9c179e"
             ],
             [
              0.4444444444444444,
              "#bd3786"
             ],
             [
              0.5555555555555556,
              "#d8576b"
             ],
             [
              0.6666666666666666,
              "#ed7953"
             ],
             [
              0.7777777777777778,
              "#fb9f3a"
             ],
             [
              0.8888888888888888,
              "#fdca26"
             ],
             [
              1,
              "#f0f921"
             ]
            ],
            "type": "heatmapgl"
           }
          ],
          "histogram": [
           {
            "marker": {
             "pattern": {
              "fillmode": "overlay",
              "size": 10,
              "solidity": 0.2
             }
            },
            "type": "histogram"
           }
          ],
          "histogram2d": [
           {
            "colorbar": {
             "outlinewidth": 0,
             "ticks": ""
            },
            "colorscale": [
             [
              0,
              "#0d0887"
             ],
             [
              0.1111111111111111,
              "#46039f"
             ],
             [
              0.2222222222222222,
              "#7201a8"
             ],
             [
              0.3333333333333333,
              "#9c179e"
             ],
             [
              0.4444444444444444,
              "#bd3786"
             ],
             [
              0.5555555555555556,
              "#d8576b"
             ],
             [
              0.6666666666666666,
              "#ed7953"
             ],
             [
              0.7777777777777778,
              "#fb9f3a"
             ],
             [
              0.8888888888888888,
              "#fdca26"
             ],
             [
              1,
              "#f0f921"
             ]
            ],
            "type": "histogram2d"
           }
          ],
          "histogram2dcontour": [
           {
            "colorbar": {
             "outlinewidth": 0,
             "ticks": ""
            },
            "colorscale": [
             [
              0,
              "#0d0887"
             ],
             [
              0.1111111111111111,
              "#46039f"
             ],
             [
              0.2222222222222222,
              "#7201a8"
             ],
             [
              0.3333333333333333,
              "#9c179e"
             ],
             [
              0.4444444444444444,
              "#bd3786"
             ],
             [
              0.5555555555555556,
              "#d8576b"
             ],
             [
              0.6666666666666666,
              "#ed7953"
             ],
             [
              0.7777777777777778,
              "#fb9f3a"
             ],
             [
              0.8888888888888888,
              "#fdca26"
             ],
             [
              1,
              "#f0f921"
             ]
            ],
            "type": "histogram2dcontour"
           }
          ],
          "mesh3d": [
           {
            "colorbar": {
             "outlinewidth": 0,
             "ticks": ""
            },
            "type": "mesh3d"
           }
          ],
          "parcoords": [
           {
            "line": {
             "colorbar": {
              "outlinewidth": 0,
              "ticks": ""
             }
            },
            "type": "parcoords"
           }
          ],
          "pie": [
           {
            "automargin": true,
            "type": "pie"
           }
          ],
          "scatter": [
           {
            "fillpattern": {
             "fillmode": "overlay",
             "size": 10,
             "solidity": 0.2
            },
            "type": "scatter"
           }
          ],
          "scatter3d": [
           {
            "line": {
             "colorbar": {
              "outlinewidth": 0,
              "ticks": ""
             }
            },
            "marker": {
             "colorbar": {
              "outlinewidth": 0,
              "ticks": ""
             }
            },
            "type": "scatter3d"
           }
          ],
          "scattercarpet": [
           {
            "marker": {
             "colorbar": {
              "outlinewidth": 0,
              "ticks": ""
             }
            },
            "type": "scattercarpet"
           }
          ],
          "scattergeo": [
           {
            "marker": {
             "colorbar": {
              "outlinewidth": 0,
              "ticks": ""
             }
            },
            "type": "scattergeo"
           }
          ],
          "scattergl": [
           {
            "marker": {
             "colorbar": {
              "outlinewidth": 0,
              "ticks": ""
             }
            },
            "type": "scattergl"
           }
          ],
          "scattermapbox": [
           {
            "marker": {
             "colorbar": {
              "outlinewidth": 0,
              "ticks": ""
             }
            },
            "type": "scattermapbox"
           }
          ],
          "scatterpolar": [
           {
            "marker": {
             "colorbar": {
              "outlinewidth": 0,
              "ticks": ""
             }
            },
            "type": "scatterpolar"
           }
          ],
          "scatterpolargl": [
           {
            "marker": {
             "colorbar": {
              "outlinewidth": 0,
              "ticks": ""
             }
            },
            "type": "scatterpolargl"
           }
          ],
          "scatterternary": [
           {
            "marker": {
             "colorbar": {
              "outlinewidth": 0,
              "ticks": ""
             }
            },
            "type": "scatterternary"
           }
          ],
          "surface": [
           {
            "colorbar": {
             "outlinewidth": 0,
             "ticks": ""
            },
            "colorscale": [
             [
              0,
              "#0d0887"
             ],
             [
              0.1111111111111111,
              "#46039f"
             ],
             [
              0.2222222222222222,
              "#7201a8"
             ],
             [
              0.3333333333333333,
              "#9c179e"
             ],
             [
              0.4444444444444444,
              "#bd3786"
             ],
             [
              0.5555555555555556,
              "#d8576b"
             ],
             [
              0.6666666666666666,
              "#ed7953"
             ],
             [
              0.7777777777777778,
              "#fb9f3a"
             ],
             [
              0.8888888888888888,
              "#fdca26"
             ],
             [
              1,
              "#f0f921"
             ]
            ],
            "type": "surface"
           }
          ],
          "table": [
           {
            "cells": {
             "fill": {
              "color": "#EBF0F8"
             },
             "line": {
              "color": "white"
             }
            },
            "header": {
             "fill": {
              "color": "#C8D4E3"
             },
             "line": {
              "color": "white"
             }
            },
            "type": "table"
           }
          ]
         },
         "layout": {
          "annotationdefaults": {
           "arrowcolor": "#2a3f5f",
           "arrowhead": 0,
           "arrowwidth": 1
          },
          "autotypenumbers": "strict",
          "coloraxis": {
           "colorbar": {
            "outlinewidth": 0,
            "ticks": ""
           }
          },
          "colorscale": {
           "diverging": [
            [
             0,
             "#8e0152"
            ],
            [
             0.1,
             "#c51b7d"
            ],
            [
             0.2,
             "#de77ae"
            ],
            [
             0.3,
             "#f1b6da"
            ],
            [
             0.4,
             "#fde0ef"
            ],
            [
             0.5,
             "#f7f7f7"
            ],
            [
             0.6,
             "#e6f5d0"
            ],
            [
             0.7,
             "#b8e186"
            ],
            [
             0.8,
             "#7fbc41"
            ],
            [
             0.9,
             "#4d9221"
            ],
            [
             1,
             "#276419"
            ]
           ],
           "sequential": [
            [
             0,
             "#0d0887"
            ],
            [
             0.1111111111111111,
             "#46039f"
            ],
            [
             0.2222222222222222,
             "#7201a8"
            ],
            [
             0.3333333333333333,
             "#9c179e"
            ],
            [
             0.4444444444444444,
             "#bd3786"
            ],
            [
             0.5555555555555556,
             "#d8576b"
            ],
            [
             0.6666666666666666,
             "#ed7953"
            ],
            [
             0.7777777777777778,
             "#fb9f3a"
            ],
            [
             0.8888888888888888,
             "#fdca26"
            ],
            [
             1,
             "#f0f921"
            ]
           ],
           "sequentialminus": [
            [
             0,
             "#0d0887"
            ],
            [
             0.1111111111111111,
             "#46039f"
            ],
            [
             0.2222222222222222,
             "#7201a8"
            ],
            [
             0.3333333333333333,
             "#9c179e"
            ],
            [
             0.4444444444444444,
             "#bd3786"
            ],
            [
             0.5555555555555556,
             "#d8576b"
            ],
            [
             0.6666666666666666,
             "#ed7953"
            ],
            [
             0.7777777777777778,
             "#fb9f3a"
            ],
            [
             0.8888888888888888,
             "#fdca26"
            ],
            [
             1,
             "#f0f921"
            ]
           ]
          },
          "colorway": [
           "#636efa",
           "#EF553B",
           "#00cc96",
           "#ab63fa",
           "#FFA15A",
           "#19d3f3",
           "#FF6692",
           "#B6E880",
           "#FF97FF",
           "#FECB52"
          ],
          "font": {
           "color": "#2a3f5f"
          },
          "geo": {
           "bgcolor": "white",
           "lakecolor": "white",
           "landcolor": "#E5ECF6",
           "showlakes": true,
           "showland": true,
           "subunitcolor": "white"
          },
          "hoverlabel": {
           "align": "left"
          },
          "hovermode": "closest",
          "mapbox": {
           "style": "light"
          },
          "paper_bgcolor": "white",
          "plot_bgcolor": "#E5ECF6",
          "polar": {
           "angularaxis": {
            "gridcolor": "white",
            "linecolor": "white",
            "ticks": ""
           },
           "bgcolor": "#E5ECF6",
           "radialaxis": {
            "gridcolor": "white",
            "linecolor": "white",
            "ticks": ""
           }
          },
          "scene": {
           "xaxis": {
            "backgroundcolor": "#E5ECF6",
            "gridcolor": "white",
            "gridwidth": 2,
            "linecolor": "white",
            "showbackground": true,
            "ticks": "",
            "zerolinecolor": "white"
           },
           "yaxis": {
            "backgroundcolor": "#E5ECF6",
            "gridcolor": "white",
            "gridwidth": 2,
            "linecolor": "white",
            "showbackground": true,
            "ticks": "",
            "zerolinecolor": "white"
           },
           "zaxis": {
            "backgroundcolor": "#E5ECF6",
            "gridcolor": "white",
            "gridwidth": 2,
            "linecolor": "white",
            "showbackground": true,
            "ticks": "",
            "zerolinecolor": "white"
           }
          },
          "shapedefaults": {
           "line": {
            "color": "#2a3f5f"
           }
          },
          "ternary": {
           "aaxis": {
            "gridcolor": "white",
            "linecolor": "white",
            "ticks": ""
           },
           "baxis": {
            "gridcolor": "white",
            "linecolor": "white",
            "ticks": ""
           },
           "bgcolor": "#E5ECF6",
           "caxis": {
            "gridcolor": "white",
            "linecolor": "white",
            "ticks": ""
           }
          },
          "title": {
           "x": 0.05
          },
          "xaxis": {
           "automargin": true,
           "gridcolor": "white",
           "linecolor": "white",
           "ticks": "",
           "title": {
            "standoff": 15
           },
           "zerolinecolor": "white",
           "zerolinewidth": 2
          },
          "yaxis": {
           "automargin": true,
           "gridcolor": "white",
           "linecolor": "white",
           "ticks": "",
           "title": {
            "standoff": 15
           },
           "zerolinecolor": "white",
           "zerolinewidth": 2
          }
         }
        },
        "width": 700,
        "xaxis": {
         "categoryorder": "total ascending",
         "title": {
          "text": "Fold change"
         }
        }
       }
      }
     },
     "metadata": {},
     "output_type": "display_data"
    }
   ],
   "source": [
    "#Combinbing the fold change charts of the preferable methods and the topic of interest for the tutorial \n",
    "comb_df_1 = combined.loc[:,['index','Very interested']]\n",
    "comb_df_2 = fold_df_22_20_sub.loc[:, ['index', 'Very interested']]\n",
    "comb_fold_df = pd.concat([comb_df_1, comb_df_2])\n",
    "comb_fold_df\n",
    "#creating bar chart for the combined fold \n",
    "comb_fold_bar = go.Figure()\n",
    "colors=['blue','blue','blue', 'blue', 'blue', 'crimson','crimson', 'crimson', 'crimson', 'crimson', 'crimson', 'crimson'] \n",
    "comb_fold_bar.add_trace(go.Bar(x=comb_fold_df['index'], y=comb_fold_df['Very interested'],marker_color=colors, orientation='v'))\n",
    "comb_fold_bar.update_layout(barmode='group',width=700, height=700, font=dict(family='Helvetica', color=\"Black\", size=14), legend=dict(title_font_family = 'Helvetica', font=dict(size=16, color=\"Black\")))\n",
    "comb_fold_bar.update_xaxes(title='Fold change', categoryorder ='total ascending')\n",
    "comb_fold_bar"
   ]
  },
  {
   "attachments": {},
   "cell_type": "markdown",
   "metadata": {},
   "source": [
    "#### Wordclouds"
   ]
  },
  {
   "cell_type": "code",
   "execution_count": null,
   "metadata": {},
   "outputs": [],
   "source": [
    "\n",
    "# wordcloud for well solved image analysis problems_2020\n",
    "from wordcloud import WordCloud, STOPWORDS\n",
    "well_solved_2021 = pd.read_csv('C:\\\\Users\\\\ssivagur\\\\Documents\\\\2021_Image_analysis_survey_data\\\\What_image_analysis_problems_ie_finding_nuclei_tissue_analysis_analysis_of_super-resolution_data_etc_do_you_think_are_generally_well-solved.txt')\n",
    "well_solved_2021 = well_solved_2021.rename(columns= {'0':'well_solved-2020'})\n",
    "wordcloud(well_solved_2021[\"well_solved-2020\"], extra_stopwords=['finding nuclei','finding', 'nuclei', 'tissue','analysis', 'analysis of super-resolution data', 'cell', 'cells', 'etc', 'image', 'images', 'well', \n",
    "             'solved', 'imaging', 'better', 'simple', 'different', 'non', 'within', 'depend', 'none', 'things', 'easy', 'many', 'almost', 'common', \n",
    "             'though', 'n', 'depends', 'number', 'made', 'seem', 'show', 'particularly', 'co', 'size', 'types', 'every', 'possible', 'based', 'generally', 'semi', 'work', 'don', 't', 'basic'])\n",
    "# wordcloud for image analysis problems which need better solutions -2021\n",
    "better_sol_2021 = pd.read_csv('C:\\\\Users\\\\ssivagur\\\\Documents\\\\2021_Image_analysis_survey_data\\\\What_image_analysis_problems_ie_finding_nuclei_tissue_analysis_analysis_of_super-resolution_data_etc_do_you_wish_had_easier_better_solutions.txt')\n",
    "better_sol_2021 = better_sol_2021.rename(columns= {'0':'Image analysis problems that need better solutions-2020'})\n",
    "wordcloud(better_sol_2021[\"Image analysis problems that need better solutions-2020\"], extra_stopwords=['finding nuclei','finding', 'nuclei', 'tissue', 'analysis', 'analysis of super-resolution data', 'image', 'images', 'imaging', 'e', 'g', \n",
    "             'cell', 'em', 'non', 'etc', 'cells', 'better', 'find', 'easy', 'sample', 'well', 'don', 't', 'different', 'without','many', 'change', 'high', 'especially', \n",
    "             'low', 'good', 'tool', 'based', 'things', 'changes','within', 'problem', 'small', 'working', 'data', \n",
    "             'analyzing','set', 'often', 'easier', 'clearly', 'types', 'general', 'anything', 'co', 'work', 'highly', 'need', 'way', 're'])\n",
    "# wordcloud for creators role -2020\n",
    "creator_2021 = pd.read_csv('C:\\\\Users\\\\ssivagur\\\\Documents\\\\2021_Image_analysis_survey_data\\\\What_do_you_think_analysis_tool_CREATORS_such_as_software_developers_could_should_do_to_make_image_analysis_better_and_more_successful_How_best_could_we_encourage_them_to_do_it.txt')\n",
    "creator_2021 = creator_2021.rename(columns= {'0':'Creators role - 2020'})\n",
    "wordcloud(creator_2021[\"Creators role - 2020\"],extra_stopwords=['tool','make','analysis', 'better', 'more', 'software', 'tools', 'user', 'step', 'users', 'use', 'image', 'don', 't', 's', 'etc', \n",
    "                 'used', 'clearly', 'doesn', 'best', 'touch', 'give', 'non', 'less', 'images', 'asap', 'high','using', 'well', 'work', 'even', 'end',\n",
    "                 'others','everyone','everything','know','really','without','something','always','one','want', 'exactly', 've','m','certain', 're','instead',\n",
    "                 'us','maybe','sc', 'kind','going', 'different','see','especially', 'lack','much', 'past', 'selves', 'running', 'either','require', 'happens', 'lot', 'put', 'perhaps', \n",
    "                 'properly', 'many', 'behave', 'good', 'data', 'away', 'tell', 'will'] )\n",
    "# wordcloud for users role -2020\n",
    "user_2021 = pd.read_csv('C:\\\\Users\\\\ssivagur\\\\Documents\\\\2021_Image_analysis_survey_data\\\\What_do_you_think_analysis_tool_USERS_such_as_microscopists_could_should_do_to_make_image_analysis_better_and_more_successful__How_best_could_we_encourage_them_to_do_it.txt')\n",
    "user_2021 = user_2021.rename(columns= {'0':'Users role - 2020'})\n",
    "\n",
    "wordcloud(user_2021[\"Users role - 2020\"], extra_stopwords=['tool','make','analysis', 'better', 'more', 'software', 'tools', 'user', 'step', 'users', 'use', 'don', 'image', 'imaging', 'images', \n",
    "                  'data', 'think', 'best', 'need', 'encourage', 'etc', 't', 'needs', 'basic', 'able', 'keep', 'used', 'help', 'high', 'try', 'first', 'clearly',\n",
    "                  'bit', 'will', 'different', 'field', 'non', 'ask', 'good', 'know'])\n"
   ]
  },
  {
   "cell_type": "code",
   "execution_count": null,
   "metadata": {},
   "outputs": [],
   "source": [
    "#Comparing with the previous years data (topics of interest for the image analysis tutorials)\n",
    "\n",
    "topic_interest_data_2021 = pd.read_csv('C:\\\\Users\\\\ssivagur\\\\Documents\\\\2021_Image_analysis_survey_data\\\\What_specific_topics_ie_overviews_of_a_particular_tool_comparisons_between_pieces_of_software_or_how_to_use_a_certain_tool_for_a_certain_kind_of_experiment_would_you_like_to_s.txt')\n",
    "topic_interest_data_2021= topic_interest_data_2021.rename(columns={'0':'interest'})\n",
    "#unigrams from 2021\n",
    "from sklearn.feature_extraction.text import CountVectorizer\n",
    "c_vec = CountVectorizer(stop_words=stoplist, ngram_range=(1,1))\n",
    "# matrix of ngrams\n",
    "ngrams = c_vec.fit_transform(topic_interest_data_2021[\"interest\"])\n",
    "# count frequency of ngrams\n",
    "count_values = ngrams.toarray().sum(axis=0)\n",
    "# list of ngrams\n",
    "vocab = c_vec.vocabulary_\n",
    "df_2021_unigram = pd.DataFrame(sorted([(count_values[i],k) for k,i in vocab.items()], reverse=True)\n",
    "            ).rename(columns={0: 'frequency', 1:'unigram'})\n",
    "#bigrams from 2021\n",
    "from sklearn.feature_extraction.text import CountVectorizer\n",
    "c_vec = CountVectorizer(stop_words=stoplist, ngram_range=(2,2))\n",
    "# matrix of ngrams\n",
    "ngrams = c_vec.fit_transform(topic_interest_data_2021[\"interest\"])\n",
    "# count frequency of ngrams\n",
    "count_values = ngrams.toarray().sum(axis=0)\n",
    "# list of ngrams\n",
    "vocab = c_vec.vocabulary_\n",
    "df_2021_bigram = pd.DataFrame(sorted([(count_values[i],k) for k,i in vocab.items()], reverse=True)\n",
    "            ).rename(columns={0: 'frequency', 1:'bigram'})\n",
    "#topics of interest for the tutorials with 2021 data \n",
    "topic_interest_data_2021[\"Python/coding/script\"] = topic_interest_data_2021[\"interest\"].str.contains('python|coding|script', case=False)\n",
    "topic_interest_data_2021[\"Segmentation\"] = topic_interest_data_2021['interest'].str.contains('segmentation|cell segmentation', case=False)\n",
    "topic_interest_data_2021[\"napari\"] = topic_interest_data_2021['interest'].str.contains('napari', case=False)\n",
    "topic_interest_data_2021[\"Certain tools\"] = topic_interest_data_2021['interest'].str.contains('certain tool', case=False)\n",
    "topic_interest_data_2021[\"Open source\"] = topic_interest_data_2021['interest'].str.contains('open source', case=False)\n",
    "topic_interest_data_2021[\"Deep/machine learning\"] = topic_interest_data_2021['interest'].str.contains('deep|machine', case=False)\n",
    "topic_interest_data_2021[\"Fiji/ImageJ/Macro\"] = topic_interest_data_2021['interest'].str.contains('imagej|fiji|macro', case=False)\n",
    "topic_interest_data_2021[\"Best practices\"] = topic_interest_data_2021['interest'].str.contains('best practices', case=False)\n",
    "topic_interest_data_2021[\"Cellprofiler\"] = topic_interest_data_2021['interest'].str.contains('cellprofiler', case=False)\n",
    "topic_interest_data_2021[\"Comparisons\"] = topic_interest_data_2021['interest'].str.contains('comparison', case=False)\n",
    "\n",
    "topic_data_2021 = topic_interest_data_2021.drop(columns=['interest', 'Fiji/ImageJ/macro'])\n",
    "topic_data_2021_sum = topic_data_2021.sum()\n",
    "\n",
    "#chart for the topics of interest for the future workshop\n",
    "topic_data_2021_chart = px.bar(topic_data_2021_sum, labels= {'value':'counts', 'index':''}, text_auto=True)\n",
    "topic_data_2021_chart.update_layout(title='Topics of interest for the image analysis tutorials', title_x=0.5, width = 500, height=500, showlegend=False)\n",
    "topic_data_2021_chart.update_xaxes(categoryorder='total descending')\n",
    "# Topics of interest for future tutorials - 2020 and 2022\n",
    "top_20 = topic_data_2021_sum.to_frame()\n",
    "top_20 = top_20.rename(columns={0:'counts'})\n",
    "top_20 = top_20.reset_index()\n",
    "top_20 = top_20.rename(columns={'index':'topics'})\n",
    "\n",
    "top_22 = topic_data_sum.to_frame()\n",
    "top_22 = top_22.rename(columns={0:'counts'})\n",
    "top_22 = top_22.reset_index()\n",
    "top_22 = top_22.rename(columns={'index':'topics'})\n",
    "\n",
    "\n",
    "# bar chart\n",
    "top_comp = go.Figure()\n",
    "\n",
    "top_comp.add_trace(go.Bar(name='2020',x=top_20['topics'], y=top_20['counts'], text=top_20['counts']))\n",
    "top_comp.add_trace(go.Bar(name='2022', x=top_22['topics'], y=top_22['counts'], text=top_22['counts']))\n",
    "\n",
    "top_comp.update_layout(title='Topics of interest for the image analysis tutorials', title_x=0.5, width = 500, height=500, font=dict(family='Helvetica', color=\"Black\", size=16))\n",
    "top_comp.update_xaxes(categoryorder='total descending')\n",
    "#Conf-2020\n",
    "\n",
    "conf_20 = pd.read_csv('C:\\\\Users\\\\ssivagur\\\\Documents\\\\2021_Image_analysis_survey_data\\\\Please_select_any_of_the_following_you_have_attended_in_the_past.txt')\n",
    "conf_20= conf_20.rename(columns={'0':'conf'})\n",
    "conf_20\n",
    "conf_20 = conf_20.dropna()\n",
    "conf_20['Workshop'] = conf_20['conf'].apply(lambda x: True if 'Workshop' in x else False)\n",
    "conf_20['Conference session'] = conf_20['conf'].apply(lambda x: True if 'session' in x else False)\n",
    "conf_20['Conference'] = conf_20['conf'].apply(lambda x: True if 'dedicated' in x else False)\n",
    "\n",
    "\n",
    "conf_20 = conf_20.iloc[:, 1:4]\n",
    "conf_tot = conf_20.sum()\n",
    "conf_tot = conf_tot.to_frame()\n",
    "conf_tot\n",
    "conf_tot = conf_tot.rename(columns={0:'counts'})\n",
    "conf_tot = conf_tot.reset_index()\n",
    "conf_tot = conf_tot.rename(columns={'index':'topics'})\n",
    "\n",
    "pre_df_tot = pre_df_tot.rename(columns={0:'counts'})\n",
    "pre_df_tot = pre_df_tot.reset_index()\n",
    "pre_df_tot = pre_df_tot.rename(columns={'index':'topics'})\n",
    "pre_df_tot\n",
    "pre_con_20_22 = go.Figure()\n",
    "\n",
    "pre_con_20_22.add_trace(go.Bar(name='2020', x=conf_tot['topics'], y=conf_tot['counts'], text=conf_tot['counts']))\n",
    "pre_con_20_22.add_trace(go.Bar(name='2022', x=pre_df_tot['topics'], y=pre_df_tot['counts'], text=pre_df_tot['counts']))\n",
    "\n",
    "pre_con_20_22.update_layout(width = 500, height=500, font=dict(family='Helvetica', color=\"Black\", size=16))\n",
    "pre_con_20_22.update_xaxes(categoryorder='total descending')\n"
   ]
  },
  {
   "cell_type": "code",
   "execution_count": null,
   "metadata": {},
   "outputs": [],
   "source": [
    "#Are there any image analysis workshops, tutorials, or conferences that you have participated in and found particularly helpful? If yes, what made them beneficial?\n",
    "work_20 = pd.read_csv('C:\\\\Users\\\\ssivagur\\\\Documents\\\\2021_Image_analysis_survey_data\\\\Are_there_any_image_analysis_workshops_tutorials_or_conferences_that_you_have_participated_in_and_found_particularly_helpful__If_yes_what_made_them_beneficial.txt')\n",
    "work_20= work_20.rename(columns={'0':'work'})\n",
    "work_20 = work_20['work'].str.lower().str.strip()\n",
    "work_20 = pd.DataFrame(work_20)\n",
    "work_20\n",
    "\n",
    "\n",
    "work_20[\"NEUBIAS\"] = work_20['work'].apply(lambda x: True if 'neubias' in x else False)\n",
    "work_20[\"Fiji/ImageJ\"] = work_20['work'].apply(lambda x: True if ('imagej' in x) or ('fiji' in x) else False)\n",
    "work_20[\"Cellprofiler\"] = work_20['work'].apply(lambda x: True if 'cellprofiler' in x else False)\n",
    "work_20[\"Imaris\"] = work_20['work'].apply(lambda x: True if 'imaris' in x else False)\n",
    "work_20[\"Robert Hasse\"] = work_20['work'].apply(lambda x: True if 'robert' in x else False)\n",
    "work_20[\"AQLM\"] = work_20['work'].apply(lambda x: True if 'aqlm' in x else False)\n",
    "work_20[\"CSHL\"] = work_20['work'].apply(lambda x: True if 'cshl' in x else False)\n",
    "work_20[\"I2K\"] = work_20['work'].apply(lambda x: True if 'i2k' in x else False)\n",
    "work_20[\"EMBL\"] = work_20['work'].apply(lambda x: True if 'embl' in x else False)\n",
    "work_20\n",
    "\n",
    "work_20_sum = work_20.sum().to_frame()\n",
    "work_20_sum = work_20_sum.drop('work')\n",
    "work_20_sum = work_20_sum.rename(columns={0:'counts'})\n",
    "work_20_sum = work_20_sum.reset_index()\n",
    "work_20_sum = work_20_sum.rename(columns={'index':'conferences'})\n",
    "work_20_sum\n",
    "\n",
    "#altering 2022 dataframe \n",
    "workshops_for_chart = workshops_for_chart.rename(columns={0:'counts'})\n",
    "workshops_for_chart = workshops_for_chart.reset_index()\n",
    "workshops_for_chart = workshops_for_chart.rename(columns={'index':'conferences'})\n",
    "workshops_for_chart\n",
    "#comparison chart \n",
    "work_20_22 = go.Figure()\n",
    "\n",
    "work_20_22.add_trace(go.Bar(name='2020', x=work_20_sum['conferences'], y=work_20_sum['counts'], text=work_20_sum['counts']))\n",
    "work_20_22.add_trace(go.Bar(name='2022', x=workshops_for_chart['conferences'], y=workshops_for_chart['counts'], text=workshops_for_chart['counts']))\n",
    "\n",
    "work_20_22.update_layout(title_x=0.5, title='Workshops attended by the participants', width=500, height=500, font=dict(family='Helvetica', color=\"Black\", size=16))\n",
    "work_20_22.update_xaxes(categoryorder = 'total descending')\n",
    "\n",
    "#image analysis addition for the conferences - 2020\n",
    "\n",
    "ia_20 = pd.read_csv('C:\\\\Users\\\\ssivagur\\\\Documents\\\\2021_Image_analysis_survey_data\\\\Are_there_any_conferences_you_ve_attended_in_the_past_that_you_think_would_particularly_benefit_from_the_addition_expansion_of_image_analysis_offerings.txt')\n",
    "ia_20= ia_20.rename(columns={'0':'ia'})\n",
    "ia_20 = ia_20['ia'].str.lower().str.strip()\n",
    "ia_20 = pd.DataFrame(ia_20)\n",
    "ia_20\n",
    "# Creating a dataframe of unigrams \n",
    "from sklearn.feature_extraction.text import CountVectorizer\n",
    "c_vec = CountVectorizer(stop_words=stoplist, ngram_range=(1,1))\n",
    "# matrix of ngrams\n",
    "ngrams = c_vec.fit_transform(ia_20['ia'])\n",
    "# count frequency of ngrams\n",
    "count_values = ngrams.toarray().sum(axis=0)\n",
    "# list of ngrams\n",
    "vocab = c_vec.vocabulary_\n",
    "ia_unigram = pd.DataFrame(sorted([(count_values[i],k) for k,i in vocab.items()], reverse=True)\n",
    "            ).rename(columns={0: 'frequency', 1:'unigram'})\n",
    "# Creating a dataframe of bigrams \n",
    "from sklearn.feature_extraction.text import CountVectorizer\n",
    "c_vec = CountVectorizer(stop_words=stoplist, ngram_range=(2,2))\n",
    "# matrix of ngrams\n",
    "ngrams = c_vec.fit_transform(ia_20['ia'])\n",
    "# count frequency of ngrams\n",
    "count_values = ngrams.toarray().sum(axis=0)\n",
    "# list of ngrams\n",
    "vocab = c_vec.vocabulary_\n",
    "ia_bigram = pd.DataFrame(sorted([(count_values[i],k) for k,i in vocab.items()], reverse=True)\n",
    "            ).rename(columns={0: 'frequency', 1:'bigram'})\n",
    "# Creating a dataframe of trigrams \n",
    "from sklearn.feature_extraction.text import CountVectorizer\n",
    "c_vec = CountVectorizer(stop_words=stoplist, ngram_range=(3,3))\n",
    "# matrix of ngrams\n",
    "ngrams = c_vec.fit_transform(ia_20['ia'])\n",
    "# count frequency of ngrams\n",
    "count_values = ngrams.toarray().sum(axis=0)\n",
    "# list of ngrams\n",
    "vocab = c_vec.vocabulary_\n",
    "ia_trigram = pd.DataFrame(sorted([(count_values[i],k) for k,i in vocab.items()], reverse=True)\n",
    "            ).rename(columns={0: 'frequency', 1:'trigram'})\n",
    "data_df_20 = [['ASCB', 29], ['ELMI', 7], ['ABRF', 0], ['NEUBIAS', 8], ['MMC', 5], ['Biophysical society', 9], ['Developmental biology conference', 2]]\n",
    "conf_df_20 = pd.DataFrame(data_df_20, columns=['Conferences', 'Counts'])\n",
    "\n",
    "\n",
    "#chart for the conferences that need more image analysis sessions\n",
    "ia_20_22 = go.Figure()\n",
    "\n",
    "ia_20_22.add_trace(go.Bar(name='2020', x=conf_df_20['Conferences'], y=conf_df_20['Counts'], text=conf_df_20['Counts']))\n",
    "ia_20_22.add_trace(go.Bar(name='2022', x=conf_df['Conferences'], y=conf_df['Counts'], text=conf_df['Counts'] ))\n",
    "ia_20_22.update_layout(width=500, height=600, font=dict(family='Helvetica', color=\"Black\", size=16))\n",
    "ia_20_22.update_xaxes(categoryorder='total descending')\n"
   ]
  },
  {
   "cell_type": "code",
   "execution_count": null,
   "metadata": {},
   "outputs": [],
   "source": [
    "# wordcloud for creators role -2020\n",
    "creator_2021 = pd.read_csv('C:\\\\Users\\\\ssivagur\\\\Documents\\\\2021_Image_analysis_survey_data\\\\What_do_you_think_analysis_tool_CREATORS_such_as_software_developers_could_should_do_to_make_image_analysis_better_and_more_successful_How_best_could_we_encourage_them_to_do_it.txt')\n",
    "creator_2021 = creator_2021.rename(columns= {'0':'Creators role - 2020'})\n",
    "wordcloud(creator_2021[\"Creators role - 2020\"],extra_stopwords=['tool','make','analysis', 'better', 'more', 'software', 'tools', 'user', 'step', 'users', 'use', 'image', 'don', 't', 's', 'etc', \n",
    "                 'used', 'clearly', 'doesn', 'best', 'touch', 'give', 'non', 'less', 'images', 'asap', 'high','using', 'well', 'work', 'even', 'end',\n",
    "                 'others','everyone','everything','know','really','without','something','always','one','want', 'exactly', 've','m','certain', 're','instead',\n",
    "                 'us','maybe','sc', 'kind','going', 'different','see','especially', 'lack','much', 'past', 'selves', 'running', 'either','require', 'happens', 'lot', 'put', 'perhaps', \n",
    "                 'properly', 'many', 'behave', 'good', 'data', 'away', 'tell', 'will'] )\n",
    "# wordcloud for users role -2020\n",
    "user_2021 = pd.read_csv('C:\\\\Users\\\\ssivagur\\\\Documents\\\\2021_Image_analysis_survey_data\\\\What_do_you_think_analysis_tool_USERS_such_as_microscopists_could_should_do_to_make_image_analysis_better_and_more_successful__How_best_could_we_encourage_them_to_do_it.txt')\n",
    "user_2021 = user_2021.rename(columns= {'0':'Users role - 2020'})\n",
    "\n",
    "wordcloud(user_2021[\"Users role - 2020\"], extra_stopwords=['tool','make','analysis', 'better', 'more', 'software', 'tools', 'user', 'step', 'users', 'use', 'don', 'image', 'imaging', 'images', \n",
    "                  'data', 'think', 'best', 'need', 'encourage', 'etc', 't', 'needs', 'basic', 'able', 'keep', 'used', 'help', 'high', 'try', 'first', 'clearly',\n",
    "                  'bit', 'will', 'different', 'field', 'non', 'ask', 'good', 'know'])\n",
    "#Comparing with the previous years data (topics of interest for the image analysis tutorials)\n",
    "\n",
    "topic_interest_data_2021 = pd.read_csv('C:\\\\Users\\\\ssivagur\\\\Documents\\\\2021_Image_analysis_survey_data\\\\What_specific_topics_ie_overviews_of_a_particular_tool_comparisons_between_pieces_of_software_or_how_to_use_a_certain_tool_for_a_certain_kind_of_experiment_would_you_like_to_s.txt')\n",
    "topic_interest_data_2021= topic_interest_data_2021.rename(columns={'0':'interest'})\n",
    "#unigrams from 2021\n",
    "from sklearn.feature_extraction.text import CountVectorizer\n",
    "c_vec = CountVectorizer(stop_words=stoplist, ngram_range=(1,1))\n",
    "# matrix of ngrams\n",
    "ngrams = c_vec.fit_transform(topic_interest_data_2021[\"interest\"])\n",
    "# count frequency of ngrams\n",
    "count_values = ngrams.toarray().sum(axis=0)\n",
    "# list of ngrams\n",
    "vocab = c_vec.vocabulary_\n",
    "df_2021_unigram = pd.DataFrame(sorted([(count_values[i],k) for k,i in vocab.items()], reverse=True)\n",
    "            ).rename(columns={0: 'frequency', 1:'unigram'})\n",
    "#bigrams from 2021\n",
    "from sklearn.feature_extraction.text import CountVectorizer\n",
    "c_vec = CountVectorizer(stop_words=stoplist, ngram_range=(2,2))\n",
    "# matrix of ngrams\n",
    "ngrams = c_vec.fit_transform(topic_interest_data_2021[\"interest\"])\n",
    "# count frequency of ngrams\n",
    "count_values = ngrams.toarray().sum(axis=0)\n",
    "# list of ngrams\n",
    "vocab = c_vec.vocabulary_\n",
    "df_2021_bigram = pd.DataFrame(sorted([(count_values[i],k) for k,i in vocab.items()], reverse=True)\n",
    "            ).rename(columns={0: 'frequency', 1:'bigram'})\n",
    "#topics of interest for the tutorials with 2021 data \n",
    "topic_interest_data_2021[\"Python/coding/script\"] = topic_interest_data_2021[\"interest\"].str.contains('python|coding|script', case=False)\n",
    "topic_interest_data_2021[\"Segmentation\"] = topic_interest_data_2021['interest'].str.contains('segmentation|cell segmentation', case=False)\n",
    "topic_interest_data_2021[\"napari\"] = topic_interest_data_2021['interest'].str.contains('napari', case=False)\n",
    "topic_interest_data_2021[\"Certain tools\"] = topic_interest_data_2021['interest'].str.contains('certain tool', case=False)\n",
    "topic_interest_data_2021[\"Open source\"] = topic_interest_data_2021['interest'].str.contains('open source', case=False)\n",
    "topic_interest_data_2021[\"Deep/machine learning\"] = topic_interest_data_2021['interest'].str.contains('deep|machine', case=False)\n",
    "topic_interest_data_2021[\"Fiji/ImageJ/Macro\"] = topic_interest_data_2021['interest'].str.contains('imagej|fiji|macro', case=False)\n",
    "topic_interest_data_2021[\"Best practices\"] = topic_interest_data_2021['interest'].str.contains('best practices', case=False)\n",
    "topic_interest_data_2021[\"Cellprofiler\"] = topic_interest_data_2021['interest'].str.contains('cellprofiler', case=False)\n",
    "topic_interest_data_2021[\"Comparisons\"] = topic_interest_data_2021['interest'].str.contains('comparison', case=False)\n",
    "\n",
    "topic_data_2021 = topic_interest_data_2021.drop(columns=['interest', 'Fiji/ImageJ/macro'])\n",
    "topic_data_2021_sum = topic_data_2021.sum()\n",
    "\n",
    "#chart for the topics of interest for the future workshop\n",
    "topic_data_2021_chart = px.bar(topic_data_2021_sum, labels= {'value':'counts', 'index':''}, text_auto=True)\n",
    "topic_data_2021_chart.update_layout(title='Topics of interest for the image analysis tutorials', title_x=0.5, width = 500, height=500, showlegend=False)\n",
    "topic_data_2021_chart.update_xaxes(categoryorder='total descending')\n",
    "# Topics of interest for future tutorials - 2020 and 2022\n",
    "top_20 = topic_data_2021_sum.to_frame()\n",
    "top_20 = top_20.rename(columns={0:'counts'})\n",
    "top_20 = top_20.reset_index()\n",
    "top_20 = top_20.rename(columns={'index':'topics'})\n",
    "\n",
    "top_22 = topic_data_sum.to_frame()\n",
    "top_22 = top_22.rename(columns={0:'counts'})\n",
    "top_22 = top_22.reset_index()\n",
    "top_22 = top_22.rename(columns={'index':'topics'})\n",
    "\n",
    "\n",
    "# bar chart\n",
    "top_comp = go.Figure()\n",
    "\n",
    "top_comp.add_trace(go.Bar(name='2020',x=top_20['topics'], y=top_20['counts'], text=top_20['counts']))\n",
    "top_comp.add_trace(go.Bar(name='2022', x=top_22['topics'], y=top_22['counts'], text=top_22['counts']))\n",
    "\n",
    "top_comp.update_layout(title='Topics of interest for the image analysis tutorials', title_x=0.5, width = 500, height=500, font=dict(family='Helvetica', color=\"Black\", size=16))\n",
    "top_comp.update_xaxes(categoryorder='total descending')\n",
    "#Conf-2020\n",
    "\n",
    "conf_20 = pd.read_csv('C:\\\\Users\\\\ssivagur\\\\Documents\\\\2021_Image_analysis_survey_data\\\\Please_select_any_of_the_following_you_have_attended_in_the_past.txt')\n",
    "conf_20= conf_20.rename(columns={'0':'conf'})\n",
    "conf_20\n",
    "conf_20 = conf_20.dropna()\n",
    "conf_20['Workshop'] = conf_20['conf'].apply(lambda x: True if 'Workshop' in x else False)\n",
    "conf_20['Conference session'] = conf_20['conf'].apply(lambda x: True if 'session' in x else False)\n",
    "conf_20['Conference'] = conf_20['conf'].apply(lambda x: True if 'dedicated' in x else False)\n",
    "\n",
    "\n",
    "conf_20 = conf_20.iloc[:, 1:4]\n",
    "conf_tot = conf_20.sum()\n",
    "conf_tot = conf_tot.to_frame()\n",
    "conf_tot\n",
    "conf_tot = conf_tot.rename(columns={0:'counts'})\n",
    "conf_tot = conf_tot.reset_index()\n",
    "conf_tot = conf_tot.rename(columns={'index':'topics'})\n",
    "\n",
    "pre_df_tot = pre_df_tot.rename(columns={0:'counts'})\n",
    "pre_df_tot = pre_df_tot.reset_index()\n",
    "pre_df_tot = pre_df_tot.rename(columns={'index':'topics'})\n",
    "pre_df_tot\n",
    "pre_con_20_22 = go.Figure()\n",
    "\n",
    "pre_con_20_22.add_trace(go.Bar(name='2020', x=conf_tot['topics'], y=conf_tot['counts'], text=conf_tot['counts']))\n",
    "pre_con_20_22.add_trace(go.Bar(name='2022', x=pre_df_tot['topics'], y=pre_df_tot['counts'], text=pre_df_tot['counts']))\n",
    "\n",
    "pre_con_20_22.update_layout(width = 500, height=500, font=dict(family='Helvetica', color=\"Black\", size=16))\n",
    "pre_con_20_22.update_xaxes(categoryorder='total descending')\n",
    "#Are there any image analysis workshops, tutorials, or conferences that you have participated in and found particularly helpful? If yes, what made them beneficial?\n",
    "work_20 = pd.read_csv('C:\\\\Users\\\\ssivagur\\\\Documents\\\\2021_Image_analysis_survey_data\\\\Are_there_any_image_analysis_workshops_tutorials_or_conferences_that_you_have_participated_in_and_found_particularly_helpful__If_yes_what_made_them_beneficial.txt')\n",
    "work_20= work_20.rename(columns={'0':'work'})\n",
    "work_20 = work_20['work'].str.lower().str.strip()\n",
    "work_20 = pd.DataFrame(work_20)\n",
    "work_20\n",
    "\n",
    "\n",
    "work_20[\"NEUBIAS\"] = work_20['work'].apply(lambda x: True if 'neubias' in x else False)\n",
    "work_20[\"Fiji/ImageJ\"] = work_20['work'].apply(lambda x: True if ('imagej' in x) or ('fiji' in x) else False)\n",
    "work_20[\"Cellprofiler\"] = work_20['work'].apply(lambda x: True if 'cellprofiler' in x else False)\n",
    "work_20[\"Imaris\"] = work_20['work'].apply(lambda x: True if 'imaris' in x else False)\n",
    "work_20[\"Robert Haase\"] = work_20['work'].apply(lambda x: True if 'robert' in x else False)\n",
    "work_20[\"AQLM\"] = work_20['work'].apply(lambda x: True if 'aqlm' in x else False)\n",
    "work_20[\"CSHL\"] = work_20['work'].apply(lambda x: True if 'cshl' in x else False)\n",
    "work_20[\"I2K\"] = work_20['work'].apply(lambda x: True if 'i2k' in x else False)\n",
    "work_20[\"EMBL\"] = work_20['work'].apply(lambda x: True if 'embl' in x else False)\n",
    "work_20\n",
    "\n",
    "work_20_sum = work_20.sum().to_frame()\n",
    "work_20_sum = work_20_sum.drop('work')\n",
    "work_20_sum = work_20_sum.rename(columns={0:'counts'})\n",
    "work_20_sum = work_20_sum.reset_index()\n",
    "work_20_sum = work_20_sum.rename(columns={'index':'conferences'})\n",
    "work_20_sum\n",
    "\n",
    "#altering 2022 dataframe \n",
    "workshops_for_chart = workshops_for_chart.rename(columns={0:'counts'})\n",
    "workshops_for_chart = workshops_for_chart.reset_index()\n",
    "workshops_for_chart = workshops_for_chart.rename(columns={'index':'conferences'})\n",
    "workshops_for_chart\n",
    "#comparison chart \n",
    "work_20_22 = go.Figure()\n",
    "\n",
    "work_20_22.add_trace(go.Bar(name='2020', x=work_20_sum['conferences'], y=work_20_sum['counts'], text=work_20_sum['counts']))\n",
    "work_20_22.add_trace(go.Bar(name='2022', x=workshops_for_chart['conferences'], y=workshops_for_chart['counts'], text=workshops_for_chart['counts']))\n",
    "\n",
    "work_20_22.update_layout(title_x=0.5, title='Workshops attended by the participants', width=500, height=500, font=dict(family='Helvetica', color=\"Black\", size=16))\n",
    "work_20_22.update_xaxes(categoryorder = 'total descending')\n",
    "\n",
    "#image analysis addition for the conferences - 2020\n",
    "\n",
    "ia_20 = pd.read_csv('C:\\\\Users\\\\ssivagur\\\\Documents\\\\2021_Image_analysis_survey_data\\\\Are_there_any_conferences_you_ve_attended_in_the_past_that_you_think_would_particularly_benefit_from_the_addition_expansion_of_image_analysis_offerings.txt')\n",
    "ia_20= ia_20.rename(columns={'0':'ia'})\n",
    "ia_20 = ia_20['ia'].str.lower().str.strip()\n",
    "ia_20 = pd.DataFrame(ia_20)\n",
    "ia_20\n",
    "# Creating a dataframe of unigrams \n",
    "from sklearn.feature_extraction.text import CountVectorizer\n",
    "c_vec = CountVectorizer(stop_words=stoplist, ngram_range=(1,1))\n",
    "# matrix of ngrams\n",
    "ngrams = c_vec.fit_transform(ia_20['ia'])\n",
    "# count frequency of ngrams\n",
    "count_values = ngrams.toarray().sum(axis=0)\n",
    "# list of ngrams\n",
    "vocab = c_vec.vocabulary_\n",
    "ia_unigram = pd.DataFrame(sorted([(count_values[i],k) for k,i in vocab.items()], reverse=True)\n",
    "            ).rename(columns={0: 'frequency', 1:'unigram'})\n",
    "# Creating a dataframe of bigrams \n",
    "from sklearn.feature_extraction.text import CountVectorizer\n",
    "c_vec = CountVectorizer(stop_words=stoplist, ngram_range=(2,2))\n",
    "# matrix of ngrams\n",
    "ngrams = c_vec.fit_transform(ia_20['ia'])\n",
    "# count frequency of ngrams\n",
    "count_values = ngrams.toarray().sum(axis=0)\n",
    "# list of ngrams\n",
    "vocab = c_vec.vocabulary_\n",
    "ia_bigram = pd.DataFrame(sorted([(count_values[i],k) for k,i in vocab.items()], reverse=True)\n",
    "            ).rename(columns={0: 'frequency', 1:'bigram'})\n",
    "# Creating a dataframe of trigrams \n",
    "from sklearn.feature_extraction.text import CountVectorizer\n",
    "c_vec = CountVectorizer(stop_words=stoplist, ngram_range=(3,3))\n",
    "# matrix of ngrams\n",
    "ngrams = c_vec.fit_transform(ia_20['ia'])\n",
    "# count frequency of ngrams\n",
    "count_values = ngrams.toarray().sum(axis=0)\n",
    "# list of ngrams\n",
    "vocab = c_vec.vocabulary_\n",
    "ia_trigram = pd.DataFrame(sorted([(count_values[i],k) for k,i in vocab.items()], reverse=True)\n",
    "            ).rename(columns={0: 'frequency', 1:'trigram'})\n",
    "data_df_20 = [['ASCB', 29], ['ELMI', 7], ['ABRF', 0], ['NEUBIAS', 8], ['MMC', 5], ['Biophysical society', 9], ['Developmental biology conference', 2]]\n",
    "conf_df_20 = pd.DataFrame(data_df_20, columns=['Conferences', 'Counts'])\n",
    "\n",
    "\n",
    "#chart for the conferences that need more image analysis sessions\n",
    "ia_20_22 = go.Figure()\n",
    "\n",
    "ia_20_22.add_trace(go.Bar(name='2020', x=conf_df_20['Conferences'], y=conf_df_20['Counts'], text=conf_df_20['Counts']))\n",
    "ia_20_22.add_trace(go.Bar(name='2022', x=conf_df['Conferences'], y=conf_df['Counts'], text=conf_df['Counts'] ))\n",
    "ia_20_22.update_layout(width=500, height=600, font=dict(family='Helvetica', color=\"Black\", size=16))\n",
    "ia_20_22.update_xaxes(categoryorder='total descending')"
   ]
  }
 ],
 "metadata": {
  "kernelspec": {
   "display_name": "base",
   "language": "python",
   "name": "python3"
  },
  "language_info": {
   "codemirror_mode": {
    "name": "ipython",
    "version": 3
   },
   "file_extension": ".py",
   "mimetype": "text/x-python",
   "name": "python",
   "nbconvert_exporter": "python",
   "pygments_lexer": "ipython3",
   "version": "3.9.13"
  },
  "orig_nbformat": 4
 },
 "nbformat": 4,
 "nbformat_minor": 2
}
