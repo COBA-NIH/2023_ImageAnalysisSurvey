{
 "cells": [
  {
   "attachments": {},
   "cell_type": "markdown",
   "metadata": {},
   "source": [
    "### **Comparison with 2020 data**\n",
    "\n",
    "The 2022 bioimage analysis survey data was compared with the data from 2020."
   ]
  },
  {
   "cell_type": "code",
   "execution_count": 2,
   "metadata": {},
   "outputs": [],
   "source": [
    "#importing the necessary modules\n",
    "import pandas as pd\n",
    "import plotly.express as px\n",
    "import plotly.graph_objects as go\n",
    "from plotly.subplots import make_subplots\n",
    "import matplotlib.pyplot as plt\n",
    "import numpy as np\n",
    "import plotly.io as pio\n",
    "import kaleido\n"
   ]
  },
  {
   "cell_type": "code",
   "execution_count": 5,
   "metadata": {},
   "outputs": [],
   "source": [
    "#reading the data file as dataframe\n",
    "data = pd.read_csv(\"C:\\\\Users\\\\ssivagur\\\\Documents\\\\GitHub\\\\2023_ImageAnalysisSurvey\\\\Bridging Imaging Users to Imaging Analysis - 2022 (Responses) - Form Responses 1_copy.csv\")"
   ]
  },
  {
   "cell_type": "code",
   "execution_count": 6,
   "metadata": {},
   "outputs": [],
   "source": [
    "#Creating a dictionary to rename\n",
    "dict_rename = {\n",
    "    'Which of the following roles best describes you?':'Role', \n",
    "    'Which of the following do you have significant formal training in or experience with? Select all that apply.':'Training', \n",
    "    'Where do you currently primarily work?':'Location', \n",
    "    'How would you describe your work?':'Work description', \n",
    "    'How would you rate your computational skills?':'Level of computational skills', \n",
    "    'How would you rate your comfort in developing new computational skills?':'Comfort in developing computational skills', \n",
    "    'How do you generally go about solving an image analysis problem? Check the approach(es) you use the most.':'Approach to solutions', \n",
    "    'How frequently do you use scripting to solve image analysis problems?':'Frequency of script usage', \n",
    "    'In regards to learning more about image analysis, how preferable do you find each of these instructional methods? [Scholarly \"best practices\" article]':'Preferable instructional methods articles',\n",
    "    'In regards to learning more about image analysis, how preferable do you find each of these instructional methods? [Written step-by-step tutorial]':'Preferable instructional methods written tutorials',\n",
    "    'In regards to learning more about image analysis, how preferable do you find each of these instructional methods? [Video tutorial]':'Preferable instructional methods Video tutorial',\n",
    "    'In regards to learning more about image analysis, how preferable do you find each of these instructional methods? [Interactive webinar]':'Preferable instructional methods Interactive webinar',\n",
    "    'In regards to learning more about image analysis, how preferable do you find each of these instructional methods? [One-on-one \"office hours\" with an expert]':'Preferable instructional methods Office hours',\n",
    "    'In regards to learning more about image analysis, how preferable do you find each of these instructional methods? [In person seminar/tutorial lasting <1 day]':'Preferable instructional methods Seminar 1day',\n",
    "    'In regards to learning more about image analysis, how preferable do you find each of these instructional methods? [Multiday workshop]':'Preferable instructional methods Multiday workshop',\n",
    "    'How interested are you in learning more about the following topics? [Image analysis theory]':'Interes in topics Image analysis theory',\n",
    "    'How interested are you in learning more about the following topics? [General image analysis practices]':'Interest in topics Image analysis practices',\n",
    "    'How interested are you in learning more about the following topics? [Image analysis practices related to my (sub) discipline]':'Interest in topics related to sub discipline',\n",
    "    'How interested are you in learning more about the following topics? [Learning to use a particular software tool]':'Interest in topics Specific software tool',\n",
    "    'How interested are you in learning more about the following topics? [Deep learning as applied to image analysis]':'Interest in topics Deep learning for image analysis',\n",
    "    'How interested are you in learning more about the following topics? [Analyzing large images/large numbers of images]':'Interest in topics Analyzing large images',\n",
    "    'How interested are you in learning more about the following topics? [Visualizing image analysis results]':'Interest in topics Visualization of results',\n",
    "    'The next question will ask you about particular image analysis tools and techniques. Do you want to answer questions about microscopy in the field/area of life sciences or physical sciences?':'Microscopy for life sciences physical sciences',\n",
    "    'What image analysis tools have you used before? (check all that apply)':'usage of image analysis tools',\n",
    "    'What image analysis tools do you use the most?':'Most used image analysis tools',\n",
    "    'What kinds of images do you commonly want to analyze (select all that apply?* [Brightfield/DIC/phase-contrast of cells or organisms from manually selected fields]':'Types of images analyzed Brightfield/DIC/phase-contrast manually acquired',\n",
    "    'What kinds of images do you commonly want to analyze (select all that apply?* [Brightfield/DIC/phase-contrast of cells or organisms from an automated microscope (such as a high content imager)]':'Types of images analyzed Brightfield/DIC/phase-contrast automated',\n",
    "    'What kinds of images do you commonly want to analyze (select all that apply?* [Fluorescent images of cells/organisms from manually selected fields]':'Types of images analyzed-Fluorescent images manually acquired',\n",
    "    'What kinds of images do you commonly want to analyze (select all that apply?* [Fluorescent images of cells/organisms from an automated microscope (such as a high content imager)]':'Types of images analyzed automated',\n",
    "    'What kinds of images do you commonly want to analyze (select all that apply?* [Histologically stained tissue sections]':'Types of images analyzed-Histological tissue sections',\n",
    "    'What kinds of images do you commonly want to analyze (select all that apply?* [Electron microscopy]':'Types of images analyzed-Electro microscopy',\n",
    "    'What kinds of images do you commonly want to analyze (select all that apply?* [Imaging mass spectrometry]':'Types of images analyzed-Imaging mass spectrometry',\n",
    "    'What kinds of images do you commonly want to analyze (select all that apply?* [Imaging flow cytometry]':'Types of images analyzed-Imaging flow cytometry',\n",
    "    'What kinds of images do you commonly want to analyze (select all that apply?* [Superresolution (PALM/STORM)]':'Types of images analyzed-Superresolution (PALM/STORM)',\n",
    "    'What kinds of images do you commonly want to analyze (select all that apply?* [Autofluorescence imaging (ie FLIM)]':'Types of images analyzed-Autofluorescence imaging (ie FLIM)',\n",
    "    'What kinds of images do you commonly want to analyze (select all that apply?* [Other]':'Types of images analyzed-Other',\n",
    "    'What image analysis problems (i.e. finding nuclei, tissue analysis, analysis of super-resolution data, etc) do you think are generally well-solved?':'Well solved image analysis problems',\n",
    "    'What image analysis problems (i.e. finding nuclei, tissue analysis, analysis of super-resolution data, etc) do you wish had easier/better solutions?':'Image analysis problems which needs better solutions',\n",
    "    'What image analysis tools have you used before? (check all that apply)':'Commonly used image analysis tools',\n",
    "    'What kinds of images do you commonly want to analyze (select all that apply)? [Optical microscopy/DIC/fractography]':'Types of images analyzed-Optical microscopy/DIC/fractography',\n",
    "    'What kinds of images do you commonly want to analyze (select all that apply)? [Scanning electron microscopy (secondary electron or back scattered imaging)]':'Types of images analyzed-Scanning electron microscopy',\n",
    "    'What kinds of images do you commonly want to analyze (select all that apply)? [Transmission electron microscopy (including electron diffraction and STEM imaging, e.g. HAADF-STEM)]':'Types of images analyzed-Transmission electron microscopy',\n",
    "    'What kinds of images do you commonly want to analyze (select all that apply)? [Spectroscopy/diffractive imaging in the SEM/TEM (eg. EDS, EBSD, EELS, CL)]':'Types of images analyzed-Spectroscopy/diffractive imaging in the SEM/TEM',\n",
    "    'What kinds of images do you commonly want to analyze (select all that apply)? [Imaging with mass spectrometry (eg SIMS/APT)]':'Types of images analyzed-Imaging with mass spectrometry',\n",
    "    'What kinds of images do you commonly want to analyze (select all that apply)? [X-ray microscopy (including tomography)]':'Types of images analyzed-X-ray microscopy',\n",
    "    'What kinds of images do you commonly want to analyze (select all that apply)? [FM imaging, force spectroscopy, single molecule force spectroscopy]':'Types of images analyzed-FM imaging force spectroscopy single molecule force spectroscopy',\n",
    "    'What kinds of images do you commonly want to analyze (select all that apply)? [Fluorescence microscopy]':'Types of images analyzed-Fluorescence microscopy',\n",
    "    'What kinds of images do you commonly want to analyze (select all that apply)? [Other]':'Types of images analyzed Other',\n",
    "    'What image analysis problems (i.e. segmenting particles, 3D reconstruction, spectroscopic analysis, extracting force/mechanical property measurements, etc) do you think are generally well-solved?':'Well solved image analysis problems-physical sciences',\n",
    "    'What image analysis problems (i.e. segmenting particles, 3D reconstruction, spectroscopic analysis, extracting force/mechanical property measurements, etc) do you wish had easier/better solutions?':'Image analysis problems which needs better solutions physical sciences',\n",
    "    'Where did you hear about this survey? Please select all that apply.':'hear about this survey',\n",
    "    'Please select any of the following you have attended in the past':'Previous experience',\n",
    "    'Are there any image analysis workshops, tutorials, or conferences you are aware of and attended or considered attending? If so, how many?':'Number of conferences/workshops attended',\n",
    "    'How would you most prefer to be notified about image analysis workshops, sessions, or conferences being planned?':'Notification of image analysis workshop',\n",
    "    'Are there any image analysis workshops, tutorials, or conferences that you have participated in and found particularly helpful?  If yes, what made them beneficial?':'Experience with previous workshops/conferences',\n",
    "    'Are there any conferences you\\'ve attended in the past that you think would particularly benefit from the addition/expansion of image analysis offerings?':'Recommended conferences/workshops',\n",
    "    'What specific topics (i.e. overviews of a particular tool, comparisons between pieces of software, or how to use a certain tool for a certain kind of experiment) would you like to see prioritized for future image analysis workshop and tutorial offerings?':'Topics of interest',\n",
    "    'What do you think analysis tool CREATORS (such as software developers) could/should do to make image analysis better and more successful? How best could we encourage them to do it?':'Creators role',\n",
    "    'What do you think analysis tool USERS (such as microscopists) could/should do to make image analysis better and more successful?  How best could we encourage them to do it?':'Users role',\n",
    "    'Any other thoughts?':'Other thoughts',\n",
    "    'Would you be interested in subscribing to a mailing list (announcing workshops, new tools, collaboration opportunities, etc) for EITHER the Center for Open Bioimage Analysis OR Bioimaging North America OR the Royal Microscopical society? If yes, you will be taken to a page to subscribe, if not this form will submit.':'Subscription'\n",
    "    }"
   ]
  },
  {
   "cell_type": "code",
   "execution_count": 7,
   "metadata": {},
   "outputs": [],
   "source": [
    "#renaming the columns of the dictionary\n",
    "data.rename(columns=dict_rename, inplace=True)"
   ]
  },
  {
   "cell_type": "code",
   "execution_count": 4,
   "metadata": {},
   "outputs": [
    {
     "data": {
      "text/plain": [
       "Postdoctoral fellow               108\n",
       "Undergraduate/Graduate student     99\n",
       "Principal investigator             70\n",
       "Facility staff                     65\n",
       "Research scientist                 62\n",
       "Image/data analyst                 30\n",
       "Facility director                  28\n",
       "Other                              21\n",
       "Clinician                           1\n",
       "Name: category_1, dtype: int64"
      ]
     },
     "execution_count": 4,
     "metadata": {},
     "output_type": "execute_result"
    }
   ],
   "source": [
    "# pie chart for the roles of the survey participants \n",
    "role_2021 = pd.read_csv('C:\\\\Users\\\\ssivagur\\\\Documents\\\\2021_Image_analysis_survey_data\\\\Which_of_the_following_roles_best_describes_you.txt')\n",
    "role_2021= role_2021.rename(columns={'0':'role'})\n",
    "role_2021['category'] = role_2021['role'].apply(lambda x: 'Other' if x not in ['Postdoctoral fellow','Undergraduate/Graduate student', 'Principal investigator', 'Facility staff', 'Research scientist', 'Image analyst', 'Facility director', 'Clinician'] else x)\n",
    "role_2021['category_1'] = role_2021['category'].apply(lambda x: 'Image/data analyst' if x=='Image analyst' else x)\n",
    "\n"
   ]
  },
  {
   "cell_type": "code",
   "execution_count": 8,
   "metadata": {},
   "outputs": [
    {
     "data": {
      "application/vnd.plotly.v1+json": {
       "config": {
        "plotlyServerURL": "https://plot.ly"
       },
       "data": [
        {
         "name": "2020",
         "orientation": "v",
         "text": [
          108,
          99,
          70,
          65,
          62,
          30,
          28,
          21,
          1
         ],
         "type": "bar",
         "x": [
          "Postdoctoral fellow",
          "Undergraduate/Graduate student",
          "Principal investigator",
          "Facility staff",
          "Research scientist",
          "Image/data analyst",
          "Facility director",
          "Other",
          "Clinician"
         ],
         "y": [
          108,
          99,
          70,
          65,
          62,
          30,
          28,
          21,
          1
         ]
        },
        {
         "name": "2022",
         "orientation": "v",
         "text": [
          105,
          82,
          72,
          70,
          66,
          53,
          39,
          6
         ],
         "type": "bar",
         "x": [
          "Undergraduate/Graduate student",
          "Facility staff",
          "Postdoctoral fellow",
          "Research scientist",
          "Principal investigator",
          "Facility director",
          "Image/data analyst",
          "Clinician"
         ],
         "y": [
          105,
          82,
          72,
          70,
          66,
          53,
          39,
          6
         ]
        }
       ],
       "layout": {
        "font": {
         "color": "Black",
         "family": "Helvetica",
         "size": 16
        },
        "height": 500,
        "legend": {
         "font": {
          "color": "Black",
          "size": 16
         },
         "title": {
          "font": {
           "family": "Helvetica"
          }
         }
        },
        "template": {
         "data": {
          "bar": [
           {
            "error_x": {
             "color": "#2a3f5f"
            },
            "error_y": {
             "color": "#2a3f5f"
            },
            "marker": {
             "line": {
              "color": "#E5ECF6",
              "width": 0.5
             },
             "pattern": {
              "fillmode": "overlay",
              "size": 10,
              "solidity": 0.2
             }
            },
            "type": "bar"
           }
          ],
          "barpolar": [
           {
            "marker": {
             "line": {
              "color": "#E5ECF6",
              "width": 0.5
             },
             "pattern": {
              "fillmode": "overlay",
              "size": 10,
              "solidity": 0.2
             }
            },
            "type": "barpolar"
           }
          ],
          "carpet": [
           {
            "aaxis": {
             "endlinecolor": "#2a3f5f",
             "gridcolor": "white",
             "linecolor": "white",
             "minorgridcolor": "white",
             "startlinecolor": "#2a3f5f"
            },
            "baxis": {
             "endlinecolor": "#2a3f5f",
             "gridcolor": "white",
             "linecolor": "white",
             "minorgridcolor": "white",
             "startlinecolor": "#2a3f5f"
            },
            "type": "carpet"
           }
          ],
          "choropleth": [
           {
            "colorbar": {
             "outlinewidth": 0,
             "ticks": ""
            },
            "type": "choropleth"
           }
          ],
          "contour": [
           {
            "colorbar": {
             "outlinewidth": 0,
             "ticks": ""
            },
            "colorscale": [
             [
              0,
              "#0d0887"
             ],
             [
              0.1111111111111111,
              "#46039f"
             ],
             [
              0.2222222222222222,
              "#7201a8"
             ],
             [
              0.3333333333333333,
              "#9c179e"
             ],
             [
              0.4444444444444444,
              "#bd3786"
             ],
             [
              0.5555555555555556,
              "#d8576b"
             ],
             [
              0.6666666666666666,
              "#ed7953"
             ],
             [
              0.7777777777777778,
              "#fb9f3a"
             ],
             [
              0.8888888888888888,
              "#fdca26"
             ],
             [
              1,
              "#f0f921"
             ]
            ],
            "type": "contour"
           }
          ],
          "contourcarpet": [
           {
            "colorbar": {
             "outlinewidth": 0,
             "ticks": ""
            },
            "type": "contourcarpet"
           }
          ],
          "heatmap": [
           {
            "colorbar": {
             "outlinewidth": 0,
             "ticks": ""
            },
            "colorscale": [
             [
              0,
              "#0d0887"
             ],
             [
              0.1111111111111111,
              "#46039f"
             ],
             [
              0.2222222222222222,
              "#7201a8"
             ],
             [
              0.3333333333333333,
              "#9c179e"
             ],
             [
              0.4444444444444444,
              "#bd3786"
             ],
             [
              0.5555555555555556,
              "#d8576b"
             ],
             [
              0.6666666666666666,
              "#ed7953"
             ],
             [
              0.7777777777777778,
              "#fb9f3a"
             ],
             [
              0.8888888888888888,
              "#fdca26"
             ],
             [
              1,
              "#f0f921"
             ]
            ],
            "type": "heatmap"
           }
          ],
          "heatmapgl": [
           {
            "colorbar": {
             "outlinewidth": 0,
             "ticks": ""
            },
            "colorscale": [
             [
              0,
              "#0d0887"
             ],
             [
              0.1111111111111111,
              "#46039f"
             ],
             [
              0.2222222222222222,
              "#7201a8"
             ],
             [
              0.3333333333333333,
              "#9c179e"
             ],
             [
              0.4444444444444444,
              "#bd3786"
             ],
             [
              0.5555555555555556,
              "#d8576b"
             ],
             [
              0.6666666666666666,
              "#ed7953"
             ],
             [
              0.7777777777777778,
              "#fb9f3a"
             ],
             [
              0.8888888888888888,
              "#fdca26"
             ],
             [
              1,
              "#f0f921"
             ]
            ],
            "type": "heatmapgl"
           }
          ],
          "histogram": [
           {
            "marker": {
             "pattern": {
              "fillmode": "overlay",
              "size": 10,
              "solidity": 0.2
             }
            },
            "type": "histogram"
           }
          ],
          "histogram2d": [
           {
            "colorbar": {
             "outlinewidth": 0,
             "ticks": ""
            },
            "colorscale": [
             [
              0,
              "#0d0887"
             ],
             [
              0.1111111111111111,
              "#46039f"
             ],
             [
              0.2222222222222222,
              "#7201a8"
             ],
             [
              0.3333333333333333,
              "#9c179e"
             ],
             [
              0.4444444444444444,
              "#bd3786"
             ],
             [
              0.5555555555555556,
              "#d8576b"
             ],
             [
              0.6666666666666666,
              "#ed7953"
             ],
             [
              0.7777777777777778,
              "#fb9f3a"
             ],
             [
              0.8888888888888888,
              "#fdca26"
             ],
             [
              1,
              "#f0f921"
             ]
            ],
            "type": "histogram2d"
           }
          ],
          "histogram2dcontour": [
           {
            "colorbar": {
             "outlinewidth": 0,
             "ticks": ""
            },
            "colorscale": [
             [
              0,
              "#0d0887"
             ],
             [
              0.1111111111111111,
              "#46039f"
             ],
             [
              0.2222222222222222,
              "#7201a8"
             ],
             [
              0.3333333333333333,
              "#9c179e"
             ],
             [
              0.4444444444444444,
              "#bd3786"
             ],
             [
              0.5555555555555556,
              "#d8576b"
             ],
             [
              0.6666666666666666,
              "#ed7953"
             ],
             [
              0.7777777777777778,
              "#fb9f3a"
             ],
             [
              0.8888888888888888,
              "#fdca26"
             ],
             [
              1,
              "#f0f921"
             ]
            ],
            "type": "histogram2dcontour"
           }
          ],
          "mesh3d": [
           {
            "colorbar": {
             "outlinewidth": 0,
             "ticks": ""
            },
            "type": "mesh3d"
           }
          ],
          "parcoords": [
           {
            "line": {
             "colorbar": {
              "outlinewidth": 0,
              "ticks": ""
             }
            },
            "type": "parcoords"
           }
          ],
          "pie": [
           {
            "automargin": true,
            "type": "pie"
           }
          ],
          "scatter": [
           {
            "fillpattern": {
             "fillmode": "overlay",
             "size": 10,
             "solidity": 0.2
            },
            "type": "scatter"
           }
          ],
          "scatter3d": [
           {
            "line": {
             "colorbar": {
              "outlinewidth": 0,
              "ticks": ""
             }
            },
            "marker": {
             "colorbar": {
              "outlinewidth": 0,
              "ticks": ""
             }
            },
            "type": "scatter3d"
           }
          ],
          "scattercarpet": [
           {
            "marker": {
             "colorbar": {
              "outlinewidth": 0,
              "ticks": ""
             }
            },
            "type": "scattercarpet"
           }
          ],
          "scattergeo": [
           {
            "marker": {
             "colorbar": {
              "outlinewidth": 0,
              "ticks": ""
             }
            },
            "type": "scattergeo"
           }
          ],
          "scattergl": [
           {
            "marker": {
             "colorbar": {
              "outlinewidth": 0,
              "ticks": ""
             }
            },
            "type": "scattergl"
           }
          ],
          "scattermapbox": [
           {
            "marker": {
             "colorbar": {
              "outlinewidth": 0,
              "ticks": ""
             }
            },
            "type": "scattermapbox"
           }
          ],
          "scatterpolar": [
           {
            "marker": {
             "colorbar": {
              "outlinewidth": 0,
              "ticks": ""
             }
            },
            "type": "scatterpolar"
           }
          ],
          "scatterpolargl": [
           {
            "marker": {
             "colorbar": {
              "outlinewidth": 0,
              "ticks": ""
             }
            },
            "type": "scatterpolargl"
           }
          ],
          "scatterternary": [
           {
            "marker": {
             "colorbar": {
              "outlinewidth": 0,
              "ticks": ""
             }
            },
            "type": "scatterternary"
           }
          ],
          "surface": [
           {
            "colorbar": {
             "outlinewidth": 0,
             "ticks": ""
            },
            "colorscale": [
             [
              0,
              "#0d0887"
             ],
             [
              0.1111111111111111,
              "#46039f"
             ],
             [
              0.2222222222222222,
              "#7201a8"
             ],
             [
              0.3333333333333333,
              "#9c179e"
             ],
             [
              0.4444444444444444,
              "#bd3786"
             ],
             [
              0.5555555555555556,
              "#d8576b"
             ],
             [
              0.6666666666666666,
              "#ed7953"
             ],
             [
              0.7777777777777778,
              "#fb9f3a"
             ],
             [
              0.8888888888888888,
              "#fdca26"
             ],
             [
              1,
              "#f0f921"
             ]
            ],
            "type": "surface"
           }
          ],
          "table": [
           {
            "cells": {
             "fill": {
              "color": "#EBF0F8"
             },
             "line": {
              "color": "white"
             }
            },
            "header": {
             "fill": {
              "color": "#C8D4E3"
             },
             "line": {
              "color": "white"
             }
            },
            "type": "table"
           }
          ]
         },
         "layout": {
          "annotationdefaults": {
           "arrowcolor": "#2a3f5f",
           "arrowhead": 0,
           "arrowwidth": 1
          },
          "autotypenumbers": "strict",
          "coloraxis": {
           "colorbar": {
            "outlinewidth": 0,
            "ticks": ""
           }
          },
          "colorscale": {
           "diverging": [
            [
             0,
             "#8e0152"
            ],
            [
             0.1,
             "#c51b7d"
            ],
            [
             0.2,
             "#de77ae"
            ],
            [
             0.3,
             "#f1b6da"
            ],
            [
             0.4,
             "#fde0ef"
            ],
            [
             0.5,
             "#f7f7f7"
            ],
            [
             0.6,
             "#e6f5d0"
            ],
            [
             0.7,
             "#b8e186"
            ],
            [
             0.8,
             "#7fbc41"
            ],
            [
             0.9,
             "#4d9221"
            ],
            [
             1,
             "#276419"
            ]
           ],
           "sequential": [
            [
             0,
             "#0d0887"
            ],
            [
             0.1111111111111111,
             "#46039f"
            ],
            [
             0.2222222222222222,
             "#7201a8"
            ],
            [
             0.3333333333333333,
             "#9c179e"
            ],
            [
             0.4444444444444444,
             "#bd3786"
            ],
            [
             0.5555555555555556,
             "#d8576b"
            ],
            [
             0.6666666666666666,
             "#ed7953"
            ],
            [
             0.7777777777777778,
             "#fb9f3a"
            ],
            [
             0.8888888888888888,
             "#fdca26"
            ],
            [
             1,
             "#f0f921"
            ]
           ],
           "sequentialminus": [
            [
             0,
             "#0d0887"
            ],
            [
             0.1111111111111111,
             "#46039f"
            ],
            [
             0.2222222222222222,
             "#7201a8"
            ],
            [
             0.3333333333333333,
             "#9c179e"
            ],
            [
             0.4444444444444444,
             "#bd3786"
            ],
            [
             0.5555555555555556,
             "#d8576b"
            ],
            [
             0.6666666666666666,
             "#ed7953"
            ],
            [
             0.7777777777777778,
             "#fb9f3a"
            ],
            [
             0.8888888888888888,
             "#fdca26"
            ],
            [
             1,
             "#f0f921"
            ]
           ]
          },
          "colorway": [
           "#636efa",
           "#EF553B",
           "#00cc96",
           "#ab63fa",
           "#FFA15A",
           "#19d3f3",
           "#FF6692",
           "#B6E880",
           "#FF97FF",
           "#FECB52"
          ],
          "font": {
           "color": "#2a3f5f"
          },
          "geo": {
           "bgcolor": "white",
           "lakecolor": "white",
           "landcolor": "#E5ECF6",
           "showlakes": true,
           "showland": true,
           "subunitcolor": "white"
          },
          "hoverlabel": {
           "align": "left"
          },
          "hovermode": "closest",
          "mapbox": {
           "style": "light"
          },
          "paper_bgcolor": "white",
          "plot_bgcolor": "#E5ECF6",
          "polar": {
           "angularaxis": {
            "gridcolor": "white",
            "linecolor": "white",
            "ticks": ""
           },
           "bgcolor": "#E5ECF6",
           "radialaxis": {
            "gridcolor": "white",
            "linecolor": "white",
            "ticks": ""
           }
          },
          "scene": {
           "xaxis": {
            "backgroundcolor": "#E5ECF6",
            "gridcolor": "white",
            "gridwidth": 2,
            "linecolor": "white",
            "showbackground": true,
            "ticks": "",
            "zerolinecolor": "white"
           },
           "yaxis": {
            "backgroundcolor": "#E5ECF6",
            "gridcolor": "white",
            "gridwidth": 2,
            "linecolor": "white",
            "showbackground": true,
            "ticks": "",
            "zerolinecolor": "white"
           },
           "zaxis": {
            "backgroundcolor": "#E5ECF6",
            "gridcolor": "white",
            "gridwidth": 2,
            "linecolor": "white",
            "showbackground": true,
            "ticks": "",
            "zerolinecolor": "white"
           }
          },
          "shapedefaults": {
           "line": {
            "color": "#2a3f5f"
           }
          },
          "ternary": {
           "aaxis": {
            "gridcolor": "white",
            "linecolor": "white",
            "ticks": ""
           },
           "baxis": {
            "gridcolor": "white",
            "linecolor": "white",
            "ticks": ""
           },
           "bgcolor": "#E5ECF6",
           "caxis": {
            "gridcolor": "white",
            "linecolor": "white",
            "ticks": ""
           }
          },
          "title": {
           "x": 0.05
          },
          "xaxis": {
           "automargin": true,
           "gridcolor": "white",
           "linecolor": "white",
           "ticks": "",
           "title": {
            "standoff": 15
           },
           "zerolinecolor": "white",
           "zerolinewidth": 2
          },
          "yaxis": {
           "automargin": true,
           "gridcolor": "white",
           "linecolor": "white",
           "ticks": "",
           "title": {
            "standoff": 15
           },
           "zerolinecolor": "white",
           "zerolinewidth": 2
          }
         }
        },
        "title": {
         "text": "Role",
         "x": 0.5,
         "y": 0.85
        },
        "width": 600,
        "yaxis": {
         "categoryorder": "total ascending"
        }
       }
      }
     },
     "metadata": {},
     "output_type": "display_data"
    }
   ],
   "source": [
    "#combined figure\n",
    "role_2021_2022 = go.Figure()\n",
    "\n",
    "role_2021_2022.add_traces(go.Bar(name='2020', x=role_2021[\"category_1\"].value_counts().index, y=role_2021[\"category_1\"].value_counts().values, orientation='v', text=role_2021[\"category_1\"].value_counts().values))\n",
    "role_2021_2022.add_traces(go.Bar(name='2022', x=data['Role'].value_counts().index, y=data['Role'].value_counts().values, orientation='v', text=data['Role'].value_counts().values))\n",
    "role_2021_2022.update_layout(width=600, height=500, title='Role', title_x=0.5, title_y=0.85, font=dict(family='Helvetica', color=\"Black\", size=16), legend=dict(title_font_family = 'Helvetica', font=dict(size=16, color=\"Black\")))\n",
    "role_2021_2022.update_yaxes(categoryorder = 'total ascending')\n"
   ]
  },
  {
   "cell_type": "code",
   "execution_count": 9,
   "metadata": {},
   "outputs": [
    {
     "data": {
      "application/vnd.plotly.v1+json": {
       "config": {
        "plotlyServerURL": "https://plot.ly"
       },
       "data": [
        {
         "name": "2020",
         "text": [
          289,
          162,
          14,
          11,
          6,
          2
         ],
         "type": "bar",
         "x": [
          "North America",
          "Europe",
          "Asia",
          "Australia",
          "South America",
          "Africa"
         ],
         "y": [
          289,
          162,
          14,
          11,
          6,
          2
         ]
        },
        {
         "name": "2022",
         "text": [
          230,
          213,
          28,
          13,
          8,
          1
         ],
         "type": "bar",
         "x": [
          "Europe",
          "North America",
          "Asia",
          "South America",
          "Australia",
          "Africa"
         ],
         "y": [
          230,
          213,
          28,
          13,
          8,
          1
         ]
        }
       ],
       "layout": {
        "font": {
         "color": "Black",
         "family": "Helvetica",
         "size": 16
        },
        "height": 500,
        "legend": {
         "font": {
          "color": "Black",
          "size": 16
         },
         "title": {
          "font": {
           "family": "Helvetica"
          }
         }
        },
        "template": {
         "data": {
          "bar": [
           {
            "error_x": {
             "color": "#2a3f5f"
            },
            "error_y": {
             "color": "#2a3f5f"
            },
            "marker": {
             "line": {
              "color": "#E5ECF6",
              "width": 0.5
             },
             "pattern": {
              "fillmode": "overlay",
              "size": 10,
              "solidity": 0.2
             }
            },
            "type": "bar"
           }
          ],
          "barpolar": [
           {
            "marker": {
             "line": {
              "color": "#E5ECF6",
              "width": 0.5
             },
             "pattern": {
              "fillmode": "overlay",
              "size": 10,
              "solidity": 0.2
             }
            },
            "type": "barpolar"
           }
          ],
          "carpet": [
           {
            "aaxis": {
             "endlinecolor": "#2a3f5f",
             "gridcolor": "white",
             "linecolor": "white",
             "minorgridcolor": "white",
             "startlinecolor": "#2a3f5f"
            },
            "baxis": {
             "endlinecolor": "#2a3f5f",
             "gridcolor": "white",
             "linecolor": "white",
             "minorgridcolor": "white",
             "startlinecolor": "#2a3f5f"
            },
            "type": "carpet"
           }
          ],
          "choropleth": [
           {
            "colorbar": {
             "outlinewidth": 0,
             "ticks": ""
            },
            "type": "choropleth"
           }
          ],
          "contour": [
           {
            "colorbar": {
             "outlinewidth": 0,
             "ticks": ""
            },
            "colorscale": [
             [
              0,
              "#0d0887"
             ],
             [
              0.1111111111111111,
              "#46039f"
             ],
             [
              0.2222222222222222,
              "#7201a8"
             ],
             [
              0.3333333333333333,
              "#9c179e"
             ],
             [
              0.4444444444444444,
              "#bd3786"
             ],
             [
              0.5555555555555556,
              "#d8576b"
             ],
             [
              0.6666666666666666,
              "#ed7953"
             ],
             [
              0.7777777777777778,
              "#fb9f3a"
             ],
             [
              0.8888888888888888,
              "#fdca26"
             ],
             [
              1,
              "#f0f921"
             ]
            ],
            "type": "contour"
           }
          ],
          "contourcarpet": [
           {
            "colorbar": {
             "outlinewidth": 0,
             "ticks": ""
            },
            "type": "contourcarpet"
           }
          ],
          "heatmap": [
           {
            "colorbar": {
             "outlinewidth": 0,
             "ticks": ""
            },
            "colorscale": [
             [
              0,
              "#0d0887"
             ],
             [
              0.1111111111111111,
              "#46039f"
             ],
             [
              0.2222222222222222,
              "#7201a8"
             ],
             [
              0.3333333333333333,
              "#9c179e"
             ],
             [
              0.4444444444444444,
              "#bd3786"
             ],
             [
              0.5555555555555556,
              "#d8576b"
             ],
             [
              0.6666666666666666,
              "#ed7953"
             ],
             [
              0.7777777777777778,
              "#fb9f3a"
             ],
             [
              0.8888888888888888,
              "#fdca26"
             ],
             [
              1,
              "#f0f921"
             ]
            ],
            "type": "heatmap"
           }
          ],
          "heatmapgl": [
           {
            "colorbar": {
             "outlinewidth": 0,
             "ticks": ""
            },
            "colorscale": [
             [
              0,
              "#0d0887"
             ],
             [
              0.1111111111111111,
              "#46039f"
             ],
             [
              0.2222222222222222,
              "#7201a8"
             ],
             [
              0.3333333333333333,
              "#9c179e"
             ],
             [
              0.4444444444444444,
              "#bd3786"
             ],
             [
              0.5555555555555556,
              "#d8576b"
             ],
             [
              0.6666666666666666,
              "#ed7953"
             ],
             [
              0.7777777777777778,
              "#fb9f3a"
             ],
             [
              0.8888888888888888,
              "#fdca26"
             ],
             [
              1,
              "#f0f921"
             ]
            ],
            "type": "heatmapgl"
           }
          ],
          "histogram": [
           {
            "marker": {
             "pattern": {
              "fillmode": "overlay",
              "size": 10,
              "solidity": 0.2
             }
            },
            "type": "histogram"
           }
          ],
          "histogram2d": [
           {
            "colorbar": {
             "outlinewidth": 0,
             "ticks": ""
            },
            "colorscale": [
             [
              0,
              "#0d0887"
             ],
             [
              0.1111111111111111,
              "#46039f"
             ],
             [
              0.2222222222222222,
              "#7201a8"
             ],
             [
              0.3333333333333333,
              "#9c179e"
             ],
             [
              0.4444444444444444,
              "#bd3786"
             ],
             [
              0.5555555555555556,
              "#d8576b"
             ],
             [
              0.6666666666666666,
              "#ed7953"
             ],
             [
              0.7777777777777778,
              "#fb9f3a"
             ],
             [
              0.8888888888888888,
              "#fdca26"
             ],
             [
              1,
              "#f0f921"
             ]
            ],
            "type": "histogram2d"
           }
          ],
          "histogram2dcontour": [
           {
            "colorbar": {
             "outlinewidth": 0,
             "ticks": ""
            },
            "colorscale": [
             [
              0,
              "#0d0887"
             ],
             [
              0.1111111111111111,
              "#46039f"
             ],
             [
              0.2222222222222222,
              "#7201a8"
             ],
             [
              0.3333333333333333,
              "#9c179e"
             ],
             [
              0.4444444444444444,
              "#bd3786"
             ],
             [
              0.5555555555555556,
              "#d8576b"
             ],
             [
              0.6666666666666666,
              "#ed7953"
             ],
             [
              0.7777777777777778,
              "#fb9f3a"
             ],
             [
              0.8888888888888888,
              "#fdca26"
             ],
             [
              1,
              "#f0f921"
             ]
            ],
            "type": "histogram2dcontour"
           }
          ],
          "mesh3d": [
           {
            "colorbar": {
             "outlinewidth": 0,
             "ticks": ""
            },
            "type": "mesh3d"
           }
          ],
          "parcoords": [
           {
            "line": {
             "colorbar": {
              "outlinewidth": 0,
              "ticks": ""
             }
            },
            "type": "parcoords"
           }
          ],
          "pie": [
           {
            "automargin": true,
            "type": "pie"
           }
          ],
          "scatter": [
           {
            "fillpattern": {
             "fillmode": "overlay",
             "size": 10,
             "solidity": 0.2
            },
            "type": "scatter"
           }
          ],
          "scatter3d": [
           {
            "line": {
             "colorbar": {
              "outlinewidth": 0,
              "ticks": ""
             }
            },
            "marker": {
             "colorbar": {
              "outlinewidth": 0,
              "ticks": ""
             }
            },
            "type": "scatter3d"
           }
          ],
          "scattercarpet": [
           {
            "marker": {
             "colorbar": {
              "outlinewidth": 0,
              "ticks": ""
             }
            },
            "type": "scattercarpet"
           }
          ],
          "scattergeo": [
           {
            "marker": {
             "colorbar": {
              "outlinewidth": 0,
              "ticks": ""
             }
            },
            "type": "scattergeo"
           }
          ],
          "scattergl": [
           {
            "marker": {
             "colorbar": {
              "outlinewidth": 0,
              "ticks": ""
             }
            },
            "type": "scattergl"
           }
          ],
          "scattermapbox": [
           {
            "marker": {
             "colorbar": {
              "outlinewidth": 0,
              "ticks": ""
             }
            },
            "type": "scattermapbox"
           }
          ],
          "scatterpolar": [
           {
            "marker": {
             "colorbar": {
              "outlinewidth": 0,
              "ticks": ""
             }
            },
            "type": "scatterpolar"
           }
          ],
          "scatterpolargl": [
           {
            "marker": {
             "colorbar": {
              "outlinewidth": 0,
              "ticks": ""
             }
            },
            "type": "scatterpolargl"
           }
          ],
          "scatterternary": [
           {
            "marker": {
             "colorbar": {
              "outlinewidth": 0,
              "ticks": ""
             }
            },
            "type": "scatterternary"
           }
          ],
          "surface": [
           {
            "colorbar": {
             "outlinewidth": 0,
             "ticks": ""
            },
            "colorscale": [
             [
              0,
              "#0d0887"
             ],
             [
              0.1111111111111111,
              "#46039f"
             ],
             [
              0.2222222222222222,
              "#7201a8"
             ],
             [
              0.3333333333333333,
              "#9c179e"
             ],
             [
              0.4444444444444444,
              "#bd3786"
             ],
             [
              0.5555555555555556,
              "#d8576b"
             ],
             [
              0.6666666666666666,
              "#ed7953"
             ],
             [
              0.7777777777777778,
              "#fb9f3a"
             ],
             [
              0.8888888888888888,
              "#fdca26"
             ],
             [
              1,
              "#f0f921"
             ]
            ],
            "type": "surface"
           }
          ],
          "table": [
           {
            "cells": {
             "fill": {
              "color": "#EBF0F8"
             },
             "line": {
              "color": "white"
             }
            },
            "header": {
             "fill": {
              "color": "#C8D4E3"
             },
             "line": {
              "color": "white"
             }
            },
            "type": "table"
           }
          ]
         },
         "layout": {
          "annotationdefaults": {
           "arrowcolor": "#2a3f5f",
           "arrowhead": 0,
           "arrowwidth": 1
          },
          "autotypenumbers": "strict",
          "coloraxis": {
           "colorbar": {
            "outlinewidth": 0,
            "ticks": ""
           }
          },
          "colorscale": {
           "diverging": [
            [
             0,
             "#8e0152"
            ],
            [
             0.1,
             "#c51b7d"
            ],
            [
             0.2,
             "#de77ae"
            ],
            [
             0.3,
             "#f1b6da"
            ],
            [
             0.4,
             "#fde0ef"
            ],
            [
             0.5,
             "#f7f7f7"
            ],
            [
             0.6,
             "#e6f5d0"
            ],
            [
             0.7,
             "#b8e186"
            ],
            [
             0.8,
             "#7fbc41"
            ],
            [
             0.9,
             "#4d9221"
            ],
            [
             1,
             "#276419"
            ]
           ],
           "sequential": [
            [
             0,
             "#0d0887"
            ],
            [
             0.1111111111111111,
             "#46039f"
            ],
            [
             0.2222222222222222,
             "#7201a8"
            ],
            [
             0.3333333333333333,
             "#9c179e"
            ],
            [
             0.4444444444444444,
             "#bd3786"
            ],
            [
             0.5555555555555556,
             "#d8576b"
            ],
            [
             0.6666666666666666,
             "#ed7953"
            ],
            [
             0.7777777777777778,
             "#fb9f3a"
            ],
            [
             0.8888888888888888,
             "#fdca26"
            ],
            [
             1,
             "#f0f921"
            ]
           ],
           "sequentialminus": [
            [
             0,
             "#0d0887"
            ],
            [
             0.1111111111111111,
             "#46039f"
            ],
            [
             0.2222222222222222,
             "#7201a8"
            ],
            [
             0.3333333333333333,
             "#9c179e"
            ],
            [
             0.4444444444444444,
             "#bd3786"
            ],
            [
             0.5555555555555556,
             "#d8576b"
            ],
            [
             0.6666666666666666,
             "#ed7953"
            ],
            [
             0.7777777777777778,
             "#fb9f3a"
            ],
            [
             0.8888888888888888,
             "#fdca26"
            ],
            [
             1,
             "#f0f921"
            ]
           ]
          },
          "colorway": [
           "#636efa",
           "#EF553B",
           "#00cc96",
           "#ab63fa",
           "#FFA15A",
           "#19d3f3",
           "#FF6692",
           "#B6E880",
           "#FF97FF",
           "#FECB52"
          ],
          "font": {
           "color": "#2a3f5f"
          },
          "geo": {
           "bgcolor": "white",
           "lakecolor": "white",
           "landcolor": "#E5ECF6",
           "showlakes": true,
           "showland": true,
           "subunitcolor": "white"
          },
          "hoverlabel": {
           "align": "left"
          },
          "hovermode": "closest",
          "mapbox": {
           "style": "light"
          },
          "paper_bgcolor": "white",
          "plot_bgcolor": "#E5ECF6",
          "polar": {
           "angularaxis": {
            "gridcolor": "white",
            "linecolor": "white",
            "ticks": ""
           },
           "bgcolor": "#E5ECF6",
           "radialaxis": {
            "gridcolor": "white",
            "linecolor": "white",
            "ticks": ""
           }
          },
          "scene": {
           "xaxis": {
            "backgroundcolor": "#E5ECF6",
            "gridcolor": "white",
            "gridwidth": 2,
            "linecolor": "white",
            "showbackground": true,
            "ticks": "",
            "zerolinecolor": "white"
           },
           "yaxis": {
            "backgroundcolor": "#E5ECF6",
            "gridcolor": "white",
            "gridwidth": 2,
            "linecolor": "white",
            "showbackground": true,
            "ticks": "",
            "zerolinecolor": "white"
           },
           "zaxis": {
            "backgroundcolor": "#E5ECF6",
            "gridcolor": "white",
            "gridwidth": 2,
            "linecolor": "white",
            "showbackground": true,
            "ticks": "",
            "zerolinecolor": "white"
           }
          },
          "shapedefaults": {
           "line": {
            "color": "#2a3f5f"
           }
          },
          "ternary": {
           "aaxis": {
            "gridcolor": "white",
            "linecolor": "white",
            "ticks": ""
           },
           "baxis": {
            "gridcolor": "white",
            "linecolor": "white",
            "ticks": ""
           },
           "bgcolor": "#E5ECF6",
           "caxis": {
            "gridcolor": "white",
            "linecolor": "white",
            "ticks": ""
           }
          },
          "title": {
           "x": 0.05
          },
          "xaxis": {
           "automargin": true,
           "gridcolor": "white",
           "linecolor": "white",
           "ticks": "",
           "title": {
            "standoff": 15
           },
           "zerolinecolor": "white",
           "zerolinewidth": 2
          },
          "yaxis": {
           "automargin": true,
           "gridcolor": "white",
           "linecolor": "white",
           "ticks": "",
           "title": {
            "standoff": 15
           },
           "zerolinecolor": "white",
           "zerolinewidth": 2
          }
         }
        },
        "title": {
         "text": "Location",
         "x": 0.5,
         "y": 0.85
        },
        "width": 500
       }
      }
     },
     "metadata": {},
     "output_type": "display_data"
    }
   ],
   "source": [
    "#location \n",
    "location_2021 = pd.read_csv('C:\\\\Users\\\\ssivagur\\\\Documents\\\\2021_Image_analysis_survey_data\\\\Where_do_you_currently_primarily_work.txt')\n",
    "location_2021= location_2021.rename(columns={'0':'location'})\n",
    "\n",
    "#combined figure\n",
    "loc = go.Figure()\n",
    "\n",
    "loc.add_traces(go.Bar(name='2020', x=location_2021['location'].value_counts().index, y=location_2021['location'].value_counts().values, text=location_2021['location'].value_counts().values))\n",
    "loc.add_traces(go.Bar(name='2022', x=data['Location'].value_counts().index, y=data['Location'].value_counts().values, text=data['Location'].value_counts().values))\n",
    "loc.update_layout(width=500, height=500, title='Location', title_x=0.5, title_y=0.85, font=dict(family='Helvetica', color=\"Black\", size=16), legend=dict(title_font_family = 'Helvetica', font=dict(size=16, color=\"Black\")))\n"
   ]
  },
  {
   "cell_type": "code",
   "execution_count": null,
   "metadata": {},
   "outputs": [],
   "source": [
    "# work type_2021\n",
    "work_type_2021 = pd.read_csv('C:\\\\Users\\\\ssivagur\\\\Documents\\\\2021_Image_analysis_survey_data\\\\How_would_you_describe_your_work.txt')\n",
    "work_type_2021= work_type_2021.rename(columns={'0':'work_type'})\n",
    "work_type_2021.loc[work_type_2021[\"work_type\"] < 3, \"Work type\" ] = \"Imaging\"\n",
    "work_type_2021.loc[(work_type_2021[\"work_type\"] >= 3) & (work_type_2021[\"work_type\"] < 5), \"Work type\"] = \"Balanced\"\n",
    "work_type_2021.loc[work_type_2021[\"work_type\"] >= 5, \"Work type\"] = \"Analyst\"\n",
    "work_type_counts_2021 = work_type_2021[\"Work type\"].value_counts()\n",
    "work_type_counts_2021 \n",
    "#knowledge in computational skills_2021 \n",
    "comp_skill_2021 = pd.read_csv('C:\\\\Users\\\\ssivagur\\\\Documents\\\\2021_Image_analysis_survey_data\\\\How_would_you_rate_your_computational_skills.txt')\n",
    "comp_skill_2021= comp_skill_2021.rename(columns={'0':'comp_skill'})\n",
    "\n",
    "comp_skill_2021.loc[comp_skill_2021[\"comp_skill\"] < 3, \"Knowledge of computational skills\"] = \"Low skill\"\n",
    "comp_skill_2021.loc[(comp_skill_2021[\"comp_skill\"] >= 3) & (comp_skill_2021[\"comp_skill\"] < 5), \"Knowledge of computational skills\"] = \"Medium skill\"\n",
    "comp_skill_2021.loc[comp_skill_2021[\"comp_skill\"] >= 5, \"Knowledge of computational skills\"] = \"High skill\"\n",
    "computational_knowledge_2021 = comp_skill_2021[\"Knowledge of computational skills\"].value_counts()\n",
    "computational_knowledge_2021\n",
    "# comparing 2021 and 2022 work type\n",
    "work_21_22 = go.Figure()\n",
    "\n",
    "work_21_22.add_trace(go.Bar(name=2020, x=work_type_counts_2021.index, y=work_type_counts_2021.values, text=work_type_counts_2021.values))\n",
    "work_21_22.add_trace(go.Bar(name=2022, x=work_type_counts.index , y=work_type_counts.values, text=work_type_counts.values))\n",
    "\n",
    "work_21_22.update_layout(title = 'Work type', title_x=0.5, width=400, height=400, font=dict(family='Helvetica', color=\"Black\", size=16), legend=dict(title_font_family = 'Helvetica', font=dict(size=16, color=\"Black\")))\n",
    "# comparing 2021 and 2022 work type and comp skill in percentage\n",
    "from plotly.subplots import make_subplots\n",
    "\n",
    "work_21_22_percent= go.Figure()\n",
    "work_21_22_percent = make_subplots(rows=1, cols=2, specs=[[{'type':'domain'}, {'type':'domain'}]])\n",
    "\n",
    "work_21_22_percent.add_trace(go.Pie(labels=work_type_counts_2021.index, values=work_type_counts_2021.values), 1,1)\n",
    "work_21_22_percent.add_trace(go.Pie(labels = work_type_counts.index , values=work_type_counts.values),1,2)\n",
    "work_21_22_percent.update_traces(hole=.4, hoverinfo=\"label+percent+name\")\n",
    "work_21_22_percent.update_layout(title_x=0.5, title_y=0.80, title_text=\"Work type\", annotations=[dict(text='2020', x=0.18, y=0.5, font_size=16, showarrow=False),dict(text='2022', x=0.82, y=0.5, font_size=16, showarrow=False)])\n",
    "work_21_22_percent.update_layout(font=dict(family='Helvetica', color=\"Black\", size=16), legend=dict(title_font_family = 'Helvetica', font=dict(size=16, color=\"Black\")))\n",
    "work_21_22_percent.update_layout(width=600, height=350)\n"
   ]
  },
  {
   "cell_type": "code",
   "execution_count": null,
   "metadata": {},
   "outputs": [],
   "source": [
    "# comparing 2021 and 2022 comp skill\n",
    "comp_skill_21_22 = go.Figure()\n",
    "\n",
    "comp_skill_21_22.add_trace(go.Bar(name=2020, x= computational_knowledge_2021.index, y=computational_knowledge_2021.values, text=computational_knowledge_2021.values))\n",
    "comp_skill_21_22.add_trace(go.Bar(name=2022, x=computational_knowledge.index , y=computational_knowledge.values, text=computational_knowledge.values))\n",
    "\n",
    "comp_skill_21_22.update_layout(title = 'Computational knowledge', title_x=0.5, width=400, height=400, font=dict(family='Helvetica', color=\"Black\", size=16), legend=dict(title_font_family = 'Helvetica', font=dict(size=16, color=\"Black\")))\n",
    "# comfort in developing new computational skills \n",
    "comf_2021 = pd.read_csv('C:\\\\Users\\\\ssivagur\\\\Documents\\\\2021_Image_analysis_survey_data\\\\How_would_you_rate_your_comfort_in_developing_new_computational_skills.txt')\n",
    "comf_2021= comf_2021.rename(columns={'0':'comfort'})\n",
    "\n",
    "# Comfort in developing new computational skills\n",
    "comf_2021.loc[comf_2021[\"comfort\"] < 3, 'Comfort'] = 'Low comfort'\n",
    "comf_2021.loc[(comf_2021['comfort'] >= 3) & (comf_2021['comfort'] < 5), 'Comfort'] = \"Medium comfort\"\n",
    "comf_2021.loc[comf_2021['comfort'] >= 5 , 'Comfort'] = \"High comfort\"\n",
    "\n",
    "\n",
    "#Comparing comfort in developing new computational skills\n",
    "comf_21_22 = go.Figure()\n",
    "\n",
    "comf_21_22.add_trace(go.Bar(name=2020, x= comf_2021['Comfort'].value_counts().index, y=comf_2021['Comfort'].value_counts().values, text=comf_2021['Comfort'].value_counts().values))\n",
    "comf_21_22.add_trace(go.Bar(name=2022, x=data['Comfort'].value_counts().index, y=data['Comfort'].value_counts().values, text=data['Comfort'].value_counts().values))\n",
    "\n",
    "comf_21_22.update_layout(title = 'Comfort in developing <br> new computational skills', title_x=0.5, width=400, height=400, font=dict(family='Helvetica', color=\"Black\", size=14), legend=dict(title_font_family = 'Helvetica', font=dict(size=16, color=\"Black\")))\n"
   ]
  },
  {
   "cell_type": "code",
   "execution_count": null,
   "metadata": {},
   "outputs": [],
   "source": [
    "#solving image analysis problems- 2020\n",
    "\n",
    "sol_2021 = pd.read_csv('C:\\\\Users\\\\ssivagur\\\\Documents\\\\2021_Image_analysis_survey_data\\\\How_do_you_generally_go_about_solving_an_image_analysis_problem_Check_the_approaches_you_use_the_most.txt')\n",
    "sol_2021 = sol_2021.rename(columns={'0':'solution'})\n",
    "\n",
    "sol_2021['Play with a tool'] = sol_2021['solution'].apply(lambda x: True if 'Sit down with a tool I know and start playing with the data' in x else False)\n",
    "sol_2021[\"Ask a friend or colleague\"] = sol_2021[\"solution\"].apply(lambda x: True if 'Ask a friend or colleague to help me'in x else False)\n",
    "sol_2021[\"Ask on image sc forum\"] = sol_2021[\"solution\"].apply(lambda x: True if 'Ask on forum.image.sc'in x else False)\n",
    "sol_2021['Google'] = sol_2021[\"solution\"].apply(lambda x: True if 'Google' in x else False)\n",
    "sol_2021[\"Particluar websites\"] = sol_2021[\"solution\"].apply(lambda x:True if \"particular website\" in x else False)\n",
    "sol_2021[\"Scientific literature\"] = sol_2021[\"solution\"].apply(lambda x: True if 'scientific literature' in x else False)\n",
    "sol_2021[\"Other\"] = sol_2021['solution'].apply(lambda x: True if x not in ['Sit down with a tool I know and start playing with the data',\n",
    "                                                                            'Ask a friend or colleague to help me', 'Ask on forum.image.sc', \n",
    "                                                                            'Look up solutions generally on the internet (Google)', \n",
    "                                                                            'Look up solutions on a particular website (please list below)', \n",
    "                                                                            'Look up solutions in the scientific literature'] else False )\n",
    "\n",
    "#creating a subset of the above dataframe \n",
    "sol_2021_subset = sol_2021.iloc[:,1:8]\n",
    "sol_2021_df = sol_2021_subset.sum()\n",
    "sol_2021_df = pd.DataFrame(sol_2021_df)\n",
    "sol_2021_df = sol_2021_df.reset_index()\n",
    "sol_2021_df = sol_2021_df.rename(columns={'index':'Tool', 0 :'counts'})\n",
    "sol_2021_df\n",
    "split the strings in the \"Other\" since many options would have been chosen. \n",
    "comma split the answers to check for the list. \n",
    "#Comparing - approaches to image analysis problems \n",
    "sol_21_22 = go.Figure()\n",
    "\n",
    "sol_21_22.add_trace(go.Bar(name=2020, x= sol_2021_df[\"Tool\"], y=sol_2021_df['counts'], text=sol_2021_df['counts']))\n",
    "sol_21_22.add_trace(go.Bar(name=2022, x=ways_people_analyze_data_subset, y =ways_people_analyze_data_values, text=ways_people_analyze_data_values))\n",
    "\n",
    "sol_21_22.update_layout(title = 'Approaches to image analysis problems', title_x=0.5, width=500, height=400, font=dict(family='Helvetica', color=\"Black\", size=16), legend=dict(title_font_family = 'Helvetica', font=dict(size=16, color=\"Black\")))\n",
    "\n"
   ]
  },
  {
   "cell_type": "code",
   "execution_count": null,
   "metadata": {},
   "outputs": [],
   "source": [
    "#Notifications of the future workshops\n",
    "notifications_2021 = pd.read_csv('C:\\\\Users\\\\ssivagur\\\\Documents\\\\2021_Image_analysis_survey_data\\\\How_would_you_prefer_to_be_notified_about_image_analysis_workshops_sessions_or_conferences_being_planned.txt')\n",
    "notifications_2021 = notifications_2021.rename(columns={'0':'Notifications'})\n",
    "notifications_2021['notify'] = notifications_2021['Notifications'].apply(lambda x: 'Other' if x not in ['Email list', 'Postings on image.sc forum or microforum', 'Twitter', 'My local microscopy facility', 'Word of mouth'] else x)\n",
    "\n",
    "#Comparison - 2020 ad 2022\n",
    "not_21_22 = go.Figure()\n",
    "\n",
    "not_21_22.add_trace(go.Bar(name='2020', y=notifications_2021['notify'].value_counts().index, x=notifications_2021['notify'].value_counts().values, orientation='h', text=notifications_2021['notify'].value_counts().values))\n",
    "not_21_22.add_trace(go.Bar(name='2022', y=counts_notifications['notify'].value_counts().index, x=counts_notifications['notify'].value_counts().values, orientation='h', text=counts_notifications['notify'].value_counts().values))\n",
    "not_21_22.update_layout(title='Notifications for the future image analysis workshops', title_x=0.5, title_y=0.9, width=600, height=500)\n",
    "not_21_22.update_yaxes(categoryorder='total ascending')\n",
    "not_21_22.update_layout(font=dict(family='Helvetica', color=\"Black\", size=16), legend=dict(title_font_family = 'Helvetica', font=dict(size=16, color=\"Black\")))\n"
   ]
  },
  {
   "cell_type": "code",
   "execution_count": null,
   "metadata": {},
   "outputs": [],
   "source": [
    "#most used image analysis tools\n",
    "most_used_2021 = pd.read_csv('C:\\\\Users\\\\ssivagur\\\\Documents\\\\2021_Image_analysis_survey_data\\\\What_image_analysis_tools_do_you_use_the_most.txt')\n",
    "most_used_2021 = most_used_2021.rename(columns={'0':'most_used_tools'})\n",
    "\n",
    "#using the following instead of teh value counts since the legends couldn't be shortened \n",
    "most_used_2021['Commercial software that comes with my microscope'] = most_used_2021['most_used_tools'].apply(lambda x:True if x == 'Commercial software that comes with my microscope (ie Columbus, Elements, Softworx, etc)' else False)\n",
    "most_used_2021['Other commercial software'] = most_used_2021['most_used_tools'].apply(lambda x: True if x == 'Other commercial software (Imaris, Volocity, etc)' else False)\n",
    "most_used_2021['Open source point-and-click software'] = most_used_2021['most_used_tools'].apply(lambda x: True if x == 'Open source point-and-click software (ImageJ, FIJI, Icy, CellProfiler, etc)'else False)\n",
    "most_used_2021['Computational libraries and scripts'] = most_used_2021['most_used_tools'].apply(lambda x:True if x == 'Computational libraries and scripts (scikit-image, MATLAB, etc)' else False)\n",
    "most_used_2021['None'] = most_used_2021['most_used_tools'].apply(lambda x:True if x == 'None' else False)\n",
    "most_used_2021_subset = most_used_2021.iloc[:, 1:6]\n",
    "most_used_2021_subset\n",
    "\n",
    "#creating a subset\n",
    "most_used_2021_df = pd.DataFrame(most_used_2021_subset.sum())\n",
    "most_used_2021_df = most_used_2021_df.reset_index()\n",
    "most_used_2021_df = most_used_2021_df.rename(columns={'index':'tools', 0 :'counts'})\n",
    "most_used_2021_df\n",
    "\n",
    "#comparing with 2022\n",
    "most_used_21_22 = go.Figure()\n",
    "\n",
    "most_used_21_22.add_trace(go.Bar(name='2020', x= most_used_2021_df['counts'], y=most_used_2021_df['tools'], orientation='h', text=most_used_2021_df['counts']))\n",
    "most_used_21_22.add_trace(go.Bar(name='2022', x=counts_tools_df['counts'], y=counts_tools_df['tools'], orientation='h', text=counts_tools_df['counts']))\n",
    "most_used_21_22.update_layout(title = 'Most used image analysis tools', title_x=0.5,title_y = 0.95, width=700, height=400)\n",
    "most_used_21_22.update_layout(font=dict(family='Helvetica', color=\"Black\", size=16), legend=dict(title_font_family = 'Helvetica', font=dict(size=16, color=\"Black\")))\n",
    "most_used_21_22.update_yaxes(categoryorder='total ascending')\n",
    "\n"
   ]
  },
  {
   "cell_type": "code",
   "execution_count": null,
   "metadata": {},
   "outputs": [],
   "source": [
    "#What image analysis tools have you used before?\n",
    "com_tool_2021 = pd.read_csv('C:\\\\Users\\\\ssivagur\\\\Documents\\\\2021_Image_analysis_survey_data\\\\What_image_analysis_tools_have_you_used_before_check_all_that_apply.txt')\n",
    "com_tool_2021 = com_tool_2021.rename(columns={'0':'com_used_tools'})\n",
    "\n",
    "#Commonly used image analysis tools\n",
    "com_tool_2021['Commonly used image analysis tools'] = com_tool_2021['com_used_tools'].astype(str) # this is done to ignore the Nan for analysis \n",
    "com_tool_2021[\"Commercial software with the microscope\"] = com_tool_2021['com_used_tools'].apply(lambda x: True if 'Columbus' in x else False)\n",
    "com_tool_2021[\"Other commercial software\"] = com_tool_2021['com_used_tools'].apply(lambda x: True if 'Imaris' in x else False)\n",
    "com_tool_2021[\"Open source point-and-click software\"] = com_tool_2021[\"com_used_tools\"].apply(lambda x: True if 'FIJI' in x else False)\n",
    "com_tool_2021[\"Computational libraries and scripts\"] = com_tool_2021[\"com_used_tools\"].apply(lambda x: True if 'MATLAB' in x else False)\n",
    "com_tool_2021[\"Tools_none\"] = com_tool_2021[\"com_used_tools\"].apply(lambda x: True if 'None' in x else False)\n",
    "\n",
    "# creating a subset of the dataframe\n",
    "com_tool_2021_subset = com_tool_2021.iloc[:, 2:7]\n",
    "com_tool_2021_df = pd.DataFrame(com_tool_2021_subset.sum())\n",
    "com_tool_2021_df = com_tool_2021_df.reset_index()\n",
    "com_tool_2021_df = com_tool_2021_df.rename(columns={'index':'tools', 0:'counts'})\n",
    "com_tool_2021_df\n",
    "# comparison of the commonly used image analysis tools - 2020 and 2022\n",
    "com_tool_21_22 = go.Figure()\n",
    "\n",
    "com_tool_21_22.add_trace(go.Bar(name='2020', y=com_tool_2021_df['tools'], x=com_tool_2021_df['counts'], text=com_tool_2021_df['counts'], orientation='h'))\n",
    "com_tool_21_22.add_trace(go.Bar(name='2022', x=com_tool_df['counts'], y=com_tool_df['tools'], text=com_tool_df['counts'], orientation='h'))\n",
    "\n",
    "com_tool_21_22.update_layout(width=700, height=400, title=\"Commonly used image analysis tools\", title_x=0.5, font=dict(family='Helvetica', color=\"Black\", size=16), legend=dict(title_font_family = 'Helvetica', font=dict(size=16, color=\"Black\")))\n",
    "com_tool_21_22.update_yaxes(categoryorder = 'total ascending')\n"
   ]
  },
  {
   "cell_type": "code",
   "execution_count": null,
   "metadata": {},
   "outputs": [],
   "source": [
    "#what type of images do you commonly want to analyze?\n",
    "\n",
    "# Brightfield manually acquired-2020\n",
    "BF_manual_2020 = pd.read_csv('C:\\\\Users\\\\ssivagur\\\\Documents\\\\2021_Image_analysis_survey_data\\\\What_kinds_of_images_do_you_commonly_want_to_analyze_Brightfield_DIC_phase-contrast_of_cells_or_organisms_from_manually_selected_fields.txt')\n",
    "BF_manual_2020 = BF_manual_2020.rename(columns={'0':'BF_manual'})\n",
    "\n",
    "BF_manual_2020[\"2D\"] = BF_manual_2020[\"BF_manual\"].apply(lambda x: True if '2D' in x else False)\n",
    "BF_manual_2020[\"2D + time\"] = BF_manual_2020[\"BF_manual\"].apply(lambda x: True if '2D + time' in x else False)\n",
    "BF_manual_2020[\"3D\"] = BF_manual_2020[\"BF_manual\"].apply(lambda x: True if '<3000' in x else False)\n",
    "BF_manual_2020[\"3D + time\"] = BF_manual_2020[\"BF_manual\"].apply(lambda x: True if '3D + time' in x else False)\n",
    "BF_manual_2020[\"3D (SPIM/large volume)\"] = BF_manual_2020[\"BF_manual\"].apply(lambda x: True if '(SPIM/large volume)' in x else False)\n",
    "BF_manual_2020[\"3D large volume + time\"] = BF_manual_2020[\"BF_manual\"].apply(lambda x: True if '3D large volume + time' in x else False)\n",
    "\n",
    "BF_manual_2020_df = BF_manual_2020.drop(columns='BF_manual')\n",
    "BF_manual_2020_df = BF_manual_2020_df.sum().to_frame().rename(columns={0:'Brightfield/DIC/phase-contrast manually acquired'})\n",
    "# Brightfield automated-2020\n",
    "BF_automated_2020 = pd.read_csv('C:\\\\Users\\\\ssivagur\\\\Documents\\\\2021_Image_analysis_survey_data\\\\What_kinds_of_images_do_you_commonly_want_to_analyze_Brightfield_DIC_phase-contrast_of_cells_or_organisms_from_an_automated_microscope.txt')\n",
    "BF_automated_2020 = BF_automated_2020.rename(columns={'0':'BF_automated'})\n",
    "\n",
    "BF_automated_2020[\"2D\"] = BF_automated_2020[\"BF_automated\"].apply(lambda x: True if '2D' in x else False)\n",
    "BF_automated_2020[\"2D + time\"] = BF_automated_2020[\"BF_automated\"].apply(lambda x: True if '2D + time' in x else False)\n",
    "BF_automated_2020[\"3D\"] = BF_automated_2020[\"BF_automated\"].apply(lambda x: True if '<3000' in x else False)\n",
    "BF_automated_2020[\"3D + time\"] = BF_automated_2020[\"BF_automated\"].apply(lambda x: True if '3D + time' in x else False)\n",
    "BF_automated_2020[\"3D (SPIM/large volume)\"] = BF_automated_2020[\"BF_automated\"].apply(lambda x: True if '(SPIM/large volume)' in x else False)\n",
    "BF_automated_2020[\"3D large volume + time\"] = BF_automated_2020[\"BF_automated\"].apply(lambda x: True if '3D large volume + time' in x else False)\n",
    "\n",
    "BF_automated_2020_df = BF_automated_2020.drop(columns='BF_automated')\n",
    "BF_auotmated_2020_df = BF_automated_2020_df.sum().to_frame().rename(columns={0:'Brightfield/DIC/phase-contrast automated'})\n",
    "#fluorescent manual -2020\n",
    "fluorescent_manual_2020 = pd.read_csv('C:\\\\Users\\\\ssivagur\\\\Documents\\\\2021_Image_analysis_survey_data\\\\What_kinds_of_images_do_you_commonly_want_to_analyze_Fluorescent_images_of_cells_organisms_from_manually_selected_fields.txt')\n",
    "fluorescent_manual_2020 = fluorescent_manual_2020.rename(columns={'0':'Flo_manual'})\n",
    "\n",
    "fluorescent_manual_2020[\"2D\"] = fluorescent_manual_2020[\"Flo_manual\"].apply(lambda x: True if '2D' in x else False)\n",
    "fluorescent_manual_2020[\"2D + time\"] = fluorescent_manual_2020[\"Flo_manual\"].apply(lambda x: True if '2D + time' in x else False)\n",
    "fluorescent_manual_2020[\"3D\"] = fluorescent_manual_2020[\"Flo_manual\"].apply(lambda x: True if '<3000' in x else False)\n",
    "fluorescent_manual_2020[\"3D + time\"] = fluorescent_manual_2020[\"Flo_manual\"].apply(lambda x: True if '3D + time' in x else False)\n",
    "fluorescent_manual_2020[\"3D (SPIM/large volume)\"] = fluorescent_manual_2020[\"Flo_manual\"].apply(lambda x: True if '(SPIM/large volume)' in x else False)\n",
    "fluorescent_manual_2020[\"3D large volume + time\"] = fluorescent_manual_2020[\"Flo_manual\"].apply(lambda x: True if '3D large volume + time' in x else False)\n",
    "\n",
    "fluorescent_manual_2020_df = fluorescent_manual_2020.drop(columns='Flo_manual')\n",
    "fluorescent_manual_2020_df = fluorescent_manual_2020_df.sum().to_frame().rename(columns={0:'Fluorescent images manually acquired'})\n",
    "#fluorescent automated -2020\n",
    "fluorescent_automated_2020 = pd.read_csv('C:\\\\Users\\\\ssivagur\\\\Documents\\\\2021_Image_analysis_survey_data\\\\What_kinds_of_images_do_you_commonly_want_to_analyze_Fluorescent_images_of_cells_organisms_from_an_automated_microscope.txt')\n",
    "fluorescent_automated_2020 = fluorescent_automated_2020.rename(columns={'0':'Flo_automated'})\n",
    "\n",
    "fluorescent_automated_2020[\"2D\"] = fluorescent_automated_2020[\"Flo_automated\"].apply(lambda x: True if '2D' in x else False)\n",
    "fluorescent_automated_2020[\"2D + time\"] = fluorescent_automated_2020[\"Flo_automated\"].apply(lambda x: True if '2D + time' in x else False)\n",
    "fluorescent_automated_2020[\"3D\"] = fluorescent_automated_2020[\"Flo_automated\"].apply(lambda x: True if '<3000' in x else False)\n",
    "fluorescent_automated_2020[\"3D + time\"] = fluorescent_automated_2020[\"Flo_automated\"].apply(lambda x: True if '3D + time' in x else False)\n",
    "fluorescent_automated_2020[\"3D (SPIM/large volume)\"] = fluorescent_automated_2020[\"Flo_automated\"].apply(lambda x: True if '(SPIM/large volume)' in x else False)\n",
    "fluorescent_automated_2020[\"3D large volume + time\"] = fluorescent_automated_2020[\"Flo_automated\"].apply(lambda x: True if '3D large volume + time' in x else False)\n",
    "\n",
    "fluorescent_automated_2020_df = fluorescent_automated_2020.drop(columns='Flo_automated')\n",
    "fluorescent_automated_2020_df = fluorescent_automated_2020_df.sum().to_frame().rename(columns={0:'Fluorescent images automated'})\n",
    "#histology in tissue sections-2020\n",
    "histology_2020 = pd.read_csv('C:\\\\Users\\\\ssivagur\\\\Documents\\\\2021_Image_analysis_survey_data\\\\What_kinds_of_images_do_you_commonly_want_to_analyze_Histologically_stained_tissue_sections.txt')\n",
    "histology_2020 = histology_2020.rename(columns={'0':'histology'})\n",
    "\n",
    "histology_2020[\"2D\"] = histology_2020[\"histology\"].apply(lambda x: True if '2D' in x else False)\n",
    "histology_2020[\"2D + time\"] = histology_2020[\"histology\"].apply(lambda x: True if '2D + time' in x else False)\n",
    "histology_2020[\"3D\"] = histology_2020[\"histology\"].apply(lambda x: True if '<3000' in x else False)\n",
    "histology_2020[\"3D + time\"] = histology_2020[\"histology\"].apply(lambda x: True if '3D + time' in x else False)\n",
    "histology_2020[\"3D (SPIM/large volume)\"] = histology_2020[\"histology\"].apply(lambda x: True if '(SPIM/large volume)' in x else False)\n",
    "histology_2020[\"3D large volume + time\"] = histology_2020[\"histology\"].apply(lambda x: True if '3D large volume + time' in x else False)\n",
    "\n",
    "histology_2020_df = histology_2020.drop(columns='histology')\n",
    "histology_2020_df = histology_2020_df.sum().to_frame().rename(columns={0:'Histological tissue sections'})\n",
    "#fluorescence in tissue sections-2020\n",
    "flo_2020 = pd.read_csv('C:\\\\Users\\\\ssivagur\\\\Documents\\\\2021_Image_analysis_survey_data\\\\What_kinds_of_images_do_you_commonly_want_to_analyze_Fluorescently_stained_tissue_sections.txt')\n",
    "flo_2020 = flo_2020.rename(columns={'0':'flo_tissue'})\n",
    "\n",
    "flo_2020[\"2D\"] = flo_2020[\"flo_tissue\"].apply(lambda x: True if '2D' in x else False)\n",
    "flo_2020[\"2D + time\"] = flo_2020[\"flo_tissue\"].apply(lambda x: True if '2D + time' in x else False)\n",
    "flo_2020[\"3D\"] = flo_2020[\"flo_tissue\"].apply(lambda x: True if '<3000' in x else False)\n",
    "flo_2020[\"3D + time\"] = flo_2020[\"flo_tissue\"].apply(lambda x: True if '3D + time' in x else False)\n",
    "flo_2020[\"3D (SPIM/large volume)\"] = flo_2020[\"flo_tissue\"].apply(lambda x: True if '(SPIM/large volume)' in x else False)\n",
    "flo_2020[\"3D large volume + time\"] = flo_2020[\"flo_tissue\"].apply(lambda x: True if '3D large volume + time' in x else False)\n",
    "\n",
    "flo_2020_df = flo_2020.drop(columns='flo_tissue')\n",
    "flo_2020_df = flo_2020_df.sum().to_frame().rename(columns={0:'Fluorescence in tissue sections'})\n",
    "#Electron microscopy -2020\n",
    "elec_2020 = pd.read_csv('C:\\\\Users\\\\ssivagur\\\\Documents\\\\2021_Image_analysis_survey_data\\\\What_kinds_of_images_do_you_commonly_want_to_analyze_Electron_microscopy.txt')\n",
    "elec_2020 = elec_2020.rename(columns={'0':'Electron'})\n",
    "\n",
    "elec_2020[\"2D\"] = elec_2020[\"Electron\"].apply(lambda x: True if '2D' in x else False)\n",
    "elec_2020[\"2D + time\"] = elec_2020[\"Electron\"].apply(lambda x: True if '2D + time' in x else False)\n",
    "elec_2020[\"3D\"] = elec_2020[\"Electron\"].apply(lambda x: True if '<3000' in x else False)\n",
    "elec_2020[\"3D + time\"] = elec_2020[\"Electron\"].apply(lambda x: True if '3D + time' in x else False)\n",
    "elec_2020[\"3D (SPIM/large volume)\"] = elec_2020[\"Electron\"].apply(lambda x: True if '(SPIM/large volume)' in x else False)\n",
    "elec_2020[\"3D large volume + time\"] = elec_2020[\"Electron\"].apply(lambda x: True if '3D large volume + time' in x else False)\n",
    "\n",
    "elec_2020_df = elec_2020.drop(columns='Electron')\n",
    "elec_2020_df = elec_2020_df.sum().to_frame().rename(columns={0:'Electron microscopy'})\n",
    "#Imaging mass spectrometry - 2020\n",
    "ms_2020 = pd.read_csv('C:\\\\Users\\\\ssivagur\\\\Documents\\\\2021_Image_analysis_survey_data\\\\What_kinds_of_images_do_you_commonly_want_to_analyze_Imaging_mass_spectrometry.txt')\n",
    "ms_2020 = ms_2020.rename(columns={'0':'ms'})\n",
    "\n",
    "ms_2020[\"2D\"] = ms_2020[\"ms\"].apply(lambda x: True if '2D' in x else False)\n",
    "ms_2020[\"2D + time\"] = ms_2020[\"ms\"].apply(lambda x: True if '2D + time' in x else False)\n",
    "ms_2020[\"3D\"] = ms_2020[\"ms\"].apply(lambda x: True if '<3000' in x else False)\n",
    "ms_2020[\"3D + time\"] = ms_2020[\"ms\"].apply(lambda x: True if '3D + time' in x else False)\n",
    "ms_2020[\"3D (SPIM/large volume)\"] = ms_2020[\"ms\"].apply(lambda x: True if '(SPIM/large volume)' in x else False)\n",
    "ms_2020[\"3D large volume + time\"] = ms_2020[\"ms\"].apply(lambda x: True if '3D large volume + time' in x else False)\n",
    "\n",
    "ms_2020_df = ms_2020.drop(columns='ms')\n",
    "ms_2020_df = ms_2020_df.sum().to_frame().rename(columns={0:'Imaging mass spectrometry'})\n",
    "#Imaging flow cytometry - 2020\n",
    "fc_2020 = pd.read_csv('C:\\\\Users\\\\ssivagur\\\\Documents\\\\2021_Image_analysis_survey_data\\\\What_kinds_of_images_do_you_commonly_want_to_analyze_Imaging_flow_cytometry.txt')\n",
    "fc_2020 = fc_2020.rename(columns={'0':'fc'})\n",
    "\n",
    "fc_2020[\"2D\"] = fc_2020[\"fc\"].apply(lambda x: True if '2D' in x else False)\n",
    "fc_2020[\"2D + time\"] = fc_2020[\"fc\"].apply(lambda x: True if '2D + time' in x else False)\n",
    "fc_2020[\"3D\"] = fc_2020[\"fc\"].apply(lambda x: True if '<3000' in x else False)\n",
    "fc_2020[\"3D + time\"] = fc_2020[\"fc\"].apply(lambda x: True if '3D + time' in x else False)\n",
    "fc_2020[\"3D (SPIM/large volume)\"] = fc_2020[\"fc\"].apply(lambda x: True if '(SPIM/large volume)' in x else False)\n",
    "fc_2020[\"3D large volume + time\"] = fc_2020[\"fc\"].apply(lambda x: True if '3D large volume + time' in x else False)\n",
    "\n",
    "fc_2020_df = fc_2020.drop(columns='fc')\n",
    "fc_2020_df = fc_2020_df.sum().to_frame().rename(columns={0:'Imaging flow cytometry'})\n",
    "#super resolution - 2020\n",
    "sr_2020 = pd.read_csv('C:\\\\Users\\\\ssivagur\\\\Documents\\\\2021_Image_analysis_survey_data\\\\What_kinds_of_images_do_you_commonly_want_to_analyze_Superresolution_PALM_STORM.txt')\n",
    "sr_2020 = sr_2020.rename(columns={'0':'sr'})\n",
    "\n",
    "sr_2020[\"2D\"] = sr_2020[\"sr\"].apply(lambda x: True if '2D' in x else False)\n",
    "sr_2020[\"2D + time\"] = sr_2020[\"sr\"].apply(lambda x: True if '2D + time' in x else False)\n",
    "sr_2020[\"3D\"] = sr_2020[\"sr\"].apply(lambda x: True if '<3000' in x else False)\n",
    "sr_2020[\"3D + time\"] = sr_2020[\"sr\"].apply(lambda x: True if '3D + time' in x else False)\n",
    "sr_2020[\"3D (SPIM/large volume)\"] = sr_2020[\"sr\"].apply(lambda x: True if '(SPIM/large volume)' in x else False)\n",
    "sr_2020[\"3D large volume + time\"] = sr_2020[\"sr\"].apply(lambda x: True if '3D large volume + time' in x else False)\n",
    "\n",
    "sr_2020_df = sr_2020.drop(columns='sr')\n",
    "sr_2020_df = sr_2020_df.sum().to_frame().rename(columns={0:'Superresolution (PALM/STORM)'})\n",
    "#FLIM -2020\n",
    "flim_2020 = pd.read_csv('C:\\\\Users\\\\ssivagur\\\\Documents\\\\2021_Image_analysis_survey_data\\\\What_kinds_of_images_do_you_commonly_want_to_analyze_Autofluorescence_imaging_ie_FLIM.txt')\n",
    "flim_2020 = flim_2020.rename(columns={'0':'flim'})\n",
    "\n",
    "flim_2020[\"2D\"] = flim_2020[\"flim\"].apply(lambda x: True if '2D' in x else False)\n",
    "flim_2020[\"2D + time\"] = flim_2020[\"flim\"].apply(lambda x: True if '2D + time' in x else False)\n",
    "flim_2020[\"3D\"] = flim_2020[\"flim\"].apply(lambda x: True if '<3000' in x else False)\n",
    "flim_2020[\"3D + time\"] = flim_2020[\"flim\"].apply(lambda x: True if '3D + time' in x else False)\n",
    "flim_2020[\"3D (SPIM/large volume)\"] = flim_2020[\"flim\"].apply(lambda x: True if '(SPIM/large volume)' in x else False)\n",
    "flim_2020[\"3D large volume + time\"] = flim_2020[\"flim\"].apply(lambda x: True if '3D large volume + time' in x else False)\n",
    "\n",
    "flim_2020_df = flim_2020.drop(columns='flim')\n",
    "flim_2020_df = flim_2020_df.sum().to_frame().rename(columns={0:'Autofluorescence imaging (ie FLIM)'})\n",
    "# combining all the dataframes - modality - 2020\n",
    "modality_type_combined_2020 = pd.concat([BF_manual_2020_df, BF_auotmated_2020_df, fluorescent_manual_2020_df, fluorescent_automated_2020_df, histology_2020_df, flo_2020_df, elec_2020_df, ms_2020_df, fc_2020_df, sr_2020_df,flim_2020_df], axis=1)\n",
    "modality_type_combined_2020 = modality_type_combined_2020.transpose()\n",
    "modality_type_combined_2020 = modality_type_combined_2020.reset_index()\n",
    "modality_type_combined_2020 = modality_type_combined_2020.rename(columns={'index':'modality'})\n",
    "\n",
    "modality_type_combined_2020['sum'] = modality_type_combined_2020.iloc[:, 1:7].sum(axis=1)\n",
    "modality_type_combined_2020\n",
    "#Commonly analyzed images - 2020 and 2022\n",
    "\n",
    "image_20_22 = go.Figure()\n",
    "\n",
    "image_20_22.add_trace(go.Bar(name='2020', y=modality_type_combined_2020['modality'], x=modality_type_combined_2020['sum'], text=modality_type_combined_2020['sum'], orientation='h'))\n",
    "image_20_22.add_trace(go.Bar(name='2022', y=modality_type_combined['modality'], x=modality_type_combined['sum'], text=modality_type_combined['sum'],  orientation='h'))\n",
    "\n",
    "image_20_22.update_layout(width=1000, height=500, title=\"Commonly analyzed images\", title_x=0.5,title_y=0.90, font=dict(family='Helvetica', color=\"Black\", size=16), legend=dict(title_font_family = 'Helvetica', font=dict(size=16, color=\"Black\")))\n",
    "image_20_22.update_yaxes(categoryorder = 'total ascending')\n",
    "#stacked bar chart for the modality and types combined \n",
    "\n",
    "mod_type_com = go.Figure()\n",
    "\n",
    "mod_type_com.add_trace(go.Bar(name='2D', x =modality_type_combined[\"2D\"], y =modality_type_combined[\"modality\"], orientation='h', text=modality_type_combined[\"2D\"]))\n",
    "mod_type_chart.add_trace(go.Bar(name= '2D + time', x =modality_type_combined[\"2D + time\"], y =modality_type_combined[\"modality\"], orientation='h', text=modality_type_combined[\"2D + time\"]))\n",
    "mod_type_chart.add_trace(go.Bar(name= '3D', x =modality_type_combined[\"3D\"], y =modality_type_combined[\"modality\"], orientation='h', text=modality_type_combined[\"3D\"]))\n",
    "mod_type_chart.add_trace(go.Bar(name= '3D + time', x =modality_type_combined[\"3D + time\"], y =modality_type_combined[\"modality\"], orientation='h', text=modality_type_combined[\"3D + time\"]))\n",
    "mod_type_chart.add_trace(go.Bar(name= '3D (SPIM/large volume)', x =modality_type_combined[\"3D (SPIM/large volume)\"], y =modality_type_combined[\"modality\"], orientation='h', text=modality_type_combined[\"3D (SPIM/large volume)\"]))\n",
    "mod_type_chart.add_trace(go.Bar(name= '3D large volume + time', x =modality_type_combined[\"3D large volume + time\"], y =modality_type_combined[\"modality\"], orientation='h', text=modality_type_combined[\"3D large volume + time\"]))\n",
    "\n",
    "mod_type_chart.update_layout(barmode='stack', title ='What kinds of images do you commonly want to analyze?', title_x=0.5, height =500, title_y=0.9, font=dict(family='Helvetica', color=\"Black\", size=16), legend=dict(title_font_family = 'Helvetica', font=dict(size=16, color=\"Black\")))\n",
    "mod_type_chart.update_yaxes(categoryorder='total ascending')\n",
    "\n"
   ]
  },
  {
   "cell_type": "code",
   "execution_count": null,
   "metadata": {},
   "outputs": [],
   "source": [
    "# Topics of interest for the tutorials - 2020 and 2022\n",
    "int_2020_theory = pd.read_csv('C:\\\\Users\\\\ssivagur\\\\Documents\\\\2021_Image_analysis_survey_data\\\\How_interested_are_you_in_learning_more_about_the_following_topics_Image_analysis_theory_.txt')\n",
    "int_2020_theory = int_2020_theory.rename(columns={'0':'theory'})\n",
    "int_2020_theory = int_2020_theory['theory'].value_counts().to_frame()\n",
    "\n",
    "int_2020_practices = pd.read_csv('C:\\\\Users\\\\ssivagur\\\\Documents\\\\2021_Image_analysis_survey_data\\\\How_interested_are_you_in_learning_more_about_the_following_topics_General_image_analysis_practices.txt')\n",
    "int_2020_practices = int_2020_practices.rename(columns={'0':'practices'})\n",
    "int_2020_practices = int_2020_practices['practices'].value_counts().to_frame()\n",
    "\n",
    "int_2020_par_field = pd.read_csv('C:\\\\Users\\\\ssivagur\\\\Documents\\\\2021_Image_analysis_survey_data\\\\How_interested_are_you_in_learning_more_about_the_following_topics_Image_analysis_practices_particular_to_my_field.txt')\n",
    "int_2020_par_field = int_2020_par_field.rename(columns={'0':'Practices related to particular field'})\n",
    "int_2020_par_field = int_2020_par_field['Practices related to particular field'].value_counts().to_frame()\n",
    "\n",
    "int_2020_spc_tool = pd.read_csv('C:\\\\Users\\\\ssivagur\\\\Documents\\\\2021_Image_analysis_survey_data\\\\How_interested_are_you_in_learning_more_about_the_following_topics_Learning_to_use_a_particular_software_tool.txt')\n",
    "int_2020_spc_tool = int_2020_spc_tool.rename(columns={'0':'Specific software tool'})\n",
    "int_2020_spc_tool = int_2020_spc_tool['Specific software tool'].value_counts().to_frame()\n",
    "\n",
    "int_2020_DL = pd.read_csv('C:\\\\Users\\\\ssivagur\\\\Documents\\\\2021_Image_analysis_survey_data\\\\How_interested_are_you_in_learning_more_about_the_following_topics_Deep_learning_as_applied_to_image_analysis.txt')\n",
    "int_2020_DL = int_2020_DL.rename(columns={'0':'Deep learning for image analysis'})\n",
    "int_2020_DL = int_2020_DL['Deep learning for image analysis'].value_counts().to_frame()\n",
    "int_2020_com = pd.concat([int_2020_theory, int_2020_practices, int_2020_par_field, int_2020_spc_tool, int_2020_DL], axis=1)\n",
    "int_2020_com = int_2020_com.rename(columns={'theory':'Image analysis theory', 'practices':'Image analysis practices'})\n",
    "int_2020_com = int_2020_com.reset_index()\n",
    "int_2020_com = int_2020_com.rename(columns={'index':'interest'})\n",
    "\n",
    "#changing the value of the row since the it is 'A little interested' in 2020 and 'somewhat interested' in 2022\n",
    "int_2020_com.loc[2,'interest'] = 'Somewhat interested'\n",
    "\n",
    "#getting the percentage \n",
    "int_2020_com['percent_theory'] = (int_2020_com['Image analysis theory']/int_2020_com['Image analysis theory'].sum()) *100\n",
    "int_2020_com['percent_practices'] = (int_2020_com['Image analysis practices']/int_2020_com['Image analysis practices'].sum()) *100\n",
    "int_2020_com['percent_particular'] = (int_2020_com['Practices related to particular field']/int_2020_com['Practices related to particular field'].sum()) *100\n",
    "int_2020_com['percent_sptool'] = (int_2020_com['Specific software tool']/int_2020_com['Specific software tool'].sum()) *100\n",
    "int_2020_com['percent_DL'] = (int_2020_com['Deep learning for image analysis']/int_2020_com['Deep learning for image analysis'].sum()) *100\n",
    "\n",
    "#rounding up the decimals\n",
    "int_2020_com['percent_theory']= int_2020_com['percent_theory'].round(decimals=1)\n",
    "int_2020_com['percent_practices'] = int_2020_com['percent_practices'].round(decimals=1)\n",
    "int_2020_com['percent_particular'] = int_2020_com['percent_particular'].round(decimals=1)\n",
    "int_2020_com['percent_sptool'] = int_2020_com['percent_sptool'].round(decimals=1)\n",
    "int_2020_com['percent_DL'] = int_2020_com['percent_DL'].round(decimals=1)\n",
    "int_2020_com\n",
    "#editing the 2022 column \n",
    "trial_subset = trial.iloc[:, 0:6]\n",
    "trial_subset = trial_subset.rename(columns={'Interes in topics Image analysis theory':'Image analysis theory', 'Interest in topics Image analysis practices':'Image analysis practices','Interest in topics related to sub discipline':'Practices related to particular field','Interest in topics Specific software tool':'Specific software tool', 'Interest in topics Deep learning for image analysis':'Deep learning for image analysis'})\n",
    "trial_subset\n",
    "\n",
    "#getting the percentage \n",
    "trial_subset['percent_theory'] = (trial_subset['Image analysis theory']/trial_subset['Image analysis theory'].sum()) *100\n",
    "trial_subset['percent_practices'] = (trial_subset['Image analysis practices']/trial_subset['Image analysis practices'].sum()) *100\n",
    "trial_subset['percent_particular'] = (trial_subset['Practices related to particular field']/trial_subset['Practices related to particular field'].sum()) *100\n",
    "trial_subset['percent_sptool'] = (trial_subset['Specific software tool']/trial_subset['Specific software tool'].sum()) *100\n",
    "trial_subset['percent_DL'] = (trial_subset['Deep learning for image analysis']/trial_subset['Deep learning for image analysis'].sum()) *100\n",
    "\n",
    "#rounding up the decimals\n",
    "trial_subset['percent_theory']= trial_subset['percent_theory'].round(decimals=1)\n",
    "trial_subset['percent_practices'] = trial_subset['percent_practices'].round(decimals=1)\n",
    "trial_subset['percent_particular'] = trial_subset['percent_particular'].round(decimals=1)\n",
    "trial_subset['percent_sptool'] = trial_subset['percent_sptool'].round(decimals=1)\n",
    "trial_subset['percent_DL'] = trial_subset['percent_DL'].round(decimals=1)\n",
    "trial_subset\n",
    "#comparison - topics of interest for the tutorials \n",
    "int_tut_20_22 = go.Figure()\n",
    "\n",
    "int_tut_20_22 = make_subplots(rows=4, cols=2,shared_yaxes='all', subplot_titles=('Image analysis theory', 'Image analysis practices', 'Image analysis practices <br> related to particular field', 'Specific software tool', 'Deep learning for image analysis'))\n",
    "\n",
    "\n",
    "int_tut_20_22.add_trace(go.Bar(name=\"2020\", x=int_2020_com['interest'], y=int_2020_com['percent_theory'], text=int_2020_com['percent_theory'],marker_color= '#636EFA', legendgroup='group1', yaxis='y1'), row=1, col=1)\n",
    "int_tut_20_22.add_trace(go.Bar(name=\"2022\", x=trial_subset['interest'], y=trial_subset['percent_theory'], text=trial_subset['percent_theory'],marker_color= 'rgba(255, 0, 0, 0.6)', legendgroup='group1'), row=1, col=1)\n",
    "\n",
    "int_tut_20_22.add_trace(go.Bar(x=int_2020_com['interest'], y=int_2020_com['percent_practices'], text=int_2020_com['percent_practices'],marker_color= '#636EFA', showlegend=False),row=1, col=2)\n",
    "int_tut_20_22.add_trace(go.Bar(x=trial_subset['interest'], y=trial_subset['percent_practices'], text=trial_subset['percent_practices'],marker_color= 'rgba(255, 0, 0, 0.6)', showlegend=False),row=1, col=2)\n",
    "\n",
    "int_tut_20_22.add_trace(go.Bar(x=int_2020_com['interest'], y=int_2020_com['percent_particular'], text=int_2020_com['percent_particular'],marker_color= '#636EFA',showlegend=False, yaxis='y3'),row=2, col=1)\n",
    "int_tut_20_22.add_trace(go.Bar(x=trial_subset['interest'], y=trial_subset['percent_particular'], text=trial_subset['percent_particular'],marker_color= 'rgba(255, 0, 0, 0.6)',showlegend=False),row=2, col=1)\n",
    "\n",
    "int_tut_20_22.add_trace(go.Bar(x=int_2020_com['interest'], y=int_2020_com['percent_sptool'], text=int_2020_com['percent_sptool'],marker_color= '#636EFA',showlegend=False),row=2, col=2)\n",
    "int_tut_20_22.add_trace(go.Bar(x=trial_subset['interest'], y=trial_subset['percent_sptool'], text=trial_subset['percent_sptool'],marker_color= 'rgba(255, 0, 0, 0.6)',showlegend=False),row=2, col=2)\n",
    "\n",
    "int_tut_20_22.add_trace(go.Bar(x=int_2020_com['interest'], y=int_2020_com['percent_DL'], text=int_2020_com['percent_DL'],marker_color= '#636EFA',showlegend=False, yaxis='y5'),row=3, col=1)\n",
    "int_tut_20_22.add_trace(go.Bar(x=trial_subset['interest'], y=trial_subset['percent_DL'], text=trial_subset['percent_DL'],marker_color= 'rgba(255, 0, 0, 0.6)', showlegend=False),row=3, col=1)\n",
    "\n",
    "\n",
    "int_tut_20_22.update_layout(width=650, height=1200, font=dict(family='Helvetica', color=\"Black\", size=14), legend=dict(title_font_family = 'Helvetica', font=dict(size=16, color=\"Black\")))\n",
    "int_tut_20_22.update_layout(yaxis1=(dict(title='Percent')), yaxis3=(dict(title='Percent')), yaxis5=(dict(title='Percent')))\n",
    "int_tut_20_22.update_layout(title='Topics of interest for the future workshops', title_x =0.5)\n",
    "# Creating dataframes to understand the fold change in the topics of interest for future workshops\n",
    "int_2020_com\n",
    "trial_subset\n",
    "#2020 columns \n",
    "int_2020_com_sub = int_2020_com.drop(int_2020_com.columns[[1,2,3,4,5]], axis=1)\n",
    "int_2020_com_sub.columns = [i+'20' for i in int_2020_com_sub.columns]\n",
    "int_2020_com_sub\n",
    "#2022 columns \n",
    "trial_subset_sub = trial_subset.drop(trial_subset.columns[[1,2,3,4,5]], axis=1)\n",
    "trial_subset_sub.columns = [i+'22' for i in trial_subset_sub.columns]\n",
    "trial_subset_sub\n",
    "#combining dataframes \n",
    "int_22_20 = pd.concat([trial_subset_sub, int_2020_com_sub], axis=1)\n",
    "int_22_20\n",
    "# calculating the fold change\n",
    "for i in range(1,6):\n",
    "    col_name=int_22_20.columns[i]\n",
    "    int_22_20[col_name+'fold']=(int_22_20.iloc[:, i]-int_22_20.iloc[:, i+6])/int_22_20.iloc[:, i+6]\n",
    "    int_22_20[col_name+'fold']  = int_22_20[col_name+'fold'].round(decimals=2)\n",
    "#selecting the desired columns from the dataframe \n",
    "int_22_20_1 = int_22_20.iloc[:,0]\n",
    "int_22_20_2 = int_22_20.iloc[:,12:18]\n",
    "combined = pd.concat([int_22_20_1, int_22_20_2], axis=1)\n",
    "combined = combined.set_index('interest22').transpose()\n",
    "combined = combined.reset_index()\n",
    "combined\n",
    "#replacing the values\n",
    "combined = combined.replace('percent_theory22fold', 'Image analysis theory')\n",
    "combined = combined.replace('percent_practices22fold', 'Image analysis practices')\n",
    "combined = combined.replace('percent_particular22fold', 'Image analysis practices related to particular subdiscipline')\n",
    "combined = combined.replace('percent_sptool22fold', 'Particular software tool')\n",
    "combined = combined.replace('percent_DL22fold', 'Deep learning for image analysis')\n",
    "combined\n",
    "#fold change bar chart\n",
    "int_fold_bar = go.Figure()\n",
    "\n",
    "int_fold_bar.add_trace(go.Bar(name='Very interested',x=combined['index'], y=combined['Very interested'], marker_color='royalblue'))\n",
    "int_fold_bar.add_trace(go.Bar(name='Moderately interested',x=combined['index'], y=combined['Moderately interested'], marker_color='dodgerblue'))\n",
    "int_fold_bar.add_trace(go.Bar(name='Somewhat interested',x=combined['index'], y=combined['Somewhat interested'], marker_color='cornflowerblue'))\n",
    "int_fold_bar.add_trace(go.Bar(name='Not at all interested',x=combined['index'], y=combined['Not at all interested'], marker_color='skyblue'))\n",
    "int_fold_bar.update_layout(barmode='group',title='Fold change in topics of interest with respect to 2020 data', width=700, height=600, font=dict(family='Helvetica', color=\"Black\", size=14), legend=dict(title_font_family = 'Helvetica', font=dict(size=16, color=\"Black\")))\n",
    "int_fold_bar.update_yaxes(title='Fold change')\n",
    "\n",
    "#Preferable instructional methods - 2020\n",
    "art_20 = pd.read_csv('C:\\\\Users\\\\ssivagur\\\\Documents\\\\2021_Image_analysis_survey_data\\\\For_any_topics_you_re_interested_in_how_interested_would_you_be_in_learning_about_them_in_the_following_ways_Scholarly_best_practices_article.txt')\n",
    "art_20 = art_20.rename(columns={'0':'article'})\n",
    "art_20 = art_20['article'].value_counts().to_frame()\n",
    "\n",
    "wrt_tut_20 = pd.read_csv('C:\\\\Users\\\\ssivagur\\\\Documents\\\\2021_Image_analysis_survey_data\\\\For_any_topics_you_re_interested_in_how_interested_would_you_be_in_learning_about_them_in_the_following_ways_Written_step-by-step_tutorial.txt')\n",
    "wrt_tut_20 = wrt_tut_20.rename(columns={'0':'written tutorial'})\n",
    "wrt_tut_20 = wrt_tut_20['written tutorial'].value_counts().to_frame()\n",
    "\n",
    "vid_tut_20 = pd.read_csv('C:\\\\Users\\\\ssivagur\\\\Documents\\\\2021_Image_analysis_survey_data\\\\For_any_topics_you_re_interested_in_how_interested_would_you_be_in_learning_about_them_in_the_following_ways_Video_tutorial.txt')\n",
    "vid_tut_20 = vid_tut_20.rename(columns={'0':'video tutorial'})\n",
    "vid_tut_20 = vid_tut_20['video tutorial'].value_counts().to_frame()\n",
    "\n",
    "int_web_20 = pd.read_csv('C:\\\\Users\\\\ssivagur\\\\Documents\\\\2021_Image_analysis_survey_data\\\\For_any_topics_you_re_interested_in_how_interested_would_you_be_in_learning_about_them_in_the_following_ways_Interactive_webinar.txt')\n",
    "int_web_20 = int_web_20.rename(columns={'0':'interactive webinar'})\n",
    "int_web_20 = int_web_20['interactive webinar'].value_counts().to_frame()\n",
    "\n",
    "off_hr_20 = pd.read_csv('C:\\\\Users\\\\ssivagur\\\\Documents\\\\2021_Image_analysis_survey_data\\\\For_any_topics_you_re_interested_in_how_interested_would_you_be_in_learning_about_them_in_the_following_ways_One-on-one_office_hours_with_an_expert.txt')\n",
    "off_hr_20 = off_hr_20.rename(columns={'0':'office hour'})\n",
    "off_hr_20 = off_hr_20['office hour'].value_counts().to_frame()\n",
    "\n",
    "one_day_20 = pd.read_csv('C:\\\\Users\\\\ssivagur\\\\Documents\\\\2021_Image_analysis_survey_data\\\\For_any_topics_you_re_interested_in_how_interested_would_you_be_in_learning_about_them_in_the_following_ways_In_person_seminar_tutorial_lasting_lessthan1_day.txt')\n",
    "one_day_20 = one_day_20.rename(columns={'0':'one day'})\n",
    "one_day_20 = one_day_20['one day'].value_counts().to_frame()\n",
    "\n",
    "mul_day_20 = pd.read_csv('C:\\\\Users\\\\ssivagur\\\\Documents\\\\2021_Image_analysis_survey_data\\\\For_any_topics_you_re_interested_in_how_interested_would_you_be_in_learning_about_them_in_the_following_ways_Multiday_workshop.txt')\n",
    "mul_day_20 = mul_day_20.rename(columns={'0':'multi day'})\n",
    "mul_day_20 = mul_day_20['multi day'].value_counts().to_frame()\n",
    "#Combining all the dataframes \n",
    "pre_tut_20 = pd.concat([art_20,wrt_tut_20,vid_tut_20,int_web_20,off_hr_20,one_day_20,mul_day_20], axis=1)\n",
    "pre_tut_20 = pre_tut_20.reset_index()\n",
    "pre_tut_20.loc[2, 'index'] = 'Somewhat interested'\n",
    "\n",
    "#creating percentage columns \n",
    "pre_tut_20['percent_article'] = (pre_tut_20['article']/pre_tut_20['article'].sum())* 100\n",
    "pre_tut_20['percent_article']= pre_tut_20['percent_article'].round(decimals=1)\n",
    "\n",
    "pre_tut_20['percent_written'] = (pre_tut_20['written tutorial']/pre_tut_20['written tutorial'].sum())*100\n",
    "pre_tut_20['percent_written']=pre_tut_20['percent_written'].round(decimals=1)\n",
    "\n",
    "pre_tut_20['percent_video'] = (pre_tut_20['video tutorial']/pre_tut_20['video tutorial'].sum())*100\n",
    "pre_tut_20['percent_video']= pre_tut_20['percent_video'].round(decimals=1)\n",
    "\n",
    "pre_tut_20['percent_web'] = (pre_tut_20['interactive webinar']/pre_tut_20['interactive webinar'].sum())*100\n",
    "pre_tut_20['percent_web']=pre_tut_20['percent_web'].round(decimals=1)\n",
    "\n",
    "pre_tut_20['percent_off'] = (pre_tut_20['office hour']/pre_tut_20['office hour'].sum())*100\n",
    "pre_tut_20['percent_off']=pre_tut_20['percent_off'].round(decimals=1)\n",
    "\n",
    "pre_tut_20['percent_one'] = (pre_tut_20['one day']/pre_tut_20['one day'].sum())*100\n",
    "pre_tut_20['percent_one']=pre_tut_20['percent_one'].round(decimals=1)\n",
    "\n",
    "pre_tut_20['percent_mul'] = (pre_tut_20['multi day']/pre_tut_20['multi day'].sum())*100\n",
    "pre_tut_20['percent_mul']=pre_tut_20['percent_mul'].round(decimals=1)\n",
    "\n",
    "pre_tut_20\n",
    "#preferable instructional methods - 2022\n",
    "art = data[\"Preferable instructional methods articles\"].value_counts().to_frame()\n",
    "wrt = data[\"Preferable instructional methods written tutorials\"].value_counts().to_frame()\n",
    "vid = data[\"Preferable instructional methods Video tutorial\"].value_counts().to_frame()\n",
    "web = data[\"Preferable instructional methods Interactive webinar\"].value_counts().to_frame()\n",
    "off = data[\"Preferable instructional methods Office hours\"].value_counts().to_frame()\n",
    "one = data[\"Preferable instructional methods Seminar 1day\"].value_counts().to_frame()\n",
    "mul = data[\"Preferable instructional methods Multiday workshop\"].value_counts().to_frame()\n",
    "\n",
    "#combining all the dataframes\n",
    "mtds = pd.concat([art, wrt, vid, web, off, one, mul], axis=1)\n",
    "mtds = mtds.reset_index()\n",
    "mtds['index'] = ['Somewhat interested', 'Moderately interested', 'Very interested', 'Not at all interested']\n",
    "\n",
    "#creating percentage columns \n",
    "mtds['per_art'] = (mtds['Preferable instructional methods articles']/mtds['Preferable instructional methods articles'].sum())*100\n",
    "mtds['per_art'] = mtds['per_art'].round(decimals=1)\n",
    "\n",
    "mtds['per_wrt'] = (mtds['Preferable instructional methods written tutorials']/mtds['Preferable instructional methods written tutorials'].sum())*100\n",
    "mtds['per_wrt'] =mtds['per_wrt'].round(decimals=1)\n",
    "\n",
    "mtds['per_vid'] = (mtds['Preferable instructional methods Video tutorial']/mtds['Preferable instructional methods Video tutorial'].sum())*100\n",
    "mtds['per_vid'] = mtds['per_vid'].round(decimals=1)\n",
    "\n",
    "mtds['per_web'] = (mtds['Preferable instructional methods Interactive webinar']/mtds['Preferable instructional methods Interactive webinar'].sum())*100\n",
    "mtds['per_web'] =mtds['per_web'].round(decimals=1)\n",
    "\n",
    "mtds['per_off'] = (mtds['Preferable instructional methods Office hours']/mtds['Preferable instructional methods Office hours'].sum())*100\n",
    "mtds['per_off'] = mtds['per_off'].round(decimals=1)\n",
    "\n",
    "mtds['per_one'] = (mtds['Preferable instructional methods Seminar 1day']/mtds['Preferable instructional methods Seminar 1day'].sum())*100\n",
    "mtds['per_one'] = mtds['per_one'].round(decimals=1)\n",
    "\n",
    "mtds['per_mul'] = (mtds['Preferable instructional methods Multiday workshop']/mtds['Preferable instructional methods Multiday workshop'].sum())*100\n",
    "mtds['per_mul'] = mtds['per_mul'].round(decimals=1)\n",
    "\n",
    "#comparison-graphs \n",
    "int_mtd_20_22 = go.Figure()\n",
    "\n",
    "int_mtd_20_22 = make_subplots(rows=4, cols=2,shared_yaxes='all', subplot_titles=('Best practices articles', 'Written tutorial', 'Video tutorial', 'Interactive webinar', 'Office hours', 'In-person/one day workshop', 'Multi-day workshop'))\n",
    "\n",
    "int_mtd_20_22.add_trace(go.Bar(name='2020',x=pre_tut_20['index'], y=pre_tut_20['percent_article'],text=pre_tut_20['percent_article'], marker_color= '#636EFA', yaxis='y1'),1,1)\n",
    "int_mtd_20_22.add_trace(go.Bar(name='2022', x=mtds['index'], y=mtds['per_art'],text=mtds['per_art'], marker_color= 'rgba(255, 0, 0, 0.6)'),1,1) \n",
    "\n",
    "int_mtd_20_22.add_trace(go.Bar(x=pre_tut_20['index'], y=pre_tut_20['percent_written'],text=pre_tut_20['percent_written'], marker_color= '#636EFA', showlegend=False),1,2)\n",
    "int_mtd_20_22.add_trace(go.Bar(x=mtds['index'], y=mtds['per_wrt'],text=mtds['per_wrt'], marker_color= 'rgba(255, 0, 0, 0.6)', showlegend=False),1,2) \n",
    "\n",
    "int_mtd_20_22.add_trace(go.Bar(x=pre_tut_20['index'], y=pre_tut_20['percent_video'],text=pre_tut_20['percent_video'], marker_color= '#636EFA', showlegend=False, yaxis='y3'),2,1)\n",
    "int_mtd_20_22.add_trace(go.Bar(x=mtds['index'], y=mtds['per_vid'],text=mtds['per_vid'], marker_color= 'rgba(255, 0, 0, 0.6)', showlegend=False),2,1) \n",
    "\n",
    "int_mtd_20_22.add_trace(go.Bar(x=pre_tut_20['index'], y=pre_tut_20['percent_web'],text=pre_tut_20['percent_web'], marker_color= '#636EFA', showlegend=False),2,2)\n",
    "int_mtd_20_22.add_trace(go.Bar(x=mtds['index'], y=mtds['per_web'],text=mtds['per_web'], marker_color= 'rgba(255, 0, 0, 0.6)', showlegend=False),2,2)\n",
    "\n",
    "int_mtd_20_22.add_trace(go.Bar(x=pre_tut_20['index'], y=pre_tut_20['percent_off'],text=pre_tut_20['percent_off'], marker_color= '#636EFA', showlegend=False, yaxis='y5'),3,1)\n",
    "int_mtd_20_22.add_trace(go.Bar(x=mtds['index'], y=mtds['per_off'],text=mtds['per_off'], marker_color= 'rgba(255, 0, 0, 0.6)', showlegend=False),3,1)\n",
    "\n",
    "int_mtd_20_22.add_trace(go.Bar(x=pre_tut_20['index'], y=pre_tut_20['percent_one'],text=pre_tut_20['percent_one'], marker_color= '#636EFA', showlegend=False),3,2)\n",
    "int_mtd_20_22.add_trace(go.Bar(x=mtds['index'], y=mtds['per_one'],text=mtds['per_one'], marker_color= 'rgba(255, 0, 0, 0.6)',showlegend=False),3,2)\n",
    "\n",
    "int_mtd_20_22.add_trace(go.Bar(x=pre_tut_20['index'], y=pre_tut_20['percent_mul'],text=pre_tut_20['percent_mul'], marker_color= '#636EFA', showlegend=False, yaxis='y7'),4,1)\n",
    "int_mtd_20_22.add_trace(go.Bar(x=mtds['index'], y=mtds['per_mul'],text=mtds['per_mul'], marker_color= 'rgba(255, 0, 0, 0.6)', showlegend=False),4,1)\n",
    "\n",
    "int_mtd_20_22.update_layout(width=650, height=1250, font=dict(family='Helvetica', color=\"Black\", size=14), legend=dict(title_font_family = 'Helvetica', font=dict(size=16, color=\"Black\")))\n",
    "int_mtd_20_22.update_layout(yaxis1=(dict(title='Percent')), yaxis3=(dict(title='Percent')), yaxis5=(dict(title='Percent')), yaxis7=(dict(title='Percent')))\n",
    "int_mtd_20_22.update_xaxes(categoryorder='array',categoryarray = ['Very interested', 'Moderately interested', 'Somewhat interested','Not at all interested'])\n",
    "int_mtd_20_22.update_layout(title='Preferable instructional methods', title_x =0.5)\n",
    "# Dipalying the fold change - 2020 and 2022\n",
    "pre_tut_20\n",
    "mtds\n",
    "\n",
    "#creating dataframes for the fold change \n",
    "fold_df_20 = pre_tut_20.drop(pre_tut_20.columns[[1, 2,3,4,5,6,7]], axis=1)\n",
    "fold_df_22 = mtds.drop(mtds.columns[[1,2,3,4,5,6,7]], axis=1)\n",
    "\n",
    "\n",
    "fold_df_20 = fold_df_20.sort_values(by='index').reset_index(drop=True)\n",
    "fold_df_22.columns = [(i+'22') for i in fold_df_22.columns]\n",
    "fold_df_22 = fold_df_22.sort_values(by='index22').reset_index(drop=True)\n",
    "\n",
    "fold_df_22_20 = pd.concat([fold_df_22, fold_df_20], axis=1)\n",
    "fold_df_22_20\n",
    "#Calculating the fold change \n",
    "for i in range(1,8):\n",
    "    col_name=fold_df_22_20.columns[i]\n",
    "    fold_df_22_20[col_name+'fold']=(fold_df_22_20.iloc[:, i]-fold_df_22_20.iloc[:, i+8])/fold_df_22_20.iloc[:, i+8]\n",
    "    fold_df_22_20[col_name+'fold']  = fold_df_22_20[col_name+'fold'].round(decimals=2)\n",
    "\n",
    "fold_df_22_20\n",
    "fold_df_22_20_sub_1 = fold_df_22_20.iloc[:, 0]\n",
    "fold_df_22_20_sub_2 = fold_df_22_20.iloc[:, 16:]\n",
    "fold_df_22_20_sub = pd.concat([fold_df_22_20_sub_1, fold_df_22_20_sub_2], axis=1)\n",
    "fold_df_22_20_sub = fold_df_22_20_sub.set_index('index22').transpose()\n",
    "fold_df_22_20_sub = fold_df_22_20_sub.reset_index()\n",
    "\n",
    "#Changing the column names \n",
    "fold_df_22_20_sub = fold_df_22_20_sub.replace('per_art22fold', 'Best practices articles')\n",
    "fold_df_22_20_sub = fold_df_22_20_sub.replace('per_wrt22fold', 'Written tutorials')\n",
    "fold_df_22_20_sub = fold_df_22_20_sub.replace('per_vid22fold', 'Video tutorials')\n",
    "fold_df_22_20_sub = fold_df_22_20_sub.replace('per_web22fold', 'Interactive webinar')\n",
    "fold_df_22_20_sub = fold_df_22_20_sub.replace('per_off22fold', 'Office hours')\n",
    "fold_df_22_20_sub = fold_df_22_20_sub.replace('per_one22fold', 'In-person seminar/ One day workshop')\n",
    "fold_df_22_20_sub = fold_df_22_20_sub.replace('per_mul22fold', 'Multiday workshop')\n",
    "#plotting fold change \n",
    "fold_bar = go.Figure()\n",
    "\n",
    "fold_bar.add_trace(go.Bar(name='Very interested',x=fold_df_22_20_sub['index'], y=fold_df_22_20_sub['Very interested'], marker_color='royalblue'))\n",
    "fold_bar.add_trace(go.Bar(name='Moderately interested',x=fold_df_22_20_sub['index'], y=fold_df_22_20_sub['Moderately interested'], marker_color='dodgerblue'))\n",
    "fold_bar.add_trace(go.Bar(name='Somewhat interested',x=fold_df_22_20_sub['index'], y=fold_df_22_20_sub['Somewhat interested'], marker_color='cornflowerblue'))\n",
    "fold_bar.add_trace(go.Bar(name='Not at all interested',x=fold_df_22_20_sub['index'], y=fold_df_22_20_sub['Not at all interested'], marker_color='skyblue'))\n",
    "fold_bar.update_layout(barmode='group',title='Fold change in the preferable instructional <br>methods with respect to 2020 data', width=700, height=500, font=dict(family='Helvetica', color=\"Black\", size=14), legend=dict(title_font_family = 'Helvetica', font=dict(size=16, color=\"Black\")))\n",
    "fold_bar.update_yaxes(title='Fold change')\n",
    "#Combinbing the fold change charts of the preferable methods and the topic of interest for the tutorial \n",
    "comb_df_1 = combined.loc[:,['index','Very interested']]\n",
    "comb_df_2 = fold_df_22_20_sub.loc[:, ['index', 'Very interested']]\n",
    "comb_fold_df = pd.concat([comb_df_1, comb_df_2])\n",
    "comb_fold_df\n",
    "#creating bar chart for the combined fold \n",
    "comb_fold_bar = go.Figure()\n",
    "colors=['blue','blue','blue', 'blue', 'blue', 'crimson','crimson', 'crimson', 'crimson', 'crimson', 'crimson', 'crimson'] \n",
    "comb_fold_bar.add_trace(go.Bar(x=comb_fold_df['index'], y=comb_fold_df['Very interested'],marker_color=colors, orientation='v'))\n",
    "comb_fold_bar.update_layout(barmode='group',width=700, height=700, font=dict(family='Helvetica', color=\"Black\", size=14), legend=dict(title_font_family = 'Helvetica', font=dict(size=16, color=\"Black\")))\n",
    "comb_fold_bar.update_xaxes(title='Fold change', categoryorder ='total ascending')\n",
    "\n",
    "# wordcloud for well solved image analysis problems_2020\n",
    "from wordcloud import WordCloud, STOPWORDS\n",
    "well_solved_2021 = pd.read_csv('C:\\\\Users\\\\ssivagur\\\\Documents\\\\2021_Image_analysis_survey_data\\\\What_image_analysis_problems_ie_finding_nuclei_tissue_analysis_analysis_of_super-resolution_data_etc_do_you_think_are_generally_well-solved.txt')\n",
    "well_solved_2021 = well_solved_2021.rename(columns= {'0':'well_solved-2020'})\n",
    "wordcloud(well_solved_2021[\"well_solved-2020\"], extra_stopwords=['finding nuclei','finding', 'nuclei', 'tissue','analysis', 'analysis of super-resolution data', 'cell', 'cells', 'etc', 'image', 'images', 'well', \n",
    "             'solved', 'imaging', 'better', 'simple', 'different', 'non', 'within', 'depend', 'none', 'things', 'easy', 'many', 'almost', 'common', \n",
    "             'though', 'n', 'depends', 'number', 'made', 'seem', 'show', 'particularly', 'co', 'size', 'types', 'every', 'possible', 'based', 'generally', 'semi', 'work', 'don', 't', 'basic'])\n",
    "# wordcloud for image analysis problems which need better solutions -2021\n",
    "better_sol_2021 = pd.read_csv('C:\\\\Users\\\\ssivagur\\\\Documents\\\\2021_Image_analysis_survey_data\\\\What_image_analysis_problems_ie_finding_nuclei_tissue_analysis_analysis_of_super-resolution_data_etc_do_you_wish_had_easier_better_solutions.txt')\n",
    "better_sol_2021 = better_sol_2021.rename(columns= {'0':'Image analysis problems that need better solutions-2020'})\n",
    "wordcloud(better_sol_2021[\"Image analysis problems that need better solutions-2020\"], extra_stopwords=['finding nuclei','finding', 'nuclei', 'tissue', 'analysis', 'analysis of super-resolution data', 'image', 'images', 'imaging', 'e', 'g', \n",
    "             'cell', 'em', 'non', 'etc', 'cells', 'better', 'find', 'easy', 'sample', 'well', 'don', 't', 'different', 'without','many', 'change', 'high', 'especially', \n",
    "             'low', 'good', 'tool', 'based', 'things', 'changes','within', 'problem', 'small', 'working', 'data', \n",
    "             'analyzing','set', 'often', 'easier', 'clearly', 'types', 'general', 'anything', 'co', 'work', 'highly', 'need', 'way', 're'])\n",
    "# wordcloud for creators role -2020\n",
    "creator_2021 = pd.read_csv('C:\\\\Users\\\\ssivagur\\\\Documents\\\\2021_Image_analysis_survey_data\\\\What_do_you_think_analysis_tool_CREATORS_such_as_software_developers_could_should_do_to_make_image_analysis_better_and_more_successful_How_best_could_we_encourage_them_to_do_it.txt')\n",
    "creator_2021 = creator_2021.rename(columns= {'0':'Creators role - 2020'})\n",
    "wordcloud(creator_2021[\"Creators role - 2020\"],extra_stopwords=['tool','make','analysis', 'better', 'more', 'software', 'tools', 'user', 'step', 'users', 'use', 'image', 'don', 't', 's', 'etc', \n",
    "                 'used', 'clearly', 'doesn', 'best', 'touch', 'give', 'non', 'less', 'images', 'asap', 'high','using', 'well', 'work', 'even', 'end',\n",
    "                 'others','everyone','everything','know','really','without','something','always','one','want', 'exactly', 've','m','certain', 're','instead',\n",
    "                 'us','maybe','sc', 'kind','going', 'different','see','especially', 'lack','much', 'past', 'selves', 'running', 'either','require', 'happens', 'lot', 'put', 'perhaps', \n",
    "                 'properly', 'many', 'behave', 'good', 'data', 'away', 'tell', 'will'] )\n",
    "# wordcloud for users role -2020\n",
    "user_2021 = pd.read_csv('C:\\\\Users\\\\ssivagur\\\\Documents\\\\2021_Image_analysis_survey_data\\\\What_do_you_think_analysis_tool_USERS_such_as_microscopists_could_should_do_to_make_image_analysis_better_and_more_successful__How_best_could_we_encourage_them_to_do_it.txt')\n",
    "user_2021 = user_2021.rename(columns= {'0':'Users role - 2020'})\n",
    "\n",
    "wordcloud(user_2021[\"Users role - 2020\"], extra_stopwords=['tool','make','analysis', 'better', 'more', 'software', 'tools', 'user', 'step', 'users', 'use', 'don', 'image', 'imaging', 'images', \n",
    "                  'data', 'think', 'best', 'need', 'encourage', 'etc', 't', 'needs', 'basic', 'able', 'keep', 'used', 'help', 'high', 'try', 'first', 'clearly',\n",
    "                  'bit', 'will', 'different', 'field', 'non', 'ask', 'good', 'know'])\n",
    "#Comparing with the previous years data (topics of interest for the image analysis tutorials)\n",
    "\n",
    "topic_interest_data_2021 = pd.read_csv('C:\\\\Users\\\\ssivagur\\\\Documents\\\\2021_Image_analysis_survey_data\\\\What_specific_topics_ie_overviews_of_a_particular_tool_comparisons_between_pieces_of_software_or_how_to_use_a_certain_tool_for_a_certain_kind_of_experiment_would_you_like_to_s.txt')\n",
    "topic_interest_data_2021= topic_interest_data_2021.rename(columns={'0':'interest'})\n",
    "#unigrams from 2021\n",
    "from sklearn.feature_extraction.text import CountVectorizer\n",
    "c_vec = CountVectorizer(stop_words=stoplist, ngram_range=(1,1))\n",
    "# matrix of ngrams\n",
    "ngrams = c_vec.fit_transform(topic_interest_data_2021[\"interest\"])\n",
    "# count frequency of ngrams\n",
    "count_values = ngrams.toarray().sum(axis=0)\n",
    "# list of ngrams\n",
    "vocab = c_vec.vocabulary_\n",
    "df_2021_unigram = pd.DataFrame(sorted([(count_values[i],k) for k,i in vocab.items()], reverse=True)\n",
    "            ).rename(columns={0: 'frequency', 1:'unigram'})\n",
    "#bigrams from 2021\n",
    "from sklearn.feature_extraction.text import CountVectorizer\n",
    "c_vec = CountVectorizer(stop_words=stoplist, ngram_range=(2,2))\n",
    "# matrix of ngrams\n",
    "ngrams = c_vec.fit_transform(topic_interest_data_2021[\"interest\"])\n",
    "# count frequency of ngrams\n",
    "count_values = ngrams.toarray().sum(axis=0)\n",
    "# list of ngrams\n",
    "vocab = c_vec.vocabulary_\n",
    "df_2021_bigram = pd.DataFrame(sorted([(count_values[i],k) for k,i in vocab.items()], reverse=True)\n",
    "            ).rename(columns={0: 'frequency', 1:'bigram'})\n",
    "#topics of interest for the tutorials with 2021 data \n",
    "topic_interest_data_2021[\"Python/coding/script\"] = topic_interest_data_2021[\"interest\"].str.contains('python|coding|script', case=False)\n",
    "topic_interest_data_2021[\"Segmentation\"] = topic_interest_data_2021['interest'].str.contains('segmentation|cell segmentation', case=False)\n",
    "topic_interest_data_2021[\"napari\"] = topic_interest_data_2021['interest'].str.contains('napari', case=False)\n",
    "topic_interest_data_2021[\"Certain tools\"] = topic_interest_data_2021['interest'].str.contains('certain tool', case=False)\n",
    "topic_interest_data_2021[\"Open source\"] = topic_interest_data_2021['interest'].str.contains('open source', case=False)\n",
    "topic_interest_data_2021[\"Deep/machine learning\"] = topic_interest_data_2021['interest'].str.contains('deep|machine', case=False)\n",
    "topic_interest_data_2021[\"Fiji/ImageJ/Macro\"] = topic_interest_data_2021['interest'].str.contains('imagej|fiji|macro', case=False)\n",
    "topic_interest_data_2021[\"Best practices\"] = topic_interest_data_2021['interest'].str.contains('best practices', case=False)\n",
    "topic_interest_data_2021[\"Cellprofiler\"] = topic_interest_data_2021['interest'].str.contains('cellprofiler', case=False)\n",
    "topic_interest_data_2021[\"Comparisons\"] = topic_interest_data_2021['interest'].str.contains('comparison', case=False)\n",
    "\n",
    "topic_data_2021 = topic_interest_data_2021.drop(columns=['interest', 'Fiji/ImageJ/macro'])\n",
    "topic_data_2021_sum = topic_data_2021.sum()\n",
    "\n",
    "#chart for the topics of interest for the future workshop\n",
    "topic_data_2021_chart = px.bar(topic_data_2021_sum, labels= {'value':'counts', 'index':''}, text_auto=True)\n",
    "topic_data_2021_chart.update_layout(title='Topics of interest for the image analysis tutorials', title_x=0.5, width = 500, height=500, showlegend=False)\n",
    "topic_data_2021_chart.update_xaxes(categoryorder='total descending')\n",
    "# Topics of interest for future tutorials - 2020 and 2022\n",
    "top_20 = topic_data_2021_sum.to_frame()\n",
    "top_20 = top_20.rename(columns={0:'counts'})\n",
    "top_20 = top_20.reset_index()\n",
    "top_20 = top_20.rename(columns={'index':'topics'})\n",
    "\n",
    "top_22 = topic_data_sum.to_frame()\n",
    "top_22 = top_22.rename(columns={0:'counts'})\n",
    "top_22 = top_22.reset_index()\n",
    "top_22 = top_22.rename(columns={'index':'topics'})\n",
    "\n",
    "\n",
    "# bar chart\n",
    "top_comp = go.Figure()\n",
    "\n",
    "top_comp.add_trace(go.Bar(name='2020',x=top_20['topics'], y=top_20['counts'], text=top_20['counts']))\n",
    "top_comp.add_trace(go.Bar(name='2022', x=top_22['topics'], y=top_22['counts'], text=top_22['counts']))\n",
    "\n",
    "top_comp.update_layout(title='Topics of interest for the image analysis tutorials', title_x=0.5, width = 500, height=500, font=dict(family='Helvetica', color=\"Black\", size=16))\n",
    "top_comp.update_xaxes(categoryorder='total descending')\n",
    "#Conf-2020\n",
    "\n",
    "conf_20 = pd.read_csv('C:\\\\Users\\\\ssivagur\\\\Documents\\\\2021_Image_analysis_survey_data\\\\Please_select_any_of_the_following_you_have_attended_in_the_past.txt')\n",
    "conf_20= conf_20.rename(columns={'0':'conf'})\n",
    "conf_20\n",
    "conf_20 = conf_20.dropna()\n",
    "conf_20['Workshop'] = conf_20['conf'].apply(lambda x: True if 'Workshop' in x else False)\n",
    "conf_20['Conference session'] = conf_20['conf'].apply(lambda x: True if 'session' in x else False)\n",
    "conf_20['Conference'] = conf_20['conf'].apply(lambda x: True if 'dedicated' in x else False)\n",
    "\n",
    "\n",
    "conf_20 = conf_20.iloc[:, 1:4]\n",
    "conf_tot = conf_20.sum()\n",
    "conf_tot = conf_tot.to_frame()\n",
    "conf_tot\n",
    "conf_tot = conf_tot.rename(columns={0:'counts'})\n",
    "conf_tot = conf_tot.reset_index()\n",
    "conf_tot = conf_tot.rename(columns={'index':'topics'})\n",
    "\n",
    "pre_df_tot = pre_df_tot.rename(columns={0:'counts'})\n",
    "pre_df_tot = pre_df_tot.reset_index()\n",
    "pre_df_tot = pre_df_tot.rename(columns={'index':'topics'})\n",
    "pre_df_tot\n",
    "pre_con_20_22 = go.Figure()\n",
    "\n",
    "pre_con_20_22.add_trace(go.Bar(name='2020', x=conf_tot['topics'], y=conf_tot['counts'], text=conf_tot['counts']))\n",
    "pre_con_20_22.add_trace(go.Bar(name='2022', x=pre_df_tot['topics'], y=pre_df_tot['counts'], text=pre_df_tot['counts']))\n",
    "\n",
    "pre_con_20_22.update_layout(width = 500, height=500, font=dict(family='Helvetica', color=\"Black\", size=16))\n",
    "pre_con_20_22.update_xaxes(categoryorder='total descending')\n",
    "#Are there any image analysis workshops, tutorials, or conferences that you have participated in and found particularly helpful? If yes, what made them beneficial?\n",
    "work_20 = pd.read_csv('C:\\\\Users\\\\ssivagur\\\\Documents\\\\2021_Image_analysis_survey_data\\\\Are_there_any_image_analysis_workshops_tutorials_or_conferences_that_you_have_participated_in_and_found_particularly_helpful__If_yes_what_made_them_beneficial.txt')\n",
    "work_20= work_20.rename(columns={'0':'work'})\n",
    "work_20 = work_20['work'].str.lower().str.strip()\n",
    "work_20 = pd.DataFrame(work_20)\n",
    "work_20\n",
    "\n",
    "\n",
    "work_20[\"NEUBIAS\"] = work_20['work'].apply(lambda x: True if 'neubias' in x else False)\n",
    "work_20[\"Fiji/ImageJ\"] = work_20['work'].apply(lambda x: True if ('imagej' in x) or ('fiji' in x) else False)\n",
    "work_20[\"Cellprofiler\"] = work_20['work'].apply(lambda x: True if 'cellprofiler' in x else False)\n",
    "work_20[\"Imaris\"] = work_20['work'].apply(lambda x: True if 'imaris' in x else False)\n",
    "work_20[\"Robert Hasse\"] = work_20['work'].apply(lambda x: True if 'robert' in x else False)\n",
    "work_20[\"AQLM\"] = work_20['work'].apply(lambda x: True if 'aqlm' in x else False)\n",
    "work_20[\"CSHL\"] = work_20['work'].apply(lambda x: True if 'cshl' in x else False)\n",
    "work_20[\"I2K\"] = work_20['work'].apply(lambda x: True if 'i2k' in x else False)\n",
    "work_20[\"EMBL\"] = work_20['work'].apply(lambda x: True if 'embl' in x else False)\n",
    "work_20\n",
    "\n",
    "work_20_sum = work_20.sum().to_frame()\n",
    "work_20_sum = work_20_sum.drop('work')\n",
    "work_20_sum = work_20_sum.rename(columns={0:'counts'})\n",
    "work_20_sum = work_20_sum.reset_index()\n",
    "work_20_sum = work_20_sum.rename(columns={'index':'conferences'})\n",
    "work_20_sum\n",
    "\n",
    "#altering 2022 dataframe \n",
    "workshops_for_chart = workshops_for_chart.rename(columns={0:'counts'})\n",
    "workshops_for_chart = workshops_for_chart.reset_index()\n",
    "workshops_for_chart = workshops_for_chart.rename(columns={'index':'conferences'})\n",
    "workshops_for_chart\n",
    "#comparison chart \n",
    "work_20_22 = go.Figure()\n",
    "\n",
    "work_20_22.add_trace(go.Bar(name='2020', x=work_20_sum['conferences'], y=work_20_sum['counts'], text=work_20_sum['counts']))\n",
    "work_20_22.add_trace(go.Bar(name='2022', x=workshops_for_chart['conferences'], y=workshops_for_chart['counts'], text=workshops_for_chart['counts']))\n",
    "\n",
    "work_20_22.update_layout(title_x=0.5, title='Workshops attended by the participants', width=500, height=500, font=dict(family='Helvetica', color=\"Black\", size=16))\n",
    "work_20_22.update_xaxes(categoryorder = 'total descending')\n",
    "\n",
    "#image analysis addition for the conferences - 2020\n",
    "\n",
    "ia_20 = pd.read_csv('C:\\\\Users\\\\ssivagur\\\\Documents\\\\2021_Image_analysis_survey_data\\\\Are_there_any_conferences_you_ve_attended_in_the_past_that_you_think_would_particularly_benefit_from_the_addition_expansion_of_image_analysis_offerings.txt')\n",
    "ia_20= ia_20.rename(columns={'0':'ia'})\n",
    "ia_20 = ia_20['ia'].str.lower().str.strip()\n",
    "ia_20 = pd.DataFrame(ia_20)\n",
    "ia_20\n",
    "# Creating a dataframe of unigrams \n",
    "from sklearn.feature_extraction.text import CountVectorizer\n",
    "c_vec = CountVectorizer(stop_words=stoplist, ngram_range=(1,1))\n",
    "# matrix of ngrams\n",
    "ngrams = c_vec.fit_transform(ia_20['ia'])\n",
    "# count frequency of ngrams\n",
    "count_values = ngrams.toarray().sum(axis=0)\n",
    "# list of ngrams\n",
    "vocab = c_vec.vocabulary_\n",
    "ia_unigram = pd.DataFrame(sorted([(count_values[i],k) for k,i in vocab.items()], reverse=True)\n",
    "            ).rename(columns={0: 'frequency', 1:'unigram'})\n",
    "# Creating a dataframe of bigrams \n",
    "from sklearn.feature_extraction.text import CountVectorizer\n",
    "c_vec = CountVectorizer(stop_words=stoplist, ngram_range=(2,2))\n",
    "# matrix of ngrams\n",
    "ngrams = c_vec.fit_transform(ia_20['ia'])\n",
    "# count frequency of ngrams\n",
    "count_values = ngrams.toarray().sum(axis=0)\n",
    "# list of ngrams\n",
    "vocab = c_vec.vocabulary_\n",
    "ia_bigram = pd.DataFrame(sorted([(count_values[i],k) for k,i in vocab.items()], reverse=True)\n",
    "            ).rename(columns={0: 'frequency', 1:'bigram'})\n",
    "# Creating a dataframe of trigrams \n",
    "from sklearn.feature_extraction.text import CountVectorizer\n",
    "c_vec = CountVectorizer(stop_words=stoplist, ngram_range=(3,3))\n",
    "# matrix of ngrams\n",
    "ngrams = c_vec.fit_transform(ia_20['ia'])\n",
    "# count frequency of ngrams\n",
    "count_values = ngrams.toarray().sum(axis=0)\n",
    "# list of ngrams\n",
    "vocab = c_vec.vocabulary_\n",
    "ia_trigram = pd.DataFrame(sorted([(count_values[i],k) for k,i in vocab.items()], reverse=True)\n",
    "            ).rename(columns={0: 'frequency', 1:'trigram'})\n",
    "data_df_20 = [['ASCB', 29], ['ELMI', 7], ['ABRF', 0], ['NEUBIAS', 8], ['MMC', 5], ['Biophysical society', 9], ['Developmental biology conference', 2]]\n",
    "conf_df_20 = pd.DataFrame(data_df_20, columns=['Conferences', 'Counts'])\n",
    "\n",
    "\n",
    "#chart for the conferences that need more image analysis sessions\n",
    "ia_20_22 = go.Figure()\n",
    "\n",
    "ia_20_22.add_trace(go.Bar(name='2020', x=conf_df_20['Conferences'], y=conf_df_20['Counts'], text=conf_df_20['Counts']))\n",
    "ia_20_22.add_trace(go.Bar(name='2022', x=conf_df['Conferences'], y=conf_df['Counts'], text=conf_df['Counts'] ))\n",
    "ia_20_22.update_layout(width=500, height=600, font=dict(family='Helvetica', color=\"Black\", size=16))\n",
    "ia_20_22.update_xaxes(categoryorder='total descending')\n"
   ]
  }
 ],
 "metadata": {
  "kernelspec": {
   "display_name": "base",
   "language": "python",
   "name": "python3"
  },
  "language_info": {
   "codemirror_mode": {
    "name": "ipython",
    "version": 3
   },
   "file_extension": ".py",
   "mimetype": "text/x-python",
   "name": "python",
   "nbconvert_exporter": "python",
   "pygments_lexer": "ipython3",
   "version": "3.9.13"
  },
  "orig_nbformat": 4
 },
 "nbformat": 4,
 "nbformat_minor": 2
}
