{
 "cells": [
  {
   "cell_type": "code",
   "execution_count": 605,
   "metadata": {},
   "outputs": [],
   "source": [
    "#importing the necessary modules\n",
    "import pandas as pd\n",
    "import plotly.express as px\n",
    "import plotly.graph_objects as go\n",
    "import matplotlib.pyplot as plt\n",
    "import numpy as np"
   ]
  },
  {
   "cell_type": "code",
   "execution_count": 606,
   "metadata": {},
   "outputs": [],
   "source": [
    "#reading the data file as dataframe\n",
    "data = pd.read_csv(\"C:\\\\Users\\\\ssivagur\\\\Documents\\\\GitHub\\\\2023_ImageAnalysisSurvey\\\\Bridging Imaging Users to Imaging Analysis - 2022 (Responses) - Form Responses 1_copy.csv\")"
   ]
  },
  {
   "cell_type": "code",
   "execution_count": 879,
   "metadata": {},
   "outputs": [],
   "source": [
    "#Creating a dictionary to rename\n",
    "dict_rename = {\n",
    "    'Which of the following roles best describes you?':'Role', \n",
    "    'Which of the following do you have significant formal training in or experience with? Select all that apply.':'Training', \n",
    "    'Where do you currently primarily work?':'Location', \n",
    "    'How would you describe your work?':'Work description', \n",
    "    'How would you rate your computational skills?':'Level of computational skills', \n",
    "    'How would you rate your comfort in developing new computational skills?':'Comfort in developing computational skills', \n",
    "    'How do you generally go about solving an image analysis problem? Check the approach(es) you use the most.':'Approach to solutions', \n",
    "    'How frequently do you use scripting to solve image analysis problems?':'Frequency of script usage', \n",
    "    'In regards to learning more about image analysis, how preferable do you find each of these instructional methods? [Scholarly \"best practices\" article]':'Preferable instructional methods articles',\n",
    "    'In regards to learning more about image analysis, how preferable do you find each of these instructional methods? [Written step-by-step tutorial]':'Preferable instructional methods written tutorials',\n",
    "    'In regards to learning more about image analysis, how preferable do you find each of these instructional methods? [Video tutorial]':'Preferable instructional methods Video tutorial',\n",
    "    'In regards to learning more about image analysis, how preferable do you find each of these instructional methods? [Interactive webinar]':'Preferable instructional methods Interactive webinar',\n",
    "    'In regards to learning more about image analysis, how preferable do you find each of these instructional methods? [One-on-one \"office hours\" with an expert]':'Preferable instructional methods Office hours',\n",
    "    'In regards to learning more about image analysis, how preferable do you find each of these instructional methods? [In person seminar/tutorial lasting <1 day]':'Preferable instructional methods Seminar 1day',\n",
    "    'In regards to learning more about image analysis, how preferable do you find each of these instructional methods? [Multiday workshop]':'Preferable instructional methods Multiday workshop',\n",
    "    'How interested are you in learning more about the following topics? [Image analysis theory]':'Interes in topics Image analysis theory',\n",
    "    'How interested are you in learning more about the following topics? [General image analysis practices]':'Interest in topics Image analysis practices',\n",
    "    'How interested are you in learning more about the following topics? [Image analysis practices related to my (sub) discipline]':'Interest in topics related to sub discipline',\n",
    "    'How interested are you in learning more about the following topics? [Learning to use a particular software tool]':'Interest in topics Specific software tool',\n",
    "    'How interested are you in learning more about the following topics? [Deep learning as applied to image analysis]':'Interest in topics Deep learning for image analysis',\n",
    "    'How interested are you in learning more about the following topics? [Analyzing large images/large numbers of images]':'Interest in topics Analyzing large images',\n",
    "    'How interested are you in learning more about the following topics? [Visualizing image analysis results]':'Interest in topics Visualization of results',\n",
    "    'The next question will ask you about particular image analysis tools and techniques. Do you want to answer questions about microscopy in the field/area of life sciences or physical sciences?':'Microscopy for life sciences physical sciences',\n",
    "    'What image analysis tools have you used before? (check all that apply)':'usage of image analysis tools',\n",
    "    'What image analysis tools do you use the most?':'Most used image analysis tools',\n",
    "    'What kinds of images do you commonly want to analyze (select all that apply?* [Brightfield/DIC/phase-contrast of cells or organisms from manually selected fields]':'Types of images analyzed Brightfield/DIC/phase-contrast manually acquired',\n",
    "    'What kinds of images do you commonly want to analyze (select all that apply?* [Brightfield/DIC/phase-contrast of cells or organisms from an automated microscope (such as a high content imager)]':'Types of images analyzed Brightfield/DIC/phase-contrast automated',\n",
    "    'What kinds of images do you commonly want to analyze (select all that apply?* [Fluorescent images of cells/organisms from manually selected fields]':'Types of images analyzed-Fluorescent images manually acquired',\n",
    "    'What kinds of images do you commonly want to analyze (select all that apply?* [Fluorescent images of cells/organisms from an automated microscope (such as a high content imager)]':'Types of images analyzed automated',\n",
    "    'What kinds of images do you commonly want to analyze (select all that apply?* [Histologically stained tissue sections]':'Types of images analyzed-Histological tissue sections',\n",
    "    'What kinds of images do you commonly want to analyze (select all that apply?* [Electron microscopy]':'Types of images analyzed-Electro microscopy',\n",
    "    'What kinds of images do you commonly want to analyze (select all that apply?* [Imaging mass spectrometry]':'Types of images analyzed-Imaging mass spectrometry',\n",
    "    'What kinds of images do you commonly want to analyze (select all that apply?* [Imaging flow cytometry]':'Types of images analyzed-Imaging flow cytometry',\n",
    "    'What kinds of images do you commonly want to analyze (select all that apply?* [Superresolution (PALM/STORM)]':'Types of images analyzed-Superresolution (PALM/STORM)',\n",
    "    'What kinds of images do you commonly want to analyze (select all that apply?* [Autofluorescence imaging (ie FLIM)]':'Types of images analyzed-Autofluorescence imaging (ie FLIM)',\n",
    "    'What kinds of images do you commonly want to analyze (select all that apply?* [Other]':'Types of images analyzed-Other',\n",
    "    'What image analysis problems (i.e. finding nuclei, tissue analysis, analysis of super-resolution data, etc) do you think are generally well-solved?':'Well solved image analysis problems',\n",
    "    'What image analysis problems (i.e. finding nuclei, tissue analysis, analysis of super-resolution data, etc) do you wish had easier/better solutions?':'Image analysis problems which needs better solutions',\n",
    "    'What image analysis tools have you used before? (check all that apply)':'Commonly used image analysis tools',\n",
    "    'What image analysis tools do you use the most?':'Most used image analysis tools_physical sciences',\n",
    "    'What kinds of images do you commonly want to analyze (select all that apply)? [Optical microscopy/DIC/fractography]':'Types of images analyzed-Optical microscopy/DIC/fractography',\n",
    "    'What kinds of images do you commonly want to analyze (select all that apply)? [Scanning electron microscopy (secondary electron or back scattered imaging)]':'Types of images analyzed-Scanning electron microscopy',\n",
    "    'What kinds of images do you commonly want to analyze (select all that apply)? [Transmission electron microscopy (including electron diffraction and STEM imaging, e.g. HAADF-STEM)]':'Types of images analyzed-Transmission electron microscopy',\n",
    "    'What kinds of images do you commonly want to analyze (select all that apply)? [Spectroscopy/diffractive imaging in the SEM/TEM (eg. EDS, EBSD, EELS, CL)]':'Types of images analyzed-Spectroscopy/diffractive imaging in the SEM/TEM',\n",
    "    'What kinds of images do you commonly want to analyze (select all that apply)? [Imaging with mass spectrometry (eg SIMS/APT)]':'Types of images analyzed-Imaging with mass spectrometry',\n",
    "    'What kinds of images do you commonly want to analyze (select all that apply)? [X-ray microscopy (including tomography)]':'Types of images analyzed-X-ray microscopy',\n",
    "    'What kinds of images do you commonly want to analyze (select all that apply)? [FM imaging, force spectroscopy, single molecule force spectroscopy]':'Types of images analyzed-FM imaging force spectroscopy single molecule force spectroscopy',\n",
    "    'What kinds of images do you commonly want to analyze (select all that apply)? [Fluorescence microscopy]':'Types of images analyzed-Fluorescence microscopy',\n",
    "    'What kinds of images do you commonly want to analyze (select all that apply)? [Other]':'Types of images analyzed Other',\n",
    "    'What image analysis problems (i.e. segmenting particles, 3D reconstruction, spectroscopic analysis, extracting force/mechanical property measurements, etc) do you think are generally well-solved?':'Well solved image analysis problems-physical sciences',\n",
    "    'What image analysis problems (i.e. segmenting particles, 3D reconstruction, spectroscopic analysis, extracting force/mechanical property measurements, etc) do you wish had easier/better solutions?':'Image analysis problems which needs better solutions physical sciences',\n",
    "    'Where did you hear about this survey? Please select all that apply.':'hear about this survey',\n",
    "    'Please select any of the following you have attended in the past':'Previous experience',\n",
    "    'Are there any image analysis workshops, tutorials, or conferences you are aware of and attended or considered attending? If so, how many?':'Number of conferences/workshops attended',\n",
    "    'How would you most prefer to be notified about image analysis workshops, sessions, or conferences being planned?':'Notification of image analysis workshop',\n",
    "    'Are there any image analysis workshops, tutorials, or conferences that you have participated in and found particularly helpful?  If yes, what made them beneficial?':'Experience with previous workshops/conferences',\n",
    "    'Are there any conferences you\\'ve attended in the past that you think would particularly benefit from the addition/expansion of image analysis offerings?':'Recommended conferences/workshops',\n",
    "    'What specific topics (i.e. overviews of a particular tool, comparisons between pieces of software, or how to use a certain tool for a certain kind of experiment) would you like to see prioritized for future image analysis workshop and tutorial offerings?':'Topics of interest',\n",
    "    'What do you think analysis tool CREATORS (such as software developers) could/should do to make image analysis better and more successful? How best could we encourage them to do it?':'Creators role',\n",
    "    'What do you think analysis tool USERS (such as microscopists) could/should do to make image analysis better and more successful?  How best could we encourage them to do it?':'Users role',\n",
    "    'Any other thoughts?':'Other thoughts',\n",
    "    'Would you be interested in subscribing to a mailing list (announcing workshops, new tools, collaboration opportunities, etc) for EITHER the Center for Open Bioimage Analysis OR Bioimaging North America OR the Royal Microscopical society? If yes, you will be taken to a page to subscribe, if not this form will submit.':'Subscription'\n",
    "    }"
   ]
  },
  {
   "cell_type": "code",
   "execution_count": 880,
   "metadata": {},
   "outputs": [],
   "source": [
    "#renaming the columbs of the dictionary\n",
    "data.rename(columns=dict_rename, inplace=True)"
   ]
  },
  {
   "cell_type": "code",
   "execution_count": 609,
   "metadata": {},
   "outputs": [
    {
     "data": {
      "application/vnd.plotly.v1+json": {
       "config": {
        "plotlyServerURL": "https://plot.ly"
       },
       "data": [
        {
         "domain": {
          "x": [
           0,
           1
          ],
          "y": [
           0,
           1
          ]
         },
         "hovertemplate": "label=%{label}<br>value=%{value}<extra></extra>",
         "insidetextorientation": "radial",
         "labels": [
          "Undergraduate/Graduate student",
          "Facility staff",
          "Postdoctoral fellow",
          "Research scientist",
          "Principal investigator",
          "Facility director",
          "Image/data analyst",
          "Clinician"
         ],
         "legendgroup": "",
         "name": "",
         "showlegend": true,
         "type": "pie",
         "values": [
          105,
          82,
          72,
          70,
          66,
          53,
          39,
          6
         ]
        }
       ],
       "layout": {
        "height": 500,
        "legend": {
         "tracegroupgap": 0
        },
        "template": {
         "data": {
          "bar": [
           {
            "error_x": {
             "color": "#2a3f5f"
            },
            "error_y": {
             "color": "#2a3f5f"
            },
            "marker": {
             "line": {
              "color": "#E5ECF6",
              "width": 0.5
             },
             "pattern": {
              "fillmode": "overlay",
              "size": 10,
              "solidity": 0.2
             }
            },
            "type": "bar"
           }
          ],
          "barpolar": [
           {
            "marker": {
             "line": {
              "color": "#E5ECF6",
              "width": 0.5
             },
             "pattern": {
              "fillmode": "overlay",
              "size": 10,
              "solidity": 0.2
             }
            },
            "type": "barpolar"
           }
          ],
          "carpet": [
           {
            "aaxis": {
             "endlinecolor": "#2a3f5f",
             "gridcolor": "white",
             "linecolor": "white",
             "minorgridcolor": "white",
             "startlinecolor": "#2a3f5f"
            },
            "baxis": {
             "endlinecolor": "#2a3f5f",
             "gridcolor": "white",
             "linecolor": "white",
             "minorgridcolor": "white",
             "startlinecolor": "#2a3f5f"
            },
            "type": "carpet"
           }
          ],
          "choropleth": [
           {
            "colorbar": {
             "outlinewidth": 0,
             "ticks": ""
            },
            "type": "choropleth"
           }
          ],
          "contour": [
           {
            "colorbar": {
             "outlinewidth": 0,
             "ticks": ""
            },
            "colorscale": [
             [
              0,
              "#0d0887"
             ],
             [
              0.1111111111111111,
              "#46039f"
             ],
             [
              0.2222222222222222,
              "#7201a8"
             ],
             [
              0.3333333333333333,
              "#9c179e"
             ],
             [
              0.4444444444444444,
              "#bd3786"
             ],
             [
              0.5555555555555556,
              "#d8576b"
             ],
             [
              0.6666666666666666,
              "#ed7953"
             ],
             [
              0.7777777777777778,
              "#fb9f3a"
             ],
             [
              0.8888888888888888,
              "#fdca26"
             ],
             [
              1,
              "#f0f921"
             ]
            ],
            "type": "contour"
           }
          ],
          "contourcarpet": [
           {
            "colorbar": {
             "outlinewidth": 0,
             "ticks": ""
            },
            "type": "contourcarpet"
           }
          ],
          "heatmap": [
           {
            "colorbar": {
             "outlinewidth": 0,
             "ticks": ""
            },
            "colorscale": [
             [
              0,
              "#0d0887"
             ],
             [
              0.1111111111111111,
              "#46039f"
             ],
             [
              0.2222222222222222,
              "#7201a8"
             ],
             [
              0.3333333333333333,
              "#9c179e"
             ],
             [
              0.4444444444444444,
              "#bd3786"
             ],
             [
              0.5555555555555556,
              "#d8576b"
             ],
             [
              0.6666666666666666,
              "#ed7953"
             ],
             [
              0.7777777777777778,
              "#fb9f3a"
             ],
             [
              0.8888888888888888,
              "#fdca26"
             ],
             [
              1,
              "#f0f921"
             ]
            ],
            "type": "heatmap"
           }
          ],
          "heatmapgl": [
           {
            "colorbar": {
             "outlinewidth": 0,
             "ticks": ""
            },
            "colorscale": [
             [
              0,
              "#0d0887"
             ],
             [
              0.1111111111111111,
              "#46039f"
             ],
             [
              0.2222222222222222,
              "#7201a8"
             ],
             [
              0.3333333333333333,
              "#9c179e"
             ],
             [
              0.4444444444444444,
              "#bd3786"
             ],
             [
              0.5555555555555556,
              "#d8576b"
             ],
             [
              0.6666666666666666,
              "#ed7953"
             ],
             [
              0.7777777777777778,
              "#fb9f3a"
             ],
             [
              0.8888888888888888,
              "#fdca26"
             ],
             [
              1,
              "#f0f921"
             ]
            ],
            "type": "heatmapgl"
           }
          ],
          "histogram": [
           {
            "marker": {
             "pattern": {
              "fillmode": "overlay",
              "size": 10,
              "solidity": 0.2
             }
            },
            "type": "histogram"
           }
          ],
          "histogram2d": [
           {
            "colorbar": {
             "outlinewidth": 0,
             "ticks": ""
            },
            "colorscale": [
             [
              0,
              "#0d0887"
             ],
             [
              0.1111111111111111,
              "#46039f"
             ],
             [
              0.2222222222222222,
              "#7201a8"
             ],
             [
              0.3333333333333333,
              "#9c179e"
             ],
             [
              0.4444444444444444,
              "#bd3786"
             ],
             [
              0.5555555555555556,
              "#d8576b"
             ],
             [
              0.6666666666666666,
              "#ed7953"
             ],
             [
              0.7777777777777778,
              "#fb9f3a"
             ],
             [
              0.8888888888888888,
              "#fdca26"
             ],
             [
              1,
              "#f0f921"
             ]
            ],
            "type": "histogram2d"
           }
          ],
          "histogram2dcontour": [
           {
            "colorbar": {
             "outlinewidth": 0,
             "ticks": ""
            },
            "colorscale": [
             [
              0,
              "#0d0887"
             ],
             [
              0.1111111111111111,
              "#46039f"
             ],
             [
              0.2222222222222222,
              "#7201a8"
             ],
             [
              0.3333333333333333,
              "#9c179e"
             ],
             [
              0.4444444444444444,
              "#bd3786"
             ],
             [
              0.5555555555555556,
              "#d8576b"
             ],
             [
              0.6666666666666666,
              "#ed7953"
             ],
             [
              0.7777777777777778,
              "#fb9f3a"
             ],
             [
              0.8888888888888888,
              "#fdca26"
             ],
             [
              1,
              "#f0f921"
             ]
            ],
            "type": "histogram2dcontour"
           }
          ],
          "mesh3d": [
           {
            "colorbar": {
             "outlinewidth": 0,
             "ticks": ""
            },
            "type": "mesh3d"
           }
          ],
          "parcoords": [
           {
            "line": {
             "colorbar": {
              "outlinewidth": 0,
              "ticks": ""
             }
            },
            "type": "parcoords"
           }
          ],
          "pie": [
           {
            "automargin": true,
            "type": "pie"
           }
          ],
          "scatter": [
           {
            "fillpattern": {
             "fillmode": "overlay",
             "size": 10,
             "solidity": 0.2
            },
            "type": "scatter"
           }
          ],
          "scatter3d": [
           {
            "line": {
             "colorbar": {
              "outlinewidth": 0,
              "ticks": ""
             }
            },
            "marker": {
             "colorbar": {
              "outlinewidth": 0,
              "ticks": ""
             }
            },
            "type": "scatter3d"
           }
          ],
          "scattercarpet": [
           {
            "marker": {
             "colorbar": {
              "outlinewidth": 0,
              "ticks": ""
             }
            },
            "type": "scattercarpet"
           }
          ],
          "scattergeo": [
           {
            "marker": {
             "colorbar": {
              "outlinewidth": 0,
              "ticks": ""
             }
            },
            "type": "scattergeo"
           }
          ],
          "scattergl": [
           {
            "marker": {
             "colorbar": {
              "outlinewidth": 0,
              "ticks": ""
             }
            },
            "type": "scattergl"
           }
          ],
          "scattermapbox": [
           {
            "marker": {
             "colorbar": {
              "outlinewidth": 0,
              "ticks": ""
             }
            },
            "type": "scattermapbox"
           }
          ],
          "scatterpolar": [
           {
            "marker": {
             "colorbar": {
              "outlinewidth": 0,
              "ticks": ""
             }
            },
            "type": "scatterpolar"
           }
          ],
          "scatterpolargl": [
           {
            "marker": {
             "colorbar": {
              "outlinewidth": 0,
              "ticks": ""
             }
            },
            "type": "scatterpolargl"
           }
          ],
          "scatterternary": [
           {
            "marker": {
             "colorbar": {
              "outlinewidth": 0,
              "ticks": ""
             }
            },
            "type": "scatterternary"
           }
          ],
          "surface": [
           {
            "colorbar": {
             "outlinewidth": 0,
             "ticks": ""
            },
            "colorscale": [
             [
              0,
              "#0d0887"
             ],
             [
              0.1111111111111111,
              "#46039f"
             ],
             [
              0.2222222222222222,
              "#7201a8"
             ],
             [
              0.3333333333333333,
              "#9c179e"
             ],
             [
              0.4444444444444444,
              "#bd3786"
             ],
             [
              0.5555555555555556,
              "#d8576b"
             ],
             [
              0.6666666666666666,
              "#ed7953"
             ],
             [
              0.7777777777777778,
              "#fb9f3a"
             ],
             [
              0.8888888888888888,
              "#fdca26"
             ],
             [
              1,
              "#f0f921"
             ]
            ],
            "type": "surface"
           }
          ],
          "table": [
           {
            "cells": {
             "fill": {
              "color": "#EBF0F8"
             },
             "line": {
              "color": "white"
             }
            },
            "header": {
             "fill": {
              "color": "#C8D4E3"
             },
             "line": {
              "color": "white"
             }
            },
            "type": "table"
           }
          ]
         },
         "layout": {
          "annotationdefaults": {
           "arrowcolor": "#2a3f5f",
           "arrowhead": 0,
           "arrowwidth": 1
          },
          "autotypenumbers": "strict",
          "coloraxis": {
           "colorbar": {
            "outlinewidth": 0,
            "ticks": ""
           }
          },
          "colorscale": {
           "diverging": [
            [
             0,
             "#8e0152"
            ],
            [
             0.1,
             "#c51b7d"
            ],
            [
             0.2,
             "#de77ae"
            ],
            [
             0.3,
             "#f1b6da"
            ],
            [
             0.4,
             "#fde0ef"
            ],
            [
             0.5,
             "#f7f7f7"
            ],
            [
             0.6,
             "#e6f5d0"
            ],
            [
             0.7,
             "#b8e186"
            ],
            [
             0.8,
             "#7fbc41"
            ],
            [
             0.9,
             "#4d9221"
            ],
            [
             1,
             "#276419"
            ]
           ],
           "sequential": [
            [
             0,
             "#0d0887"
            ],
            [
             0.1111111111111111,
             "#46039f"
            ],
            [
             0.2222222222222222,
             "#7201a8"
            ],
            [
             0.3333333333333333,
             "#9c179e"
            ],
            [
             0.4444444444444444,
             "#bd3786"
            ],
            [
             0.5555555555555556,
             "#d8576b"
            ],
            [
             0.6666666666666666,
             "#ed7953"
            ],
            [
             0.7777777777777778,
             "#fb9f3a"
            ],
            [
             0.8888888888888888,
             "#fdca26"
            ],
            [
             1,
             "#f0f921"
            ]
           ],
           "sequentialminus": [
            [
             0,
             "#0d0887"
            ],
            [
             0.1111111111111111,
             "#46039f"
            ],
            [
             0.2222222222222222,
             "#7201a8"
            ],
            [
             0.3333333333333333,
             "#9c179e"
            ],
            [
             0.4444444444444444,
             "#bd3786"
            ],
            [
             0.5555555555555556,
             "#d8576b"
            ],
            [
             0.6666666666666666,
             "#ed7953"
            ],
            [
             0.7777777777777778,
             "#fb9f3a"
            ],
            [
             0.8888888888888888,
             "#fdca26"
            ],
            [
             1,
             "#f0f921"
            ]
           ]
          },
          "colorway": [
           "#636efa",
           "#EF553B",
           "#00cc96",
           "#ab63fa",
           "#FFA15A",
           "#19d3f3",
           "#FF6692",
           "#B6E880",
           "#FF97FF",
           "#FECB52"
          ],
          "font": {
           "color": "#2a3f5f"
          },
          "geo": {
           "bgcolor": "white",
           "lakecolor": "white",
           "landcolor": "#E5ECF6",
           "showlakes": true,
           "showland": true,
           "subunitcolor": "white"
          },
          "hoverlabel": {
           "align": "left"
          },
          "hovermode": "closest",
          "mapbox": {
           "style": "light"
          },
          "paper_bgcolor": "white",
          "plot_bgcolor": "#E5ECF6",
          "polar": {
           "angularaxis": {
            "gridcolor": "white",
            "linecolor": "white",
            "ticks": ""
           },
           "bgcolor": "#E5ECF6",
           "radialaxis": {
            "gridcolor": "white",
            "linecolor": "white",
            "ticks": ""
           }
          },
          "scene": {
           "xaxis": {
            "backgroundcolor": "#E5ECF6",
            "gridcolor": "white",
            "gridwidth": 2,
            "linecolor": "white",
            "showbackground": true,
            "ticks": "",
            "zerolinecolor": "white"
           },
           "yaxis": {
            "backgroundcolor": "#E5ECF6",
            "gridcolor": "white",
            "gridwidth": 2,
            "linecolor": "white",
            "showbackground": true,
            "ticks": "",
            "zerolinecolor": "white"
           },
           "zaxis": {
            "backgroundcolor": "#E5ECF6",
            "gridcolor": "white",
            "gridwidth": 2,
            "linecolor": "white",
            "showbackground": true,
            "ticks": "",
            "zerolinecolor": "white"
           }
          },
          "shapedefaults": {
           "line": {
            "color": "#2a3f5f"
           }
          },
          "ternary": {
           "aaxis": {
            "gridcolor": "white",
            "linecolor": "white",
            "ticks": ""
           },
           "baxis": {
            "gridcolor": "white",
            "linecolor": "white",
            "ticks": ""
           },
           "bgcolor": "#E5ECF6",
           "caxis": {
            "gridcolor": "white",
            "linecolor": "white",
            "ticks": ""
           }
          },
          "title": {
           "x": 0.05
          },
          "xaxis": {
           "automargin": true,
           "gridcolor": "white",
           "linecolor": "white",
           "ticks": "",
           "title": {
            "standoff": 15
           },
           "zerolinecolor": "white",
           "zerolinewidth": 2
          },
          "yaxis": {
           "automargin": true,
           "gridcolor": "white",
           "linecolor": "white",
           "ticks": "",
           "title": {
            "standoff": 15
           },
           "zerolinecolor": "white",
           "zerolinewidth": 2
          }
         }
        },
        "title": {
         "text": "Roles of image analysis users",
         "x": 0.5
        },
        "width": 800
       }
      }
     },
     "metadata": {},
     "output_type": "display_data"
    }
   ],
   "source": [
    "# pie chart for the roles of the survey participants \n",
    "role_pie_chart = px.pie(data, values=data.Role.value_counts(), names=data.Role.value_counts().index, title=\"Roles of image analysis users\", width=800, height=500)\n",
    "role_pie_chart.update_traces(insidetextorientation = 'radial')\n",
    "role_pie_chart.update_layout(title_x=0.5)"
   ]
  },
  {
   "cell_type": "code",
   "execution_count": 610,
   "metadata": {},
   "outputs": [],
   "source": [
    "demographics = data[\"Location\"]"
   ]
  },
  {
   "cell_type": "code",
   "execution_count": 611,
   "metadata": {},
   "outputs": [
    {
     "data": {
      "application/vnd.plotly.v1+json": {
       "config": {
        "plotlyServerURL": "https://plot.ly"
       },
       "data": [
        {
         "geo": "geo",
         "hovertemplate": "Continent=Europe<br>size=%{marker.size}<br>locations=%{location}<extra></extra>",
         "legendgroup": "Europe",
         "locations": [
          "AUT"
         ],
         "marker": {
          "color": "#636efa",
          "size": [
           230
          ],
          "sizemode": "area",
          "sizeref": 0.575,
          "symbol": "circle"
         },
         "mode": "markers",
         "name": "Europe",
         "showlegend": true,
         "type": "scattergeo"
        },
        {
         "geo": "geo",
         "hovertemplate": "Continent=North America<br>size=%{marker.size}<br>locations=%{location}<extra></extra>",
         "legendgroup": "North America",
         "locations": [
          "USA"
         ],
         "marker": {
          "color": "#EF553B",
          "size": [
           213
          ],
          "sizemode": "area",
          "sizeref": 0.575,
          "symbol": "circle"
         },
         "mode": "markers",
         "name": "North America",
         "showlegend": true,
         "type": "scattergeo"
        },
        {
         "geo": "geo",
         "hovertemplate": "Continent=Asia<br>size=%{marker.size}<br>locations=%{location}<extra></extra>",
         "legendgroup": "Asia",
         "locations": [
          "KGZ"
         ],
         "marker": {
          "color": "#00cc96",
          "size": [
           28
          ],
          "sizemode": "area",
          "sizeref": 0.575,
          "symbol": "circle"
         },
         "mode": "markers",
         "name": "Asia",
         "showlegend": true,
         "type": "scattergeo"
        },
        {
         "geo": "geo",
         "hovertemplate": "Continent=South America<br>size=%{marker.size}<br>locations=%{location}<extra></extra>",
         "legendgroup": "South America",
         "locations": [
          "BRA"
         ],
         "marker": {
          "color": "#ab63fa",
          "size": [
           13
          ],
          "sizemode": "area",
          "sizeref": 0.575,
          "symbol": "circle"
         },
         "mode": "markers",
         "name": "South America",
         "showlegend": true,
         "type": "scattergeo"
        },
        {
         "geo": "geo",
         "hovertemplate": "Continent=Australia<br>size=%{marker.size}<br>locations=%{location}<extra></extra>",
         "legendgroup": "Australia",
         "locations": [
          "AUS"
         ],
         "marker": {
          "color": "#FFA15A",
          "size": [
           8
          ],
          "sizemode": "area",
          "sizeref": 0.575,
          "symbol": "circle"
         },
         "mode": "markers",
         "name": "Australia",
         "showlegend": true,
         "type": "scattergeo"
        },
        {
         "geo": "geo",
         "hovertemplate": "Continent=Africa<br>size=%{marker.size}<br>locations=%{location}<extra></extra>",
         "legendgroup": "Africa",
         "locations": [
          "TCD"
         ],
         "marker": {
          "color": "#19d3f3",
          "size": [
           1
          ],
          "sizemode": "area",
          "sizeref": 0.575,
          "symbol": "circle"
         },
         "mode": "markers",
         "name": "Africa",
         "showlegend": true,
         "type": "scattergeo"
        }
       ],
       "layout": {
        "geo": {
         "center": {},
         "domain": {
          "x": [
           0,
           1
          ],
          "y": [
           0,
           1
          ]
         },
         "projection": {
          "type": "natural earth"
         }
        },
        "height": 500,
        "legend": {
         "itemsizing": "constant",
         "title": {
          "text": "Continent"
         },
         "tracegroupgap": 0
        },
        "template": {
         "data": {
          "bar": [
           {
            "error_x": {
             "color": "#2a3f5f"
            },
            "error_y": {
             "color": "#2a3f5f"
            },
            "marker": {
             "line": {
              "color": "#E5ECF6",
              "width": 0.5
             },
             "pattern": {
              "fillmode": "overlay",
              "size": 10,
              "solidity": 0.2
             }
            },
            "type": "bar"
           }
          ],
          "barpolar": [
           {
            "marker": {
             "line": {
              "color": "#E5ECF6",
              "width": 0.5
             },
             "pattern": {
              "fillmode": "overlay",
              "size": 10,
              "solidity": 0.2
             }
            },
            "type": "barpolar"
           }
          ],
          "carpet": [
           {
            "aaxis": {
             "endlinecolor": "#2a3f5f",
             "gridcolor": "white",
             "linecolor": "white",
             "minorgridcolor": "white",
             "startlinecolor": "#2a3f5f"
            },
            "baxis": {
             "endlinecolor": "#2a3f5f",
             "gridcolor": "white",
             "linecolor": "white",
             "minorgridcolor": "white",
             "startlinecolor": "#2a3f5f"
            },
            "type": "carpet"
           }
          ],
          "choropleth": [
           {
            "colorbar": {
             "outlinewidth": 0,
             "ticks": ""
            },
            "type": "choropleth"
           }
          ],
          "contour": [
           {
            "colorbar": {
             "outlinewidth": 0,
             "ticks": ""
            },
            "colorscale": [
             [
              0,
              "#0d0887"
             ],
             [
              0.1111111111111111,
              "#46039f"
             ],
             [
              0.2222222222222222,
              "#7201a8"
             ],
             [
              0.3333333333333333,
              "#9c179e"
             ],
             [
              0.4444444444444444,
              "#bd3786"
             ],
             [
              0.5555555555555556,
              "#d8576b"
             ],
             [
              0.6666666666666666,
              "#ed7953"
             ],
             [
              0.7777777777777778,
              "#fb9f3a"
             ],
             [
              0.8888888888888888,
              "#fdca26"
             ],
             [
              1,
              "#f0f921"
             ]
            ],
            "type": "contour"
           }
          ],
          "contourcarpet": [
           {
            "colorbar": {
             "outlinewidth": 0,
             "ticks": ""
            },
            "type": "contourcarpet"
           }
          ],
          "heatmap": [
           {
            "colorbar": {
             "outlinewidth": 0,
             "ticks": ""
            },
            "colorscale": [
             [
              0,
              "#0d0887"
             ],
             [
              0.1111111111111111,
              "#46039f"
             ],
             [
              0.2222222222222222,
              "#7201a8"
             ],
             [
              0.3333333333333333,
              "#9c179e"
             ],
             [
              0.4444444444444444,
              "#bd3786"
             ],
             [
              0.5555555555555556,
              "#d8576b"
             ],
             [
              0.6666666666666666,
              "#ed7953"
             ],
             [
              0.7777777777777778,
              "#fb9f3a"
             ],
             [
              0.8888888888888888,
              "#fdca26"
             ],
             [
              1,
              "#f0f921"
             ]
            ],
            "type": "heatmap"
           }
          ],
          "heatmapgl": [
           {
            "colorbar": {
             "outlinewidth": 0,
             "ticks": ""
            },
            "colorscale": [
             [
              0,
              "#0d0887"
             ],
             [
              0.1111111111111111,
              "#46039f"
             ],
             [
              0.2222222222222222,
              "#7201a8"
             ],
             [
              0.3333333333333333,
              "#9c179e"
             ],
             [
              0.4444444444444444,
              "#bd3786"
             ],
             [
              0.5555555555555556,
              "#d8576b"
             ],
             [
              0.6666666666666666,
              "#ed7953"
             ],
             [
              0.7777777777777778,
              "#fb9f3a"
             ],
             [
              0.8888888888888888,
              "#fdca26"
             ],
             [
              1,
              "#f0f921"
             ]
            ],
            "type": "heatmapgl"
           }
          ],
          "histogram": [
           {
            "marker": {
             "pattern": {
              "fillmode": "overlay",
              "size": 10,
              "solidity": 0.2
             }
            },
            "type": "histogram"
           }
          ],
          "histogram2d": [
           {
            "colorbar": {
             "outlinewidth": 0,
             "ticks": ""
            },
            "colorscale": [
             [
              0,
              "#0d0887"
             ],
             [
              0.1111111111111111,
              "#46039f"
             ],
             [
              0.2222222222222222,
              "#7201a8"
             ],
             [
              0.3333333333333333,
              "#9c179e"
             ],
             [
              0.4444444444444444,
              "#bd3786"
             ],
             [
              0.5555555555555556,
              "#d8576b"
             ],
             [
              0.6666666666666666,
              "#ed7953"
             ],
             [
              0.7777777777777778,
              "#fb9f3a"
             ],
             [
              0.8888888888888888,
              "#fdca26"
             ],
             [
              1,
              "#f0f921"
             ]
            ],
            "type": "histogram2d"
           }
          ],
          "histogram2dcontour": [
           {
            "colorbar": {
             "outlinewidth": 0,
             "ticks": ""
            },
            "colorscale": [
             [
              0,
              "#0d0887"
             ],
             [
              0.1111111111111111,
              "#46039f"
             ],
             [
              0.2222222222222222,
              "#7201a8"
             ],
             [
              0.3333333333333333,
              "#9c179e"
             ],
             [
              0.4444444444444444,
              "#bd3786"
             ],
             [
              0.5555555555555556,
              "#d8576b"
             ],
             [
              0.6666666666666666,
              "#ed7953"
             ],
             [
              0.7777777777777778,
              "#fb9f3a"
             ],
             [
              0.8888888888888888,
              "#fdca26"
             ],
             [
              1,
              "#f0f921"
             ]
            ],
            "type": "histogram2dcontour"
           }
          ],
          "mesh3d": [
           {
            "colorbar": {
             "outlinewidth": 0,
             "ticks": ""
            },
            "type": "mesh3d"
           }
          ],
          "parcoords": [
           {
            "line": {
             "colorbar": {
              "outlinewidth": 0,
              "ticks": ""
             }
            },
            "type": "parcoords"
           }
          ],
          "pie": [
           {
            "automargin": true,
            "type": "pie"
           }
          ],
          "scatter": [
           {
            "fillpattern": {
             "fillmode": "overlay",
             "size": 10,
             "solidity": 0.2
            },
            "type": "scatter"
           }
          ],
          "scatter3d": [
           {
            "line": {
             "colorbar": {
              "outlinewidth": 0,
              "ticks": ""
             }
            },
            "marker": {
             "colorbar": {
              "outlinewidth": 0,
              "ticks": ""
             }
            },
            "type": "scatter3d"
           }
          ],
          "scattercarpet": [
           {
            "marker": {
             "colorbar": {
              "outlinewidth": 0,
              "ticks": ""
             }
            },
            "type": "scattercarpet"
           }
          ],
          "scattergeo": [
           {
            "marker": {
             "colorbar": {
              "outlinewidth": 0,
              "ticks": ""
             }
            },
            "type": "scattergeo"
           }
          ],
          "scattergl": [
           {
            "marker": {
             "colorbar": {
              "outlinewidth": 0,
              "ticks": ""
             }
            },
            "type": "scattergl"
           }
          ],
          "scattermapbox": [
           {
            "marker": {
             "colorbar": {
              "outlinewidth": 0,
              "ticks": ""
             }
            },
            "type": "scattermapbox"
           }
          ],
          "scatterpolar": [
           {
            "marker": {
             "colorbar": {
              "outlinewidth": 0,
              "ticks": ""
             }
            },
            "type": "scatterpolar"
           }
          ],
          "scatterpolargl": [
           {
            "marker": {
             "colorbar": {
              "outlinewidth": 0,
              "ticks": ""
             }
            },
            "type": "scatterpolargl"
           }
          ],
          "scatterternary": [
           {
            "marker": {
             "colorbar": {
              "outlinewidth": 0,
              "ticks": ""
             }
            },
            "type": "scatterternary"
           }
          ],
          "surface": [
           {
            "colorbar": {
             "outlinewidth": 0,
             "ticks": ""
            },
            "colorscale": [
             [
              0,
              "#0d0887"
             ],
             [
              0.1111111111111111,
              "#46039f"
             ],
             [
              0.2222222222222222,
              "#7201a8"
             ],
             [
              0.3333333333333333,
              "#9c179e"
             ],
             [
              0.4444444444444444,
              "#bd3786"
             ],
             [
              0.5555555555555556,
              "#d8576b"
             ],
             [
              0.6666666666666666,
              "#ed7953"
             ],
             [
              0.7777777777777778,
              "#fb9f3a"
             ],
             [
              0.8888888888888888,
              "#fdca26"
             ],
             [
              1,
              "#f0f921"
             ]
            ],
            "type": "surface"
           }
          ],
          "table": [
           {
            "cells": {
             "fill": {
              "color": "#EBF0F8"
             },
             "line": {
              "color": "white"
             }
            },
            "header": {
             "fill": {
              "color": "#C8D4E3"
             },
             "line": {
              "color": "white"
             }
            },
            "type": "table"
           }
          ]
         },
         "layout": {
          "annotationdefaults": {
           "arrowcolor": "#2a3f5f",
           "arrowhead": 0,
           "arrowwidth": 1
          },
          "autotypenumbers": "strict",
          "coloraxis": {
           "colorbar": {
            "outlinewidth": 0,
            "ticks": ""
           }
          },
          "colorscale": {
           "diverging": [
            [
             0,
             "#8e0152"
            ],
            [
             0.1,
             "#c51b7d"
            ],
            [
             0.2,
             "#de77ae"
            ],
            [
             0.3,
             "#f1b6da"
            ],
            [
             0.4,
             "#fde0ef"
            ],
            [
             0.5,
             "#f7f7f7"
            ],
            [
             0.6,
             "#e6f5d0"
            ],
            [
             0.7,
             "#b8e186"
            ],
            [
             0.8,
             "#7fbc41"
            ],
            [
             0.9,
             "#4d9221"
            ],
            [
             1,
             "#276419"
            ]
           ],
           "sequential": [
            [
             0,
             "#0d0887"
            ],
            [
             0.1111111111111111,
             "#46039f"
            ],
            [
             0.2222222222222222,
             "#7201a8"
            ],
            [
             0.3333333333333333,
             "#9c179e"
            ],
            [
             0.4444444444444444,
             "#bd3786"
            ],
            [
             0.5555555555555556,
             "#d8576b"
            ],
            [
             0.6666666666666666,
             "#ed7953"
            ],
            [
             0.7777777777777778,
             "#fb9f3a"
            ],
            [
             0.8888888888888888,
             "#fdca26"
            ],
            [
             1,
             "#f0f921"
            ]
           ],
           "sequentialminus": [
            [
             0,
             "#0d0887"
            ],
            [
             0.1111111111111111,
             "#46039f"
            ],
            [
             0.2222222222222222,
             "#7201a8"
            ],
            [
             0.3333333333333333,
             "#9c179e"
            ],
            [
             0.4444444444444444,
             "#bd3786"
            ],
            [
             0.5555555555555556,
             "#d8576b"
            ],
            [
             0.6666666666666666,
             "#ed7953"
            ],
            [
             0.7777777777777778,
             "#fb9f3a"
            ],
            [
             0.8888888888888888,
             "#fdca26"
            ],
            [
             1,
             "#f0f921"
            ]
           ]
          },
          "colorway": [
           "#636efa",
           "#EF553B",
           "#00cc96",
           "#ab63fa",
           "#FFA15A",
           "#19d3f3",
           "#FF6692",
           "#B6E880",
           "#FF97FF",
           "#FECB52"
          ],
          "font": {
           "color": "#2a3f5f"
          },
          "geo": {
           "bgcolor": "white",
           "lakecolor": "white",
           "landcolor": "#E5ECF6",
           "showlakes": true,
           "showland": true,
           "subunitcolor": "white"
          },
          "hoverlabel": {
           "align": "left"
          },
          "hovermode": "closest",
          "mapbox": {
           "style": "light"
          },
          "paper_bgcolor": "white",
          "plot_bgcolor": "#E5ECF6",
          "polar": {
           "angularaxis": {
            "gridcolor": "white",
            "linecolor": "white",
            "ticks": ""
           },
           "bgcolor": "#E5ECF6",
           "radialaxis": {
            "gridcolor": "white",
            "linecolor": "white",
            "ticks": ""
           }
          },
          "scene": {
           "xaxis": {
            "backgroundcolor": "#E5ECF6",
            "gridcolor": "white",
            "gridwidth": 2,
            "linecolor": "white",
            "showbackground": true,
            "ticks": "",
            "zerolinecolor": "white"
           },
           "yaxis": {
            "backgroundcolor": "#E5ECF6",
            "gridcolor": "white",
            "gridwidth": 2,
            "linecolor": "white",
            "showbackground": true,
            "ticks": "",
            "zerolinecolor": "white"
           },
           "zaxis": {
            "backgroundcolor": "#E5ECF6",
            "gridcolor": "white",
            "gridwidth": 2,
            "linecolor": "white",
            "showbackground": true,
            "ticks": "",
            "zerolinecolor": "white"
           }
          },
          "shapedefaults": {
           "line": {
            "color": "#2a3f5f"
           }
          },
          "ternary": {
           "aaxis": {
            "gridcolor": "white",
            "linecolor": "white",
            "ticks": ""
           },
           "baxis": {
            "gridcolor": "white",
            "linecolor": "white",
            "ticks": ""
           },
           "bgcolor": "#E5ECF6",
           "caxis": {
            "gridcolor": "white",
            "linecolor": "white",
            "ticks": ""
           }
          },
          "title": {
           "x": 0.05
          },
          "xaxis": {
           "automargin": true,
           "gridcolor": "white",
           "linecolor": "white",
           "ticks": "",
           "title": {
            "standoff": 15
           },
           "zerolinecolor": "white",
           "zerolinewidth": 2
          },
          "yaxis": {
           "automargin": true,
           "gridcolor": "white",
           "linecolor": "white",
           "ticks": "",
           "title": {
            "standoff": 15
           },
           "zerolinecolor": "white",
           "zerolinewidth": 2
          }
         }
        },
        "title": {
         "text": "Location of the users",
         "x": 0.5
        },
        "width": 800
       }
      }
     },
     "metadata": {},
     "output_type": "display_data"
    }
   ],
   "source": [
    "#Geo chart for the location of the participants\n",
    "demographics_chart = px.scatter_geo(demographics, locations=['AUT', 'USA', 'KGZ', 'BRA', 'AUS','TCD'], size= data.Location.value_counts(), projection=\"natural earth\", color = data.Location.value_counts().index, title=\"Location of the users\", labels={'color':'Continent'}, width=800, height=500)\n",
    "demographics_chart.update_layout(title_x=0.5)"
   ]
  },
  {
   "cell_type": "code",
   "execution_count": 881,
   "metadata": {},
   "outputs": [
    {
     "data": {
      "application/vnd.plotly.v1+json": {
       "config": {
        "plotlyServerURL": "https://plot.ly"
       },
       "data": [
        {
         "alignmentgroup": "True",
         "hovertemplate": "Number of users=%{x}<br>=%{y}<br>color=%{marker.color}<extra></extra>",
         "legendgroup": "",
         "marker": {
          "color": [
           323,
           77,
           29,
           25,
           5
          ],
          "coloraxis": "coloraxis",
          "pattern": {
           "shape": ""
          }
         },
         "name": "",
         "offsetgroup": "",
         "orientation": "h",
         "showlegend": false,
         "textposition": "auto",
         "texttemplate": "%{x}",
         "type": "bar",
         "x": [
          323,
          77,
          29,
          25,
          5
         ],
         "xaxis": "x",
         "y": [
          "Open source point-and-click software (ImageJ, FIJI, Icy, CellProfiler, etc)",
          "Computational libraries and scripts (python (scikit-image), MATLAB, etc)",
          "Commercial software that comes with my microscope (ie Columbus, Elements, Softworx, etc)",
          "Other commercial software (Imaris, Volocity, etc)",
          "None"
         ],
         "yaxis": "y"
        }
       ],
       "layout": {
        "barmode": "relative",
        "coloraxis": {
         "colorbar": {
          "title": {
           "text": "color"
          }
         },
         "colorscale": [
          [
           0,
           "rgb(254, 246, 181)"
          ],
          [
           0.16666666666666666,
           "rgb(255, 221, 154)"
          ],
          [
           0.3333333333333333,
           "rgb(255, 194, 133)"
          ],
          [
           0.5,
           "rgb(255, 166, 121)"
          ],
          [
           0.6666666666666666,
           "rgb(250, 138, 118)"
          ],
          [
           0.8333333333333334,
           "rgb(241, 109, 122)"
          ],
          [
           1,
           "rgb(225, 83, 131)"
          ]
         ]
        },
        "height": 500,
        "legend": {
         "tracegroupgap": 0
        },
        "template": {
         "data": {
          "bar": [
           {
            "error_x": {
             "color": "#2a3f5f"
            },
            "error_y": {
             "color": "#2a3f5f"
            },
            "marker": {
             "line": {
              "color": "#E5ECF6",
              "width": 0.5
             },
             "pattern": {
              "fillmode": "overlay",
              "size": 10,
              "solidity": 0.2
             }
            },
            "type": "bar"
           }
          ],
          "barpolar": [
           {
            "marker": {
             "line": {
              "color": "#E5ECF6",
              "width": 0.5
             },
             "pattern": {
              "fillmode": "overlay",
              "size": 10,
              "solidity": 0.2
             }
            },
            "type": "barpolar"
           }
          ],
          "carpet": [
           {
            "aaxis": {
             "endlinecolor": "#2a3f5f",
             "gridcolor": "white",
             "linecolor": "white",
             "minorgridcolor": "white",
             "startlinecolor": "#2a3f5f"
            },
            "baxis": {
             "endlinecolor": "#2a3f5f",
             "gridcolor": "white",
             "linecolor": "white",
             "minorgridcolor": "white",
             "startlinecolor": "#2a3f5f"
            },
            "type": "carpet"
           }
          ],
          "choropleth": [
           {
            "colorbar": {
             "outlinewidth": 0,
             "ticks": ""
            },
            "type": "choropleth"
           }
          ],
          "contour": [
           {
            "colorbar": {
             "outlinewidth": 0,
             "ticks": ""
            },
            "colorscale": [
             [
              0,
              "#0d0887"
             ],
             [
              0.1111111111111111,
              "#46039f"
             ],
             [
              0.2222222222222222,
              "#7201a8"
             ],
             [
              0.3333333333333333,
              "#9c179e"
             ],
             [
              0.4444444444444444,
              "#bd3786"
             ],
             [
              0.5555555555555556,
              "#d8576b"
             ],
             [
              0.6666666666666666,
              "#ed7953"
             ],
             [
              0.7777777777777778,
              "#fb9f3a"
             ],
             [
              0.8888888888888888,
              "#fdca26"
             ],
             [
              1,
              "#f0f921"
             ]
            ],
            "type": "contour"
           }
          ],
          "contourcarpet": [
           {
            "colorbar": {
             "outlinewidth": 0,
             "ticks": ""
            },
            "type": "contourcarpet"
           }
          ],
          "heatmap": [
           {
            "colorbar": {
             "outlinewidth": 0,
             "ticks": ""
            },
            "colorscale": [
             [
              0,
              "#0d0887"
             ],
             [
              0.1111111111111111,
              "#46039f"
             ],
             [
              0.2222222222222222,
              "#7201a8"
             ],
             [
              0.3333333333333333,
              "#9c179e"
             ],
             [
              0.4444444444444444,
              "#bd3786"
             ],
             [
              0.5555555555555556,
              "#d8576b"
             ],
             [
              0.6666666666666666,
              "#ed7953"
             ],
             [
              0.7777777777777778,
              "#fb9f3a"
             ],
             [
              0.8888888888888888,
              "#fdca26"
             ],
             [
              1,
              "#f0f921"
             ]
            ],
            "type": "heatmap"
           }
          ],
          "heatmapgl": [
           {
            "colorbar": {
             "outlinewidth": 0,
             "ticks": ""
            },
            "colorscale": [
             [
              0,
              "#0d0887"
             ],
             [
              0.1111111111111111,
              "#46039f"
             ],
             [
              0.2222222222222222,
              "#7201a8"
             ],
             [
              0.3333333333333333,
              "#9c179e"
             ],
             [
              0.4444444444444444,
              "#bd3786"
             ],
             [
              0.5555555555555556,
              "#d8576b"
             ],
             [
              0.6666666666666666,
              "#ed7953"
             ],
             [
              0.7777777777777778,
              "#fb9f3a"
             ],
             [
              0.8888888888888888,
              "#fdca26"
             ],
             [
              1,
              "#f0f921"
             ]
            ],
            "type": "heatmapgl"
           }
          ],
          "histogram": [
           {
            "marker": {
             "pattern": {
              "fillmode": "overlay",
              "size": 10,
              "solidity": 0.2
             }
            },
            "type": "histogram"
           }
          ],
          "histogram2d": [
           {
            "colorbar": {
             "outlinewidth": 0,
             "ticks": ""
            },
            "colorscale": [
             [
              0,
              "#0d0887"
             ],
             [
              0.1111111111111111,
              "#46039f"
             ],
             [
              0.2222222222222222,
              "#7201a8"
             ],
             [
              0.3333333333333333,
              "#9c179e"
             ],
             [
              0.4444444444444444,
              "#bd3786"
             ],
             [
              0.5555555555555556,
              "#d8576b"
             ],
             [
              0.6666666666666666,
              "#ed7953"
             ],
             [
              0.7777777777777778,
              "#fb9f3a"
             ],
             [
              0.8888888888888888,
              "#fdca26"
             ],
             [
              1,
              "#f0f921"
             ]
            ],
            "type": "histogram2d"
           }
          ],
          "histogram2dcontour": [
           {
            "colorbar": {
             "outlinewidth": 0,
             "ticks": ""
            },
            "colorscale": [
             [
              0,
              "#0d0887"
             ],
             [
              0.1111111111111111,
              "#46039f"
             ],
             [
              0.2222222222222222,
              "#7201a8"
             ],
             [
              0.3333333333333333,
              "#9c179e"
             ],
             [
              0.4444444444444444,
              "#bd3786"
             ],
             [
              0.5555555555555556,
              "#d8576b"
             ],
             [
              0.6666666666666666,
              "#ed7953"
             ],
             [
              0.7777777777777778,
              "#fb9f3a"
             ],
             [
              0.8888888888888888,
              "#fdca26"
             ],
             [
              1,
              "#f0f921"
             ]
            ],
            "type": "histogram2dcontour"
           }
          ],
          "mesh3d": [
           {
            "colorbar": {
             "outlinewidth": 0,
             "ticks": ""
            },
            "type": "mesh3d"
           }
          ],
          "parcoords": [
           {
            "line": {
             "colorbar": {
              "outlinewidth": 0,
              "ticks": ""
             }
            },
            "type": "parcoords"
           }
          ],
          "pie": [
           {
            "automargin": true,
            "type": "pie"
           }
          ],
          "scatter": [
           {
            "fillpattern": {
             "fillmode": "overlay",
             "size": 10,
             "solidity": 0.2
            },
            "type": "scatter"
           }
          ],
          "scatter3d": [
           {
            "line": {
             "colorbar": {
              "outlinewidth": 0,
              "ticks": ""
             }
            },
            "marker": {
             "colorbar": {
              "outlinewidth": 0,
              "ticks": ""
             }
            },
            "type": "scatter3d"
           }
          ],
          "scattercarpet": [
           {
            "marker": {
             "colorbar": {
              "outlinewidth": 0,
              "ticks": ""
             }
            },
            "type": "scattercarpet"
           }
          ],
          "scattergeo": [
           {
            "marker": {
             "colorbar": {
              "outlinewidth": 0,
              "ticks": ""
             }
            },
            "type": "scattergeo"
           }
          ],
          "scattergl": [
           {
            "marker": {
             "colorbar": {
              "outlinewidth": 0,
              "ticks": ""
             }
            },
            "type": "scattergl"
           }
          ],
          "scattermapbox": [
           {
            "marker": {
             "colorbar": {
              "outlinewidth": 0,
              "ticks": ""
             }
            },
            "type": "scattermapbox"
           }
          ],
          "scatterpolar": [
           {
            "marker": {
             "colorbar": {
              "outlinewidth": 0,
              "ticks": ""
             }
            },
            "type": "scatterpolar"
           }
          ],
          "scatterpolargl": [
           {
            "marker": {
             "colorbar": {
              "outlinewidth": 0,
              "ticks": ""
             }
            },
            "type": "scatterpolargl"
           }
          ],
          "scatterternary": [
           {
            "marker": {
             "colorbar": {
              "outlinewidth": 0,
              "ticks": ""
             }
            },
            "type": "scatterternary"
           }
          ],
          "surface": [
           {
            "colorbar": {
             "outlinewidth": 0,
             "ticks": ""
            },
            "colorscale": [
             [
              0,
              "#0d0887"
             ],
             [
              0.1111111111111111,
              "#46039f"
             ],
             [
              0.2222222222222222,
              "#7201a8"
             ],
             [
              0.3333333333333333,
              "#9c179e"
             ],
             [
              0.4444444444444444,
              "#bd3786"
             ],
             [
              0.5555555555555556,
              "#d8576b"
             ],
             [
              0.6666666666666666,
              "#ed7953"
             ],
             [
              0.7777777777777778,
              "#fb9f3a"
             ],
             [
              0.8888888888888888,
              "#fdca26"
             ],
             [
              1,
              "#f0f921"
             ]
            ],
            "type": "surface"
           }
          ],
          "table": [
           {
            "cells": {
             "fill": {
              "color": "#EBF0F8"
             },
             "line": {
              "color": "white"
             }
            },
            "header": {
             "fill": {
              "color": "#C8D4E3"
             },
             "line": {
              "color": "white"
             }
            },
            "type": "table"
           }
          ]
         },
         "layout": {
          "annotationdefaults": {
           "arrowcolor": "#2a3f5f",
           "arrowhead": 0,
           "arrowwidth": 1
          },
          "autotypenumbers": "strict",
          "coloraxis": {
           "colorbar": {
            "outlinewidth": 0,
            "ticks": ""
           }
          },
          "colorscale": {
           "diverging": [
            [
             0,
             "#8e0152"
            ],
            [
             0.1,
             "#c51b7d"
            ],
            [
             0.2,
             "#de77ae"
            ],
            [
             0.3,
             "#f1b6da"
            ],
            [
             0.4,
             "#fde0ef"
            ],
            [
             0.5,
             "#f7f7f7"
            ],
            [
             0.6,
             "#e6f5d0"
            ],
            [
             0.7,
             "#b8e186"
            ],
            [
             0.8,
             "#7fbc41"
            ],
            [
             0.9,
             "#4d9221"
            ],
            [
             1,
             "#276419"
            ]
           ],
           "sequential": [
            [
             0,
             "#0d0887"
            ],
            [
             0.1111111111111111,
             "#46039f"
            ],
            [
             0.2222222222222222,
             "#7201a8"
            ],
            [
             0.3333333333333333,
             "#9c179e"
            ],
            [
             0.4444444444444444,
             "#bd3786"
            ],
            [
             0.5555555555555556,
             "#d8576b"
            ],
            [
             0.6666666666666666,
             "#ed7953"
            ],
            [
             0.7777777777777778,
             "#fb9f3a"
            ],
            [
             0.8888888888888888,
             "#fdca26"
            ],
            [
             1,
             "#f0f921"
            ]
           ],
           "sequentialminus": [
            [
             0,
             "#0d0887"
            ],
            [
             0.1111111111111111,
             "#46039f"
            ],
            [
             0.2222222222222222,
             "#7201a8"
            ],
            [
             0.3333333333333333,
             "#9c179e"
            ],
            [
             0.4444444444444444,
             "#bd3786"
            ],
            [
             0.5555555555555556,
             "#d8576b"
            ],
            [
             0.6666666666666666,
             "#ed7953"
            ],
            [
             0.7777777777777778,
             "#fb9f3a"
            ],
            [
             0.8888888888888888,
             "#fdca26"
            ],
            [
             1,
             "#f0f921"
            ]
           ]
          },
          "colorway": [
           "#636efa",
           "#EF553B",
           "#00cc96",
           "#ab63fa",
           "#FFA15A",
           "#19d3f3",
           "#FF6692",
           "#B6E880",
           "#FF97FF",
           "#FECB52"
          ],
          "font": {
           "color": "#2a3f5f"
          },
          "geo": {
           "bgcolor": "white",
           "lakecolor": "white",
           "landcolor": "#E5ECF6",
           "showlakes": true,
           "showland": true,
           "subunitcolor": "white"
          },
          "hoverlabel": {
           "align": "left"
          },
          "hovermode": "closest",
          "mapbox": {
           "style": "light"
          },
          "paper_bgcolor": "white",
          "plot_bgcolor": "#E5ECF6",
          "polar": {
           "angularaxis": {
            "gridcolor": "white",
            "linecolor": "white",
            "ticks": ""
           },
           "bgcolor": "#E5ECF6",
           "radialaxis": {
            "gridcolor": "white",
            "linecolor": "white",
            "ticks": ""
           }
          },
          "scene": {
           "xaxis": {
            "backgroundcolor": "#E5ECF6",
            "gridcolor": "white",
            "gridwidth": 2,
            "linecolor": "white",
            "showbackground": true,
            "ticks": "",
            "zerolinecolor": "white"
           },
           "yaxis": {
            "backgroundcolor": "#E5ECF6",
            "gridcolor": "white",
            "gridwidth": 2,
            "linecolor": "white",
            "showbackground": true,
            "ticks": "",
            "zerolinecolor": "white"
           },
           "zaxis": {
            "backgroundcolor": "#E5ECF6",
            "gridcolor": "white",
            "gridwidth": 2,
            "linecolor": "white",
            "showbackground": true,
            "ticks": "",
            "zerolinecolor": "white"
           }
          },
          "shapedefaults": {
           "line": {
            "color": "#2a3f5f"
           }
          },
          "ternary": {
           "aaxis": {
            "gridcolor": "white",
            "linecolor": "white",
            "ticks": ""
           },
           "baxis": {
            "gridcolor": "white",
            "linecolor": "white",
            "ticks": ""
           },
           "bgcolor": "#E5ECF6",
           "caxis": {
            "gridcolor": "white",
            "linecolor": "white",
            "ticks": ""
           }
          },
          "title": {
           "x": 0.05
          },
          "xaxis": {
           "automargin": true,
           "gridcolor": "white",
           "linecolor": "white",
           "ticks": "",
           "title": {
            "standoff": 15
           },
           "zerolinecolor": "white",
           "zerolinewidth": 2
          },
          "yaxis": {
           "automargin": true,
           "gridcolor": "white",
           "linecolor": "white",
           "ticks": "",
           "title": {
            "standoff": 15
           },
           "zerolinecolor": "white",
           "zerolinewidth": 2
          }
         }
        },
        "title": {
         "text": "Usage of image analysis tools",
         "x": 0.5
        },
        "width": 1000,
        "xaxis": {
         "anchor": "y",
         "domain": [
          0,
          1
         ],
         "title": {
          "text": "Number of users"
         }
        },
        "yaxis": {
         "anchor": "x",
         "domain": [
          0,
          1
         ],
         "title": {
          "text": ""
         }
        }
       }
      }
     },
     "metadata": {},
     "output_type": "display_data"
    }
   ],
   "source": [
    "# Bar chart for the mostly used image analysis tools \n",
    "counts_tools = data[\"Most used image analysis tools\"].value_counts()\n",
    "most_used_tools = px.bar(data, y=counts_tools.index, x=counts_tools.values, color=counts_tools.values, title =\"Usage of image analysis tools\", color_continuous_scale='Pinkyl', labels = {\"x\":\"Number of users\", \"y\":\"\"}, text_auto=True, width=1000, height=500)\n",
    "most_used_tools.update_layout(title_x=0.5)"
   ]
  },
  {
   "cell_type": "code",
   "execution_count": 780,
   "metadata": {},
   "outputs": [
    {
     "data": {
      "application/vnd.plotly.v1+json": {
       "config": {
        "plotlyServerURL": "https://plot.ly"
       },
       "data": [
        {
         "hovertemplate": "x=%{x}<br>y=%{y}<br>size=%{marker.size}<extra></extra>",
         "legendgroup": "",
         "marker": {
          "color": "#636efa",
          "size": [
           217,
           91,
           78,
           47,
           39,
           9,
           1,
           1,
           1,
           1,
           1,
           1,
           1,
           1,
           1
          ],
          "sizemode": "area",
          "sizeref": 0.5425,
          "symbol": "circle"
         },
         "mode": "markers",
         "name": "",
         "orientation": "v",
         "showlegend": false,
         "type": "scatter",
         "x": [
          217,
          91,
          78,
          47,
          39,
          9,
          1,
          1,
          1,
          1,
          1,
          1,
          1,
          1,
          1
         ],
         "xaxis": "x",
         "y": [
          "Email list",
          "Twitter",
          "Postings on image.sc forum or microforum",
          "My local microscopy facility",
          "A discipline-specific society or network",
          "Word of mouth",
          "I'm agnostic to how I hear, but I often feel like I only hear about conferences that would've been perfect for me while they're happening or after they're over. Just wish there was one place I could check to see upcoming imaging conferences.",
          "all of the above",
          "All of the above",
          "Website compiling this information",
          "I don't think I need more reminders.",
          "telegram channel",
          "In addition to twitter, notifications from major or society journals (e.g., MBoC) can help",
          "BINA",
          "ELMI page"
         ],
         "yaxis": "y"
        }
       ],
       "layout": {
        "height": 500,
        "legend": {
         "itemsizing": "constant",
         "tracegroupgap": 0
        },
        "margin": {
         "t": 60
        },
        "template": {
         "data": {
          "bar": [
           {
            "error_x": {
             "color": "#2a3f5f"
            },
            "error_y": {
             "color": "#2a3f5f"
            },
            "marker": {
             "line": {
              "color": "#E5ECF6",
              "width": 0.5
             },
             "pattern": {
              "fillmode": "overlay",
              "size": 10,
              "solidity": 0.2
             }
            },
            "type": "bar"
           }
          ],
          "barpolar": [
           {
            "marker": {
             "line": {
              "color": "#E5ECF6",
              "width": 0.5
             },
             "pattern": {
              "fillmode": "overlay",
              "size": 10,
              "solidity": 0.2
             }
            },
            "type": "barpolar"
           }
          ],
          "carpet": [
           {
            "aaxis": {
             "endlinecolor": "#2a3f5f",
             "gridcolor": "white",
             "linecolor": "white",
             "minorgridcolor": "white",
             "startlinecolor": "#2a3f5f"
            },
            "baxis": {
             "endlinecolor": "#2a3f5f",
             "gridcolor": "white",
             "linecolor": "white",
             "minorgridcolor": "white",
             "startlinecolor": "#2a3f5f"
            },
            "type": "carpet"
           }
          ],
          "choropleth": [
           {
            "colorbar": {
             "outlinewidth": 0,
             "ticks": ""
            },
            "type": "choropleth"
           }
          ],
          "contour": [
           {
            "colorbar": {
             "outlinewidth": 0,
             "ticks": ""
            },
            "colorscale": [
             [
              0,
              "#0d0887"
             ],
             [
              0.1111111111111111,
              "#46039f"
             ],
             [
              0.2222222222222222,
              "#7201a8"
             ],
             [
              0.3333333333333333,
              "#9c179e"
             ],
             [
              0.4444444444444444,
              "#bd3786"
             ],
             [
              0.5555555555555556,
              "#d8576b"
             ],
             [
              0.6666666666666666,
              "#ed7953"
             ],
             [
              0.7777777777777778,
              "#fb9f3a"
             ],
             [
              0.8888888888888888,
              "#fdca26"
             ],
             [
              1,
              "#f0f921"
             ]
            ],
            "type": "contour"
           }
          ],
          "contourcarpet": [
           {
            "colorbar": {
             "outlinewidth": 0,
             "ticks": ""
            },
            "type": "contourcarpet"
           }
          ],
          "heatmap": [
           {
            "colorbar": {
             "outlinewidth": 0,
             "ticks": ""
            },
            "colorscale": [
             [
              0,
              "#0d0887"
             ],
             [
              0.1111111111111111,
              "#46039f"
             ],
             [
              0.2222222222222222,
              "#7201a8"
             ],
             [
              0.3333333333333333,
              "#9c179e"
             ],
             [
              0.4444444444444444,
              "#bd3786"
             ],
             [
              0.5555555555555556,
              "#d8576b"
             ],
             [
              0.6666666666666666,
              "#ed7953"
             ],
             [
              0.7777777777777778,
              "#fb9f3a"
             ],
             [
              0.8888888888888888,
              "#fdca26"
             ],
             [
              1,
              "#f0f921"
             ]
            ],
            "type": "heatmap"
           }
          ],
          "heatmapgl": [
           {
            "colorbar": {
             "outlinewidth": 0,
             "ticks": ""
            },
            "colorscale": [
             [
              0,
              "#0d0887"
             ],
             [
              0.1111111111111111,
              "#46039f"
             ],
             [
              0.2222222222222222,
              "#7201a8"
             ],
             [
              0.3333333333333333,
              "#9c179e"
             ],
             [
              0.4444444444444444,
              "#bd3786"
             ],
             [
              0.5555555555555556,
              "#d8576b"
             ],
             [
              0.6666666666666666,
              "#ed7953"
             ],
             [
              0.7777777777777778,
              "#fb9f3a"
             ],
             [
              0.8888888888888888,
              "#fdca26"
             ],
             [
              1,
              "#f0f921"
             ]
            ],
            "type": "heatmapgl"
           }
          ],
          "histogram": [
           {
            "marker": {
             "pattern": {
              "fillmode": "overlay",
              "size": 10,
              "solidity": 0.2
             }
            },
            "type": "histogram"
           }
          ],
          "histogram2d": [
           {
            "colorbar": {
             "outlinewidth": 0,
             "ticks": ""
            },
            "colorscale": [
             [
              0,
              "#0d0887"
             ],
             [
              0.1111111111111111,
              "#46039f"
             ],
             [
              0.2222222222222222,
              "#7201a8"
             ],
             [
              0.3333333333333333,
              "#9c179e"
             ],
             [
              0.4444444444444444,
              "#bd3786"
             ],
             [
              0.5555555555555556,
              "#d8576b"
             ],
             [
              0.6666666666666666,
              "#ed7953"
             ],
             [
              0.7777777777777778,
              "#fb9f3a"
             ],
             [
              0.8888888888888888,
              "#fdca26"
             ],
             [
              1,
              "#f0f921"
             ]
            ],
            "type": "histogram2d"
           }
          ],
          "histogram2dcontour": [
           {
            "colorbar": {
             "outlinewidth": 0,
             "ticks": ""
            },
            "colorscale": [
             [
              0,
              "#0d0887"
             ],
             [
              0.1111111111111111,
              "#46039f"
             ],
             [
              0.2222222222222222,
              "#7201a8"
             ],
             [
              0.3333333333333333,
              "#9c179e"
             ],
             [
              0.4444444444444444,
              "#bd3786"
             ],
             [
              0.5555555555555556,
              "#d8576b"
             ],
             [
              0.6666666666666666,
              "#ed7953"
             ],
             [
              0.7777777777777778,
              "#fb9f3a"
             ],
             [
              0.8888888888888888,
              "#fdca26"
             ],
             [
              1,
              "#f0f921"
             ]
            ],
            "type": "histogram2dcontour"
           }
          ],
          "mesh3d": [
           {
            "colorbar": {
             "outlinewidth": 0,
             "ticks": ""
            },
            "type": "mesh3d"
           }
          ],
          "parcoords": [
           {
            "line": {
             "colorbar": {
              "outlinewidth": 0,
              "ticks": ""
             }
            },
            "type": "parcoords"
           }
          ],
          "pie": [
           {
            "automargin": true,
            "type": "pie"
           }
          ],
          "scatter": [
           {
            "fillpattern": {
             "fillmode": "overlay",
             "size": 10,
             "solidity": 0.2
            },
            "type": "scatter"
           }
          ],
          "scatter3d": [
           {
            "line": {
             "colorbar": {
              "outlinewidth": 0,
              "ticks": ""
             }
            },
            "marker": {
             "colorbar": {
              "outlinewidth": 0,
              "ticks": ""
             }
            },
            "type": "scatter3d"
           }
          ],
          "scattercarpet": [
           {
            "marker": {
             "colorbar": {
              "outlinewidth": 0,
              "ticks": ""
             }
            },
            "type": "scattercarpet"
           }
          ],
          "scattergeo": [
           {
            "marker": {
             "colorbar": {
              "outlinewidth": 0,
              "ticks": ""
             }
            },
            "type": "scattergeo"
           }
          ],
          "scattergl": [
           {
            "marker": {
             "colorbar": {
              "outlinewidth": 0,
              "ticks": ""
             }
            },
            "type": "scattergl"
           }
          ],
          "scattermapbox": [
           {
            "marker": {
             "colorbar": {
              "outlinewidth": 0,
              "ticks": ""
             }
            },
            "type": "scattermapbox"
           }
          ],
          "scatterpolar": [
           {
            "marker": {
             "colorbar": {
              "outlinewidth": 0,
              "ticks": ""
             }
            },
            "type": "scatterpolar"
           }
          ],
          "scatterpolargl": [
           {
            "marker": {
             "colorbar": {
              "outlinewidth": 0,
              "ticks": ""
             }
            },
            "type": "scatterpolargl"
           }
          ],
          "scatterternary": [
           {
            "marker": {
             "colorbar": {
              "outlinewidth": 0,
              "ticks": ""
             }
            },
            "type": "scatterternary"
           }
          ],
          "surface": [
           {
            "colorbar": {
             "outlinewidth": 0,
             "ticks": ""
            },
            "colorscale": [
             [
              0,
              "#0d0887"
             ],
             [
              0.1111111111111111,
              "#46039f"
             ],
             [
              0.2222222222222222,
              "#7201a8"
             ],
             [
              0.3333333333333333,
              "#9c179e"
             ],
             [
              0.4444444444444444,
              "#bd3786"
             ],
             [
              0.5555555555555556,
              "#d8576b"
             ],
             [
              0.6666666666666666,
              "#ed7953"
             ],
             [
              0.7777777777777778,
              "#fb9f3a"
             ],
             [
              0.8888888888888888,
              "#fdca26"
             ],
             [
              1,
              "#f0f921"
             ]
            ],
            "type": "surface"
           }
          ],
          "table": [
           {
            "cells": {
             "fill": {
              "color": "#EBF0F8"
             },
             "line": {
              "color": "white"
             }
            },
            "header": {
             "fill": {
              "color": "#C8D4E3"
             },
             "line": {
              "color": "white"
             }
            },
            "type": "table"
           }
          ]
         },
         "layout": {
          "annotationdefaults": {
           "arrowcolor": "#2a3f5f",
           "arrowhead": 0,
           "arrowwidth": 1
          },
          "autotypenumbers": "strict",
          "coloraxis": {
           "colorbar": {
            "outlinewidth": 0,
            "ticks": ""
           }
          },
          "colorscale": {
           "diverging": [
            [
             0,
             "#8e0152"
            ],
            [
             0.1,
             "#c51b7d"
            ],
            [
             0.2,
             "#de77ae"
            ],
            [
             0.3,
             "#f1b6da"
            ],
            [
             0.4,
             "#fde0ef"
            ],
            [
             0.5,
             "#f7f7f7"
            ],
            [
             0.6,
             "#e6f5d0"
            ],
            [
             0.7,
             "#b8e186"
            ],
            [
             0.8,
             "#7fbc41"
            ],
            [
             0.9,
             "#4d9221"
            ],
            [
             1,
             "#276419"
            ]
           ],
           "sequential": [
            [
             0,
             "#0d0887"
            ],
            [
             0.1111111111111111,
             "#46039f"
            ],
            [
             0.2222222222222222,
             "#7201a8"
            ],
            [
             0.3333333333333333,
             "#9c179e"
            ],
            [
             0.4444444444444444,
             "#bd3786"
            ],
            [
             0.5555555555555556,
             "#d8576b"
            ],
            [
             0.6666666666666666,
             "#ed7953"
            ],
            [
             0.7777777777777778,
             "#fb9f3a"
            ],
            [
             0.8888888888888888,
             "#fdca26"
            ],
            [
             1,
             "#f0f921"
            ]
           ],
           "sequentialminus": [
            [
             0,
             "#0d0887"
            ],
            [
             0.1111111111111111,
             "#46039f"
            ],
            [
             0.2222222222222222,
             "#7201a8"
            ],
            [
             0.3333333333333333,
             "#9c179e"
            ],
            [
             0.4444444444444444,
             "#bd3786"
            ],
            [
             0.5555555555555556,
             "#d8576b"
            ],
            [
             0.6666666666666666,
             "#ed7953"
            ],
            [
             0.7777777777777778,
             "#fb9f3a"
            ],
            [
             0.8888888888888888,
             "#fdca26"
            ],
            [
             1,
             "#f0f921"
            ]
           ]
          },
          "colorway": [
           "#636efa",
           "#EF553B",
           "#00cc96",
           "#ab63fa",
           "#FFA15A",
           "#19d3f3",
           "#FF6692",
           "#B6E880",
           "#FF97FF",
           "#FECB52"
          ],
          "font": {
           "color": "#2a3f5f"
          },
          "geo": {
           "bgcolor": "white",
           "lakecolor": "white",
           "landcolor": "#E5ECF6",
           "showlakes": true,
           "showland": true,
           "subunitcolor": "white"
          },
          "hoverlabel": {
           "align": "left"
          },
          "hovermode": "closest",
          "mapbox": {
           "style": "light"
          },
          "paper_bgcolor": "white",
          "plot_bgcolor": "#E5ECF6",
          "polar": {
           "angularaxis": {
            "gridcolor": "white",
            "linecolor": "white",
            "ticks": ""
           },
           "bgcolor": "#E5ECF6",
           "radialaxis": {
            "gridcolor": "white",
            "linecolor": "white",
            "ticks": ""
           }
          },
          "scene": {
           "xaxis": {
            "backgroundcolor": "#E5ECF6",
            "gridcolor": "white",
            "gridwidth": 2,
            "linecolor": "white",
            "showbackground": true,
            "ticks": "",
            "zerolinecolor": "white"
           },
           "yaxis": {
            "backgroundcolor": "#E5ECF6",
            "gridcolor": "white",
            "gridwidth": 2,
            "linecolor": "white",
            "showbackground": true,
            "ticks": "",
            "zerolinecolor": "white"
           },
           "zaxis": {
            "backgroundcolor": "#E5ECF6",
            "gridcolor": "white",
            "gridwidth": 2,
            "linecolor": "white",
            "showbackground": true,
            "ticks": "",
            "zerolinecolor": "white"
           }
          },
          "shapedefaults": {
           "line": {
            "color": "#2a3f5f"
           }
          },
          "ternary": {
           "aaxis": {
            "gridcolor": "white",
            "linecolor": "white",
            "ticks": ""
           },
           "baxis": {
            "gridcolor": "white",
            "linecolor": "white",
            "ticks": ""
           },
           "bgcolor": "#E5ECF6",
           "caxis": {
            "gridcolor": "white",
            "linecolor": "white",
            "ticks": ""
           }
          },
          "title": {
           "x": 0.05
          },
          "xaxis": {
           "automargin": true,
           "gridcolor": "white",
           "linecolor": "white",
           "ticks": "",
           "title": {
            "standoff": 15
           },
           "zerolinecolor": "white",
           "zerolinewidth": 2
          },
          "yaxis": {
           "automargin": true,
           "gridcolor": "white",
           "linecolor": "white",
           "ticks": "",
           "title": {
            "standoff": 15
           },
           "zerolinecolor": "white",
           "zerolinewidth": 2
          }
         }
        },
        "title": {
         "x": 0.5
        },
        "width": 1000,
        "xaxis": {
         "anchor": "y",
         "domain": [
          0,
          1
         ],
         "title": {
          "text": "x"
         }
        },
        "yaxis": {
         "anchor": "x",
         "domain": [
          0,
          1
         ],
         "title": {
          "text": "y"
         }
        }
       }
      }
     },
     "metadata": {},
     "output_type": "display_data"
    }
   ],
   "source": [
    "# how users would like to ne notfied for future workshops\n",
    "counts_notifications = data[\"Notification of image analysis workshop\"].value_counts()\n",
    "notifications = px.scatter(data, y=counts_notifications.index, x=counts_notifications.values, size=counts_notifications.values,orientation='v', width=1000, height=500)\n",
    "notifications.update_layout(title_x=0.5)\n"
   ]
  },
  {
   "cell_type": "code",
   "execution_count": 789,
   "metadata": {},
   "outputs": [
    {
     "data": {
      "application/vnd.plotly.v1+json": {
       "config": {
        "plotlyServerURL": "https://plot.ly"
       },
       "data": [
        {
         "alignmentgroup": "True",
         "hovertemplate": "Preference=%{x}<br>Numbers=%{y}<extra></extra>",
         "legendgroup": "",
         "marker": {
          "color": "#636efa",
          "pattern": {
           "shape": ""
          }
         },
         "name": "",
         "offsetgroup": "",
         "orientation": "v",
         "showlegend": false,
         "textposition": "auto",
         "type": "bar",
         "x": [
          "Yes",
          "No"
         ],
         "xaxis": "x",
         "y": [
          332,
          161
         ],
         "yaxis": "y"
        }
       ],
       "layout": {
        "barmode": "relative",
        "height": 500,
        "legend": {
         "tracegroupgap": 0
        },
        "margin": {
         "t": 60
        },
        "template": {
         "data": {
          "bar": [
           {
            "error_x": {
             "color": "#2a3f5f"
            },
            "error_y": {
             "color": "#2a3f5f"
            },
            "marker": {
             "line": {
              "color": "#E5ECF6",
              "width": 0.5
             },
             "pattern": {
              "fillmode": "overlay",
              "size": 10,
              "solidity": 0.2
             }
            },
            "type": "bar"
           }
          ],
          "barpolar": [
           {
            "marker": {
             "line": {
              "color": "#E5ECF6",
              "width": 0.5
             },
             "pattern": {
              "fillmode": "overlay",
              "size": 10,
              "solidity": 0.2
             }
            },
            "type": "barpolar"
           }
          ],
          "carpet": [
           {
            "aaxis": {
             "endlinecolor": "#2a3f5f",
             "gridcolor": "white",
             "linecolor": "white",
             "minorgridcolor": "white",
             "startlinecolor": "#2a3f5f"
            },
            "baxis": {
             "endlinecolor": "#2a3f5f",
             "gridcolor": "white",
             "linecolor": "white",
             "minorgridcolor": "white",
             "startlinecolor": "#2a3f5f"
            },
            "type": "carpet"
           }
          ],
          "choropleth": [
           {
            "colorbar": {
             "outlinewidth": 0,
             "ticks": ""
            },
            "type": "choropleth"
           }
          ],
          "contour": [
           {
            "colorbar": {
             "outlinewidth": 0,
             "ticks": ""
            },
            "colorscale": [
             [
              0,
              "#0d0887"
             ],
             [
              0.1111111111111111,
              "#46039f"
             ],
             [
              0.2222222222222222,
              "#7201a8"
             ],
             [
              0.3333333333333333,
              "#9c179e"
             ],
             [
              0.4444444444444444,
              "#bd3786"
             ],
             [
              0.5555555555555556,
              "#d8576b"
             ],
             [
              0.6666666666666666,
              "#ed7953"
             ],
             [
              0.7777777777777778,
              "#fb9f3a"
             ],
             [
              0.8888888888888888,
              "#fdca26"
             ],
             [
              1,
              "#f0f921"
             ]
            ],
            "type": "contour"
           }
          ],
          "contourcarpet": [
           {
            "colorbar": {
             "outlinewidth": 0,
             "ticks": ""
            },
            "type": "contourcarpet"
           }
          ],
          "heatmap": [
           {
            "colorbar": {
             "outlinewidth": 0,
             "ticks": ""
            },
            "colorscale": [
             [
              0,
              "#0d0887"
             ],
             [
              0.1111111111111111,
              "#46039f"
             ],
             [
              0.2222222222222222,
              "#7201a8"
             ],
             [
              0.3333333333333333,
              "#9c179e"
             ],
             [
              0.4444444444444444,
              "#bd3786"
             ],
             [
              0.5555555555555556,
              "#d8576b"
             ],
             [
              0.6666666666666666,
              "#ed7953"
             ],
             [
              0.7777777777777778,
              "#fb9f3a"
             ],
             [
              0.8888888888888888,
              "#fdca26"
             ],
             [
              1,
              "#f0f921"
             ]
            ],
            "type": "heatmap"
           }
          ],
          "heatmapgl": [
           {
            "colorbar": {
             "outlinewidth": 0,
             "ticks": ""
            },
            "colorscale": [
             [
              0,
              "#0d0887"
             ],
             [
              0.1111111111111111,
              "#46039f"
             ],
             [
              0.2222222222222222,
              "#7201a8"
             ],
             [
              0.3333333333333333,
              "#9c179e"
             ],
             [
              0.4444444444444444,
              "#bd3786"
             ],
             [
              0.5555555555555556,
              "#d8576b"
             ],
             [
              0.6666666666666666,
              "#ed7953"
             ],
             [
              0.7777777777777778,
              "#fb9f3a"
             ],
             [
              0.8888888888888888,
              "#fdca26"
             ],
             [
              1,
              "#f0f921"
             ]
            ],
            "type": "heatmapgl"
           }
          ],
          "histogram": [
           {
            "marker": {
             "pattern": {
              "fillmode": "overlay",
              "size": 10,
              "solidity": 0.2
             }
            },
            "type": "histogram"
           }
          ],
          "histogram2d": [
           {
            "colorbar": {
             "outlinewidth": 0,
             "ticks": ""
            },
            "colorscale": [
             [
              0,
              "#0d0887"
             ],
             [
              0.1111111111111111,
              "#46039f"
             ],
             [
              0.2222222222222222,
              "#7201a8"
             ],
             [
              0.3333333333333333,
              "#9c179e"
             ],
             [
              0.4444444444444444,
              "#bd3786"
             ],
             [
              0.5555555555555556,
              "#d8576b"
             ],
             [
              0.6666666666666666,
              "#ed7953"
             ],
             [
              0.7777777777777778,
              "#fb9f3a"
             ],
             [
              0.8888888888888888,
              "#fdca26"
             ],
             [
              1,
              "#f0f921"
             ]
            ],
            "type": "histogram2d"
           }
          ],
          "histogram2dcontour": [
           {
            "colorbar": {
             "outlinewidth": 0,
             "ticks": ""
            },
            "colorscale": [
             [
              0,
              "#0d0887"
             ],
             [
              0.1111111111111111,
              "#46039f"
             ],
             [
              0.2222222222222222,
              "#7201a8"
             ],
             [
              0.3333333333333333,
              "#9c179e"
             ],
             [
              0.4444444444444444,
              "#bd3786"
             ],
             [
              0.5555555555555556,
              "#d8576b"
             ],
             [
              0.6666666666666666,
              "#ed7953"
             ],
             [
              0.7777777777777778,
              "#fb9f3a"
             ],
             [
              0.8888888888888888,
              "#fdca26"
             ],
             [
              1,
              "#f0f921"
             ]
            ],
            "type": "histogram2dcontour"
           }
          ],
          "mesh3d": [
           {
            "colorbar": {
             "outlinewidth": 0,
             "ticks": ""
            },
            "type": "mesh3d"
           }
          ],
          "parcoords": [
           {
            "line": {
             "colorbar": {
              "outlinewidth": 0,
              "ticks": ""
             }
            },
            "type": "parcoords"
           }
          ],
          "pie": [
           {
            "automargin": true,
            "type": "pie"
           }
          ],
          "scatter": [
           {
            "fillpattern": {
             "fillmode": "overlay",
             "size": 10,
             "solidity": 0.2
            },
            "type": "scatter"
           }
          ],
          "scatter3d": [
           {
            "line": {
             "colorbar": {
              "outlinewidth": 0,
              "ticks": ""
             }
            },
            "marker": {
             "colorbar": {
              "outlinewidth": 0,
              "ticks": ""
             }
            },
            "type": "scatter3d"
           }
          ],
          "scattercarpet": [
           {
            "marker": {
             "colorbar": {
              "outlinewidth": 0,
              "ticks": ""
             }
            },
            "type": "scattercarpet"
           }
          ],
          "scattergeo": [
           {
            "marker": {
             "colorbar": {
              "outlinewidth": 0,
              "ticks": ""
             }
            },
            "type": "scattergeo"
           }
          ],
          "scattergl": [
           {
            "marker": {
             "colorbar": {
              "outlinewidth": 0,
              "ticks": ""
             }
            },
            "type": "scattergl"
           }
          ],
          "scattermapbox": [
           {
            "marker": {
             "colorbar": {
              "outlinewidth": 0,
              "ticks": ""
             }
            },
            "type": "scattermapbox"
           }
          ],
          "scatterpolar": [
           {
            "marker": {
             "colorbar": {
              "outlinewidth": 0,
              "ticks": ""
             }
            },
            "type": "scatterpolar"
           }
          ],
          "scatterpolargl": [
           {
            "marker": {
             "colorbar": {
              "outlinewidth": 0,
              "ticks": ""
             }
            },
            "type": "scatterpolargl"
           }
          ],
          "scatterternary": [
           {
            "marker": {
             "colorbar": {
              "outlinewidth": 0,
              "ticks": ""
             }
            },
            "type": "scatterternary"
           }
          ],
          "surface": [
           {
            "colorbar": {
             "outlinewidth": 0,
             "ticks": ""
            },
            "colorscale": [
             [
              0,
              "#0d0887"
             ],
             [
              0.1111111111111111,
              "#46039f"
             ],
             [
              0.2222222222222222,
              "#7201a8"
             ],
             [
              0.3333333333333333,
              "#9c179e"
             ],
             [
              0.4444444444444444,
              "#bd3786"
             ],
             [
              0.5555555555555556,
              "#d8576b"
             ],
             [
              0.6666666666666666,
              "#ed7953"
             ],
             [
              0.7777777777777778,
              "#fb9f3a"
             ],
             [
              0.8888888888888888,
              "#fdca26"
             ],
             [
              1,
              "#f0f921"
             ]
            ],
            "type": "surface"
           }
          ],
          "table": [
           {
            "cells": {
             "fill": {
              "color": "#EBF0F8"
             },
             "line": {
              "color": "white"
             }
            },
            "header": {
             "fill": {
              "color": "#C8D4E3"
             },
             "line": {
              "color": "white"
             }
            },
            "type": "table"
           }
          ]
         },
         "layout": {
          "annotationdefaults": {
           "arrowcolor": "#2a3f5f",
           "arrowhead": 0,
           "arrowwidth": 1
          },
          "autotypenumbers": "strict",
          "coloraxis": {
           "colorbar": {
            "outlinewidth": 0,
            "ticks": ""
           }
          },
          "colorscale": {
           "diverging": [
            [
             0,
             "#8e0152"
            ],
            [
             0.1,
             "#c51b7d"
            ],
            [
             0.2,
             "#de77ae"
            ],
            [
             0.3,
             "#f1b6da"
            ],
            [
             0.4,
             "#fde0ef"
            ],
            [
             0.5,
             "#f7f7f7"
            ],
            [
             0.6,
             "#e6f5d0"
            ],
            [
             0.7,
             "#b8e186"
            ],
            [
             0.8,
             "#7fbc41"
            ],
            [
             0.9,
             "#4d9221"
            ],
            [
             1,
             "#276419"
            ]
           ],
           "sequential": [
            [
             0,
             "#0d0887"
            ],
            [
             0.1111111111111111,
             "#46039f"
            ],
            [
             0.2222222222222222,
             "#7201a8"
            ],
            [
             0.3333333333333333,
             "#9c179e"
            ],
            [
             0.4444444444444444,
             "#bd3786"
            ],
            [
             0.5555555555555556,
             "#d8576b"
            ],
            [
             0.6666666666666666,
             "#ed7953"
            ],
            [
             0.7777777777777778,
             "#fb9f3a"
            ],
            [
             0.8888888888888888,
             "#fdca26"
            ],
            [
             1,
             "#f0f921"
            ]
           ],
           "sequentialminus": [
            [
             0,
             "#0d0887"
            ],
            [
             0.1111111111111111,
             "#46039f"
            ],
            [
             0.2222222222222222,
             "#7201a8"
            ],
            [
             0.3333333333333333,
             "#9c179e"
            ],
            [
             0.4444444444444444,
             "#bd3786"
            ],
            [
             0.5555555555555556,
             "#d8576b"
            ],
            [
             0.6666666666666666,
             "#ed7953"
            ],
            [
             0.7777777777777778,
             "#fb9f3a"
            ],
            [
             0.8888888888888888,
             "#fdca26"
            ],
            [
             1,
             "#f0f921"
            ]
           ]
          },
          "colorway": [
           "#636efa",
           "#EF553B",
           "#00cc96",
           "#ab63fa",
           "#FFA15A",
           "#19d3f3",
           "#FF6692",
           "#B6E880",
           "#FF97FF",
           "#FECB52"
          ],
          "font": {
           "color": "#2a3f5f"
          },
          "geo": {
           "bgcolor": "white",
           "lakecolor": "white",
           "landcolor": "#E5ECF6",
           "showlakes": true,
           "showland": true,
           "subunitcolor": "white"
          },
          "hoverlabel": {
           "align": "left"
          },
          "hovermode": "closest",
          "mapbox": {
           "style": "light"
          },
          "paper_bgcolor": "white",
          "plot_bgcolor": "#E5ECF6",
          "polar": {
           "angularaxis": {
            "gridcolor": "white",
            "linecolor": "white",
            "ticks": ""
           },
           "bgcolor": "#E5ECF6",
           "radialaxis": {
            "gridcolor": "white",
            "linecolor": "white",
            "ticks": ""
           }
          },
          "scene": {
           "xaxis": {
            "backgroundcolor": "#E5ECF6",
            "gridcolor": "white",
            "gridwidth": 2,
            "linecolor": "white",
            "showbackground": true,
            "ticks": "",
            "zerolinecolor": "white"
           },
           "yaxis": {
            "backgroundcolor": "#E5ECF6",
            "gridcolor": "white",
            "gridwidth": 2,
            "linecolor": "white",
            "showbackground": true,
            "ticks": "",
            "zerolinecolor": "white"
           },
           "zaxis": {
            "backgroundcolor": "#E5ECF6",
            "gridcolor": "white",
            "gridwidth": 2,
            "linecolor": "white",
            "showbackground": true,
            "ticks": "",
            "zerolinecolor": "white"
           }
          },
          "shapedefaults": {
           "line": {
            "color": "#2a3f5f"
           }
          },
          "ternary": {
           "aaxis": {
            "gridcolor": "white",
            "linecolor": "white",
            "ticks": ""
           },
           "baxis": {
            "gridcolor": "white",
            "linecolor": "white",
            "ticks": ""
           },
           "bgcolor": "#E5ECF6",
           "caxis": {
            "gridcolor": "white",
            "linecolor": "white",
            "ticks": ""
           }
          },
          "title": {
           "x": 0.05
          },
          "xaxis": {
           "automargin": true,
           "gridcolor": "white",
           "linecolor": "white",
           "ticks": "",
           "title": {
            "standoff": 15
           },
           "zerolinecolor": "white",
           "zerolinewidth": 2
          },
          "yaxis": {
           "automargin": true,
           "gridcolor": "white",
           "linecolor": "white",
           "ticks": "",
           "title": {
            "standoff": 15
           },
           "zerolinecolor": "white",
           "zerolinewidth": 2
          }
         }
        },
        "title": {
         "x": 0.5
        },
        "width": 1000,
        "xaxis": {
         "anchor": "y",
         "domain": [
          0,
          1
         ],
         "title": {
          "text": "Preference"
         }
        },
        "yaxis": {
         "anchor": "x",
         "domain": [
          0,
          1
         ],
         "title": {
          "text": "Numbers"
         }
        }
       }
      }
     },
     "metadata": {},
     "output_type": "display_data"
    }
   ],
   "source": [
    "# Whether users wanted to subscribe to the mailing list\n",
    "subscription = data[\"Subscription\"].value_counts()\n",
    "subscription_graph = px.bar(data, x=subscription.index, y=subscription.values, labels={\"x\":\"Preference\", \"y\":'Numbers'}, width=1000, height=500)\n",
    "subscription_graph.update_layout(title_x=0.5)"
   ]
  },
  {
   "cell_type": "code",
   "execution_count": 800,
   "metadata": {},
   "outputs": [
    {
     "data": {
      "application/vnd.plotly.v1+json": {
       "config": {
        "plotlyServerURL": "https://plot.ly"
       },
       "data": [
        {
         "alignmentgroup": "True",
         "hovertemplate": "Frequency=%{x}<br>Counts=%{y}<extra></extra>",
         "legendgroup": "",
         "marker": {
          "color": "#636efa",
          "pattern": {
           "shape": ""
          }
         },
         "name": "",
         "offsetgroup": "",
         "orientation": "v",
         "showlegend": false,
         "textposition": "auto",
         "texttemplate": "%{y}",
         "type": "bar",
         "x": [
          "Sometimes",
          "Never",
          "Most of the time",
          "Often"
         ],
         "xaxis": "x",
         "y": [
          172,
          123,
          103,
          95
         ],
         "yaxis": "y"
        }
       ],
       "layout": {
        "barmode": "relative",
        "height": 500,
        "legend": {
         "tracegroupgap": 0
        },
        "template": {
         "data": {
          "bar": [
           {
            "error_x": {
             "color": "#2a3f5f"
            },
            "error_y": {
             "color": "#2a3f5f"
            },
            "marker": {
             "line": {
              "color": "#E5ECF6",
              "width": 0.5
             },
             "pattern": {
              "fillmode": "overlay",
              "size": 10,
              "solidity": 0.2
             }
            },
            "type": "bar"
           }
          ],
          "barpolar": [
           {
            "marker": {
             "line": {
              "color": "#E5ECF6",
              "width": 0.5
             },
             "pattern": {
              "fillmode": "overlay",
              "size": 10,
              "solidity": 0.2
             }
            },
            "type": "barpolar"
           }
          ],
          "carpet": [
           {
            "aaxis": {
             "endlinecolor": "#2a3f5f",
             "gridcolor": "white",
             "linecolor": "white",
             "minorgridcolor": "white",
             "startlinecolor": "#2a3f5f"
            },
            "baxis": {
             "endlinecolor": "#2a3f5f",
             "gridcolor": "white",
             "linecolor": "white",
             "minorgridcolor": "white",
             "startlinecolor": "#2a3f5f"
            },
            "type": "carpet"
           }
          ],
          "choropleth": [
           {
            "colorbar": {
             "outlinewidth": 0,
             "ticks": ""
            },
            "type": "choropleth"
           }
          ],
          "contour": [
           {
            "colorbar": {
             "outlinewidth": 0,
             "ticks": ""
            },
            "colorscale": [
             [
              0,
              "#0d0887"
             ],
             [
              0.1111111111111111,
              "#46039f"
             ],
             [
              0.2222222222222222,
              "#7201a8"
             ],
             [
              0.3333333333333333,
              "#9c179e"
             ],
             [
              0.4444444444444444,
              "#bd3786"
             ],
             [
              0.5555555555555556,
              "#d8576b"
             ],
             [
              0.6666666666666666,
              "#ed7953"
             ],
             [
              0.7777777777777778,
              "#fb9f3a"
             ],
             [
              0.8888888888888888,
              "#fdca26"
             ],
             [
              1,
              "#f0f921"
             ]
            ],
            "type": "contour"
           }
          ],
          "contourcarpet": [
           {
            "colorbar": {
             "outlinewidth": 0,
             "ticks": ""
            },
            "type": "contourcarpet"
           }
          ],
          "heatmap": [
           {
            "colorbar": {
             "outlinewidth": 0,
             "ticks": ""
            },
            "colorscale": [
             [
              0,
              "#0d0887"
             ],
             [
              0.1111111111111111,
              "#46039f"
             ],
             [
              0.2222222222222222,
              "#7201a8"
             ],
             [
              0.3333333333333333,
              "#9c179e"
             ],
             [
              0.4444444444444444,
              "#bd3786"
             ],
             [
              0.5555555555555556,
              "#d8576b"
             ],
             [
              0.6666666666666666,
              "#ed7953"
             ],
             [
              0.7777777777777778,
              "#fb9f3a"
             ],
             [
              0.8888888888888888,
              "#fdca26"
             ],
             [
              1,
              "#f0f921"
             ]
            ],
            "type": "heatmap"
           }
          ],
          "heatmapgl": [
           {
            "colorbar": {
             "outlinewidth": 0,
             "ticks": ""
            },
            "colorscale": [
             [
              0,
              "#0d0887"
             ],
             [
              0.1111111111111111,
              "#46039f"
             ],
             [
              0.2222222222222222,
              "#7201a8"
             ],
             [
              0.3333333333333333,
              "#9c179e"
             ],
             [
              0.4444444444444444,
              "#bd3786"
             ],
             [
              0.5555555555555556,
              "#d8576b"
             ],
             [
              0.6666666666666666,
              "#ed7953"
             ],
             [
              0.7777777777777778,
              "#fb9f3a"
             ],
             [
              0.8888888888888888,
              "#fdca26"
             ],
             [
              1,
              "#f0f921"
             ]
            ],
            "type": "heatmapgl"
           }
          ],
          "histogram": [
           {
            "marker": {
             "pattern": {
              "fillmode": "overlay",
              "size": 10,
              "solidity": 0.2
             }
            },
            "type": "histogram"
           }
          ],
          "histogram2d": [
           {
            "colorbar": {
             "outlinewidth": 0,
             "ticks": ""
            },
            "colorscale": [
             [
              0,
              "#0d0887"
             ],
             [
              0.1111111111111111,
              "#46039f"
             ],
             [
              0.2222222222222222,
              "#7201a8"
             ],
             [
              0.3333333333333333,
              "#9c179e"
             ],
             [
              0.4444444444444444,
              "#bd3786"
             ],
             [
              0.5555555555555556,
              "#d8576b"
             ],
             [
              0.6666666666666666,
              "#ed7953"
             ],
             [
              0.7777777777777778,
              "#fb9f3a"
             ],
             [
              0.8888888888888888,
              "#fdca26"
             ],
             [
              1,
              "#f0f921"
             ]
            ],
            "type": "histogram2d"
           }
          ],
          "histogram2dcontour": [
           {
            "colorbar": {
             "outlinewidth": 0,
             "ticks": ""
            },
            "colorscale": [
             [
              0,
              "#0d0887"
             ],
             [
              0.1111111111111111,
              "#46039f"
             ],
             [
              0.2222222222222222,
              "#7201a8"
             ],
             [
              0.3333333333333333,
              "#9c179e"
             ],
             [
              0.4444444444444444,
              "#bd3786"
             ],
             [
              0.5555555555555556,
              "#d8576b"
             ],
             [
              0.6666666666666666,
              "#ed7953"
             ],
             [
              0.7777777777777778,
              "#fb9f3a"
             ],
             [
              0.8888888888888888,
              "#fdca26"
             ],
             [
              1,
              "#f0f921"
             ]
            ],
            "type": "histogram2dcontour"
           }
          ],
          "mesh3d": [
           {
            "colorbar": {
             "outlinewidth": 0,
             "ticks": ""
            },
            "type": "mesh3d"
           }
          ],
          "parcoords": [
           {
            "line": {
             "colorbar": {
              "outlinewidth": 0,
              "ticks": ""
             }
            },
            "type": "parcoords"
           }
          ],
          "pie": [
           {
            "automargin": true,
            "type": "pie"
           }
          ],
          "scatter": [
           {
            "fillpattern": {
             "fillmode": "overlay",
             "size": 10,
             "solidity": 0.2
            },
            "type": "scatter"
           }
          ],
          "scatter3d": [
           {
            "line": {
             "colorbar": {
              "outlinewidth": 0,
              "ticks": ""
             }
            },
            "marker": {
             "colorbar": {
              "outlinewidth": 0,
              "ticks": ""
             }
            },
            "type": "scatter3d"
           }
          ],
          "scattercarpet": [
           {
            "marker": {
             "colorbar": {
              "outlinewidth": 0,
              "ticks": ""
             }
            },
            "type": "scattercarpet"
           }
          ],
          "scattergeo": [
           {
            "marker": {
             "colorbar": {
              "outlinewidth": 0,
              "ticks": ""
             }
            },
            "type": "scattergeo"
           }
          ],
          "scattergl": [
           {
            "marker": {
             "colorbar": {
              "outlinewidth": 0,
              "ticks": ""
             }
            },
            "type": "scattergl"
           }
          ],
          "scattermapbox": [
           {
            "marker": {
             "colorbar": {
              "outlinewidth": 0,
              "ticks": ""
             }
            },
            "type": "scattermapbox"
           }
          ],
          "scatterpolar": [
           {
            "marker": {
             "colorbar": {
              "outlinewidth": 0,
              "ticks": ""
             }
            },
            "type": "scatterpolar"
           }
          ],
          "scatterpolargl": [
           {
            "marker": {
             "colorbar": {
              "outlinewidth": 0,
              "ticks": ""
             }
            },
            "type": "scatterpolargl"
           }
          ],
          "scatterternary": [
           {
            "marker": {
             "colorbar": {
              "outlinewidth": 0,
              "ticks": ""
             }
            },
            "type": "scatterternary"
           }
          ],
          "surface": [
           {
            "colorbar": {
             "outlinewidth": 0,
             "ticks": ""
            },
            "colorscale": [
             [
              0,
              "#0d0887"
             ],
             [
              0.1111111111111111,
              "#46039f"
             ],
             [
              0.2222222222222222,
              "#7201a8"
             ],
             [
              0.3333333333333333,
              "#9c179e"
             ],
             [
              0.4444444444444444,
              "#bd3786"
             ],
             [
              0.5555555555555556,
              "#d8576b"
             ],
             [
              0.6666666666666666,
              "#ed7953"
             ],
             [
              0.7777777777777778,
              "#fb9f3a"
             ],
             [
              0.8888888888888888,
              "#fdca26"
             ],
             [
              1,
              "#f0f921"
             ]
            ],
            "type": "surface"
           }
          ],
          "table": [
           {
            "cells": {
             "fill": {
              "color": "#EBF0F8"
             },
             "line": {
              "color": "white"
             }
            },
            "header": {
             "fill": {
              "color": "#C8D4E3"
             },
             "line": {
              "color": "white"
             }
            },
            "type": "table"
           }
          ]
         },
         "layout": {
          "annotationdefaults": {
           "arrowcolor": "#2a3f5f",
           "arrowhead": 0,
           "arrowwidth": 1
          },
          "autotypenumbers": "strict",
          "coloraxis": {
           "colorbar": {
            "outlinewidth": 0,
            "ticks": ""
           }
          },
          "colorscale": {
           "diverging": [
            [
             0,
             "#8e0152"
            ],
            [
             0.1,
             "#c51b7d"
            ],
            [
             0.2,
             "#de77ae"
            ],
            [
             0.3,
             "#f1b6da"
            ],
            [
             0.4,
             "#fde0ef"
            ],
            [
             0.5,
             "#f7f7f7"
            ],
            [
             0.6,
             "#e6f5d0"
            ],
            [
             0.7,
             "#b8e186"
            ],
            [
             0.8,
             "#7fbc41"
            ],
            [
             0.9,
             "#4d9221"
            ],
            [
             1,
             "#276419"
            ]
           ],
           "sequential": [
            [
             0,
             "#0d0887"
            ],
            [
             0.1111111111111111,
             "#46039f"
            ],
            [
             0.2222222222222222,
             "#7201a8"
            ],
            [
             0.3333333333333333,
             "#9c179e"
            ],
            [
             0.4444444444444444,
             "#bd3786"
            ],
            [
             0.5555555555555556,
             "#d8576b"
            ],
            [
             0.6666666666666666,
             "#ed7953"
            ],
            [
             0.7777777777777778,
             "#fb9f3a"
            ],
            [
             0.8888888888888888,
             "#fdca26"
            ],
            [
             1,
             "#f0f921"
            ]
           ],
           "sequentialminus": [
            [
             0,
             "#0d0887"
            ],
            [
             0.1111111111111111,
             "#46039f"
            ],
            [
             0.2222222222222222,
             "#7201a8"
            ],
            [
             0.3333333333333333,
             "#9c179e"
            ],
            [
             0.4444444444444444,
             "#bd3786"
            ],
            [
             0.5555555555555556,
             "#d8576b"
            ],
            [
             0.6666666666666666,
             "#ed7953"
            ],
            [
             0.7777777777777778,
             "#fb9f3a"
            ],
            [
             0.8888888888888888,
             "#fdca26"
            ],
            [
             1,
             "#f0f921"
            ]
           ]
          },
          "colorway": [
           "#636efa",
           "#EF553B",
           "#00cc96",
           "#ab63fa",
           "#FFA15A",
           "#19d3f3",
           "#FF6692",
           "#B6E880",
           "#FF97FF",
           "#FECB52"
          ],
          "font": {
           "color": "#2a3f5f"
          },
          "geo": {
           "bgcolor": "white",
           "lakecolor": "white",
           "landcolor": "#E5ECF6",
           "showlakes": true,
           "showland": true,
           "subunitcolor": "white"
          },
          "hoverlabel": {
           "align": "left"
          },
          "hovermode": "closest",
          "mapbox": {
           "style": "light"
          },
          "paper_bgcolor": "white",
          "plot_bgcolor": "#E5ECF6",
          "polar": {
           "angularaxis": {
            "gridcolor": "white",
            "linecolor": "white",
            "ticks": ""
           },
           "bgcolor": "#E5ECF6",
           "radialaxis": {
            "gridcolor": "white",
            "linecolor": "white",
            "ticks": ""
           }
          },
          "scene": {
           "xaxis": {
            "backgroundcolor": "#E5ECF6",
            "gridcolor": "white",
            "gridwidth": 2,
            "linecolor": "white",
            "showbackground": true,
            "ticks": "",
            "zerolinecolor": "white"
           },
           "yaxis": {
            "backgroundcolor": "#E5ECF6",
            "gridcolor": "white",
            "gridwidth": 2,
            "linecolor": "white",
            "showbackground": true,
            "ticks": "",
            "zerolinecolor": "white"
           },
           "zaxis": {
            "backgroundcolor": "#E5ECF6",
            "gridcolor": "white",
            "gridwidth": 2,
            "linecolor": "white",
            "showbackground": true,
            "ticks": "",
            "zerolinecolor": "white"
           }
          },
          "shapedefaults": {
           "line": {
            "color": "#2a3f5f"
           }
          },
          "ternary": {
           "aaxis": {
            "gridcolor": "white",
            "linecolor": "white",
            "ticks": ""
           },
           "baxis": {
            "gridcolor": "white",
            "linecolor": "white",
            "ticks": ""
           },
           "bgcolor": "#E5ECF6",
           "caxis": {
            "gridcolor": "white",
            "linecolor": "white",
            "ticks": ""
           }
          },
          "title": {
           "x": 0.05
          },
          "xaxis": {
           "automargin": true,
           "gridcolor": "white",
           "linecolor": "white",
           "ticks": "",
           "title": {
            "standoff": 15
           },
           "zerolinecolor": "white",
           "zerolinewidth": 2
          },
          "yaxis": {
           "automargin": true,
           "gridcolor": "white",
           "linecolor": "white",
           "ticks": "",
           "title": {
            "standoff": 15
           },
           "zerolinecolor": "white",
           "zerolinewidth": 2
          }
         }
        },
        "title": {
         "text": "Frequency of script usage for image analysis",
         "x": 0.5
        },
        "width": 1000,
        "xaxis": {
         "anchor": "y",
         "domain": [
          0,
          1
         ],
         "title": {
          "text": "Frequency"
         }
        },
        "yaxis": {
         "anchor": "x",
         "domain": [
          0,
          1
         ],
         "title": {
          "text": "Counts"
         }
        }
       }
      }
     },
     "metadata": {},
     "output_type": "display_data"
    }
   ],
   "source": [
    "#Script usage for image analysis \n",
    "frequency =  data[\"Frequency of script usage\"].value_counts()\n",
    "frequency = px.bar(data, x=frequency.index, y=frequency.values, labels={'x':'Frequency', 'y':'Counts'}, width=1000, height=500,color_continuous_scale='Fall', text_auto= True, title=\"Frequency of script usage for image analysis\")\n",
    "frequency.update_layout(title_x=0.5)"
   ]
  },
  {
   "cell_type": "code",
   "execution_count": 802,
   "metadata": {},
   "outputs": [
    {
     "data": {
      "application/vnd.plotly.v1+json": {
       "config": {
        "plotlyServerURL": "https://plot.ly"
       },
       "data": [
        {
         "alignmentgroup": "True",
         "hovertemplate": "Conferences attended=%{x}<br>Number of participants=%{y}<extra></extra>",
         "legendgroup": "",
         "marker": {
          "color": "#636efa",
          "pattern": {
           "shape": ""
          }
         },
         "name": "",
         "offsetgroup": "",
         "orientation": "v",
         "showlegend": false,
         "textposition": "auto",
         "texttemplate": "%{y}",
         "type": "bar",
         "x": [
          "Few",
          "None",
          "Some",
          "Many"
         ],
         "xaxis": "x",
         "y": [
          261,
          115,
          92,
          22
         ],
         "yaxis": "y"
        }
       ],
       "layout": {
        "barmode": "relative",
        "legend": {
         "tracegroupgap": 0
        },
        "margin": {
         "t": 60
        },
        "template": {
         "data": {
          "bar": [
           {
            "error_x": {
             "color": "#2a3f5f"
            },
            "error_y": {
             "color": "#2a3f5f"
            },
            "marker": {
             "line": {
              "color": "#E5ECF6",
              "width": 0.5
             },
             "pattern": {
              "fillmode": "overlay",
              "size": 10,
              "solidity": 0.2
             }
            },
            "type": "bar"
           }
          ],
          "barpolar": [
           {
            "marker": {
             "line": {
              "color": "#E5ECF6",
              "width": 0.5
             },
             "pattern": {
              "fillmode": "overlay",
              "size": 10,
              "solidity": 0.2
             }
            },
            "type": "barpolar"
           }
          ],
          "carpet": [
           {
            "aaxis": {
             "endlinecolor": "#2a3f5f",
             "gridcolor": "white",
             "linecolor": "white",
             "minorgridcolor": "white",
             "startlinecolor": "#2a3f5f"
            },
            "baxis": {
             "endlinecolor": "#2a3f5f",
             "gridcolor": "white",
             "linecolor": "white",
             "minorgridcolor": "white",
             "startlinecolor": "#2a3f5f"
            },
            "type": "carpet"
           }
          ],
          "choropleth": [
           {
            "colorbar": {
             "outlinewidth": 0,
             "ticks": ""
            },
            "type": "choropleth"
           }
          ],
          "contour": [
           {
            "colorbar": {
             "outlinewidth": 0,
             "ticks": ""
            },
            "colorscale": [
             [
              0,
              "#0d0887"
             ],
             [
              0.1111111111111111,
              "#46039f"
             ],
             [
              0.2222222222222222,
              "#7201a8"
             ],
             [
              0.3333333333333333,
              "#9c179e"
             ],
             [
              0.4444444444444444,
              "#bd3786"
             ],
             [
              0.5555555555555556,
              "#d8576b"
             ],
             [
              0.6666666666666666,
              "#ed7953"
             ],
             [
              0.7777777777777778,
              "#fb9f3a"
             ],
             [
              0.8888888888888888,
              "#fdca26"
             ],
             [
              1,
              "#f0f921"
             ]
            ],
            "type": "contour"
           }
          ],
          "contourcarpet": [
           {
            "colorbar": {
             "outlinewidth": 0,
             "ticks": ""
            },
            "type": "contourcarpet"
           }
          ],
          "heatmap": [
           {
            "colorbar": {
             "outlinewidth": 0,
             "ticks": ""
            },
            "colorscale": [
             [
              0,
              "#0d0887"
             ],
             [
              0.1111111111111111,
              "#46039f"
             ],
             [
              0.2222222222222222,
              "#7201a8"
             ],
             [
              0.3333333333333333,
              "#9c179e"
             ],
             [
              0.4444444444444444,
              "#bd3786"
             ],
             [
              0.5555555555555556,
              "#d8576b"
             ],
             [
              0.6666666666666666,
              "#ed7953"
             ],
             [
              0.7777777777777778,
              "#fb9f3a"
             ],
             [
              0.8888888888888888,
              "#fdca26"
             ],
             [
              1,
              "#f0f921"
             ]
            ],
            "type": "heatmap"
           }
          ],
          "heatmapgl": [
           {
            "colorbar": {
             "outlinewidth": 0,
             "ticks": ""
            },
            "colorscale": [
             [
              0,
              "#0d0887"
             ],
             [
              0.1111111111111111,
              "#46039f"
             ],
             [
              0.2222222222222222,
              "#7201a8"
             ],
             [
              0.3333333333333333,
              "#9c179e"
             ],
             [
              0.4444444444444444,
              "#bd3786"
             ],
             [
              0.5555555555555556,
              "#d8576b"
             ],
             [
              0.6666666666666666,
              "#ed7953"
             ],
             [
              0.7777777777777778,
              "#fb9f3a"
             ],
             [
              0.8888888888888888,
              "#fdca26"
             ],
             [
              1,
              "#f0f921"
             ]
            ],
            "type": "heatmapgl"
           }
          ],
          "histogram": [
           {
            "marker": {
             "pattern": {
              "fillmode": "overlay",
              "size": 10,
              "solidity": 0.2
             }
            },
            "type": "histogram"
           }
          ],
          "histogram2d": [
           {
            "colorbar": {
             "outlinewidth": 0,
             "ticks": ""
            },
            "colorscale": [
             [
              0,
              "#0d0887"
             ],
             [
              0.1111111111111111,
              "#46039f"
             ],
             [
              0.2222222222222222,
              "#7201a8"
             ],
             [
              0.3333333333333333,
              "#9c179e"
             ],
             [
              0.4444444444444444,
              "#bd3786"
             ],
             [
              0.5555555555555556,
              "#d8576b"
             ],
             [
              0.6666666666666666,
              "#ed7953"
             ],
             [
              0.7777777777777778,
              "#fb9f3a"
             ],
             [
              0.8888888888888888,
              "#fdca26"
             ],
             [
              1,
              "#f0f921"
             ]
            ],
            "type": "histogram2d"
           }
          ],
          "histogram2dcontour": [
           {
            "colorbar": {
             "outlinewidth": 0,
             "ticks": ""
            },
            "colorscale": [
             [
              0,
              "#0d0887"
             ],
             [
              0.1111111111111111,
              "#46039f"
             ],
             [
              0.2222222222222222,
              "#7201a8"
             ],
             [
              0.3333333333333333,
              "#9c179e"
             ],
             [
              0.4444444444444444,
              "#bd3786"
             ],
             [
              0.5555555555555556,
              "#d8576b"
             ],
             [
              0.6666666666666666,
              "#ed7953"
             ],
             [
              0.7777777777777778,
              "#fb9f3a"
             ],
             [
              0.8888888888888888,
              "#fdca26"
             ],
             [
              1,
              "#f0f921"
             ]
            ],
            "type": "histogram2dcontour"
           }
          ],
          "mesh3d": [
           {
            "colorbar": {
             "outlinewidth": 0,
             "ticks": ""
            },
            "type": "mesh3d"
           }
          ],
          "parcoords": [
           {
            "line": {
             "colorbar": {
              "outlinewidth": 0,
              "ticks": ""
             }
            },
            "type": "parcoords"
           }
          ],
          "pie": [
           {
            "automargin": true,
            "type": "pie"
           }
          ],
          "scatter": [
           {
            "fillpattern": {
             "fillmode": "overlay",
             "size": 10,
             "solidity": 0.2
            },
            "type": "scatter"
           }
          ],
          "scatter3d": [
           {
            "line": {
             "colorbar": {
              "outlinewidth": 0,
              "ticks": ""
             }
            },
            "marker": {
             "colorbar": {
              "outlinewidth": 0,
              "ticks": ""
             }
            },
            "type": "scatter3d"
           }
          ],
          "scattercarpet": [
           {
            "marker": {
             "colorbar": {
              "outlinewidth": 0,
              "ticks": ""
             }
            },
            "type": "scattercarpet"
           }
          ],
          "scattergeo": [
           {
            "marker": {
             "colorbar": {
              "outlinewidth": 0,
              "ticks": ""
             }
            },
            "type": "scattergeo"
           }
          ],
          "scattergl": [
           {
            "marker": {
             "colorbar": {
              "outlinewidth": 0,
              "ticks": ""
             }
            },
            "type": "scattergl"
           }
          ],
          "scattermapbox": [
           {
            "marker": {
             "colorbar": {
              "outlinewidth": 0,
              "ticks": ""
             }
            },
            "type": "scattermapbox"
           }
          ],
          "scatterpolar": [
           {
            "marker": {
             "colorbar": {
              "outlinewidth": 0,
              "ticks": ""
             }
            },
            "type": "scatterpolar"
           }
          ],
          "scatterpolargl": [
           {
            "marker": {
             "colorbar": {
              "outlinewidth": 0,
              "ticks": ""
             }
            },
            "type": "scatterpolargl"
           }
          ],
          "scatterternary": [
           {
            "marker": {
             "colorbar": {
              "outlinewidth": 0,
              "ticks": ""
             }
            },
            "type": "scatterternary"
           }
          ],
          "surface": [
           {
            "colorbar": {
             "outlinewidth": 0,
             "ticks": ""
            },
            "colorscale": [
             [
              0,
              "#0d0887"
             ],
             [
              0.1111111111111111,
              "#46039f"
             ],
             [
              0.2222222222222222,
              "#7201a8"
             ],
             [
              0.3333333333333333,
              "#9c179e"
             ],
             [
              0.4444444444444444,
              "#bd3786"
             ],
             [
              0.5555555555555556,
              "#d8576b"
             ],
             [
              0.6666666666666666,
              "#ed7953"
             ],
             [
              0.7777777777777778,
              "#fb9f3a"
             ],
             [
              0.8888888888888888,
              "#fdca26"
             ],
             [
              1,
              "#f0f921"
             ]
            ],
            "type": "surface"
           }
          ],
          "table": [
           {
            "cells": {
             "fill": {
              "color": "#EBF0F8"
             },
             "line": {
              "color": "white"
             }
            },
            "header": {
             "fill": {
              "color": "#C8D4E3"
             },
             "line": {
              "color": "white"
             }
            },
            "type": "table"
           }
          ]
         },
         "layout": {
          "annotationdefaults": {
           "arrowcolor": "#2a3f5f",
           "arrowhead": 0,
           "arrowwidth": 1
          },
          "autotypenumbers": "strict",
          "coloraxis": {
           "colorbar": {
            "outlinewidth": 0,
            "ticks": ""
           }
          },
          "colorscale": {
           "diverging": [
            [
             0,
             "#8e0152"
            ],
            [
             0.1,
             "#c51b7d"
            ],
            [
             0.2,
             "#de77ae"
            ],
            [
             0.3,
             "#f1b6da"
            ],
            [
             0.4,
             "#fde0ef"
            ],
            [
             0.5,
             "#f7f7f7"
            ],
            [
             0.6,
             "#e6f5d0"
            ],
            [
             0.7,
             "#b8e186"
            ],
            [
             0.8,
             "#7fbc41"
            ],
            [
             0.9,
             "#4d9221"
            ],
            [
             1,
             "#276419"
            ]
           ],
           "sequential": [
            [
             0,
             "#0d0887"
            ],
            [
             0.1111111111111111,
             "#46039f"
            ],
            [
             0.2222222222222222,
             "#7201a8"
            ],
            [
             0.3333333333333333,
             "#9c179e"
            ],
            [
             0.4444444444444444,
             "#bd3786"
            ],
            [
             0.5555555555555556,
             "#d8576b"
            ],
            [
             0.6666666666666666,
             "#ed7953"
            ],
            [
             0.7777777777777778,
             "#fb9f3a"
            ],
            [
             0.8888888888888888,
             "#fdca26"
            ],
            [
             1,
             "#f0f921"
            ]
           ],
           "sequentialminus": [
            [
             0,
             "#0d0887"
            ],
            [
             0.1111111111111111,
             "#46039f"
            ],
            [
             0.2222222222222222,
             "#7201a8"
            ],
            [
             0.3333333333333333,
             "#9c179e"
            ],
            [
             0.4444444444444444,
             "#bd3786"
            ],
            [
             0.5555555555555556,
             "#d8576b"
            ],
            [
             0.6666666666666666,
             "#ed7953"
            ],
            [
             0.7777777777777778,
             "#fb9f3a"
            ],
            [
             0.8888888888888888,
             "#fdca26"
            ],
            [
             1,
             "#f0f921"
            ]
           ]
          },
          "colorway": [
           "#636efa",
           "#EF553B",
           "#00cc96",
           "#ab63fa",
           "#FFA15A",
           "#19d3f3",
           "#FF6692",
           "#B6E880",
           "#FF97FF",
           "#FECB52"
          ],
          "font": {
           "color": "#2a3f5f"
          },
          "geo": {
           "bgcolor": "white",
           "lakecolor": "white",
           "landcolor": "#E5ECF6",
           "showlakes": true,
           "showland": true,
           "subunitcolor": "white"
          },
          "hoverlabel": {
           "align": "left"
          },
          "hovermode": "closest",
          "mapbox": {
           "style": "light"
          },
          "paper_bgcolor": "white",
          "plot_bgcolor": "#E5ECF6",
          "polar": {
           "angularaxis": {
            "gridcolor": "white",
            "linecolor": "white",
            "ticks": ""
           },
           "bgcolor": "#E5ECF6",
           "radialaxis": {
            "gridcolor": "white",
            "linecolor": "white",
            "ticks": ""
           }
          },
          "scene": {
           "xaxis": {
            "backgroundcolor": "#E5ECF6",
            "gridcolor": "white",
            "gridwidth": 2,
            "linecolor": "white",
            "showbackground": true,
            "ticks": "",
            "zerolinecolor": "white"
           },
           "yaxis": {
            "backgroundcolor": "#E5ECF6",
            "gridcolor": "white",
            "gridwidth": 2,
            "linecolor": "white",
            "showbackground": true,
            "ticks": "",
            "zerolinecolor": "white"
           },
           "zaxis": {
            "backgroundcolor": "#E5ECF6",
            "gridcolor": "white",
            "gridwidth": 2,
            "linecolor": "white",
            "showbackground": true,
            "ticks": "",
            "zerolinecolor": "white"
           }
          },
          "shapedefaults": {
           "line": {
            "color": "#2a3f5f"
           }
          },
          "ternary": {
           "aaxis": {
            "gridcolor": "white",
            "linecolor": "white",
            "ticks": ""
           },
           "baxis": {
            "gridcolor": "white",
            "linecolor": "white",
            "ticks": ""
           },
           "bgcolor": "#E5ECF6",
           "caxis": {
            "gridcolor": "white",
            "linecolor": "white",
            "ticks": ""
           }
          },
          "title": {
           "x": 0.05
          },
          "xaxis": {
           "automargin": true,
           "gridcolor": "white",
           "linecolor": "white",
           "ticks": "",
           "title": {
            "standoff": 15
           },
           "zerolinecolor": "white",
           "zerolinewidth": 2
          },
          "yaxis": {
           "automargin": true,
           "gridcolor": "white",
           "linecolor": "white",
           "ticks": "",
           "title": {
            "standoff": 15
           },
           "zerolinecolor": "white",
           "zerolinewidth": 2
          }
         }
        },
        "title": {
         "x": 0.5
        },
        "xaxis": {
         "anchor": "y",
         "domain": [
          0,
          1
         ],
         "title": {
          "text": "Conferences attended"
         }
        },
        "yaxis": {
         "anchor": "x",
         "domain": [
          0,
          1
         ],
         "title": {
          "text": "Number of participants"
         }
        }
       }
      }
     },
     "metadata": {},
     "output_type": "display_data"
    }
   ],
   "source": [
    "#Conferences attended\n",
    "df = data[\"Number of conferences/workshops attended\"]\n",
    "conferences = df.value_counts()\n",
    "conferences_attended = px.bar(df, x=conferences.index, y=conferences.values, color_continuous_scale='Fall', text_auto=True, labels = {'x':'Conferences attended','y':'Number of participants'})\n",
    "conferences_attended.update_layout(title_x=0.5)"
   ]
  },
  {
   "cell_type": "code",
   "execution_count": 618,
   "metadata": {},
   "outputs": [],
   "source": [
    "# The domains in which the participants work wrt the roles\n",
    "data[\"Training\"] = data[\"Training\"].astype(str)"
   ]
  },
  {
   "cell_type": "code",
   "execution_count": 619,
   "metadata": {},
   "outputs": [],
   "source": [
    "data['Cell/Molecular Biology'] = data['Training'].apply(lambda x: True if 'Cell/Molecular Biology' in x else False)\n",
    "data['Physics/Biophysics'] = data[\"Training\"].apply(lambda x: True if 'Physics/Biophysics'in x else False)\n",
    "data['Chemistry/Biochemistry'] = data[\"Training\"].apply(lambda x: True if 'Chemistry/Biochemistry'in x else False)\n",
    "data['Statistics/Biostatistics'] =data['Training'].apply(lambda x: True if 'Statistics/Biostatistics' in x else False)\n",
    "data['Medicine'] = data['Training'].apply(lambda x: True if 'Medicine' in x else False)\n",
    "data['Computer science'] = data['Training'].apply(lambda x: True if 'Computer science' in x else False)\n",
    "data['Computer vision'] = data['Training'].apply(lambda x: True if 'Computer vision' in x else False)\n",
    "data['Deep learning'] = data['Training'].apply(lambda x: True if 'Deep learning' in x else False)\n",
    "data['Developmental Biology'] = data['Training'].apply(lambda x: True if 'Developmental Biology' in x else False)"
   ]
  },
  {
   "cell_type": "code",
   "execution_count": 620,
   "metadata": {},
   "outputs": [
    {
     "data": {
      "text/html": [
       "<div>\n",
       "<style scoped>\n",
       "    .dataframe tbody tr th:only-of-type {\n",
       "        vertical-align: middle;\n",
       "    }\n",
       "\n",
       "    .dataframe tbody tr th {\n",
       "        vertical-align: top;\n",
       "    }\n",
       "\n",
       "    .dataframe thead th {\n",
       "        text-align: right;\n",
       "    }\n",
       "</style>\n",
       "<table border=\"1\" class=\"dataframe\">\n",
       "  <thead>\n",
       "    <tr style=\"text-align: right;\">\n",
       "      <th></th>\n",
       "      <th>Role</th>\n",
       "      <th>Cell/Molecular Biology</th>\n",
       "    </tr>\n",
       "  </thead>\n",
       "  <tbody>\n",
       "    <tr>\n",
       "      <th>0</th>\n",
       "      <td>Research scientist</td>\n",
       "      <td>False</td>\n",
       "    </tr>\n",
       "    <tr>\n",
       "      <th>1</th>\n",
       "      <td>Undergraduate/Graduate student</td>\n",
       "      <td>False</td>\n",
       "    </tr>\n",
       "    <tr>\n",
       "      <th>2</th>\n",
       "      <td>Facility director</td>\n",
       "      <td>True</td>\n",
       "    </tr>\n",
       "    <tr>\n",
       "      <th>3</th>\n",
       "      <td>Principal investigator</td>\n",
       "      <td>True</td>\n",
       "    </tr>\n",
       "    <tr>\n",
       "      <th>4</th>\n",
       "      <td>Undergraduate/Graduate student</td>\n",
       "      <td>True</td>\n",
       "    </tr>\n",
       "  </tbody>\n",
       "</table>\n",
       "</div>"
      ],
      "text/plain": [
       "                             Role  Cell/Molecular Biology\n",
       "0              Research scientist                   False\n",
       "1  Undergraduate/Graduate student                   False\n",
       "2               Facility director                    True\n",
       "3          Principal investigator                    True\n",
       "4  Undergraduate/Graduate student                    True"
      ]
     },
     "execution_count": 620,
     "metadata": {},
     "output_type": "execute_result"
    }
   ],
   "source": [
    "df_Cell_Molecular_Biology = data.loc[:, [\"Role\",\"Cell/Molecular Biology\"]]"
   ]
  },
  {
   "cell_type": "code",
   "execution_count": 621,
   "metadata": {},
   "outputs": [
    {
     "data": {
      "text/html": [
       "<div>\n",
       "<style scoped>\n",
       "    .dataframe tbody tr th:only-of-type {\n",
       "        vertical-align: middle;\n",
       "    }\n",
       "\n",
       "    .dataframe tbody tr th {\n",
       "        vertical-align: top;\n",
       "    }\n",
       "\n",
       "    .dataframe thead th {\n",
       "        text-align: right;\n",
       "    }\n",
       "</style>\n",
       "<table border=\"1\" class=\"dataframe\">\n",
       "  <thead>\n",
       "    <tr style=\"text-align: right;\">\n",
       "      <th></th>\n",
       "      <th>Role</th>\n",
       "      <th>Cell/Molecular Biology</th>\n",
       "    </tr>\n",
       "  </thead>\n",
       "  <tbody>\n",
       "    <tr>\n",
       "      <th>0</th>\n",
       "      <td>Clinician</td>\n",
       "      <td>2</td>\n",
       "    </tr>\n",
       "    <tr>\n",
       "      <th>1</th>\n",
       "      <td>Facility director</td>\n",
       "      <td>41</td>\n",
       "    </tr>\n",
       "    <tr>\n",
       "      <th>2</th>\n",
       "      <td>Facility staff</td>\n",
       "      <td>64</td>\n",
       "    </tr>\n",
       "    <tr>\n",
       "      <th>3</th>\n",
       "      <td>Image/data analyst</td>\n",
       "      <td>21</td>\n",
       "    </tr>\n",
       "    <tr>\n",
       "      <th>4</th>\n",
       "      <td>Postdoctoral fellow</td>\n",
       "      <td>59</td>\n",
       "    </tr>\n",
       "    <tr>\n",
       "      <th>5</th>\n",
       "      <td>Principal investigator</td>\n",
       "      <td>49</td>\n",
       "    </tr>\n",
       "    <tr>\n",
       "      <th>6</th>\n",
       "      <td>Research scientist</td>\n",
       "      <td>48</td>\n",
       "    </tr>\n",
       "    <tr>\n",
       "      <th>7</th>\n",
       "      <td>Undergraduate/Graduate student</td>\n",
       "      <td>81</td>\n",
       "    </tr>\n",
       "  </tbody>\n",
       "</table>\n",
       "</div>"
      ],
      "text/plain": [
       "                             Role  Cell/Molecular Biology\n",
       "0                       Clinician                       2\n",
       "1               Facility director                      41\n",
       "2                  Facility staff                      64\n",
       "3              Image/data analyst                      21\n",
       "4             Postdoctoral fellow                      59\n",
       "5          Principal investigator                      49\n",
       "6              Research scientist                      48\n",
       "7  Undergraduate/Graduate student                      81"
      ]
     },
     "execution_count": 621,
     "metadata": {},
     "output_type": "execute_result"
    }
   ],
   "source": [
    "Cell_Molecular_Biology = df_Cell_Molecular_Biology.groupby(\"Role\").sum().reset_index()\n",
    "Cell_Molecular_Biology"
   ]
  },
  {
   "cell_type": "code",
   "execution_count": 622,
   "metadata": {},
   "outputs": [
    {
     "data": {
      "text/html": [
       "<div>\n",
       "<style scoped>\n",
       "    .dataframe tbody tr th:only-of-type {\n",
       "        vertical-align: middle;\n",
       "    }\n",
       "\n",
       "    .dataframe tbody tr th {\n",
       "        vertical-align: top;\n",
       "    }\n",
       "\n",
       "    .dataframe thead th {\n",
       "        text-align: right;\n",
       "    }\n",
       "</style>\n",
       "<table border=\"1\" class=\"dataframe\">\n",
       "  <thead>\n",
       "    <tr style=\"text-align: right;\">\n",
       "      <th></th>\n",
       "      <th>Role</th>\n",
       "      <th>Physics/Biophysics</th>\n",
       "    </tr>\n",
       "  </thead>\n",
       "  <tbody>\n",
       "    <tr>\n",
       "      <th>0</th>\n",
       "      <td>Research scientist</td>\n",
       "      <td>False</td>\n",
       "    </tr>\n",
       "    <tr>\n",
       "      <th>1</th>\n",
       "      <td>Undergraduate/Graduate student</td>\n",
       "      <td>False</td>\n",
       "    </tr>\n",
       "    <tr>\n",
       "      <th>2</th>\n",
       "      <td>Facility director</td>\n",
       "      <td>False</td>\n",
       "    </tr>\n",
       "    <tr>\n",
       "      <th>3</th>\n",
       "      <td>Principal investigator</td>\n",
       "      <td>False</td>\n",
       "    </tr>\n",
       "    <tr>\n",
       "      <th>4</th>\n",
       "      <td>Undergraduate/Graduate student</td>\n",
       "      <td>True</td>\n",
       "    </tr>\n",
       "  </tbody>\n",
       "</table>\n",
       "</div>"
      ],
      "text/plain": [
       "                             Role  Physics/Biophysics\n",
       "0              Research scientist               False\n",
       "1  Undergraduate/Graduate student               False\n",
       "2               Facility director               False\n",
       "3          Principal investigator               False\n",
       "4  Undergraduate/Graduate student                True"
      ]
     },
     "execution_count": 622,
     "metadata": {},
     "output_type": "execute_result"
    }
   ],
   "source": [
    "df_Physics_Biophysics = data.loc[:, [\"Role\", \"Physics/Biophysics\"]]\n",
    "df_Physics_Biophysics.head()"
   ]
  },
  {
   "cell_type": "code",
   "execution_count": 623,
   "metadata": {},
   "outputs": [
    {
     "data": {
      "text/html": [
       "<div>\n",
       "<style scoped>\n",
       "    .dataframe tbody tr th:only-of-type {\n",
       "        vertical-align: middle;\n",
       "    }\n",
       "\n",
       "    .dataframe tbody tr th {\n",
       "        vertical-align: top;\n",
       "    }\n",
       "\n",
       "    .dataframe thead th {\n",
       "        text-align: right;\n",
       "    }\n",
       "</style>\n",
       "<table border=\"1\" class=\"dataframe\">\n",
       "  <thead>\n",
       "    <tr style=\"text-align: right;\">\n",
       "      <th></th>\n",
       "      <th>Role</th>\n",
       "      <th>Physics/Biophysics</th>\n",
       "    </tr>\n",
       "  </thead>\n",
       "  <tbody>\n",
       "    <tr>\n",
       "      <th>0</th>\n",
       "      <td>Clinician</td>\n",
       "      <td>0</td>\n",
       "    </tr>\n",
       "    <tr>\n",
       "      <th>1</th>\n",
       "      <td>Facility director</td>\n",
       "      <td>12</td>\n",
       "    </tr>\n",
       "    <tr>\n",
       "      <th>2</th>\n",
       "      <td>Facility staff</td>\n",
       "      <td>10</td>\n",
       "    </tr>\n",
       "    <tr>\n",
       "      <th>3</th>\n",
       "      <td>Image/data analyst</td>\n",
       "      <td>13</td>\n",
       "    </tr>\n",
       "    <tr>\n",
       "      <th>4</th>\n",
       "      <td>Postdoctoral fellow</td>\n",
       "      <td>16</td>\n",
       "    </tr>\n",
       "    <tr>\n",
       "      <th>5</th>\n",
       "      <td>Principal investigator</td>\n",
       "      <td>20</td>\n",
       "    </tr>\n",
       "    <tr>\n",
       "      <th>6</th>\n",
       "      <td>Research scientist</td>\n",
       "      <td>17</td>\n",
       "    </tr>\n",
       "    <tr>\n",
       "      <th>7</th>\n",
       "      <td>Undergraduate/Graduate student</td>\n",
       "      <td>20</td>\n",
       "    </tr>\n",
       "  </tbody>\n",
       "</table>\n",
       "</div>"
      ],
      "text/plain": [
       "                             Role  Physics/Biophysics\n",
       "0                       Clinician                   0\n",
       "1               Facility director                  12\n",
       "2                  Facility staff                  10\n",
       "3              Image/data analyst                  13\n",
       "4             Postdoctoral fellow                  16\n",
       "5          Principal investigator                  20\n",
       "6              Research scientist                  17\n",
       "7  Undergraduate/Graduate student                  20"
      ]
     },
     "execution_count": 623,
     "metadata": {},
     "output_type": "execute_result"
    }
   ],
   "source": [
    "Physics_Biophysics = df_Physics_Biophysics.groupby(\"Role\").sum().reset_index()\n",
    "Physics_Biophysics"
   ]
  },
  {
   "cell_type": "code",
   "execution_count": 624,
   "metadata": {},
   "outputs": [
    {
     "data": {
      "text/html": [
       "<div>\n",
       "<style scoped>\n",
       "    .dataframe tbody tr th:only-of-type {\n",
       "        vertical-align: middle;\n",
       "    }\n",
       "\n",
       "    .dataframe tbody tr th {\n",
       "        vertical-align: top;\n",
       "    }\n",
       "\n",
       "    .dataframe thead th {\n",
       "        text-align: right;\n",
       "    }\n",
       "</style>\n",
       "<table border=\"1\" class=\"dataframe\">\n",
       "  <thead>\n",
       "    <tr style=\"text-align: right;\">\n",
       "      <th></th>\n",
       "      <th>Role</th>\n",
       "      <th>Chemistry/Biochemistry</th>\n",
       "    </tr>\n",
       "  </thead>\n",
       "  <tbody>\n",
       "    <tr>\n",
       "      <th>0</th>\n",
       "      <td>Research scientist</td>\n",
       "      <td>True</td>\n",
       "    </tr>\n",
       "    <tr>\n",
       "      <th>1</th>\n",
       "      <td>Undergraduate/Graduate student</td>\n",
       "      <td>False</td>\n",
       "    </tr>\n",
       "    <tr>\n",
       "      <th>2</th>\n",
       "      <td>Facility director</td>\n",
       "      <td>False</td>\n",
       "    </tr>\n",
       "    <tr>\n",
       "      <th>3</th>\n",
       "      <td>Principal investigator</td>\n",
       "      <td>False</td>\n",
       "    </tr>\n",
       "    <tr>\n",
       "      <th>4</th>\n",
       "      <td>Undergraduate/Graduate student</td>\n",
       "      <td>False</td>\n",
       "    </tr>\n",
       "  </tbody>\n",
       "</table>\n",
       "</div>"
      ],
      "text/plain": [
       "                             Role  Chemistry/Biochemistry\n",
       "0              Research scientist                    True\n",
       "1  Undergraduate/Graduate student                   False\n",
       "2               Facility director                   False\n",
       "3          Principal investigator                   False\n",
       "4  Undergraduate/Graduate student                   False"
      ]
     },
     "execution_count": 624,
     "metadata": {},
     "output_type": "execute_result"
    }
   ],
   "source": [
    "df_Chemistry_Biochemistry =data.loc[:, [\"Role\", \"Chemistry/Biochemistry\"]]\n",
    "df_Chemistry_Biochemistry.head()"
   ]
  },
  {
   "cell_type": "code",
   "execution_count": 625,
   "metadata": {},
   "outputs": [
    {
     "data": {
      "text/html": [
       "<div>\n",
       "<style scoped>\n",
       "    .dataframe tbody tr th:only-of-type {\n",
       "        vertical-align: middle;\n",
       "    }\n",
       "\n",
       "    .dataframe tbody tr th {\n",
       "        vertical-align: top;\n",
       "    }\n",
       "\n",
       "    .dataframe thead th {\n",
       "        text-align: right;\n",
       "    }\n",
       "</style>\n",
       "<table border=\"1\" class=\"dataframe\">\n",
       "  <thead>\n",
       "    <tr style=\"text-align: right;\">\n",
       "      <th></th>\n",
       "      <th>Role</th>\n",
       "      <th>Chemistry/Biochemistry</th>\n",
       "    </tr>\n",
       "  </thead>\n",
       "  <tbody>\n",
       "    <tr>\n",
       "      <th>0</th>\n",
       "      <td>Clinician</td>\n",
       "      <td>1</td>\n",
       "    </tr>\n",
       "    <tr>\n",
       "      <th>1</th>\n",
       "      <td>Facility director</td>\n",
       "      <td>12</td>\n",
       "    </tr>\n",
       "    <tr>\n",
       "      <th>2</th>\n",
       "      <td>Facility staff</td>\n",
       "      <td>17</td>\n",
       "    </tr>\n",
       "    <tr>\n",
       "      <th>3</th>\n",
       "      <td>Image/data analyst</td>\n",
       "      <td>8</td>\n",
       "    </tr>\n",
       "    <tr>\n",
       "      <th>4</th>\n",
       "      <td>Postdoctoral fellow</td>\n",
       "      <td>18</td>\n",
       "    </tr>\n",
       "    <tr>\n",
       "      <th>5</th>\n",
       "      <td>Principal investigator</td>\n",
       "      <td>22</td>\n",
       "    </tr>\n",
       "    <tr>\n",
       "      <th>6</th>\n",
       "      <td>Research scientist</td>\n",
       "      <td>21</td>\n",
       "    </tr>\n",
       "    <tr>\n",
       "      <th>7</th>\n",
       "      <td>Undergraduate/Graduate student</td>\n",
       "      <td>20</td>\n",
       "    </tr>\n",
       "  </tbody>\n",
       "</table>\n",
       "</div>"
      ],
      "text/plain": [
       "                             Role  Chemistry/Biochemistry\n",
       "0                       Clinician                       1\n",
       "1               Facility director                      12\n",
       "2                  Facility staff                      17\n",
       "3              Image/data analyst                       8\n",
       "4             Postdoctoral fellow                      18\n",
       "5          Principal investigator                      22\n",
       "6              Research scientist                      21\n",
       "7  Undergraduate/Graduate student                      20"
      ]
     },
     "execution_count": 625,
     "metadata": {},
     "output_type": "execute_result"
    }
   ],
   "source": [
    "Chemistry_Biochemistry = df_Chemistry_Biochemistry.groupby(\"Role\").sum().reset_index()\n",
    "Chemistry_Biochemistry"
   ]
  },
  {
   "cell_type": "code",
   "execution_count": 626,
   "metadata": {},
   "outputs": [
    {
     "data": {
      "text/html": [
       "<div>\n",
       "<style scoped>\n",
       "    .dataframe tbody tr th:only-of-type {\n",
       "        vertical-align: middle;\n",
       "    }\n",
       "\n",
       "    .dataframe tbody tr th {\n",
       "        vertical-align: top;\n",
       "    }\n",
       "\n",
       "    .dataframe thead th {\n",
       "        text-align: right;\n",
       "    }\n",
       "</style>\n",
       "<table border=\"1\" class=\"dataframe\">\n",
       "  <thead>\n",
       "    <tr style=\"text-align: right;\">\n",
       "      <th></th>\n",
       "      <th>Role</th>\n",
       "      <th>Statistics/Biostatistics</th>\n",
       "    </tr>\n",
       "  </thead>\n",
       "  <tbody>\n",
       "    <tr>\n",
       "      <th>0</th>\n",
       "      <td>Research scientist</td>\n",
       "      <td>False</td>\n",
       "    </tr>\n",
       "    <tr>\n",
       "      <th>1</th>\n",
       "      <td>Undergraduate/Graduate student</td>\n",
       "      <td>True</td>\n",
       "    </tr>\n",
       "    <tr>\n",
       "      <th>2</th>\n",
       "      <td>Facility director</td>\n",
       "      <td>False</td>\n",
       "    </tr>\n",
       "    <tr>\n",
       "      <th>3</th>\n",
       "      <td>Principal investigator</td>\n",
       "      <td>False</td>\n",
       "    </tr>\n",
       "    <tr>\n",
       "      <th>4</th>\n",
       "      <td>Undergraduate/Graduate student</td>\n",
       "      <td>True</td>\n",
       "    </tr>\n",
       "  </tbody>\n",
       "</table>\n",
       "</div>"
      ],
      "text/plain": [
       "                             Role  Statistics/Biostatistics\n",
       "0              Research scientist                     False\n",
       "1  Undergraduate/Graduate student                      True\n",
       "2               Facility director                     False\n",
       "3          Principal investigator                     False\n",
       "4  Undergraduate/Graduate student                      True"
      ]
     },
     "execution_count": 626,
     "metadata": {},
     "output_type": "execute_result"
    }
   ],
   "source": [
    "df_Statistics_Biostatistics = data.loc[:, [\"Role\",\"Statistics/Biostatistics\"]]\n",
    "df_Statistics_Biostatistics.head()"
   ]
  },
  {
   "cell_type": "code",
   "execution_count": 627,
   "metadata": {},
   "outputs": [
    {
     "data": {
      "text/html": [
       "<div>\n",
       "<style scoped>\n",
       "    .dataframe tbody tr th:only-of-type {\n",
       "        vertical-align: middle;\n",
       "    }\n",
       "\n",
       "    .dataframe tbody tr th {\n",
       "        vertical-align: top;\n",
       "    }\n",
       "\n",
       "    .dataframe thead th {\n",
       "        text-align: right;\n",
       "    }\n",
       "</style>\n",
       "<table border=\"1\" class=\"dataframe\">\n",
       "  <thead>\n",
       "    <tr style=\"text-align: right;\">\n",
       "      <th></th>\n",
       "      <th>Role</th>\n",
       "      <th>Statistics/Biostatistics</th>\n",
       "    </tr>\n",
       "  </thead>\n",
       "  <tbody>\n",
       "    <tr>\n",
       "      <th>0</th>\n",
       "      <td>Clinician</td>\n",
       "      <td>3</td>\n",
       "    </tr>\n",
       "    <tr>\n",
       "      <th>1</th>\n",
       "      <td>Facility director</td>\n",
       "      <td>3</td>\n",
       "    </tr>\n",
       "    <tr>\n",
       "      <th>2</th>\n",
       "      <td>Facility staff</td>\n",
       "      <td>7</td>\n",
       "    </tr>\n",
       "    <tr>\n",
       "      <th>3</th>\n",
       "      <td>Image/data analyst</td>\n",
       "      <td>15</td>\n",
       "    </tr>\n",
       "    <tr>\n",
       "      <th>4</th>\n",
       "      <td>Postdoctoral fellow</td>\n",
       "      <td>10</td>\n",
       "    </tr>\n",
       "    <tr>\n",
       "      <th>5</th>\n",
       "      <td>Principal investigator</td>\n",
       "      <td>10</td>\n",
       "    </tr>\n",
       "    <tr>\n",
       "      <th>6</th>\n",
       "      <td>Research scientist</td>\n",
       "      <td>7</td>\n",
       "    </tr>\n",
       "    <tr>\n",
       "      <th>7</th>\n",
       "      <td>Undergraduate/Graduate student</td>\n",
       "      <td>19</td>\n",
       "    </tr>\n",
       "  </tbody>\n",
       "</table>\n",
       "</div>"
      ],
      "text/plain": [
       "                             Role  Statistics/Biostatistics\n",
       "0                       Clinician                         3\n",
       "1               Facility director                         3\n",
       "2                  Facility staff                         7\n",
       "3              Image/data analyst                        15\n",
       "4             Postdoctoral fellow                        10\n",
       "5          Principal investigator                        10\n",
       "6              Research scientist                         7\n",
       "7  Undergraduate/Graduate student                        19"
      ]
     },
     "execution_count": 627,
     "metadata": {},
     "output_type": "execute_result"
    }
   ],
   "source": [
    "Statistics_Biostatistics = df_Statistics_Biostatistics.groupby(\"Role\").sum().reset_index()\n",
    "Statistics_Biostatistics"
   ]
  },
  {
   "cell_type": "code",
   "execution_count": 628,
   "metadata": {},
   "outputs": [
    {
     "data": {
      "text/html": [
       "<div>\n",
       "<style scoped>\n",
       "    .dataframe tbody tr th:only-of-type {\n",
       "        vertical-align: middle;\n",
       "    }\n",
       "\n",
       "    .dataframe tbody tr th {\n",
       "        vertical-align: top;\n",
       "    }\n",
       "\n",
       "    .dataframe thead th {\n",
       "        text-align: right;\n",
       "    }\n",
       "</style>\n",
       "<table border=\"1\" class=\"dataframe\">\n",
       "  <thead>\n",
       "    <tr style=\"text-align: right;\">\n",
       "      <th></th>\n",
       "      <th>Role</th>\n",
       "      <th>Medicine</th>\n",
       "    </tr>\n",
       "  </thead>\n",
       "  <tbody>\n",
       "    <tr>\n",
       "      <th>0</th>\n",
       "      <td>Research scientist</td>\n",
       "      <td>False</td>\n",
       "    </tr>\n",
       "    <tr>\n",
       "      <th>1</th>\n",
       "      <td>Undergraduate/Graduate student</td>\n",
       "      <td>False</td>\n",
       "    </tr>\n",
       "    <tr>\n",
       "      <th>2</th>\n",
       "      <td>Facility director</td>\n",
       "      <td>False</td>\n",
       "    </tr>\n",
       "    <tr>\n",
       "      <th>3</th>\n",
       "      <td>Principal investigator</td>\n",
       "      <td>False</td>\n",
       "    </tr>\n",
       "    <tr>\n",
       "      <th>4</th>\n",
       "      <td>Undergraduate/Graduate student</td>\n",
       "      <td>False</td>\n",
       "    </tr>\n",
       "  </tbody>\n",
       "</table>\n",
       "</div>"
      ],
      "text/plain": [
       "                             Role  Medicine\n",
       "0              Research scientist     False\n",
       "1  Undergraduate/Graduate student     False\n",
       "2               Facility director     False\n",
       "3          Principal investigator     False\n",
       "4  Undergraduate/Graduate student     False"
      ]
     },
     "execution_count": 628,
     "metadata": {},
     "output_type": "execute_result"
    }
   ],
   "source": [
    "df_Medicine = data.loc[:, [\"Role\", \"Medicine\"]]\n",
    "df_Medicine.head()"
   ]
  },
  {
   "cell_type": "code",
   "execution_count": 629,
   "metadata": {},
   "outputs": [
    {
     "data": {
      "text/html": [
       "<div>\n",
       "<style scoped>\n",
       "    .dataframe tbody tr th:only-of-type {\n",
       "        vertical-align: middle;\n",
       "    }\n",
       "\n",
       "    .dataframe tbody tr th {\n",
       "        vertical-align: top;\n",
       "    }\n",
       "\n",
       "    .dataframe thead th {\n",
       "        text-align: right;\n",
       "    }\n",
       "</style>\n",
       "<table border=\"1\" class=\"dataframe\">\n",
       "  <thead>\n",
       "    <tr style=\"text-align: right;\">\n",
       "      <th></th>\n",
       "      <th>Role</th>\n",
       "      <th>Medicine</th>\n",
       "    </tr>\n",
       "  </thead>\n",
       "  <tbody>\n",
       "    <tr>\n",
       "      <th>0</th>\n",
       "      <td>Clinician</td>\n",
       "      <td>5</td>\n",
       "    </tr>\n",
       "    <tr>\n",
       "      <th>1</th>\n",
       "      <td>Facility director</td>\n",
       "      <td>2</td>\n",
       "    </tr>\n",
       "    <tr>\n",
       "      <th>2</th>\n",
       "      <td>Facility staff</td>\n",
       "      <td>5</td>\n",
       "    </tr>\n",
       "    <tr>\n",
       "      <th>3</th>\n",
       "      <td>Image/data analyst</td>\n",
       "      <td>6</td>\n",
       "    </tr>\n",
       "    <tr>\n",
       "      <th>4</th>\n",
       "      <td>Postdoctoral fellow</td>\n",
       "      <td>4</td>\n",
       "    </tr>\n",
       "    <tr>\n",
       "      <th>5</th>\n",
       "      <td>Principal investigator</td>\n",
       "      <td>4</td>\n",
       "    </tr>\n",
       "    <tr>\n",
       "      <th>6</th>\n",
       "      <td>Research scientist</td>\n",
       "      <td>2</td>\n",
       "    </tr>\n",
       "    <tr>\n",
       "      <th>7</th>\n",
       "      <td>Undergraduate/Graduate student</td>\n",
       "      <td>12</td>\n",
       "    </tr>\n",
       "  </tbody>\n",
       "</table>\n",
       "</div>"
      ],
      "text/plain": [
       "                             Role  Medicine\n",
       "0                       Clinician         5\n",
       "1               Facility director         2\n",
       "2                  Facility staff         5\n",
       "3              Image/data analyst         6\n",
       "4             Postdoctoral fellow         4\n",
       "5          Principal investigator         4\n",
       "6              Research scientist         2\n",
       "7  Undergraduate/Graduate student        12"
      ]
     },
     "execution_count": 629,
     "metadata": {},
     "output_type": "execute_result"
    }
   ],
   "source": [
    "Medicine = df_Medicine.groupby(\"Role\").sum().reset_index()\n",
    "Medicine"
   ]
  },
  {
   "cell_type": "code",
   "execution_count": 630,
   "metadata": {},
   "outputs": [
    {
     "data": {
      "text/html": [
       "<div>\n",
       "<style scoped>\n",
       "    .dataframe tbody tr th:only-of-type {\n",
       "        vertical-align: middle;\n",
       "    }\n",
       "\n",
       "    .dataframe tbody tr th {\n",
       "        vertical-align: top;\n",
       "    }\n",
       "\n",
       "    .dataframe thead th {\n",
       "        text-align: right;\n",
       "    }\n",
       "</style>\n",
       "<table border=\"1\" class=\"dataframe\">\n",
       "  <thead>\n",
       "    <tr style=\"text-align: right;\">\n",
       "      <th></th>\n",
       "      <th>Role</th>\n",
       "      <th>Computer science</th>\n",
       "    </tr>\n",
       "  </thead>\n",
       "  <tbody>\n",
       "    <tr>\n",
       "      <th>0</th>\n",
       "      <td>Research scientist</td>\n",
       "      <td>False</td>\n",
       "    </tr>\n",
       "    <tr>\n",
       "      <th>1</th>\n",
       "      <td>Undergraduate/Graduate student</td>\n",
       "      <td>False</td>\n",
       "    </tr>\n",
       "    <tr>\n",
       "      <th>2</th>\n",
       "      <td>Facility director</td>\n",
       "      <td>False</td>\n",
       "    </tr>\n",
       "    <tr>\n",
       "      <th>3</th>\n",
       "      <td>Principal investigator</td>\n",
       "      <td>False</td>\n",
       "    </tr>\n",
       "    <tr>\n",
       "      <th>4</th>\n",
       "      <td>Undergraduate/Graduate student</td>\n",
       "      <td>True</td>\n",
       "    </tr>\n",
       "  </tbody>\n",
       "</table>\n",
       "</div>"
      ],
      "text/plain": [
       "                             Role  Computer science\n",
       "0              Research scientist             False\n",
       "1  Undergraduate/Graduate student             False\n",
       "2               Facility director             False\n",
       "3          Principal investigator             False\n",
       "4  Undergraduate/Graduate student              True"
      ]
     },
     "execution_count": 630,
     "metadata": {},
     "output_type": "execute_result"
    }
   ],
   "source": [
    "df_Computer_science = data.loc[:,[\"Role\", \"Computer science\"]]\n",
    "df_Computer_science.head()"
   ]
  },
  {
   "cell_type": "code",
   "execution_count": 631,
   "metadata": {},
   "outputs": [
    {
     "data": {
      "text/html": [
       "<div>\n",
       "<style scoped>\n",
       "    .dataframe tbody tr th:only-of-type {\n",
       "        vertical-align: middle;\n",
       "    }\n",
       "\n",
       "    .dataframe tbody tr th {\n",
       "        vertical-align: top;\n",
       "    }\n",
       "\n",
       "    .dataframe thead th {\n",
       "        text-align: right;\n",
       "    }\n",
       "</style>\n",
       "<table border=\"1\" class=\"dataframe\">\n",
       "  <thead>\n",
       "    <tr style=\"text-align: right;\">\n",
       "      <th></th>\n",
       "      <th>Role</th>\n",
       "      <th>Computer science</th>\n",
       "    </tr>\n",
       "  </thead>\n",
       "  <tbody>\n",
       "    <tr>\n",
       "      <th>0</th>\n",
       "      <td>Clinician</td>\n",
       "      <td>0</td>\n",
       "    </tr>\n",
       "    <tr>\n",
       "      <th>1</th>\n",
       "      <td>Facility director</td>\n",
       "      <td>3</td>\n",
       "    </tr>\n",
       "    <tr>\n",
       "      <th>2</th>\n",
       "      <td>Facility staff</td>\n",
       "      <td>10</td>\n",
       "    </tr>\n",
       "    <tr>\n",
       "      <th>3</th>\n",
       "      <td>Image/data analyst</td>\n",
       "      <td>20</td>\n",
       "    </tr>\n",
       "    <tr>\n",
       "      <th>4</th>\n",
       "      <td>Postdoctoral fellow</td>\n",
       "      <td>12</td>\n",
       "    </tr>\n",
       "    <tr>\n",
       "      <th>5</th>\n",
       "      <td>Principal investigator</td>\n",
       "      <td>7</td>\n",
       "    </tr>\n",
       "    <tr>\n",
       "      <th>6</th>\n",
       "      <td>Research scientist</td>\n",
       "      <td>9</td>\n",
       "    </tr>\n",
       "    <tr>\n",
       "      <th>7</th>\n",
       "      <td>Undergraduate/Graduate student</td>\n",
       "      <td>15</td>\n",
       "    </tr>\n",
       "  </tbody>\n",
       "</table>\n",
       "</div>"
      ],
      "text/plain": [
       "                             Role  Computer science\n",
       "0                       Clinician                 0\n",
       "1               Facility director                 3\n",
       "2                  Facility staff                10\n",
       "3              Image/data analyst                20\n",
       "4             Postdoctoral fellow                12\n",
       "5          Principal investigator                 7\n",
       "6              Research scientist                 9\n",
       "7  Undergraduate/Graduate student                15"
      ]
     },
     "execution_count": 631,
     "metadata": {},
     "output_type": "execute_result"
    }
   ],
   "source": [
    "Computer_science = df_Computer_science.groupby(\"Role\").sum().reset_index()\n",
    "Computer_science"
   ]
  },
  {
   "cell_type": "code",
   "execution_count": 632,
   "metadata": {},
   "outputs": [
    {
     "data": {
      "text/html": [
       "<div>\n",
       "<style scoped>\n",
       "    .dataframe tbody tr th:only-of-type {\n",
       "        vertical-align: middle;\n",
       "    }\n",
       "\n",
       "    .dataframe tbody tr th {\n",
       "        vertical-align: top;\n",
       "    }\n",
       "\n",
       "    .dataframe thead th {\n",
       "        text-align: right;\n",
       "    }\n",
       "</style>\n",
       "<table border=\"1\" class=\"dataframe\">\n",
       "  <thead>\n",
       "    <tr style=\"text-align: right;\">\n",
       "      <th></th>\n",
       "      <th>Role</th>\n",
       "      <th>Computer vision</th>\n",
       "    </tr>\n",
       "  </thead>\n",
       "  <tbody>\n",
       "    <tr>\n",
       "      <th>0</th>\n",
       "      <td>Research scientist</td>\n",
       "      <td>False</td>\n",
       "    </tr>\n",
       "    <tr>\n",
       "      <th>1</th>\n",
       "      <td>Undergraduate/Graduate student</td>\n",
       "      <td>False</td>\n",
       "    </tr>\n",
       "    <tr>\n",
       "      <th>2</th>\n",
       "      <td>Facility director</td>\n",
       "      <td>False</td>\n",
       "    </tr>\n",
       "    <tr>\n",
       "      <th>3</th>\n",
       "      <td>Principal investigator</td>\n",
       "      <td>False</td>\n",
       "    </tr>\n",
       "    <tr>\n",
       "      <th>4</th>\n",
       "      <td>Undergraduate/Graduate student</td>\n",
       "      <td>True</td>\n",
       "    </tr>\n",
       "  </tbody>\n",
       "</table>\n",
       "</div>"
      ],
      "text/plain": [
       "                             Role  Computer vision\n",
       "0              Research scientist            False\n",
       "1  Undergraduate/Graduate student            False\n",
       "2               Facility director            False\n",
       "3          Principal investigator            False\n",
       "4  Undergraduate/Graduate student             True"
      ]
     },
     "execution_count": 632,
     "metadata": {},
     "output_type": "execute_result"
    }
   ],
   "source": [
    "df_Computer_vision = data.loc[:, [\"Role\", \"Computer vision\"]]\n",
    "df_Computer_vision.head()"
   ]
  },
  {
   "cell_type": "code",
   "execution_count": 633,
   "metadata": {},
   "outputs": [
    {
     "data": {
      "text/html": [
       "<div>\n",
       "<style scoped>\n",
       "    .dataframe tbody tr th:only-of-type {\n",
       "        vertical-align: middle;\n",
       "    }\n",
       "\n",
       "    .dataframe tbody tr th {\n",
       "        vertical-align: top;\n",
       "    }\n",
       "\n",
       "    .dataframe thead th {\n",
       "        text-align: right;\n",
       "    }\n",
       "</style>\n",
       "<table border=\"1\" class=\"dataframe\">\n",
       "  <thead>\n",
       "    <tr style=\"text-align: right;\">\n",
       "      <th></th>\n",
       "      <th>Role</th>\n",
       "      <th>Computer vision</th>\n",
       "    </tr>\n",
       "  </thead>\n",
       "  <tbody>\n",
       "    <tr>\n",
       "      <th>0</th>\n",
       "      <td>Clinician</td>\n",
       "      <td>1</td>\n",
       "    </tr>\n",
       "    <tr>\n",
       "      <th>1</th>\n",
       "      <td>Facility director</td>\n",
       "      <td>2</td>\n",
       "    </tr>\n",
       "    <tr>\n",
       "      <th>2</th>\n",
       "      <td>Facility staff</td>\n",
       "      <td>6</td>\n",
       "    </tr>\n",
       "    <tr>\n",
       "      <th>3</th>\n",
       "      <td>Image/data analyst</td>\n",
       "      <td>14</td>\n",
       "    </tr>\n",
       "    <tr>\n",
       "      <th>4</th>\n",
       "      <td>Postdoctoral fellow</td>\n",
       "      <td>3</td>\n",
       "    </tr>\n",
       "    <tr>\n",
       "      <th>5</th>\n",
       "      <td>Principal investigator</td>\n",
       "      <td>4</td>\n",
       "    </tr>\n",
       "    <tr>\n",
       "      <th>6</th>\n",
       "      <td>Research scientist</td>\n",
       "      <td>8</td>\n",
       "    </tr>\n",
       "    <tr>\n",
       "      <th>7</th>\n",
       "      <td>Undergraduate/Graduate student</td>\n",
       "      <td>8</td>\n",
       "    </tr>\n",
       "  </tbody>\n",
       "</table>\n",
       "</div>"
      ],
      "text/plain": [
       "                             Role  Computer vision\n",
       "0                       Clinician                1\n",
       "1               Facility director                2\n",
       "2                  Facility staff                6\n",
       "3              Image/data analyst               14\n",
       "4             Postdoctoral fellow                3\n",
       "5          Principal investigator                4\n",
       "6              Research scientist                8\n",
       "7  Undergraduate/Graduate student                8"
      ]
     },
     "execution_count": 633,
     "metadata": {},
     "output_type": "execute_result"
    }
   ],
   "source": [
    "Computer_vision = df_Computer_vision.groupby(\"Role\").sum().reset_index()\n",
    "Computer_vision"
   ]
  },
  {
   "cell_type": "code",
   "execution_count": 634,
   "metadata": {},
   "outputs": [
    {
     "data": {
      "text/html": [
       "<div>\n",
       "<style scoped>\n",
       "    .dataframe tbody tr th:only-of-type {\n",
       "        vertical-align: middle;\n",
       "    }\n",
       "\n",
       "    .dataframe tbody tr th {\n",
       "        vertical-align: top;\n",
       "    }\n",
       "\n",
       "    .dataframe thead th {\n",
       "        text-align: right;\n",
       "    }\n",
       "</style>\n",
       "<table border=\"1\" class=\"dataframe\">\n",
       "  <thead>\n",
       "    <tr style=\"text-align: right;\">\n",
       "      <th></th>\n",
       "      <th>Role</th>\n",
       "      <th>Deep learning</th>\n",
       "    </tr>\n",
       "  </thead>\n",
       "  <tbody>\n",
       "    <tr>\n",
       "      <th>0</th>\n",
       "      <td>Research scientist</td>\n",
       "      <td>False</td>\n",
       "    </tr>\n",
       "    <tr>\n",
       "      <th>1</th>\n",
       "      <td>Undergraduate/Graduate student</td>\n",
       "      <td>True</td>\n",
       "    </tr>\n",
       "    <tr>\n",
       "      <th>2</th>\n",
       "      <td>Facility director</td>\n",
       "      <td>False</td>\n",
       "    </tr>\n",
       "    <tr>\n",
       "      <th>3</th>\n",
       "      <td>Principal investigator</td>\n",
       "      <td>False</td>\n",
       "    </tr>\n",
       "    <tr>\n",
       "      <th>4</th>\n",
       "      <td>Undergraduate/Graduate student</td>\n",
       "      <td>True</td>\n",
       "    </tr>\n",
       "  </tbody>\n",
       "</table>\n",
       "</div>"
      ],
      "text/plain": [
       "                             Role  Deep learning\n",
       "0              Research scientist          False\n",
       "1  Undergraduate/Graduate student           True\n",
       "2               Facility director          False\n",
       "3          Principal investigator          False\n",
       "4  Undergraduate/Graduate student           True"
      ]
     },
     "execution_count": 634,
     "metadata": {},
     "output_type": "execute_result"
    }
   ],
   "source": [
    "df_Deep_learning = data.loc[:, [\"Role\", \"Deep learning\"]]\n",
    "df_Deep_learning.head()"
   ]
  },
  {
   "cell_type": "code",
   "execution_count": 635,
   "metadata": {},
   "outputs": [
    {
     "data": {
      "text/html": [
       "<div>\n",
       "<style scoped>\n",
       "    .dataframe tbody tr th:only-of-type {\n",
       "        vertical-align: middle;\n",
       "    }\n",
       "\n",
       "    .dataframe tbody tr th {\n",
       "        vertical-align: top;\n",
       "    }\n",
       "\n",
       "    .dataframe thead th {\n",
       "        text-align: right;\n",
       "    }\n",
       "</style>\n",
       "<table border=\"1\" class=\"dataframe\">\n",
       "  <thead>\n",
       "    <tr style=\"text-align: right;\">\n",
       "      <th></th>\n",
       "      <th>Role</th>\n",
       "      <th>Deep learning</th>\n",
       "    </tr>\n",
       "  </thead>\n",
       "  <tbody>\n",
       "    <tr>\n",
       "      <th>0</th>\n",
       "      <td>Clinician</td>\n",
       "      <td>0</td>\n",
       "    </tr>\n",
       "    <tr>\n",
       "      <th>1</th>\n",
       "      <td>Facility director</td>\n",
       "      <td>1</td>\n",
       "    </tr>\n",
       "    <tr>\n",
       "      <th>2</th>\n",
       "      <td>Facility staff</td>\n",
       "      <td>3</td>\n",
       "    </tr>\n",
       "    <tr>\n",
       "      <th>3</th>\n",
       "      <td>Image/data analyst</td>\n",
       "      <td>12</td>\n",
       "    </tr>\n",
       "    <tr>\n",
       "      <th>4</th>\n",
       "      <td>Postdoctoral fellow</td>\n",
       "      <td>5</td>\n",
       "    </tr>\n",
       "    <tr>\n",
       "      <th>5</th>\n",
       "      <td>Principal investigator</td>\n",
       "      <td>4</td>\n",
       "    </tr>\n",
       "    <tr>\n",
       "      <th>6</th>\n",
       "      <td>Research scientist</td>\n",
       "      <td>5</td>\n",
       "    </tr>\n",
       "    <tr>\n",
       "      <th>7</th>\n",
       "      <td>Undergraduate/Graduate student</td>\n",
       "      <td>10</td>\n",
       "    </tr>\n",
       "  </tbody>\n",
       "</table>\n",
       "</div>"
      ],
      "text/plain": [
       "                             Role  Deep learning\n",
       "0                       Clinician              0\n",
       "1               Facility director              1\n",
       "2                  Facility staff              3\n",
       "3              Image/data analyst             12\n",
       "4             Postdoctoral fellow              5\n",
       "5          Principal investigator              4\n",
       "6              Research scientist              5\n",
       "7  Undergraduate/Graduate student             10"
      ]
     },
     "execution_count": 635,
     "metadata": {},
     "output_type": "execute_result"
    }
   ],
   "source": [
    "Deep_learning = df_Deep_learning.groupby(\"Role\").sum().reset_index()\n",
    "Deep_learning"
   ]
  },
  {
   "cell_type": "code",
   "execution_count": 636,
   "metadata": {},
   "outputs": [
    {
     "data": {
      "text/html": [
       "<div>\n",
       "<style scoped>\n",
       "    .dataframe tbody tr th:only-of-type {\n",
       "        vertical-align: middle;\n",
       "    }\n",
       "\n",
       "    .dataframe tbody tr th {\n",
       "        vertical-align: top;\n",
       "    }\n",
       "\n",
       "    .dataframe thead th {\n",
       "        text-align: right;\n",
       "    }\n",
       "</style>\n",
       "<table border=\"1\" class=\"dataframe\">\n",
       "  <thead>\n",
       "    <tr style=\"text-align: right;\">\n",
       "      <th></th>\n",
       "      <th>Role</th>\n",
       "      <th>Developmental Biology</th>\n",
       "    </tr>\n",
       "  </thead>\n",
       "  <tbody>\n",
       "    <tr>\n",
       "      <th>0</th>\n",
       "      <td>Research scientist</td>\n",
       "      <td>False</td>\n",
       "    </tr>\n",
       "    <tr>\n",
       "      <th>1</th>\n",
       "      <td>Undergraduate/Graduate student</td>\n",
       "      <td>False</td>\n",
       "    </tr>\n",
       "    <tr>\n",
       "      <th>2</th>\n",
       "      <td>Facility director</td>\n",
       "      <td>False</td>\n",
       "    </tr>\n",
       "    <tr>\n",
       "      <th>3</th>\n",
       "      <td>Principal investigator</td>\n",
       "      <td>False</td>\n",
       "    </tr>\n",
       "    <tr>\n",
       "      <th>4</th>\n",
       "      <td>Undergraduate/Graduate student</td>\n",
       "      <td>False</td>\n",
       "    </tr>\n",
       "  </tbody>\n",
       "</table>\n",
       "</div>"
      ],
      "text/plain": [
       "                             Role  Developmental Biology\n",
       "0              Research scientist                  False\n",
       "1  Undergraduate/Graduate student                  False\n",
       "2               Facility director                  False\n",
       "3          Principal investigator                  False\n",
       "4  Undergraduate/Graduate student                  False"
      ]
     },
     "execution_count": 636,
     "metadata": {},
     "output_type": "execute_result"
    }
   ],
   "source": [
    "df_Developmental_Biology = data.loc[:, [\"Role\", \"Developmental Biology\"]]\n",
    "df_Developmental_Biology.head()"
   ]
  },
  {
   "cell_type": "code",
   "execution_count": 637,
   "metadata": {},
   "outputs": [
    {
     "data": {
      "text/html": [
       "<div>\n",
       "<style scoped>\n",
       "    .dataframe tbody tr th:only-of-type {\n",
       "        vertical-align: middle;\n",
       "    }\n",
       "\n",
       "    .dataframe tbody tr th {\n",
       "        vertical-align: top;\n",
       "    }\n",
       "\n",
       "    .dataframe thead th {\n",
       "        text-align: right;\n",
       "    }\n",
       "</style>\n",
       "<table border=\"1\" class=\"dataframe\">\n",
       "  <thead>\n",
       "    <tr style=\"text-align: right;\">\n",
       "      <th></th>\n",
       "      <th>Role</th>\n",
       "      <th>Developmental Biology</th>\n",
       "    </tr>\n",
       "  </thead>\n",
       "  <tbody>\n",
       "    <tr>\n",
       "      <th>0</th>\n",
       "      <td>Clinician</td>\n",
       "      <td>1</td>\n",
       "    </tr>\n",
       "    <tr>\n",
       "      <th>1</th>\n",
       "      <td>Facility director</td>\n",
       "      <td>13</td>\n",
       "    </tr>\n",
       "    <tr>\n",
       "      <th>2</th>\n",
       "      <td>Facility staff</td>\n",
       "      <td>20</td>\n",
       "    </tr>\n",
       "    <tr>\n",
       "      <th>3</th>\n",
       "      <td>Image/data analyst</td>\n",
       "      <td>6</td>\n",
       "    </tr>\n",
       "    <tr>\n",
       "      <th>4</th>\n",
       "      <td>Postdoctoral fellow</td>\n",
       "      <td>22</td>\n",
       "    </tr>\n",
       "    <tr>\n",
       "      <th>5</th>\n",
       "      <td>Principal investigator</td>\n",
       "      <td>22</td>\n",
       "    </tr>\n",
       "    <tr>\n",
       "      <th>6</th>\n",
       "      <td>Research scientist</td>\n",
       "      <td>20</td>\n",
       "    </tr>\n",
       "    <tr>\n",
       "      <th>7</th>\n",
       "      <td>Undergraduate/Graduate student</td>\n",
       "      <td>23</td>\n",
       "    </tr>\n",
       "  </tbody>\n",
       "</table>\n",
       "</div>"
      ],
      "text/plain": [
       "                             Role  Developmental Biology\n",
       "0                       Clinician                      1\n",
       "1               Facility director                     13\n",
       "2                  Facility staff                     20\n",
       "3              Image/data analyst                      6\n",
       "4             Postdoctoral fellow                     22\n",
       "5          Principal investigator                     22\n",
       "6              Research scientist                     20\n",
       "7  Undergraduate/Graduate student                     23"
      ]
     },
     "execution_count": 637,
     "metadata": {},
     "output_type": "execute_result"
    }
   ],
   "source": [
    "Developmental_Biology = df_Developmental_Biology.groupby(\"Role\").sum().reset_index()\n",
    "Developmental_Biology"
   ]
  },
  {
   "cell_type": "code",
   "execution_count": 638,
   "metadata": {},
   "outputs": [],
   "source": [
    "#concatenating the dataframes wrt roles and domains\n",
    "df_role_domain = pd.concat([Cell_Molecular_Biology, Physics_Biophysics, Chemistry_Biochemistry, Statistics_Biostatistics, Medicine, Computer_science, Computer_vision, Deep_learning, Developmental_Biology], axis=1)"
   ]
  },
  {
   "cell_type": "code",
   "execution_count": 639,
   "metadata": {},
   "outputs": [
    {
     "data": {
      "text/html": [
       "<div>\n",
       "<style scoped>\n",
       "    .dataframe tbody tr th:only-of-type {\n",
       "        vertical-align: middle;\n",
       "    }\n",
       "\n",
       "    .dataframe tbody tr th {\n",
       "        vertical-align: top;\n",
       "    }\n",
       "\n",
       "    .dataframe thead th {\n",
       "        text-align: right;\n",
       "    }\n",
       "</style>\n",
       "<table border=\"1\" class=\"dataframe\">\n",
       "  <thead>\n",
       "    <tr style=\"text-align: right;\">\n",
       "      <th></th>\n",
       "      <th>Role</th>\n",
       "      <th>Cell/Molecular Biology</th>\n",
       "      <th>Role</th>\n",
       "      <th>Physics/Biophysics</th>\n",
       "      <th>Role</th>\n",
       "      <th>Chemistry/Biochemistry</th>\n",
       "      <th>Role</th>\n",
       "      <th>Statistics/Biostatistics</th>\n",
       "      <th>Role</th>\n",
       "      <th>Medicine</th>\n",
       "      <th>Role</th>\n",
       "      <th>Computer science</th>\n",
       "      <th>Role</th>\n",
       "      <th>Computer vision</th>\n",
       "      <th>Role</th>\n",
       "      <th>Deep learning</th>\n",
       "      <th>Role</th>\n",
       "      <th>Developmental Biology</th>\n",
       "    </tr>\n",
       "  </thead>\n",
       "  <tbody>\n",
       "    <tr>\n",
       "      <th>0</th>\n",
       "      <td>Clinician</td>\n",
       "      <td>2</td>\n",
       "      <td>Clinician</td>\n",
       "      <td>0</td>\n",
       "      <td>Clinician</td>\n",
       "      <td>1</td>\n",
       "      <td>Clinician</td>\n",
       "      <td>3</td>\n",
       "      <td>Clinician</td>\n",
       "      <td>5</td>\n",
       "      <td>Clinician</td>\n",
       "      <td>0</td>\n",
       "      <td>Clinician</td>\n",
       "      <td>1</td>\n",
       "      <td>Clinician</td>\n",
       "      <td>0</td>\n",
       "      <td>Clinician</td>\n",
       "      <td>1</td>\n",
       "    </tr>\n",
       "    <tr>\n",
       "      <th>1</th>\n",
       "      <td>Facility director</td>\n",
       "      <td>41</td>\n",
       "      <td>Facility director</td>\n",
       "      <td>12</td>\n",
       "      <td>Facility director</td>\n",
       "      <td>12</td>\n",
       "      <td>Facility director</td>\n",
       "      <td>3</td>\n",
       "      <td>Facility director</td>\n",
       "      <td>2</td>\n",
       "      <td>Facility director</td>\n",
       "      <td>3</td>\n",
       "      <td>Facility director</td>\n",
       "      <td>2</td>\n",
       "      <td>Facility director</td>\n",
       "      <td>1</td>\n",
       "      <td>Facility director</td>\n",
       "      <td>13</td>\n",
       "    </tr>\n",
       "    <tr>\n",
       "      <th>2</th>\n",
       "      <td>Facility staff</td>\n",
       "      <td>64</td>\n",
       "      <td>Facility staff</td>\n",
       "      <td>10</td>\n",
       "      <td>Facility staff</td>\n",
       "      <td>17</td>\n",
       "      <td>Facility staff</td>\n",
       "      <td>7</td>\n",
       "      <td>Facility staff</td>\n",
       "      <td>5</td>\n",
       "      <td>Facility staff</td>\n",
       "      <td>10</td>\n",
       "      <td>Facility staff</td>\n",
       "      <td>6</td>\n",
       "      <td>Facility staff</td>\n",
       "      <td>3</td>\n",
       "      <td>Facility staff</td>\n",
       "      <td>20</td>\n",
       "    </tr>\n",
       "    <tr>\n",
       "      <th>3</th>\n",
       "      <td>Image/data analyst</td>\n",
       "      <td>21</td>\n",
       "      <td>Image/data analyst</td>\n",
       "      <td>13</td>\n",
       "      <td>Image/data analyst</td>\n",
       "      <td>8</td>\n",
       "      <td>Image/data analyst</td>\n",
       "      <td>15</td>\n",
       "      <td>Image/data analyst</td>\n",
       "      <td>6</td>\n",
       "      <td>Image/data analyst</td>\n",
       "      <td>20</td>\n",
       "      <td>Image/data analyst</td>\n",
       "      <td>14</td>\n",
       "      <td>Image/data analyst</td>\n",
       "      <td>12</td>\n",
       "      <td>Image/data analyst</td>\n",
       "      <td>6</td>\n",
       "    </tr>\n",
       "    <tr>\n",
       "      <th>4</th>\n",
       "      <td>Postdoctoral fellow</td>\n",
       "      <td>59</td>\n",
       "      <td>Postdoctoral fellow</td>\n",
       "      <td>16</td>\n",
       "      <td>Postdoctoral fellow</td>\n",
       "      <td>18</td>\n",
       "      <td>Postdoctoral fellow</td>\n",
       "      <td>10</td>\n",
       "      <td>Postdoctoral fellow</td>\n",
       "      <td>4</td>\n",
       "      <td>Postdoctoral fellow</td>\n",
       "      <td>12</td>\n",
       "      <td>Postdoctoral fellow</td>\n",
       "      <td>3</td>\n",
       "      <td>Postdoctoral fellow</td>\n",
       "      <td>5</td>\n",
       "      <td>Postdoctoral fellow</td>\n",
       "      <td>22</td>\n",
       "    </tr>\n",
       "  </tbody>\n",
       "</table>\n",
       "</div>"
      ],
      "text/plain": [
       "                  Role  Cell/Molecular Biology                 Role  \\\n",
       "0            Clinician                       2            Clinician   \n",
       "1    Facility director                      41    Facility director   \n",
       "2       Facility staff                      64       Facility staff   \n",
       "3   Image/data analyst                      21   Image/data analyst   \n",
       "4  Postdoctoral fellow                      59  Postdoctoral fellow   \n",
       "\n",
       "   Physics/Biophysics                 Role  Chemistry/Biochemistry  \\\n",
       "0                   0            Clinician                       1   \n",
       "1                  12    Facility director                      12   \n",
       "2                  10       Facility staff                      17   \n",
       "3                  13   Image/data analyst                       8   \n",
       "4                  16  Postdoctoral fellow                      18   \n",
       "\n",
       "                  Role  Statistics/Biostatistics                 Role  \\\n",
       "0            Clinician                         3            Clinician   \n",
       "1    Facility director                         3    Facility director   \n",
       "2       Facility staff                         7       Facility staff   \n",
       "3   Image/data analyst                        15   Image/data analyst   \n",
       "4  Postdoctoral fellow                        10  Postdoctoral fellow   \n",
       "\n",
       "   Medicine                 Role  Computer science                 Role  \\\n",
       "0         5            Clinician                 0            Clinician   \n",
       "1         2    Facility director                 3    Facility director   \n",
       "2         5       Facility staff                10       Facility staff   \n",
       "3         6   Image/data analyst                20   Image/data analyst   \n",
       "4         4  Postdoctoral fellow                12  Postdoctoral fellow   \n",
       "\n",
       "   Computer vision                 Role  Deep learning                 Role  \\\n",
       "0                1            Clinician              0            Clinician   \n",
       "1                2    Facility director              1    Facility director   \n",
       "2                6       Facility staff              3       Facility staff   \n",
       "3               14   Image/data analyst             12   Image/data analyst   \n",
       "4                3  Postdoctoral fellow              5  Postdoctoral fellow   \n",
       "\n",
       "   Developmental Biology  \n",
       "0                      1  \n",
       "1                     13  \n",
       "2                     20  \n",
       "3                      6  \n",
       "4                     22  "
      ]
     },
     "execution_count": 639,
     "metadata": {},
     "output_type": "execute_result"
    }
   ],
   "source": [
    "df_role_domain.head()"
   ]
  },
  {
   "cell_type": "code",
   "execution_count": 640,
   "metadata": {},
   "outputs": [],
   "source": [
    "df_role_domain = df_role_domain.T.drop_duplicates().T"
   ]
  },
  {
   "cell_type": "code",
   "execution_count": 641,
   "metadata": {},
   "outputs": [
    {
     "data": {
      "text/html": [
       "<div>\n",
       "<style scoped>\n",
       "    .dataframe tbody tr th:only-of-type {\n",
       "        vertical-align: middle;\n",
       "    }\n",
       "\n",
       "    .dataframe tbody tr th {\n",
       "        vertical-align: top;\n",
       "    }\n",
       "\n",
       "    .dataframe thead th {\n",
       "        text-align: right;\n",
       "    }\n",
       "</style>\n",
       "<table border=\"1\" class=\"dataframe\">\n",
       "  <thead>\n",
       "    <tr style=\"text-align: right;\">\n",
       "      <th></th>\n",
       "      <th>Role</th>\n",
       "      <th>Cell/Molecular Biology</th>\n",
       "      <th>Physics/Biophysics</th>\n",
       "      <th>Chemistry/Biochemistry</th>\n",
       "      <th>Statistics/Biostatistics</th>\n",
       "      <th>Medicine</th>\n",
       "      <th>Computer science</th>\n",
       "      <th>Computer vision</th>\n",
       "      <th>Deep learning</th>\n",
       "      <th>Developmental Biology</th>\n",
       "    </tr>\n",
       "  </thead>\n",
       "  <tbody>\n",
       "    <tr>\n",
       "      <th>0</th>\n",
       "      <td>Clinician</td>\n",
       "      <td>2</td>\n",
       "      <td>0</td>\n",
       "      <td>1</td>\n",
       "      <td>3</td>\n",
       "      <td>5</td>\n",
       "      <td>0</td>\n",
       "      <td>1</td>\n",
       "      <td>0</td>\n",
       "      <td>1</td>\n",
       "    </tr>\n",
       "    <tr>\n",
       "      <th>1</th>\n",
       "      <td>Facility director</td>\n",
       "      <td>41</td>\n",
       "      <td>12</td>\n",
       "      <td>12</td>\n",
       "      <td>3</td>\n",
       "      <td>2</td>\n",
       "      <td>3</td>\n",
       "      <td>2</td>\n",
       "      <td>1</td>\n",
       "      <td>13</td>\n",
       "    </tr>\n",
       "    <tr>\n",
       "      <th>2</th>\n",
       "      <td>Facility staff</td>\n",
       "      <td>64</td>\n",
       "      <td>10</td>\n",
       "      <td>17</td>\n",
       "      <td>7</td>\n",
       "      <td>5</td>\n",
       "      <td>10</td>\n",
       "      <td>6</td>\n",
       "      <td>3</td>\n",
       "      <td>20</td>\n",
       "    </tr>\n",
       "    <tr>\n",
       "      <th>3</th>\n",
       "      <td>Image/data analyst</td>\n",
       "      <td>21</td>\n",
       "      <td>13</td>\n",
       "      <td>8</td>\n",
       "      <td>15</td>\n",
       "      <td>6</td>\n",
       "      <td>20</td>\n",
       "      <td>14</td>\n",
       "      <td>12</td>\n",
       "      <td>6</td>\n",
       "    </tr>\n",
       "    <tr>\n",
       "      <th>4</th>\n",
       "      <td>Postdoctoral fellow</td>\n",
       "      <td>59</td>\n",
       "      <td>16</td>\n",
       "      <td>18</td>\n",
       "      <td>10</td>\n",
       "      <td>4</td>\n",
       "      <td>12</td>\n",
       "      <td>3</td>\n",
       "      <td>5</td>\n",
       "      <td>22</td>\n",
       "    </tr>\n",
       "  </tbody>\n",
       "</table>\n",
       "</div>"
      ],
      "text/plain": [
       "                  Role Cell/Molecular Biology Physics/Biophysics  \\\n",
       "0            Clinician                      2                  0   \n",
       "1    Facility director                     41                 12   \n",
       "2       Facility staff                     64                 10   \n",
       "3   Image/data analyst                     21                 13   \n",
       "4  Postdoctoral fellow                     59                 16   \n",
       "\n",
       "  Chemistry/Biochemistry Statistics/Biostatistics Medicine Computer science  \\\n",
       "0                      1                        3        5                0   \n",
       "1                     12                        3        2                3   \n",
       "2                     17                        7        5               10   \n",
       "3                      8                       15        6               20   \n",
       "4                     18                       10        4               12   \n",
       "\n",
       "  Computer vision Deep learning Developmental Biology  \n",
       "0               1             0                     1  \n",
       "1               2             1                    13  \n",
       "2               6             3                    20  \n",
       "3              14            12                     6  \n",
       "4               3             5                    22  "
      ]
     },
     "execution_count": 641,
     "metadata": {},
     "output_type": "execute_result"
    }
   ],
   "source": [
    "df_role_domain.head()"
   ]
  },
  {
   "cell_type": "code",
   "execution_count": 804,
   "metadata": {},
   "outputs": [
    {
     "data": {
      "application/vnd.plotly.v1+json": {
       "config": {
        "plotlyServerURL": "https://plot.ly"
       },
       "data": [
        {
         "name": "Developmental Biology",
         "type": "scatter",
         "x": [
          "Clinician",
          "Facility director",
          "Facility staff",
          "Image/data analyst",
          "Postdoctoral fellow",
          "Principal investigator",
          "Research scientist",
          "Undergraduate/Graduate student"
         ],
         "y": [
          1,
          13,
          20,
          6,
          22,
          22,
          20,
          23
         ]
        },
        {
         "name": "Deep learning",
         "type": "scatter",
         "x": [
          "Clinician",
          "Facility director",
          "Facility staff",
          "Image/data analyst",
          "Postdoctoral fellow",
          "Principal investigator",
          "Research scientist",
          "Undergraduate/Graduate student"
         ],
         "y": [
          0,
          1,
          3,
          12,
          5,
          4,
          5,
          10
         ]
        },
        {
         "name": "Computer vision",
         "type": "scatter",
         "x": [
          "Clinician",
          "Facility director",
          "Facility staff",
          "Image/data analyst",
          "Postdoctoral fellow",
          "Principal investigator",
          "Research scientist",
          "Undergraduate/Graduate student"
         ],
         "y": [
          1,
          2,
          6,
          14,
          3,
          4,
          8,
          8
         ]
        },
        {
         "name": "Computer science",
         "type": "scatter",
         "x": [
          "Clinician",
          "Facility director",
          "Facility staff",
          "Image/data analyst",
          "Postdoctoral fellow",
          "Principal investigator",
          "Research scientist",
          "Undergraduate/Graduate student"
         ],
         "y": [
          0,
          3,
          10,
          20,
          12,
          7,
          9,
          15
         ]
        },
        {
         "name": "Medicine",
         "type": "scatter",
         "x": [
          "Clinician",
          "Facility director",
          "Facility staff",
          "Image/data analyst",
          "Postdoctoral fellow",
          "Principal investigator",
          "Research scientist",
          "Undergraduate/Graduate student"
         ],
         "y": [
          5,
          2,
          5,
          6,
          4,
          4,
          2,
          12
         ]
        },
        {
         "name": "Statistics/Biostatistics",
         "type": "scatter",
         "x": [
          "Clinician",
          "Facility director",
          "Facility staff",
          "Image/data analyst",
          "Postdoctoral fellow",
          "Principal investigator",
          "Research scientist",
          "Undergraduate/Graduate student"
         ],
         "y": [
          3,
          3,
          7,
          15,
          10,
          10,
          7,
          19
         ]
        },
        {
         "name": "Chemistry/Biochemistry",
         "type": "scatter",
         "x": [
          "Clinician",
          "Facility director",
          "Facility staff",
          "Image/data analyst",
          "Postdoctoral fellow",
          "Principal investigator",
          "Research scientist",
          "Undergraduate/Graduate student"
         ],
         "y": [
          1,
          12,
          17,
          8,
          18,
          22,
          21,
          20
         ]
        },
        {
         "name": "Physics/Biophysics",
         "type": "scatter",
         "x": [
          "Clinician",
          "Facility director",
          "Facility staff",
          "Image/data analyst",
          "Postdoctoral fellow",
          "Principal investigator",
          "Research scientist",
          "Undergraduate/Graduate student"
         ],
         "y": [
          0,
          12,
          10,
          13,
          16,
          20,
          17,
          20
         ]
        },
        {
         "name": "Cell/Molecular Biology",
         "type": "scatter",
         "x": [
          "Clinician",
          "Facility director",
          "Facility staff",
          "Image/data analyst",
          "Postdoctoral fellow",
          "Principal investigator",
          "Research scientist",
          "Undergraduate/Graduate student"
         ],
         "y": [
          2,
          41,
          64,
          21,
          59,
          49,
          48,
          81
         ]
        }
       ],
       "layout": {
        "template": {
         "data": {
          "bar": [
           {
            "error_x": {
             "color": "#2a3f5f"
            },
            "error_y": {
             "color": "#2a3f5f"
            },
            "marker": {
             "line": {
              "color": "#E5ECF6",
              "width": 0.5
             },
             "pattern": {
              "fillmode": "overlay",
              "size": 10,
              "solidity": 0.2
             }
            },
            "type": "bar"
           }
          ],
          "barpolar": [
           {
            "marker": {
             "line": {
              "color": "#E5ECF6",
              "width": 0.5
             },
             "pattern": {
              "fillmode": "overlay",
              "size": 10,
              "solidity": 0.2
             }
            },
            "type": "barpolar"
           }
          ],
          "carpet": [
           {
            "aaxis": {
             "endlinecolor": "#2a3f5f",
             "gridcolor": "white",
             "linecolor": "white",
             "minorgridcolor": "white",
             "startlinecolor": "#2a3f5f"
            },
            "baxis": {
             "endlinecolor": "#2a3f5f",
             "gridcolor": "white",
             "linecolor": "white",
             "minorgridcolor": "white",
             "startlinecolor": "#2a3f5f"
            },
            "type": "carpet"
           }
          ],
          "choropleth": [
           {
            "colorbar": {
             "outlinewidth": 0,
             "ticks": ""
            },
            "type": "choropleth"
           }
          ],
          "contour": [
           {
            "colorbar": {
             "outlinewidth": 0,
             "ticks": ""
            },
            "colorscale": [
             [
              0,
              "#0d0887"
             ],
             [
              0.1111111111111111,
              "#46039f"
             ],
             [
              0.2222222222222222,
              "#7201a8"
             ],
             [
              0.3333333333333333,
              "#9c179e"
             ],
             [
              0.4444444444444444,
              "#bd3786"
             ],
             [
              0.5555555555555556,
              "#d8576b"
             ],
             [
              0.6666666666666666,
              "#ed7953"
             ],
             [
              0.7777777777777778,
              "#fb9f3a"
             ],
             [
              0.8888888888888888,
              "#fdca26"
             ],
             [
              1,
              "#f0f921"
             ]
            ],
            "type": "contour"
           }
          ],
          "contourcarpet": [
           {
            "colorbar": {
             "outlinewidth": 0,
             "ticks": ""
            },
            "type": "contourcarpet"
           }
          ],
          "heatmap": [
           {
            "colorbar": {
             "outlinewidth": 0,
             "ticks": ""
            },
            "colorscale": [
             [
              0,
              "#0d0887"
             ],
             [
              0.1111111111111111,
              "#46039f"
             ],
             [
              0.2222222222222222,
              "#7201a8"
             ],
             [
              0.3333333333333333,
              "#9c179e"
             ],
             [
              0.4444444444444444,
              "#bd3786"
             ],
             [
              0.5555555555555556,
              "#d8576b"
             ],
             [
              0.6666666666666666,
              "#ed7953"
             ],
             [
              0.7777777777777778,
              "#fb9f3a"
             ],
             [
              0.8888888888888888,
              "#fdca26"
             ],
             [
              1,
              "#f0f921"
             ]
            ],
            "type": "heatmap"
           }
          ],
          "heatmapgl": [
           {
            "colorbar": {
             "outlinewidth": 0,
             "ticks": ""
            },
            "colorscale": [
             [
              0,
              "#0d0887"
             ],
             [
              0.1111111111111111,
              "#46039f"
             ],
             [
              0.2222222222222222,
              "#7201a8"
             ],
             [
              0.3333333333333333,
              "#9c179e"
             ],
             [
              0.4444444444444444,
              "#bd3786"
             ],
             [
              0.5555555555555556,
              "#d8576b"
             ],
             [
              0.6666666666666666,
              "#ed7953"
             ],
             [
              0.7777777777777778,
              "#fb9f3a"
             ],
             [
              0.8888888888888888,
              "#fdca26"
             ],
             [
              1,
              "#f0f921"
             ]
            ],
            "type": "heatmapgl"
           }
          ],
          "histogram": [
           {
            "marker": {
             "pattern": {
              "fillmode": "overlay",
              "size": 10,
              "solidity": 0.2
             }
            },
            "type": "histogram"
           }
          ],
          "histogram2d": [
           {
            "colorbar": {
             "outlinewidth": 0,
             "ticks": ""
            },
            "colorscale": [
             [
              0,
              "#0d0887"
             ],
             [
              0.1111111111111111,
              "#46039f"
             ],
             [
              0.2222222222222222,
              "#7201a8"
             ],
             [
              0.3333333333333333,
              "#9c179e"
             ],
             [
              0.4444444444444444,
              "#bd3786"
             ],
             [
              0.5555555555555556,
              "#d8576b"
             ],
             [
              0.6666666666666666,
              "#ed7953"
             ],
             [
              0.7777777777777778,
              "#fb9f3a"
             ],
             [
              0.8888888888888888,
              "#fdca26"
             ],
             [
              1,
              "#f0f921"
             ]
            ],
            "type": "histogram2d"
           }
          ],
          "histogram2dcontour": [
           {
            "colorbar": {
             "outlinewidth": 0,
             "ticks": ""
            },
            "colorscale": [
             [
              0,
              "#0d0887"
             ],
             [
              0.1111111111111111,
              "#46039f"
             ],
             [
              0.2222222222222222,
              "#7201a8"
             ],
             [
              0.3333333333333333,
              "#9c179e"
             ],
             [
              0.4444444444444444,
              "#bd3786"
             ],
             [
              0.5555555555555556,
              "#d8576b"
             ],
             [
              0.6666666666666666,
              "#ed7953"
             ],
             [
              0.7777777777777778,
              "#fb9f3a"
             ],
             [
              0.8888888888888888,
              "#fdca26"
             ],
             [
              1,
              "#f0f921"
             ]
            ],
            "type": "histogram2dcontour"
           }
          ],
          "mesh3d": [
           {
            "colorbar": {
             "outlinewidth": 0,
             "ticks": ""
            },
            "type": "mesh3d"
           }
          ],
          "parcoords": [
           {
            "line": {
             "colorbar": {
              "outlinewidth": 0,
              "ticks": ""
             }
            },
            "type": "parcoords"
           }
          ],
          "pie": [
           {
            "automargin": true,
            "type": "pie"
           }
          ],
          "scatter": [
           {
            "fillpattern": {
             "fillmode": "overlay",
             "size": 10,
             "solidity": 0.2
            },
            "type": "scatter"
           }
          ],
          "scatter3d": [
           {
            "line": {
             "colorbar": {
              "outlinewidth": 0,
              "ticks": ""
             }
            },
            "marker": {
             "colorbar": {
              "outlinewidth": 0,
              "ticks": ""
             }
            },
            "type": "scatter3d"
           }
          ],
          "scattercarpet": [
           {
            "marker": {
             "colorbar": {
              "outlinewidth": 0,
              "ticks": ""
             }
            },
            "type": "scattercarpet"
           }
          ],
          "scattergeo": [
           {
            "marker": {
             "colorbar": {
              "outlinewidth": 0,
              "ticks": ""
             }
            },
            "type": "scattergeo"
           }
          ],
          "scattergl": [
           {
            "marker": {
             "colorbar": {
              "outlinewidth": 0,
              "ticks": ""
             }
            },
            "type": "scattergl"
           }
          ],
          "scattermapbox": [
           {
            "marker": {
             "colorbar": {
              "outlinewidth": 0,
              "ticks": ""
             }
            },
            "type": "scattermapbox"
           }
          ],
          "scatterpolar": [
           {
            "marker": {
             "colorbar": {
              "outlinewidth": 0,
              "ticks": ""
             }
            },
            "type": "scatterpolar"
           }
          ],
          "scatterpolargl": [
           {
            "marker": {
             "colorbar": {
              "outlinewidth": 0,
              "ticks": ""
             }
            },
            "type": "scatterpolargl"
           }
          ],
          "scatterternary": [
           {
            "marker": {
             "colorbar": {
              "outlinewidth": 0,
              "ticks": ""
             }
            },
            "type": "scatterternary"
           }
          ],
          "surface": [
           {
            "colorbar": {
             "outlinewidth": 0,
             "ticks": ""
            },
            "colorscale": [
             [
              0,
              "#0d0887"
             ],
             [
              0.1111111111111111,
              "#46039f"
             ],
             [
              0.2222222222222222,
              "#7201a8"
             ],
             [
              0.3333333333333333,
              "#9c179e"
             ],
             [
              0.4444444444444444,
              "#bd3786"
             ],
             [
              0.5555555555555556,
              "#d8576b"
             ],
             [
              0.6666666666666666,
              "#ed7953"
             ],
             [
              0.7777777777777778,
              "#fb9f3a"
             ],
             [
              0.8888888888888888,
              "#fdca26"
             ],
             [
              1,
              "#f0f921"
             ]
            ],
            "type": "surface"
           }
          ],
          "table": [
           {
            "cells": {
             "fill": {
              "color": "#EBF0F8"
             },
             "line": {
              "color": "white"
             }
            },
            "header": {
             "fill": {
              "color": "#C8D4E3"
             },
             "line": {
              "color": "white"
             }
            },
            "type": "table"
           }
          ]
         },
         "layout": {
          "annotationdefaults": {
           "arrowcolor": "#2a3f5f",
           "arrowhead": 0,
           "arrowwidth": 1
          },
          "autotypenumbers": "strict",
          "coloraxis": {
           "colorbar": {
            "outlinewidth": 0,
            "ticks": ""
           }
          },
          "colorscale": {
           "diverging": [
            [
             0,
             "#8e0152"
            ],
            [
             0.1,
             "#c51b7d"
            ],
            [
             0.2,
             "#de77ae"
            ],
            [
             0.3,
             "#f1b6da"
            ],
            [
             0.4,
             "#fde0ef"
            ],
            [
             0.5,
             "#f7f7f7"
            ],
            [
             0.6,
             "#e6f5d0"
            ],
            [
             0.7,
             "#b8e186"
            ],
            [
             0.8,
             "#7fbc41"
            ],
            [
             0.9,
             "#4d9221"
            ],
            [
             1,
             "#276419"
            ]
           ],
           "sequential": [
            [
             0,
             "#0d0887"
            ],
            [
             0.1111111111111111,
             "#46039f"
            ],
            [
             0.2222222222222222,
             "#7201a8"
            ],
            [
             0.3333333333333333,
             "#9c179e"
            ],
            [
             0.4444444444444444,
             "#bd3786"
            ],
            [
             0.5555555555555556,
             "#d8576b"
            ],
            [
             0.6666666666666666,
             "#ed7953"
            ],
            [
             0.7777777777777778,
             "#fb9f3a"
            ],
            [
             0.8888888888888888,
             "#fdca26"
            ],
            [
             1,
             "#f0f921"
            ]
           ],
           "sequentialminus": [
            [
             0,
             "#0d0887"
            ],
            [
             0.1111111111111111,
             "#46039f"
            ],
            [
             0.2222222222222222,
             "#7201a8"
            ],
            [
             0.3333333333333333,
             "#9c179e"
            ],
            [
             0.4444444444444444,
             "#bd3786"
            ],
            [
             0.5555555555555556,
             "#d8576b"
            ],
            [
             0.6666666666666666,
             "#ed7953"
            ],
            [
             0.7777777777777778,
             "#fb9f3a"
            ],
            [
             0.8888888888888888,
             "#fdca26"
            ],
            [
             1,
             "#f0f921"
            ]
           ]
          },
          "colorway": [
           "#636efa",
           "#EF553B",
           "#00cc96",
           "#ab63fa",
           "#FFA15A",
           "#19d3f3",
           "#FF6692",
           "#B6E880",
           "#FF97FF",
           "#FECB52"
          ],
          "font": {
           "color": "#2a3f5f"
          },
          "geo": {
           "bgcolor": "white",
           "lakecolor": "white",
           "landcolor": "#E5ECF6",
           "showlakes": true,
           "showland": true,
           "subunitcolor": "white"
          },
          "hoverlabel": {
           "align": "left"
          },
          "hovermode": "closest",
          "mapbox": {
           "style": "light"
          },
          "paper_bgcolor": "white",
          "plot_bgcolor": "#E5ECF6",
          "polar": {
           "angularaxis": {
            "gridcolor": "white",
            "linecolor": "white",
            "ticks": ""
           },
           "bgcolor": "#E5ECF6",
           "radialaxis": {
            "gridcolor": "white",
            "linecolor": "white",
            "ticks": ""
           }
          },
          "scene": {
           "xaxis": {
            "backgroundcolor": "#E5ECF6",
            "gridcolor": "white",
            "gridwidth": 2,
            "linecolor": "white",
            "showbackground": true,
            "ticks": "",
            "zerolinecolor": "white"
           },
           "yaxis": {
            "backgroundcolor": "#E5ECF6",
            "gridcolor": "white",
            "gridwidth": 2,
            "linecolor": "white",
            "showbackground": true,
            "ticks": "",
            "zerolinecolor": "white"
           },
           "zaxis": {
            "backgroundcolor": "#E5ECF6",
            "gridcolor": "white",
            "gridwidth": 2,
            "linecolor": "white",
            "showbackground": true,
            "ticks": "",
            "zerolinecolor": "white"
           }
          },
          "shapedefaults": {
           "line": {
            "color": "#2a3f5f"
           }
          },
          "ternary": {
           "aaxis": {
            "gridcolor": "white",
            "linecolor": "white",
            "ticks": ""
           },
           "baxis": {
            "gridcolor": "white",
            "linecolor": "white",
            "ticks": ""
           },
           "bgcolor": "#E5ECF6",
           "caxis": {
            "gridcolor": "white",
            "linecolor": "white",
            "ticks": ""
           }
          },
          "title": {
           "x": 0.05
          },
          "xaxis": {
           "automargin": true,
           "gridcolor": "white",
           "linecolor": "white",
           "ticks": "",
           "title": {
            "standoff": 15
           },
           "zerolinecolor": "white",
           "zerolinewidth": 2
          },
          "yaxis": {
           "automargin": true,
           "gridcolor": "white",
           "linecolor": "white",
           "ticks": "",
           "title": {
            "standoff": 15
           },
           "zerolinecolor": "white",
           "zerolinewidth": 2
          }
         }
        }
       }
      }
     },
     "metadata": {},
     "output_type": "display_data"
    }
   ],
   "source": [
    "role=df_role_domain[\"Role\"]\n",
    "\n",
    "fig = go.Figure(data=[\n",
    "    go.Scatter(name='Developmental Biology', x=role, y=df_role_domain[\"Developmental Biology\"]),\n",
    "    go.Scatter(name='Deep learning', x=role, y=df_role_domain[\"Deep learning\"]),\n",
    "    go.Scatter(name='Computer vision', x=role, y=df_role_domain[\"Computer vision\"]),\n",
    "    go.Scatter(name=\"Computer science\", x=role, y=df_role_domain[\"Computer science\"]),\n",
    "    go.Scatter(name=\"Medicine\", x=role, y=df_role_domain[\"Medicine\"]),\n",
    "    go.Scatter(name=\"Statistics/Biostatistics\", x=role, y=df_role_domain[\"Statistics/Biostatistics\"]),\n",
    "    go.Scatter(name=\"Chemistry/Biochemistry\", x=role, y=df_role_domain[\"Chemistry/Biochemistry\"]),\n",
    "    go.Scatter(name=\"Physics/Biophysics\", x=role, y=df_role_domain[\"Physics/Biophysics\"]), \n",
    "    go.Scatter(name=\"Cell/Molecular Biology\", x=role, y=df_role_domain[\"Cell/Molecular Biology\"])\n",
    "])\n",
    "# Change the bar mode\n",
    "\n",
    "fig.show()"
   ]
  },
  {
   "cell_type": "code",
   "execution_count": 643,
   "metadata": {},
   "outputs": [
    {
     "data": {
      "application/vnd.plotly.v1+json": {
       "config": {
        "plotlyServerURL": "https://plot.ly"
       },
       "data": [
        {
         "insidetextanchor": "end",
         "name": "Developmental Biology",
         "orientation": "h",
         "type": "bar",
         "x": [
          1,
          13,
          20,
          6,
          22,
          22,
          20,
          23
         ],
         "y": [
          "Clinician",
          "Facility director",
          "Facility staff",
          "Image/data analyst",
          "Postdoctoral fellow",
          "Principal investigator",
          "Research scientist",
          "Undergraduate/Graduate student"
         ]
        },
        {
         "name": "Deep learning",
         "orientation": "h",
         "type": "bar",
         "x": [
          0,
          1,
          3,
          12,
          5,
          4,
          5,
          10
         ],
         "y": [
          "Clinician",
          "Facility director",
          "Facility staff",
          "Image/data analyst",
          "Postdoctoral fellow",
          "Principal investigator",
          "Research scientist",
          "Undergraduate/Graduate student"
         ]
        },
        {
         "name": "Computer vision",
         "orientation": "h",
         "type": "bar",
         "x": [
          1,
          2,
          6,
          14,
          3,
          4,
          8,
          8
         ],
         "y": [
          "Clinician",
          "Facility director",
          "Facility staff",
          "Image/data analyst",
          "Postdoctoral fellow",
          "Principal investigator",
          "Research scientist",
          "Undergraduate/Graduate student"
         ]
        },
        {
         "name": "Computer science",
         "orientation": "h",
         "type": "bar",
         "x": [
          0,
          3,
          10,
          20,
          12,
          7,
          9,
          15
         ],
         "y": [
          "Clinician",
          "Facility director",
          "Facility staff",
          "Image/data analyst",
          "Postdoctoral fellow",
          "Principal investigator",
          "Research scientist",
          "Undergraduate/Graduate student"
         ]
        },
        {
         "name": "Medicine",
         "orientation": "h",
         "type": "bar",
         "x": [
          5,
          2,
          5,
          6,
          4,
          4,
          2,
          12
         ],
         "y": [
          "Clinician",
          "Facility director",
          "Facility staff",
          "Image/data analyst",
          "Postdoctoral fellow",
          "Principal investigator",
          "Research scientist",
          "Undergraduate/Graduate student"
         ]
        },
        {
         "name": "Statistics/Biostatistics",
         "orientation": "h",
         "type": "bar",
         "x": [
          3,
          3,
          7,
          15,
          10,
          10,
          7,
          19
         ],
         "y": [
          "Clinician",
          "Facility director",
          "Facility staff",
          "Image/data analyst",
          "Postdoctoral fellow",
          "Principal investigator",
          "Research scientist",
          "Undergraduate/Graduate student"
         ]
        },
        {
         "name": "Chemistry/Biochemistry",
         "orientation": "h",
         "type": "bar",
         "x": [
          1,
          12,
          17,
          8,
          18,
          22,
          21,
          20
         ],
         "y": [
          "Clinician",
          "Facility director",
          "Facility staff",
          "Image/data analyst",
          "Postdoctoral fellow",
          "Principal investigator",
          "Research scientist",
          "Undergraduate/Graduate student"
         ]
        },
        {
         "name": "Physics/Biophysics",
         "orientation": "h",
         "type": "bar",
         "x": [
          0,
          12,
          10,
          13,
          16,
          20,
          17,
          20
         ],
         "y": [
          "Clinician",
          "Facility director",
          "Facility staff",
          "Image/data analyst",
          "Postdoctoral fellow",
          "Principal investigator",
          "Research scientist",
          "Undergraduate/Graduate student"
         ]
        },
        {
         "name": "Cell/Molecular Biology",
         "orientation": "h",
         "type": "bar",
         "x": [
          2,
          41,
          64,
          21,
          59,
          49,
          48,
          81
         ],
         "y": [
          "Clinician",
          "Facility director",
          "Facility staff",
          "Image/data analyst",
          "Postdoctoral fellow",
          "Principal investigator",
          "Research scientist",
          "Undergraduate/Graduate student"
         ]
        }
       ],
       "layout": {
        "barmode": "stack",
        "template": {
         "data": {
          "bar": [
           {
            "error_x": {
             "color": "#2a3f5f"
            },
            "error_y": {
             "color": "#2a3f5f"
            },
            "marker": {
             "line": {
              "color": "#E5ECF6",
              "width": 0.5
             },
             "pattern": {
              "fillmode": "overlay",
              "size": 10,
              "solidity": 0.2
             }
            },
            "type": "bar"
           }
          ],
          "barpolar": [
           {
            "marker": {
             "line": {
              "color": "#E5ECF6",
              "width": 0.5
             },
             "pattern": {
              "fillmode": "overlay",
              "size": 10,
              "solidity": 0.2
             }
            },
            "type": "barpolar"
           }
          ],
          "carpet": [
           {
            "aaxis": {
             "endlinecolor": "#2a3f5f",
             "gridcolor": "white",
             "linecolor": "white",
             "minorgridcolor": "white",
             "startlinecolor": "#2a3f5f"
            },
            "baxis": {
             "endlinecolor": "#2a3f5f",
             "gridcolor": "white",
             "linecolor": "white",
             "minorgridcolor": "white",
             "startlinecolor": "#2a3f5f"
            },
            "type": "carpet"
           }
          ],
          "choropleth": [
           {
            "colorbar": {
             "outlinewidth": 0,
             "ticks": ""
            },
            "type": "choropleth"
           }
          ],
          "contour": [
           {
            "colorbar": {
             "outlinewidth": 0,
             "ticks": ""
            },
            "colorscale": [
             [
              0,
              "#0d0887"
             ],
             [
              0.1111111111111111,
              "#46039f"
             ],
             [
              0.2222222222222222,
              "#7201a8"
             ],
             [
              0.3333333333333333,
              "#9c179e"
             ],
             [
              0.4444444444444444,
              "#bd3786"
             ],
             [
              0.5555555555555556,
              "#d8576b"
             ],
             [
              0.6666666666666666,
              "#ed7953"
             ],
             [
              0.7777777777777778,
              "#fb9f3a"
             ],
             [
              0.8888888888888888,
              "#fdca26"
             ],
             [
              1,
              "#f0f921"
             ]
            ],
            "type": "contour"
           }
          ],
          "contourcarpet": [
           {
            "colorbar": {
             "outlinewidth": 0,
             "ticks": ""
            },
            "type": "contourcarpet"
           }
          ],
          "heatmap": [
           {
            "colorbar": {
             "outlinewidth": 0,
             "ticks": ""
            },
            "colorscale": [
             [
              0,
              "#0d0887"
             ],
             [
              0.1111111111111111,
              "#46039f"
             ],
             [
              0.2222222222222222,
              "#7201a8"
             ],
             [
              0.3333333333333333,
              "#9c179e"
             ],
             [
              0.4444444444444444,
              "#bd3786"
             ],
             [
              0.5555555555555556,
              "#d8576b"
             ],
             [
              0.6666666666666666,
              "#ed7953"
             ],
             [
              0.7777777777777778,
              "#fb9f3a"
             ],
             [
              0.8888888888888888,
              "#fdca26"
             ],
             [
              1,
              "#f0f921"
             ]
            ],
            "type": "heatmap"
           }
          ],
          "heatmapgl": [
           {
            "colorbar": {
             "outlinewidth": 0,
             "ticks": ""
            },
            "colorscale": [
             [
              0,
              "#0d0887"
             ],
             [
              0.1111111111111111,
              "#46039f"
             ],
             [
              0.2222222222222222,
              "#7201a8"
             ],
             [
              0.3333333333333333,
              "#9c179e"
             ],
             [
              0.4444444444444444,
              "#bd3786"
             ],
             [
              0.5555555555555556,
              "#d8576b"
             ],
             [
              0.6666666666666666,
              "#ed7953"
             ],
             [
              0.7777777777777778,
              "#fb9f3a"
             ],
             [
              0.8888888888888888,
              "#fdca26"
             ],
             [
              1,
              "#f0f921"
             ]
            ],
            "type": "heatmapgl"
           }
          ],
          "histogram": [
           {
            "marker": {
             "pattern": {
              "fillmode": "overlay",
              "size": 10,
              "solidity": 0.2
             }
            },
            "type": "histogram"
           }
          ],
          "histogram2d": [
           {
            "colorbar": {
             "outlinewidth": 0,
             "ticks": ""
            },
            "colorscale": [
             [
              0,
              "#0d0887"
             ],
             [
              0.1111111111111111,
              "#46039f"
             ],
             [
              0.2222222222222222,
              "#7201a8"
             ],
             [
              0.3333333333333333,
              "#9c179e"
             ],
             [
              0.4444444444444444,
              "#bd3786"
             ],
             [
              0.5555555555555556,
              "#d8576b"
             ],
             [
              0.6666666666666666,
              "#ed7953"
             ],
             [
              0.7777777777777778,
              "#fb9f3a"
             ],
             [
              0.8888888888888888,
              "#fdca26"
             ],
             [
              1,
              "#f0f921"
             ]
            ],
            "type": "histogram2d"
           }
          ],
          "histogram2dcontour": [
           {
            "colorbar": {
             "outlinewidth": 0,
             "ticks": ""
            },
            "colorscale": [
             [
              0,
              "#0d0887"
             ],
             [
              0.1111111111111111,
              "#46039f"
             ],
             [
              0.2222222222222222,
              "#7201a8"
             ],
             [
              0.3333333333333333,
              "#9c179e"
             ],
             [
              0.4444444444444444,
              "#bd3786"
             ],
             [
              0.5555555555555556,
              "#d8576b"
             ],
             [
              0.6666666666666666,
              "#ed7953"
             ],
             [
              0.7777777777777778,
              "#fb9f3a"
             ],
             [
              0.8888888888888888,
              "#fdca26"
             ],
             [
              1,
              "#f0f921"
             ]
            ],
            "type": "histogram2dcontour"
           }
          ],
          "mesh3d": [
           {
            "colorbar": {
             "outlinewidth": 0,
             "ticks": ""
            },
            "type": "mesh3d"
           }
          ],
          "parcoords": [
           {
            "line": {
             "colorbar": {
              "outlinewidth": 0,
              "ticks": ""
             }
            },
            "type": "parcoords"
           }
          ],
          "pie": [
           {
            "automargin": true,
            "type": "pie"
           }
          ],
          "scatter": [
           {
            "fillpattern": {
             "fillmode": "overlay",
             "size": 10,
             "solidity": 0.2
            },
            "type": "scatter"
           }
          ],
          "scatter3d": [
           {
            "line": {
             "colorbar": {
              "outlinewidth": 0,
              "ticks": ""
             }
            },
            "marker": {
             "colorbar": {
              "outlinewidth": 0,
              "ticks": ""
             }
            },
            "type": "scatter3d"
           }
          ],
          "scattercarpet": [
           {
            "marker": {
             "colorbar": {
              "outlinewidth": 0,
              "ticks": ""
             }
            },
            "type": "scattercarpet"
           }
          ],
          "scattergeo": [
           {
            "marker": {
             "colorbar": {
              "outlinewidth": 0,
              "ticks": ""
             }
            },
            "type": "scattergeo"
           }
          ],
          "scattergl": [
           {
            "marker": {
             "colorbar": {
              "outlinewidth": 0,
              "ticks": ""
             }
            },
            "type": "scattergl"
           }
          ],
          "scattermapbox": [
           {
            "marker": {
             "colorbar": {
              "outlinewidth": 0,
              "ticks": ""
             }
            },
            "type": "scattermapbox"
           }
          ],
          "scatterpolar": [
           {
            "marker": {
             "colorbar": {
              "outlinewidth": 0,
              "ticks": ""
             }
            },
            "type": "scatterpolar"
           }
          ],
          "scatterpolargl": [
           {
            "marker": {
             "colorbar": {
              "outlinewidth": 0,
              "ticks": ""
             }
            },
            "type": "scatterpolargl"
           }
          ],
          "scatterternary": [
           {
            "marker": {
             "colorbar": {
              "outlinewidth": 0,
              "ticks": ""
             }
            },
            "type": "scatterternary"
           }
          ],
          "surface": [
           {
            "colorbar": {
             "outlinewidth": 0,
             "ticks": ""
            },
            "colorscale": [
             [
              0,
              "#0d0887"
             ],
             [
              0.1111111111111111,
              "#46039f"
             ],
             [
              0.2222222222222222,
              "#7201a8"
             ],
             [
              0.3333333333333333,
              "#9c179e"
             ],
             [
              0.4444444444444444,
              "#bd3786"
             ],
             [
              0.5555555555555556,
              "#d8576b"
             ],
             [
              0.6666666666666666,
              "#ed7953"
             ],
             [
              0.7777777777777778,
              "#fb9f3a"
             ],
             [
              0.8888888888888888,
              "#fdca26"
             ],
             [
              1,
              "#f0f921"
             ]
            ],
            "type": "surface"
           }
          ],
          "table": [
           {
            "cells": {
             "fill": {
              "color": "#EBF0F8"
             },
             "line": {
              "color": "white"
             }
            },
            "header": {
             "fill": {
              "color": "#C8D4E3"
             },
             "line": {
              "color": "white"
             }
            },
            "type": "table"
           }
          ]
         },
         "layout": {
          "annotationdefaults": {
           "arrowcolor": "#2a3f5f",
           "arrowhead": 0,
           "arrowwidth": 1
          },
          "autotypenumbers": "strict",
          "coloraxis": {
           "colorbar": {
            "outlinewidth": 0,
            "ticks": ""
           }
          },
          "colorscale": {
           "diverging": [
            [
             0,
             "#8e0152"
            ],
            [
             0.1,
             "#c51b7d"
            ],
            [
             0.2,
             "#de77ae"
            ],
            [
             0.3,
             "#f1b6da"
            ],
            [
             0.4,
             "#fde0ef"
            ],
            [
             0.5,
             "#f7f7f7"
            ],
            [
             0.6,
             "#e6f5d0"
            ],
            [
             0.7,
             "#b8e186"
            ],
            [
             0.8,
             "#7fbc41"
            ],
            [
             0.9,
             "#4d9221"
            ],
            [
             1,
             "#276419"
            ]
           ],
           "sequential": [
            [
             0,
             "#0d0887"
            ],
            [
             0.1111111111111111,
             "#46039f"
            ],
            [
             0.2222222222222222,
             "#7201a8"
            ],
            [
             0.3333333333333333,
             "#9c179e"
            ],
            [
             0.4444444444444444,
             "#bd3786"
            ],
            [
             0.5555555555555556,
             "#d8576b"
            ],
            [
             0.6666666666666666,
             "#ed7953"
            ],
            [
             0.7777777777777778,
             "#fb9f3a"
            ],
            [
             0.8888888888888888,
             "#fdca26"
            ],
            [
             1,
             "#f0f921"
            ]
           ],
           "sequentialminus": [
            [
             0,
             "#0d0887"
            ],
            [
             0.1111111111111111,
             "#46039f"
            ],
            [
             0.2222222222222222,
             "#7201a8"
            ],
            [
             0.3333333333333333,
             "#9c179e"
            ],
            [
             0.4444444444444444,
             "#bd3786"
            ],
            [
             0.5555555555555556,
             "#d8576b"
            ],
            [
             0.6666666666666666,
             "#ed7953"
            ],
            [
             0.7777777777777778,
             "#fb9f3a"
            ],
            [
             0.8888888888888888,
             "#fdca26"
            ],
            [
             1,
             "#f0f921"
            ]
           ]
          },
          "colorway": [
           "#636efa",
           "#EF553B",
           "#00cc96",
           "#ab63fa",
           "#FFA15A",
           "#19d3f3",
           "#FF6692",
           "#B6E880",
           "#FF97FF",
           "#FECB52"
          ],
          "font": {
           "color": "#2a3f5f"
          },
          "geo": {
           "bgcolor": "white",
           "lakecolor": "white",
           "landcolor": "#E5ECF6",
           "showlakes": true,
           "showland": true,
           "subunitcolor": "white"
          },
          "hoverlabel": {
           "align": "left"
          },
          "hovermode": "closest",
          "mapbox": {
           "style": "light"
          },
          "paper_bgcolor": "white",
          "plot_bgcolor": "#E5ECF6",
          "polar": {
           "angularaxis": {
            "gridcolor": "white",
            "linecolor": "white",
            "ticks": ""
           },
           "bgcolor": "#E5ECF6",
           "radialaxis": {
            "gridcolor": "white",
            "linecolor": "white",
            "ticks": ""
           }
          },
          "scene": {
           "xaxis": {
            "backgroundcolor": "#E5ECF6",
            "gridcolor": "white",
            "gridwidth": 2,
            "linecolor": "white",
            "showbackground": true,
            "ticks": "",
            "zerolinecolor": "white"
           },
           "yaxis": {
            "backgroundcolor": "#E5ECF6",
            "gridcolor": "white",
            "gridwidth": 2,
            "linecolor": "white",
            "showbackground": true,
            "ticks": "",
            "zerolinecolor": "white"
           },
           "zaxis": {
            "backgroundcolor": "#E5ECF6",
            "gridcolor": "white",
            "gridwidth": 2,
            "linecolor": "white",
            "showbackground": true,
            "ticks": "",
            "zerolinecolor": "white"
           }
          },
          "shapedefaults": {
           "line": {
            "color": "#2a3f5f"
           }
          },
          "ternary": {
           "aaxis": {
            "gridcolor": "white",
            "linecolor": "white",
            "ticks": ""
           },
           "baxis": {
            "gridcolor": "white",
            "linecolor": "white",
            "ticks": ""
           },
           "bgcolor": "#E5ECF6",
           "caxis": {
            "gridcolor": "white",
            "linecolor": "white",
            "ticks": ""
           }
          },
          "title": {
           "x": 0.05
          },
          "xaxis": {
           "automargin": true,
           "gridcolor": "white",
           "linecolor": "white",
           "ticks": "",
           "title": {
            "standoff": 15
           },
           "zerolinecolor": "white",
           "zerolinewidth": 2
          },
          "yaxis": {
           "automargin": true,
           "gridcolor": "white",
           "linecolor": "white",
           "ticks": "",
           "title": {
            "standoff": 15
           },
           "zerolinecolor": "white",
           "zerolinewidth": 2
          }
         }
        }
       }
      }
     },
     "metadata": {},
     "output_type": "display_data"
    }
   ],
   "source": [
    "x=role\n",
    "\n",
    "fig = go.Figure(go.Bar(name='Developmental Biology', y=role, x=df_role_domain[\"Developmental Biology\"], orientation='h', insidetextanchor='end'))\n",
    "fig.add_trace(go.Bar(name='Deep learning', y=role, x=df_role_domain[\"Deep learning\"], orientation='h'))\n",
    "fig.add_trace(go.Bar(name='Computer vision', y=role, x=df_role_domain[\"Computer vision\"],  orientation='h'))\n",
    "fig.add_trace(go.Bar(name=\"Computer science\", y=role, x=df_role_domain[\"Computer science\"],  orientation='h'))\n",
    "fig.add_trace(go.Bar(name=\"Medicine\", y=role, x=df_role_domain[\"Medicine\"],  orientation='h'))\n",
    "fig.add_trace(go.Bar(name=\"Statistics/Biostatistics\", y=role, x=df_role_domain[\"Statistics/Biostatistics\"],  orientation='h'))\n",
    "fig.add_trace(go.Bar(name=\"Chemistry/Biochemistry\", y=role, x=df_role_domain[\"Chemistry/Biochemistry\"],  orientation='h'))\n",
    "fig.add_trace(go.Bar(name=\"Physics/Biophysics\", y=role, x=df_role_domain[\"Physics/Biophysics\"],  orientation='h'))\n",
    "fig.add_trace(go.Bar(name=\"Cell/Molecular Biology\", y=role, x=df_role_domain[\"Cell/Molecular Biology\"],  orientation='h'))\n",
    "\n",
    "fig.update_layout(barmode='stack')\n",
    "fig.show()"
   ]
  },
  {
   "cell_type": "code",
   "execution_count": 644,
   "metadata": {},
   "outputs": [],
   "source": [
    "#Work description\n",
    "data[\"Imaging\"] = data.eval(\"`Work description` < 3\")\n",
    "data[\"Balanced\"] = data.eval(\"`Work description` in [3,4,5]\")\n",
    "data[\"Analyst\"] = data.eval(\"`Work description` > 5\")"
   ]
  },
  {
   "cell_type": "code",
   "execution_count": 645,
   "metadata": {},
   "outputs": [
    {
     "data": {
      "text/plain": [
       "[81, 322, 90]"
      ]
     },
     "execution_count": 645,
     "metadata": {},
     "output_type": "execute_result"
    }
   ],
   "source": [
    "Work_type = [sum(data[\"Imaging\"]), sum(data[\"Balanced\"]), sum(data[\"Analyst\"])]\n",
    "Work_type"
   ]
  },
  {
   "cell_type": "code",
   "execution_count": 646,
   "metadata": {},
   "outputs": [],
   "source": [
    "# creating a column for work type\n",
    "data.loc[data[\"Work description\"] < 3, \"Work type\" ] = \"Imaging\"\n",
    "data.loc[(data[\"Work description\"] >= 3) & (data[\"Work description\"] < 5), \"Work type\"] = \"Balanced\"\n",
    "data.loc[data[\"Work description\"] >= 5, \"Work type\"] = \"Analyst\""
   ]
  },
  {
   "cell_type": "code",
   "execution_count": 647,
   "metadata": {},
   "outputs": [
    {
     "data": {
      "text/plain": [
       "Balanced    273\n",
       "Analyst     139\n",
       "Imaging      81\n",
       "Name: Work type, dtype: int64"
      ]
     },
     "execution_count": 647,
     "metadata": {},
     "output_type": "execute_result"
    }
   ],
   "source": [
    "work_type_counts = data[\"Work type\"].value_counts()\n",
    "work_type_counts "
   ]
  },
  {
   "cell_type": "code",
   "execution_count": 648,
   "metadata": {},
   "outputs": [],
   "source": [
    "# creating a column for knowledge in computational skills \n",
    "data.loc[data[\"Level of computational skills\"] < 3, \"Knowledge of computational skills\"] = \"Low\"\n",
    "data.loc[(data[\"Level of computational skills\"] >= 3) & (data[\"Level of computational skills\"] < 5), \"Knowledge of computational skills\"] = \"Medium\"\n",
    "data.loc[data[\"Level of computational skills\"] >= 5, \"Knowledge of computational skills\"] = \"High\""
   ]
  },
  {
   "cell_type": "code",
   "execution_count": 649,
   "metadata": {},
   "outputs": [
    {
     "data": {
      "text/plain": [
       "High      244\n",
       "Medium    183\n",
       "Low        66\n",
       "Name: Knowledge of computational skills, dtype: int64"
      ]
     },
     "execution_count": 649,
     "metadata": {},
     "output_type": "execute_result"
    }
   ],
   "source": [
    "computational_knowledge = data[\"Knowledge of computational skills\"].value_counts()\n",
    "computational_knowledge"
   ]
  },
  {
   "cell_type": "code",
   "execution_count": 650,
   "metadata": {},
   "outputs": [],
   "source": [
    "work_comp_1 = data[\"Work type\"]\n",
    "work_comp_2 = data[\"Knowledge of computational skills\"]\n",
    "work_comp = pd.concat([work_comp_1, work_comp_2], axis=1)\n"
   ]
  },
  {
   "cell_type": "code",
   "execution_count": 651,
   "metadata": {},
   "outputs": [
    {
     "data": {
      "text/html": [
       "<div>\n",
       "<style scoped>\n",
       "    .dataframe tbody tr th:only-of-type {\n",
       "        vertical-align: middle;\n",
       "    }\n",
       "\n",
       "    .dataframe tbody tr th {\n",
       "        vertical-align: top;\n",
       "    }\n",
       "\n",
       "    .dataframe thead th {\n",
       "        text-align: right;\n",
       "    }\n",
       "</style>\n",
       "<table border=\"1\" class=\"dataframe\">\n",
       "  <thead>\n",
       "    <tr style=\"text-align: right;\">\n",
       "      <th></th>\n",
       "      <th>Work type</th>\n",
       "      <th>Knowledge of computational skills</th>\n",
       "      <th>Counts</th>\n",
       "    </tr>\n",
       "  </thead>\n",
       "  <tbody>\n",
       "    <tr>\n",
       "      <th>0</th>\n",
       "      <td>Analyst</td>\n",
       "      <td>High</td>\n",
       "      <td>102</td>\n",
       "    </tr>\n",
       "    <tr>\n",
       "      <th>1</th>\n",
       "      <td>Analyst</td>\n",
       "      <td>Medium</td>\n",
       "      <td>27</td>\n",
       "    </tr>\n",
       "    <tr>\n",
       "      <th>2</th>\n",
       "      <td>Analyst</td>\n",
       "      <td>Low</td>\n",
       "      <td>10</td>\n",
       "    </tr>\n",
       "    <tr>\n",
       "      <th>3</th>\n",
       "      <td>Balanced</td>\n",
       "      <td>High</td>\n",
       "      <td>118</td>\n",
       "    </tr>\n",
       "    <tr>\n",
       "      <th>4</th>\n",
       "      <td>Balanced</td>\n",
       "      <td>Medium</td>\n",
       "      <td>118</td>\n",
       "    </tr>\n",
       "    <tr>\n",
       "      <th>5</th>\n",
       "      <td>Balanced</td>\n",
       "      <td>Low</td>\n",
       "      <td>37</td>\n",
       "    </tr>\n",
       "    <tr>\n",
       "      <th>6</th>\n",
       "      <td>Imaging</td>\n",
       "      <td>Medium</td>\n",
       "      <td>38</td>\n",
       "    </tr>\n",
       "    <tr>\n",
       "      <th>7</th>\n",
       "      <td>Imaging</td>\n",
       "      <td>High</td>\n",
       "      <td>24</td>\n",
       "    </tr>\n",
       "    <tr>\n",
       "      <th>8</th>\n",
       "      <td>Imaging</td>\n",
       "      <td>Low</td>\n",
       "      <td>19</td>\n",
       "    </tr>\n",
       "  </tbody>\n",
       "</table>\n",
       "</div>"
      ],
      "text/plain": [
       "  Work type Knowledge of computational skills  Counts\n",
       "0   Analyst                              High     102\n",
       "1   Analyst                            Medium      27\n",
       "2   Analyst                               Low      10\n",
       "3  Balanced                              High     118\n",
       "4  Balanced                            Medium     118\n",
       "5  Balanced                               Low      37\n",
       "6   Imaging                            Medium      38\n",
       "7   Imaging                              High      24\n",
       "8   Imaging                               Low      19"
      ]
     },
     "execution_count": 651,
     "metadata": {},
     "output_type": "execute_result"
    }
   ],
   "source": [
    "work_comp_grouped = work_comp.groupby(\"Work type\").value_counts().reset_index()\n",
    "work_comp_grouped = work_comp_grouped.rename(columns={0:'Counts'})\n",
    "work_comp_grouped"
   ]
  },
  {
   "cell_type": "code",
   "execution_count": 652,
   "metadata": {},
   "outputs": [
    {
     "data": {
      "application/vnd.plotly.v1+json": {
       "config": {
        "plotlyServerURL": "https://plot.ly"
       },
       "data": [
        {
         "branchvalues": "total",
         "domain": {
          "x": [
           0,
           1
          ],
          "y": [
           0,
           1
          ]
         },
         "hovertemplate": "labels=%{label}<br>Counts=%{value}<br>parent=%{parent}<br>id=%{id}<extra></extra>",
         "ids": [
          "Analyst/High",
          "Balanced/High",
          "Imaging/High",
          "Analyst/Low",
          "Balanced/Low",
          "Imaging/Low",
          "Analyst/Medium",
          "Balanced/Medium",
          "Imaging/Medium",
          "Analyst",
          "Balanced",
          "Imaging"
         ],
         "labels": [
          "High",
          "High",
          "High",
          "Low",
          "Low",
          "Low",
          "Medium",
          "Medium",
          "Medium",
          "Analyst",
          "Balanced",
          "Imaging"
         ],
         "name": "",
         "parents": [
          "Analyst",
          "Balanced",
          "Imaging",
          "Analyst",
          "Balanced",
          "Imaging",
          "Analyst",
          "Balanced",
          "Imaging",
          "",
          "",
          ""
         ],
         "textinfo": "label+percent parent",
         "type": "sunburst",
         "values": [
          102,
          118,
          24,
          10,
          37,
          19,
          27,
          118,
          38,
          139,
          273,
          81
         ]
        }
       ],
       "layout": {
        "legend": {
         "tracegroupgap": 0
        },
        "margin": {
         "t": 60
        },
        "template": {
         "data": {
          "bar": [
           {
            "error_x": {
             "color": "#2a3f5f"
            },
            "error_y": {
             "color": "#2a3f5f"
            },
            "marker": {
             "line": {
              "color": "#E5ECF6",
              "width": 0.5
             },
             "pattern": {
              "fillmode": "overlay",
              "size": 10,
              "solidity": 0.2
             }
            },
            "type": "bar"
           }
          ],
          "barpolar": [
           {
            "marker": {
             "line": {
              "color": "#E5ECF6",
              "width": 0.5
             },
             "pattern": {
              "fillmode": "overlay",
              "size": 10,
              "solidity": 0.2
             }
            },
            "type": "barpolar"
           }
          ],
          "carpet": [
           {
            "aaxis": {
             "endlinecolor": "#2a3f5f",
             "gridcolor": "white",
             "linecolor": "white",
             "minorgridcolor": "white",
             "startlinecolor": "#2a3f5f"
            },
            "baxis": {
             "endlinecolor": "#2a3f5f",
             "gridcolor": "white",
             "linecolor": "white",
             "minorgridcolor": "white",
             "startlinecolor": "#2a3f5f"
            },
            "type": "carpet"
           }
          ],
          "choropleth": [
           {
            "colorbar": {
             "outlinewidth": 0,
             "ticks": ""
            },
            "type": "choropleth"
           }
          ],
          "contour": [
           {
            "colorbar": {
             "outlinewidth": 0,
             "ticks": ""
            },
            "colorscale": [
             [
              0,
              "#0d0887"
             ],
             [
              0.1111111111111111,
              "#46039f"
             ],
             [
              0.2222222222222222,
              "#7201a8"
             ],
             [
              0.3333333333333333,
              "#9c179e"
             ],
             [
              0.4444444444444444,
              "#bd3786"
             ],
             [
              0.5555555555555556,
              "#d8576b"
             ],
             [
              0.6666666666666666,
              "#ed7953"
             ],
             [
              0.7777777777777778,
              "#fb9f3a"
             ],
             [
              0.8888888888888888,
              "#fdca26"
             ],
             [
              1,
              "#f0f921"
             ]
            ],
            "type": "contour"
           }
          ],
          "contourcarpet": [
           {
            "colorbar": {
             "outlinewidth": 0,
             "ticks": ""
            },
            "type": "contourcarpet"
           }
          ],
          "heatmap": [
           {
            "colorbar": {
             "outlinewidth": 0,
             "ticks": ""
            },
            "colorscale": [
             [
              0,
              "#0d0887"
             ],
             [
              0.1111111111111111,
              "#46039f"
             ],
             [
              0.2222222222222222,
              "#7201a8"
             ],
             [
              0.3333333333333333,
              "#9c179e"
             ],
             [
              0.4444444444444444,
              "#bd3786"
             ],
             [
              0.5555555555555556,
              "#d8576b"
             ],
             [
              0.6666666666666666,
              "#ed7953"
             ],
             [
              0.7777777777777778,
              "#fb9f3a"
             ],
             [
              0.8888888888888888,
              "#fdca26"
             ],
             [
              1,
              "#f0f921"
             ]
            ],
            "type": "heatmap"
           }
          ],
          "heatmapgl": [
           {
            "colorbar": {
             "outlinewidth": 0,
             "ticks": ""
            },
            "colorscale": [
             [
              0,
              "#0d0887"
             ],
             [
              0.1111111111111111,
              "#46039f"
             ],
             [
              0.2222222222222222,
              "#7201a8"
             ],
             [
              0.3333333333333333,
              "#9c179e"
             ],
             [
              0.4444444444444444,
              "#bd3786"
             ],
             [
              0.5555555555555556,
              "#d8576b"
             ],
             [
              0.6666666666666666,
              "#ed7953"
             ],
             [
              0.7777777777777778,
              "#fb9f3a"
             ],
             [
              0.8888888888888888,
              "#fdca26"
             ],
             [
              1,
              "#f0f921"
             ]
            ],
            "type": "heatmapgl"
           }
          ],
          "histogram": [
           {
            "marker": {
             "pattern": {
              "fillmode": "overlay",
              "size": 10,
              "solidity": 0.2
             }
            },
            "type": "histogram"
           }
          ],
          "histogram2d": [
           {
            "colorbar": {
             "outlinewidth": 0,
             "ticks": ""
            },
            "colorscale": [
             [
              0,
              "#0d0887"
             ],
             [
              0.1111111111111111,
              "#46039f"
             ],
             [
              0.2222222222222222,
              "#7201a8"
             ],
             [
              0.3333333333333333,
              "#9c179e"
             ],
             [
              0.4444444444444444,
              "#bd3786"
             ],
             [
              0.5555555555555556,
              "#d8576b"
             ],
             [
              0.6666666666666666,
              "#ed7953"
             ],
             [
              0.7777777777777778,
              "#fb9f3a"
             ],
             [
              0.8888888888888888,
              "#fdca26"
             ],
             [
              1,
              "#f0f921"
             ]
            ],
            "type": "histogram2d"
           }
          ],
          "histogram2dcontour": [
           {
            "colorbar": {
             "outlinewidth": 0,
             "ticks": ""
            },
            "colorscale": [
             [
              0,
              "#0d0887"
             ],
             [
              0.1111111111111111,
              "#46039f"
             ],
             [
              0.2222222222222222,
              "#7201a8"
             ],
             [
              0.3333333333333333,
              "#9c179e"
             ],
             [
              0.4444444444444444,
              "#bd3786"
             ],
             [
              0.5555555555555556,
              "#d8576b"
             ],
             [
              0.6666666666666666,
              "#ed7953"
             ],
             [
              0.7777777777777778,
              "#fb9f3a"
             ],
             [
              0.8888888888888888,
              "#fdca26"
             ],
             [
              1,
              "#f0f921"
             ]
            ],
            "type": "histogram2dcontour"
           }
          ],
          "mesh3d": [
           {
            "colorbar": {
             "outlinewidth": 0,
             "ticks": ""
            },
            "type": "mesh3d"
           }
          ],
          "parcoords": [
           {
            "line": {
             "colorbar": {
              "outlinewidth": 0,
              "ticks": ""
             }
            },
            "type": "parcoords"
           }
          ],
          "pie": [
           {
            "automargin": true,
            "type": "pie"
           }
          ],
          "scatter": [
           {
            "fillpattern": {
             "fillmode": "overlay",
             "size": 10,
             "solidity": 0.2
            },
            "type": "scatter"
           }
          ],
          "scatter3d": [
           {
            "line": {
             "colorbar": {
              "outlinewidth": 0,
              "ticks": ""
             }
            },
            "marker": {
             "colorbar": {
              "outlinewidth": 0,
              "ticks": ""
             }
            },
            "type": "scatter3d"
           }
          ],
          "scattercarpet": [
           {
            "marker": {
             "colorbar": {
              "outlinewidth": 0,
              "ticks": ""
             }
            },
            "type": "scattercarpet"
           }
          ],
          "scattergeo": [
           {
            "marker": {
             "colorbar": {
              "outlinewidth": 0,
              "ticks": ""
             }
            },
            "type": "scattergeo"
           }
          ],
          "scattergl": [
           {
            "marker": {
             "colorbar": {
              "outlinewidth": 0,
              "ticks": ""
             }
            },
            "type": "scattergl"
           }
          ],
          "scattermapbox": [
           {
            "marker": {
             "colorbar": {
              "outlinewidth": 0,
              "ticks": ""
             }
            },
            "type": "scattermapbox"
           }
          ],
          "scatterpolar": [
           {
            "marker": {
             "colorbar": {
              "outlinewidth": 0,
              "ticks": ""
             }
            },
            "type": "scatterpolar"
           }
          ],
          "scatterpolargl": [
           {
            "marker": {
             "colorbar": {
              "outlinewidth": 0,
              "ticks": ""
             }
            },
            "type": "scatterpolargl"
           }
          ],
          "scatterternary": [
           {
            "marker": {
             "colorbar": {
              "outlinewidth": 0,
              "ticks": ""
             }
            },
            "type": "scatterternary"
           }
          ],
          "surface": [
           {
            "colorbar": {
             "outlinewidth": 0,
             "ticks": ""
            },
            "colorscale": [
             [
              0,
              "#0d0887"
             ],
             [
              0.1111111111111111,
              "#46039f"
             ],
             [
              0.2222222222222222,
              "#7201a8"
             ],
             [
              0.3333333333333333,
              "#9c179e"
             ],
             [
              0.4444444444444444,
              "#bd3786"
             ],
             [
              0.5555555555555556,
              "#d8576b"
             ],
             [
              0.6666666666666666,
              "#ed7953"
             ],
             [
              0.7777777777777778,
              "#fb9f3a"
             ],
             [
              0.8888888888888888,
              "#fdca26"
             ],
             [
              1,
              "#f0f921"
             ]
            ],
            "type": "surface"
           }
          ],
          "table": [
           {
            "cells": {
             "fill": {
              "color": "#EBF0F8"
             },
             "line": {
              "color": "white"
             }
            },
            "header": {
             "fill": {
              "color": "#C8D4E3"
             },
             "line": {
              "color": "white"
             }
            },
            "type": "table"
           }
          ]
         },
         "layout": {
          "annotationdefaults": {
           "arrowcolor": "#2a3f5f",
           "arrowhead": 0,
           "arrowwidth": 1
          },
          "autotypenumbers": "strict",
          "coloraxis": {
           "colorbar": {
            "outlinewidth": 0,
            "ticks": ""
           }
          },
          "colorscale": {
           "diverging": [
            [
             0,
             "#8e0152"
            ],
            [
             0.1,
             "#c51b7d"
            ],
            [
             0.2,
             "#de77ae"
            ],
            [
             0.3,
             "#f1b6da"
            ],
            [
             0.4,
             "#fde0ef"
            ],
            [
             0.5,
             "#f7f7f7"
            ],
            [
             0.6,
             "#e6f5d0"
            ],
            [
             0.7,
             "#b8e186"
            ],
            [
             0.8,
             "#7fbc41"
            ],
            [
             0.9,
             "#4d9221"
            ],
            [
             1,
             "#276419"
            ]
           ],
           "sequential": [
            [
             0,
             "#0d0887"
            ],
            [
             0.1111111111111111,
             "#46039f"
            ],
            [
             0.2222222222222222,
             "#7201a8"
            ],
            [
             0.3333333333333333,
             "#9c179e"
            ],
            [
             0.4444444444444444,
             "#bd3786"
            ],
            [
             0.5555555555555556,
             "#d8576b"
            ],
            [
             0.6666666666666666,
             "#ed7953"
            ],
            [
             0.7777777777777778,
             "#fb9f3a"
            ],
            [
             0.8888888888888888,
             "#fdca26"
            ],
            [
             1,
             "#f0f921"
            ]
           ],
           "sequentialminus": [
            [
             0,
             "#0d0887"
            ],
            [
             0.1111111111111111,
             "#46039f"
            ],
            [
             0.2222222222222222,
             "#7201a8"
            ],
            [
             0.3333333333333333,
             "#9c179e"
            ],
            [
             0.4444444444444444,
             "#bd3786"
            ],
            [
             0.5555555555555556,
             "#d8576b"
            ],
            [
             0.6666666666666666,
             "#ed7953"
            ],
            [
             0.7777777777777778,
             "#fb9f3a"
            ],
            [
             0.8888888888888888,
             "#fdca26"
            ],
            [
             1,
             "#f0f921"
            ]
           ]
          },
          "colorway": [
           "#636efa",
           "#EF553B",
           "#00cc96",
           "#ab63fa",
           "#FFA15A",
           "#19d3f3",
           "#FF6692",
           "#B6E880",
           "#FF97FF",
           "#FECB52"
          ],
          "font": {
           "color": "#2a3f5f"
          },
          "geo": {
           "bgcolor": "white",
           "lakecolor": "white",
           "landcolor": "#E5ECF6",
           "showlakes": true,
           "showland": true,
           "subunitcolor": "white"
          },
          "hoverlabel": {
           "align": "left"
          },
          "hovermode": "closest",
          "mapbox": {
           "style": "light"
          },
          "paper_bgcolor": "white",
          "plot_bgcolor": "#E5ECF6",
          "polar": {
           "angularaxis": {
            "gridcolor": "white",
            "linecolor": "white",
            "ticks": ""
           },
           "bgcolor": "#E5ECF6",
           "radialaxis": {
            "gridcolor": "white",
            "linecolor": "white",
            "ticks": ""
           }
          },
          "scene": {
           "xaxis": {
            "backgroundcolor": "#E5ECF6",
            "gridcolor": "white",
            "gridwidth": 2,
            "linecolor": "white",
            "showbackground": true,
            "ticks": "",
            "zerolinecolor": "white"
           },
           "yaxis": {
            "backgroundcolor": "#E5ECF6",
            "gridcolor": "white",
            "gridwidth": 2,
            "linecolor": "white",
            "showbackground": true,
            "ticks": "",
            "zerolinecolor": "white"
           },
           "zaxis": {
            "backgroundcolor": "#E5ECF6",
            "gridcolor": "white",
            "gridwidth": 2,
            "linecolor": "white",
            "showbackground": true,
            "ticks": "",
            "zerolinecolor": "white"
           }
          },
          "shapedefaults": {
           "line": {
            "color": "#2a3f5f"
           }
          },
          "ternary": {
           "aaxis": {
            "gridcolor": "white",
            "linecolor": "white",
            "ticks": ""
           },
           "baxis": {
            "gridcolor": "white",
            "linecolor": "white",
            "ticks": ""
           },
           "bgcolor": "#E5ECF6",
           "caxis": {
            "gridcolor": "white",
            "linecolor": "white",
            "ticks": ""
           }
          },
          "title": {
           "x": 0.05
          },
          "xaxis": {
           "automargin": true,
           "gridcolor": "white",
           "linecolor": "white",
           "ticks": "",
           "title": {
            "standoff": 15
           },
           "zerolinecolor": "white",
           "zerolinewidth": 2
          },
          "yaxis": {
           "automargin": true,
           "gridcolor": "white",
           "linecolor": "white",
           "ticks": "",
           "title": {
            "standoff": 15
           },
           "zerolinecolor": "white",
           "zerolinewidth": 2
          }
         }
        }
       }
      }
     },
     "metadata": {},
     "output_type": "display_data"
    }
   ],
   "source": [
    "work_comp_sunburst = px.sunburst(work_comp_grouped, path=[\"Work type\", 'Knowledge of computational skills'], values='Counts')\n",
    "work_comp_sunburst.update_traces(textinfo=\"label+percent parent\")"
   ]
  },
  {
   "cell_type": "code",
   "execution_count": 653,
   "metadata": {},
   "outputs": [],
   "source": [
    "# Comfort in developing new computational skills\n",
    "data.loc[data[\"Comfort in developing computational skills\"] < 3, 'Comfort'] = 'Low'\n",
    "data.loc[(data['Comfort in developing computational skills'] >= 3) & (data['Comfort in developing computational skills'] < 5), 'Comfort'] = \"Medium\"\n",
    "data.loc[data['Comfort in developing computational skills'] >= 5 , 'Comfort'] = \"High\""
   ]
  },
  {
   "cell_type": "code",
   "execution_count": 654,
   "metadata": {},
   "outputs": [
    {
     "data": {
      "text/plain": [
       "High      291\n",
       "Medium    134\n",
       "Low        68\n",
       "Name: Comfort, dtype: int64"
      ]
     },
     "execution_count": 654,
     "metadata": {},
     "output_type": "execute_result"
    }
   ],
   "source": [
    "comfort_newskills = data[\"Comfort\"].value_counts()\n",
    "comfort_newskills"
   ]
  },
  {
   "attachments": {},
   "cell_type": "markdown",
   "metadata": {},
   "source": [
    "Figure out ways to analyze the knowledge on computational skills with comfort in developing new comp skills  "
   ]
  },
  {
   "cell_type": "code",
   "execution_count": 697,
   "metadata": {},
   "outputs": [
    {
     "data": {
      "application/vnd.plotly.v1+json": {
       "config": {
        "plotlyServerURL": "https://plot.ly"
       },
       "data": [
        {
         "a": [
          5,
          3,
          4,
          4,
          3,
          6,
          5,
          5,
          4,
          6,
          4,
          2,
          4,
          3,
          3,
          5,
          5,
          5,
          3,
          4,
          4,
          3,
          4,
          6,
          6,
          4,
          2,
          4,
          4,
          4,
          6,
          6,
          4,
          5,
          5,
          5,
          3,
          4,
          6,
          4,
          4,
          6,
          5,
          5,
          3,
          3,
          6,
          4,
          5,
          2,
          6,
          3,
          4,
          5,
          3,
          6,
          3,
          3,
          6,
          7,
          6,
          2,
          3,
          6,
          5,
          6,
          2,
          3,
          5,
          5,
          4,
          4,
          2,
          6,
          5,
          6,
          5,
          5,
          3,
          3,
          4,
          6,
          5,
          7,
          5,
          4,
          3,
          5,
          5,
          5,
          6,
          3,
          3,
          4,
          6,
          5,
          4,
          4,
          4,
          4,
          3,
          4,
          3,
          5,
          3,
          2,
          2,
          5,
          5,
          4,
          7,
          3,
          5,
          2,
          6,
          5,
          6,
          5,
          4,
          5,
          6,
          5,
          5,
          2,
          4,
          5,
          3,
          5,
          5,
          3,
          4,
          4,
          2,
          3,
          6,
          4,
          5,
          6,
          6,
          3,
          6,
          3,
          2,
          4,
          2,
          5,
          3,
          2,
          5,
          4,
          3,
          5,
          2,
          2,
          4,
          3,
          5,
          3,
          6,
          4,
          3,
          4,
          4,
          4,
          5,
          3,
          3,
          2,
          4,
          5,
          4,
          4,
          5,
          6,
          4,
          2,
          3,
          4,
          3,
          2,
          5,
          2,
          3,
          5,
          3,
          5,
          1,
          3,
          5,
          4,
          5,
          5,
          5,
          3,
          7,
          3,
          6,
          2,
          2,
          2,
          3,
          2,
          1,
          5,
          3,
          5,
          5,
          4,
          2,
          4,
          3,
          4,
          6,
          4,
          7,
          3,
          3,
          4,
          2,
          2,
          3,
          6,
          6,
          4,
          4,
          5,
          5,
          4,
          4,
          3,
          5,
          6,
          2,
          5,
          6,
          3,
          4,
          5,
          5,
          3,
          5,
          5,
          3,
          7,
          6,
          3,
          2,
          5,
          4,
          2,
          5,
          5,
          3,
          5,
          5,
          5,
          4,
          2,
          5,
          1,
          4,
          5,
          4,
          5,
          1,
          3,
          1,
          5,
          5,
          5,
          3,
          1,
          5
         ],
         "b": [
          6,
          3,
          3,
          4,
          3,
          7,
          5,
          6,
          6,
          6,
          2,
          4,
          2,
          3,
          5,
          5,
          6,
          5,
          4,
          6,
          5,
          2,
          6,
          7,
          7,
          5,
          3,
          7,
          4,
          5,
          6,
          6,
          4,
          5,
          4,
          5,
          5,
          3,
          5,
          2,
          7,
          6,
          6,
          5,
          1,
          3,
          6,
          4,
          3,
          1,
          7,
          5,
          5,
          4,
          4,
          7,
          3,
          3,
          2,
          7,
          6,
          3,
          2,
          7,
          6,
          7,
          2,
          2,
          6,
          5,
          7,
          4,
          2,
          6,
          3,
          6,
          7,
          7,
          3,
          6,
          3,
          6,
          5,
          7,
          5,
          3,
          1,
          6,
          5,
          5,
          5,
          5,
          3,
          5,
          5,
          3,
          2,
          5,
          5,
          4,
          5,
          6,
          4,
          5,
          5,
          5,
          2,
          6,
          7,
          5,
          7,
          3,
          5,
          2,
          5,
          6,
          5,
          7,
          7,
          6,
          3,
          5,
          6,
          4,
          3,
          6,
          4,
          5,
          5,
          4,
          3,
          4,
          5,
          3,
          6,
          6,
          7,
          5,
          7,
          6,
          6,
          4,
          4,
          5,
          2,
          6,
          3,
          3,
          5,
          4,
          3,
          3,
          6,
          4,
          2,
          4,
          5,
          3,
          7,
          4,
          3,
          5,
          5,
          6,
          2,
          2,
          5,
          6,
          5,
          6,
          5,
          3,
          5,
          6,
          2,
          3,
          2,
          4,
          5,
          4,
          1,
          4,
          1,
          4,
          5,
          4,
          1,
          3,
          6,
          5,
          3,
          6,
          4,
          2,
          4,
          3,
          7,
          2,
          2,
          2,
          5,
          5,
          2,
          4,
          5,
          5,
          3,
          4,
          4,
          3,
          5,
          6,
          6,
          4,
          7,
          5,
          7,
          6,
          2,
          3,
          4,
          7,
          6,
          4,
          5,
          6,
          6,
          6,
          4,
          6,
          5,
          5,
          4,
          6,
          7,
          1,
          6,
          6,
          5,
          4,
          7,
          6,
          3,
          7,
          5,
          6,
          6,
          5,
          3,
          3,
          5,
          6,
          4,
          6,
          6,
          6,
          7,
          4,
          7,
          1,
          5,
          7,
          5,
          4,
          3,
          3,
          2,
          4,
          5,
          6,
          3,
          3,
          6
         ],
         "c": [
          4,
          3,
          4,
          4,
          4,
          4,
          4,
          3,
          4,
          4,
          3,
          4,
          4,
          3,
          4,
          4,
          4,
          4,
          4,
          4,
          4,
          4,
          4,
          4,
          4,
          3,
          3,
          3,
          4,
          3,
          3,
          4,
          4,
          4,
          3,
          4,
          4,
          4,
          4,
          3,
          4,
          4,
          4,
          4,
          3,
          4,
          4,
          4,
          4,
          4,
          4,
          4,
          4,
          4,
          3,
          3,
          4,
          4,
          4,
          4,
          3,
          4,
          4,
          4,
          4,
          4,
          3,
          3,
          4,
          4,
          3,
          4,
          3,
          4,
          3,
          4,
          3,
          4,
          4,
          3,
          3,
          3,
          4,
          4,
          4,
          4,
          3,
          4,
          4,
          4,
          3,
          3,
          4,
          4,
          4,
          3,
          4,
          4,
          3,
          4,
          4,
          4,
          4,
          4,
          4,
          4,
          4,
          4,
          4,
          3,
          3,
          4,
          4,
          3,
          4,
          4,
          4,
          4,
          3,
          4,
          3,
          3,
          4,
          4,
          3,
          3,
          4,
          3,
          4,
          3,
          4,
          4,
          3,
          4,
          3,
          3,
          4,
          4,
          4,
          3,
          4,
          3,
          4,
          4,
          4,
          3,
          4,
          4,
          4,
          3,
          3,
          4,
          4,
          3,
          4,
          4,
          4,
          3,
          4,
          4,
          4,
          4,
          4,
          3,
          3,
          4,
          4,
          3,
          4,
          4,
          3,
          3,
          4,
          4,
          3,
          4,
          3,
          3,
          4,
          3,
          4,
          4,
          4,
          4,
          3,
          4,
          3,
          4,
          3,
          4,
          3,
          4,
          3,
          4,
          4,
          3,
          3,
          4,
          4,
          4,
          3,
          3,
          3,
          4,
          4,
          4,
          4,
          4,
          3,
          4,
          3,
          4,
          4,
          4,
          4,
          4,
          4,
          4,
          3,
          3,
          4,
          4,
          3,
          4,
          3,
          4,
          4,
          4,
          4,
          3,
          4,
          4,
          3,
          4,
          4,
          4,
          3,
          4,
          4,
          3,
          4,
          3,
          3,
          4,
          3,
          4,
          4,
          3,
          3,
          4,
          4,
          4,
          4,
          4,
          4,
          3,
          4,
          3,
          3,
          4,
          4,
          4,
          4,
          4,
          4,
          3,
          4,
          3,
          4,
          4,
          4,
          4,
          4
         ],
         "hovertemplate": "<b>%{hovertext}</b><br><br>Work type=Balanced<br>Level of computational skills=%{marker.size}<br>Comfort in developing computational skills=%{b}<br>Work description=%{c}<extra></extra>",
         "hovertext": [
          "Balanced",
          "Balanced",
          "Balanced",
          "Balanced",
          "Balanced",
          "Balanced",
          "Balanced",
          "Balanced",
          "Balanced",
          "Balanced",
          "Balanced",
          "Balanced",
          "Balanced",
          "Balanced",
          "Balanced",
          "Balanced",
          "Balanced",
          "Balanced",
          "Balanced",
          "Balanced",
          "Balanced",
          "Balanced",
          "Balanced",
          "Balanced",
          "Balanced",
          "Balanced",
          "Balanced",
          "Balanced",
          "Balanced",
          "Balanced",
          "Balanced",
          "Balanced",
          "Balanced",
          "Balanced",
          "Balanced",
          "Balanced",
          "Balanced",
          "Balanced",
          "Balanced",
          "Balanced",
          "Balanced",
          "Balanced",
          "Balanced",
          "Balanced",
          "Balanced",
          "Balanced",
          "Balanced",
          "Balanced",
          "Balanced",
          "Balanced",
          "Balanced",
          "Balanced",
          "Balanced",
          "Balanced",
          "Balanced",
          "Balanced",
          "Balanced",
          "Balanced",
          "Balanced",
          "Balanced",
          "Balanced",
          "Balanced",
          "Balanced",
          "Balanced",
          "Balanced",
          "Balanced",
          "Balanced",
          "Balanced",
          "Balanced",
          "Balanced",
          "Balanced",
          "Balanced",
          "Balanced",
          "Balanced",
          "Balanced",
          "Balanced",
          "Balanced",
          "Balanced",
          "Balanced",
          "Balanced",
          "Balanced",
          "Balanced",
          "Balanced",
          "Balanced",
          "Balanced",
          "Balanced",
          "Balanced",
          "Balanced",
          "Balanced",
          "Balanced",
          "Balanced",
          "Balanced",
          "Balanced",
          "Balanced",
          "Balanced",
          "Balanced",
          "Balanced",
          "Balanced",
          "Balanced",
          "Balanced",
          "Balanced",
          "Balanced",
          "Balanced",
          "Balanced",
          "Balanced",
          "Balanced",
          "Balanced",
          "Balanced",
          "Balanced",
          "Balanced",
          "Balanced",
          "Balanced",
          "Balanced",
          "Balanced",
          "Balanced",
          "Balanced",
          "Balanced",
          "Balanced",
          "Balanced",
          "Balanced",
          "Balanced",
          "Balanced",
          "Balanced",
          "Balanced",
          "Balanced",
          "Balanced",
          "Balanced",
          "Balanced",
          "Balanced",
          "Balanced",
          "Balanced",
          "Balanced",
          "Balanced",
          "Balanced",
          "Balanced",
          "Balanced",
          "Balanced",
          "Balanced",
          "Balanced",
          "Balanced",
          "Balanced",
          "Balanced",
          "Balanced",
          "Balanced",
          "Balanced",
          "Balanced",
          "Balanced",
          "Balanced",
          "Balanced",
          "Balanced",
          "Balanced",
          "Balanced",
          "Balanced",
          "Balanced",
          "Balanced",
          "Balanced",
          "Balanced",
          "Balanced",
          "Balanced",
          "Balanced",
          "Balanced",
          "Balanced",
          "Balanced",
          "Balanced",
          "Balanced",
          "Balanced",
          "Balanced",
          "Balanced",
          "Balanced",
          "Balanced",
          "Balanced",
          "Balanced",
          "Balanced",
          "Balanced",
          "Balanced",
          "Balanced",
          "Balanced",
          "Balanced",
          "Balanced",
          "Balanced",
          "Balanced",
          "Balanced",
          "Balanced",
          "Balanced",
          "Balanced",
          "Balanced",
          "Balanced",
          "Balanced",
          "Balanced",
          "Balanced",
          "Balanced",
          "Balanced",
          "Balanced",
          "Balanced",
          "Balanced",
          "Balanced",
          "Balanced",
          "Balanced",
          "Balanced",
          "Balanced",
          "Balanced",
          "Balanced",
          "Balanced",
          "Balanced",
          "Balanced",
          "Balanced",
          "Balanced",
          "Balanced",
          "Balanced",
          "Balanced",
          "Balanced",
          "Balanced",
          "Balanced",
          "Balanced",
          "Balanced",
          "Balanced",
          "Balanced",
          "Balanced",
          "Balanced",
          "Balanced",
          "Balanced",
          "Balanced",
          "Balanced",
          "Balanced",
          "Balanced",
          "Balanced",
          "Balanced",
          "Balanced",
          "Balanced",
          "Balanced",
          "Balanced",
          "Balanced",
          "Balanced",
          "Balanced",
          "Balanced",
          "Balanced",
          "Balanced",
          "Balanced",
          "Balanced",
          "Balanced",
          "Balanced",
          "Balanced",
          "Balanced",
          "Balanced",
          "Balanced",
          "Balanced",
          "Balanced",
          "Balanced",
          "Balanced",
          "Balanced",
          "Balanced",
          "Balanced",
          "Balanced",
          "Balanced",
          "Balanced",
          "Balanced",
          "Balanced",
          "Balanced",
          "Balanced",
          "Balanced",
          "Balanced",
          "Balanced",
          "Balanced",
          "Balanced",
          "Balanced",
          "Balanced",
          "Balanced",
          "Balanced",
          "Balanced",
          "Balanced",
          "Balanced",
          "Balanced",
          "Balanced"
         ],
         "legendgroup": "Balanced",
         "marker": {
          "color": "#636efa",
          "size": [
           5,
           3,
           4,
           4,
           3,
           6,
           5,
           5,
           4,
           6,
           4,
           2,
           4,
           3,
           3,
           5,
           5,
           5,
           3,
           4,
           4,
           3,
           4,
           6,
           6,
           4,
           2,
           4,
           4,
           4,
           6,
           6,
           4,
           5,
           5,
           5,
           3,
           4,
           6,
           4,
           4,
           6,
           5,
           5,
           3,
           3,
           6,
           4,
           5,
           2,
           6,
           3,
           4,
           5,
           3,
           6,
           3,
           3,
           6,
           7,
           6,
           2,
           3,
           6,
           5,
           6,
           2,
           3,
           5,
           5,
           4,
           4,
           2,
           6,
           5,
           6,
           5,
           5,
           3,
           3,
           4,
           6,
           5,
           7,
           5,
           4,
           3,
           5,
           5,
           5,
           6,
           3,
           3,
           4,
           6,
           5,
           4,
           4,
           4,
           4,
           3,
           4,
           3,
           5,
           3,
           2,
           2,
           5,
           5,
           4,
           7,
           3,
           5,
           2,
           6,
           5,
           6,
           5,
           4,
           5,
           6,
           5,
           5,
           2,
           4,
           5,
           3,
           5,
           5,
           3,
           4,
           4,
           2,
           3,
           6,
           4,
           5,
           6,
           6,
           3,
           6,
           3,
           2,
           4,
           2,
           5,
           3,
           2,
           5,
           4,
           3,
           5,
           2,
           2,
           4,
           3,
           5,
           3,
           6,
           4,
           3,
           4,
           4,
           4,
           5,
           3,
           3,
           2,
           4,
           5,
           4,
           4,
           5,
           6,
           4,
           2,
           3,
           4,
           3,
           2,
           5,
           2,
           3,
           5,
           3,
           5,
           1,
           3,
           5,
           4,
           5,
           5,
           5,
           3,
           7,
           3,
           6,
           2,
           2,
           2,
           3,
           2,
           1,
           5,
           3,
           5,
           5,
           4,
           2,
           4,
           3,
           4,
           6,
           4,
           7,
           3,
           3,
           4,
           2,
           2,
           3,
           6,
           6,
           4,
           4,
           5,
           5,
           4,
           4,
           3,
           5,
           6,
           2,
           5,
           6,
           3,
           4,
           5,
           5,
           3,
           5,
           5,
           3,
           7,
           6,
           3,
           2,
           5,
           4,
           2,
           5,
           5,
           3,
           5,
           5,
           5,
           4,
           2,
           5,
           1,
           4,
           5,
           4,
           5,
           1,
           3,
           1,
           5,
           5,
           5,
           3,
           1,
           5
          ],
          "sizemode": "area",
          "sizeref": 0.0175,
          "symbol": "circle"
         },
         "mode": "markers",
         "name": "Balanced",
         "showlegend": true,
         "subplot": "ternary",
         "type": "scatterternary"
        },
        {
         "a": [
          4,
          5,
          6,
          5,
          3,
          5,
          6,
          6,
          6,
          4,
          7,
          4,
          7,
          5,
          5,
          5,
          6,
          5,
          7,
          6,
          6,
          6,
          7,
          4,
          6,
          3,
          5,
          5,
          4,
          2,
          6,
          7,
          5,
          5,
          6,
          5,
          5,
          6,
          2,
          5,
          7,
          5,
          6,
          4,
          6,
          4,
          4,
          7,
          5,
          5,
          6,
          1,
          7,
          5,
          6,
          2,
          4,
          5,
          5,
          5,
          6,
          5,
          4,
          3,
          5,
          2,
          3,
          4,
          3,
          5,
          5,
          6,
          6,
          5,
          6,
          5,
          3,
          6,
          5,
          2,
          5,
          6,
          7,
          5,
          5,
          7,
          7,
          5,
          7,
          7,
          3,
          6,
          6,
          5,
          3,
          5,
          4,
          5,
          6,
          5,
          5,
          2,
          6,
          2,
          3,
          5,
          6,
          5,
          6,
          4,
          6,
          4,
          4,
          5,
          6,
          7,
          6,
          5,
          5,
          2,
          6,
          2,
          6,
          6,
          6,
          5,
          4,
          5,
          7,
          6,
          3,
          7,
          5,
          6,
          7,
          5,
          5,
          4,
          7
         ],
         "b": [
          2,
          7,
          7,
          5,
          7,
          5,
          6,
          6,
          7,
          2,
          7,
          5,
          7,
          5,
          6,
          6,
          6,
          6,
          7,
          6,
          7,
          6,
          6,
          6,
          6,
          3,
          6,
          7,
          6,
          1,
          4,
          7,
          7,
          7,
          6,
          3,
          5,
          7,
          5,
          4,
          7,
          5,
          7,
          4,
          5,
          5,
          1,
          7,
          6,
          7,
          6,
          1,
          7,
          6,
          6,
          3,
          2,
          6,
          6,
          6,
          6,
          4,
          4,
          3,
          6,
          2,
          2,
          4,
          5,
          2,
          5,
          5,
          6,
          7,
          5,
          7,
          2,
          6,
          6,
          4,
          5,
          7,
          5,
          6,
          5,
          7,
          7,
          6,
          7,
          7,
          5,
          6,
          7,
          4,
          4,
          5,
          4,
          5,
          5,
          6,
          7,
          3,
          7,
          2,
          6,
          7,
          5,
          6,
          6,
          4,
          6,
          3,
          5,
          6,
          6,
          7,
          7,
          5,
          6,
          3,
          7,
          6,
          7,
          7,
          6,
          7,
          5,
          6,
          7,
          7,
          2,
          5,
          5,
          6,
          7,
          5,
          6,
          6,
          7
         ],
         "c": [
          5,
          6,
          7,
          6,
          5,
          6,
          6,
          7,
          7,
          5,
          6,
          6,
          7,
          6,
          7,
          7,
          7,
          7,
          6,
          5,
          7,
          7,
          6,
          7,
          5,
          5,
          6,
          5,
          7,
          7,
          6,
          5,
          7,
          6,
          5,
          5,
          6,
          6,
          6,
          5,
          7,
          6,
          5,
          5,
          6,
          5,
          6,
          7,
          5,
          6,
          6,
          5,
          7,
          5,
          7,
          5,
          5,
          5,
          5,
          7,
          6,
          5,
          7,
          6,
          6,
          5,
          5,
          5,
          5,
          6,
          5,
          5,
          7,
          5,
          6,
          6,
          7,
          6,
          5,
          6,
          6,
          7,
          7,
          5,
          7,
          7,
          7,
          6,
          6,
          5,
          5,
          7,
          6,
          5,
          5,
          5,
          5,
          6,
          5,
          7,
          5,
          6,
          5,
          7,
          6,
          6,
          7,
          5,
          7,
          7,
          6,
          6,
          6,
          5,
          5,
          7,
          7,
          7,
          5,
          6,
          6,
          7,
          7,
          7,
          7,
          7,
          6,
          5,
          7,
          7,
          5,
          7,
          5,
          6,
          7,
          6,
          6,
          5,
          5
         ],
         "hovertemplate": "<b>%{hovertext}</b><br><br>Work type=Analyst<br>Level of computational skills=%{marker.size}<br>Comfort in developing computational skills=%{b}<br>Work description=%{c}<extra></extra>",
         "hovertext": [
          "Analyst",
          "Analyst",
          "Analyst",
          "Analyst",
          "Analyst",
          "Analyst",
          "Analyst",
          "Analyst",
          "Analyst",
          "Analyst",
          "Analyst",
          "Analyst",
          "Analyst",
          "Analyst",
          "Analyst",
          "Analyst",
          "Analyst",
          "Analyst",
          "Analyst",
          "Analyst",
          "Analyst",
          "Analyst",
          "Analyst",
          "Analyst",
          "Analyst",
          "Analyst",
          "Analyst",
          "Analyst",
          "Analyst",
          "Analyst",
          "Analyst",
          "Analyst",
          "Analyst",
          "Analyst",
          "Analyst",
          "Analyst",
          "Analyst",
          "Analyst",
          "Analyst",
          "Analyst",
          "Analyst",
          "Analyst",
          "Analyst",
          "Analyst",
          "Analyst",
          "Analyst",
          "Analyst",
          "Analyst",
          "Analyst",
          "Analyst",
          "Analyst",
          "Analyst",
          "Analyst",
          "Analyst",
          "Analyst",
          "Analyst",
          "Analyst",
          "Analyst",
          "Analyst",
          "Analyst",
          "Analyst",
          "Analyst",
          "Analyst",
          "Analyst",
          "Analyst",
          "Analyst",
          "Analyst",
          "Analyst",
          "Analyst",
          "Analyst",
          "Analyst",
          "Analyst",
          "Analyst",
          "Analyst",
          "Analyst",
          "Analyst",
          "Analyst",
          "Analyst",
          "Analyst",
          "Analyst",
          "Analyst",
          "Analyst",
          "Analyst",
          "Analyst",
          "Analyst",
          "Analyst",
          "Analyst",
          "Analyst",
          "Analyst",
          "Analyst",
          "Analyst",
          "Analyst",
          "Analyst",
          "Analyst",
          "Analyst",
          "Analyst",
          "Analyst",
          "Analyst",
          "Analyst",
          "Analyst",
          "Analyst",
          "Analyst",
          "Analyst",
          "Analyst",
          "Analyst",
          "Analyst",
          "Analyst",
          "Analyst",
          "Analyst",
          "Analyst",
          "Analyst",
          "Analyst",
          "Analyst",
          "Analyst",
          "Analyst",
          "Analyst",
          "Analyst",
          "Analyst",
          "Analyst",
          "Analyst",
          "Analyst",
          "Analyst",
          "Analyst",
          "Analyst",
          "Analyst",
          "Analyst",
          "Analyst",
          "Analyst",
          "Analyst",
          "Analyst",
          "Analyst",
          "Analyst",
          "Analyst",
          "Analyst",
          "Analyst",
          "Analyst",
          "Analyst",
          "Analyst",
          "Analyst"
         ],
         "legendgroup": "Analyst",
         "marker": {
          "color": "#EF553B",
          "size": [
           4,
           5,
           6,
           5,
           3,
           5,
           6,
           6,
           6,
           4,
           7,
           4,
           7,
           5,
           5,
           5,
           6,
           5,
           7,
           6,
           6,
           6,
           7,
           4,
           6,
           3,
           5,
           5,
           4,
           2,
           6,
           7,
           5,
           5,
           6,
           5,
           5,
           6,
           2,
           5,
           7,
           5,
           6,
           4,
           6,
           4,
           4,
           7,
           5,
           5,
           6,
           1,
           7,
           5,
           6,
           2,
           4,
           5,
           5,
           5,
           6,
           5,
           4,
           3,
           5,
           2,
           3,
           4,
           3,
           5,
           5,
           6,
           6,
           5,
           6,
           5,
           3,
           6,
           5,
           2,
           5,
           6,
           7,
           5,
           5,
           7,
           7,
           5,
           7,
           7,
           3,
           6,
           6,
           5,
           3,
           5,
           4,
           5,
           6,
           5,
           5,
           2,
           6,
           2,
           3,
           5,
           6,
           5,
           6,
           4,
           6,
           4,
           4,
           5,
           6,
           7,
           6,
           5,
           5,
           2,
           6,
           2,
           6,
           6,
           6,
           5,
           4,
           5,
           7,
           6,
           3,
           7,
           5,
           6,
           7,
           5,
           5,
           4,
           7
          ],
          "sizemode": "area",
          "sizeref": 0.0175,
          "symbol": "circle"
         },
         "mode": "markers",
         "name": "Analyst",
         "showlegend": true,
         "subplot": "ternary",
         "type": "scatterternary"
        },
        {
         "a": [
          5,
          1,
          2,
          3,
          3,
          3,
          2,
          3,
          4,
          5,
          4,
          5,
          6,
          6,
          1,
          4,
          3,
          6,
          6,
          5,
          5,
          3,
          5,
          2,
          4,
          2,
          4,
          3,
          4,
          4,
          5,
          3,
          4,
          2,
          3,
          5,
          5,
          5,
          5,
          3,
          4,
          4,
          5,
          6,
          6,
          5,
          7,
          5,
          4,
          3,
          2,
          4,
          3,
          4,
          2,
          5,
          3,
          2,
          3,
          2,
          3,
          1,
          3,
          5,
          4,
          2,
          2,
          2,
          5,
          2,
          3,
          2,
          2,
          4,
          4,
          4,
          4,
          3,
          3,
          2,
          4
         ],
         "b": [
          4,
          2,
          1,
          3,
          3,
          4,
          6,
          1,
          4,
          5,
          2,
          6,
          5,
          6,
          2,
          2,
          4,
          7,
          7,
          5,
          3,
          5,
          5,
          1,
          4,
          2,
          2,
          4,
          3,
          2,
          4,
          3,
          5,
          2,
          4,
          6,
          2,
          5,
          5,
          2,
          5,
          4,
          5,
          7,
          5,
          6,
          7,
          4,
          4,
          1,
          2,
          2,
          4,
          5,
          2,
          6,
          2,
          6,
          4,
          4,
          7,
          1,
          3,
          1,
          2,
          6,
          2,
          3,
          5,
          3,
          4,
          3,
          4,
          4,
          4,
          5,
          4,
          4,
          4,
          1,
          3
         ],
         "c": [
          2,
          1,
          2,
          2,
          2,
          2,
          2,
          1,
          2,
          2,
          2,
          2,
          2,
          2,
          1,
          2,
          2,
          1,
          2,
          2,
          1,
          1,
          2,
          2,
          2,
          2,
          2,
          1,
          2,
          2,
          2,
          2,
          1,
          1,
          1,
          2,
          2,
          2,
          2,
          2,
          1,
          2,
          2,
          1,
          1,
          2,
          2,
          2,
          2,
          2,
          2,
          2,
          2,
          2,
          2,
          2,
          2,
          1,
          2,
          2,
          1,
          2,
          2,
          1,
          2,
          2,
          1,
          2,
          2,
          2,
          2,
          2,
          2,
          2,
          2,
          2,
          2,
          1,
          2,
          2,
          2
         ],
         "hovertemplate": "<b>%{hovertext}</b><br><br>Work type=Imaging<br>Level of computational skills=%{marker.size}<br>Comfort in developing computational skills=%{b}<br>Work description=%{c}<extra></extra>",
         "hovertext": [
          "Imaging",
          "Imaging",
          "Imaging",
          "Imaging",
          "Imaging",
          "Imaging",
          "Imaging",
          "Imaging",
          "Imaging",
          "Imaging",
          "Imaging",
          "Imaging",
          "Imaging",
          "Imaging",
          "Imaging",
          "Imaging",
          "Imaging",
          "Imaging",
          "Imaging",
          "Imaging",
          "Imaging",
          "Imaging",
          "Imaging",
          "Imaging",
          "Imaging",
          "Imaging",
          "Imaging",
          "Imaging",
          "Imaging",
          "Imaging",
          "Imaging",
          "Imaging",
          "Imaging",
          "Imaging",
          "Imaging",
          "Imaging",
          "Imaging",
          "Imaging",
          "Imaging",
          "Imaging",
          "Imaging",
          "Imaging",
          "Imaging",
          "Imaging",
          "Imaging",
          "Imaging",
          "Imaging",
          "Imaging",
          "Imaging",
          "Imaging",
          "Imaging",
          "Imaging",
          "Imaging",
          "Imaging",
          "Imaging",
          "Imaging",
          "Imaging",
          "Imaging",
          "Imaging",
          "Imaging",
          "Imaging",
          "Imaging",
          "Imaging",
          "Imaging",
          "Imaging",
          "Imaging",
          "Imaging",
          "Imaging",
          "Imaging",
          "Imaging",
          "Imaging",
          "Imaging",
          "Imaging",
          "Imaging",
          "Imaging",
          "Imaging",
          "Imaging",
          "Imaging",
          "Imaging",
          "Imaging",
          "Imaging"
         ],
         "legendgroup": "Imaging",
         "marker": {
          "color": "#00cc96",
          "size": [
           5,
           1,
           2,
           3,
           3,
           3,
           2,
           3,
           4,
           5,
           4,
           5,
           6,
           6,
           1,
           4,
           3,
           6,
           6,
           5,
           5,
           3,
           5,
           2,
           4,
           2,
           4,
           3,
           4,
           4,
           5,
           3,
           4,
           2,
           3,
           5,
           5,
           5,
           5,
           3,
           4,
           4,
           5,
           6,
           6,
           5,
           7,
           5,
           4,
           3,
           2,
           4,
           3,
           4,
           2,
           5,
           3,
           2,
           3,
           2,
           3,
           1,
           3,
           5,
           4,
           2,
           2,
           2,
           5,
           2,
           3,
           2,
           2,
           4,
           4,
           4,
           4,
           3,
           3,
           2,
           4
          ],
          "sizemode": "area",
          "sizeref": 0.0175,
          "symbol": "circle"
         },
         "mode": "markers",
         "name": "Imaging",
         "showlegend": true,
         "subplot": "ternary",
         "type": "scatterternary"
        }
       ],
       "layout": {
        "legend": {
         "itemsizing": "constant",
         "title": {
          "text": "Work type"
         },
         "tracegroupgap": 0
        },
        "margin": {
         "t": 60
        },
        "template": {
         "data": {
          "bar": [
           {
            "error_x": {
             "color": "#2a3f5f"
            },
            "error_y": {
             "color": "#2a3f5f"
            },
            "marker": {
             "line": {
              "color": "#E5ECF6",
              "width": 0.5
             },
             "pattern": {
              "fillmode": "overlay",
              "size": 10,
              "solidity": 0.2
             }
            },
            "type": "bar"
           }
          ],
          "barpolar": [
           {
            "marker": {
             "line": {
              "color": "#E5ECF6",
              "width": 0.5
             },
             "pattern": {
              "fillmode": "overlay",
              "size": 10,
              "solidity": 0.2
             }
            },
            "type": "barpolar"
           }
          ],
          "carpet": [
           {
            "aaxis": {
             "endlinecolor": "#2a3f5f",
             "gridcolor": "white",
             "linecolor": "white",
             "minorgridcolor": "white",
             "startlinecolor": "#2a3f5f"
            },
            "baxis": {
             "endlinecolor": "#2a3f5f",
             "gridcolor": "white",
             "linecolor": "white",
             "minorgridcolor": "white",
             "startlinecolor": "#2a3f5f"
            },
            "type": "carpet"
           }
          ],
          "choropleth": [
           {
            "colorbar": {
             "outlinewidth": 0,
             "ticks": ""
            },
            "type": "choropleth"
           }
          ],
          "contour": [
           {
            "colorbar": {
             "outlinewidth": 0,
             "ticks": ""
            },
            "colorscale": [
             [
              0,
              "#0d0887"
             ],
             [
              0.1111111111111111,
              "#46039f"
             ],
             [
              0.2222222222222222,
              "#7201a8"
             ],
             [
              0.3333333333333333,
              "#9c179e"
             ],
             [
              0.4444444444444444,
              "#bd3786"
             ],
             [
              0.5555555555555556,
              "#d8576b"
             ],
             [
              0.6666666666666666,
              "#ed7953"
             ],
             [
              0.7777777777777778,
              "#fb9f3a"
             ],
             [
              0.8888888888888888,
              "#fdca26"
             ],
             [
              1,
              "#f0f921"
             ]
            ],
            "type": "contour"
           }
          ],
          "contourcarpet": [
           {
            "colorbar": {
             "outlinewidth": 0,
             "ticks": ""
            },
            "type": "contourcarpet"
           }
          ],
          "heatmap": [
           {
            "colorbar": {
             "outlinewidth": 0,
             "ticks": ""
            },
            "colorscale": [
             [
              0,
              "#0d0887"
             ],
             [
              0.1111111111111111,
              "#46039f"
             ],
             [
              0.2222222222222222,
              "#7201a8"
             ],
             [
              0.3333333333333333,
              "#9c179e"
             ],
             [
              0.4444444444444444,
              "#bd3786"
             ],
             [
              0.5555555555555556,
              "#d8576b"
             ],
             [
              0.6666666666666666,
              "#ed7953"
             ],
             [
              0.7777777777777778,
              "#fb9f3a"
             ],
             [
              0.8888888888888888,
              "#fdca26"
             ],
             [
              1,
              "#f0f921"
             ]
            ],
            "type": "heatmap"
           }
          ],
          "heatmapgl": [
           {
            "colorbar": {
             "outlinewidth": 0,
             "ticks": ""
            },
            "colorscale": [
             [
              0,
              "#0d0887"
             ],
             [
              0.1111111111111111,
              "#46039f"
             ],
             [
              0.2222222222222222,
              "#7201a8"
             ],
             [
              0.3333333333333333,
              "#9c179e"
             ],
             [
              0.4444444444444444,
              "#bd3786"
             ],
             [
              0.5555555555555556,
              "#d8576b"
             ],
             [
              0.6666666666666666,
              "#ed7953"
             ],
             [
              0.7777777777777778,
              "#fb9f3a"
             ],
             [
              0.8888888888888888,
              "#fdca26"
             ],
             [
              1,
              "#f0f921"
             ]
            ],
            "type": "heatmapgl"
           }
          ],
          "histogram": [
           {
            "marker": {
             "pattern": {
              "fillmode": "overlay",
              "size": 10,
              "solidity": 0.2
             }
            },
            "type": "histogram"
           }
          ],
          "histogram2d": [
           {
            "colorbar": {
             "outlinewidth": 0,
             "ticks": ""
            },
            "colorscale": [
             [
              0,
              "#0d0887"
             ],
             [
              0.1111111111111111,
              "#46039f"
             ],
             [
              0.2222222222222222,
              "#7201a8"
             ],
             [
              0.3333333333333333,
              "#9c179e"
             ],
             [
              0.4444444444444444,
              "#bd3786"
             ],
             [
              0.5555555555555556,
              "#d8576b"
             ],
             [
              0.6666666666666666,
              "#ed7953"
             ],
             [
              0.7777777777777778,
              "#fb9f3a"
             ],
             [
              0.8888888888888888,
              "#fdca26"
             ],
             [
              1,
              "#f0f921"
             ]
            ],
            "type": "histogram2d"
           }
          ],
          "histogram2dcontour": [
           {
            "colorbar": {
             "outlinewidth": 0,
             "ticks": ""
            },
            "colorscale": [
             [
              0,
              "#0d0887"
             ],
             [
              0.1111111111111111,
              "#46039f"
             ],
             [
              0.2222222222222222,
              "#7201a8"
             ],
             [
              0.3333333333333333,
              "#9c179e"
             ],
             [
              0.4444444444444444,
              "#bd3786"
             ],
             [
              0.5555555555555556,
              "#d8576b"
             ],
             [
              0.6666666666666666,
              "#ed7953"
             ],
             [
              0.7777777777777778,
              "#fb9f3a"
             ],
             [
              0.8888888888888888,
              "#fdca26"
             ],
             [
              1,
              "#f0f921"
             ]
            ],
            "type": "histogram2dcontour"
           }
          ],
          "mesh3d": [
           {
            "colorbar": {
             "outlinewidth": 0,
             "ticks": ""
            },
            "type": "mesh3d"
           }
          ],
          "parcoords": [
           {
            "line": {
             "colorbar": {
              "outlinewidth": 0,
              "ticks": ""
             }
            },
            "type": "parcoords"
           }
          ],
          "pie": [
           {
            "automargin": true,
            "type": "pie"
           }
          ],
          "scatter": [
           {
            "fillpattern": {
             "fillmode": "overlay",
             "size": 10,
             "solidity": 0.2
            },
            "type": "scatter"
           }
          ],
          "scatter3d": [
           {
            "line": {
             "colorbar": {
              "outlinewidth": 0,
              "ticks": ""
             }
            },
            "marker": {
             "colorbar": {
              "outlinewidth": 0,
              "ticks": ""
             }
            },
            "type": "scatter3d"
           }
          ],
          "scattercarpet": [
           {
            "marker": {
             "colorbar": {
              "outlinewidth": 0,
              "ticks": ""
             }
            },
            "type": "scattercarpet"
           }
          ],
          "scattergeo": [
           {
            "marker": {
             "colorbar": {
              "outlinewidth": 0,
              "ticks": ""
             }
            },
            "type": "scattergeo"
           }
          ],
          "scattergl": [
           {
            "marker": {
             "colorbar": {
              "outlinewidth": 0,
              "ticks": ""
             }
            },
            "type": "scattergl"
           }
          ],
          "scattermapbox": [
           {
            "marker": {
             "colorbar": {
              "outlinewidth": 0,
              "ticks": ""
             }
            },
            "type": "scattermapbox"
           }
          ],
          "scatterpolar": [
           {
            "marker": {
             "colorbar": {
              "outlinewidth": 0,
              "ticks": ""
             }
            },
            "type": "scatterpolar"
           }
          ],
          "scatterpolargl": [
           {
            "marker": {
             "colorbar": {
              "outlinewidth": 0,
              "ticks": ""
             }
            },
            "type": "scatterpolargl"
           }
          ],
          "scatterternary": [
           {
            "marker": {
             "colorbar": {
              "outlinewidth": 0,
              "ticks": ""
             }
            },
            "type": "scatterternary"
           }
          ],
          "surface": [
           {
            "colorbar": {
             "outlinewidth": 0,
             "ticks": ""
            },
            "colorscale": [
             [
              0,
              "#0d0887"
             ],
             [
              0.1111111111111111,
              "#46039f"
             ],
             [
              0.2222222222222222,
              "#7201a8"
             ],
             [
              0.3333333333333333,
              "#9c179e"
             ],
             [
              0.4444444444444444,
              "#bd3786"
             ],
             [
              0.5555555555555556,
              "#d8576b"
             ],
             [
              0.6666666666666666,
              "#ed7953"
             ],
             [
              0.7777777777777778,
              "#fb9f3a"
             ],
             [
              0.8888888888888888,
              "#fdca26"
             ],
             [
              1,
              "#f0f921"
             ]
            ],
            "type": "surface"
           }
          ],
          "table": [
           {
            "cells": {
             "fill": {
              "color": "#EBF0F8"
             },
             "line": {
              "color": "white"
             }
            },
            "header": {
             "fill": {
              "color": "#C8D4E3"
             },
             "line": {
              "color": "white"
             }
            },
            "type": "table"
           }
          ]
         },
         "layout": {
          "annotationdefaults": {
           "arrowcolor": "#2a3f5f",
           "arrowhead": 0,
           "arrowwidth": 1
          },
          "autotypenumbers": "strict",
          "coloraxis": {
           "colorbar": {
            "outlinewidth": 0,
            "ticks": ""
           }
          },
          "colorscale": {
           "diverging": [
            [
             0,
             "#8e0152"
            ],
            [
             0.1,
             "#c51b7d"
            ],
            [
             0.2,
             "#de77ae"
            ],
            [
             0.3,
             "#f1b6da"
            ],
            [
             0.4,
             "#fde0ef"
            ],
            [
             0.5,
             "#f7f7f7"
            ],
            [
             0.6,
             "#e6f5d0"
            ],
            [
             0.7,
             "#b8e186"
            ],
            [
             0.8,
             "#7fbc41"
            ],
            [
             0.9,
             "#4d9221"
            ],
            [
             1,
             "#276419"
            ]
           ],
           "sequential": [
            [
             0,
             "#0d0887"
            ],
            [
             0.1111111111111111,
             "#46039f"
            ],
            [
             0.2222222222222222,
             "#7201a8"
            ],
            [
             0.3333333333333333,
             "#9c179e"
            ],
            [
             0.4444444444444444,
             "#bd3786"
            ],
            [
             0.5555555555555556,
             "#d8576b"
            ],
            [
             0.6666666666666666,
             "#ed7953"
            ],
            [
             0.7777777777777778,
             "#fb9f3a"
            ],
            [
             0.8888888888888888,
             "#fdca26"
            ],
            [
             1,
             "#f0f921"
            ]
           ],
           "sequentialminus": [
            [
             0,
             "#0d0887"
            ],
            [
             0.1111111111111111,
             "#46039f"
            ],
            [
             0.2222222222222222,
             "#7201a8"
            ],
            [
             0.3333333333333333,
             "#9c179e"
            ],
            [
             0.4444444444444444,
             "#bd3786"
            ],
            [
             0.5555555555555556,
             "#d8576b"
            ],
            [
             0.6666666666666666,
             "#ed7953"
            ],
            [
             0.7777777777777778,
             "#fb9f3a"
            ],
            [
             0.8888888888888888,
             "#fdca26"
            ],
            [
             1,
             "#f0f921"
            ]
           ]
          },
          "colorway": [
           "#636efa",
           "#EF553B",
           "#00cc96",
           "#ab63fa",
           "#FFA15A",
           "#19d3f3",
           "#FF6692",
           "#B6E880",
           "#FF97FF",
           "#FECB52"
          ],
          "font": {
           "color": "#2a3f5f"
          },
          "geo": {
           "bgcolor": "white",
           "lakecolor": "white",
           "landcolor": "#E5ECF6",
           "showlakes": true,
           "showland": true,
           "subunitcolor": "white"
          },
          "hoverlabel": {
           "align": "left"
          },
          "hovermode": "closest",
          "mapbox": {
           "style": "light"
          },
          "paper_bgcolor": "white",
          "plot_bgcolor": "#E5ECF6",
          "polar": {
           "angularaxis": {
            "gridcolor": "white",
            "linecolor": "white",
            "ticks": ""
           },
           "bgcolor": "#E5ECF6",
           "radialaxis": {
            "gridcolor": "white",
            "linecolor": "white",
            "ticks": ""
           }
          },
          "scene": {
           "xaxis": {
            "backgroundcolor": "#E5ECF6",
            "gridcolor": "white",
            "gridwidth": 2,
            "linecolor": "white",
            "showbackground": true,
            "ticks": "",
            "zerolinecolor": "white"
           },
           "yaxis": {
            "backgroundcolor": "#E5ECF6",
            "gridcolor": "white",
            "gridwidth": 2,
            "linecolor": "white",
            "showbackground": true,
            "ticks": "",
            "zerolinecolor": "white"
           },
           "zaxis": {
            "backgroundcolor": "#E5ECF6",
            "gridcolor": "white",
            "gridwidth": 2,
            "linecolor": "white",
            "showbackground": true,
            "ticks": "",
            "zerolinecolor": "white"
           }
          },
          "shapedefaults": {
           "line": {
            "color": "#2a3f5f"
           }
          },
          "ternary": {
           "aaxis": {
            "gridcolor": "white",
            "linecolor": "white",
            "ticks": ""
           },
           "baxis": {
            "gridcolor": "white",
            "linecolor": "white",
            "ticks": ""
           },
           "bgcolor": "#E5ECF6",
           "caxis": {
            "gridcolor": "white",
            "linecolor": "white",
            "ticks": ""
           }
          },
          "title": {
           "x": 0.05
          },
          "xaxis": {
           "automargin": true,
           "gridcolor": "white",
           "linecolor": "white",
           "ticks": "",
           "title": {
            "standoff": 15
           },
           "zerolinecolor": "white",
           "zerolinewidth": 2
          },
          "yaxis": {
           "automargin": true,
           "gridcolor": "white",
           "linecolor": "white",
           "ticks": "",
           "title": {
            "standoff": 15
           },
           "zerolinecolor": "white",
           "zerolinewidth": 2
          }
         }
        },
        "ternary": {
         "aaxis": {
          "min": 1,
          "title": {
           "text": "Level of computational skills"
          }
         },
         "baxis": {
          "title": {
           "text": "Comfort in developing computational skills"
          }
         },
         "caxis": {
          "title": {
           "text": "Work description"
          }
         },
         "domain": {
          "x": [
           0,
           1
          ],
          "y": [
           0,
           1
          ]
         },
         "sum": 10
        }
       }
      }
     },
     "metadata": {},
     "output_type": "display_data"
    }
   ],
   "source": [
    "#trial for tenary plots to compare the computational knowledge vs comfort in developing new comp skills wrt work type\n",
    "fig = px.scatter_ternary(data, a=\"Level of computational skills\", b=\"Comfort in developing computational skills\", c=\"Work description\", hover_name=\"Work type\",\n",
    "    color=\"Work type\", size='Level of computational skills',\n",
    "    )\n",
    "fig.update_ternaries(sum=10, aaxis_min=1)\n",
    "fig.show()"
   ]
  },
  {
   "cell_type": "code",
   "execution_count": 655,
   "metadata": {},
   "outputs": [],
   "source": [
    "data[\"Approach to solutions\"] = data[\"Approach to solutions\"].astype(str)"
   ]
  },
  {
   "cell_type": "code",
   "execution_count": 656,
   "metadata": {},
   "outputs": [],
   "source": [
    "# Ways people analyze data \n",
    "\n",
    "data['Play with a tool'] = data['Approach to solutions'].apply(lambda x: True if 'Sit down with a tool I know and start playing with the data' in x else False)\n",
    "data[\"Ask a friend or colleague\"] = data[\"Approach to solutions\"].apply(lambda x: True if 'Ask a friend or colleague to help me'in x else False)\n",
    "data[\"Ask on image sc forum\"] = data[\"Approach to solutions\"].apply(lambda x: True if 'Ask on forum.image.sc'in x else False)\n",
    "data['Google'] = data[\"Approach to solutions\"].apply(lambda x: True if 'Google' in x else False)\n",
    "data[\"Particluar websites\"] = data[\"Approach to solutions\"].apply(lambda x:True if \"particular website\" in x else False)\n",
    "data[\"Scientific literature\"] = data[\"Approach to solutions\"].apply(lambda x: True if 'scientific literature' in x else False)"
   ]
  },
  {
   "cell_type": "code",
   "execution_count": 657,
   "metadata": {},
   "outputs": [],
   "source": [
    "ways_people_analyze_data = data.columns\n",
    "ways_people_analyze_data_subset = ways_people_analyze_data[-6:]\n",
    "ways_people_analyze_data_values= [data[\"Play with a tool\"].sum(), data[\"Ask a friend or colleague\"].sum(), data[\"Ask on image sc forum\"].sum(), data[\"Google\"].sum(), data[\"Particluar websites\"].sum(), data[\"Scientific literature\"].sum()]"
   ]
  },
  {
   "cell_type": "code",
   "execution_count": 658,
   "metadata": {},
   "outputs": [],
   "source": [
    "ways_people_analyze_data_scatter = px.scatter(x=ways_people_analyze_data_subset, y =ways_people_analyze_data_values, size=ways_people_analyze_data_values, color=ways_people_analyze_data_values, labels={'x':'', 'y':'Number of users'}, width =1000, height=500)"
   ]
  },
  {
   "cell_type": "code",
   "execution_count": 659,
   "metadata": {},
   "outputs": [
    {
     "data": {
      "application/vnd.plotly.v1+json": {
       "config": {
        "plotlyServerURL": "https://plot.ly"
       },
       "data": [
        {
         "hovertemplate": "=%{x}<br>Number of users=%{y}<br>size=%{marker.size}<br>color=%{marker.color}<extra></extra>",
         "legendgroup": "",
         "marker": {
          "color": [
           408,
           212,
           107,
           359,
           41,
           280
          ],
          "coloraxis": "coloraxis",
          "size": [
           408,
           212,
           107,
           359,
           41,
           280
          ],
          "sizemode": "area",
          "sizeref": 1.02,
          "symbol": "circle"
         },
         "mode": "markers",
         "name": "",
         "orientation": "v",
         "showlegend": false,
         "type": "scatter",
         "x": [
          "Play with a tool",
          "Ask a friend or colleague",
          "Ask on image sc forum",
          "Google",
          "Particluar websites",
          "Scientific literature"
         ],
         "xaxis": "x",
         "y": [
          408,
          212,
          107,
          359,
          41,
          280
         ],
         "yaxis": "y"
        }
       ],
       "layout": {
        "coloraxis": {
         "colorbar": {
          "title": {
           "text": "color"
          }
         },
         "colorscale": [
          [
           0,
           "#0d0887"
          ],
          [
           0.1111111111111111,
           "#46039f"
          ],
          [
           0.2222222222222222,
           "#7201a8"
          ],
          [
           0.3333333333333333,
           "#9c179e"
          ],
          [
           0.4444444444444444,
           "#bd3786"
          ],
          [
           0.5555555555555556,
           "#d8576b"
          ],
          [
           0.6666666666666666,
           "#ed7953"
          ],
          [
           0.7777777777777778,
           "#fb9f3a"
          ],
          [
           0.8888888888888888,
           "#fdca26"
          ],
          [
           1,
           "#f0f921"
          ]
         ]
        },
        "height": 500,
        "legend": {
         "itemsizing": "constant",
         "tracegroupgap": 0
        },
        "margin": {
         "t": 60
        },
        "template": {
         "data": {
          "bar": [
           {
            "error_x": {
             "color": "#2a3f5f"
            },
            "error_y": {
             "color": "#2a3f5f"
            },
            "marker": {
             "line": {
              "color": "#E5ECF6",
              "width": 0.5
             },
             "pattern": {
              "fillmode": "overlay",
              "size": 10,
              "solidity": 0.2
             }
            },
            "type": "bar"
           }
          ],
          "barpolar": [
           {
            "marker": {
             "line": {
              "color": "#E5ECF6",
              "width": 0.5
             },
             "pattern": {
              "fillmode": "overlay",
              "size": 10,
              "solidity": 0.2
             }
            },
            "type": "barpolar"
           }
          ],
          "carpet": [
           {
            "aaxis": {
             "endlinecolor": "#2a3f5f",
             "gridcolor": "white",
             "linecolor": "white",
             "minorgridcolor": "white",
             "startlinecolor": "#2a3f5f"
            },
            "baxis": {
             "endlinecolor": "#2a3f5f",
             "gridcolor": "white",
             "linecolor": "white",
             "minorgridcolor": "white",
             "startlinecolor": "#2a3f5f"
            },
            "type": "carpet"
           }
          ],
          "choropleth": [
           {
            "colorbar": {
             "outlinewidth": 0,
             "ticks": ""
            },
            "type": "choropleth"
           }
          ],
          "contour": [
           {
            "colorbar": {
             "outlinewidth": 0,
             "ticks": ""
            },
            "colorscale": [
             [
              0,
              "#0d0887"
             ],
             [
              0.1111111111111111,
              "#46039f"
             ],
             [
              0.2222222222222222,
              "#7201a8"
             ],
             [
              0.3333333333333333,
              "#9c179e"
             ],
             [
              0.4444444444444444,
              "#bd3786"
             ],
             [
              0.5555555555555556,
              "#d8576b"
             ],
             [
              0.6666666666666666,
              "#ed7953"
             ],
             [
              0.7777777777777778,
              "#fb9f3a"
             ],
             [
              0.8888888888888888,
              "#fdca26"
             ],
             [
              1,
              "#f0f921"
             ]
            ],
            "type": "contour"
           }
          ],
          "contourcarpet": [
           {
            "colorbar": {
             "outlinewidth": 0,
             "ticks": ""
            },
            "type": "contourcarpet"
           }
          ],
          "heatmap": [
           {
            "colorbar": {
             "outlinewidth": 0,
             "ticks": ""
            },
            "colorscale": [
             [
              0,
              "#0d0887"
             ],
             [
              0.1111111111111111,
              "#46039f"
             ],
             [
              0.2222222222222222,
              "#7201a8"
             ],
             [
              0.3333333333333333,
              "#9c179e"
             ],
             [
              0.4444444444444444,
              "#bd3786"
             ],
             [
              0.5555555555555556,
              "#d8576b"
             ],
             [
              0.6666666666666666,
              "#ed7953"
             ],
             [
              0.7777777777777778,
              "#fb9f3a"
             ],
             [
              0.8888888888888888,
              "#fdca26"
             ],
             [
              1,
              "#f0f921"
             ]
            ],
            "type": "heatmap"
           }
          ],
          "heatmapgl": [
           {
            "colorbar": {
             "outlinewidth": 0,
             "ticks": ""
            },
            "colorscale": [
             [
              0,
              "#0d0887"
             ],
             [
              0.1111111111111111,
              "#46039f"
             ],
             [
              0.2222222222222222,
              "#7201a8"
             ],
             [
              0.3333333333333333,
              "#9c179e"
             ],
             [
              0.4444444444444444,
              "#bd3786"
             ],
             [
              0.5555555555555556,
              "#d8576b"
             ],
             [
              0.6666666666666666,
              "#ed7953"
             ],
             [
              0.7777777777777778,
              "#fb9f3a"
             ],
             [
              0.8888888888888888,
              "#fdca26"
             ],
             [
              1,
              "#f0f921"
             ]
            ],
            "type": "heatmapgl"
           }
          ],
          "histogram": [
           {
            "marker": {
             "pattern": {
              "fillmode": "overlay",
              "size": 10,
              "solidity": 0.2
             }
            },
            "type": "histogram"
           }
          ],
          "histogram2d": [
           {
            "colorbar": {
             "outlinewidth": 0,
             "ticks": ""
            },
            "colorscale": [
             [
              0,
              "#0d0887"
             ],
             [
              0.1111111111111111,
              "#46039f"
             ],
             [
              0.2222222222222222,
              "#7201a8"
             ],
             [
              0.3333333333333333,
              "#9c179e"
             ],
             [
              0.4444444444444444,
              "#bd3786"
             ],
             [
              0.5555555555555556,
              "#d8576b"
             ],
             [
              0.6666666666666666,
              "#ed7953"
             ],
             [
              0.7777777777777778,
              "#fb9f3a"
             ],
             [
              0.8888888888888888,
              "#fdca26"
             ],
             [
              1,
              "#f0f921"
             ]
            ],
            "type": "histogram2d"
           }
          ],
          "histogram2dcontour": [
           {
            "colorbar": {
             "outlinewidth": 0,
             "ticks": ""
            },
            "colorscale": [
             [
              0,
              "#0d0887"
             ],
             [
              0.1111111111111111,
              "#46039f"
             ],
             [
              0.2222222222222222,
              "#7201a8"
             ],
             [
              0.3333333333333333,
              "#9c179e"
             ],
             [
              0.4444444444444444,
              "#bd3786"
             ],
             [
              0.5555555555555556,
              "#d8576b"
             ],
             [
              0.6666666666666666,
              "#ed7953"
             ],
             [
              0.7777777777777778,
              "#fb9f3a"
             ],
             [
              0.8888888888888888,
              "#fdca26"
             ],
             [
              1,
              "#f0f921"
             ]
            ],
            "type": "histogram2dcontour"
           }
          ],
          "mesh3d": [
           {
            "colorbar": {
             "outlinewidth": 0,
             "ticks": ""
            },
            "type": "mesh3d"
           }
          ],
          "parcoords": [
           {
            "line": {
             "colorbar": {
              "outlinewidth": 0,
              "ticks": ""
             }
            },
            "type": "parcoords"
           }
          ],
          "pie": [
           {
            "automargin": true,
            "type": "pie"
           }
          ],
          "scatter": [
           {
            "fillpattern": {
             "fillmode": "overlay",
             "size": 10,
             "solidity": 0.2
            },
            "type": "scatter"
           }
          ],
          "scatter3d": [
           {
            "line": {
             "colorbar": {
              "outlinewidth": 0,
              "ticks": ""
             }
            },
            "marker": {
             "colorbar": {
              "outlinewidth": 0,
              "ticks": ""
             }
            },
            "type": "scatter3d"
           }
          ],
          "scattercarpet": [
           {
            "marker": {
             "colorbar": {
              "outlinewidth": 0,
              "ticks": ""
             }
            },
            "type": "scattercarpet"
           }
          ],
          "scattergeo": [
           {
            "marker": {
             "colorbar": {
              "outlinewidth": 0,
              "ticks": ""
             }
            },
            "type": "scattergeo"
           }
          ],
          "scattergl": [
           {
            "marker": {
             "colorbar": {
              "outlinewidth": 0,
              "ticks": ""
             }
            },
            "type": "scattergl"
           }
          ],
          "scattermapbox": [
           {
            "marker": {
             "colorbar": {
              "outlinewidth": 0,
              "ticks": ""
             }
            },
            "type": "scattermapbox"
           }
          ],
          "scatterpolar": [
           {
            "marker": {
             "colorbar": {
              "outlinewidth": 0,
              "ticks": ""
             }
            },
            "type": "scatterpolar"
           }
          ],
          "scatterpolargl": [
           {
            "marker": {
             "colorbar": {
              "outlinewidth": 0,
              "ticks": ""
             }
            },
            "type": "scatterpolargl"
           }
          ],
          "scatterternary": [
           {
            "marker": {
             "colorbar": {
              "outlinewidth": 0,
              "ticks": ""
             }
            },
            "type": "scatterternary"
           }
          ],
          "surface": [
           {
            "colorbar": {
             "outlinewidth": 0,
             "ticks": ""
            },
            "colorscale": [
             [
              0,
              "#0d0887"
             ],
             [
              0.1111111111111111,
              "#46039f"
             ],
             [
              0.2222222222222222,
              "#7201a8"
             ],
             [
              0.3333333333333333,
              "#9c179e"
             ],
             [
              0.4444444444444444,
              "#bd3786"
             ],
             [
              0.5555555555555556,
              "#d8576b"
             ],
             [
              0.6666666666666666,
              "#ed7953"
             ],
             [
              0.7777777777777778,
              "#fb9f3a"
             ],
             [
              0.8888888888888888,
              "#fdca26"
             ],
             [
              1,
              "#f0f921"
             ]
            ],
            "type": "surface"
           }
          ],
          "table": [
           {
            "cells": {
             "fill": {
              "color": "#EBF0F8"
             },
             "line": {
              "color": "white"
             }
            },
            "header": {
             "fill": {
              "color": "#C8D4E3"
             },
             "line": {
              "color": "white"
             }
            },
            "type": "table"
           }
          ]
         },
         "layout": {
          "annotationdefaults": {
           "arrowcolor": "#2a3f5f",
           "arrowhead": 0,
           "arrowwidth": 1
          },
          "autotypenumbers": "strict",
          "coloraxis": {
           "colorbar": {
            "outlinewidth": 0,
            "ticks": ""
           }
          },
          "colorscale": {
           "diverging": [
            [
             0,
             "#8e0152"
            ],
            [
             0.1,
             "#c51b7d"
            ],
            [
             0.2,
             "#de77ae"
            ],
            [
             0.3,
             "#f1b6da"
            ],
            [
             0.4,
             "#fde0ef"
            ],
            [
             0.5,
             "#f7f7f7"
            ],
            [
             0.6,
             "#e6f5d0"
            ],
            [
             0.7,
             "#b8e186"
            ],
            [
             0.8,
             "#7fbc41"
            ],
            [
             0.9,
             "#4d9221"
            ],
            [
             1,
             "#276419"
            ]
           ],
           "sequential": [
            [
             0,
             "#0d0887"
            ],
            [
             0.1111111111111111,
             "#46039f"
            ],
            [
             0.2222222222222222,
             "#7201a8"
            ],
            [
             0.3333333333333333,
             "#9c179e"
            ],
            [
             0.4444444444444444,
             "#bd3786"
            ],
            [
             0.5555555555555556,
             "#d8576b"
            ],
            [
             0.6666666666666666,
             "#ed7953"
            ],
            [
             0.7777777777777778,
             "#fb9f3a"
            ],
            [
             0.8888888888888888,
             "#fdca26"
            ],
            [
             1,
             "#f0f921"
            ]
           ],
           "sequentialminus": [
            [
             0,
             "#0d0887"
            ],
            [
             0.1111111111111111,
             "#46039f"
            ],
            [
             0.2222222222222222,
             "#7201a8"
            ],
            [
             0.3333333333333333,
             "#9c179e"
            ],
            [
             0.4444444444444444,
             "#bd3786"
            ],
            [
             0.5555555555555556,
             "#d8576b"
            ],
            [
             0.6666666666666666,
             "#ed7953"
            ],
            [
             0.7777777777777778,
             "#fb9f3a"
            ],
            [
             0.8888888888888888,
             "#fdca26"
            ],
            [
             1,
             "#f0f921"
            ]
           ]
          },
          "colorway": [
           "#636efa",
           "#EF553B",
           "#00cc96",
           "#ab63fa",
           "#FFA15A",
           "#19d3f3",
           "#FF6692",
           "#B6E880",
           "#FF97FF",
           "#FECB52"
          ],
          "font": {
           "color": "#2a3f5f"
          },
          "geo": {
           "bgcolor": "white",
           "lakecolor": "white",
           "landcolor": "#E5ECF6",
           "showlakes": true,
           "showland": true,
           "subunitcolor": "white"
          },
          "hoverlabel": {
           "align": "left"
          },
          "hovermode": "closest",
          "mapbox": {
           "style": "light"
          },
          "paper_bgcolor": "white",
          "plot_bgcolor": "#E5ECF6",
          "polar": {
           "angularaxis": {
            "gridcolor": "white",
            "linecolor": "white",
            "ticks": ""
           },
           "bgcolor": "#E5ECF6",
           "radialaxis": {
            "gridcolor": "white",
            "linecolor": "white",
            "ticks": ""
           }
          },
          "scene": {
           "xaxis": {
            "backgroundcolor": "#E5ECF6",
            "gridcolor": "white",
            "gridwidth": 2,
            "linecolor": "white",
            "showbackground": true,
            "ticks": "",
            "zerolinecolor": "white"
           },
           "yaxis": {
            "backgroundcolor": "#E5ECF6",
            "gridcolor": "white",
            "gridwidth": 2,
            "linecolor": "white",
            "showbackground": true,
            "ticks": "",
            "zerolinecolor": "white"
           },
           "zaxis": {
            "backgroundcolor": "#E5ECF6",
            "gridcolor": "white",
            "gridwidth": 2,
            "linecolor": "white",
            "showbackground": true,
            "ticks": "",
            "zerolinecolor": "white"
           }
          },
          "shapedefaults": {
           "line": {
            "color": "#2a3f5f"
           }
          },
          "ternary": {
           "aaxis": {
            "gridcolor": "white",
            "linecolor": "white",
            "ticks": ""
           },
           "baxis": {
            "gridcolor": "white",
            "linecolor": "white",
            "ticks": ""
           },
           "bgcolor": "#E5ECF6",
           "caxis": {
            "gridcolor": "white",
            "linecolor": "white",
            "ticks": ""
           }
          },
          "title": {
           "x": 0.05
          },
          "xaxis": {
           "automargin": true,
           "gridcolor": "white",
           "linecolor": "white",
           "ticks": "",
           "title": {
            "standoff": 15
           },
           "zerolinecolor": "white",
           "zerolinewidth": 2
          },
          "yaxis": {
           "automargin": true,
           "gridcolor": "white",
           "linecolor": "white",
           "ticks": "",
           "title": {
            "standoff": 15
           },
           "zerolinecolor": "white",
           "zerolinewidth": 2
          }
         }
        },
        "width": 1000,
        "xaxis": {
         "anchor": "y",
         "domain": [
          0,
          1
         ],
         "title": {
          "text": ""
         }
        },
        "yaxis": {
         "anchor": "x",
         "domain": [
          0,
          1
         ],
         "title": {
          "text": "Number of users"
         }
        }
       }
      }
     },
     "metadata": {},
     "output_type": "display_data"
    }
   ],
   "source": [
    "ways_people_analyze_data_scatter "
   ]
  },
  {
   "cell_type": "code",
   "execution_count": 673,
   "metadata": {},
   "outputs": [
    {
     "data": {
      "application/vnd.plotly.v1+json": {
       "config": {
        "plotlyServerURL": "https://plot.ly"
       },
       "data": [
        {
         "mode": "markers",
         "name": "Best practices articles",
         "type": "scatter",
         "x": [
          "Somewhat preferable",
          "Moderately preferable",
          "Very preferable",
          "Not at all preferable"
         ],
         "y": [
          190,
          165,
          89,
          49
         ]
        },
        {
         "mode": "markers",
         "name": "Written tutorial",
         "type": "scatter",
         "x": [
          "Very preferable",
          "Moderately preferable",
          "Somewhat preferable",
          "Not at all preferable"
         ],
         "y": [
          290,
          147,
          53,
          3
         ]
        },
        {
         "mode": "markers",
         "name": "Video tutorial",
         "type": "scatter",
         "x": [
          "Very preferable",
          "Moderately preferable",
          "Somewhat preferable",
          "Not at all preferable"
         ],
         "y": [
          229,
          136,
          96,
          32
         ]
        },
        {
         "mode": "markers",
         "name": "Interactive webinar",
         "type": "scatter",
         "x": [
          "Moderately preferable",
          "Somewhat preferable",
          "Very preferable",
          "Not at all preferable"
         ],
         "y": [
          172,
          166,
          102,
          53
         ]
        },
        {
         "mode": "markers",
         "name": "Office hours",
         "type": "scatter",
         "x": [
          "Very preferable",
          "Somewhat preferable",
          "Moderately preferable",
          "Not at all preferable"
         ],
         "y": [
          192,
          125,
          121,
          55
         ]
        },
        {
         "mode": "markers",
         "name": "One day seminar",
         "type": "scatter",
         "x": [
          "Moderately preferable",
          "Somewhat preferable",
          "Very preferable",
          "Not at all preferable"
         ],
         "y": [
          169,
          148,
          115,
          61
         ]
        },
        {
         "mode": "markers",
         "name": "Multiday workshop",
         "type": "scatter",
         "x": [
          "Somewhat preferable",
          "Moderately preferable",
          "Very preferable",
          "Not at all preferable"
         ],
         "y": [
          183,
          137,
          89,
          84
         ]
        }
       ],
       "layout": {
        "template": {
         "data": {
          "bar": [
           {
            "error_x": {
             "color": "#2a3f5f"
            },
            "error_y": {
             "color": "#2a3f5f"
            },
            "marker": {
             "line": {
              "color": "#E5ECF6",
              "width": 0.5
             },
             "pattern": {
              "fillmode": "overlay",
              "size": 10,
              "solidity": 0.2
             }
            },
            "type": "bar"
           }
          ],
          "barpolar": [
           {
            "marker": {
             "line": {
              "color": "#E5ECF6",
              "width": 0.5
             },
             "pattern": {
              "fillmode": "overlay",
              "size": 10,
              "solidity": 0.2
             }
            },
            "type": "barpolar"
           }
          ],
          "carpet": [
           {
            "aaxis": {
             "endlinecolor": "#2a3f5f",
             "gridcolor": "white",
             "linecolor": "white",
             "minorgridcolor": "white",
             "startlinecolor": "#2a3f5f"
            },
            "baxis": {
             "endlinecolor": "#2a3f5f",
             "gridcolor": "white",
             "linecolor": "white",
             "minorgridcolor": "white",
             "startlinecolor": "#2a3f5f"
            },
            "type": "carpet"
           }
          ],
          "choropleth": [
           {
            "colorbar": {
             "outlinewidth": 0,
             "ticks": ""
            },
            "type": "choropleth"
           }
          ],
          "contour": [
           {
            "colorbar": {
             "outlinewidth": 0,
             "ticks": ""
            },
            "colorscale": [
             [
              0,
              "#0d0887"
             ],
             [
              0.1111111111111111,
              "#46039f"
             ],
             [
              0.2222222222222222,
              "#7201a8"
             ],
             [
              0.3333333333333333,
              "#9c179e"
             ],
             [
              0.4444444444444444,
              "#bd3786"
             ],
             [
              0.5555555555555556,
              "#d8576b"
             ],
             [
              0.6666666666666666,
              "#ed7953"
             ],
             [
              0.7777777777777778,
              "#fb9f3a"
             ],
             [
              0.8888888888888888,
              "#fdca26"
             ],
             [
              1,
              "#f0f921"
             ]
            ],
            "type": "contour"
           }
          ],
          "contourcarpet": [
           {
            "colorbar": {
             "outlinewidth": 0,
             "ticks": ""
            },
            "type": "contourcarpet"
           }
          ],
          "heatmap": [
           {
            "colorbar": {
             "outlinewidth": 0,
             "ticks": ""
            },
            "colorscale": [
             [
              0,
              "#0d0887"
             ],
             [
              0.1111111111111111,
              "#46039f"
             ],
             [
              0.2222222222222222,
              "#7201a8"
             ],
             [
              0.3333333333333333,
              "#9c179e"
             ],
             [
              0.4444444444444444,
              "#bd3786"
             ],
             [
              0.5555555555555556,
              "#d8576b"
             ],
             [
              0.6666666666666666,
              "#ed7953"
             ],
             [
              0.7777777777777778,
              "#fb9f3a"
             ],
             [
              0.8888888888888888,
              "#fdca26"
             ],
             [
              1,
              "#f0f921"
             ]
            ],
            "type": "heatmap"
           }
          ],
          "heatmapgl": [
           {
            "colorbar": {
             "outlinewidth": 0,
             "ticks": ""
            },
            "colorscale": [
             [
              0,
              "#0d0887"
             ],
             [
              0.1111111111111111,
              "#46039f"
             ],
             [
              0.2222222222222222,
              "#7201a8"
             ],
             [
              0.3333333333333333,
              "#9c179e"
             ],
             [
              0.4444444444444444,
              "#bd3786"
             ],
             [
              0.5555555555555556,
              "#d8576b"
             ],
             [
              0.6666666666666666,
              "#ed7953"
             ],
             [
              0.7777777777777778,
              "#fb9f3a"
             ],
             [
              0.8888888888888888,
              "#fdca26"
             ],
             [
              1,
              "#f0f921"
             ]
            ],
            "type": "heatmapgl"
           }
          ],
          "histogram": [
           {
            "marker": {
             "pattern": {
              "fillmode": "overlay",
              "size": 10,
              "solidity": 0.2
             }
            },
            "type": "histogram"
           }
          ],
          "histogram2d": [
           {
            "colorbar": {
             "outlinewidth": 0,
             "ticks": ""
            },
            "colorscale": [
             [
              0,
              "#0d0887"
             ],
             [
              0.1111111111111111,
              "#46039f"
             ],
             [
              0.2222222222222222,
              "#7201a8"
             ],
             [
              0.3333333333333333,
              "#9c179e"
             ],
             [
              0.4444444444444444,
              "#bd3786"
             ],
             [
              0.5555555555555556,
              "#d8576b"
             ],
             [
              0.6666666666666666,
              "#ed7953"
             ],
             [
              0.7777777777777778,
              "#fb9f3a"
             ],
             [
              0.8888888888888888,
              "#fdca26"
             ],
             [
              1,
              "#f0f921"
             ]
            ],
            "type": "histogram2d"
           }
          ],
          "histogram2dcontour": [
           {
            "colorbar": {
             "outlinewidth": 0,
             "ticks": ""
            },
            "colorscale": [
             [
              0,
              "#0d0887"
             ],
             [
              0.1111111111111111,
              "#46039f"
             ],
             [
              0.2222222222222222,
              "#7201a8"
             ],
             [
              0.3333333333333333,
              "#9c179e"
             ],
             [
              0.4444444444444444,
              "#bd3786"
             ],
             [
              0.5555555555555556,
              "#d8576b"
             ],
             [
              0.6666666666666666,
              "#ed7953"
             ],
             [
              0.7777777777777778,
              "#fb9f3a"
             ],
             [
              0.8888888888888888,
              "#fdca26"
             ],
             [
              1,
              "#f0f921"
             ]
            ],
            "type": "histogram2dcontour"
           }
          ],
          "mesh3d": [
           {
            "colorbar": {
             "outlinewidth": 0,
             "ticks": ""
            },
            "type": "mesh3d"
           }
          ],
          "parcoords": [
           {
            "line": {
             "colorbar": {
              "outlinewidth": 0,
              "ticks": ""
             }
            },
            "type": "parcoords"
           }
          ],
          "pie": [
           {
            "automargin": true,
            "type": "pie"
           }
          ],
          "scatter": [
           {
            "fillpattern": {
             "fillmode": "overlay",
             "size": 10,
             "solidity": 0.2
            },
            "type": "scatter"
           }
          ],
          "scatter3d": [
           {
            "line": {
             "colorbar": {
              "outlinewidth": 0,
              "ticks": ""
             }
            },
            "marker": {
             "colorbar": {
              "outlinewidth": 0,
              "ticks": ""
             }
            },
            "type": "scatter3d"
           }
          ],
          "scattercarpet": [
           {
            "marker": {
             "colorbar": {
              "outlinewidth": 0,
              "ticks": ""
             }
            },
            "type": "scattercarpet"
           }
          ],
          "scattergeo": [
           {
            "marker": {
             "colorbar": {
              "outlinewidth": 0,
              "ticks": ""
             }
            },
            "type": "scattergeo"
           }
          ],
          "scattergl": [
           {
            "marker": {
             "colorbar": {
              "outlinewidth": 0,
              "ticks": ""
             }
            },
            "type": "scattergl"
           }
          ],
          "scattermapbox": [
           {
            "marker": {
             "colorbar": {
              "outlinewidth": 0,
              "ticks": ""
             }
            },
            "type": "scattermapbox"
           }
          ],
          "scatterpolar": [
           {
            "marker": {
             "colorbar": {
              "outlinewidth": 0,
              "ticks": ""
             }
            },
            "type": "scatterpolar"
           }
          ],
          "scatterpolargl": [
           {
            "marker": {
             "colorbar": {
              "outlinewidth": 0,
              "ticks": ""
             }
            },
            "type": "scatterpolargl"
           }
          ],
          "scatterternary": [
           {
            "marker": {
             "colorbar": {
              "outlinewidth": 0,
              "ticks": ""
             }
            },
            "type": "scatterternary"
           }
          ],
          "surface": [
           {
            "colorbar": {
             "outlinewidth": 0,
             "ticks": ""
            },
            "colorscale": [
             [
              0,
              "#0d0887"
             ],
             [
              0.1111111111111111,
              "#46039f"
             ],
             [
              0.2222222222222222,
              "#7201a8"
             ],
             [
              0.3333333333333333,
              "#9c179e"
             ],
             [
              0.4444444444444444,
              "#bd3786"
             ],
             [
              0.5555555555555556,
              "#d8576b"
             ],
             [
              0.6666666666666666,
              "#ed7953"
             ],
             [
              0.7777777777777778,
              "#fb9f3a"
             ],
             [
              0.8888888888888888,
              "#fdca26"
             ],
             [
              1,
              "#f0f921"
             ]
            ],
            "type": "surface"
           }
          ],
          "table": [
           {
            "cells": {
             "fill": {
              "color": "#EBF0F8"
             },
             "line": {
              "color": "white"
             }
            },
            "header": {
             "fill": {
              "color": "#C8D4E3"
             },
             "line": {
              "color": "white"
             }
            },
            "type": "table"
           }
          ]
         },
         "layout": {
          "annotationdefaults": {
           "arrowcolor": "#2a3f5f",
           "arrowhead": 0,
           "arrowwidth": 1
          },
          "autotypenumbers": "strict",
          "coloraxis": {
           "colorbar": {
            "outlinewidth": 0,
            "ticks": ""
           }
          },
          "colorscale": {
           "diverging": [
            [
             0,
             "#8e0152"
            ],
            [
             0.1,
             "#c51b7d"
            ],
            [
             0.2,
             "#de77ae"
            ],
            [
             0.3,
             "#f1b6da"
            ],
            [
             0.4,
             "#fde0ef"
            ],
            [
             0.5,
             "#f7f7f7"
            ],
            [
             0.6,
             "#e6f5d0"
            ],
            [
             0.7,
             "#b8e186"
            ],
            [
             0.8,
             "#7fbc41"
            ],
            [
             0.9,
             "#4d9221"
            ],
            [
             1,
             "#276419"
            ]
           ],
           "sequential": [
            [
             0,
             "#0d0887"
            ],
            [
             0.1111111111111111,
             "#46039f"
            ],
            [
             0.2222222222222222,
             "#7201a8"
            ],
            [
             0.3333333333333333,
             "#9c179e"
            ],
            [
             0.4444444444444444,
             "#bd3786"
            ],
            [
             0.5555555555555556,
             "#d8576b"
            ],
            [
             0.6666666666666666,
             "#ed7953"
            ],
            [
             0.7777777777777778,
             "#fb9f3a"
            ],
            [
             0.8888888888888888,
             "#fdca26"
            ],
            [
             1,
             "#f0f921"
            ]
           ],
           "sequentialminus": [
            [
             0,
             "#0d0887"
            ],
            [
             0.1111111111111111,
             "#46039f"
            ],
            [
             0.2222222222222222,
             "#7201a8"
            ],
            [
             0.3333333333333333,
             "#9c179e"
            ],
            [
             0.4444444444444444,
             "#bd3786"
            ],
            [
             0.5555555555555556,
             "#d8576b"
            ],
            [
             0.6666666666666666,
             "#ed7953"
            ],
            [
             0.7777777777777778,
             "#fb9f3a"
            ],
            [
             0.8888888888888888,
             "#fdca26"
            ],
            [
             1,
             "#f0f921"
            ]
           ]
          },
          "colorway": [
           "#636efa",
           "#EF553B",
           "#00cc96",
           "#ab63fa",
           "#FFA15A",
           "#19d3f3",
           "#FF6692",
           "#B6E880",
           "#FF97FF",
           "#FECB52"
          ],
          "font": {
           "color": "#2a3f5f"
          },
          "geo": {
           "bgcolor": "white",
           "lakecolor": "white",
           "landcolor": "#E5ECF6",
           "showlakes": true,
           "showland": true,
           "subunitcolor": "white"
          },
          "hoverlabel": {
           "align": "left"
          },
          "hovermode": "closest",
          "mapbox": {
           "style": "light"
          },
          "paper_bgcolor": "white",
          "plot_bgcolor": "#E5ECF6",
          "polar": {
           "angularaxis": {
            "gridcolor": "white",
            "linecolor": "white",
            "ticks": ""
           },
           "bgcolor": "#E5ECF6",
           "radialaxis": {
            "gridcolor": "white",
            "linecolor": "white",
            "ticks": ""
           }
          },
          "scene": {
           "xaxis": {
            "backgroundcolor": "#E5ECF6",
            "gridcolor": "white",
            "gridwidth": 2,
            "linecolor": "white",
            "showbackground": true,
            "ticks": "",
            "zerolinecolor": "white"
           },
           "yaxis": {
            "backgroundcolor": "#E5ECF6",
            "gridcolor": "white",
            "gridwidth": 2,
            "linecolor": "white",
            "showbackground": true,
            "ticks": "",
            "zerolinecolor": "white"
           },
           "zaxis": {
            "backgroundcolor": "#E5ECF6",
            "gridcolor": "white",
            "gridwidth": 2,
            "linecolor": "white",
            "showbackground": true,
            "ticks": "",
            "zerolinecolor": "white"
           }
          },
          "shapedefaults": {
           "line": {
            "color": "#2a3f5f"
           }
          },
          "ternary": {
           "aaxis": {
            "gridcolor": "white",
            "linecolor": "white",
            "ticks": ""
           },
           "baxis": {
            "gridcolor": "white",
            "linecolor": "white",
            "ticks": ""
           },
           "bgcolor": "#E5ECF6",
           "caxis": {
            "gridcolor": "white",
            "linecolor": "white",
            "ticks": ""
           }
          },
          "title": {
           "x": 0.05
          },
          "xaxis": {
           "automargin": true,
           "gridcolor": "white",
           "linecolor": "white",
           "ticks": "",
           "title": {
            "standoff": 15
           },
           "zerolinecolor": "white",
           "zerolinewidth": 2
          },
          "yaxis": {
           "automargin": true,
           "gridcolor": "white",
           "linecolor": "white",
           "ticks": "",
           "title": {
            "standoff": 15
           },
           "zerolinecolor": "white",
           "zerolinewidth": 2
          }
         }
        },
        "title": {
         "text": "Preferable instructional methods",
         "x": 0.5
        }
       }
      }
     },
     "metadata": {},
     "output_type": "display_data"
    }
   ],
   "source": [
    "#Preferable instructional methods \n",
    "fig = go.Figure(go.Scatter(name='Best practices articles', y=data[\"Preferable instructional methods articles\"].value_counts().values, x=data[\"Preferable instructional methods articles\"].value_counts().index, mode='markers'))\n",
    "fig.add_trace(go.Scatter(name='Written tutorial', y=data[\"Preferable instructional methods written tutorials\"].value_counts().values, x=data[\"Preferable instructional methods written tutorials\"].value_counts().index, mode='markers'))\n",
    "fig.add_trace(go.Scatter(name='Video tutorial', y=data[\"Preferable instructional methods Video tutorial\"].value_counts().values, x=data[\"Preferable instructional methods Video tutorial\"].value_counts().index, mode='markers'))\n",
    "fig.add_trace(go.Scatter(name='Interactive webinar', y=data[\"Preferable instructional methods Interactive webinar\"].value_counts().values, x=data[\"Preferable instructional methods Interactive webinar\"].value_counts().index, mode='markers'))\n",
    "fig.add_trace(go.Scatter(name='Office hours', y=data[\"Preferable instructional methods Office hours\"].value_counts().values, x=data[\"Preferable instructional methods Office hours\"].value_counts().index, mode='markers'))\n",
    "fig.add_trace(go.Scatter(name='One day seminar', y=data[\"Preferable instructional methods Seminar 1day\"].value_counts().values, x=data[\"Preferable instructional methods Seminar 1day\"].value_counts().index, mode='markers'))\n",
    "fig.add_trace(go.Scatter(name='Multiday workshop', y=data[\"Preferable instructional methods Multiday workshop\"].value_counts().values, x=data[\"Preferable instructional methods Multiday workshop\"].value_counts().index, mode='markers'))\n",
    "\n",
    "fig.update_layout(title=\"Preferable instructional methods\", title_x=0.5)"
   ]
  },
  {
   "attachments": {},
   "cell_type": "markdown",
   "metadata": {},
   "source": [
    "Split the preferable methods based on the computational skills\n"
   ]
  },
  {
   "cell_type": "code",
   "execution_count": 977,
   "metadata": {},
   "outputs": [
    {
     "data": {
      "text/plain": [
       "Index(['Preferable instructional methods articles',\n",
       "       'Preferable instructional methods written tutorials',\n",
       "       'Preferable instructional methods Video tutorial',\n",
       "       'Preferable instructional methods Interactive webinar',\n",
       "       'Preferable instructional methods Office hours',\n",
       "       'Preferable instructional methods Seminar 1day',\n",
       "       'Preferable instructional methods Multiday workshop',\n",
       "       'Knowledge of computational skills'],\n",
       "      dtype='object')"
      ]
     },
     "execution_count": 977,
     "metadata": {},
     "output_type": "execute_result"
    }
   ],
   "source": [
    "#comparing the instructional methods with the computational skills \n",
    "mtds_skills_data = data.iloc[:, 10:17]\n",
    "mtds_skills_data = pd.concat([mtds_skills_data, data[\"Knowledge of computational skills\"]], axis=1)\n",
    "mtds_skills_data.columns"
   ]
  },
  {
   "cell_type": "code",
   "execution_count": 982,
   "metadata": {},
   "outputs": [],
   "source": [
    "mtds_skills_data_1=mtds_skills_data.iloc[:,1].value_counts()"
   ]
  },
  {
   "cell_type": "code",
   "execution_count": 983,
   "metadata": {},
   "outputs": [
    {
     "data": {
      "text/plain": [
       "Very preferable          290\n",
       "Moderately preferable    147\n",
       "Somewhat preferable       53\n",
       "Not at all preferable      3\n",
       "Name: Preferable instructional methods written tutorials, dtype: int64"
      ]
     },
     "execution_count": 983,
     "metadata": {},
     "output_type": "execute_result"
    }
   ],
   "source": [
    "mtds_skills_data_1"
   ]
  },
  {
   "cell_type": "code",
   "execution_count": 663,
   "metadata": {},
   "outputs": [],
   "source": [
    "#Interest in various topics\n",
    "\n",
    "interest_df = data.iloc[:,17:24]"
   ]
  },
  {
   "cell_type": "code",
   "execution_count": 664,
   "metadata": {},
   "outputs": [
    {
     "data": {
      "text/plain": [
       "Index(['Interes in topics Image analysis theory',\n",
       "       'Interest in topics Image analysis practices',\n",
       "       'Interest in topics related to sub discipline',\n",
       "       'Interest in topics Specific software tool',\n",
       "       'Interest in topics Deep learning for image analysis',\n",
       "       'Interest in topics Analyzing large images',\n",
       "       'Interest in topics Visualization of results'],\n",
       "      dtype='object')"
      ]
     },
     "execution_count": 664,
     "metadata": {},
     "output_type": "execute_result"
    }
   ],
   "source": [
    "interest_df.columns"
   ]
  },
  {
   "cell_type": "code",
   "execution_count": 684,
   "metadata": {},
   "outputs": [
    {
     "data": {
      "application/vnd.plotly.v1+json": {
       "config": {
        "plotlyServerURL": "https://plot.ly"
       },
       "data": [
        {
         "hoverinfo": "x+y",
         "mode": "lines",
         "stackgroup": "one",
         "type": "scatter",
         "x": [
          "Very interested",
          "Moderately interested",
          "Somewhat interested",
          "Not at all interested"
         ],
         "y": [
          157,
          150,
          147,
          39
         ]
        },
        {
         "hoverinfo": "x+y",
         "mode": "lines",
         "stackgroup": "one",
         "type": "scatter",
         "x": [
          "Very interested",
          "Moderately interested",
          "Somewhat interested",
          "Not at all interested"
         ],
         "y": [
          227,
          188,
          69,
          9
         ]
        }
       ],
       "layout": {
        "template": {
         "data": {
          "bar": [
           {
            "error_x": {
             "color": "#2a3f5f"
            },
            "error_y": {
             "color": "#2a3f5f"
            },
            "marker": {
             "line": {
              "color": "#E5ECF6",
              "width": 0.5
             },
             "pattern": {
              "fillmode": "overlay",
              "size": 10,
              "solidity": 0.2
             }
            },
            "type": "bar"
           }
          ],
          "barpolar": [
           {
            "marker": {
             "line": {
              "color": "#E5ECF6",
              "width": 0.5
             },
             "pattern": {
              "fillmode": "overlay",
              "size": 10,
              "solidity": 0.2
             }
            },
            "type": "barpolar"
           }
          ],
          "carpet": [
           {
            "aaxis": {
             "endlinecolor": "#2a3f5f",
             "gridcolor": "white",
             "linecolor": "white",
             "minorgridcolor": "white",
             "startlinecolor": "#2a3f5f"
            },
            "baxis": {
             "endlinecolor": "#2a3f5f",
             "gridcolor": "white",
             "linecolor": "white",
             "minorgridcolor": "white",
             "startlinecolor": "#2a3f5f"
            },
            "type": "carpet"
           }
          ],
          "choropleth": [
           {
            "colorbar": {
             "outlinewidth": 0,
             "ticks": ""
            },
            "type": "choropleth"
           }
          ],
          "contour": [
           {
            "colorbar": {
             "outlinewidth": 0,
             "ticks": ""
            },
            "colorscale": [
             [
              0,
              "#0d0887"
             ],
             [
              0.1111111111111111,
              "#46039f"
             ],
             [
              0.2222222222222222,
              "#7201a8"
             ],
             [
              0.3333333333333333,
              "#9c179e"
             ],
             [
              0.4444444444444444,
              "#bd3786"
             ],
             [
              0.5555555555555556,
              "#d8576b"
             ],
             [
              0.6666666666666666,
              "#ed7953"
             ],
             [
              0.7777777777777778,
              "#fb9f3a"
             ],
             [
              0.8888888888888888,
              "#fdca26"
             ],
             [
              1,
              "#f0f921"
             ]
            ],
            "type": "contour"
           }
          ],
          "contourcarpet": [
           {
            "colorbar": {
             "outlinewidth": 0,
             "ticks": ""
            },
            "type": "contourcarpet"
           }
          ],
          "heatmap": [
           {
            "colorbar": {
             "outlinewidth": 0,
             "ticks": ""
            },
            "colorscale": [
             [
              0,
              "#0d0887"
             ],
             [
              0.1111111111111111,
              "#46039f"
             ],
             [
              0.2222222222222222,
              "#7201a8"
             ],
             [
              0.3333333333333333,
              "#9c179e"
             ],
             [
              0.4444444444444444,
              "#bd3786"
             ],
             [
              0.5555555555555556,
              "#d8576b"
             ],
             [
              0.6666666666666666,
              "#ed7953"
             ],
             [
              0.7777777777777778,
              "#fb9f3a"
             ],
             [
              0.8888888888888888,
              "#fdca26"
             ],
             [
              1,
              "#f0f921"
             ]
            ],
            "type": "heatmap"
           }
          ],
          "heatmapgl": [
           {
            "colorbar": {
             "outlinewidth": 0,
             "ticks": ""
            },
            "colorscale": [
             [
              0,
              "#0d0887"
             ],
             [
              0.1111111111111111,
              "#46039f"
             ],
             [
              0.2222222222222222,
              "#7201a8"
             ],
             [
              0.3333333333333333,
              "#9c179e"
             ],
             [
              0.4444444444444444,
              "#bd3786"
             ],
             [
              0.5555555555555556,
              "#d8576b"
             ],
             [
              0.6666666666666666,
              "#ed7953"
             ],
             [
              0.7777777777777778,
              "#fb9f3a"
             ],
             [
              0.8888888888888888,
              "#fdca26"
             ],
             [
              1,
              "#f0f921"
             ]
            ],
            "type": "heatmapgl"
           }
          ],
          "histogram": [
           {
            "marker": {
             "pattern": {
              "fillmode": "overlay",
              "size": 10,
              "solidity": 0.2
             }
            },
            "type": "histogram"
           }
          ],
          "histogram2d": [
           {
            "colorbar": {
             "outlinewidth": 0,
             "ticks": ""
            },
            "colorscale": [
             [
              0,
              "#0d0887"
             ],
             [
              0.1111111111111111,
              "#46039f"
             ],
             [
              0.2222222222222222,
              "#7201a8"
             ],
             [
              0.3333333333333333,
              "#9c179e"
             ],
             [
              0.4444444444444444,
              "#bd3786"
             ],
             [
              0.5555555555555556,
              "#d8576b"
             ],
             [
              0.6666666666666666,
              "#ed7953"
             ],
             [
              0.7777777777777778,
              "#fb9f3a"
             ],
             [
              0.8888888888888888,
              "#fdca26"
             ],
             [
              1,
              "#f0f921"
             ]
            ],
            "type": "histogram2d"
           }
          ],
          "histogram2dcontour": [
           {
            "colorbar": {
             "outlinewidth": 0,
             "ticks": ""
            },
            "colorscale": [
             [
              0,
              "#0d0887"
             ],
             [
              0.1111111111111111,
              "#46039f"
             ],
             [
              0.2222222222222222,
              "#7201a8"
             ],
             [
              0.3333333333333333,
              "#9c179e"
             ],
             [
              0.4444444444444444,
              "#bd3786"
             ],
             [
              0.5555555555555556,
              "#d8576b"
             ],
             [
              0.6666666666666666,
              "#ed7953"
             ],
             [
              0.7777777777777778,
              "#fb9f3a"
             ],
             [
              0.8888888888888888,
              "#fdca26"
             ],
             [
              1,
              "#f0f921"
             ]
            ],
            "type": "histogram2dcontour"
           }
          ],
          "mesh3d": [
           {
            "colorbar": {
             "outlinewidth": 0,
             "ticks": ""
            },
            "type": "mesh3d"
           }
          ],
          "parcoords": [
           {
            "line": {
             "colorbar": {
              "outlinewidth": 0,
              "ticks": ""
             }
            },
            "type": "parcoords"
           }
          ],
          "pie": [
           {
            "automargin": true,
            "type": "pie"
           }
          ],
          "scatter": [
           {
            "fillpattern": {
             "fillmode": "overlay",
             "size": 10,
             "solidity": 0.2
            },
            "type": "scatter"
           }
          ],
          "scatter3d": [
           {
            "line": {
             "colorbar": {
              "outlinewidth": 0,
              "ticks": ""
             }
            },
            "marker": {
             "colorbar": {
              "outlinewidth": 0,
              "ticks": ""
             }
            },
            "type": "scatter3d"
           }
          ],
          "scattercarpet": [
           {
            "marker": {
             "colorbar": {
              "outlinewidth": 0,
              "ticks": ""
             }
            },
            "type": "scattercarpet"
           }
          ],
          "scattergeo": [
           {
            "marker": {
             "colorbar": {
              "outlinewidth": 0,
              "ticks": ""
             }
            },
            "type": "scattergeo"
           }
          ],
          "scattergl": [
           {
            "marker": {
             "colorbar": {
              "outlinewidth": 0,
              "ticks": ""
             }
            },
            "type": "scattergl"
           }
          ],
          "scattermapbox": [
           {
            "marker": {
             "colorbar": {
              "outlinewidth": 0,
              "ticks": ""
             }
            },
            "type": "scattermapbox"
           }
          ],
          "scatterpolar": [
           {
            "marker": {
             "colorbar": {
              "outlinewidth": 0,
              "ticks": ""
             }
            },
            "type": "scatterpolar"
           }
          ],
          "scatterpolargl": [
           {
            "marker": {
             "colorbar": {
              "outlinewidth": 0,
              "ticks": ""
             }
            },
            "type": "scatterpolargl"
           }
          ],
          "scatterternary": [
           {
            "marker": {
             "colorbar": {
              "outlinewidth": 0,
              "ticks": ""
             }
            },
            "type": "scatterternary"
           }
          ],
          "surface": [
           {
            "colorbar": {
             "outlinewidth": 0,
             "ticks": ""
            },
            "colorscale": [
             [
              0,
              "#0d0887"
             ],
             [
              0.1111111111111111,
              "#46039f"
             ],
             [
              0.2222222222222222,
              "#7201a8"
             ],
             [
              0.3333333333333333,
              "#9c179e"
             ],
             [
              0.4444444444444444,
              "#bd3786"
             ],
             [
              0.5555555555555556,
              "#d8576b"
             ],
             [
              0.6666666666666666,
              "#ed7953"
             ],
             [
              0.7777777777777778,
              "#fb9f3a"
             ],
             [
              0.8888888888888888,
              "#fdca26"
             ],
             [
              1,
              "#f0f921"
             ]
            ],
            "type": "surface"
           }
          ],
          "table": [
           {
            "cells": {
             "fill": {
              "color": "#EBF0F8"
             },
             "line": {
              "color": "white"
             }
            },
            "header": {
             "fill": {
              "color": "#C8D4E3"
             },
             "line": {
              "color": "white"
             }
            },
            "type": "table"
           }
          ]
         },
         "layout": {
          "annotationdefaults": {
           "arrowcolor": "#2a3f5f",
           "arrowhead": 0,
           "arrowwidth": 1
          },
          "autotypenumbers": "strict",
          "coloraxis": {
           "colorbar": {
            "outlinewidth": 0,
            "ticks": ""
           }
          },
          "colorscale": {
           "diverging": [
            [
             0,
             "#8e0152"
            ],
            [
             0.1,
             "#c51b7d"
            ],
            [
             0.2,
             "#de77ae"
            ],
            [
             0.3,
             "#f1b6da"
            ],
            [
             0.4,
             "#fde0ef"
            ],
            [
             0.5,
             "#f7f7f7"
            ],
            [
             0.6,
             "#e6f5d0"
            ],
            [
             0.7,
             "#b8e186"
            ],
            [
             0.8,
             "#7fbc41"
            ],
            [
             0.9,
             "#4d9221"
            ],
            [
             1,
             "#276419"
            ]
           ],
           "sequential": [
            [
             0,
             "#0d0887"
            ],
            [
             0.1111111111111111,
             "#46039f"
            ],
            [
             0.2222222222222222,
             "#7201a8"
            ],
            [
             0.3333333333333333,
             "#9c179e"
            ],
            [
             0.4444444444444444,
             "#bd3786"
            ],
            [
             0.5555555555555556,
             "#d8576b"
            ],
            [
             0.6666666666666666,
             "#ed7953"
            ],
            [
             0.7777777777777778,
             "#fb9f3a"
            ],
            [
             0.8888888888888888,
             "#fdca26"
            ],
            [
             1,
             "#f0f921"
            ]
           ],
           "sequentialminus": [
            [
             0,
             "#0d0887"
            ],
            [
             0.1111111111111111,
             "#46039f"
            ],
            [
             0.2222222222222222,
             "#7201a8"
            ],
            [
             0.3333333333333333,
             "#9c179e"
            ],
            [
             0.4444444444444444,
             "#bd3786"
            ],
            [
             0.5555555555555556,
             "#d8576b"
            ],
            [
             0.6666666666666666,
             "#ed7953"
            ],
            [
             0.7777777777777778,
             "#fb9f3a"
            ],
            [
             0.8888888888888888,
             "#fdca26"
            ],
            [
             1,
             "#f0f921"
            ]
           ]
          },
          "colorway": [
           "#636efa",
           "#EF553B",
           "#00cc96",
           "#ab63fa",
           "#FFA15A",
           "#19d3f3",
           "#FF6692",
           "#B6E880",
           "#FF97FF",
           "#FECB52"
          ],
          "font": {
           "color": "#2a3f5f"
          },
          "geo": {
           "bgcolor": "white",
           "lakecolor": "white",
           "landcolor": "#E5ECF6",
           "showlakes": true,
           "showland": true,
           "subunitcolor": "white"
          },
          "hoverlabel": {
           "align": "left"
          },
          "hovermode": "closest",
          "mapbox": {
           "style": "light"
          },
          "paper_bgcolor": "white",
          "plot_bgcolor": "#E5ECF6",
          "polar": {
           "angularaxis": {
            "gridcolor": "white",
            "linecolor": "white",
            "ticks": ""
           },
           "bgcolor": "#E5ECF6",
           "radialaxis": {
            "gridcolor": "white",
            "linecolor": "white",
            "ticks": ""
           }
          },
          "scene": {
           "xaxis": {
            "backgroundcolor": "#E5ECF6",
            "gridcolor": "white",
            "gridwidth": 2,
            "linecolor": "white",
            "showbackground": true,
            "ticks": "",
            "zerolinecolor": "white"
           },
           "yaxis": {
            "backgroundcolor": "#E5ECF6",
            "gridcolor": "white",
            "gridwidth": 2,
            "linecolor": "white",
            "showbackground": true,
            "ticks": "",
            "zerolinecolor": "white"
           },
           "zaxis": {
            "backgroundcolor": "#E5ECF6",
            "gridcolor": "white",
            "gridwidth": 2,
            "linecolor": "white",
            "showbackground": true,
            "ticks": "",
            "zerolinecolor": "white"
           }
          },
          "shapedefaults": {
           "line": {
            "color": "#2a3f5f"
           }
          },
          "ternary": {
           "aaxis": {
            "gridcolor": "white",
            "linecolor": "white",
            "ticks": ""
           },
           "baxis": {
            "gridcolor": "white",
            "linecolor": "white",
            "ticks": ""
           },
           "bgcolor": "#E5ECF6",
           "caxis": {
            "gridcolor": "white",
            "linecolor": "white",
            "ticks": ""
           }
          },
          "title": {
           "x": 0.05
          },
          "xaxis": {
           "automargin": true,
           "gridcolor": "white",
           "linecolor": "white",
           "ticks": "",
           "title": {
            "standoff": 15
           },
           "zerolinecolor": "white",
           "zerolinewidth": 2
          },
          "yaxis": {
           "automargin": true,
           "gridcolor": "white",
           "linecolor": "white",
           "ticks": "",
           "title": {
            "standoff": 15
           },
           "zerolinecolor": "white",
           "zerolinewidth": 2
          }
         }
        }
       }
      }
     },
     "metadata": {},
     "output_type": "display_data"
    }
   ],
   "source": [
    "interest_area_chart = go.Figure()\n",
    "\n",
    "interest_area_chart.add_trace(go.Scatter(\n",
    "    x=interest_df[\"Interes in topics Image analysis theory\"].value_counts().index, y=interest_df[\"Interes in topics Image analysis theory\"].value_counts().values,\n",
    "    mode='lines',\n",
    "    stackgroup='one',\n",
    "    hoverinfo='x+y'\n",
    "    ))\n",
    "\n",
    "interest_area_chart.add_trace(go.Scatter(\n",
    "    x=interest_df[\"Interest in topics Image analysis practices\"].value_counts().index, y=interest_df[\"Interest in topics Image analysis practices\"].value_counts().values,\n",
    "    mode='lines',\n",
    "    stackgroup='one',\n",
    "    hoverinfo='x+y'\n",
    "    ))"
   ]
  },
  {
   "cell_type": "code",
   "execution_count": 708,
   "metadata": {},
   "outputs": [],
   "source": [
    "trial_radar = data[\"Interes in topics Image analysis theory\"].value_counts().to_frame()"
   ]
  },
  {
   "cell_type": "code",
   "execution_count": 709,
   "metadata": {},
   "outputs": [
    {
     "data": {
      "text/html": [
       "<div>\n",
       "<style scoped>\n",
       "    .dataframe tbody tr th:only-of-type {\n",
       "        vertical-align: middle;\n",
       "    }\n",
       "\n",
       "    .dataframe tbody tr th {\n",
       "        vertical-align: top;\n",
       "    }\n",
       "\n",
       "    .dataframe thead th {\n",
       "        text-align: right;\n",
       "    }\n",
       "</style>\n",
       "<table border=\"1\" class=\"dataframe\">\n",
       "  <thead>\n",
       "    <tr style=\"text-align: right;\">\n",
       "      <th></th>\n",
       "      <th>Interes in topics Image analysis theory</th>\n",
       "    </tr>\n",
       "  </thead>\n",
       "  <tbody>\n",
       "    <tr>\n",
       "      <th>Very interested</th>\n",
       "      <td>157</td>\n",
       "    </tr>\n",
       "    <tr>\n",
       "      <th>Moderately interested</th>\n",
       "      <td>150</td>\n",
       "    </tr>\n",
       "    <tr>\n",
       "      <th>Somewhat interested</th>\n",
       "      <td>147</td>\n",
       "    </tr>\n",
       "    <tr>\n",
       "      <th>Not at all interested</th>\n",
       "      <td>39</td>\n",
       "    </tr>\n",
       "  </tbody>\n",
       "</table>\n",
       "</div>"
      ],
      "text/plain": [
       "                       Interes in topics Image analysis theory\n",
       "Very interested                                            157\n",
       "Moderately interested                                      150\n",
       "Somewhat interested                                        147\n",
       "Not at all interested                                       39"
      ]
     },
     "execution_count": 709,
     "metadata": {},
     "output_type": "execute_result"
    }
   ],
   "source": [
    "trial_radar"
   ]
  },
  {
   "cell_type": "code",
   "execution_count": 711,
   "metadata": {},
   "outputs": [],
   "source": [
    "trial_radar_1=data[\"Interest in topics Image analysis practices\"].value_counts().to_frame()"
   ]
  },
  {
   "cell_type": "code",
   "execution_count": 712,
   "metadata": {},
   "outputs": [
    {
     "data": {
      "text/html": [
       "<div>\n",
       "<style scoped>\n",
       "    .dataframe tbody tr th:only-of-type {\n",
       "        vertical-align: middle;\n",
       "    }\n",
       "\n",
       "    .dataframe tbody tr th {\n",
       "        vertical-align: top;\n",
       "    }\n",
       "\n",
       "    .dataframe thead th {\n",
       "        text-align: right;\n",
       "    }\n",
       "</style>\n",
       "<table border=\"1\" class=\"dataframe\">\n",
       "  <thead>\n",
       "    <tr style=\"text-align: right;\">\n",
       "      <th></th>\n",
       "      <th>Interest in topics Image analysis practices</th>\n",
       "    </tr>\n",
       "  </thead>\n",
       "  <tbody>\n",
       "    <tr>\n",
       "      <th>Very interested</th>\n",
       "      <td>227</td>\n",
       "    </tr>\n",
       "    <tr>\n",
       "      <th>Moderately interested</th>\n",
       "      <td>188</td>\n",
       "    </tr>\n",
       "    <tr>\n",
       "      <th>Somewhat interested</th>\n",
       "      <td>69</td>\n",
       "    </tr>\n",
       "    <tr>\n",
       "      <th>Not at all interested</th>\n",
       "      <td>9</td>\n",
       "    </tr>\n",
       "  </tbody>\n",
       "</table>\n",
       "</div>"
      ],
      "text/plain": [
       "                       Interest in topics Image analysis practices\n",
       "Very interested                                                227\n",
       "Moderately interested                                          188\n",
       "Somewhat interested                                             69\n",
       "Not at all interested                                            9"
      ]
     },
     "execution_count": 712,
     "metadata": {},
     "output_type": "execute_result"
    }
   ],
   "source": [
    "trial_radar_1"
   ]
  },
  {
   "cell_type": "code",
   "execution_count": 719,
   "metadata": {},
   "outputs": [
    {
     "data": {
      "text/html": [
       "<div>\n",
       "<style scoped>\n",
       "    .dataframe tbody tr th:only-of-type {\n",
       "        vertical-align: middle;\n",
       "    }\n",
       "\n",
       "    .dataframe tbody tr th {\n",
       "        vertical-align: top;\n",
       "    }\n",
       "\n",
       "    .dataframe thead th {\n",
       "        text-align: right;\n",
       "    }\n",
       "</style>\n",
       "<table border=\"1\" class=\"dataframe\">\n",
       "  <thead>\n",
       "    <tr style=\"text-align: right;\">\n",
       "      <th></th>\n",
       "      <th>Interest in topics related to sub discipline</th>\n",
       "    </tr>\n",
       "  </thead>\n",
       "  <tbody>\n",
       "    <tr>\n",
       "      <th>Very interested</th>\n",
       "      <td>341</td>\n",
       "    </tr>\n",
       "    <tr>\n",
       "      <th>Moderately interested</th>\n",
       "      <td>109</td>\n",
       "    </tr>\n",
       "    <tr>\n",
       "      <th>Somewhat interested</th>\n",
       "      <td>36</td>\n",
       "    </tr>\n",
       "    <tr>\n",
       "      <th>Not at all interested</th>\n",
       "      <td>7</td>\n",
       "    </tr>\n",
       "  </tbody>\n",
       "</table>\n",
       "</div>"
      ],
      "text/plain": [
       "                       Interest in topics related to sub discipline\n",
       "Very interested                                                 341\n",
       "Moderately interested                                           109\n",
       "Somewhat interested                                              36\n",
       "Not at all interested                                             7"
      ]
     },
     "execution_count": 719,
     "metadata": {},
     "output_type": "execute_result"
    }
   ],
   "source": [
    "trial_radar_2=data[\"Interest in topics related to sub discipline\"].value_counts().to_frame()\n",
    "trial_radar_2"
   ]
  },
  {
   "cell_type": "code",
   "execution_count": 729,
   "metadata": {},
   "outputs": [
    {
     "data": {
      "text/html": [
       "<div>\n",
       "<style scoped>\n",
       "    .dataframe tbody tr th:only-of-type {\n",
       "        vertical-align: middle;\n",
       "    }\n",
       "\n",
       "    .dataframe tbody tr th {\n",
       "        vertical-align: top;\n",
       "    }\n",
       "\n",
       "    .dataframe thead th {\n",
       "        text-align: right;\n",
       "    }\n",
       "</style>\n",
       "<table border=\"1\" class=\"dataframe\">\n",
       "  <thead>\n",
       "    <tr style=\"text-align: right;\">\n",
       "      <th></th>\n",
       "      <th>Interest in topics Specific software tool</th>\n",
       "    </tr>\n",
       "  </thead>\n",
       "  <tbody>\n",
       "    <tr>\n",
       "      <th>Very interested</th>\n",
       "      <td>223</td>\n",
       "    </tr>\n",
       "    <tr>\n",
       "      <th>Moderately interested</th>\n",
       "      <td>171</td>\n",
       "    </tr>\n",
       "    <tr>\n",
       "      <th>Somewhat interested</th>\n",
       "      <td>82</td>\n",
       "    </tr>\n",
       "    <tr>\n",
       "      <th>Not at all interested</th>\n",
       "      <td>17</td>\n",
       "    </tr>\n",
       "  </tbody>\n",
       "</table>\n",
       "</div>"
      ],
      "text/plain": [
       "                       Interest in topics Specific software tool\n",
       "Very interested                                              223\n",
       "Moderately interested                                        171\n",
       "Somewhat interested                                           82\n",
       "Not at all interested                                         17"
      ]
     },
     "execution_count": 729,
     "metadata": {},
     "output_type": "execute_result"
    }
   ],
   "source": [
    "trial_radar_3"
   ]
  },
  {
   "cell_type": "code",
   "execution_count": 731,
   "metadata": {},
   "outputs": [
    {
     "data": {
      "text/html": [
       "<div>\n",
       "<style scoped>\n",
       "    .dataframe tbody tr th:only-of-type {\n",
       "        vertical-align: middle;\n",
       "    }\n",
       "\n",
       "    .dataframe tbody tr th {\n",
       "        vertical-align: top;\n",
       "    }\n",
       "\n",
       "    .dataframe thead th {\n",
       "        text-align: right;\n",
       "    }\n",
       "</style>\n",
       "<table border=\"1\" class=\"dataframe\">\n",
       "  <thead>\n",
       "    <tr style=\"text-align: right;\">\n",
       "      <th></th>\n",
       "      <th>Interest in topics Deep learning for image analysis</th>\n",
       "    </tr>\n",
       "  </thead>\n",
       "  <tbody>\n",
       "    <tr>\n",
       "      <th>Very interested</th>\n",
       "      <td>207</td>\n",
       "    </tr>\n",
       "    <tr>\n",
       "      <th>Moderately interested</th>\n",
       "      <td>143</td>\n",
       "    </tr>\n",
       "    <tr>\n",
       "      <th>Somewhat interested</th>\n",
       "      <td>114</td>\n",
       "    </tr>\n",
       "    <tr>\n",
       "      <th>Not at all interested</th>\n",
       "      <td>29</td>\n",
       "    </tr>\n",
       "  </tbody>\n",
       "</table>\n",
       "</div>"
      ],
      "text/plain": [
       "                       Interest in topics Deep learning for image analysis\n",
       "Very interested                                                      207  \n",
       "Moderately interested                                                143  \n",
       "Somewhat interested                                                  114  \n",
       "Not at all interested                                                 29  "
      ]
     },
     "execution_count": 731,
     "metadata": {},
     "output_type": "execute_result"
    }
   ],
   "source": [
    "trial_radar_4"
   ]
  },
  {
   "cell_type": "code",
   "execution_count": 732,
   "metadata": {},
   "outputs": [
    {
     "data": {
      "text/html": [
       "<div>\n",
       "<style scoped>\n",
       "    .dataframe tbody tr th:only-of-type {\n",
       "        vertical-align: middle;\n",
       "    }\n",
       "\n",
       "    .dataframe tbody tr th {\n",
       "        vertical-align: top;\n",
       "    }\n",
       "\n",
       "    .dataframe thead th {\n",
       "        text-align: right;\n",
       "    }\n",
       "</style>\n",
       "<table border=\"1\" class=\"dataframe\">\n",
       "  <thead>\n",
       "    <tr style=\"text-align: right;\">\n",
       "      <th></th>\n",
       "      <th>Interest in topics Visualization of results</th>\n",
       "    </tr>\n",
       "  </thead>\n",
       "  <tbody>\n",
       "    <tr>\n",
       "      <th>Very interested</th>\n",
       "      <td>281</td>\n",
       "    </tr>\n",
       "    <tr>\n",
       "      <th>Moderately interested</th>\n",
       "      <td>154</td>\n",
       "    </tr>\n",
       "    <tr>\n",
       "      <th>Somewhat interested</th>\n",
       "      <td>51</td>\n",
       "    </tr>\n",
       "    <tr>\n",
       "      <th>Not at all interested</th>\n",
       "      <td>7</td>\n",
       "    </tr>\n",
       "  </tbody>\n",
       "</table>\n",
       "</div>"
      ],
      "text/plain": [
       "                       Interest in topics Visualization of results\n",
       "Very interested                                                281\n",
       "Moderately interested                                          154\n",
       "Somewhat interested                                             51\n",
       "Not at all interested                                            7"
      ]
     },
     "execution_count": 732,
     "metadata": {},
     "output_type": "execute_result"
    }
   ],
   "source": [
    "trial_radar_5"
   ]
  },
  {
   "cell_type": "code",
   "execution_count": 722,
   "metadata": {},
   "outputs": [],
   "source": [
    "trial_radar_3=data[\"Interest in topics Specific software tool\"].value_counts().to_frame()\n",
    "trial_radar_4=data[\"Interest in topics Deep learning for image analysis\"].value_counts().to_frame()\n",
    "trial_radar_5=data[\"Interest in topics Analyzing large images\"].value_counts().to_frame()\n",
    "trial_radar_5=data[\"Interest in topics Visualization of results\"].value_counts().to_frame()"
   ]
  },
  {
   "cell_type": "code",
   "execution_count": 749,
   "metadata": {},
   "outputs": [],
   "source": [
    "trial = pd.concat([trial_radar, trial_radar_1, trial_radar_2, trial_radar_3, trial_radar_4, trial_radar_5], axis=1)"
   ]
  },
  {
   "cell_type": "code",
   "execution_count": 750,
   "metadata": {},
   "outputs": [
    {
     "data": {
      "text/html": [
       "<div>\n",
       "<style scoped>\n",
       "    .dataframe tbody tr th:only-of-type {\n",
       "        vertical-align: middle;\n",
       "    }\n",
       "\n",
       "    .dataframe tbody tr th {\n",
       "        vertical-align: top;\n",
       "    }\n",
       "\n",
       "    .dataframe thead th {\n",
       "        text-align: right;\n",
       "    }\n",
       "</style>\n",
       "<table border=\"1\" class=\"dataframe\">\n",
       "  <thead>\n",
       "    <tr style=\"text-align: right;\">\n",
       "      <th></th>\n",
       "      <th>Interes in topics Image analysis theory</th>\n",
       "      <th>Interest in topics Image analysis practices</th>\n",
       "      <th>Interest in topics related to sub discipline</th>\n",
       "      <th>Interest in topics Specific software tool</th>\n",
       "      <th>Interest in topics Deep learning for image analysis</th>\n",
       "      <th>Interest in topics Visualization of results</th>\n",
       "    </tr>\n",
       "  </thead>\n",
       "  <tbody>\n",
       "    <tr>\n",
       "      <th>Very interested</th>\n",
       "      <td>157</td>\n",
       "      <td>227</td>\n",
       "      <td>341</td>\n",
       "      <td>223</td>\n",
       "      <td>207</td>\n",
       "      <td>281</td>\n",
       "    </tr>\n",
       "    <tr>\n",
       "      <th>Moderately interested</th>\n",
       "      <td>150</td>\n",
       "      <td>188</td>\n",
       "      <td>109</td>\n",
       "      <td>171</td>\n",
       "      <td>143</td>\n",
       "      <td>154</td>\n",
       "    </tr>\n",
       "    <tr>\n",
       "      <th>Somewhat interested</th>\n",
       "      <td>147</td>\n",
       "      <td>69</td>\n",
       "      <td>36</td>\n",
       "      <td>82</td>\n",
       "      <td>114</td>\n",
       "      <td>51</td>\n",
       "    </tr>\n",
       "    <tr>\n",
       "      <th>Not at all interested</th>\n",
       "      <td>39</td>\n",
       "      <td>9</td>\n",
       "      <td>7</td>\n",
       "      <td>17</td>\n",
       "      <td>29</td>\n",
       "      <td>7</td>\n",
       "    </tr>\n",
       "  </tbody>\n",
       "</table>\n",
       "</div>"
      ],
      "text/plain": [
       "                       Interes in topics Image analysis theory  \\\n",
       "Very interested                                            157   \n",
       "Moderately interested                                      150   \n",
       "Somewhat interested                                        147   \n",
       "Not at all interested                                       39   \n",
       "\n",
       "                       Interest in topics Image analysis practices  \\\n",
       "Very interested                                                227   \n",
       "Moderately interested                                          188   \n",
       "Somewhat interested                                             69   \n",
       "Not at all interested                                            9   \n",
       "\n",
       "                       Interest in topics related to sub discipline  \\\n",
       "Very interested                                                 341   \n",
       "Moderately interested                                           109   \n",
       "Somewhat interested                                              36   \n",
       "Not at all interested                                             7   \n",
       "\n",
       "                       Interest in topics Specific software tool  \\\n",
       "Very interested                                              223   \n",
       "Moderately interested                                        171   \n",
       "Somewhat interested                                           82   \n",
       "Not at all interested                                         17   \n",
       "\n",
       "                       Interest in topics Deep learning for image analysis  \\\n",
       "Very interested                                                      207     \n",
       "Moderately interested                                                143     \n",
       "Somewhat interested                                                  114     \n",
       "Not at all interested                                                 29     \n",
       "\n",
       "                       Interest in topics Visualization of results  \n",
       "Very interested                                                281  \n",
       "Moderately interested                                          154  \n",
       "Somewhat interested                                             51  \n",
       "Not at all interested                                            7  "
      ]
     },
     "execution_count": 750,
     "metadata": {},
     "output_type": "execute_result"
    }
   ],
   "source": [
    "trial"
   ]
  },
  {
   "cell_type": "code",
   "execution_count": 751,
   "metadata": {},
   "outputs": [],
   "source": [
    "trial =trial.reset_index()"
   ]
  },
  {
   "cell_type": "code",
   "execution_count": 752,
   "metadata": {},
   "outputs": [
    {
     "data": {
      "text/html": [
       "<div>\n",
       "<style scoped>\n",
       "    .dataframe tbody tr th:only-of-type {\n",
       "        vertical-align: middle;\n",
       "    }\n",
       "\n",
       "    .dataframe tbody tr th {\n",
       "        vertical-align: top;\n",
       "    }\n",
       "\n",
       "    .dataframe thead th {\n",
       "        text-align: right;\n",
       "    }\n",
       "</style>\n",
       "<table border=\"1\" class=\"dataframe\">\n",
       "  <thead>\n",
       "    <tr style=\"text-align: right;\">\n",
       "      <th></th>\n",
       "      <th>index</th>\n",
       "      <th>Interes in topics Image analysis theory</th>\n",
       "      <th>Interest in topics Image analysis practices</th>\n",
       "      <th>Interest in topics related to sub discipline</th>\n",
       "      <th>Interest in topics Specific software tool</th>\n",
       "      <th>Interest in topics Deep learning for image analysis</th>\n",
       "      <th>Interest in topics Visualization of results</th>\n",
       "    </tr>\n",
       "  </thead>\n",
       "  <tbody>\n",
       "    <tr>\n",
       "      <th>0</th>\n",
       "      <td>Very interested</td>\n",
       "      <td>157</td>\n",
       "      <td>227</td>\n",
       "      <td>341</td>\n",
       "      <td>223</td>\n",
       "      <td>207</td>\n",
       "      <td>281</td>\n",
       "    </tr>\n",
       "    <tr>\n",
       "      <th>1</th>\n",
       "      <td>Moderately interested</td>\n",
       "      <td>150</td>\n",
       "      <td>188</td>\n",
       "      <td>109</td>\n",
       "      <td>171</td>\n",
       "      <td>143</td>\n",
       "      <td>154</td>\n",
       "    </tr>\n",
       "    <tr>\n",
       "      <th>2</th>\n",
       "      <td>Somewhat interested</td>\n",
       "      <td>147</td>\n",
       "      <td>69</td>\n",
       "      <td>36</td>\n",
       "      <td>82</td>\n",
       "      <td>114</td>\n",
       "      <td>51</td>\n",
       "    </tr>\n",
       "    <tr>\n",
       "      <th>3</th>\n",
       "      <td>Not at all interested</td>\n",
       "      <td>39</td>\n",
       "      <td>9</td>\n",
       "      <td>7</td>\n",
       "      <td>17</td>\n",
       "      <td>29</td>\n",
       "      <td>7</td>\n",
       "    </tr>\n",
       "  </tbody>\n",
       "</table>\n",
       "</div>"
      ],
      "text/plain": [
       "                   index  Interes in topics Image analysis theory  \\\n",
       "0        Very interested                                      157   \n",
       "1  Moderately interested                                      150   \n",
       "2    Somewhat interested                                      147   \n",
       "3  Not at all interested                                       39   \n",
       "\n",
       "   Interest in topics Image analysis practices  \\\n",
       "0                                          227   \n",
       "1                                          188   \n",
       "2                                           69   \n",
       "3                                            9   \n",
       "\n",
       "   Interest in topics related to sub discipline  \\\n",
       "0                                           341   \n",
       "1                                           109   \n",
       "2                                            36   \n",
       "3                                             7   \n",
       "\n",
       "   Interest in topics Specific software tool  \\\n",
       "0                                        223   \n",
       "1                                        171   \n",
       "2                                         82   \n",
       "3                                         17   \n",
       "\n",
       "   Interest in topics Deep learning for image analysis  \\\n",
       "0                                                207     \n",
       "1                                                143     \n",
       "2                                                114     \n",
       "3                                                 29     \n",
       "\n",
       "   Interest in topics Visualization of results  \n",
       "0                                          281  \n",
       "1                                          154  \n",
       "2                                           51  \n",
       "3                                            7  "
      ]
     },
     "execution_count": 752,
     "metadata": {},
     "output_type": "execute_result"
    }
   ],
   "source": [
    "trial"
   ]
  },
  {
   "cell_type": "code",
   "execution_count": 759,
   "metadata": {},
   "outputs": [],
   "source": [
    "trial = trial.rename(columns={'index':'interest'})"
   ]
  },
  {
   "cell_type": "code",
   "execution_count": 806,
   "metadata": {},
   "outputs": [
    {
     "data": {
      "text/html": [
       "<div>\n",
       "<style scoped>\n",
       "    .dataframe tbody tr th:only-of-type {\n",
       "        vertical-align: middle;\n",
       "    }\n",
       "\n",
       "    .dataframe tbody tr th {\n",
       "        vertical-align: top;\n",
       "    }\n",
       "\n",
       "    .dataframe thead th {\n",
       "        text-align: right;\n",
       "    }\n",
       "</style>\n",
       "<table border=\"1\" class=\"dataframe\">\n",
       "  <thead>\n",
       "    <tr style=\"text-align: right;\">\n",
       "      <th></th>\n",
       "      <th>interest</th>\n",
       "      <th>Interes in topics Image analysis theory</th>\n",
       "      <th>Interest in topics Image analysis practices</th>\n",
       "      <th>Interest in topics related to sub discipline</th>\n",
       "      <th>Interest in topics Specific software tool</th>\n",
       "      <th>Interest in topics Deep learning for image analysis</th>\n",
       "      <th>Interest in topics Visualization of results</th>\n",
       "    </tr>\n",
       "  </thead>\n",
       "  <tbody>\n",
       "    <tr>\n",
       "      <th>0</th>\n",
       "      <td>Very interested</td>\n",
       "      <td>157</td>\n",
       "      <td>227</td>\n",
       "      <td>341</td>\n",
       "      <td>223</td>\n",
       "      <td>207</td>\n",
       "      <td>281</td>\n",
       "    </tr>\n",
       "    <tr>\n",
       "      <th>1</th>\n",
       "      <td>Moderately interested</td>\n",
       "      <td>150</td>\n",
       "      <td>188</td>\n",
       "      <td>109</td>\n",
       "      <td>171</td>\n",
       "      <td>143</td>\n",
       "      <td>154</td>\n",
       "    </tr>\n",
       "    <tr>\n",
       "      <th>2</th>\n",
       "      <td>Somewhat interested</td>\n",
       "      <td>147</td>\n",
       "      <td>69</td>\n",
       "      <td>36</td>\n",
       "      <td>82</td>\n",
       "      <td>114</td>\n",
       "      <td>51</td>\n",
       "    </tr>\n",
       "    <tr>\n",
       "      <th>3</th>\n",
       "      <td>Not at all interested</td>\n",
       "      <td>39</td>\n",
       "      <td>9</td>\n",
       "      <td>7</td>\n",
       "      <td>17</td>\n",
       "      <td>29</td>\n",
       "      <td>7</td>\n",
       "    </tr>\n",
       "  </tbody>\n",
       "</table>\n",
       "</div>"
      ],
      "text/plain": [
       "                interest  Interes in topics Image analysis theory  \\\n",
       "0        Very interested                                      157   \n",
       "1  Moderately interested                                      150   \n",
       "2    Somewhat interested                                      147   \n",
       "3  Not at all interested                                       39   \n",
       "\n",
       "   Interest in topics Image analysis practices  \\\n",
       "0                                          227   \n",
       "1                                          188   \n",
       "2                                           69   \n",
       "3                                            9   \n",
       "\n",
       "   Interest in topics related to sub discipline  \\\n",
       "0                                           341   \n",
       "1                                           109   \n",
       "2                                            36   \n",
       "3                                             7   \n",
       "\n",
       "   Interest in topics Specific software tool  \\\n",
       "0                                        223   \n",
       "1                                        171   \n",
       "2                                         82   \n",
       "3                                         17   \n",
       "\n",
       "   Interest in topics Deep learning for image analysis  \\\n",
       "0                                                207     \n",
       "1                                                143     \n",
       "2                                                114     \n",
       "3                                                 29     \n",
       "\n",
       "   Interest in topics Visualization of results  \n",
       "0                                          281  \n",
       "1                                          154  \n",
       "2                                           51  \n",
       "3                                            7  "
      ]
     },
     "execution_count": 806,
     "metadata": {},
     "output_type": "execute_result"
    }
   ],
   "source": [
    "trial"
   ]
  },
  {
   "cell_type": "code",
   "execution_count": 805,
   "metadata": {},
   "outputs": [],
   "source": [
    "# showing the interests through waffles:)\n",
    "from pywaffle import Waffle"
   ]
  },
  {
   "cell_type": "code",
   "execution_count": 808,
   "metadata": {},
   "outputs": [],
   "source": [
    "plot_labels = [f'{i} ({str(j)} %)' for i,j in zip(trial['interest'],trial['Interes in topics Image analysis theory'])]"
   ]
  },
  {
   "cell_type": "code",
   "execution_count": 854,
   "metadata": {},
   "outputs": [],
   "source": [
    "colours = ['slateblue', 'limegreen', 'red', 'grey']"
   ]
  },
  {
   "cell_type": "code",
   "execution_count": 855,
   "metadata": {},
   "outputs": [
    {
     "data": {
      "image/png": "[encoded data removed]",
      "text/plain": [
       "<Waffle size 1000x1000 with 6 Axes>"
      ]
     },
     "metadata": {},
     "output_type": "display_data"
    }
   ],
   "source": [
    "fig = plt.figure(FigureClass=Waffle, \n",
    "                 plots = {611: {'values':list(trial['Interes in topics Image analysis theory']),\n",
    "                               'labels': [f'{i} ({str(j)} %)' for i,j in zip(trial['interest'],trial['Interes in topics Image analysis theory'])],\n",
    "                               'legend':{'loc':'center left', 'bbox_to_anchor': (1.0, 0.5), \n",
    "                                          'ncol':1, 'fontsize':12},\n",
    "                                'title':{'label':'Image analysis theory', 'fontsize':14},\n",
    "                                'icons':'circle'\n",
    "                               },\n",
    "                               \n",
    "                          612: {\n",
    "                              'values':list(trial['Interest in topics Image analysis practices']),\n",
    "                              'labels': [f'{i} ({str(j)} %)' for i,j in zip(trial['interest'],trial['Interest in topics Image analysis practices'])],\n",
    "                                        \n",
    "                              'legend':{'loc':'center left', 'bbox_to_anchor': (1.0, 0.5), \n",
    "                                          'ncol':1, 'fontsize':12},\n",
    "                              'title':{'label':'Image analysis practices', 'fontsize':14},\n",
    "                              'icons':'circle'\n",
    "                          },\n",
    "\n",
    "                          613:{'values':list(trial['Interest in topics related to sub discipline']),\n",
    "                               'labels': [f'{i} ({str(j)} %)' for i,j in zip(trial['interest'],trial['Interest in topics related to sub discipline'])],\n",
    "                               'legend':{'loc':'center left', 'bbox_to_anchor': (1.0, 0.5), \n",
    "                                          'ncol':1, 'fontsize':12},\n",
    "                                'title':{'label':'Topics related to sub discipline', 'fontsize':14},\n",
    "                                'icons':'circle'\n",
    "\n",
    "                          },\n",
    "\n",
    "                          614:{'values':list(trial['Interest in topics Specific software tool']),\n",
    "                               'labels': [f'{i} ({str(j)} %)' for i,j in zip(trial['interest'],trial['Interest in topics Specific software tool'])],\n",
    "                               'legend':{'loc':'center left', 'bbox_to_anchor': (1.0, 0.5), \n",
    "                                          'ncol':1, 'fontsize':12},\n",
    "                                'title':{'label':'Specific software tool', 'fontsize':14},\n",
    "                                'icons':'circle'\n",
    "\n",
    "                          },\n",
    "\n",
    "                          615:{'values':list(trial['Interest in topics Deep learning for image analysis']),\n",
    "                               'labels': [f'{i} ({str(j)} %)' for i,j in zip(trial['interest'],trial['Interest in topics Deep learning for image analysis'])],\n",
    "                               'legend':{'loc':'center left', 'bbox_to_anchor': (1.0, 0.5), \n",
    "                                          'ncol':1, 'fontsize':12},\n",
    "                                'title':{'label':'Deep learning for image analysis', 'fontsize':14},\n",
    "                                'icons':'circle'\n",
    "                          },\n",
    "\n",
    "                          616:{'values':list(trial['Interest in topics Visualization of results']),\n",
    "                               'labels': [f'{i} ({str(j)} %)' for i,j in zip(trial['interest'],trial['Interest in topics Visualization of results'])],\n",
    "                               'legend':{'loc':'center left', 'bbox_to_anchor': (1.0, 0.5), \n",
    "                                          'ncol':1, 'fontsize':12},\n",
    "                                'title':{'label':' Visualization of results', 'fontsize':14},\n",
    "                                'icons':'circle'\n",
    "\n",
    "                          }\n",
    "                         },\n",
    "                 figsize=(10,10), \n",
    "                 rows=5, \n",
    "                 columns = 20, \n",
    "                 colors=colours)\n",
    "                 \n",
    "plt.tight_layout()\n",
    "plt.show()"
   ]
  },
  {
   "cell_type": "code",
   "execution_count": 849,
   "metadata": {},
   "outputs": [
    {
     "data": {
      "text/plain": [
       "0      Physical Sciences\n",
       "1          Life Sciences\n",
       "2          Life Sciences\n",
       "3          Life Sciences\n",
       "4      Physical Sciences\n",
       "             ...        \n",
       "489        Life Sciences\n",
       "490        Life Sciences\n",
       "491        Life Sciences\n",
       "492        Life Sciences\n",
       "493        Life Sciences\n",
       "Name: Microscopy for life sciences physical sciences, Length: 494, dtype: object"
      ]
     },
     "execution_count": 849,
     "metadata": {},
     "output_type": "execute_result"
    }
   ],
   "source": [
    "life_physical_data"
   ]
  },
  {
   "cell_type": "code",
   "execution_count": 850,
   "metadata": {},
   "outputs": [],
   "source": [
    "data[\"life_physical\"] =life_physical_data.str.contains(\"Life\", case=False)"
   ]
  },
  {
   "cell_type": "code",
   "execution_count": 852,
   "metadata": {},
   "outputs": [
    {
     "data": {
      "text/plain": [
       "True     459\n",
       "False     35\n",
       "Name: life_physical, dtype: int64"
      ]
     },
     "execution_count": 852,
     "metadata": {},
     "output_type": "execute_result"
    }
   ],
   "source": [
    "life_physical_chart = data[\"life_physical\"].value_counts()"
   ]
  },
  {
   "cell_type": "code",
   "execution_count": 887,
   "metadata": {},
   "outputs": [
    {
     "data": {
      "text/plain": [
       "0      Physical Sciences\n",
       "1          Life Sciences\n",
       "2          Life Sciences\n",
       "3          Life Sciences\n",
       "4      Physical Sciences\n",
       "             ...        \n",
       "489        Life Sciences\n",
       "490        Life Sciences\n",
       "491        Life Sciences\n",
       "492        Life Sciences\n",
       "493        Life Sciences\n",
       "Name: Microscopy for life sciences physical sciences, Length: 494, dtype: object"
      ]
     },
     "execution_count": 887,
     "metadata": {},
     "output_type": "execute_result"
    }
   ],
   "source": [
    "data.iloc[:,24]"
   ]
  },
  {
   "cell_type": "code",
   "execution_count": 862,
   "metadata": {},
   "outputs": [],
   "source": [
    "#What image analysis tools have you used before?\n",
    "\n",
    "#Commonly used image analysis tools\n",
    "data['Commonly used image analysis tools'] = data['Commonly used image analysis tools'].astype(str)\n",
    "data[\"Commercial software with the microscope\"] = data['Commonly used image analysis tools'].apply(lambda x: True if 'Columbus' in x else False)\n",
    "data[\"Other commercial software\"] = data['Commonly used image analysis tools'].apply(lambda x: True if 'Imaris' in x else False)\n",
    "data[\"Open source point-and-click software\"] = data[\"Commonly used image analysis tools\"].apply(lambda x: True if 'FIJI' in x else False)\n",
    "data[\"Computational libraries and scripts\"] = data[\"Commonly used image analysis tools\"].apply(lambda x: True if 'MATLAB' in x else False)\n",
    "data[\"Tools_none\"] = data[\"Commonly used image analysis tools\"].apply(lambda x: True if 'None' in x else False)"
   ]
  },
  {
   "cell_type": "code",
   "execution_count": 878,
   "metadata": {},
   "outputs": [
    {
     "ename": "KeyError",
     "evalue": "'Usgae of image anlysis tools'",
     "output_type": "error",
     "traceback": [
      "\u001b[1;31m---------------------------------------------------------------------------\u001b[0m",
      "\u001b[1;31mKeyError\u001b[0m                                  Traceback (most recent call last)",
      "\u001b[1;32mc:\\Users\\ssivagur\\Anaconda3\\lib\\site-packages\\pandas\\core\\indexes\\base.py\u001b[0m in \u001b[0;36mget_loc\u001b[1;34m(self, key, method, tolerance)\u001b[0m\n\u001b[0;32m   3628\u001b[0m             \u001b[1;32mtry\u001b[0m\u001b[1;33m:\u001b[0m\u001b[1;33m\u001b[0m\u001b[1;33m\u001b[0m\u001b[0m\n\u001b[1;32m-> 3629\u001b[1;33m                 \u001b[1;32mreturn\u001b[0m \u001b[0mself\u001b[0m\u001b[1;33m.\u001b[0m\u001b[0m_engine\u001b[0m\u001b[1;33m.\u001b[0m\u001b[0mget_loc\u001b[0m\u001b[1;33m(\u001b[0m\u001b[0mcasted_key\u001b[0m\u001b[1;33m)\u001b[0m\u001b[1;33m\u001b[0m\u001b[1;33m\u001b[0m\u001b[0m\n\u001b[0m\u001b[0;32m   3630\u001b[0m             \u001b[1;32mexcept\u001b[0m \u001b[0mKeyError\u001b[0m \u001b[1;32mas\u001b[0m \u001b[0merr\u001b[0m\u001b[1;33m:\u001b[0m\u001b[1;33m\u001b[0m\u001b[1;33m\u001b[0m\u001b[0m\n",
      "\u001b[1;32mc:\\Users\\ssivagur\\Anaconda3\\lib\\site-packages\\pandas\\_libs\\index.pyx\u001b[0m in \u001b[0;36mpandas._libs.index.IndexEngine.get_loc\u001b[1;34m()\u001b[0m\n",
      "\u001b[1;32mc:\\Users\\ssivagur\\Anaconda3\\lib\\site-packages\\pandas\\_libs\\index.pyx\u001b[0m in \u001b[0;36mpandas._libs.index.IndexEngine.get_loc\u001b[1;34m()\u001b[0m\n",
      "\u001b[1;32mpandas\\_libs\\hashtable_class_helper.pxi\u001b[0m in \u001b[0;36mpandas._libs.hashtable.PyObjectHashTable.get_item\u001b[1;34m()\u001b[0m\n",
      "\u001b[1;32mpandas\\_libs\\hashtable_class_helper.pxi\u001b[0m in \u001b[0;36mpandas._libs.hashtable.PyObjectHashTable.get_item\u001b[1;34m()\u001b[0m\n",
      "\u001b[1;31mKeyError\u001b[0m: 'Usgae of image anlysis tools'",
      "\nThe above exception was the direct cause of the following exception:\n",
      "\u001b[1;31mKeyError\u001b[0m                                  Traceback (most recent call last)",
      "\u001b[1;32m~\\AppData\\Local\\Temp\\ipykernel_3868\\4178882774.py\u001b[0m in \u001b[0;36m<module>\u001b[1;34m\u001b[0m\n\u001b[1;32m----> 1\u001b[1;33m \u001b[0mdata\u001b[0m\u001b[1;33m[\u001b[0m\u001b[1;34m\"Usgae of image anlysis tools\"\u001b[0m\u001b[1;33m]\u001b[0m\u001b[1;33m\u001b[0m\u001b[1;33m\u001b[0m\u001b[0m\n\u001b[0m",
      "\u001b[1;32mc:\\Users\\ssivagur\\Anaconda3\\lib\\site-packages\\pandas\\core\\frame.py\u001b[0m in \u001b[0;36m__getitem__\u001b[1;34m(self, key)\u001b[0m\n\u001b[0;32m   3503\u001b[0m             \u001b[1;32mif\u001b[0m \u001b[0mself\u001b[0m\u001b[1;33m.\u001b[0m\u001b[0mcolumns\u001b[0m\u001b[1;33m.\u001b[0m\u001b[0mnlevels\u001b[0m \u001b[1;33m>\u001b[0m \u001b[1;36m1\u001b[0m\u001b[1;33m:\u001b[0m\u001b[1;33m\u001b[0m\u001b[1;33m\u001b[0m\u001b[0m\n\u001b[0;32m   3504\u001b[0m                 \u001b[1;32mreturn\u001b[0m \u001b[0mself\u001b[0m\u001b[1;33m.\u001b[0m\u001b[0m_getitem_multilevel\u001b[0m\u001b[1;33m(\u001b[0m\u001b[0mkey\u001b[0m\u001b[1;33m)\u001b[0m\u001b[1;33m\u001b[0m\u001b[1;33m\u001b[0m\u001b[0m\n\u001b[1;32m-> 3505\u001b[1;33m             \u001b[0mindexer\u001b[0m \u001b[1;33m=\u001b[0m \u001b[0mself\u001b[0m\u001b[1;33m.\u001b[0m\u001b[0mcolumns\u001b[0m\u001b[1;33m.\u001b[0m\u001b[0mget_loc\u001b[0m\u001b[1;33m(\u001b[0m\u001b[0mkey\u001b[0m\u001b[1;33m)\u001b[0m\u001b[1;33m\u001b[0m\u001b[1;33m\u001b[0m\u001b[0m\n\u001b[0m\u001b[0;32m   3506\u001b[0m             \u001b[1;32mif\u001b[0m \u001b[0mis_integer\u001b[0m\u001b[1;33m(\u001b[0m\u001b[0mindexer\u001b[0m\u001b[1;33m)\u001b[0m\u001b[1;33m:\u001b[0m\u001b[1;33m\u001b[0m\u001b[1;33m\u001b[0m\u001b[0m\n\u001b[0;32m   3507\u001b[0m                 \u001b[0mindexer\u001b[0m \u001b[1;33m=\u001b[0m \u001b[1;33m[\u001b[0m\u001b[0mindexer\u001b[0m\u001b[1;33m]\u001b[0m\u001b[1;33m\u001b[0m\u001b[1;33m\u001b[0m\u001b[0m\n",
      "\u001b[1;32mc:\\Users\\ssivagur\\Anaconda3\\lib\\site-packages\\pandas\\core\\indexes\\base.py\u001b[0m in \u001b[0;36mget_loc\u001b[1;34m(self, key, method, tolerance)\u001b[0m\n\u001b[0;32m   3629\u001b[0m                 \u001b[1;32mreturn\u001b[0m \u001b[0mself\u001b[0m\u001b[1;33m.\u001b[0m\u001b[0m_engine\u001b[0m\u001b[1;33m.\u001b[0m\u001b[0mget_loc\u001b[0m\u001b[1;33m(\u001b[0m\u001b[0mcasted_key\u001b[0m\u001b[1;33m)\u001b[0m\u001b[1;33m\u001b[0m\u001b[1;33m\u001b[0m\u001b[0m\n\u001b[0;32m   3630\u001b[0m             \u001b[1;32mexcept\u001b[0m \u001b[0mKeyError\u001b[0m \u001b[1;32mas\u001b[0m \u001b[0merr\u001b[0m\u001b[1;33m:\u001b[0m\u001b[1;33m\u001b[0m\u001b[1;33m\u001b[0m\u001b[0m\n\u001b[1;32m-> 3631\u001b[1;33m                 \u001b[1;32mraise\u001b[0m \u001b[0mKeyError\u001b[0m\u001b[1;33m(\u001b[0m\u001b[0mkey\u001b[0m\u001b[1;33m)\u001b[0m \u001b[1;32mfrom\u001b[0m \u001b[0merr\u001b[0m\u001b[1;33m\u001b[0m\u001b[1;33m\u001b[0m\u001b[0m\n\u001b[0m\u001b[0;32m   3632\u001b[0m             \u001b[1;32mexcept\u001b[0m \u001b[0mTypeError\u001b[0m\u001b[1;33m:\u001b[0m\u001b[1;33m\u001b[0m\u001b[1;33m\u001b[0m\u001b[0m\n\u001b[0;32m   3633\u001b[0m                 \u001b[1;31m# If we have a listlike key, _check_indexing_error will raise\u001b[0m\u001b[1;33m\u001b[0m\u001b[1;33m\u001b[0m\u001b[0m\n",
      "\u001b[1;31mKeyError\u001b[0m: 'Usgae of image anlysis tools'"
     ]
    }
   ],
   "source": [
    "data[\"Usgae of image anlysis tools\"]"
   ]
  },
  {
   "cell_type": "code",
   "execution_count": 864,
   "metadata": {},
   "outputs": [
    {
     "data": {
      "text/plain": [
       "307"
      ]
     },
     "execution_count": 864,
     "metadata": {},
     "output_type": "execute_result"
    }
   ],
   "source": [
    "data[\"Commercial software with the microscope\"].sum()"
   ]
  },
  {
   "cell_type": "code",
   "execution_count": 877,
   "metadata": {},
   "outputs": [
    {
     "data": {
      "application/vnd.plotly.v1+json": {
       "config": {
        "plotlyServerURL": "https://plot.ly"
       },
       "data": [
        {
         "hovertemplate": "x=%{x}<br>y=%{y}<br>size=%{marker.size}<br>color=%{marker.color}<extra></extra>",
         "legendgroup": "",
         "marker": {
          "color": [
           307,
           251,
           451,
           236,
           1
          ],
          "coloraxis": "coloraxis",
          "size": [
           307,
           251,
           451,
           236,
           1
          ],
          "sizemode": "area",
          "sizeref": 0.05567901234567901,
          "symbol": "circle"
         },
         "mode": "markers",
         "name": "",
         "orientation": "v",
         "showlegend": false,
         "textposition": "top center",
         "type": "scatter",
         "x": [
          "Commercial software with the microscope",
          "Other commercial software",
          "Open source point-and-click software",
          "Computational libraries and scripts",
          "Tools_none"
         ],
         "xaxis": "x",
         "y": [
          307,
          251,
          451,
          236,
          1
         ],
         "yaxis": "y"
        }
       ],
       "layout": {
        "coloraxis": {
         "colorbar": {
          "title": {
           "text": "color"
          }
         },
         "colorscale": [
          [
           0,
           "#0d0887"
          ],
          [
           0.1111111111111111,
           "#46039f"
          ],
          [
           0.2222222222222222,
           "#7201a8"
          ],
          [
           0.3333333333333333,
           "#9c179e"
          ],
          [
           0.4444444444444444,
           "#bd3786"
          ],
          [
           0.5555555555555556,
           "#d8576b"
          ],
          [
           0.6666666666666666,
           "#ed7953"
          ],
          [
           0.7777777777777778,
           "#fb9f3a"
          ],
          [
           0.8888888888888888,
           "#fdca26"
          ],
          [
           1,
           "#f0f921"
          ]
         ]
        },
        "height": 320,
        "legend": {
         "itemsizing": "constant",
         "tracegroupgap": 0
        },
        "margin": {
         "b": 0,
         "l": 0,
         "r": 0,
         "t": 50
        },
        "paper_bgcolor": "white",
        "plot_bgcolor": "white",
        "showlegend": true,
        "template": {
         "data": {
          "bar": [
           {
            "error_x": {
             "color": "#2a3f5f"
            },
            "error_y": {
             "color": "#2a3f5f"
            },
            "marker": {
             "line": {
              "color": "#E5ECF6",
              "width": 0.5
             },
             "pattern": {
              "fillmode": "overlay",
              "size": 10,
              "solidity": 0.2
             }
            },
            "type": "bar"
           }
          ],
          "barpolar": [
           {
            "marker": {
             "line": {
              "color": "#E5ECF6",
              "width": 0.5
             },
             "pattern": {
              "fillmode": "overlay",
              "size": 10,
              "solidity": 0.2
             }
            },
            "type": "barpolar"
           }
          ],
          "carpet": [
           {
            "aaxis": {
             "endlinecolor": "#2a3f5f",
             "gridcolor": "white",
             "linecolor": "white",
             "minorgridcolor": "white",
             "startlinecolor": "#2a3f5f"
            },
            "baxis": {
             "endlinecolor": "#2a3f5f",
             "gridcolor": "white",
             "linecolor": "white",
             "minorgridcolor": "white",
             "startlinecolor": "#2a3f5f"
            },
            "type": "carpet"
           }
          ],
          "choropleth": [
           {
            "colorbar": {
             "outlinewidth": 0,
             "ticks": ""
            },
            "type": "choropleth"
           }
          ],
          "contour": [
           {
            "colorbar": {
             "outlinewidth": 0,
             "ticks": ""
            },
            "colorscale": [
             [
              0,
              "#0d0887"
             ],
             [
              0.1111111111111111,
              "#46039f"
             ],
             [
              0.2222222222222222,
              "#7201a8"
             ],
             [
              0.3333333333333333,
              "#9c179e"
             ],
             [
              0.4444444444444444,
              "#bd3786"
             ],
             [
              0.5555555555555556,
              "#d8576b"
             ],
             [
              0.6666666666666666,
              "#ed7953"
             ],
             [
              0.7777777777777778,
              "#fb9f3a"
             ],
             [
              0.8888888888888888,
              "#fdca26"
             ],
             [
              1,
              "#f0f921"
             ]
            ],
            "type": "contour"
           }
          ],
          "contourcarpet": [
           {
            "colorbar": {
             "outlinewidth": 0,
             "ticks": ""
            },
            "type": "contourcarpet"
           }
          ],
          "heatmap": [
           {
            "colorbar": {
             "outlinewidth": 0,
             "ticks": ""
            },
            "colorscale": [
             [
              0,
              "#0d0887"
             ],
             [
              0.1111111111111111,
              "#46039f"
             ],
             [
              0.2222222222222222,
              "#7201a8"
             ],
             [
              0.3333333333333333,
              "#9c179e"
             ],
             [
              0.4444444444444444,
              "#bd3786"
             ],
             [
              0.5555555555555556,
              "#d8576b"
             ],
             [
              0.6666666666666666,
              "#ed7953"
             ],
             [
              0.7777777777777778,
              "#fb9f3a"
             ],
             [
              0.8888888888888888,
              "#fdca26"
             ],
             [
              1,
              "#f0f921"
             ]
            ],
            "type": "heatmap"
           }
          ],
          "heatmapgl": [
           {
            "colorbar": {
             "outlinewidth": 0,
             "ticks": ""
            },
            "colorscale": [
             [
              0,
              "#0d0887"
             ],
             [
              0.1111111111111111,
              "#46039f"
             ],
             [
              0.2222222222222222,
              "#7201a8"
             ],
             [
              0.3333333333333333,
              "#9c179e"
             ],
             [
              0.4444444444444444,
              "#bd3786"
             ],
             [
              0.5555555555555556,
              "#d8576b"
             ],
             [
              0.6666666666666666,
              "#ed7953"
             ],
             [
              0.7777777777777778,
              "#fb9f3a"
             ],
             [
              0.8888888888888888,
              "#fdca26"
             ],
             [
              1,
              "#f0f921"
             ]
            ],
            "type": "heatmapgl"
           }
          ],
          "histogram": [
           {
            "marker": {
             "pattern": {
              "fillmode": "overlay",
              "size": 10,
              "solidity": 0.2
             }
            },
            "type": "histogram"
           }
          ],
          "histogram2d": [
           {
            "colorbar": {
             "outlinewidth": 0,
             "ticks": ""
            },
            "colorscale": [
             [
              0,
              "#0d0887"
             ],
             [
              0.1111111111111111,
              "#46039f"
             ],
             [
              0.2222222222222222,
              "#7201a8"
             ],
             [
              0.3333333333333333,
              "#9c179e"
             ],
             [
              0.4444444444444444,
              "#bd3786"
             ],
             [
              0.5555555555555556,
              "#d8576b"
             ],
             [
              0.6666666666666666,
              "#ed7953"
             ],
             [
              0.7777777777777778,
              "#fb9f3a"
             ],
             [
              0.8888888888888888,
              "#fdca26"
             ],
             [
              1,
              "#f0f921"
             ]
            ],
            "type": "histogram2d"
           }
          ],
          "histogram2dcontour": [
           {
            "colorbar": {
             "outlinewidth": 0,
             "ticks": ""
            },
            "colorscale": [
             [
              0,
              "#0d0887"
             ],
             [
              0.1111111111111111,
              "#46039f"
             ],
             [
              0.2222222222222222,
              "#7201a8"
             ],
             [
              0.3333333333333333,
              "#9c179e"
             ],
             [
              0.4444444444444444,
              "#bd3786"
             ],
             [
              0.5555555555555556,
              "#d8576b"
             ],
             [
              0.6666666666666666,
              "#ed7953"
             ],
             [
              0.7777777777777778,
              "#fb9f3a"
             ],
             [
              0.8888888888888888,
              "#fdca26"
             ],
             [
              1,
              "#f0f921"
             ]
            ],
            "type": "histogram2dcontour"
           }
          ],
          "mesh3d": [
           {
            "colorbar": {
             "outlinewidth": 0,
             "ticks": ""
            },
            "type": "mesh3d"
           }
          ],
          "parcoords": [
           {
            "line": {
             "colorbar": {
              "outlinewidth": 0,
              "ticks": ""
             }
            },
            "type": "parcoords"
           }
          ],
          "pie": [
           {
            "automargin": true,
            "type": "pie"
           }
          ],
          "scatter": [
           {
            "fillpattern": {
             "fillmode": "overlay",
             "size": 10,
             "solidity": 0.2
            },
            "type": "scatter"
           }
          ],
          "scatter3d": [
           {
            "line": {
             "colorbar": {
              "outlinewidth": 0,
              "ticks": ""
             }
            },
            "marker": {
             "colorbar": {
              "outlinewidth": 0,
              "ticks": ""
             }
            },
            "type": "scatter3d"
           }
          ],
          "scattercarpet": [
           {
            "marker": {
             "colorbar": {
              "outlinewidth": 0,
              "ticks": ""
             }
            },
            "type": "scattercarpet"
           }
          ],
          "scattergeo": [
           {
            "marker": {
             "colorbar": {
              "outlinewidth": 0,
              "ticks": ""
             }
            },
            "type": "scattergeo"
           }
          ],
          "scattergl": [
           {
            "marker": {
             "colorbar": {
              "outlinewidth": 0,
              "ticks": ""
             }
            },
            "type": "scattergl"
           }
          ],
          "scattermapbox": [
           {
            "marker": {
             "colorbar": {
              "outlinewidth": 0,
              "ticks": ""
             }
            },
            "type": "scattermapbox"
           }
          ],
          "scatterpolar": [
           {
            "marker": {
             "colorbar": {
              "outlinewidth": 0,
              "ticks": ""
             }
            },
            "type": "scatterpolar"
           }
          ],
          "scatterpolargl": [
           {
            "marker": {
             "colorbar": {
              "outlinewidth": 0,
              "ticks": ""
             }
            },
            "type": "scatterpolargl"
           }
          ],
          "scatterternary": [
           {
            "marker": {
             "colorbar": {
              "outlinewidth": 0,
              "ticks": ""
             }
            },
            "type": "scatterternary"
           }
          ],
          "surface": [
           {
            "colorbar": {
             "outlinewidth": 0,
             "ticks": ""
            },
            "colorscale": [
             [
              0,
              "#0d0887"
             ],
             [
              0.1111111111111111,
              "#46039f"
             ],
             [
              0.2222222222222222,
              "#7201a8"
             ],
             [
              0.3333333333333333,
              "#9c179e"
             ],
             [
              0.4444444444444444,
              "#bd3786"
             ],
             [
              0.5555555555555556,
              "#d8576b"
             ],
             [
              0.6666666666666666,
              "#ed7953"
             ],
             [
              0.7777777777777778,
              "#fb9f3a"
             ],
             [
              0.8888888888888888,
              "#fdca26"
             ],
             [
              1,
              "#f0f921"
             ]
            ],
            "type": "surface"
           }
          ],
          "table": [
           {
            "cells": {
             "fill": {
              "color": "#EBF0F8"
             },
             "line": {
              "color": "white"
             }
            },
            "header": {
             "fill": {
              "color": "#C8D4E3"
             },
             "line": {
              "color": "white"
             }
            },
            "type": "table"
           }
          ]
         },
         "layout": {
          "annotationdefaults": {
           "arrowcolor": "#2a3f5f",
           "arrowhead": 0,
           "arrowwidth": 1
          },
          "autotypenumbers": "strict",
          "coloraxis": {
           "colorbar": {
            "outlinewidth": 0,
            "ticks": ""
           }
          },
          "colorscale": {
           "diverging": [
            [
             0,
             "#8e0152"
            ],
            [
             0.1,
             "#c51b7d"
            ],
            [
             0.2,
             "#de77ae"
            ],
            [
             0.3,
             "#f1b6da"
            ],
            [
             0.4,
             "#fde0ef"
            ],
            [
             0.5,
             "#f7f7f7"
            ],
            [
             0.6,
             "#e6f5d0"
            ],
            [
             0.7,
             "#b8e186"
            ],
            [
             0.8,
             "#7fbc41"
            ],
            [
             0.9,
             "#4d9221"
            ],
            [
             1,
             "#276419"
            ]
           ],
           "sequential": [
            [
             0,
             "#0d0887"
            ],
            [
             0.1111111111111111,
             "#46039f"
            ],
            [
             0.2222222222222222,
             "#7201a8"
            ],
            [
             0.3333333333333333,
             "#9c179e"
            ],
            [
             0.4444444444444444,
             "#bd3786"
            ],
            [
             0.5555555555555556,
             "#d8576b"
            ],
            [
             0.6666666666666666,
             "#ed7953"
            ],
            [
             0.7777777777777778,
             "#fb9f3a"
            ],
            [
             0.8888888888888888,
             "#fdca26"
            ],
            [
             1,
             "#f0f921"
            ]
           ],
           "sequentialminus": [
            [
             0,
             "#0d0887"
            ],
            [
             0.1111111111111111,
             "#46039f"
            ],
            [
             0.2222222222222222,
             "#7201a8"
            ],
            [
             0.3333333333333333,
             "#9c179e"
            ],
            [
             0.4444444444444444,
             "#bd3786"
            ],
            [
             0.5555555555555556,
             "#d8576b"
            ],
            [
             0.6666666666666666,
             "#ed7953"
            ],
            [
             0.7777777777777778,
             "#fb9f3a"
            ],
            [
             0.8888888888888888,
             "#fdca26"
            ],
            [
             1,
             "#f0f921"
            ]
           ]
          },
          "colorway": [
           "#636efa",
           "#EF553B",
           "#00cc96",
           "#ab63fa",
           "#FFA15A",
           "#19d3f3",
           "#FF6692",
           "#B6E880",
           "#FF97FF",
           "#FECB52"
          ],
          "font": {
           "color": "#2a3f5f"
          },
          "geo": {
           "bgcolor": "white",
           "lakecolor": "white",
           "landcolor": "#E5ECF6",
           "showlakes": true,
           "showland": true,
           "subunitcolor": "white"
          },
          "hoverlabel": {
           "align": "left"
          },
          "hovermode": "closest",
          "mapbox": {
           "style": "light"
          },
          "paper_bgcolor": "white",
          "plot_bgcolor": "#E5ECF6",
          "polar": {
           "angularaxis": {
            "gridcolor": "white",
            "linecolor": "white",
            "ticks": ""
           },
           "bgcolor": "#E5ECF6",
           "radialaxis": {
            "gridcolor": "white",
            "linecolor": "white",
            "ticks": ""
           }
          },
          "scene": {
           "xaxis": {
            "backgroundcolor": "#E5ECF6",
            "gridcolor": "white",
            "gridwidth": 2,
            "linecolor": "white",
            "showbackground": true,
            "ticks": "",
            "zerolinecolor": "white"
           },
           "yaxis": {
            "backgroundcolor": "#E5ECF6",
            "gridcolor": "white",
            "gridwidth": 2,
            "linecolor": "white",
            "showbackground": true,
            "ticks": "",
            "zerolinecolor": "white"
           },
           "zaxis": {
            "backgroundcolor": "#E5ECF6",
            "gridcolor": "white",
            "gridwidth": 2,
            "linecolor": "white",
            "showbackground": true,
            "ticks": "",
            "zerolinecolor": "white"
           }
          },
          "shapedefaults": {
           "line": {
            "color": "#2a3f5f"
           }
          },
          "ternary": {
           "aaxis": {
            "gridcolor": "white",
            "linecolor": "white",
            "ticks": ""
           },
           "baxis": {
            "gridcolor": "white",
            "linecolor": "white",
            "ticks": ""
           },
           "bgcolor": "#E5ECF6",
           "caxis": {
            "gridcolor": "white",
            "linecolor": "white",
            "ticks": ""
           }
          },
          "title": {
           "x": 0.05
          },
          "xaxis": {
           "automargin": true,
           "gridcolor": "white",
           "linecolor": "white",
           "ticks": "",
           "title": {
            "standoff": 15
           },
           "zerolinecolor": "white",
           "zerolinewidth": 2
          },
          "yaxis": {
           "automargin": true,
           "gridcolor": "white",
           "linecolor": "white",
           "ticks": "",
           "title": {
            "standoff": 15
           },
           "zerolinecolor": "white",
           "zerolinewidth": 2
          }
         }
        },
        "title": {
         "text": "Commonly used image analysis tools",
         "x": 0.5
        },
        "width": 900,
        "xaxis": {
         "anchor": "y",
         "domain": [
          0,
          1
         ],
         "showgrid": false,
         "title": {
          "text": "x"
         },
         "visible": false,
         "zeroline": false
        },
        "yaxis": {
         "anchor": "x",
         "domain": [
          0,
          1
         ],
         "showgrid": false,
         "title": {
          "text": "y"
         },
         "visible": false,
         "zeroline": false
        }
       }
      }
     },
     "metadata": {},
     "output_type": "display_data"
    }
   ],
   "source": [
    "y = [data[\"Commercial software with the microscope\"].sum(), data[\"Other commercial software\"].sum(),\n",
    "data[\"Open source point-and-click software\"].sum(), data[\"Computational libraries and scripts\"].sum(), data[\"Tools_none\"].sum()]\n",
    "fig = px.scatter(x=[\"Commercial software with the microscope\", 'Other commercial software','Open source point-and-click software', 'Computational libraries and scripts', 'Tools_none'], y=[data[\"Commercial software with the microscope\"].sum(), data[\"Other commercial software\"].sum(),\n",
    "data[\"Open source point-and-click software\"].sum(), data[\"Computational libraries and scripts\"].sum(), data[\"Tools_none\"].sum()], color=y, size=y, size_max=90)\n",
    "                \n",
    "                                 \n",
    "fig.update_layout(width=900, height=320, title=\"Commonly used image analysis tools\", title_x=0.5,\n",
    "                  margin = dict(t=50, l=0, r=0, b=0),\n",
    "                  showlegend=True\n",
    "                 )\n",
    "fig.update_traces(textposition='top center')\n",
    "fig.update_xaxes(showgrid=False, zeroline=False, visible=False)\n",
    "fig.update_yaxes(showgrid=False, zeroline=False, visible=False)\n",
    "fig.update_layout({'plot_bgcolor': 'white',\n",
    "                   'paper_bgcolor': 'white'})\n",
    "fig.show()"
   ]
  },
  {
   "cell_type": "code",
   "execution_count": null,
   "metadata": {},
   "outputs": [],
   "source": [
    "type_of_images.iloc[:,1].value_counts()"
   ]
  },
  {
   "cell_type": "code",
   "execution_count": 897,
   "metadata": {},
   "outputs": [],
   "source": [
    "# Kinds of images \n",
    "#Types of images analyzed Brightfield/DIC/phase-contrast manually acquired\n",
    "type_of_images = data.iloc[:, 27:38]"
   ]
  },
  {
   "cell_type": "code",
   "execution_count": 899,
   "metadata": {},
   "outputs": [
    {
     "data": {
      "text/html": [
       "<div>\n",
       "<style scoped>\n",
       "    .dataframe tbody tr th:only-of-type {\n",
       "        vertical-align: middle;\n",
       "    }\n",
       "\n",
       "    .dataframe tbody tr th {\n",
       "        vertical-align: top;\n",
       "    }\n",
       "\n",
       "    .dataframe thead th {\n",
       "        text-align: right;\n",
       "    }\n",
       "</style>\n",
       "<table border=\"1\" class=\"dataframe\">\n",
       "  <thead>\n",
       "    <tr style=\"text-align: right;\">\n",
       "      <th></th>\n",
       "      <th>Types of images analyzed Brightfield/DIC/phase-contrast manually acquired</th>\n",
       "      <th>Types of images analyzed Brightfield/DIC/phase-contrast automated</th>\n",
       "      <th>Types of images analyzed-Fluorescent images manually acquired</th>\n",
       "      <th>Types of images analyzed automated</th>\n",
       "      <th>Types of images analyzed-Histological tissue sections</th>\n",
       "      <th>Types of images analyzed-Electro microscopy</th>\n",
       "      <th>Types of images analyzed-Imaging mass spectrometry</th>\n",
       "      <th>Types of images analyzed-Imaging flow cytometry</th>\n",
       "      <th>Types of images analyzed-Superresolution (PALM/STORM)</th>\n",
       "      <th>Types of images analyzed-Autofluorescence imaging (ie FLIM)</th>\n",
       "      <th>Types of images analyzed-Other</th>\n",
       "    </tr>\n",
       "  </thead>\n",
       "  <tbody>\n",
       "    <tr>\n",
       "      <th>0</th>\n",
       "      <td>NaN</td>\n",
       "      <td>NaN</td>\n",
       "      <td>NaN</td>\n",
       "      <td>NaN</td>\n",
       "      <td>NaN</td>\n",
       "      <td>NaN</td>\n",
       "      <td>NaN</td>\n",
       "      <td>NaN</td>\n",
       "      <td>NaN</td>\n",
       "      <td>NaN</td>\n",
       "      <td>NaN</td>\n",
       "    </tr>\n",
       "    <tr>\n",
       "      <th>1</th>\n",
       "      <td>2D + time</td>\n",
       "      <td>2D + time</td>\n",
       "      <td>2D + time</td>\n",
       "      <td>2D + time</td>\n",
       "      <td>NaN</td>\n",
       "      <td>NaN</td>\n",
       "      <td>NaN</td>\n",
       "      <td>NaN</td>\n",
       "      <td>NaN</td>\n",
       "      <td>NaN</td>\n",
       "      <td>NaN</td>\n",
       "    </tr>\n",
       "    <tr>\n",
       "      <th>2</th>\n",
       "      <td>2D</td>\n",
       "      <td>2D</td>\n",
       "      <td>3D + time</td>\n",
       "      <td>3D + time</td>\n",
       "      <td>2D</td>\n",
       "      <td>NaN</td>\n",
       "      <td>NaN</td>\n",
       "      <td>NaN</td>\n",
       "      <td>NaN</td>\n",
       "      <td>NaN</td>\n",
       "      <td>NaN</td>\n",
       "    </tr>\n",
       "    <tr>\n",
       "      <th>3</th>\n",
       "      <td>NaN</td>\n",
       "      <td>NaN</td>\n",
       "      <td>2D, 3D (&lt;3000x3000x100)</td>\n",
       "      <td>NaN</td>\n",
       "      <td>2D</td>\n",
       "      <td>2D</td>\n",
       "      <td>NaN</td>\n",
       "      <td>NaN</td>\n",
       "      <td>NaN</td>\n",
       "      <td>NaN</td>\n",
       "      <td>NaN</td>\n",
       "    </tr>\n",
       "    <tr>\n",
       "      <th>4</th>\n",
       "      <td>NaN</td>\n",
       "      <td>NaN</td>\n",
       "      <td>NaN</td>\n",
       "      <td>NaN</td>\n",
       "      <td>NaN</td>\n",
       "      <td>NaN</td>\n",
       "      <td>NaN</td>\n",
       "      <td>NaN</td>\n",
       "      <td>NaN</td>\n",
       "      <td>NaN</td>\n",
       "      <td>NaN</td>\n",
       "    </tr>\n",
       "    <tr>\n",
       "      <th>...</th>\n",
       "      <td>...</td>\n",
       "      <td>...</td>\n",
       "      <td>...</td>\n",
       "      <td>...</td>\n",
       "      <td>...</td>\n",
       "      <td>...</td>\n",
       "      <td>...</td>\n",
       "      <td>...</td>\n",
       "      <td>...</td>\n",
       "      <td>...</td>\n",
       "      <td>...</td>\n",
       "    </tr>\n",
       "    <tr>\n",
       "      <th>489</th>\n",
       "      <td>NaN</td>\n",
       "      <td>NaN</td>\n",
       "      <td>2D, 2D + time, 3D (&lt;3000x3000x100), 3D + time,...</td>\n",
       "      <td>2D, 2D + time, 3D (&lt;3000x3000x100), 3D + time,...</td>\n",
       "      <td>NaN</td>\n",
       "      <td>NaN</td>\n",
       "      <td>NaN</td>\n",
       "      <td>NaN</td>\n",
       "      <td>2D, 2D + time, 3D (&lt;3000x3000x100), 3D + time,...</td>\n",
       "      <td>NaN</td>\n",
       "      <td>NaN</td>\n",
       "    </tr>\n",
       "    <tr>\n",
       "      <th>490</th>\n",
       "      <td>2D</td>\n",
       "      <td>NaN</td>\n",
       "      <td>2D, 2D + time, 3D + time</td>\n",
       "      <td>2D, 2D + time, 3D + time</td>\n",
       "      <td>2D</td>\n",
       "      <td>NaN</td>\n",
       "      <td>NaN</td>\n",
       "      <td>NaN</td>\n",
       "      <td>NaN</td>\n",
       "      <td>NaN</td>\n",
       "      <td>NaN</td>\n",
       "    </tr>\n",
       "    <tr>\n",
       "      <th>491</th>\n",
       "      <td>NaN</td>\n",
       "      <td>NaN</td>\n",
       "      <td>NaN</td>\n",
       "      <td>NaN</td>\n",
       "      <td>2D</td>\n",
       "      <td>NaN</td>\n",
       "      <td>NaN</td>\n",
       "      <td>NaN</td>\n",
       "      <td>NaN</td>\n",
       "      <td>NaN</td>\n",
       "      <td>NaN</td>\n",
       "    </tr>\n",
       "    <tr>\n",
       "      <th>492</th>\n",
       "      <td>2D</td>\n",
       "      <td>2D + time, 3D + time</td>\n",
       "      <td>2D + time</td>\n",
       "      <td>NaN</td>\n",
       "      <td>NaN</td>\n",
       "      <td>NaN</td>\n",
       "      <td>NaN</td>\n",
       "      <td>NaN</td>\n",
       "      <td>NaN</td>\n",
       "      <td>NaN</td>\n",
       "      <td>3D (&lt;3000x3000x100)</td>\n",
       "    </tr>\n",
       "    <tr>\n",
       "      <th>493</th>\n",
       "      <td>2D, 2D + time</td>\n",
       "      <td>NaN</td>\n",
       "      <td>2D, 2D + time</td>\n",
       "      <td>NaN</td>\n",
       "      <td>NaN</td>\n",
       "      <td>NaN</td>\n",
       "      <td>NaN</td>\n",
       "      <td>NaN</td>\n",
       "      <td>NaN</td>\n",
       "      <td>NaN</td>\n",
       "      <td>NaN</td>\n",
       "    </tr>\n",
       "  </tbody>\n",
       "</table>\n",
       "<p>494 rows × 11 columns</p>\n",
       "</div>"
      ],
      "text/plain": [
       "    Types of images analyzed Brightfield/DIC/phase-contrast manually acquired  \\\n",
       "0                                                  NaN                          \n",
       "1                                            2D + time                          \n",
       "2                                                   2D                          \n",
       "3                                                  NaN                          \n",
       "4                                                  NaN                          \n",
       "..                                                 ...                          \n",
       "489                                                NaN                          \n",
       "490                                                 2D                          \n",
       "491                                                NaN                          \n",
       "492                                                 2D                          \n",
       "493                                      2D, 2D + time                          \n",
       "\n",
       "    Types of images analyzed Brightfield/DIC/phase-contrast automated  \\\n",
       "0                                                  NaN                  \n",
       "1                                            2D + time                  \n",
       "2                                                   2D                  \n",
       "3                                                  NaN                  \n",
       "4                                                  NaN                  \n",
       "..                                                 ...                  \n",
       "489                                                NaN                  \n",
       "490                                                NaN                  \n",
       "491                                                NaN                  \n",
       "492                               2D + time, 3D + time                  \n",
       "493                                                NaN                  \n",
       "\n",
       "    Types of images analyzed-Fluorescent images manually acquired  \\\n",
       "0                                                  NaN              \n",
       "1                                            2D + time              \n",
       "2                                            3D + time              \n",
       "3                              2D, 3D (<3000x3000x100)              \n",
       "4                                                  NaN              \n",
       "..                                                 ...              \n",
       "489  2D, 2D + time, 3D (<3000x3000x100), 3D + time,...              \n",
       "490                           2D, 2D + time, 3D + time              \n",
       "491                                                NaN              \n",
       "492                                          2D + time              \n",
       "493                                      2D, 2D + time              \n",
       "\n",
       "                    Types of images analyzed automated  \\\n",
       "0                                                  NaN   \n",
       "1                                            2D + time   \n",
       "2                                            3D + time   \n",
       "3                                                  NaN   \n",
       "4                                                  NaN   \n",
       "..                                                 ...   \n",
       "489  2D, 2D + time, 3D (<3000x3000x100), 3D + time,...   \n",
       "490                           2D, 2D + time, 3D + time   \n",
       "491                                                NaN   \n",
       "492                                                NaN   \n",
       "493                                                NaN   \n",
       "\n",
       "    Types of images analyzed-Histological tissue sections  \\\n",
       "0                                                  NaN      \n",
       "1                                                  NaN      \n",
       "2                                                   2D      \n",
       "3                                                   2D      \n",
       "4                                                  NaN      \n",
       "..                                                 ...      \n",
       "489                                                NaN      \n",
       "490                                                 2D      \n",
       "491                                                 2D      \n",
       "492                                                NaN      \n",
       "493                                                NaN      \n",
       "\n",
       "    Types of images analyzed-Electro microscopy  \\\n",
       "0                                           NaN   \n",
       "1                                           NaN   \n",
       "2                                           NaN   \n",
       "3                                            2D   \n",
       "4                                           NaN   \n",
       "..                                          ...   \n",
       "489                                         NaN   \n",
       "490                                         NaN   \n",
       "491                                         NaN   \n",
       "492                                         NaN   \n",
       "493                                         NaN   \n",
       "\n",
       "    Types of images analyzed-Imaging mass spectrometry  \\\n",
       "0                                                  NaN   \n",
       "1                                                  NaN   \n",
       "2                                                  NaN   \n",
       "3                                                  NaN   \n",
       "4                                                  NaN   \n",
       "..                                                 ...   \n",
       "489                                                NaN   \n",
       "490                                                NaN   \n",
       "491                                                NaN   \n",
       "492                                                NaN   \n",
       "493                                                NaN   \n",
       "\n",
       "    Types of images analyzed-Imaging flow cytometry  \\\n",
       "0                                               NaN   \n",
       "1                                               NaN   \n",
       "2                                               NaN   \n",
       "3                                               NaN   \n",
       "4                                               NaN   \n",
       "..                                              ...   \n",
       "489                                             NaN   \n",
       "490                                             NaN   \n",
       "491                                             NaN   \n",
       "492                                             NaN   \n",
       "493                                             NaN   \n",
       "\n",
       "    Types of images analyzed-Superresolution (PALM/STORM)  \\\n",
       "0                                                  NaN      \n",
       "1                                                  NaN      \n",
       "2                                                  NaN      \n",
       "3                                                  NaN      \n",
       "4                                                  NaN      \n",
       "..                                                 ...      \n",
       "489  2D, 2D + time, 3D (<3000x3000x100), 3D + time,...      \n",
       "490                                                NaN      \n",
       "491                                                NaN      \n",
       "492                                                NaN      \n",
       "493                                                NaN      \n",
       "\n",
       "    Types of images analyzed-Autofluorescence imaging (ie FLIM)  \\\n",
       "0                                                  NaN            \n",
       "1                                                  NaN            \n",
       "2                                                  NaN            \n",
       "3                                                  NaN            \n",
       "4                                                  NaN            \n",
       "..                                                 ...            \n",
       "489                                                NaN            \n",
       "490                                                NaN            \n",
       "491                                                NaN            \n",
       "492                                                NaN            \n",
       "493                                                NaN            \n",
       "\n",
       "    Types of images analyzed-Other  \n",
       "0                              NaN  \n",
       "1                              NaN  \n",
       "2                              NaN  \n",
       "3                              NaN  \n",
       "4                              NaN  \n",
       "..                             ...  \n",
       "489                            NaN  \n",
       "490                            NaN  \n",
       "491                            NaN  \n",
       "492            3D (<3000x3000x100)  \n",
       "493                            NaN  \n",
       "\n",
       "[494 rows x 11 columns]"
      ]
     },
     "execution_count": 899,
     "metadata": {},
     "output_type": "execute_result"
    }
   ],
   "source": [
    "type_of_images"
   ]
  },
  {
   "cell_type": "code",
   "execution_count": 990,
   "metadata": {},
   "outputs": [],
   "source": [
    "df0 = type_of_images.iloc[:,0].value_counts()\n",
    "df1 = type_of_images.iloc[:,1].value_counts()\n",
    "df2 = type_of_images.iloc[:,2].value_counts()\n",
    "df3 = type_of_images.iloc[:,3].value_counts()\n",
    "df4 = type_of_images.iloc[:,4].value_counts()\n",
    "df5 = type_of_images.iloc[:,5].value_counts()\n",
    "df6 = type_of_images.iloc[:,6].value_counts()\n",
    "df7 = type_of_images.iloc[:,7].value_counts()\n",
    "df8 = type_of_images.iloc[:,8].value_counts()\n",
    "df9 = type_of_images.iloc[:,9].value_counts()\n",
    "df10 = type_of_images.iloc[:,10].value_counts()"
   ]
  },
  {
   "cell_type": "code",
   "execution_count": 991,
   "metadata": {},
   "outputs": [],
   "source": [
    "df_compiled = pd.concat([df0, df1, df2, df3, df4, df5, df6, df7, df8, df9, df10], axis=1)"
   ]
  },
  {
   "cell_type": "code",
   "execution_count": 996,
   "metadata": {},
   "outputs": [],
   "source": [
    "df_compiled[\"Types of images\"] = df_compiled.index"
   ]
  },
  {
   "cell_type": "code",
   "execution_count": 997,
   "metadata": {},
   "outputs": [
    {
     "data": {
      "text/html": [
       "<div>\n",
       "<style scoped>\n",
       "    .dataframe tbody tr th:only-of-type {\n",
       "        vertical-align: middle;\n",
       "    }\n",
       "\n",
       "    .dataframe tbody tr th {\n",
       "        vertical-align: top;\n",
       "    }\n",
       "\n",
       "    .dataframe thead th {\n",
       "        text-align: right;\n",
       "    }\n",
       "</style>\n",
       "<table border=\"1\" class=\"dataframe\">\n",
       "  <thead>\n",
       "    <tr style=\"text-align: right;\">\n",
       "      <th></th>\n",
       "      <th>Types of images analyzed Brightfield/DIC/phase-contrast manually acquired</th>\n",
       "      <th>Types of images analyzed Brightfield/DIC/phase-contrast automated</th>\n",
       "      <th>Types of images analyzed-Fluorescent images manually acquired</th>\n",
       "      <th>Types of images analyzed automated</th>\n",
       "      <th>Types of images analyzed-Histological tissue sections</th>\n",
       "      <th>Types of images analyzed-Electro microscopy</th>\n",
       "      <th>Types of images analyzed-Imaging mass spectrometry</th>\n",
       "      <th>Types of images analyzed-Imaging flow cytometry</th>\n",
       "      <th>Types of images analyzed-Superresolution (PALM/STORM)</th>\n",
       "      <th>Types of images analyzed-Autofluorescence imaging (ie FLIM)</th>\n",
       "      <th>Types of images analyzed-Other</th>\n",
       "      <th>Types of images</th>\n",
       "    </tr>\n",
       "  </thead>\n",
       "  <tbody>\n",
       "    <tr>\n",
       "      <th>2D</th>\n",
       "      <td>94.0</td>\n",
       "      <td>46.0</td>\n",
       "      <td>51.0</td>\n",
       "      <td>48.0</td>\n",
       "      <td>164.0</td>\n",
       "      <td>70.0</td>\n",
       "      <td>24.0</td>\n",
       "      <td>19.0</td>\n",
       "      <td>24.0</td>\n",
       "      <td>18.0</td>\n",
       "      <td>5.0</td>\n",
       "      <td>2D</td>\n",
       "    </tr>\n",
       "    <tr>\n",
       "      <th>2D, 2D + time</th>\n",
       "      <td>61.0</td>\n",
       "      <td>47.0</td>\n",
       "      <td>23.0</td>\n",
       "      <td>23.0</td>\n",
       "      <td>2.0</td>\n",
       "      <td>NaN</td>\n",
       "      <td>NaN</td>\n",
       "      <td>1.0</td>\n",
       "      <td>8.0</td>\n",
       "      <td>10.0</td>\n",
       "      <td>2.0</td>\n",
       "      <td>2D, 2D + time</td>\n",
       "    </tr>\n",
       "    <tr>\n",
       "      <th>2D + time</th>\n",
       "      <td>50.0</td>\n",
       "      <td>32.0</td>\n",
       "      <td>17.0</td>\n",
       "      <td>15.0</td>\n",
       "      <td>5.0</td>\n",
       "      <td>1.0</td>\n",
       "      <td>1.0</td>\n",
       "      <td>2.0</td>\n",
       "      <td>8.0</td>\n",
       "      <td>11.0</td>\n",
       "      <td>2.0</td>\n",
       "      <td>2D + time</td>\n",
       "    </tr>\n",
       "    <tr>\n",
       "      <th>2D, 2D + time, 3D (&lt;3000x3000x100), 3D + time</th>\n",
       "      <td>14.0</td>\n",
       "      <td>7.0</td>\n",
       "      <td>44.0</td>\n",
       "      <td>25.0</td>\n",
       "      <td>1.0</td>\n",
       "      <td>NaN</td>\n",
       "      <td>NaN</td>\n",
       "      <td>NaN</td>\n",
       "      <td>9.0</td>\n",
       "      <td>6.0</td>\n",
       "      <td>3.0</td>\n",
       "      <td>2D, 2D + time, 3D (&lt;3000x3000x100), 3D + time</td>\n",
       "    </tr>\n",
       "    <tr>\n",
       "      <th>3D + time</th>\n",
       "      <td>8.0</td>\n",
       "      <td>8.0</td>\n",
       "      <td>28.0</td>\n",
       "      <td>15.0</td>\n",
       "      <td>5.0</td>\n",
       "      <td>1.0</td>\n",
       "      <td>1.0</td>\n",
       "      <td>2.0</td>\n",
       "      <td>3.0</td>\n",
       "      <td>6.0</td>\n",
       "      <td>3.0</td>\n",
       "      <td>3D + time</td>\n",
       "    </tr>\n",
       "    <tr>\n",
       "      <th>3D (&lt;3000x3000x100)</th>\n",
       "      <td>6.0</td>\n",
       "      <td>4.0</td>\n",
       "      <td>25.0</td>\n",
       "      <td>10.0</td>\n",
       "      <td>7.0</td>\n",
       "      <td>5.0</td>\n",
       "      <td>2.0</td>\n",
       "      <td>3.0</td>\n",
       "      <td>9.0</td>\n",
       "      <td>4.0</td>\n",
       "      <td>5.0</td>\n",
       "      <td>3D (&lt;3000x3000x100)</td>\n",
       "    </tr>\n",
       "    <tr>\n",
       "      <th>2D, 3D (&lt;3000x3000x100)</th>\n",
       "      <td>5.0</td>\n",
       "      <td>4.0</td>\n",
       "      <td>34.0</td>\n",
       "      <td>10.0</td>\n",
       "      <td>18.0</td>\n",
       "      <td>18.0</td>\n",
       "      <td>2.0</td>\n",
       "      <td>NaN</td>\n",
       "      <td>20.0</td>\n",
       "      <td>4.0</td>\n",
       "      <td>1.0</td>\n",
       "      <td>2D, 3D (&lt;3000x3000x100)</td>\n",
       "    </tr>\n",
       "    <tr>\n",
       "      <th>3D large volume + time</th>\n",
       "      <td>4.0</td>\n",
       "      <td>3.0</td>\n",
       "      <td>10.0</td>\n",
       "      <td>6.0</td>\n",
       "      <td>NaN</td>\n",
       "      <td>3.0</td>\n",
       "      <td>1.0</td>\n",
       "      <td>1.0</td>\n",
       "      <td>2.0</td>\n",
       "      <td>1.0</td>\n",
       "      <td>1.0</td>\n",
       "      <td>3D large volume + time</td>\n",
       "    </tr>\n",
       "    <tr>\n",
       "      <th>2D, 2D + time, 3D + time</th>\n",
       "      <td>3.0</td>\n",
       "      <td>4.0</td>\n",
       "      <td>8.0</td>\n",
       "      <td>6.0</td>\n",
       "      <td>NaN</td>\n",
       "      <td>NaN</td>\n",
       "      <td>NaN</td>\n",
       "      <td>1.0</td>\n",
       "      <td>3.0</td>\n",
       "      <td>3.0</td>\n",
       "      <td>NaN</td>\n",
       "      <td>2D, 2D + time, 3D + time</td>\n",
       "    </tr>\n",
       "    <tr>\n",
       "      <th>3D (&lt;3000x3000x100), 3D + time</th>\n",
       "      <td>3.0</td>\n",
       "      <td>NaN</td>\n",
       "      <td>14.0</td>\n",
       "      <td>6.0</td>\n",
       "      <td>NaN</td>\n",
       "      <td>NaN</td>\n",
       "      <td>NaN</td>\n",
       "      <td>NaN</td>\n",
       "      <td>1.0</td>\n",
       "      <td>NaN</td>\n",
       "      <td>NaN</td>\n",
       "      <td>3D (&lt;3000x3000x100), 3D + time</td>\n",
       "    </tr>\n",
       "    <tr>\n",
       "      <th>2D, 2D + time, 3D (&lt;3000x3000x100), 3D + time, 3D (SPIM/large volume), 3D large volume + time</th>\n",
       "      <td>3.0</td>\n",
       "      <td>1.0</td>\n",
       "      <td>27.0</td>\n",
       "      <td>13.0</td>\n",
       "      <td>1.0</td>\n",
       "      <td>6.0</td>\n",
       "      <td>NaN</td>\n",
       "      <td>NaN</td>\n",
       "      <td>8.0</td>\n",
       "      <td>1.0</td>\n",
       "      <td>2.0</td>\n",
       "      <td>2D, 2D + time, 3D (&lt;3000x3000x100), 3D + time,...</td>\n",
       "    </tr>\n",
       "    <tr>\n",
       "      <th>2D, 2D + time, 3D (&lt;3000x3000x100)</th>\n",
       "      <td>3.0</td>\n",
       "      <td>1.0</td>\n",
       "      <td>29.0</td>\n",
       "      <td>11.0</td>\n",
       "      <td>2.0</td>\n",
       "      <td>NaN</td>\n",
       "      <td>NaN</td>\n",
       "      <td>NaN</td>\n",
       "      <td>2.0</td>\n",
       "      <td>2.0</td>\n",
       "      <td>2.0</td>\n",
       "      <td>2D, 2D + time, 3D (&lt;3000x3000x100)</td>\n",
       "    </tr>\n",
       "    <tr>\n",
       "      <th>2D + time, 3D + time</th>\n",
       "      <td>2.0</td>\n",
       "      <td>4.0</td>\n",
       "      <td>7.0</td>\n",
       "      <td>8.0</td>\n",
       "      <td>1.0</td>\n",
       "      <td>1.0</td>\n",
       "      <td>NaN</td>\n",
       "      <td>NaN</td>\n",
       "      <td>2.0</td>\n",
       "      <td>1.0</td>\n",
       "      <td>1.0</td>\n",
       "      <td>2D + time, 3D + time</td>\n",
       "    </tr>\n",
       "    <tr>\n",
       "      <th>2D, 2D + time, 3D (&lt;3000x3000x100), 3D + time, 3D large volume + time</th>\n",
       "      <td>2.0</td>\n",
       "      <td>1.0</td>\n",
       "      <td>5.0</td>\n",
       "      <td>3.0</td>\n",
       "      <td>NaN</td>\n",
       "      <td>NaN</td>\n",
       "      <td>NaN</td>\n",
       "      <td>NaN</td>\n",
       "      <td>NaN</td>\n",
       "      <td>NaN</td>\n",
       "      <td>1.0</td>\n",
       "      <td>2D, 2D + time, 3D (&lt;3000x3000x100), 3D + time,...</td>\n",
       "    </tr>\n",
       "    <tr>\n",
       "      <th>3D (&lt;3000x3000x100), 3D + time, 3D (SPIM/large volume)</th>\n",
       "      <td>2.0</td>\n",
       "      <td>1.0</td>\n",
       "      <td>6.0</td>\n",
       "      <td>1.0</td>\n",
       "      <td>NaN</td>\n",
       "      <td>NaN</td>\n",
       "      <td>NaN</td>\n",
       "      <td>NaN</td>\n",
       "      <td>NaN</td>\n",
       "      <td>NaN</td>\n",
       "      <td>NaN</td>\n",
       "      <td>3D (&lt;3000x3000x100), 3D + time, 3D (SPIM/large...</td>\n",
       "    </tr>\n",
       "    <tr>\n",
       "      <th>2D + time, 3D (&lt;3000x3000x100)</th>\n",
       "      <td>2.0</td>\n",
       "      <td>1.0</td>\n",
       "      <td>7.0</td>\n",
       "      <td>3.0</td>\n",
       "      <td>3.0</td>\n",
       "      <td>NaN</td>\n",
       "      <td>NaN</td>\n",
       "      <td>NaN</td>\n",
       "      <td>1.0</td>\n",
       "      <td>NaN</td>\n",
       "      <td>NaN</td>\n",
       "      <td>2D + time, 3D (&lt;3000x3000x100)</td>\n",
       "    </tr>\n",
       "    <tr>\n",
       "      <th>2D + time, 3D + time, 3D (SPIM/large volume)</th>\n",
       "      <td>1.0</td>\n",
       "      <td>NaN</td>\n",
       "      <td>1.0</td>\n",
       "      <td>NaN</td>\n",
       "      <td>NaN</td>\n",
       "      <td>NaN</td>\n",
       "      <td>NaN</td>\n",
       "      <td>NaN</td>\n",
       "      <td>NaN</td>\n",
       "      <td>NaN</td>\n",
       "      <td>NaN</td>\n",
       "      <td>2D + time, 3D + time, 3D (SPIM/large volume)</td>\n",
       "    </tr>\n",
       "    <tr>\n",
       "      <th>2D + time, 3D (&lt;3000x3000x100), 3D + time, 3D (SPIM/large volume)</th>\n",
       "      <td>1.0</td>\n",
       "      <td>NaN</td>\n",
       "      <td>2.0</td>\n",
       "      <td>NaN</td>\n",
       "      <td>NaN</td>\n",
       "      <td>NaN</td>\n",
       "      <td>NaN</td>\n",
       "      <td>NaN</td>\n",
       "      <td>NaN</td>\n",
       "      <td>NaN</td>\n",
       "      <td>NaN</td>\n",
       "      <td>2D + time, 3D (&lt;3000x3000x100), 3D + time, 3D ...</td>\n",
       "    </tr>\n",
       "    <tr>\n",
       "      <th>2D, 2D + time, 3D (&lt;3000x3000x100), 3D + time, 3D (SPIM/large volume)</th>\n",
       "      <td>1.0</td>\n",
       "      <td>1.0</td>\n",
       "      <td>11.0</td>\n",
       "      <td>4.0</td>\n",
       "      <td>NaN</td>\n",
       "      <td>NaN</td>\n",
       "      <td>NaN</td>\n",
       "      <td>NaN</td>\n",
       "      <td>NaN</td>\n",
       "      <td>NaN</td>\n",
       "      <td>NaN</td>\n",
       "      <td>2D, 2D + time, 3D (&lt;3000x3000x100), 3D + time,...</td>\n",
       "    </tr>\n",
       "    <tr>\n",
       "      <th>2D, 3D (&lt;3000x3000x100), 3D + time, 3D large volume + time</th>\n",
       "      <td>1.0</td>\n",
       "      <td>NaN</td>\n",
       "      <td>1.0</td>\n",
       "      <td>1.0</td>\n",
       "      <td>NaN</td>\n",
       "      <td>1.0</td>\n",
       "      <td>NaN</td>\n",
       "      <td>NaN</td>\n",
       "      <td>NaN</td>\n",
       "      <td>NaN</td>\n",
       "      <td>NaN</td>\n",
       "      <td>2D, 3D (&lt;3000x3000x100), 3D + time, 3D large v...</td>\n",
       "    </tr>\n",
       "    <tr>\n",
       "      <th>2D + time, 3D (&lt;3000x3000x100), 3D + time</th>\n",
       "      <td>1.0</td>\n",
       "      <td>1.0</td>\n",
       "      <td>6.0</td>\n",
       "      <td>5.0</td>\n",
       "      <td>NaN</td>\n",
       "      <td>NaN</td>\n",
       "      <td>NaN</td>\n",
       "      <td>NaN</td>\n",
       "      <td>1.0</td>\n",
       "      <td>NaN</td>\n",
       "      <td>NaN</td>\n",
       "      <td>2D + time, 3D (&lt;3000x3000x100), 3D + time</td>\n",
       "    </tr>\n",
       "    <tr>\n",
       "      <th>2D, 3D + time</th>\n",
       "      <td>1.0</td>\n",
       "      <td>NaN</td>\n",
       "      <td>2.0</td>\n",
       "      <td>2.0</td>\n",
       "      <td>1.0</td>\n",
       "      <td>NaN</td>\n",
       "      <td>1.0</td>\n",
       "      <td>NaN</td>\n",
       "      <td>NaN</td>\n",
       "      <td>1.0</td>\n",
       "      <td>1.0</td>\n",
       "      <td>2D, 3D + time</td>\n",
       "    </tr>\n",
       "    <tr>\n",
       "      <th>2D + time, 3D (&lt;3000x3000x100), 3D + time, 3D (SPIM/large volume), 3D large volume + time</th>\n",
       "      <td>1.0</td>\n",
       "      <td>NaN</td>\n",
       "      <td>1.0</td>\n",
       "      <td>NaN</td>\n",
       "      <td>NaN</td>\n",
       "      <td>NaN</td>\n",
       "      <td>NaN</td>\n",
       "      <td>NaN</td>\n",
       "      <td>NaN</td>\n",
       "      <td>NaN</td>\n",
       "      <td>1.0</td>\n",
       "      <td>2D + time, 3D (&lt;3000x3000x100), 3D + time, 3D ...</td>\n",
       "    </tr>\n",
       "    <tr>\n",
       "      <th>3D (SPIM/large volume)</th>\n",
       "      <td>NaN</td>\n",
       "      <td>1.0</td>\n",
       "      <td>3.0</td>\n",
       "      <td>4.0</td>\n",
       "      <td>5.0</td>\n",
       "      <td>9.0</td>\n",
       "      <td>NaN</td>\n",
       "      <td>NaN</td>\n",
       "      <td>1.0</td>\n",
       "      <td>NaN</td>\n",
       "      <td>NaN</td>\n",
       "      <td>3D (SPIM/large volume)</td>\n",
       "    </tr>\n",
       "    <tr>\n",
       "      <th>2D, 3D (&lt;3000x3000x100), 3D (SPIM/large volume)</th>\n",
       "      <td>NaN</td>\n",
       "      <td>NaN</td>\n",
       "      <td>5.0</td>\n",
       "      <td>6.0</td>\n",
       "      <td>NaN</td>\n",
       "      <td>10.0</td>\n",
       "      <td>NaN</td>\n",
       "      <td>NaN</td>\n",
       "      <td>1.0</td>\n",
       "      <td>NaN</td>\n",
       "      <td>2.0</td>\n",
       "      <td>2D, 3D (&lt;3000x3000x100), 3D (SPIM/large volume)</td>\n",
       "    </tr>\n",
       "    <tr>\n",
       "      <th>3D (&lt;3000x3000x100), 3D + time, 3D (SPIM/large volume), 3D large volume + time</th>\n",
       "      <td>NaN</td>\n",
       "      <td>NaN</td>\n",
       "      <td>5.0</td>\n",
       "      <td>1.0</td>\n",
       "      <td>NaN</td>\n",
       "      <td>1.0</td>\n",
       "      <td>NaN</td>\n",
       "      <td>NaN</td>\n",
       "      <td>NaN</td>\n",
       "      <td>NaN</td>\n",
       "      <td>1.0</td>\n",
       "      <td>3D (&lt;3000x3000x100), 3D + time, 3D (SPIM/large...</td>\n",
       "    </tr>\n",
       "    <tr>\n",
       "      <th>2D, 3D (&lt;3000x3000x100), 3D + time</th>\n",
       "      <td>NaN</td>\n",
       "      <td>NaN</td>\n",
       "      <td>4.0</td>\n",
       "      <td>3.0</td>\n",
       "      <td>NaN</td>\n",
       "      <td>NaN</td>\n",
       "      <td>NaN</td>\n",
       "      <td>NaN</td>\n",
       "      <td>NaN</td>\n",
       "      <td>NaN</td>\n",
       "      <td>1.0</td>\n",
       "      <td>2D, 3D (&lt;3000x3000x100), 3D + time</td>\n",
       "    </tr>\n",
       "    <tr>\n",
       "      <th>3D (&lt;3000x3000x100), 3D (SPIM/large volume)</th>\n",
       "      <td>NaN</td>\n",
       "      <td>NaN</td>\n",
       "      <td>3.0</td>\n",
       "      <td>NaN</td>\n",
       "      <td>NaN</td>\n",
       "      <td>1.0</td>\n",
       "      <td>NaN</td>\n",
       "      <td>NaN</td>\n",
       "      <td>NaN</td>\n",
       "      <td>NaN</td>\n",
       "      <td>2.0</td>\n",
       "      <td>3D (&lt;3000x3000x100), 3D (SPIM/large volume)</td>\n",
       "    </tr>\n",
       "    <tr>\n",
       "      <th>2D, 2D + time, 3D (&lt;3000x3000x100), 3D (SPIM/large volume)</th>\n",
       "      <td>NaN</td>\n",
       "      <td>NaN</td>\n",
       "      <td>2.0</td>\n",
       "      <td>NaN</td>\n",
       "      <td>NaN</td>\n",
       "      <td>NaN</td>\n",
       "      <td>NaN</td>\n",
       "      <td>NaN</td>\n",
       "      <td>NaN</td>\n",
       "      <td>NaN</td>\n",
       "      <td>NaN</td>\n",
       "      <td>2D, 2D + time, 3D (&lt;3000x3000x100), 3D (SPIM/l...</td>\n",
       "    </tr>\n",
       "    <tr>\n",
       "      <th>2D, 2D + time, 3D (&lt;3000x3000x100), 3D (SPIM/large volume), 3D large volume + time</th>\n",
       "      <td>NaN</td>\n",
       "      <td>NaN</td>\n",
       "      <td>2.0</td>\n",
       "      <td>NaN</td>\n",
       "      <td>NaN</td>\n",
       "      <td>NaN</td>\n",
       "      <td>NaN</td>\n",
       "      <td>NaN</td>\n",
       "      <td>NaN</td>\n",
       "      <td>NaN</td>\n",
       "      <td>NaN</td>\n",
       "      <td>2D, 2D + time, 3D (&lt;3000x3000x100), 3D (SPIM/l...</td>\n",
       "    </tr>\n",
       "    <tr>\n",
       "      <th>3D + time, 3D large volume + time</th>\n",
       "      <td>NaN</td>\n",
       "      <td>NaN</td>\n",
       "      <td>2.0</td>\n",
       "      <td>3.0</td>\n",
       "      <td>NaN</td>\n",
       "      <td>NaN</td>\n",
       "      <td>NaN</td>\n",
       "      <td>NaN</td>\n",
       "      <td>NaN</td>\n",
       "      <td>NaN</td>\n",
       "      <td>1.0</td>\n",
       "      <td>3D + time, 3D large volume + time</td>\n",
       "    </tr>\n",
       "    <tr>\n",
       "      <th>3D (&lt;3000x3000x100), 3D + time, 3D large volume + time</th>\n",
       "      <td>NaN</td>\n",
       "      <td>NaN</td>\n",
       "      <td>2.0</td>\n",
       "      <td>NaN</td>\n",
       "      <td>NaN</td>\n",
       "      <td>NaN</td>\n",
       "      <td>NaN</td>\n",
       "      <td>NaN</td>\n",
       "      <td>NaN</td>\n",
       "      <td>NaN</td>\n",
       "      <td>NaN</td>\n",
       "      <td>3D (&lt;3000x3000x100), 3D + time, 3D large volum...</td>\n",
       "    </tr>\n",
       "    <tr>\n",
       "      <th>3D + time, 3D (SPIM/large volume)</th>\n",
       "      <td>NaN</td>\n",
       "      <td>NaN</td>\n",
       "      <td>2.0</td>\n",
       "      <td>NaN</td>\n",
       "      <td>NaN</td>\n",
       "      <td>NaN</td>\n",
       "      <td>NaN</td>\n",
       "      <td>NaN</td>\n",
       "      <td>NaN</td>\n",
       "      <td>NaN</td>\n",
       "      <td>NaN</td>\n",
       "      <td>3D + time, 3D (SPIM/large volume)</td>\n",
       "    </tr>\n",
       "    <tr>\n",
       "      <th>3D (&lt;3000x3000x100), 3D large volume + time</th>\n",
       "      <td>NaN</td>\n",
       "      <td>NaN</td>\n",
       "      <td>2.0</td>\n",
       "      <td>2.0</td>\n",
       "      <td>NaN</td>\n",
       "      <td>1.0</td>\n",
       "      <td>NaN</td>\n",
       "      <td>NaN</td>\n",
       "      <td>NaN</td>\n",
       "      <td>NaN</td>\n",
       "      <td>1.0</td>\n",
       "      <td>3D (&lt;3000x3000x100), 3D large volume + time</td>\n",
       "    </tr>\n",
       "    <tr>\n",
       "      <th>3D + time, 3D (SPIM/large volume), 3D large volume + time</th>\n",
       "      <td>NaN</td>\n",
       "      <td>NaN</td>\n",
       "      <td>2.0</td>\n",
       "      <td>1.0</td>\n",
       "      <td>NaN</td>\n",
       "      <td>NaN</td>\n",
       "      <td>NaN</td>\n",
       "      <td>NaN</td>\n",
       "      <td>NaN</td>\n",
       "      <td>1.0</td>\n",
       "      <td>NaN</td>\n",
       "      <td>3D + time, 3D (SPIM/large volume), 3D large vo...</td>\n",
       "    </tr>\n",
       "    <tr>\n",
       "      <th>3D (SPIM/large volume), 3D large volume + time</th>\n",
       "      <td>NaN</td>\n",
       "      <td>NaN</td>\n",
       "      <td>2.0</td>\n",
       "      <td>1.0</td>\n",
       "      <td>NaN</td>\n",
       "      <td>NaN</td>\n",
       "      <td>NaN</td>\n",
       "      <td>1.0</td>\n",
       "      <td>NaN</td>\n",
       "      <td>NaN</td>\n",
       "      <td>NaN</td>\n",
       "      <td>3D (SPIM/large volume), 3D large volume + time</td>\n",
       "    </tr>\n",
       "    <tr>\n",
       "      <th>2D, 2D + time, 3D (SPIM/large volume), 3D large volume + time</th>\n",
       "      <td>NaN</td>\n",
       "      <td>NaN</td>\n",
       "      <td>1.0</td>\n",
       "      <td>NaN</td>\n",
       "      <td>NaN</td>\n",
       "      <td>NaN</td>\n",
       "      <td>NaN</td>\n",
       "      <td>NaN</td>\n",
       "      <td>NaN</td>\n",
       "      <td>NaN</td>\n",
       "      <td>NaN</td>\n",
       "      <td>2D, 2D + time, 3D (SPIM/large volume), 3D larg...</td>\n",
       "    </tr>\n",
       "    <tr>\n",
       "      <th>2D, 2D + time, 3D + time, 3D large volume + time</th>\n",
       "      <td>NaN</td>\n",
       "      <td>NaN</td>\n",
       "      <td>1.0</td>\n",
       "      <td>1.0</td>\n",
       "      <td>NaN</td>\n",
       "      <td>NaN</td>\n",
       "      <td>NaN</td>\n",
       "      <td>NaN</td>\n",
       "      <td>NaN</td>\n",
       "      <td>NaN</td>\n",
       "      <td>NaN</td>\n",
       "      <td>2D, 2D + time, 3D + time, 3D large volume + time</td>\n",
       "    </tr>\n",
       "    <tr>\n",
       "      <th>2D + time, 3D (SPIM/large volume)</th>\n",
       "      <td>NaN</td>\n",
       "      <td>NaN</td>\n",
       "      <td>1.0</td>\n",
       "      <td>NaN</td>\n",
       "      <td>NaN</td>\n",
       "      <td>NaN</td>\n",
       "      <td>NaN</td>\n",
       "      <td>NaN</td>\n",
       "      <td>NaN</td>\n",
       "      <td>NaN</td>\n",
       "      <td>NaN</td>\n",
       "      <td>2D + time, 3D (SPIM/large volume)</td>\n",
       "    </tr>\n",
       "    <tr>\n",
       "      <th>2D, 3D + time, 3D large volume + time</th>\n",
       "      <td>NaN</td>\n",
       "      <td>NaN</td>\n",
       "      <td>1.0</td>\n",
       "      <td>NaN</td>\n",
       "      <td>NaN</td>\n",
       "      <td>NaN</td>\n",
       "      <td>NaN</td>\n",
       "      <td>NaN</td>\n",
       "      <td>NaN</td>\n",
       "      <td>NaN</td>\n",
       "      <td>NaN</td>\n",
       "      <td>2D, 3D + time, 3D large volume + time</td>\n",
       "    </tr>\n",
       "    <tr>\n",
       "      <th>2D + time, 3D (&lt;3000x3000x100), 3D large volume + time</th>\n",
       "      <td>NaN</td>\n",
       "      <td>NaN</td>\n",
       "      <td>1.0</td>\n",
       "      <td>NaN</td>\n",
       "      <td>NaN</td>\n",
       "      <td>NaN</td>\n",
       "      <td>NaN</td>\n",
       "      <td>NaN</td>\n",
       "      <td>NaN</td>\n",
       "      <td>NaN</td>\n",
       "      <td>NaN</td>\n",
       "      <td>2D + time, 3D (&lt;3000x3000x100), 3D large volum...</td>\n",
       "    </tr>\n",
       "    <tr>\n",
       "      <th>2D, 2D + time, 3D (&lt;3000x3000x100), 3D large volume + time</th>\n",
       "      <td>NaN</td>\n",
       "      <td>NaN</td>\n",
       "      <td>1.0</td>\n",
       "      <td>NaN</td>\n",
       "      <td>NaN</td>\n",
       "      <td>NaN</td>\n",
       "      <td>NaN</td>\n",
       "      <td>NaN</td>\n",
       "      <td>NaN</td>\n",
       "      <td>NaN</td>\n",
       "      <td>NaN</td>\n",
       "      <td>2D, 2D + time, 3D (&lt;3000x3000x100), 3D large v...</td>\n",
       "    </tr>\n",
       "    <tr>\n",
       "      <th>2D + time, 3D (&lt;3000x3000x100), 3D + time, 3D large volume + time</th>\n",
       "      <td>NaN</td>\n",
       "      <td>NaN</td>\n",
       "      <td>1.0</td>\n",
       "      <td>1.0</td>\n",
       "      <td>NaN</td>\n",
       "      <td>NaN</td>\n",
       "      <td>NaN</td>\n",
       "      <td>NaN</td>\n",
       "      <td>NaN</td>\n",
       "      <td>NaN</td>\n",
       "      <td>NaN</td>\n",
       "      <td>2D + time, 3D (&lt;3000x3000x100), 3D + time, 3D ...</td>\n",
       "    </tr>\n",
       "    <tr>\n",
       "      <th>2D + time, 3D + time, 3D (SPIM/large volume), 3D large volume + time</th>\n",
       "      <td>NaN</td>\n",
       "      <td>NaN</td>\n",
       "      <td>1.0</td>\n",
       "      <td>1.0</td>\n",
       "      <td>NaN</td>\n",
       "      <td>NaN</td>\n",
       "      <td>NaN</td>\n",
       "      <td>NaN</td>\n",
       "      <td>NaN</td>\n",
       "      <td>NaN</td>\n",
       "      <td>NaN</td>\n",
       "      <td>2D + time, 3D + time, 3D (SPIM/large volume), ...</td>\n",
       "    </tr>\n",
       "    <tr>\n",
       "      <th>2D, 2D + time, 3D large volume + time</th>\n",
       "      <td>NaN</td>\n",
       "      <td>NaN</td>\n",
       "      <td>1.0</td>\n",
       "      <td>1.0</td>\n",
       "      <td>NaN</td>\n",
       "      <td>NaN</td>\n",
       "      <td>NaN</td>\n",
       "      <td>NaN</td>\n",
       "      <td>NaN</td>\n",
       "      <td>NaN</td>\n",
       "      <td>NaN</td>\n",
       "      <td>2D, 2D + time, 3D large volume + time</td>\n",
       "    </tr>\n",
       "    <tr>\n",
       "      <th>2D, 3D (&lt;3000x3000x100), 3D + time, 3D (SPIM/large volume), 3D large volume + time</th>\n",
       "      <td>NaN</td>\n",
       "      <td>NaN</td>\n",
       "      <td>1.0</td>\n",
       "      <td>NaN</td>\n",
       "      <td>NaN</td>\n",
       "      <td>NaN</td>\n",
       "      <td>NaN</td>\n",
       "      <td>NaN</td>\n",
       "      <td>NaN</td>\n",
       "      <td>NaN</td>\n",
       "      <td>NaN</td>\n",
       "      <td>2D, 3D (&lt;3000x3000x100), 3D + time, 3D (SPIM/l...</td>\n",
       "    </tr>\n",
       "    <tr>\n",
       "      <th>2D, 2D + time, 3D (SPIM/large volume)</th>\n",
       "      <td>NaN</td>\n",
       "      <td>NaN</td>\n",
       "      <td>NaN</td>\n",
       "      <td>1.0</td>\n",
       "      <td>NaN</td>\n",
       "      <td>NaN</td>\n",
       "      <td>NaN</td>\n",
       "      <td>NaN</td>\n",
       "      <td>NaN</td>\n",
       "      <td>NaN</td>\n",
       "      <td>NaN</td>\n",
       "      <td>2D, 2D + time, 3D (SPIM/large volume)</td>\n",
       "    </tr>\n",
       "    <tr>\n",
       "      <th>2D + time, 3D large volume + time</th>\n",
       "      <td>NaN</td>\n",
       "      <td>NaN</td>\n",
       "      <td>NaN</td>\n",
       "      <td>1.0</td>\n",
       "      <td>1.0</td>\n",
       "      <td>NaN</td>\n",
       "      <td>NaN</td>\n",
       "      <td>NaN</td>\n",
       "      <td>NaN</td>\n",
       "      <td>NaN</td>\n",
       "      <td>NaN</td>\n",
       "      <td>2D + time, 3D large volume + time</td>\n",
       "    </tr>\n",
       "    <tr>\n",
       "      <th>2D, 3D (SPIM/large volume)</th>\n",
       "      <td>NaN</td>\n",
       "      <td>NaN</td>\n",
       "      <td>NaN</td>\n",
       "      <td>NaN</td>\n",
       "      <td>4.0</td>\n",
       "      <td>1.0</td>\n",
       "      <td>NaN</td>\n",
       "      <td>NaN</td>\n",
       "      <td>1.0</td>\n",
       "      <td>NaN</td>\n",
       "      <td>NaN</td>\n",
       "      <td>2D, 3D (SPIM/large volume)</td>\n",
       "    </tr>\n",
       "    <tr>\n",
       "      <th>2D, 3D (&lt;3000x3000x100), 3D large volume + time</th>\n",
       "      <td>NaN</td>\n",
       "      <td>NaN</td>\n",
       "      <td>NaN</td>\n",
       "      <td>NaN</td>\n",
       "      <td>1.0</td>\n",
       "      <td>3.0</td>\n",
       "      <td>NaN</td>\n",
       "      <td>NaN</td>\n",
       "      <td>1.0</td>\n",
       "      <td>NaN</td>\n",
       "      <td>NaN</td>\n",
       "      <td>2D, 3D (&lt;3000x3000x100), 3D large volume + time</td>\n",
       "    </tr>\n",
       "    <tr>\n",
       "      <th>2D, 3D (SPIM/large volume), 3D large volume + time</th>\n",
       "      <td>NaN</td>\n",
       "      <td>NaN</td>\n",
       "      <td>NaN</td>\n",
       "      <td>NaN</td>\n",
       "      <td>1.0</td>\n",
       "      <td>NaN</td>\n",
       "      <td>NaN</td>\n",
       "      <td>NaN</td>\n",
       "      <td>NaN</td>\n",
       "      <td>NaN</td>\n",
       "      <td>NaN</td>\n",
       "      <td>2D, 3D (SPIM/large volume), 3D large volume + ...</td>\n",
       "    </tr>\n",
       "    <tr>\n",
       "      <th>2D, 3D large volume + time</th>\n",
       "      <td>NaN</td>\n",
       "      <td>NaN</td>\n",
       "      <td>NaN</td>\n",
       "      <td>NaN</td>\n",
       "      <td>NaN</td>\n",
       "      <td>1.0</td>\n",
       "      <td>NaN</td>\n",
       "      <td>NaN</td>\n",
       "      <td>NaN</td>\n",
       "      <td>NaN</td>\n",
       "      <td>1.0</td>\n",
       "      <td>2D, 3D large volume + time</td>\n",
       "    </tr>\n",
       "  </tbody>\n",
       "</table>\n",
       "</div>"
      ],
      "text/plain": [
       "                                                    Types of images analyzed Brightfield/DIC/phase-contrast manually acquired  \\\n",
       "2D                                                                                               94.0                           \n",
       "2D, 2D + time                                                                                    61.0                           \n",
       "2D + time                                                                                        50.0                           \n",
       "2D, 2D + time, 3D (<3000x3000x100), 3D + time                                                    14.0                           \n",
       "3D + time                                                                                         8.0                           \n",
       "3D (<3000x3000x100)                                                                               6.0                           \n",
       "2D, 3D (<3000x3000x100)                                                                           5.0                           \n",
       "3D large volume + time                                                                            4.0                           \n",
       "2D, 2D + time, 3D + time                                                                          3.0                           \n",
       "3D (<3000x3000x100), 3D + time                                                                    3.0                           \n",
       "2D, 2D + time, 3D (<3000x3000x100), 3D + time, ...                                                3.0                           \n",
       "2D, 2D + time, 3D (<3000x3000x100)                                                                3.0                           \n",
       "2D + time, 3D + time                                                                              2.0                           \n",
       "2D, 2D + time, 3D (<3000x3000x100), 3D + time, ...                                                2.0                           \n",
       "3D (<3000x3000x100), 3D + time, 3D (SPIM/large ...                                                2.0                           \n",
       "2D + time, 3D (<3000x3000x100)                                                                    2.0                           \n",
       "2D + time, 3D + time, 3D (SPIM/large volume)                                                      1.0                           \n",
       "2D + time, 3D (<3000x3000x100), 3D + time, 3D (...                                                1.0                           \n",
       "2D, 2D + time, 3D (<3000x3000x100), 3D + time, ...                                                1.0                           \n",
       "2D, 3D (<3000x3000x100), 3D + time, 3D large vo...                                                1.0                           \n",
       "2D + time, 3D (<3000x3000x100), 3D + time                                                         1.0                           \n",
       "2D, 3D + time                                                                                     1.0                           \n",
       "2D + time, 3D (<3000x3000x100), 3D + time, 3D (...                                                1.0                           \n",
       "3D (SPIM/large volume)                                                                            NaN                           \n",
       "2D, 3D (<3000x3000x100), 3D (SPIM/large volume)                                                   NaN                           \n",
       "3D (<3000x3000x100), 3D + time, 3D (SPIM/large ...                                                NaN                           \n",
       "2D, 3D (<3000x3000x100), 3D + time                                                                NaN                           \n",
       "3D (<3000x3000x100), 3D (SPIM/large volume)                                                       NaN                           \n",
       "2D, 2D + time, 3D (<3000x3000x100), 3D (SPIM/la...                                                NaN                           \n",
       "2D, 2D + time, 3D (<3000x3000x100), 3D (SPIM/la...                                                NaN                           \n",
       "3D + time, 3D large volume + time                                                                 NaN                           \n",
       "3D (<3000x3000x100), 3D + time, 3D large volume...                                                NaN                           \n",
       "3D + time, 3D (SPIM/large volume)                                                                 NaN                           \n",
       "3D (<3000x3000x100), 3D large volume + time                                                       NaN                           \n",
       "3D + time, 3D (SPIM/large volume), 3D large vol...                                                NaN                           \n",
       "3D (SPIM/large volume), 3D large volume + time                                                    NaN                           \n",
       "2D, 2D + time, 3D (SPIM/large volume), 3D large...                                                NaN                           \n",
       "2D, 2D + time, 3D + time, 3D large volume + time                                                  NaN                           \n",
       "2D + time, 3D (SPIM/large volume)                                                                 NaN                           \n",
       "2D, 3D + time, 3D large volume + time                                                             NaN                           \n",
       "2D + time, 3D (<3000x3000x100), 3D large volume...                                                NaN                           \n",
       "2D, 2D + time, 3D (<3000x3000x100), 3D large vo...                                                NaN                           \n",
       "2D + time, 3D (<3000x3000x100), 3D + time, 3D l...                                                NaN                           \n",
       "2D + time, 3D + time, 3D (SPIM/large volume), 3...                                                NaN                           \n",
       "2D, 2D + time, 3D large volume + time                                                             NaN                           \n",
       "2D, 3D (<3000x3000x100), 3D + time, 3D (SPIM/la...                                                NaN                           \n",
       "2D, 2D + time, 3D (SPIM/large volume)                                                             NaN                           \n",
       "2D + time, 3D large volume + time                                                                 NaN                           \n",
       "2D, 3D (SPIM/large volume)                                                                        NaN                           \n",
       "2D, 3D (<3000x3000x100), 3D large volume + time                                                   NaN                           \n",
       "2D, 3D (SPIM/large volume), 3D large volume + time                                                NaN                           \n",
       "2D, 3D large volume + time                                                                        NaN                           \n",
       "\n",
       "                                                    Types of images analyzed Brightfield/DIC/phase-contrast automated  \\\n",
       "2D                                                                                               46.0                   \n",
       "2D, 2D + time                                                                                    47.0                   \n",
       "2D + time                                                                                        32.0                   \n",
       "2D, 2D + time, 3D (<3000x3000x100), 3D + time                                                     7.0                   \n",
       "3D + time                                                                                         8.0                   \n",
       "3D (<3000x3000x100)                                                                               4.0                   \n",
       "2D, 3D (<3000x3000x100)                                                                           4.0                   \n",
       "3D large volume + time                                                                            3.0                   \n",
       "2D, 2D + time, 3D + time                                                                          4.0                   \n",
       "3D (<3000x3000x100), 3D + time                                                                    NaN                   \n",
       "2D, 2D + time, 3D (<3000x3000x100), 3D + time, ...                                                1.0                   \n",
       "2D, 2D + time, 3D (<3000x3000x100)                                                                1.0                   \n",
       "2D + time, 3D + time                                                                              4.0                   \n",
       "2D, 2D + time, 3D (<3000x3000x100), 3D + time, ...                                                1.0                   \n",
       "3D (<3000x3000x100), 3D + time, 3D (SPIM/large ...                                                1.0                   \n",
       "2D + time, 3D (<3000x3000x100)                                                                    1.0                   \n",
       "2D + time, 3D + time, 3D (SPIM/large volume)                                                      NaN                   \n",
       "2D + time, 3D (<3000x3000x100), 3D + time, 3D (...                                                NaN                   \n",
       "2D, 2D + time, 3D (<3000x3000x100), 3D + time, ...                                                1.0                   \n",
       "2D, 3D (<3000x3000x100), 3D + time, 3D large vo...                                                NaN                   \n",
       "2D + time, 3D (<3000x3000x100), 3D + time                                                         1.0                   \n",
       "2D, 3D + time                                                                                     NaN                   \n",
       "2D + time, 3D (<3000x3000x100), 3D + time, 3D (...                                                NaN                   \n",
       "3D (SPIM/large volume)                                                                            1.0                   \n",
       "2D, 3D (<3000x3000x100), 3D (SPIM/large volume)                                                   NaN                   \n",
       "3D (<3000x3000x100), 3D + time, 3D (SPIM/large ...                                                NaN                   \n",
       "2D, 3D (<3000x3000x100), 3D + time                                                                NaN                   \n",
       "3D (<3000x3000x100), 3D (SPIM/large volume)                                                       NaN                   \n",
       "2D, 2D + time, 3D (<3000x3000x100), 3D (SPIM/la...                                                NaN                   \n",
       "2D, 2D + time, 3D (<3000x3000x100), 3D (SPIM/la...                                                NaN                   \n",
       "3D + time, 3D large volume + time                                                                 NaN                   \n",
       "3D (<3000x3000x100), 3D + time, 3D large volume...                                                NaN                   \n",
       "3D + time, 3D (SPIM/large volume)                                                                 NaN                   \n",
       "3D (<3000x3000x100), 3D large volume + time                                                       NaN                   \n",
       "3D + time, 3D (SPIM/large volume), 3D large vol...                                                NaN                   \n",
       "3D (SPIM/large volume), 3D large volume + time                                                    NaN                   \n",
       "2D, 2D + time, 3D (SPIM/large volume), 3D large...                                                NaN                   \n",
       "2D, 2D + time, 3D + time, 3D large volume + time                                                  NaN                   \n",
       "2D + time, 3D (SPIM/large volume)                                                                 NaN                   \n",
       "2D, 3D + time, 3D large volume + time                                                             NaN                   \n",
       "2D + time, 3D (<3000x3000x100), 3D large volume...                                                NaN                   \n",
       "2D, 2D + time, 3D (<3000x3000x100), 3D large vo...                                                NaN                   \n",
       "2D + time, 3D (<3000x3000x100), 3D + time, 3D l...                                                NaN                   \n",
       "2D + time, 3D + time, 3D (SPIM/large volume), 3...                                                NaN                   \n",
       "2D, 2D + time, 3D large volume + time                                                             NaN                   \n",
       "2D, 3D (<3000x3000x100), 3D + time, 3D (SPIM/la...                                                NaN                   \n",
       "2D, 2D + time, 3D (SPIM/large volume)                                                             NaN                   \n",
       "2D + time, 3D large volume + time                                                                 NaN                   \n",
       "2D, 3D (SPIM/large volume)                                                                        NaN                   \n",
       "2D, 3D (<3000x3000x100), 3D large volume + time                                                   NaN                   \n",
       "2D, 3D (SPIM/large volume), 3D large volume + time                                                NaN                   \n",
       "2D, 3D large volume + time                                                                        NaN                   \n",
       "\n",
       "                                                    Types of images analyzed-Fluorescent images manually acquired  \\\n",
       "2D                                                                                               51.0               \n",
       "2D, 2D + time                                                                                    23.0               \n",
       "2D + time                                                                                        17.0               \n",
       "2D, 2D + time, 3D (<3000x3000x100), 3D + time                                                    44.0               \n",
       "3D + time                                                                                        28.0               \n",
       "3D (<3000x3000x100)                                                                              25.0               \n",
       "2D, 3D (<3000x3000x100)                                                                          34.0               \n",
       "3D large volume + time                                                                           10.0               \n",
       "2D, 2D + time, 3D + time                                                                          8.0               \n",
       "3D (<3000x3000x100), 3D + time                                                                   14.0               \n",
       "2D, 2D + time, 3D (<3000x3000x100), 3D + time, ...                                               27.0               \n",
       "2D, 2D + time, 3D (<3000x3000x100)                                                               29.0               \n",
       "2D + time, 3D + time                                                                              7.0               \n",
       "2D, 2D + time, 3D (<3000x3000x100), 3D + time, ...                                                5.0               \n",
       "3D (<3000x3000x100), 3D + time, 3D (SPIM/large ...                                                6.0               \n",
       "2D + time, 3D (<3000x3000x100)                                                                    7.0               \n",
       "2D + time, 3D + time, 3D (SPIM/large volume)                                                      1.0               \n",
       "2D + time, 3D (<3000x3000x100), 3D + time, 3D (...                                                2.0               \n",
       "2D, 2D + time, 3D (<3000x3000x100), 3D + time, ...                                               11.0               \n",
       "2D, 3D (<3000x3000x100), 3D + time, 3D large vo...                                                1.0               \n",
       "2D + time, 3D (<3000x3000x100), 3D + time                                                         6.0               \n",
       "2D, 3D + time                                                                                     2.0               \n",
       "2D + time, 3D (<3000x3000x100), 3D + time, 3D (...                                                1.0               \n",
       "3D (SPIM/large volume)                                                                            3.0               \n",
       "2D, 3D (<3000x3000x100), 3D (SPIM/large volume)                                                   5.0               \n",
       "3D (<3000x3000x100), 3D + time, 3D (SPIM/large ...                                                5.0               \n",
       "2D, 3D (<3000x3000x100), 3D + time                                                                4.0               \n",
       "3D (<3000x3000x100), 3D (SPIM/large volume)                                                       3.0               \n",
       "2D, 2D + time, 3D (<3000x3000x100), 3D (SPIM/la...                                                2.0               \n",
       "2D, 2D + time, 3D (<3000x3000x100), 3D (SPIM/la...                                                2.0               \n",
       "3D + time, 3D large volume + time                                                                 2.0               \n",
       "3D (<3000x3000x100), 3D + time, 3D large volume...                                                2.0               \n",
       "3D + time, 3D (SPIM/large volume)                                                                 2.0               \n",
       "3D (<3000x3000x100), 3D large volume + time                                                       2.0               \n",
       "3D + time, 3D (SPIM/large volume), 3D large vol...                                                2.0               \n",
       "3D (SPIM/large volume), 3D large volume + time                                                    2.0               \n",
       "2D, 2D + time, 3D (SPIM/large volume), 3D large...                                                1.0               \n",
       "2D, 2D + time, 3D + time, 3D large volume + time                                                  1.0               \n",
       "2D + time, 3D (SPIM/large volume)                                                                 1.0               \n",
       "2D, 3D + time, 3D large volume + time                                                             1.0               \n",
       "2D + time, 3D (<3000x3000x100), 3D large volume...                                                1.0               \n",
       "2D, 2D + time, 3D (<3000x3000x100), 3D large vo...                                                1.0               \n",
       "2D + time, 3D (<3000x3000x100), 3D + time, 3D l...                                                1.0               \n",
       "2D + time, 3D + time, 3D (SPIM/large volume), 3...                                                1.0               \n",
       "2D, 2D + time, 3D large volume + time                                                             1.0               \n",
       "2D, 3D (<3000x3000x100), 3D + time, 3D (SPIM/la...                                                1.0               \n",
       "2D, 2D + time, 3D (SPIM/large volume)                                                             NaN               \n",
       "2D + time, 3D large volume + time                                                                 NaN               \n",
       "2D, 3D (SPIM/large volume)                                                                        NaN               \n",
       "2D, 3D (<3000x3000x100), 3D large volume + time                                                   NaN               \n",
       "2D, 3D (SPIM/large volume), 3D large volume + time                                                NaN               \n",
       "2D, 3D large volume + time                                                                        NaN               \n",
       "\n",
       "                                                    Types of images analyzed automated  \\\n",
       "2D                                                                                48.0   \n",
       "2D, 2D + time                                                                     23.0   \n",
       "2D + time                                                                         15.0   \n",
       "2D, 2D + time, 3D (<3000x3000x100), 3D + time                                     25.0   \n",
       "3D + time                                                                         15.0   \n",
       "3D (<3000x3000x100)                                                               10.0   \n",
       "2D, 3D (<3000x3000x100)                                                           10.0   \n",
       "3D large volume + time                                                             6.0   \n",
       "2D, 2D + time, 3D + time                                                           6.0   \n",
       "3D (<3000x3000x100), 3D + time                                                     6.0   \n",
       "2D, 2D + time, 3D (<3000x3000x100), 3D + time, ...                                13.0   \n",
       "2D, 2D + time, 3D (<3000x3000x100)                                                11.0   \n",
       "2D + time, 3D + time                                                               8.0   \n",
       "2D, 2D + time, 3D (<3000x3000x100), 3D + time, ...                                 3.0   \n",
       "3D (<3000x3000x100), 3D + time, 3D (SPIM/large ...                                 1.0   \n",
       "2D + time, 3D (<3000x3000x100)                                                     3.0   \n",
       "2D + time, 3D + time, 3D (SPIM/large volume)                                       NaN   \n",
       "2D + time, 3D (<3000x3000x100), 3D + time, 3D (...                                 NaN   \n",
       "2D, 2D + time, 3D (<3000x3000x100), 3D + time, ...                                 4.0   \n",
       "2D, 3D (<3000x3000x100), 3D + time, 3D large vo...                                 1.0   \n",
       "2D + time, 3D (<3000x3000x100), 3D + time                                          5.0   \n",
       "2D, 3D + time                                                                      2.0   \n",
       "2D + time, 3D (<3000x3000x100), 3D + time, 3D (...                                 NaN   \n",
       "3D (SPIM/large volume)                                                             4.0   \n",
       "2D, 3D (<3000x3000x100), 3D (SPIM/large volume)                                    6.0   \n",
       "3D (<3000x3000x100), 3D + time, 3D (SPIM/large ...                                 1.0   \n",
       "2D, 3D (<3000x3000x100), 3D + time                                                 3.0   \n",
       "3D (<3000x3000x100), 3D (SPIM/large volume)                                        NaN   \n",
       "2D, 2D + time, 3D (<3000x3000x100), 3D (SPIM/la...                                 NaN   \n",
       "2D, 2D + time, 3D (<3000x3000x100), 3D (SPIM/la...                                 NaN   \n",
       "3D + time, 3D large volume + time                                                  3.0   \n",
       "3D (<3000x3000x100), 3D + time, 3D large volume...                                 NaN   \n",
       "3D + time, 3D (SPIM/large volume)                                                  NaN   \n",
       "3D (<3000x3000x100), 3D large volume + time                                        2.0   \n",
       "3D + time, 3D (SPIM/large volume), 3D large vol...                                 1.0   \n",
       "3D (SPIM/large volume), 3D large volume + time                                     1.0   \n",
       "2D, 2D + time, 3D (SPIM/large volume), 3D large...                                 NaN   \n",
       "2D, 2D + time, 3D + time, 3D large volume + time                                   1.0   \n",
       "2D + time, 3D (SPIM/large volume)                                                  NaN   \n",
       "2D, 3D + time, 3D large volume + time                                              NaN   \n",
       "2D + time, 3D (<3000x3000x100), 3D large volume...                                 NaN   \n",
       "2D, 2D + time, 3D (<3000x3000x100), 3D large vo...                                 NaN   \n",
       "2D + time, 3D (<3000x3000x100), 3D + time, 3D l...                                 1.0   \n",
       "2D + time, 3D + time, 3D (SPIM/large volume), 3...                                 1.0   \n",
       "2D, 2D + time, 3D large volume + time                                              1.0   \n",
       "2D, 3D (<3000x3000x100), 3D + time, 3D (SPIM/la...                                 NaN   \n",
       "2D, 2D + time, 3D (SPIM/large volume)                                              1.0   \n",
       "2D + time, 3D large volume + time                                                  1.0   \n",
       "2D, 3D (SPIM/large volume)                                                         NaN   \n",
       "2D, 3D (<3000x3000x100), 3D large volume + time                                    NaN   \n",
       "2D, 3D (SPIM/large volume), 3D large volume + time                                 NaN   \n",
       "2D, 3D large volume + time                                                         NaN   \n",
       "\n",
       "                                                    Types of images analyzed-Histological tissue sections  \\\n",
       "2D                                                                                              164.0       \n",
       "2D, 2D + time                                                                                     2.0       \n",
       "2D + time                                                                                         5.0       \n",
       "2D, 2D + time, 3D (<3000x3000x100), 3D + time                                                     1.0       \n",
       "3D + time                                                                                         5.0       \n",
       "3D (<3000x3000x100)                                                                               7.0       \n",
       "2D, 3D (<3000x3000x100)                                                                          18.0       \n",
       "3D large volume + time                                                                            NaN       \n",
       "2D, 2D + time, 3D + time                                                                          NaN       \n",
       "3D (<3000x3000x100), 3D + time                                                                    NaN       \n",
       "2D, 2D + time, 3D (<3000x3000x100), 3D + time, ...                                                1.0       \n",
       "2D, 2D + time, 3D (<3000x3000x100)                                                                2.0       \n",
       "2D + time, 3D + time                                                                              1.0       \n",
       "2D, 2D + time, 3D (<3000x3000x100), 3D + time, ...                                                NaN       \n",
       "3D (<3000x3000x100), 3D + time, 3D (SPIM/large ...                                                NaN       \n",
       "2D + time, 3D (<3000x3000x100)                                                                    3.0       \n",
       "2D + time, 3D + time, 3D (SPIM/large volume)                                                      NaN       \n",
       "2D + time, 3D (<3000x3000x100), 3D + time, 3D (...                                                NaN       \n",
       "2D, 2D + time, 3D (<3000x3000x100), 3D + time, ...                                                NaN       \n",
       "2D, 3D (<3000x3000x100), 3D + time, 3D large vo...                                                NaN       \n",
       "2D + time, 3D (<3000x3000x100), 3D + time                                                         NaN       \n",
       "2D, 3D + time                                                                                     1.0       \n",
       "2D + time, 3D (<3000x3000x100), 3D + time, 3D (...                                                NaN       \n",
       "3D (SPIM/large volume)                                                                            5.0       \n",
       "2D, 3D (<3000x3000x100), 3D (SPIM/large volume)                                                   NaN       \n",
       "3D (<3000x3000x100), 3D + time, 3D (SPIM/large ...                                                NaN       \n",
       "2D, 3D (<3000x3000x100), 3D + time                                                                NaN       \n",
       "3D (<3000x3000x100), 3D (SPIM/large volume)                                                       NaN       \n",
       "2D, 2D + time, 3D (<3000x3000x100), 3D (SPIM/la...                                                NaN       \n",
       "2D, 2D + time, 3D (<3000x3000x100), 3D (SPIM/la...                                                NaN       \n",
       "3D + time, 3D large volume + time                                                                 NaN       \n",
       "3D (<3000x3000x100), 3D + time, 3D large volume...                                                NaN       \n",
       "3D + time, 3D (SPIM/large volume)                                                                 NaN       \n",
       "3D (<3000x3000x100), 3D large volume + time                                                       NaN       \n",
       "3D + time, 3D (SPIM/large volume), 3D large vol...                                                NaN       \n",
       "3D (SPIM/large volume), 3D large volume + time                                                    NaN       \n",
       "2D, 2D + time, 3D (SPIM/large volume), 3D large...                                                NaN       \n",
       "2D, 2D + time, 3D + time, 3D large volume + time                                                  NaN       \n",
       "2D + time, 3D (SPIM/large volume)                                                                 NaN       \n",
       "2D, 3D + time, 3D large volume + time                                                             NaN       \n",
       "2D + time, 3D (<3000x3000x100), 3D large volume...                                                NaN       \n",
       "2D, 2D + time, 3D (<3000x3000x100), 3D large vo...                                                NaN       \n",
       "2D + time, 3D (<3000x3000x100), 3D + time, 3D l...                                                NaN       \n",
       "2D + time, 3D + time, 3D (SPIM/large volume), 3...                                                NaN       \n",
       "2D, 2D + time, 3D large volume + time                                                             NaN       \n",
       "2D, 3D (<3000x3000x100), 3D + time, 3D (SPIM/la...                                                NaN       \n",
       "2D, 2D + time, 3D (SPIM/large volume)                                                             NaN       \n",
       "2D + time, 3D large volume + time                                                                 1.0       \n",
       "2D, 3D (SPIM/large volume)                                                                        4.0       \n",
       "2D, 3D (<3000x3000x100), 3D large volume + time                                                   1.0       \n",
       "2D, 3D (SPIM/large volume), 3D large volume + time                                                1.0       \n",
       "2D, 3D large volume + time                                                                        NaN       \n",
       "\n",
       "                                                    Types of images analyzed-Electro microscopy  \\\n",
       "2D                                                                                         70.0   \n",
       "2D, 2D + time                                                                               NaN   \n",
       "2D + time                                                                                   1.0   \n",
       "2D, 2D + time, 3D (<3000x3000x100), 3D + time                                               NaN   \n",
       "3D + time                                                                                   1.0   \n",
       "3D (<3000x3000x100)                                                                         5.0   \n",
       "2D, 3D (<3000x3000x100)                                                                    18.0   \n",
       "3D large volume + time                                                                      3.0   \n",
       "2D, 2D + time, 3D + time                                                                    NaN   \n",
       "3D (<3000x3000x100), 3D + time                                                              NaN   \n",
       "2D, 2D + time, 3D (<3000x3000x100), 3D + time, ...                                          6.0   \n",
       "2D, 2D + time, 3D (<3000x3000x100)                                                          NaN   \n",
       "2D + time, 3D + time                                                                        1.0   \n",
       "2D, 2D + time, 3D (<3000x3000x100), 3D + time, ...                                          NaN   \n",
       "3D (<3000x3000x100), 3D + time, 3D (SPIM/large ...                                          NaN   \n",
       "2D + time, 3D (<3000x3000x100)                                                              NaN   \n",
       "2D + time, 3D + time, 3D (SPIM/large volume)                                                NaN   \n",
       "2D + time, 3D (<3000x3000x100), 3D + time, 3D (...                                          NaN   \n",
       "2D, 2D + time, 3D (<3000x3000x100), 3D + time, ...                                          NaN   \n",
       "2D, 3D (<3000x3000x100), 3D + time, 3D large vo...                                          1.0   \n",
       "2D + time, 3D (<3000x3000x100), 3D + time                                                   NaN   \n",
       "2D, 3D + time                                                                               NaN   \n",
       "2D + time, 3D (<3000x3000x100), 3D + time, 3D (...                                          NaN   \n",
       "3D (SPIM/large volume)                                                                      9.0   \n",
       "2D, 3D (<3000x3000x100), 3D (SPIM/large volume)                                            10.0   \n",
       "3D (<3000x3000x100), 3D + time, 3D (SPIM/large ...                                          1.0   \n",
       "2D, 3D (<3000x3000x100), 3D + time                                                          NaN   \n",
       "3D (<3000x3000x100), 3D (SPIM/large volume)                                                 1.0   \n",
       "2D, 2D + time, 3D (<3000x3000x100), 3D (SPIM/la...                                          NaN   \n",
       "2D, 2D + time, 3D (<3000x3000x100), 3D (SPIM/la...                                          NaN   \n",
       "3D + time, 3D large volume + time                                                           NaN   \n",
       "3D (<3000x3000x100), 3D + time, 3D large volume...                                          NaN   \n",
       "3D + time, 3D (SPIM/large volume)                                                           NaN   \n",
       "3D (<3000x3000x100), 3D large volume + time                                                 1.0   \n",
       "3D + time, 3D (SPIM/large volume), 3D large vol...                                          NaN   \n",
       "3D (SPIM/large volume), 3D large volume + time                                              NaN   \n",
       "2D, 2D + time, 3D (SPIM/large volume), 3D large...                                          NaN   \n",
       "2D, 2D + time, 3D + time, 3D large volume + time                                            NaN   \n",
       "2D + time, 3D (SPIM/large volume)                                                           NaN   \n",
       "2D, 3D + time, 3D large volume + time                                                       NaN   \n",
       "2D + time, 3D (<3000x3000x100), 3D large volume...                                          NaN   \n",
       "2D, 2D + time, 3D (<3000x3000x100), 3D large vo...                                          NaN   \n",
       "2D + time, 3D (<3000x3000x100), 3D + time, 3D l...                                          NaN   \n",
       "2D + time, 3D + time, 3D (SPIM/large volume), 3...                                          NaN   \n",
       "2D, 2D + time, 3D large volume + time                                                       NaN   \n",
       "2D, 3D (<3000x3000x100), 3D + time, 3D (SPIM/la...                                          NaN   \n",
       "2D, 2D + time, 3D (SPIM/large volume)                                                       NaN   \n",
       "2D + time, 3D large volume + time                                                           NaN   \n",
       "2D, 3D (SPIM/large volume)                                                                  1.0   \n",
       "2D, 3D (<3000x3000x100), 3D large volume + time                                             3.0   \n",
       "2D, 3D (SPIM/large volume), 3D large volume + time                                          NaN   \n",
       "2D, 3D large volume + time                                                                  1.0   \n",
       "\n",
       "                                                    Types of images analyzed-Imaging mass spectrometry  \\\n",
       "2D                                                                                               24.0    \n",
       "2D, 2D + time                                                                                     NaN    \n",
       "2D + time                                                                                         1.0    \n",
       "2D, 2D + time, 3D (<3000x3000x100), 3D + time                                                     NaN    \n",
       "3D + time                                                                                         1.0    \n",
       "3D (<3000x3000x100)                                                                               2.0    \n",
       "2D, 3D (<3000x3000x100)                                                                           2.0    \n",
       "3D large volume + time                                                                            1.0    \n",
       "2D, 2D + time, 3D + time                                                                          NaN    \n",
       "3D (<3000x3000x100), 3D + time                                                                    NaN    \n",
       "2D, 2D + time, 3D (<3000x3000x100), 3D + time, ...                                                NaN    \n",
       "2D, 2D + time, 3D (<3000x3000x100)                                                                NaN    \n",
       "2D + time, 3D + time                                                                              NaN    \n",
       "2D, 2D + time, 3D (<3000x3000x100), 3D + time, ...                                                NaN    \n",
       "3D (<3000x3000x100), 3D + time, 3D (SPIM/large ...                                                NaN    \n",
       "2D + time, 3D (<3000x3000x100)                                                                    NaN    \n",
       "2D + time, 3D + time, 3D (SPIM/large volume)                                                      NaN    \n",
       "2D + time, 3D (<3000x3000x100), 3D + time, 3D (...                                                NaN    \n",
       "2D, 2D + time, 3D (<3000x3000x100), 3D + time, ...                                                NaN    \n",
       "2D, 3D (<3000x3000x100), 3D + time, 3D large vo...                                                NaN    \n",
       "2D + time, 3D (<3000x3000x100), 3D + time                                                         NaN    \n",
       "2D, 3D + time                                                                                     1.0    \n",
       "2D + time, 3D (<3000x3000x100), 3D + time, 3D (...                                                NaN    \n",
       "3D (SPIM/large volume)                                                                            NaN    \n",
       "2D, 3D (<3000x3000x100), 3D (SPIM/large volume)                                                   NaN    \n",
       "3D (<3000x3000x100), 3D + time, 3D (SPIM/large ...                                                NaN    \n",
       "2D, 3D (<3000x3000x100), 3D + time                                                                NaN    \n",
       "3D (<3000x3000x100), 3D (SPIM/large volume)                                                       NaN    \n",
       "2D, 2D + time, 3D (<3000x3000x100), 3D (SPIM/la...                                                NaN    \n",
       "2D, 2D + time, 3D (<3000x3000x100), 3D (SPIM/la...                                                NaN    \n",
       "3D + time, 3D large volume + time                                                                 NaN    \n",
       "3D (<3000x3000x100), 3D + time, 3D large volume...                                                NaN    \n",
       "3D + time, 3D (SPIM/large volume)                                                                 NaN    \n",
       "3D (<3000x3000x100), 3D large volume + time                                                       NaN    \n",
       "3D + time, 3D (SPIM/large volume), 3D large vol...                                                NaN    \n",
       "3D (SPIM/large volume), 3D large volume + time                                                    NaN    \n",
       "2D, 2D + time, 3D (SPIM/large volume), 3D large...                                                NaN    \n",
       "2D, 2D + time, 3D + time, 3D large volume + time                                                  NaN    \n",
       "2D + time, 3D (SPIM/large volume)                                                                 NaN    \n",
       "2D, 3D + time, 3D large volume + time                                                             NaN    \n",
       "2D + time, 3D (<3000x3000x100), 3D large volume...                                                NaN    \n",
       "2D, 2D + time, 3D (<3000x3000x100), 3D large vo...                                                NaN    \n",
       "2D + time, 3D (<3000x3000x100), 3D + time, 3D l...                                                NaN    \n",
       "2D + time, 3D + time, 3D (SPIM/large volume), 3...                                                NaN    \n",
       "2D, 2D + time, 3D large volume + time                                                             NaN    \n",
       "2D, 3D (<3000x3000x100), 3D + time, 3D (SPIM/la...                                                NaN    \n",
       "2D, 2D + time, 3D (SPIM/large volume)                                                             NaN    \n",
       "2D + time, 3D large volume + time                                                                 NaN    \n",
       "2D, 3D (SPIM/large volume)                                                                        NaN    \n",
       "2D, 3D (<3000x3000x100), 3D large volume + time                                                   NaN    \n",
       "2D, 3D (SPIM/large volume), 3D large volume + time                                                NaN    \n",
       "2D, 3D large volume + time                                                                        NaN    \n",
       "\n",
       "                                                    Types of images analyzed-Imaging flow cytometry  \\\n",
       "2D                                                                                             19.0   \n",
       "2D, 2D + time                                                                                   1.0   \n",
       "2D + time                                                                                       2.0   \n",
       "2D, 2D + time, 3D (<3000x3000x100), 3D + time                                                   NaN   \n",
       "3D + time                                                                                       2.0   \n",
       "3D (<3000x3000x100)                                                                             3.0   \n",
       "2D, 3D (<3000x3000x100)                                                                         NaN   \n",
       "3D large volume + time                                                                          1.0   \n",
       "2D, 2D + time, 3D + time                                                                        1.0   \n",
       "3D (<3000x3000x100), 3D + time                                                                  NaN   \n",
       "2D, 2D + time, 3D (<3000x3000x100), 3D + time, ...                                              NaN   \n",
       "2D, 2D + time, 3D (<3000x3000x100)                                                              NaN   \n",
       "2D + time, 3D + time                                                                            NaN   \n",
       "2D, 2D + time, 3D (<3000x3000x100), 3D + time, ...                                              NaN   \n",
       "3D (<3000x3000x100), 3D + time, 3D (SPIM/large ...                                              NaN   \n",
       "2D + time, 3D (<3000x3000x100)                                                                  NaN   \n",
       "2D + time, 3D + time, 3D (SPIM/large volume)                                                    NaN   \n",
       "2D + time, 3D (<3000x3000x100), 3D + time, 3D (...                                              NaN   \n",
       "2D, 2D + time, 3D (<3000x3000x100), 3D + time, ...                                              NaN   \n",
       "2D, 3D (<3000x3000x100), 3D + time, 3D large vo...                                              NaN   \n",
       "2D + time, 3D (<3000x3000x100), 3D + time                                                       NaN   \n",
       "2D, 3D + time                                                                                   NaN   \n",
       "2D + time, 3D (<3000x3000x100), 3D + time, 3D (...                                              NaN   \n",
       "3D (SPIM/large volume)                                                                          NaN   \n",
       "2D, 3D (<3000x3000x100), 3D (SPIM/large volume)                                                 NaN   \n",
       "3D (<3000x3000x100), 3D + time, 3D (SPIM/large ...                                              NaN   \n",
       "2D, 3D (<3000x3000x100), 3D + time                                                              NaN   \n",
       "3D (<3000x3000x100), 3D (SPIM/large volume)                                                     NaN   \n",
       "2D, 2D + time, 3D (<3000x3000x100), 3D (SPIM/la...                                              NaN   \n",
       "2D, 2D + time, 3D (<3000x3000x100), 3D (SPIM/la...                                              NaN   \n",
       "3D + time, 3D large volume + time                                                               NaN   \n",
       "3D (<3000x3000x100), 3D + time, 3D large volume...                                              NaN   \n",
       "3D + time, 3D (SPIM/large volume)                                                               NaN   \n",
       "3D (<3000x3000x100), 3D large volume + time                                                     NaN   \n",
       "3D + time, 3D (SPIM/large volume), 3D large vol...                                              NaN   \n",
       "3D (SPIM/large volume), 3D large volume + time                                                  1.0   \n",
       "2D, 2D + time, 3D (SPIM/large volume), 3D large...                                              NaN   \n",
       "2D, 2D + time, 3D + time, 3D large volume + time                                                NaN   \n",
       "2D + time, 3D (SPIM/large volume)                                                               NaN   \n",
       "2D, 3D + time, 3D large volume + time                                                           NaN   \n",
       "2D + time, 3D (<3000x3000x100), 3D large volume...                                              NaN   \n",
       "2D, 2D + time, 3D (<3000x3000x100), 3D large vo...                                              NaN   \n",
       "2D + time, 3D (<3000x3000x100), 3D + time, 3D l...                                              NaN   \n",
       "2D + time, 3D + time, 3D (SPIM/large volume), 3...                                              NaN   \n",
       "2D, 2D + time, 3D large volume + time                                                           NaN   \n",
       "2D, 3D (<3000x3000x100), 3D + time, 3D (SPIM/la...                                              NaN   \n",
       "2D, 2D + time, 3D (SPIM/large volume)                                                           NaN   \n",
       "2D + time, 3D large volume + time                                                               NaN   \n",
       "2D, 3D (SPIM/large volume)                                                                      NaN   \n",
       "2D, 3D (<3000x3000x100), 3D large volume + time                                                 NaN   \n",
       "2D, 3D (SPIM/large volume), 3D large volume + time                                              NaN   \n",
       "2D, 3D large volume + time                                                                      NaN   \n",
       "\n",
       "                                                    Types of images analyzed-Superresolution (PALM/STORM)  \\\n",
       "2D                                                                                               24.0       \n",
       "2D, 2D + time                                                                                     8.0       \n",
       "2D + time                                                                                         8.0       \n",
       "2D, 2D + time, 3D (<3000x3000x100), 3D + time                                                     9.0       \n",
       "3D + time                                                                                         3.0       \n",
       "3D (<3000x3000x100)                                                                               9.0       \n",
       "2D, 3D (<3000x3000x100)                                                                          20.0       \n",
       "3D large volume + time                                                                            2.0       \n",
       "2D, 2D + time, 3D + time                                                                          3.0       \n",
       "3D (<3000x3000x100), 3D + time                                                                    1.0       \n",
       "2D, 2D + time, 3D (<3000x3000x100), 3D + time, ...                                                8.0       \n",
       "2D, 2D + time, 3D (<3000x3000x100)                                                                2.0       \n",
       "2D + time, 3D + time                                                                              2.0       \n",
       "2D, 2D + time, 3D (<3000x3000x100), 3D + time, ...                                                NaN       \n",
       "3D (<3000x3000x100), 3D + time, 3D (SPIM/large ...                                                NaN       \n",
       "2D + time, 3D (<3000x3000x100)                                                                    1.0       \n",
       "2D + time, 3D + time, 3D (SPIM/large volume)                                                      NaN       \n",
       "2D + time, 3D (<3000x3000x100), 3D + time, 3D (...                                                NaN       \n",
       "2D, 2D + time, 3D (<3000x3000x100), 3D + time, ...                                                NaN       \n",
       "2D, 3D (<3000x3000x100), 3D + time, 3D large vo...                                                NaN       \n",
       "2D + time, 3D (<3000x3000x100), 3D + time                                                         1.0       \n",
       "2D, 3D + time                                                                                     NaN       \n",
       "2D + time, 3D (<3000x3000x100), 3D + time, 3D (...                                                NaN       \n",
       "3D (SPIM/large volume)                                                                            1.0       \n",
       "2D, 3D (<3000x3000x100), 3D (SPIM/large volume)                                                   1.0       \n",
       "3D (<3000x3000x100), 3D + time, 3D (SPIM/large ...                                                NaN       \n",
       "2D, 3D (<3000x3000x100), 3D + time                                                                NaN       \n",
       "3D (<3000x3000x100), 3D (SPIM/large volume)                                                       NaN       \n",
       "2D, 2D + time, 3D (<3000x3000x100), 3D (SPIM/la...                                                NaN       \n",
       "2D, 2D + time, 3D (<3000x3000x100), 3D (SPIM/la...                                                NaN       \n",
       "3D + time, 3D large volume + time                                                                 NaN       \n",
       "3D (<3000x3000x100), 3D + time, 3D large volume...                                                NaN       \n",
       "3D + time, 3D (SPIM/large volume)                                                                 NaN       \n",
       "3D (<3000x3000x100), 3D large volume + time                                                       NaN       \n",
       "3D + time, 3D (SPIM/large volume), 3D large vol...                                                NaN       \n",
       "3D (SPIM/large volume), 3D large volume + time                                                    NaN       \n",
       "2D, 2D + time, 3D (SPIM/large volume), 3D large...                                                NaN       \n",
       "2D, 2D + time, 3D + time, 3D large volume + time                                                  NaN       \n",
       "2D + time, 3D (SPIM/large volume)                                                                 NaN       \n",
       "2D, 3D + time, 3D large volume + time                                                             NaN       \n",
       "2D + time, 3D (<3000x3000x100), 3D large volume...                                                NaN       \n",
       "2D, 2D + time, 3D (<3000x3000x100), 3D large vo...                                                NaN       \n",
       "2D + time, 3D (<3000x3000x100), 3D + time, 3D l...                                                NaN       \n",
       "2D + time, 3D + time, 3D (SPIM/large volume), 3...                                                NaN       \n",
       "2D, 2D + time, 3D large volume + time                                                             NaN       \n",
       "2D, 3D (<3000x3000x100), 3D + time, 3D (SPIM/la...                                                NaN       \n",
       "2D, 2D + time, 3D (SPIM/large volume)                                                             NaN       \n",
       "2D + time, 3D large volume + time                                                                 NaN       \n",
       "2D, 3D (SPIM/large volume)                                                                        1.0       \n",
       "2D, 3D (<3000x3000x100), 3D large volume + time                                                   1.0       \n",
       "2D, 3D (SPIM/large volume), 3D large volume + time                                                NaN       \n",
       "2D, 3D large volume + time                                                                        NaN       \n",
       "\n",
       "                                                    Types of images analyzed-Autofluorescence imaging (ie FLIM)  \\\n",
       "2D                                                                                               18.0             \n",
       "2D, 2D + time                                                                                    10.0             \n",
       "2D + time                                                                                        11.0             \n",
       "2D, 2D + time, 3D (<3000x3000x100), 3D + time                                                     6.0             \n",
       "3D + time                                                                                         6.0             \n",
       "3D (<3000x3000x100)                                                                               4.0             \n",
       "2D, 3D (<3000x3000x100)                                                                           4.0             \n",
       "3D large volume + time                                                                            1.0             \n",
       "2D, 2D + time, 3D + time                                                                          3.0             \n",
       "3D (<3000x3000x100), 3D + time                                                                    NaN             \n",
       "2D, 2D + time, 3D (<3000x3000x100), 3D + time, ...                                                1.0             \n",
       "2D, 2D + time, 3D (<3000x3000x100)                                                                2.0             \n",
       "2D + time, 3D + time                                                                              1.0             \n",
       "2D, 2D + time, 3D (<3000x3000x100), 3D + time, ...                                                NaN             \n",
       "3D (<3000x3000x100), 3D + time, 3D (SPIM/large ...                                                NaN             \n",
       "2D + time, 3D (<3000x3000x100)                                                                    NaN             \n",
       "2D + time, 3D + time, 3D (SPIM/large volume)                                                      NaN             \n",
       "2D + time, 3D (<3000x3000x100), 3D + time, 3D (...                                                NaN             \n",
       "2D, 2D + time, 3D (<3000x3000x100), 3D + time, ...                                                NaN             \n",
       "2D, 3D (<3000x3000x100), 3D + time, 3D large vo...                                                NaN             \n",
       "2D + time, 3D (<3000x3000x100), 3D + time                                                         NaN             \n",
       "2D, 3D + time                                                                                     1.0             \n",
       "2D + time, 3D (<3000x3000x100), 3D + time, 3D (...                                                NaN             \n",
       "3D (SPIM/large volume)                                                                            NaN             \n",
       "2D, 3D (<3000x3000x100), 3D (SPIM/large volume)                                                   NaN             \n",
       "3D (<3000x3000x100), 3D + time, 3D (SPIM/large ...                                                NaN             \n",
       "2D, 3D (<3000x3000x100), 3D + time                                                                NaN             \n",
       "3D (<3000x3000x100), 3D (SPIM/large volume)                                                       NaN             \n",
       "2D, 2D + time, 3D (<3000x3000x100), 3D (SPIM/la...                                                NaN             \n",
       "2D, 2D + time, 3D (<3000x3000x100), 3D (SPIM/la...                                                NaN             \n",
       "3D + time, 3D large volume + time                                                                 NaN             \n",
       "3D (<3000x3000x100), 3D + time, 3D large volume...                                                NaN             \n",
       "3D + time, 3D (SPIM/large volume)                                                                 NaN             \n",
       "3D (<3000x3000x100), 3D large volume + time                                                       NaN             \n",
       "3D + time, 3D (SPIM/large volume), 3D large vol...                                                1.0             \n",
       "3D (SPIM/large volume), 3D large volume + time                                                    NaN             \n",
       "2D, 2D + time, 3D (SPIM/large volume), 3D large...                                                NaN             \n",
       "2D, 2D + time, 3D + time, 3D large volume + time                                                  NaN             \n",
       "2D + time, 3D (SPIM/large volume)                                                                 NaN             \n",
       "2D, 3D + time, 3D large volume + time                                                             NaN             \n",
       "2D + time, 3D (<3000x3000x100), 3D large volume...                                                NaN             \n",
       "2D, 2D + time, 3D (<3000x3000x100), 3D large vo...                                                NaN             \n",
       "2D + time, 3D (<3000x3000x100), 3D + time, 3D l...                                                NaN             \n",
       "2D + time, 3D + time, 3D (SPIM/large volume), 3...                                                NaN             \n",
       "2D, 2D + time, 3D large volume + time                                                             NaN             \n",
       "2D, 3D (<3000x3000x100), 3D + time, 3D (SPIM/la...                                                NaN             \n",
       "2D, 2D + time, 3D (SPIM/large volume)                                                             NaN             \n",
       "2D + time, 3D large volume + time                                                                 NaN             \n",
       "2D, 3D (SPIM/large volume)                                                                        NaN             \n",
       "2D, 3D (<3000x3000x100), 3D large volume + time                                                   NaN             \n",
       "2D, 3D (SPIM/large volume), 3D large volume + time                                                NaN             \n",
       "2D, 3D large volume + time                                                                        NaN             \n",
       "\n",
       "                                                    Types of images analyzed-Other  \\\n",
       "2D                                                                             5.0   \n",
       "2D, 2D + time                                                                  2.0   \n",
       "2D + time                                                                      2.0   \n",
       "2D, 2D + time, 3D (<3000x3000x100), 3D + time                                  3.0   \n",
       "3D + time                                                                      3.0   \n",
       "3D (<3000x3000x100)                                                            5.0   \n",
       "2D, 3D (<3000x3000x100)                                                        1.0   \n",
       "3D large volume + time                                                         1.0   \n",
       "2D, 2D + time, 3D + time                                                       NaN   \n",
       "3D (<3000x3000x100), 3D + time                                                 NaN   \n",
       "2D, 2D + time, 3D (<3000x3000x100), 3D + time, ...                             2.0   \n",
       "2D, 2D + time, 3D (<3000x3000x100)                                             2.0   \n",
       "2D + time, 3D + time                                                           1.0   \n",
       "2D, 2D + time, 3D (<3000x3000x100), 3D + time, ...                             1.0   \n",
       "3D (<3000x3000x100), 3D + time, 3D (SPIM/large ...                             NaN   \n",
       "2D + time, 3D (<3000x3000x100)                                                 NaN   \n",
       "2D + time, 3D + time, 3D (SPIM/large volume)                                   NaN   \n",
       "2D + time, 3D (<3000x3000x100), 3D + time, 3D (...                             NaN   \n",
       "2D, 2D + time, 3D (<3000x3000x100), 3D + time, ...                             NaN   \n",
       "2D, 3D (<3000x3000x100), 3D + time, 3D large vo...                             NaN   \n",
       "2D + time, 3D (<3000x3000x100), 3D + time                                      NaN   \n",
       "2D, 3D + time                                                                  1.0   \n",
       "2D + time, 3D (<3000x3000x100), 3D + time, 3D (...                             1.0   \n",
       "3D (SPIM/large volume)                                                         NaN   \n",
       "2D, 3D (<3000x3000x100), 3D (SPIM/large volume)                                2.0   \n",
       "3D (<3000x3000x100), 3D + time, 3D (SPIM/large ...                             1.0   \n",
       "2D, 3D (<3000x3000x100), 3D + time                                             1.0   \n",
       "3D (<3000x3000x100), 3D (SPIM/large volume)                                    2.0   \n",
       "2D, 2D + time, 3D (<3000x3000x100), 3D (SPIM/la...                             NaN   \n",
       "2D, 2D + time, 3D (<3000x3000x100), 3D (SPIM/la...                             NaN   \n",
       "3D + time, 3D large volume + time                                              1.0   \n",
       "3D (<3000x3000x100), 3D + time, 3D large volume...                             NaN   \n",
       "3D + time, 3D (SPIM/large volume)                                              NaN   \n",
       "3D (<3000x3000x100), 3D large volume + time                                    1.0   \n",
       "3D + time, 3D (SPIM/large volume), 3D large vol...                             NaN   \n",
       "3D (SPIM/large volume), 3D large volume + time                                 NaN   \n",
       "2D, 2D + time, 3D (SPIM/large volume), 3D large...                             NaN   \n",
       "2D, 2D + time, 3D + time, 3D large volume + time                               NaN   \n",
       "2D + time, 3D (SPIM/large volume)                                              NaN   \n",
       "2D, 3D + time, 3D large volume + time                                          NaN   \n",
       "2D + time, 3D (<3000x3000x100), 3D large volume...                             NaN   \n",
       "2D, 2D + time, 3D (<3000x3000x100), 3D large vo...                             NaN   \n",
       "2D + time, 3D (<3000x3000x100), 3D + time, 3D l...                             NaN   \n",
       "2D + time, 3D + time, 3D (SPIM/large volume), 3...                             NaN   \n",
       "2D, 2D + time, 3D large volume + time                                          NaN   \n",
       "2D, 3D (<3000x3000x100), 3D + time, 3D (SPIM/la...                             NaN   \n",
       "2D, 2D + time, 3D (SPIM/large volume)                                          NaN   \n",
       "2D + time, 3D large volume + time                                              NaN   \n",
       "2D, 3D (SPIM/large volume)                                                     NaN   \n",
       "2D, 3D (<3000x3000x100), 3D large volume + time                                NaN   \n",
       "2D, 3D (SPIM/large volume), 3D large volume + time                             NaN   \n",
       "2D, 3D large volume + time                                                     1.0   \n",
       "\n",
       "                                                                                      Types of images  \n",
       "2D                                                                                                 2D  \n",
       "2D, 2D + time                                                                           2D, 2D + time  \n",
       "2D + time                                                                                   2D + time  \n",
       "2D, 2D + time, 3D (<3000x3000x100), 3D + time           2D, 2D + time, 3D (<3000x3000x100), 3D + time  \n",
       "3D + time                                                                                   3D + time  \n",
       "3D (<3000x3000x100)                                                               3D (<3000x3000x100)  \n",
       "2D, 3D (<3000x3000x100)                                                       2D, 3D (<3000x3000x100)  \n",
       "3D large volume + time                                                         3D large volume + time  \n",
       "2D, 2D + time, 3D + time                                                     2D, 2D + time, 3D + time  \n",
       "3D (<3000x3000x100), 3D + time                                         3D (<3000x3000x100), 3D + time  \n",
       "2D, 2D + time, 3D (<3000x3000x100), 3D + time, ...  2D, 2D + time, 3D (<3000x3000x100), 3D + time,...  \n",
       "2D, 2D + time, 3D (<3000x3000x100)                                 2D, 2D + time, 3D (<3000x3000x100)  \n",
       "2D + time, 3D + time                                                             2D + time, 3D + time  \n",
       "2D, 2D + time, 3D (<3000x3000x100), 3D + time, ...  2D, 2D + time, 3D (<3000x3000x100), 3D + time,...  \n",
       "3D (<3000x3000x100), 3D + time, 3D (SPIM/large ...  3D (<3000x3000x100), 3D + time, 3D (SPIM/large...  \n",
       "2D + time, 3D (<3000x3000x100)                                         2D + time, 3D (<3000x3000x100)  \n",
       "2D + time, 3D + time, 3D (SPIM/large volume)             2D + time, 3D + time, 3D (SPIM/large volume)  \n",
       "2D + time, 3D (<3000x3000x100), 3D + time, 3D (...  2D + time, 3D (<3000x3000x100), 3D + time, 3D ...  \n",
       "2D, 2D + time, 3D (<3000x3000x100), 3D + time, ...  2D, 2D + time, 3D (<3000x3000x100), 3D + time,...  \n",
       "2D, 3D (<3000x3000x100), 3D + time, 3D large vo...  2D, 3D (<3000x3000x100), 3D + time, 3D large v...  \n",
       "2D + time, 3D (<3000x3000x100), 3D + time                   2D + time, 3D (<3000x3000x100), 3D + time  \n",
       "2D, 3D + time                                                                           2D, 3D + time  \n",
       "2D + time, 3D (<3000x3000x100), 3D + time, 3D (...  2D + time, 3D (<3000x3000x100), 3D + time, 3D ...  \n",
       "3D (SPIM/large volume)                                                         3D (SPIM/large volume)  \n",
       "2D, 3D (<3000x3000x100), 3D (SPIM/large volume)       2D, 3D (<3000x3000x100), 3D (SPIM/large volume)  \n",
       "3D (<3000x3000x100), 3D + time, 3D (SPIM/large ...  3D (<3000x3000x100), 3D + time, 3D (SPIM/large...  \n",
       "2D, 3D (<3000x3000x100), 3D + time                                 2D, 3D (<3000x3000x100), 3D + time  \n",
       "3D (<3000x3000x100), 3D (SPIM/large volume)               3D (<3000x3000x100), 3D (SPIM/large volume)  \n",
       "2D, 2D + time, 3D (<3000x3000x100), 3D (SPIM/la...  2D, 2D + time, 3D (<3000x3000x100), 3D (SPIM/l...  \n",
       "2D, 2D + time, 3D (<3000x3000x100), 3D (SPIM/la...  2D, 2D + time, 3D (<3000x3000x100), 3D (SPIM/l...  \n",
       "3D + time, 3D large volume + time                                   3D + time, 3D large volume + time  \n",
       "3D (<3000x3000x100), 3D + time, 3D large volume...  3D (<3000x3000x100), 3D + time, 3D large volum...  \n",
       "3D + time, 3D (SPIM/large volume)                                   3D + time, 3D (SPIM/large volume)  \n",
       "3D (<3000x3000x100), 3D large volume + time               3D (<3000x3000x100), 3D large volume + time  \n",
       "3D + time, 3D (SPIM/large volume), 3D large vol...  3D + time, 3D (SPIM/large volume), 3D large vo...  \n",
       "3D (SPIM/large volume), 3D large volume + time         3D (SPIM/large volume), 3D large volume + time  \n",
       "2D, 2D + time, 3D (SPIM/large volume), 3D large...  2D, 2D + time, 3D (SPIM/large volume), 3D larg...  \n",
       "2D, 2D + time, 3D + time, 3D large volume + time     2D, 2D + time, 3D + time, 3D large volume + time  \n",
       "2D + time, 3D (SPIM/large volume)                                   2D + time, 3D (SPIM/large volume)  \n",
       "2D, 3D + time, 3D large volume + time                           2D, 3D + time, 3D large volume + time  \n",
       "2D + time, 3D (<3000x3000x100), 3D large volume...  2D + time, 3D (<3000x3000x100), 3D large volum...  \n",
       "2D, 2D + time, 3D (<3000x3000x100), 3D large vo...  2D, 2D + time, 3D (<3000x3000x100), 3D large v...  \n",
       "2D + time, 3D (<3000x3000x100), 3D + time, 3D l...  2D + time, 3D (<3000x3000x100), 3D + time, 3D ...  \n",
       "2D + time, 3D + time, 3D (SPIM/large volume), 3...  2D + time, 3D + time, 3D (SPIM/large volume), ...  \n",
       "2D, 2D + time, 3D large volume + time                           2D, 2D + time, 3D large volume + time  \n",
       "2D, 3D (<3000x3000x100), 3D + time, 3D (SPIM/la...  2D, 3D (<3000x3000x100), 3D + time, 3D (SPIM/l...  \n",
       "2D, 2D + time, 3D (SPIM/large volume)                           2D, 2D + time, 3D (SPIM/large volume)  \n",
       "2D + time, 3D large volume + time                                   2D + time, 3D large volume + time  \n",
       "2D, 3D (SPIM/large volume)                                                 2D, 3D (SPIM/large volume)  \n",
       "2D, 3D (<3000x3000x100), 3D large volume + time       2D, 3D (<3000x3000x100), 3D large volume + time  \n",
       "2D, 3D (SPIM/large volume), 3D large volume + time  2D, 3D (SPIM/large volume), 3D large volume + ...  \n",
       "2D, 3D large volume + time                                                 2D, 3D large volume + time  "
      ]
     },
     "execution_count": 997,
     "metadata": {},
     "output_type": "execute_result"
    }
   ],
   "source": [
    "df_compiled"
   ]
  },
  {
   "cell_type": "code",
   "execution_count": 1010,
   "metadata": {},
   "outputs": [
    {
     "data": {
      "application/vnd.plotly.v1+json": {
       "config": {
        "plotlyServerURL": "https://plot.ly"
       },
       "data": [
        {
         "name": "Brightfield/DIC/phase-contrast manually acquired",
         "orientation": "h",
         "type": "bar",
         "x": [
          94,
          61,
          50,
          14,
          8,
          6,
          5,
          4,
          3,
          3,
          3,
          3,
          2,
          2,
          2,
          2,
          1,
          1,
          1,
          1,
          1,
          1,
          1,
          null,
          null,
          null,
          null,
          null,
          null,
          null,
          null,
          null,
          null,
          null,
          null,
          null,
          null,
          null,
          null,
          null,
          null,
          null,
          null,
          null,
          null,
          null,
          null,
          null,
          null,
          null,
          null,
          null
         ],
         "y": [
          "2D",
          "2D, 2D + time",
          "2D + time",
          "2D, 2D + time, 3D (<3000x3000x100), 3D + time",
          "3D + time",
          "3D (<3000x3000x100)",
          "2D, 3D (<3000x3000x100)",
          "3D large volume + time",
          "2D, 2D + time, 3D + time",
          "3D (<3000x3000x100), 3D + time",
          "2D, 2D + time, 3D (<3000x3000x100), 3D + time, 3D (SPIM/large volume), 3D large volume + time",
          "2D, 2D + time, 3D (<3000x3000x100)",
          "2D + time, 3D + time",
          "2D, 2D + time, 3D (<3000x3000x100), 3D + time, 3D large volume + time",
          "3D (<3000x3000x100), 3D + time, 3D (SPIM/large volume)",
          "2D + time, 3D (<3000x3000x100)",
          "2D + time, 3D + time, 3D (SPIM/large volume)",
          "2D + time, 3D (<3000x3000x100), 3D + time, 3D (SPIM/large volume)",
          "2D, 2D + time, 3D (<3000x3000x100), 3D + time, 3D (SPIM/large volume)",
          "2D, 3D (<3000x3000x100), 3D + time, 3D large volume + time",
          "2D + time, 3D (<3000x3000x100), 3D + time",
          "2D, 3D + time",
          "2D + time, 3D (<3000x3000x100), 3D + time, 3D (SPIM/large volume), 3D large volume + time",
          "3D (SPIM/large volume)",
          "2D, 3D (<3000x3000x100), 3D (SPIM/large volume)",
          "3D (<3000x3000x100), 3D + time, 3D (SPIM/large volume), 3D large volume + time",
          "2D, 3D (<3000x3000x100), 3D + time",
          "3D (<3000x3000x100), 3D (SPIM/large volume)",
          "2D, 2D + time, 3D (<3000x3000x100), 3D (SPIM/large volume)",
          "2D, 2D + time, 3D (<3000x3000x100), 3D (SPIM/large volume), 3D large volume + time",
          "3D + time, 3D large volume + time",
          "3D (<3000x3000x100), 3D + time, 3D large volume + time",
          "3D + time, 3D (SPIM/large volume)",
          "3D (<3000x3000x100), 3D large volume + time",
          "3D + time, 3D (SPIM/large volume), 3D large volume + time",
          "3D (SPIM/large volume), 3D large volume + time",
          "2D, 2D + time, 3D (SPIM/large volume), 3D large volume + time",
          "2D, 2D + time, 3D + time, 3D large volume + time",
          "2D + time, 3D (SPIM/large volume)",
          "2D, 3D + time, 3D large volume + time",
          "2D + time, 3D (<3000x3000x100), 3D large volume + time",
          "2D, 2D + time, 3D (<3000x3000x100), 3D large volume + time",
          "2D + time, 3D (<3000x3000x100), 3D + time, 3D large volume + time",
          "2D + time, 3D + time, 3D (SPIM/large volume), 3D large volume + time",
          "2D, 2D + time, 3D large volume + time",
          "2D, 3D (<3000x3000x100), 3D + time, 3D (SPIM/large volume), 3D large volume + time",
          "2D, 2D + time, 3D (SPIM/large volume)",
          "2D + time, 3D large volume + time",
          "2D, 3D (SPIM/large volume)",
          "2D, 3D (<3000x3000x100), 3D large volume + time",
          "2D, 3D (SPIM/large volume), 3D large volume + time",
          "2D, 3D large volume + time"
         ]
        },
        {
         "name": "Brightfield/DIC/phase-contrast automated",
         "orientation": "h",
         "type": "bar",
         "x": [
          46,
          47,
          32,
          7,
          8,
          4,
          4,
          3,
          4,
          null,
          1,
          1,
          4,
          1,
          1,
          1,
          null,
          null,
          1,
          null,
          1,
          null,
          null,
          1,
          null,
          null,
          null,
          null,
          null,
          null,
          null,
          null,
          null,
          null,
          null,
          null,
          null,
          null,
          null,
          null,
          null,
          null,
          null,
          null,
          null,
          null,
          null,
          null,
          null,
          null,
          null,
          null
         ],
         "y": [
          "2D",
          "2D, 2D + time",
          "2D + time",
          "2D, 2D + time, 3D (<3000x3000x100), 3D + time",
          "3D + time",
          "3D (<3000x3000x100)",
          "2D, 3D (<3000x3000x100)",
          "3D large volume + time",
          "2D, 2D + time, 3D + time",
          "3D (<3000x3000x100), 3D + time",
          "2D, 2D + time, 3D (<3000x3000x100), 3D + time, 3D (SPIM/large volume), 3D large volume + time",
          "2D, 2D + time, 3D (<3000x3000x100)",
          "2D + time, 3D + time",
          "2D, 2D + time, 3D (<3000x3000x100), 3D + time, 3D large volume + time",
          "3D (<3000x3000x100), 3D + time, 3D (SPIM/large volume)",
          "2D + time, 3D (<3000x3000x100)",
          "2D + time, 3D + time, 3D (SPIM/large volume)",
          "2D + time, 3D (<3000x3000x100), 3D + time, 3D (SPIM/large volume)",
          "2D, 2D + time, 3D (<3000x3000x100), 3D + time, 3D (SPIM/large volume)",
          "2D, 3D (<3000x3000x100), 3D + time, 3D large volume + time",
          "2D + time, 3D (<3000x3000x100), 3D + time",
          "2D, 3D + time",
          "2D + time, 3D (<3000x3000x100), 3D + time, 3D (SPIM/large volume), 3D large volume + time",
          "3D (SPIM/large volume)",
          "2D, 3D (<3000x3000x100), 3D (SPIM/large volume)",
          "3D (<3000x3000x100), 3D + time, 3D (SPIM/large volume), 3D large volume + time",
          "2D, 3D (<3000x3000x100), 3D + time",
          "3D (<3000x3000x100), 3D (SPIM/large volume)",
          "2D, 2D + time, 3D (<3000x3000x100), 3D (SPIM/large volume)",
          "2D, 2D + time, 3D (<3000x3000x100), 3D (SPIM/large volume), 3D large volume + time",
          "3D + time, 3D large volume + time",
          "3D (<3000x3000x100), 3D + time, 3D large volume + time",
          "3D + time, 3D (SPIM/large volume)",
          "3D (<3000x3000x100), 3D large volume + time",
          "3D + time, 3D (SPIM/large volume), 3D large volume + time",
          "3D (SPIM/large volume), 3D large volume + time",
          "2D, 2D + time, 3D (SPIM/large volume), 3D large volume + time",
          "2D, 2D + time, 3D + time, 3D large volume + time",
          "2D + time, 3D (SPIM/large volume)",
          "2D, 3D + time, 3D large volume + time",
          "2D + time, 3D (<3000x3000x100), 3D large volume + time",
          "2D, 2D + time, 3D (<3000x3000x100), 3D large volume + time",
          "2D + time, 3D (<3000x3000x100), 3D + time, 3D large volume + time",
          "2D + time, 3D + time, 3D (SPIM/large volume), 3D large volume + time",
          "2D, 2D + time, 3D large volume + time",
          "2D, 3D (<3000x3000x100), 3D + time, 3D (SPIM/large volume), 3D large volume + time",
          "2D, 2D + time, 3D (SPIM/large volume)",
          "2D + time, 3D large volume + time",
          "2D, 3D (SPIM/large volume)",
          "2D, 3D (<3000x3000x100), 3D large volume + time",
          "2D, 3D (SPIM/large volume), 3D large volume + time",
          "2D, 3D large volume + time"
         ]
        },
        {
         "name": "Fluorescent images-manually acquired",
         "orientation": "h",
         "type": "bar",
         "x": [
          51,
          23,
          17,
          44,
          28,
          25,
          34,
          10,
          8,
          14,
          27,
          29,
          7,
          5,
          6,
          7,
          1,
          2,
          11,
          1,
          6,
          2,
          1,
          3,
          5,
          5,
          4,
          3,
          2,
          2,
          2,
          2,
          2,
          2,
          2,
          2,
          1,
          1,
          1,
          1,
          1,
          1,
          1,
          1,
          1,
          1,
          null,
          null,
          null,
          null,
          null,
          null
         ],
         "y": [
          "2D",
          "2D, 2D + time",
          "2D + time",
          "2D, 2D + time, 3D (<3000x3000x100), 3D + time",
          "3D + time",
          "3D (<3000x3000x100)",
          "2D, 3D (<3000x3000x100)",
          "3D large volume + time",
          "2D, 2D + time, 3D + time",
          "3D (<3000x3000x100), 3D + time",
          "2D, 2D + time, 3D (<3000x3000x100), 3D + time, 3D (SPIM/large volume), 3D large volume + time",
          "2D, 2D + time, 3D (<3000x3000x100)",
          "2D + time, 3D + time",
          "2D, 2D + time, 3D (<3000x3000x100), 3D + time, 3D large volume + time",
          "3D (<3000x3000x100), 3D + time, 3D (SPIM/large volume)",
          "2D + time, 3D (<3000x3000x100)",
          "2D + time, 3D + time, 3D (SPIM/large volume)",
          "2D + time, 3D (<3000x3000x100), 3D + time, 3D (SPIM/large volume)",
          "2D, 2D + time, 3D (<3000x3000x100), 3D + time, 3D (SPIM/large volume)",
          "2D, 3D (<3000x3000x100), 3D + time, 3D large volume + time",
          "2D + time, 3D (<3000x3000x100), 3D + time",
          "2D, 3D + time",
          "2D + time, 3D (<3000x3000x100), 3D + time, 3D (SPIM/large volume), 3D large volume + time",
          "3D (SPIM/large volume)",
          "2D, 3D (<3000x3000x100), 3D (SPIM/large volume)",
          "3D (<3000x3000x100), 3D + time, 3D (SPIM/large volume), 3D large volume + time",
          "2D, 3D (<3000x3000x100), 3D + time",
          "3D (<3000x3000x100), 3D (SPIM/large volume)",
          "2D, 2D + time, 3D (<3000x3000x100), 3D (SPIM/large volume)",
          "2D, 2D + time, 3D (<3000x3000x100), 3D (SPIM/large volume), 3D large volume + time",
          "3D + time, 3D large volume + time",
          "3D (<3000x3000x100), 3D + time, 3D large volume + time",
          "3D + time, 3D (SPIM/large volume)",
          "3D (<3000x3000x100), 3D large volume + time",
          "3D + time, 3D (SPIM/large volume), 3D large volume + time",
          "3D (SPIM/large volume), 3D large volume + time",
          "2D, 2D + time, 3D (SPIM/large volume), 3D large volume + time",
          "2D, 2D + time, 3D + time, 3D large volume + time",
          "2D + time, 3D (SPIM/large volume)",
          "2D, 3D + time, 3D large volume + time",
          "2D + time, 3D (<3000x3000x100), 3D large volume + time",
          "2D, 2D + time, 3D (<3000x3000x100), 3D large volume + time",
          "2D + time, 3D (<3000x3000x100), 3D + time, 3D large volume + time",
          "2D + time, 3D + time, 3D (SPIM/large volume), 3D large volume + time",
          "2D, 2D + time, 3D large volume + time",
          "2D, 3D (<3000x3000x100), 3D + time, 3D (SPIM/large volume), 3D large volume + time",
          "2D, 2D + time, 3D (SPIM/large volume)",
          "2D + time, 3D large volume + time",
          "2D, 3D (SPIM/large volume)",
          "2D, 3D (<3000x3000x100), 3D large volume + time",
          "2D, 3D (SPIM/large volume), 3D large volume + time",
          "2D, 3D large volume + time"
         ]
        },
        {
         "name": "Fluorescent images-automated",
         "orientation": "h",
         "type": "bar",
         "x": [
          48,
          23,
          15,
          25,
          15,
          10,
          10,
          6,
          6,
          6,
          13,
          11,
          8,
          3,
          1,
          3,
          null,
          null,
          4,
          1,
          5,
          2,
          null,
          4,
          6,
          1,
          3,
          null,
          null,
          null,
          3,
          null,
          null,
          2,
          1,
          1,
          null,
          1,
          null,
          null,
          null,
          null,
          1,
          1,
          1,
          null,
          1,
          1,
          null,
          null,
          null,
          null
         ],
         "y": [
          "2D",
          "2D, 2D + time",
          "2D + time",
          "2D, 2D + time, 3D (<3000x3000x100), 3D + time",
          "3D + time",
          "3D (<3000x3000x100)",
          "2D, 3D (<3000x3000x100)",
          "3D large volume + time",
          "2D, 2D + time, 3D + time",
          "3D (<3000x3000x100), 3D + time",
          "2D, 2D + time, 3D (<3000x3000x100), 3D + time, 3D (SPIM/large volume), 3D large volume + time",
          "2D, 2D + time, 3D (<3000x3000x100)",
          "2D + time, 3D + time",
          "2D, 2D + time, 3D (<3000x3000x100), 3D + time, 3D large volume + time",
          "3D (<3000x3000x100), 3D + time, 3D (SPIM/large volume)",
          "2D + time, 3D (<3000x3000x100)",
          "2D + time, 3D + time, 3D (SPIM/large volume)",
          "2D + time, 3D (<3000x3000x100), 3D + time, 3D (SPIM/large volume)",
          "2D, 2D + time, 3D (<3000x3000x100), 3D + time, 3D (SPIM/large volume)",
          "2D, 3D (<3000x3000x100), 3D + time, 3D large volume + time",
          "2D + time, 3D (<3000x3000x100), 3D + time",
          "2D, 3D + time",
          "2D + time, 3D (<3000x3000x100), 3D + time, 3D (SPIM/large volume), 3D large volume + time",
          "3D (SPIM/large volume)",
          "2D, 3D (<3000x3000x100), 3D (SPIM/large volume)",
          "3D (<3000x3000x100), 3D + time, 3D (SPIM/large volume), 3D large volume + time",
          "2D, 3D (<3000x3000x100), 3D + time",
          "3D (<3000x3000x100), 3D (SPIM/large volume)",
          "2D, 2D + time, 3D (<3000x3000x100), 3D (SPIM/large volume)",
          "2D, 2D + time, 3D (<3000x3000x100), 3D (SPIM/large volume), 3D large volume + time",
          "3D + time, 3D large volume + time",
          "3D (<3000x3000x100), 3D + time, 3D large volume + time",
          "3D + time, 3D (SPIM/large volume)",
          "3D (<3000x3000x100), 3D large volume + time",
          "3D + time, 3D (SPIM/large volume), 3D large volume + time",
          "3D (SPIM/large volume), 3D large volume + time",
          "2D, 2D + time, 3D (SPIM/large volume), 3D large volume + time",
          "2D, 2D + time, 3D + time, 3D large volume + time",
          "2D + time, 3D (SPIM/large volume)",
          "2D, 3D + time, 3D large volume + time",
          "2D + time, 3D (<3000x3000x100), 3D large volume + time",
          "2D, 2D + time, 3D (<3000x3000x100), 3D large volume + time",
          "2D + time, 3D (<3000x3000x100), 3D + time, 3D large volume + time",
          "2D + time, 3D + time, 3D (SPIM/large volume), 3D large volume + time",
          "2D, 2D + time, 3D large volume + time",
          "2D, 3D (<3000x3000x100), 3D + time, 3D (SPIM/large volume), 3D large volume + time",
          "2D, 2D + time, 3D (SPIM/large volume)",
          "2D + time, 3D large volume + time",
          "2D, 3D (SPIM/large volume)",
          "2D, 3D (<3000x3000x100), 3D large volume + time",
          "2D, 3D (SPIM/large volume), 3D large volume + time",
          "2D, 3D large volume + time"
         ]
        },
        {
         "name": "Histological tissue sections",
         "orientation": "h",
         "type": "bar",
         "x": [
          164,
          2,
          5,
          1,
          5,
          7,
          18,
          null,
          null,
          null,
          1,
          2,
          1,
          null,
          null,
          3,
          null,
          null,
          null,
          null,
          null,
          1,
          null,
          5,
          null,
          null,
          null,
          null,
          null,
          null,
          null,
          null,
          null,
          null,
          null,
          null,
          null,
          null,
          null,
          null,
          null,
          null,
          null,
          null,
          null,
          null,
          null,
          1,
          4,
          1,
          1,
          null
         ],
         "y": [
          "2D",
          "2D, 2D + time",
          "2D + time",
          "2D, 2D + time, 3D (<3000x3000x100), 3D + time",
          "3D + time",
          "3D (<3000x3000x100)",
          "2D, 3D (<3000x3000x100)",
          "3D large volume + time",
          "2D, 2D + time, 3D + time",
          "3D (<3000x3000x100), 3D + time",
          "2D, 2D + time, 3D (<3000x3000x100), 3D + time, 3D (SPIM/large volume), 3D large volume + time",
          "2D, 2D + time, 3D (<3000x3000x100)",
          "2D + time, 3D + time",
          "2D, 2D + time, 3D (<3000x3000x100), 3D + time, 3D large volume + time",
          "3D (<3000x3000x100), 3D + time, 3D (SPIM/large volume)",
          "2D + time, 3D (<3000x3000x100)",
          "2D + time, 3D + time, 3D (SPIM/large volume)",
          "2D + time, 3D (<3000x3000x100), 3D + time, 3D (SPIM/large volume)",
          "2D, 2D + time, 3D (<3000x3000x100), 3D + time, 3D (SPIM/large volume)",
          "2D, 3D (<3000x3000x100), 3D + time, 3D large volume + time",
          "2D + time, 3D (<3000x3000x100), 3D + time",
          "2D, 3D + time",
          "2D + time, 3D (<3000x3000x100), 3D + time, 3D (SPIM/large volume), 3D large volume + time",
          "3D (SPIM/large volume)",
          "2D, 3D (<3000x3000x100), 3D (SPIM/large volume)",
          "3D (<3000x3000x100), 3D + time, 3D (SPIM/large volume), 3D large volume + time",
          "2D, 3D (<3000x3000x100), 3D + time",
          "3D (<3000x3000x100), 3D (SPIM/large volume)",
          "2D, 2D + time, 3D (<3000x3000x100), 3D (SPIM/large volume)",
          "2D, 2D + time, 3D (<3000x3000x100), 3D (SPIM/large volume), 3D large volume + time",
          "3D + time, 3D large volume + time",
          "3D (<3000x3000x100), 3D + time, 3D large volume + time",
          "3D + time, 3D (SPIM/large volume)",
          "3D (<3000x3000x100), 3D large volume + time",
          "3D + time, 3D (SPIM/large volume), 3D large volume + time",
          "3D (SPIM/large volume), 3D large volume + time",
          "2D, 2D + time, 3D (SPIM/large volume), 3D large volume + time",
          "2D, 2D + time, 3D + time, 3D large volume + time",
          "2D + time, 3D (SPIM/large volume)",
          "2D, 3D + time, 3D large volume + time",
          "2D + time, 3D (<3000x3000x100), 3D large volume + time",
          "2D, 2D + time, 3D (<3000x3000x100), 3D large volume + time",
          "2D + time, 3D (<3000x3000x100), 3D + time, 3D large volume + time",
          "2D + time, 3D + time, 3D (SPIM/large volume), 3D large volume + time",
          "2D, 2D + time, 3D large volume + time",
          "2D, 3D (<3000x3000x100), 3D + time, 3D (SPIM/large volume), 3D large volume + time",
          "2D, 2D + time, 3D (SPIM/large volume)",
          "2D + time, 3D large volume + time",
          "2D, 3D (SPIM/large volume)",
          "2D, 3D (<3000x3000x100), 3D large volume + time",
          "2D, 3D (SPIM/large volume), 3D large volume + time",
          "2D, 3D large volume + time"
         ]
        },
        {
         "name": "Electro microscopy",
         "orientation": "h",
         "type": "bar",
         "x": [
          70,
          null,
          1,
          null,
          1,
          5,
          18,
          3,
          null,
          null,
          6,
          null,
          1,
          null,
          null,
          null,
          null,
          null,
          null,
          1,
          null,
          null,
          null,
          9,
          10,
          1,
          null,
          1,
          null,
          null,
          null,
          null,
          null,
          1,
          null,
          null,
          null,
          null,
          null,
          null,
          null,
          null,
          null,
          null,
          null,
          null,
          null,
          null,
          1,
          3,
          null,
          1
         ],
         "y": [
          "2D",
          "2D, 2D + time",
          "2D + time",
          "2D, 2D + time, 3D (<3000x3000x100), 3D + time",
          "3D + time",
          "3D (<3000x3000x100)",
          "2D, 3D (<3000x3000x100)",
          "3D large volume + time",
          "2D, 2D + time, 3D + time",
          "3D (<3000x3000x100), 3D + time",
          "2D, 2D + time, 3D (<3000x3000x100), 3D + time, 3D (SPIM/large volume), 3D large volume + time",
          "2D, 2D + time, 3D (<3000x3000x100)",
          "2D + time, 3D + time",
          "2D, 2D + time, 3D (<3000x3000x100), 3D + time, 3D large volume + time",
          "3D (<3000x3000x100), 3D + time, 3D (SPIM/large volume)",
          "2D + time, 3D (<3000x3000x100)",
          "2D + time, 3D + time, 3D (SPIM/large volume)",
          "2D + time, 3D (<3000x3000x100), 3D + time, 3D (SPIM/large volume)",
          "2D, 2D + time, 3D (<3000x3000x100), 3D + time, 3D (SPIM/large volume)",
          "2D, 3D (<3000x3000x100), 3D + time, 3D large volume + time",
          "2D + time, 3D (<3000x3000x100), 3D + time",
          "2D, 3D + time",
          "2D + time, 3D (<3000x3000x100), 3D + time, 3D (SPIM/large volume), 3D large volume + time",
          "3D (SPIM/large volume)",
          "2D, 3D (<3000x3000x100), 3D (SPIM/large volume)",
          "3D (<3000x3000x100), 3D + time, 3D (SPIM/large volume), 3D large volume + time",
          "2D, 3D (<3000x3000x100), 3D + time",
          "3D (<3000x3000x100), 3D (SPIM/large volume)",
          "2D, 2D + time, 3D (<3000x3000x100), 3D (SPIM/large volume)",
          "2D, 2D + time, 3D (<3000x3000x100), 3D (SPIM/large volume), 3D large volume + time",
          "3D + time, 3D large volume + time",
          "3D (<3000x3000x100), 3D + time, 3D large volume + time",
          "3D + time, 3D (SPIM/large volume)",
          "3D (<3000x3000x100), 3D large volume + time",
          "3D + time, 3D (SPIM/large volume), 3D large volume + time",
          "3D (SPIM/large volume), 3D large volume + time",
          "2D, 2D + time, 3D (SPIM/large volume), 3D large volume + time",
          "2D, 2D + time, 3D + time, 3D large volume + time",
          "2D + time, 3D (SPIM/large volume)",
          "2D, 3D + time, 3D large volume + time",
          "2D + time, 3D (<3000x3000x100), 3D large volume + time",
          "2D, 2D + time, 3D (<3000x3000x100), 3D large volume + time",
          "2D + time, 3D (<3000x3000x100), 3D + time, 3D large volume + time",
          "2D + time, 3D + time, 3D (SPIM/large volume), 3D large volume + time",
          "2D, 2D + time, 3D large volume + time",
          "2D, 3D (<3000x3000x100), 3D + time, 3D (SPIM/large volume), 3D large volume + time",
          "2D, 2D + time, 3D (SPIM/large volume)",
          "2D + time, 3D large volume + time",
          "2D, 3D (SPIM/large volume)",
          "2D, 3D (<3000x3000x100), 3D large volume + time",
          "2D, 3D (SPIM/large volume), 3D large volume + time",
          "2D, 3D large volume + time"
         ]
        },
        {
         "name": "Imaging mass spectrometry",
         "orientation": "h",
         "type": "bar",
         "x": [
          24,
          null,
          1,
          null,
          1,
          2,
          2,
          1,
          null,
          null,
          null,
          null,
          null,
          null,
          null,
          null,
          null,
          null,
          null,
          null,
          null,
          1,
          null,
          null,
          null,
          null,
          null,
          null,
          null,
          null,
          null,
          null,
          null,
          null,
          null,
          null,
          null,
          null,
          null,
          null,
          null,
          null,
          null,
          null,
          null,
          null,
          null,
          null,
          null,
          null,
          null,
          null
         ],
         "y": [
          "2D",
          "2D, 2D + time",
          "2D + time",
          "2D, 2D + time, 3D (<3000x3000x100), 3D + time",
          "3D + time",
          "3D (<3000x3000x100)",
          "2D, 3D (<3000x3000x100)",
          "3D large volume + time",
          "2D, 2D + time, 3D + time",
          "3D (<3000x3000x100), 3D + time",
          "2D, 2D + time, 3D (<3000x3000x100), 3D + time, 3D (SPIM/large volume), 3D large volume + time",
          "2D, 2D + time, 3D (<3000x3000x100)",
          "2D + time, 3D + time",
          "2D, 2D + time, 3D (<3000x3000x100), 3D + time, 3D large volume + time",
          "3D (<3000x3000x100), 3D + time, 3D (SPIM/large volume)",
          "2D + time, 3D (<3000x3000x100)",
          "2D + time, 3D + time, 3D (SPIM/large volume)",
          "2D + time, 3D (<3000x3000x100), 3D + time, 3D (SPIM/large volume)",
          "2D, 2D + time, 3D (<3000x3000x100), 3D + time, 3D (SPIM/large volume)",
          "2D, 3D (<3000x3000x100), 3D + time, 3D large volume + time",
          "2D + time, 3D (<3000x3000x100), 3D + time",
          "2D, 3D + time",
          "2D + time, 3D (<3000x3000x100), 3D + time, 3D (SPIM/large volume), 3D large volume + time",
          "3D (SPIM/large volume)",
          "2D, 3D (<3000x3000x100), 3D (SPIM/large volume)",
          "3D (<3000x3000x100), 3D + time, 3D (SPIM/large volume), 3D large volume + time",
          "2D, 3D (<3000x3000x100), 3D + time",
          "3D (<3000x3000x100), 3D (SPIM/large volume)",
          "2D, 2D + time, 3D (<3000x3000x100), 3D (SPIM/large volume)",
          "2D, 2D + time, 3D (<3000x3000x100), 3D (SPIM/large volume), 3D large volume + time",
          "3D + time, 3D large volume + time",
          "3D (<3000x3000x100), 3D + time, 3D large volume + time",
          "3D + time, 3D (SPIM/large volume)",
          "3D (<3000x3000x100), 3D large volume + time",
          "3D + time, 3D (SPIM/large volume), 3D large volume + time",
          "3D (SPIM/large volume), 3D large volume + time",
          "2D, 2D + time, 3D (SPIM/large volume), 3D large volume + time",
          "2D, 2D + time, 3D + time, 3D large volume + time",
          "2D + time, 3D (SPIM/large volume)",
          "2D, 3D + time, 3D large volume + time",
          "2D + time, 3D (<3000x3000x100), 3D large volume + time",
          "2D, 2D + time, 3D (<3000x3000x100), 3D large volume + time",
          "2D + time, 3D (<3000x3000x100), 3D + time, 3D large volume + time",
          "2D + time, 3D + time, 3D (SPIM/large volume), 3D large volume + time",
          "2D, 2D + time, 3D large volume + time",
          "2D, 3D (<3000x3000x100), 3D + time, 3D (SPIM/large volume), 3D large volume + time",
          "2D, 2D + time, 3D (SPIM/large volume)",
          "2D + time, 3D large volume + time",
          "2D, 3D (SPIM/large volume)",
          "2D, 3D (<3000x3000x100), 3D large volume + time",
          "2D, 3D (SPIM/large volume), 3D large volume + time",
          "2D, 3D large volume + time"
         ]
        },
        {
         "name": "Imaging flow cytometry",
         "orientation": "h",
         "type": "bar",
         "x": [
          19,
          1,
          2,
          null,
          2,
          3,
          null,
          1,
          1,
          null,
          null,
          null,
          null,
          null,
          null,
          null,
          null,
          null,
          null,
          null,
          null,
          null,
          null,
          null,
          null,
          null,
          null,
          null,
          null,
          null,
          null,
          null,
          null,
          null,
          null,
          1,
          null,
          null,
          null,
          null,
          null,
          null,
          null,
          null,
          null,
          null,
          null,
          null,
          null,
          null,
          null,
          null
         ],
         "y": [
          "2D",
          "2D, 2D + time",
          "2D + time",
          "2D, 2D + time, 3D (<3000x3000x100), 3D + time",
          "3D + time",
          "3D (<3000x3000x100)",
          "2D, 3D (<3000x3000x100)",
          "3D large volume + time",
          "2D, 2D + time, 3D + time",
          "3D (<3000x3000x100), 3D + time",
          "2D, 2D + time, 3D (<3000x3000x100), 3D + time, 3D (SPIM/large volume), 3D large volume + time",
          "2D, 2D + time, 3D (<3000x3000x100)",
          "2D + time, 3D + time",
          "2D, 2D + time, 3D (<3000x3000x100), 3D + time, 3D large volume + time",
          "3D (<3000x3000x100), 3D + time, 3D (SPIM/large volume)",
          "2D + time, 3D (<3000x3000x100)",
          "2D + time, 3D + time, 3D (SPIM/large volume)",
          "2D + time, 3D (<3000x3000x100), 3D + time, 3D (SPIM/large volume)",
          "2D, 2D + time, 3D (<3000x3000x100), 3D + time, 3D (SPIM/large volume)",
          "2D, 3D (<3000x3000x100), 3D + time, 3D large volume + time",
          "2D + time, 3D (<3000x3000x100), 3D + time",
          "2D, 3D + time",
          "2D + time, 3D (<3000x3000x100), 3D + time, 3D (SPIM/large volume), 3D large volume + time",
          "3D (SPIM/large volume)",
          "2D, 3D (<3000x3000x100), 3D (SPIM/large volume)",
          "3D (<3000x3000x100), 3D + time, 3D (SPIM/large volume), 3D large volume + time",
          "2D, 3D (<3000x3000x100), 3D + time",
          "3D (<3000x3000x100), 3D (SPIM/large volume)",
          "2D, 2D + time, 3D (<3000x3000x100), 3D (SPIM/large volume)",
          "2D, 2D + time, 3D (<3000x3000x100), 3D (SPIM/large volume), 3D large volume + time",
          "3D + time, 3D large volume + time",
          "3D (<3000x3000x100), 3D + time, 3D large volume + time",
          "3D + time, 3D (SPIM/large volume)",
          "3D (<3000x3000x100), 3D large volume + time",
          "3D + time, 3D (SPIM/large volume), 3D large volume + time",
          "3D (SPIM/large volume), 3D large volume + time",
          "2D, 2D + time, 3D (SPIM/large volume), 3D large volume + time",
          "2D, 2D + time, 3D + time, 3D large volume + time",
          "2D + time, 3D (SPIM/large volume)",
          "2D, 3D + time, 3D large volume + time",
          "2D + time, 3D (<3000x3000x100), 3D large volume + time",
          "2D, 2D + time, 3D (<3000x3000x100), 3D large volume + time",
          "2D + time, 3D (<3000x3000x100), 3D + time, 3D large volume + time",
          "2D + time, 3D + time, 3D (SPIM/large volume), 3D large volume + time",
          "2D, 2D + time, 3D large volume + time",
          "2D, 3D (<3000x3000x100), 3D + time, 3D (SPIM/large volume), 3D large volume + time",
          "2D, 2D + time, 3D (SPIM/large volume)",
          "2D + time, 3D large volume + time",
          "2D, 3D (SPIM/large volume)",
          "2D, 3D (<3000x3000x100), 3D large volume + time",
          "2D, 3D (SPIM/large volume), 3D large volume + time",
          "2D, 3D large volume + time"
         ]
        },
        {
         "name": "Superresolution (PALM/STORM)",
         "orientation": "h",
         "type": "bar",
         "x": [
          24,
          8,
          8,
          9,
          3,
          9,
          20,
          2,
          3,
          1,
          8,
          2,
          2,
          null,
          null,
          1,
          null,
          null,
          null,
          null,
          1,
          null,
          null,
          1,
          1,
          null,
          null,
          null,
          null,
          null,
          null,
          null,
          null,
          null,
          null,
          null,
          null,
          null,
          null,
          null,
          null,
          null,
          null,
          null,
          null,
          null,
          null,
          null,
          1,
          1,
          null,
          null
         ],
         "y": [
          "2D",
          "2D, 2D + time",
          "2D + time",
          "2D, 2D + time, 3D (<3000x3000x100), 3D + time",
          "3D + time",
          "3D (<3000x3000x100)",
          "2D, 3D (<3000x3000x100)",
          "3D large volume + time",
          "2D, 2D + time, 3D + time",
          "3D (<3000x3000x100), 3D + time",
          "2D, 2D + time, 3D (<3000x3000x100), 3D + time, 3D (SPIM/large volume), 3D large volume + time",
          "2D, 2D + time, 3D (<3000x3000x100)",
          "2D + time, 3D + time",
          "2D, 2D + time, 3D (<3000x3000x100), 3D + time, 3D large volume + time",
          "3D (<3000x3000x100), 3D + time, 3D (SPIM/large volume)",
          "2D + time, 3D (<3000x3000x100)",
          "2D + time, 3D + time, 3D (SPIM/large volume)",
          "2D + time, 3D (<3000x3000x100), 3D + time, 3D (SPIM/large volume)",
          "2D, 2D + time, 3D (<3000x3000x100), 3D + time, 3D (SPIM/large volume)",
          "2D, 3D (<3000x3000x100), 3D + time, 3D large volume + time",
          "2D + time, 3D (<3000x3000x100), 3D + time",
          "2D, 3D + time",
          "2D + time, 3D (<3000x3000x100), 3D + time, 3D (SPIM/large volume), 3D large volume + time",
          "3D (SPIM/large volume)",
          "2D, 3D (<3000x3000x100), 3D (SPIM/large volume)",
          "3D (<3000x3000x100), 3D + time, 3D (SPIM/large volume), 3D large volume + time",
          "2D, 3D (<3000x3000x100), 3D + time",
          "3D (<3000x3000x100), 3D (SPIM/large volume)",
          "2D, 2D + time, 3D (<3000x3000x100), 3D (SPIM/large volume)",
          "2D, 2D + time, 3D (<3000x3000x100), 3D (SPIM/large volume), 3D large volume + time",
          "3D + time, 3D large volume + time",
          "3D (<3000x3000x100), 3D + time, 3D large volume + time",
          "3D + time, 3D (SPIM/large volume)",
          "3D (<3000x3000x100), 3D large volume + time",
          "3D + time, 3D (SPIM/large volume), 3D large volume + time",
          "3D (SPIM/large volume), 3D large volume + time",
          "2D, 2D + time, 3D (SPIM/large volume), 3D large volume + time",
          "2D, 2D + time, 3D + time, 3D large volume + time",
          "2D + time, 3D (SPIM/large volume)",
          "2D, 3D + time, 3D large volume + time",
          "2D + time, 3D (<3000x3000x100), 3D large volume + time",
          "2D, 2D + time, 3D (<3000x3000x100), 3D large volume + time",
          "2D + time, 3D (<3000x3000x100), 3D + time, 3D large volume + time",
          "2D + time, 3D + time, 3D (SPIM/large volume), 3D large volume + time",
          "2D, 2D + time, 3D large volume + time",
          "2D, 3D (<3000x3000x100), 3D + time, 3D (SPIM/large volume), 3D large volume + time",
          "2D, 2D + time, 3D (SPIM/large volume)",
          "2D + time, 3D large volume + time",
          "2D, 3D (SPIM/large volume)",
          "2D, 3D (<3000x3000x100), 3D large volume + time",
          "2D, 3D (SPIM/large volume), 3D large volume + time",
          "2D, 3D large volume + time"
         ]
        },
        {
         "name": "Autofluorescence imaging (ie FLIM)",
         "orientation": "h",
         "type": "bar",
         "x": [
          18,
          10,
          11,
          6,
          6,
          4,
          4,
          1,
          3,
          null,
          1,
          2,
          1,
          null,
          null,
          null,
          null,
          null,
          null,
          null,
          null,
          1,
          null,
          null,
          null,
          null,
          null,
          null,
          null,
          null,
          null,
          null,
          null,
          null,
          1,
          null,
          null,
          null,
          null,
          null,
          null,
          null,
          null,
          null,
          null,
          null,
          null,
          null,
          null,
          null,
          null,
          null
         ],
         "y": [
          "2D",
          "2D, 2D + time",
          "2D + time",
          "2D, 2D + time, 3D (<3000x3000x100), 3D + time",
          "3D + time",
          "3D (<3000x3000x100)",
          "2D, 3D (<3000x3000x100)",
          "3D large volume + time",
          "2D, 2D + time, 3D + time",
          "3D (<3000x3000x100), 3D + time",
          "2D, 2D + time, 3D (<3000x3000x100), 3D + time, 3D (SPIM/large volume), 3D large volume + time",
          "2D, 2D + time, 3D (<3000x3000x100)",
          "2D + time, 3D + time",
          "2D, 2D + time, 3D (<3000x3000x100), 3D + time, 3D large volume + time",
          "3D (<3000x3000x100), 3D + time, 3D (SPIM/large volume)",
          "2D + time, 3D (<3000x3000x100)",
          "2D + time, 3D + time, 3D (SPIM/large volume)",
          "2D + time, 3D (<3000x3000x100), 3D + time, 3D (SPIM/large volume)",
          "2D, 2D + time, 3D (<3000x3000x100), 3D + time, 3D (SPIM/large volume)",
          "2D, 3D (<3000x3000x100), 3D + time, 3D large volume + time",
          "2D + time, 3D (<3000x3000x100), 3D + time",
          "2D, 3D + time",
          "2D + time, 3D (<3000x3000x100), 3D + time, 3D (SPIM/large volume), 3D large volume + time",
          "3D (SPIM/large volume)",
          "2D, 3D (<3000x3000x100), 3D (SPIM/large volume)",
          "3D (<3000x3000x100), 3D + time, 3D (SPIM/large volume), 3D large volume + time",
          "2D, 3D (<3000x3000x100), 3D + time",
          "3D (<3000x3000x100), 3D (SPIM/large volume)",
          "2D, 2D + time, 3D (<3000x3000x100), 3D (SPIM/large volume)",
          "2D, 2D + time, 3D (<3000x3000x100), 3D (SPIM/large volume), 3D large volume + time",
          "3D + time, 3D large volume + time",
          "3D (<3000x3000x100), 3D + time, 3D large volume + time",
          "3D + time, 3D (SPIM/large volume)",
          "3D (<3000x3000x100), 3D large volume + time",
          "3D + time, 3D (SPIM/large volume), 3D large volume + time",
          "3D (SPIM/large volume), 3D large volume + time",
          "2D, 2D + time, 3D (SPIM/large volume), 3D large volume + time",
          "2D, 2D + time, 3D + time, 3D large volume + time",
          "2D + time, 3D (SPIM/large volume)",
          "2D, 3D + time, 3D large volume + time",
          "2D + time, 3D (<3000x3000x100), 3D large volume + time",
          "2D, 2D + time, 3D (<3000x3000x100), 3D large volume + time",
          "2D + time, 3D (<3000x3000x100), 3D + time, 3D large volume + time",
          "2D + time, 3D + time, 3D (SPIM/large volume), 3D large volume + time",
          "2D, 2D + time, 3D large volume + time",
          "2D, 3D (<3000x3000x100), 3D + time, 3D (SPIM/large volume), 3D large volume + time",
          "2D, 2D + time, 3D (SPIM/large volume)",
          "2D + time, 3D large volume + time",
          "2D, 3D (SPIM/large volume)",
          "2D, 3D (<3000x3000x100), 3D large volume + time",
          "2D, 3D (SPIM/large volume), 3D large volume + time",
          "2D, 3D large volume + time"
         ]
        },
        {
         "name": "Other",
         "orientation": "h",
         "type": "bar",
         "x": [
          5,
          2,
          2,
          3,
          3,
          5,
          1,
          1,
          null,
          null,
          2,
          2,
          1,
          1,
          null,
          null,
          null,
          null,
          null,
          null,
          null,
          1,
          1,
          null,
          2,
          1,
          1,
          2,
          null,
          null,
          1,
          null,
          null,
          1,
          null,
          null,
          null,
          null,
          null,
          null,
          null,
          null,
          null,
          null,
          null,
          null,
          null,
          null,
          null,
          null,
          null,
          1
         ],
         "y": [
          "2D",
          "2D, 2D + time",
          "2D + time",
          "2D, 2D + time, 3D (<3000x3000x100), 3D + time",
          "3D + time",
          "3D (<3000x3000x100)",
          "2D, 3D (<3000x3000x100)",
          "3D large volume + time",
          "2D, 2D + time, 3D + time",
          "3D (<3000x3000x100), 3D + time",
          "2D, 2D + time, 3D (<3000x3000x100), 3D + time, 3D (SPIM/large volume), 3D large volume + time",
          "2D, 2D + time, 3D (<3000x3000x100)",
          "2D + time, 3D + time",
          "2D, 2D + time, 3D (<3000x3000x100), 3D + time, 3D large volume + time",
          "3D (<3000x3000x100), 3D + time, 3D (SPIM/large volume)",
          "2D + time, 3D (<3000x3000x100)",
          "2D + time, 3D + time, 3D (SPIM/large volume)",
          "2D + time, 3D (<3000x3000x100), 3D + time, 3D (SPIM/large volume)",
          "2D, 2D + time, 3D (<3000x3000x100), 3D + time, 3D (SPIM/large volume)",
          "2D, 3D (<3000x3000x100), 3D + time, 3D large volume + time",
          "2D + time, 3D (<3000x3000x100), 3D + time",
          "2D, 3D + time",
          "2D + time, 3D (<3000x3000x100), 3D + time, 3D (SPIM/large volume), 3D large volume + time",
          "3D (SPIM/large volume)",
          "2D, 3D (<3000x3000x100), 3D (SPIM/large volume)",
          "3D (<3000x3000x100), 3D + time, 3D (SPIM/large volume), 3D large volume + time",
          "2D, 3D (<3000x3000x100), 3D + time",
          "3D (<3000x3000x100), 3D (SPIM/large volume)",
          "2D, 2D + time, 3D (<3000x3000x100), 3D (SPIM/large volume)",
          "2D, 2D + time, 3D (<3000x3000x100), 3D (SPIM/large volume), 3D large volume + time",
          "3D + time, 3D large volume + time",
          "3D (<3000x3000x100), 3D + time, 3D large volume + time",
          "3D + time, 3D (SPIM/large volume)",
          "3D (<3000x3000x100), 3D large volume + time",
          "3D + time, 3D (SPIM/large volume), 3D large volume + time",
          "3D (SPIM/large volume), 3D large volume + time",
          "2D, 2D + time, 3D (SPIM/large volume), 3D large volume + time",
          "2D, 2D + time, 3D + time, 3D large volume + time",
          "2D + time, 3D (SPIM/large volume)",
          "2D, 3D + time, 3D large volume + time",
          "2D + time, 3D (<3000x3000x100), 3D large volume + time",
          "2D, 2D + time, 3D (<3000x3000x100), 3D large volume + time",
          "2D + time, 3D (<3000x3000x100), 3D + time, 3D large volume + time",
          "2D + time, 3D + time, 3D (SPIM/large volume), 3D large volume + time",
          "2D, 2D + time, 3D large volume + time",
          "2D, 3D (<3000x3000x100), 3D + time, 3D (SPIM/large volume), 3D large volume + time",
          "2D, 2D + time, 3D (SPIM/large volume)",
          "2D + time, 3D large volume + time",
          "2D, 3D (SPIM/large volume)",
          "2D, 3D (<3000x3000x100), 3D large volume + time",
          "2D, 3D (SPIM/large volume), 3D large volume + time",
          "2D, 3D large volume + time"
         ]
        }
       ],
       "layout": {
        "barmode": "stack",
        "template": {
         "data": {
          "bar": [
           {
            "error_x": {
             "color": "#2a3f5f"
            },
            "error_y": {
             "color": "#2a3f5f"
            },
            "marker": {
             "line": {
              "color": "#E5ECF6",
              "width": 0.5
             },
             "pattern": {
              "fillmode": "overlay",
              "size": 10,
              "solidity": 0.2
             }
            },
            "type": "bar"
           }
          ],
          "barpolar": [
           {
            "marker": {
             "line": {
              "color": "#E5ECF6",
              "width": 0.5
             },
             "pattern": {
              "fillmode": "overlay",
              "size": 10,
              "solidity": 0.2
             }
            },
            "type": "barpolar"
           }
          ],
          "carpet": [
           {
            "aaxis": {
             "endlinecolor": "#2a3f5f",
             "gridcolor": "white",
             "linecolor": "white",
             "minorgridcolor": "white",
             "startlinecolor": "#2a3f5f"
            },
            "baxis": {
             "endlinecolor": "#2a3f5f",
             "gridcolor": "white",
             "linecolor": "white",
             "minorgridcolor": "white",
             "startlinecolor": "#2a3f5f"
            },
            "type": "carpet"
           }
          ],
          "choropleth": [
           {
            "colorbar": {
             "outlinewidth": 0,
             "ticks": ""
            },
            "type": "choropleth"
           }
          ],
          "contour": [
           {
            "colorbar": {
             "outlinewidth": 0,
             "ticks": ""
            },
            "colorscale": [
             [
              0,
              "#0d0887"
             ],
             [
              0.1111111111111111,
              "#46039f"
             ],
             [
              0.2222222222222222,
              "#7201a8"
             ],
             [
              0.3333333333333333,
              "#9c179e"
             ],
             [
              0.4444444444444444,
              "#bd3786"
             ],
             [
              0.5555555555555556,
              "#d8576b"
             ],
             [
              0.6666666666666666,
              "#ed7953"
             ],
             [
              0.7777777777777778,
              "#fb9f3a"
             ],
             [
              0.8888888888888888,
              "#fdca26"
             ],
             [
              1,
              "#f0f921"
             ]
            ],
            "type": "contour"
           }
          ],
          "contourcarpet": [
           {
            "colorbar": {
             "outlinewidth": 0,
             "ticks": ""
            },
            "type": "contourcarpet"
           }
          ],
          "heatmap": [
           {
            "colorbar": {
             "outlinewidth": 0,
             "ticks": ""
            },
            "colorscale": [
             [
              0,
              "#0d0887"
             ],
             [
              0.1111111111111111,
              "#46039f"
             ],
             [
              0.2222222222222222,
              "#7201a8"
             ],
             [
              0.3333333333333333,
              "#9c179e"
             ],
             [
              0.4444444444444444,
              "#bd3786"
             ],
             [
              0.5555555555555556,
              "#d8576b"
             ],
             [
              0.6666666666666666,
              "#ed7953"
             ],
             [
              0.7777777777777778,
              "#fb9f3a"
             ],
             [
              0.8888888888888888,
              "#fdca26"
             ],
             [
              1,
              "#f0f921"
             ]
            ],
            "type": "heatmap"
           }
          ],
          "heatmapgl": [
           {
            "colorbar": {
             "outlinewidth": 0,
             "ticks": ""
            },
            "colorscale": [
             [
              0,
              "#0d0887"
             ],
             [
              0.1111111111111111,
              "#46039f"
             ],
             [
              0.2222222222222222,
              "#7201a8"
             ],
             [
              0.3333333333333333,
              "#9c179e"
             ],
             [
              0.4444444444444444,
              "#bd3786"
             ],
             [
              0.5555555555555556,
              "#d8576b"
             ],
             [
              0.6666666666666666,
              "#ed7953"
             ],
             [
              0.7777777777777778,
              "#fb9f3a"
             ],
             [
              0.8888888888888888,
              "#fdca26"
             ],
             [
              1,
              "#f0f921"
             ]
            ],
            "type": "heatmapgl"
           }
          ],
          "histogram": [
           {
            "marker": {
             "pattern": {
              "fillmode": "overlay",
              "size": 10,
              "solidity": 0.2
             }
            },
            "type": "histogram"
           }
          ],
          "histogram2d": [
           {
            "colorbar": {
             "outlinewidth": 0,
             "ticks": ""
            },
            "colorscale": [
             [
              0,
              "#0d0887"
             ],
             [
              0.1111111111111111,
              "#46039f"
             ],
             [
              0.2222222222222222,
              "#7201a8"
             ],
             [
              0.3333333333333333,
              "#9c179e"
             ],
             [
              0.4444444444444444,
              "#bd3786"
             ],
             [
              0.5555555555555556,
              "#d8576b"
             ],
             [
              0.6666666666666666,
              "#ed7953"
             ],
             [
              0.7777777777777778,
              "#fb9f3a"
             ],
             [
              0.8888888888888888,
              "#fdca26"
             ],
             [
              1,
              "#f0f921"
             ]
            ],
            "type": "histogram2d"
           }
          ],
          "histogram2dcontour": [
           {
            "colorbar": {
             "outlinewidth": 0,
             "ticks": ""
            },
            "colorscale": [
             [
              0,
              "#0d0887"
             ],
             [
              0.1111111111111111,
              "#46039f"
             ],
             [
              0.2222222222222222,
              "#7201a8"
             ],
             [
              0.3333333333333333,
              "#9c179e"
             ],
             [
              0.4444444444444444,
              "#bd3786"
             ],
             [
              0.5555555555555556,
              "#d8576b"
             ],
             [
              0.6666666666666666,
              "#ed7953"
             ],
             [
              0.7777777777777778,
              "#fb9f3a"
             ],
             [
              0.8888888888888888,
              "#fdca26"
             ],
             [
              1,
              "#f0f921"
             ]
            ],
            "type": "histogram2dcontour"
           }
          ],
          "mesh3d": [
           {
            "colorbar": {
             "outlinewidth": 0,
             "ticks": ""
            },
            "type": "mesh3d"
           }
          ],
          "parcoords": [
           {
            "line": {
             "colorbar": {
              "outlinewidth": 0,
              "ticks": ""
             }
            },
            "type": "parcoords"
           }
          ],
          "pie": [
           {
            "automargin": true,
            "type": "pie"
           }
          ],
          "scatter": [
           {
            "fillpattern": {
             "fillmode": "overlay",
             "size": 10,
             "solidity": 0.2
            },
            "type": "scatter"
           }
          ],
          "scatter3d": [
           {
            "line": {
             "colorbar": {
              "outlinewidth": 0,
              "ticks": ""
             }
            },
            "marker": {
             "colorbar": {
              "outlinewidth": 0,
              "ticks": ""
             }
            },
            "type": "scatter3d"
           }
          ],
          "scattercarpet": [
           {
            "marker": {
             "colorbar": {
              "outlinewidth": 0,
              "ticks": ""
             }
            },
            "type": "scattercarpet"
           }
          ],
          "scattergeo": [
           {
            "marker": {
             "colorbar": {
              "outlinewidth": 0,
              "ticks": ""
             }
            },
            "type": "scattergeo"
           }
          ],
          "scattergl": [
           {
            "marker": {
             "colorbar": {
              "outlinewidth": 0,
              "ticks": ""
             }
            },
            "type": "scattergl"
           }
          ],
          "scattermapbox": [
           {
            "marker": {
             "colorbar": {
              "outlinewidth": 0,
              "ticks": ""
             }
            },
            "type": "scattermapbox"
           }
          ],
          "scatterpolar": [
           {
            "marker": {
             "colorbar": {
              "outlinewidth": 0,
              "ticks": ""
             }
            },
            "type": "scatterpolar"
           }
          ],
          "scatterpolargl": [
           {
            "marker": {
             "colorbar": {
              "outlinewidth": 0,
              "ticks": ""
             }
            },
            "type": "scatterpolargl"
           }
          ],
          "scatterternary": [
           {
            "marker": {
             "colorbar": {
              "outlinewidth": 0,
              "ticks": ""
             }
            },
            "type": "scatterternary"
           }
          ],
          "surface": [
           {
            "colorbar": {
             "outlinewidth": 0,
             "ticks": ""
            },
            "colorscale": [
             [
              0,
              "#0d0887"
             ],
             [
              0.1111111111111111,
              "#46039f"
             ],
             [
              0.2222222222222222,
              "#7201a8"
             ],
             [
              0.3333333333333333,
              "#9c179e"
             ],
             [
              0.4444444444444444,
              "#bd3786"
             ],
             [
              0.5555555555555556,
              "#d8576b"
             ],
             [
              0.6666666666666666,
              "#ed7953"
             ],
             [
              0.7777777777777778,
              "#fb9f3a"
             ],
             [
              0.8888888888888888,
              "#fdca26"
             ],
             [
              1,
              "#f0f921"
             ]
            ],
            "type": "surface"
           }
          ],
          "table": [
           {
            "cells": {
             "fill": {
              "color": "#EBF0F8"
             },
             "line": {
              "color": "white"
             }
            },
            "header": {
             "fill": {
              "color": "#C8D4E3"
             },
             "line": {
              "color": "white"
             }
            },
            "type": "table"
           }
          ]
         },
         "layout": {
          "annotationdefaults": {
           "arrowcolor": "#2a3f5f",
           "arrowhead": 0,
           "arrowwidth": 1
          },
          "autotypenumbers": "strict",
          "coloraxis": {
           "colorbar": {
            "outlinewidth": 0,
            "ticks": ""
           }
          },
          "colorscale": {
           "diverging": [
            [
             0,
             "#8e0152"
            ],
            [
             0.1,
             "#c51b7d"
            ],
            [
             0.2,
             "#de77ae"
            ],
            [
             0.3,
             "#f1b6da"
            ],
            [
             0.4,
             "#fde0ef"
            ],
            [
             0.5,
             "#f7f7f7"
            ],
            [
             0.6,
             "#e6f5d0"
            ],
            [
             0.7,
             "#b8e186"
            ],
            [
             0.8,
             "#7fbc41"
            ],
            [
             0.9,
             "#4d9221"
            ],
            [
             1,
             "#276419"
            ]
           ],
           "sequential": [
            [
             0,
             "#0d0887"
            ],
            [
             0.1111111111111111,
             "#46039f"
            ],
            [
             0.2222222222222222,
             "#7201a8"
            ],
            [
             0.3333333333333333,
             "#9c179e"
            ],
            [
             0.4444444444444444,
             "#bd3786"
            ],
            [
             0.5555555555555556,
             "#d8576b"
            ],
            [
             0.6666666666666666,
             "#ed7953"
            ],
            [
             0.7777777777777778,
             "#fb9f3a"
            ],
            [
             0.8888888888888888,
             "#fdca26"
            ],
            [
             1,
             "#f0f921"
            ]
           ],
           "sequentialminus": [
            [
             0,
             "#0d0887"
            ],
            [
             0.1111111111111111,
             "#46039f"
            ],
            [
             0.2222222222222222,
             "#7201a8"
            ],
            [
             0.3333333333333333,
             "#9c179e"
            ],
            [
             0.4444444444444444,
             "#bd3786"
            ],
            [
             0.5555555555555556,
             "#d8576b"
            ],
            [
             0.6666666666666666,
             "#ed7953"
            ],
            [
             0.7777777777777778,
             "#fb9f3a"
            ],
            [
             0.8888888888888888,
             "#fdca26"
            ],
            [
             1,
             "#f0f921"
            ]
           ]
          },
          "colorway": [
           "#636efa",
           "#EF553B",
           "#00cc96",
           "#ab63fa",
           "#FFA15A",
           "#19d3f3",
           "#FF6692",
           "#B6E880",
           "#FF97FF",
           "#FECB52"
          ],
          "font": {
           "color": "#2a3f5f"
          },
          "geo": {
           "bgcolor": "white",
           "lakecolor": "white",
           "landcolor": "#E5ECF6",
           "showlakes": true,
           "showland": true,
           "subunitcolor": "white"
          },
          "hoverlabel": {
           "align": "left"
          },
          "hovermode": "closest",
          "mapbox": {
           "style": "light"
          },
          "paper_bgcolor": "white",
          "plot_bgcolor": "#E5ECF6",
          "polar": {
           "angularaxis": {
            "gridcolor": "white",
            "linecolor": "white",
            "ticks": ""
           },
           "bgcolor": "#E5ECF6",
           "radialaxis": {
            "gridcolor": "white",
            "linecolor": "white",
            "ticks": ""
           }
          },
          "scene": {
           "xaxis": {
            "backgroundcolor": "#E5ECF6",
            "gridcolor": "white",
            "gridwidth": 2,
            "linecolor": "white",
            "showbackground": true,
            "ticks": "",
            "zerolinecolor": "white"
           },
           "yaxis": {
            "backgroundcolor": "#E5ECF6",
            "gridcolor": "white",
            "gridwidth": 2,
            "linecolor": "white",
            "showbackground": true,
            "ticks": "",
            "zerolinecolor": "white"
           },
           "zaxis": {
            "backgroundcolor": "#E5ECF6",
            "gridcolor": "white",
            "gridwidth": 2,
            "linecolor": "white",
            "showbackground": true,
            "ticks": "",
            "zerolinecolor": "white"
           }
          },
          "shapedefaults": {
           "line": {
            "color": "#2a3f5f"
           }
          },
          "ternary": {
           "aaxis": {
            "gridcolor": "white",
            "linecolor": "white",
            "ticks": ""
           },
           "baxis": {
            "gridcolor": "white",
            "linecolor": "white",
            "ticks": ""
           },
           "bgcolor": "#E5ECF6",
           "caxis": {
            "gridcolor": "white",
            "linecolor": "white",
            "ticks": ""
           }
          },
          "title": {
           "x": 0.05
          },
          "xaxis": {
           "automargin": true,
           "gridcolor": "white",
           "linecolor": "white",
           "ticks": "",
           "title": {
            "standoff": 15
           },
           "zerolinecolor": "white",
           "zerolinewidth": 2
          },
          "yaxis": {
           "automargin": true,
           "gridcolor": "white",
           "linecolor": "white",
           "ticks": "",
           "title": {
            "standoff": 15
           },
           "zerolinecolor": "white",
           "zerolinewidth": 2
          }
         }
        }
       }
      }
     },
     "metadata": {},
     "output_type": "display_data"
    }
   ],
   "source": [
    "fig_com = go.Figure()\n",
    "\n",
    "fig_com.add_trace(go.Bar(name='Brightfield/DIC/phase-contrast manually acquired', y=df_compiled[\"Types of images\"], x = df_compiled[\"Types of images analyzed Brightfield/DIC/phase-contrast manually acquired\"], orientation='h'))\n",
    "fig_com.add_trace(go.Bar(name='Brightfield/DIC/phase-contrast automated', y=df_compiled[\"Types of images\"], x = df_compiled[\"Types of images analyzed Brightfield/DIC/phase-contrast automated\"], orientation='h'))\n",
    "fig_com.add_trace(go.Bar(name='Fluorescent images-manually acquired', y=df_compiled[\"Types of images\"], x = df_compiled[\"Types of images analyzed-Fluorescent images manually acquired\"], orientation='h'))\n",
    "fig_com.add_trace(go.Bar(name='Fluorescent images-automated', y=df_compiled[\"Types of images\"], x = df_compiled[\"Types of images analyzed automated\"], orientation='h'))\n",
    "fig_com.add_trace(go.Bar(name='Histological tissue sections', y=df_compiled[\"Types of images\"], x = df_compiled[\"Types of images analyzed-Histological tissue sections\"], orientation='h'))\n",
    "fig_com.add_trace(go.Bar(name='Electro microscopy', y=df_compiled[\"Types of images\"], x = df_compiled[\"Types of images analyzed-Electro microscopy\"], orientation='h'))\n",
    "fig_com.add_trace(go.Bar(name='Imaging mass spectrometry', y=df_compiled[\"Types of images\"], x = df_compiled[\"Types of images analyzed-Imaging mass spectrometry\"], orientation='h'))\n",
    "fig_com.add_trace(go.Bar(name='Imaging flow cytometry', y=df_compiled[\"Types of images\"], x = df_compiled[\"Types of images analyzed-Imaging flow cytometry\"], orientation='h'))\n",
    "fig_com.add_trace(go.Bar(name='Superresolution (PALM/STORM)', y=df_compiled[\"Types of images\"], x = df_compiled[\"Types of images analyzed-Superresolution (PALM/STORM)\"], orientation='h'))\n",
    "fig_com.add_trace(go.Bar(name='Autofluorescence imaging (ie FLIM)', y=df_compiled[\"Types of images\"], x = df_compiled[\"Types of images analyzed-Autofluorescence imaging (ie FLIM)\"], orientation='h'))\n",
    "fig_com.add_trace(go.Bar(name='Other', y=df_compiled[\"Types of images\"], x = df_compiled[\"Types of images analyzed-Other\"], orientation='h'))\n",
    "\n",
    "fig_com.update_layout(barmode='stack')"
   ]
  },
  {
   "cell_type": "code",
   "execution_count": null,
   "metadata": {},
   "outputs": [],
   "source": [
    "import csv\n",
    "import json\n",
    "import pandas as pd\n",
    "\n",
    "reader = csv.reader(open(\"../List_tags_WellSolved.csv\", \"r\"))\n",
    "set_of_tags = []\n",
    "for a_line in reader:\n",
    "    _ = []\n",
    "    for __ in a_line:\n",
    "        if __:\n",
    "            _.append(__)\n",
    "    set_of_tags.append(_)\n",
    "    # ['Trainable', 'AI', 'ML']\n",
    "    print(a_line)\n",
    "\n",
    "feature_columns = {\"input_sentences\": []}\n",
    "for _ in set_of_tags:\n",
    "    col_name = \";\".join(_)\n",
    "    feature_columns[col_name] = []\n",
    "json.dump(feature_columns, open(\"feature_names.json\", \"w\"), indent=4)\n",
    "\n",
    "input_file_name = \"WellSolved.csv\"\n",
    "reader = open(\"../%s\" % input_file_name, encoding=\"ISO-8859-1\")\n",
    "sentences = []\n",
    "for sentence in reader:\n",
    "    sentence = sentence.replace(\"\\n\", \"\")\n",
    "    if not sentence:\n",
    "        continue\n",
    "    sentences.append(sentence)\n",
    "    sentence_lower = sentence.lower()\n",
    "    for a_feature_name in feature_columns:\n",
    "        tags = a_feature_name.split(\";\")\n",
    "        seen_feature = 0\n",
    "        for a_tag in tags:\n",
    "            if a_tag.lower() in sentence_lower:\n",
    "                seen_feature = 1\n",
    "        feature_columns[a_feature_name].append(seen_feature)\n",
    "    print(sentence)\n",
    "feature_columns[\"input_sentences\"] = sentences\n",
    "json.dump(feature_columns, open(\"feature_names.json\", \"w\"), indent=4)\n",
    "\n",
    "data_output = pd.DataFrame(feature_columns)\n",
    "data_output.to_csv(\"../%s\" % (input_file_name.replace(\".csv\", \"_counts.csv\")), index=False)"
   ]
  },
  {
   "cell_type": "code",
   "execution_count": 1011,
   "metadata": {},
   "outputs": [
    {
     "data": {
      "text/plain": [
       "0                                                    NaN\n",
       "1                                                    NaN\n",
       "2                          [segmentation, and, tracking]\n",
       "3          [basic, segmentation, esp, in, cell, culture]\n",
       "4                                                    NaN\n",
       "                             ...                        \n",
       "489                                                  NaN\n",
       "490    [finding, nuclei, stained, with, dapi, and, th...\n",
       "491                                    [finding, nuclei]\n",
       "492                                    [finding, nuclei]\n",
       "493                                                  NaN\n",
       "Name: Well solved image analysis problems, Length: 494, dtype: object"
      ]
     },
     "execution_count": 1011,
     "metadata": {},
     "output_type": "execute_result"
    }
   ],
   "source": [
    "well_solved = data[\"Well solved image analysis problems\"].str.lower().str.split()\n",
    "well_solved"
   ]
  },
  {
   "cell_type": "code",
   "execution_count": 1016,
   "metadata": {},
   "outputs": [
    {
     "name": "stdout",
     "output_type": "stream",
     "text": [
      "{'parts', 'discrete', '(none', 'dimensions', 'fluorescent', 'rendering', 'which', 'yeast', 'people', 'puncta', 'there).', 'rod', 'using', 'above', 'organelles', 'works', 'micrographs,', 'nuclei/cell', 'high', 'moving', 'visualization', 'time', 'foci,', 'filopodia', 'go).', 'problems)', 'registration/alignment', 'follows.', '2d', '(neutrophils).', 'data', 'particle', 'separation', 'nuclei', 'quantifying', 'until', 'considering', 'cell', '(though', 'none', 'confluency', 'samples', 'tracing', 'fluorescently-labelled', 'every', 'color', 'sets', 'good.', '3d', 'sample', 'data,', 'localiying', 'do', 'fluorescence', 'cells,', 'where', 'image', 'we', 'static', 'classification', 'organelles.', 'fluo', 'types', 'had', 'localisation', 'connectomics', 'depends', 'lots', '(thanks', 'signal', 'occupied', 'so', 'identification', 'intervention', 'cellcounting,', 'intensities', 'measurements', 'analysis,', 'large', 'otherwise,', 'molecule', 'proteins', 'organelle', 'real', 'your', 'detection', 'border', 'rely', 'knime', 'morphometry/measurement', 'uclei', 'listed', 'cytoplasmic', 's:n', 'diagrams', 'outlining', 'confusing.', 'problematic', 'when', 'types.', 'would', 'work', 'display', 'classic', 'handling', 'guided', 'gel', 'solved.', 'higher', 'storm', 'dapi', 'easy', 'but', 'qunatitative', 'to', 'non-purely', 'anythng', 'of', 'biomarkers', 'semi', 'threshhold', 'user', '(growth', 'stardist', 'nucleus', 'low', 'way', 'segmenting)', 'our', 'easy,', 'contrasting', 'common', 'complex', 'regions', 'field', 'images,', 'spots/features/cells/nuclei/puncta,', 'be', 'different', 'area', 'distance', 'more,', 'seems', 'resolution', 'cellular', 'better', 'rates)', 'approaches', 'if', 'time,', 'phase-contrast', \"there's\", 'finding', 'single-molecule', 'cytoplasm/nucleus', 'selection.', 'ground', 'within', 'dots', 'etc.', 'clem,', 'reduction,', 'well.', 'images', 'cytosolic', 'blobs', 'generally', 'normal', 'it', 'brains', '(yay', '10', 'eukaryotic', 'possible', 'sometimes', 'can', 'hcs', 'been', 'registration,', 'i', 'step', 'spot', 'in', 'determining', 'background', 'label', 'identifying', 'density', 'bandpass', 'particles,', '\"generally\"', 'based', 'well-solved...', 'imaging.', 'extremly', 'locating', 'wiring', 'round', 'an', 'deconvolution', 'problem', '+', 'them', 'flat', 'count)', 'quantifications', 'n', 'fluoresence', 'image,', 'cells/subcellular', 'analysing', 'marker', 'forest,', '%', '(but', 'rics', '?', 'solutions)', 'objects,', 'tracking;', 'varying', 'depend', 'vastness', 'mammalian', 'even', 'macrophages', 'pretty', 'labeled', 'tissues', 'cultured', 'number', 'opposed', 'defined', 'monotypic', 'all', 'than', 'gross', 'been,', 'roi', 'progress.', 'confident', 'nuceli', 'nuclei/roi', 'xyzt', 'more', 'compartments', 'around', 'does', 'bright', 'thresholding,', 'nuclei,', 'dense)', 'specially', 'sizes/volumes.', 'from', 'defining', 'staining', 'smlm', 'fixed', 'push', '\"solid\"', 'background/noise', 'identify', 'together)', 'scope', 'co', 'most', 'plenty', 'batch', 'made', 'a', 'sparse', 'also', 'contrast', 'size', 'etc...', 'get', 'profiler', 'segmented', 'tracking,', 'types/cell', 'challenge,', 'objects', 'options', 'other', 'are', 'small', 'storm-palm-smlm,', 'enhancement;', 'no', 'intensity', 'labelled', 'dim', 'two', 'workflows', 'none,', 'imaging', 'dead', 'off', 'monolayers', 'then', 'boring', 'difficult', 'threshold', 'room', 'progress', 'too', 'for', 'watershed', 'tool', 'weka)', 'answer', '(and', 'esp', 'well-separated', 'especially', 'quantify', 'stereotyped', 'as', 'selection', 'mean', 'labelling', 'variability.', 'snr', 'watershed,', 'and', 'solved', 'problems,', 'measures,', 'embryos', 'stained', 'non', 'training', 'limited', 'localization', 'users', '(single', 'registration', 'shape', 'shapes', 'long', 'cellpose/stardist)', 'dense', '(not', 'respect', 'learning', 'bacteria)', 'almost', 'recently', 'classification,', 'thresholding', 'understand', 'colocalization', 'consistent', 'quality,', 'the', 'forms', 'getting', 'cellls,', 'cleared', 'etc?', 'keep', 'seem', 'simple', 'spaced', 'over', 'know', 'spots,', 'always', 'manual', 'datasets', 'things', 'culture', 'co-localization,', 'structural', 'segmentation,', 'mb),', 'automated', 'this', 'cells.', 'show', 'single', 'counting.', 'not', 'great', 'intensity,', 'stain', 'mononucleated', 'non-overlapping', 'area/percent', '~', 'count', 'had.', 'tissue', 'segmentation;', 'boundaries', 'thresholding/segmentation;', 'some', 'isolated', 'prep', 'objects/nuclei', 'across', 'with', 'separated', 'many', 'filament', 'documentation', 'detection,', 'application', 'cells/nuclei/spheres,', 'denoising', 'well', 'analysis.', 'quantitation,', 'outline', 'or', 'isolate', 'nuclei/cells', 'identification,', 'deconvolution,', 'stitching', 'out', 'visualization,', 'hard', 'they', 'um', 'still', 'that', 'quantitation', 'futher', 'right', 'whole', 'shaped', '(multinucleated', 'foci', ',', 'cluster', 'optical', 'calculation,', 'segmenting', 'improvement', '(unless', 'overlap.', 'nuc', '/high', 'improved', 'cells', '(<50', 'spots', 'by', 'structures', 'segmentation', 'optimal.', 'very', 'quantification.', 'human', 'nucleus-based', 'quantification', 'measuring', 'think', 'simultaneously', 'however,', 'morphology', 'argue', 'datasets,', 'segment', 'ultra', 'correction,', 'nuclear', '-', '&', 'analysis', 'extent', '4d', 'particularly', '(cellpose,', 'detecting', 'super-resolution,', 'random', 'hurdle', 'dapi-labeled', 'mitochondria', 'morphological', 'between', 'problems', 'counting,', 'finding,', 'stardist)', 'easily', 'signals.', 'basic', 'shallow', 'counting', '2d,', 'hit', 'vitro', 'clearly', 'everything', 'have', 'strides', 'spots/cells', 'ai', 'mono-nucleated', 'items.', 'etc', 'w/training', 'little', 'culture)', 'on', 'bad', 'is', 'with:', 'distances', '(e.g.', 'filtering', '\"solved\".', '(mostly', 'machine', 'stains', 'analyses', 'plenty,', 'has', 'homogeneous', 'though', 'largely', 'enumerate', 'tracking', 'aud', 'object', 'that,', '2', \"don't\", 'wanting', 'classifying', 'automating', 'data.', 'close', 'marker-based', 'structures.'}\n"
     ]
    }
   ],
   "source": [
    "results = set()\n",
    "well_solved = well_solved.dropna(how='all')\n",
    "well_solved.apply(results.update)\n",
    "print(results)"
   ]
  },
  {
   "cell_type": "code",
   "execution_count": 1017,
   "metadata": {},
   "outputs": [],
   "source": [
    "from collections import Counter"
   ]
  },
  {
   "cell_type": "code",
   "execution_count": 1018,
   "metadata": {},
   "outputs": [
    {
     "name": "stdout",
     "output_type": "stream",
     "text": [
      "Counter({'nuclei': 112, 'finding': 95, 'segmentation': 55, 'and': 40, 'cell': 39, 'of': 33, 'in': 32, 'counting': 26, '2d': 24, 'analysis': 23, 'nuclei,': 21, 'segmentation,': 20, 'cells': 20, 'is': 17, 'tracking': 16, 'to': 16, 'image': 13, 'for': 12, 'objects': 10, 'tissue': 10, 'or': 10, 'fluorescence': 10, 'segmenting': 10, 'basic': 9, 'well': 9, 'the': 9, 'detection': 8, 'with': 8, 'a': 7, 'images': 7, 'that': 7, 'not': 7, 'particle': 7, 'measuring': 7, 'on': 7, 'intensity': 6, 'counting,': 6, '3d': 6, 'nuclear': 6, 'denoising': 6, 'i': 6, 'nucleus': 5, 'high': 5, 'cells,': 5, 'fluorescent': 5, 'sparse': 5, 'within': 5, 'large': 5, 'object': 4, 'simple': 4, 'analysis,': 4, 'are': 4, 'most': 4, 'tracking,': 4, 'images,': 4, 'an': 4, 'be': 4, 'but': 4, 'other': 4, 'detection,': 4, 'types': 4, 'data': 4, 'has': 4, 'culture': 3, 'separated': 3, 'detecting': 3, 'round': 3, 'solved': 3, 'your': 3, 'sample': 3, 'single': 3, 'defined': 3, '&': 3, 'some': 3, 'mammalian': 3, 'contrast': 3, 'identifying': 3, 'puncta': 3, 'all': 3, 'deconvolution': 3, 'things': 3, 'easy': 3, 'background': 3, 'organelles': 3, 'automated': 3, 'spot': 3, 'always': 3, 'it': 3, 'learning': 3, 'manual': 3, 'improvement': 3, 'have': 3, 'nuceli': 2, 'we': 2, 'seem': 2, 'when': 2, 'moving': 2, 'hard': 2, 'cellular': 2, 'segment': 2, 'semi': 2, 'using': 2, 'deconvolution,': 2, 'localization': 2, 'segmented': 2, 'culture)': 2, 'cultured': 2, 'colocalization': 2, 'none': 2, 'work': 2, 'datasets': 2, 'intensity,': 2, 'between': 2, 'spots': 2, 'non-overlapping': 2, 'even': 2, 'so': 2, 'number': 2, 'very': 2, 'solved.': 2, \"don't\": 2, 'imaging': 2, 'better': 2, '(e.g.': 2, '+': 2, 'answer': 2, 'can': 2, 'depends': 2, 'if': 2, 'possible': 2, 'every': 2, 'different': 2, ',': 2, 'machine': 2, 'dapi': 2, 'compartments': 2, 'low': 2, 'by': 2, 'samples': 2, 'time': 2, 'based': 2, 'quantification': 2, 'common': 2, 'small': 2, 'above': 2, 'count': 2, 'out': 2, 'pretty': 2, 'stained': 2, 'bright': 2, 'close': 2, 'morphology': 2, 'as': 2, 'think': 2, 'almost': 2, 'still': 2, 'measurements': 2, 'great': 2, 'been': 2, 'made': 2, 'analysis.': 2, 'stain': 2, 'registration,': 2, 'cells.': 2, 'esp': 1, 'classification,': 1, 'analyses': 1, 'non': 1, 'varying': 1, 'cluster': 1, 'storm': 1, 'molecule': 1, 'fluorescently-labelled': 1, 'enhancement;': 1, 'thresholding/segmentation;': 1, 'morphometry/measurement': 1, 'foci': 1, 'nuclei/roi': 1, 'gross': 1, 'structural': 1, '(not': 1, 'segmenting)': 1, 'hit': 1, 'hurdle': 1, 'qunatitative': 1, 'snr': 1, 'normal': 1, 'dapi-labeled': 1, 'generally': 1, 'until': 1, 'application': 1, 'particularly': 1, 'prep': 1, 'bad': 1, 'dim': 1, 'etc...': 1, 'separation': 1, 'nuclei/cells': 1, 'outlining': 1, 'outline': 1, 'gel': 1, 'quantitation,': 1, 'aud': 1, 'structures': 1, 'biomarkers': 1, 'forms': 1, 'complex': 1, 'shapes': 1, 'spots,': 1, 'single-molecule': 1, 'border': 1, 'filopodia': 1, 'organelle': 1, 'problems': 1, 'where': 1, '?': 1, 'morphological': 1, '(single': 1, 'isolated': 1, 'visualization': 1, 'many': 1, 'problems,': 1, 'especially': 1, 'eukaryotic': 1, 'monotypic': 1, 'types.': 1, 'two': 1, 'signals.': 1, 'across': 1, 'cellls,': 1, 'mean': 1, 'distance': 1, '2': 1, 'fixed': 1, 'etc': 1, 'profiler': 1, 'show': 1, 'people': 1, 'get': 1, 'off': 1, 'ground': 1, 'size': 1, 'well-separated': 1, 'seems': 1, 'well-solved...': 1, 'that,': 1, 'right': 1, 'tool': 1, 'easy,': 1, 'vastness': 1, 'field': 1, '(and': 1, 'solutions)': 1, 'confusing.': 1, 'tissues': 1, 'follows.': 1, 'filament': 1, 'tracing': 1, 'labelled': 1, '/high': 1, 'selection': 1, 'little': 1, '\"generally\"': 1, 'types/cell': 1, '(multinucleated': 1, 'macrophages': 1, 'count)': 1, 'fluo': 1, 'quantifications': 1, 'signal': 1, 'identification': 1, 'than': 1, 'higher': 1, 'dimensions': 1, 'finding,': 1, 'clearly': 1, 'structures.': 1, 'automating': 1, 'limited': 1, 'variability.': 1, 'nuclei/cell': 1, 'does': 1, 'depend': 1, 'quality,': 1, 'labelling': 1, 'etc?': 1, 'n': 1, 'confluency': 1, '(growth': 1, 'rates)': 1, 'quantification.': 1, 'this': 1, '~': 1, 'improved': 1, 'largely': 1, 'uclei': 1, 'threshhold': 1, 'mitochondria': 1, 'optical': 1, 'quantifying': 1, 'easily': 1, 'isolate': 1, 'identify': 1, 'vitro': 1, 'mono-nucleated': 1, 'spots/cells': 1, '2d,': 1, 'intensities': 1, 'none,': 1, 'though': 1, 'works': 1, 'well.': 1, 'challenge,': 1, 'sometimes': 1, 'difficult': 1, 'color': 1, 'random': 1, 'forest,': 1, 'localiying': 1, 'dots': 1, 'over': 1, 'time,': 1, 'staining': 1, '(neutrophils).': 1, 'enumerate': 1, 'objects,': 1, 'distances': 1, 'training': 1, 'datasets,': 1, 'density': 1, 'parts': 1, 'dead': 1, 'cells/nuclei/spheres,': 1, 'determining': 1, '%': 1, 'area': 1, 'occupied': 1, 'everything': 1, 'which': 1, 'problematic': 1, 'real': 1, 'thresholding': 1, 'area/percent': 1, 'calculation,': 1, 'classification': 1, 'cytoplasmic': 1, 'stains': 1, 'classifying': 1, 'clem,': 1, 'connectomics': 1, 'wiring': 1, 'diagrams': 1, 'discrete': 1, 'from': 1, 'spots/features/cells/nuclei/puncta,': 1, 'sizes/volumes.': 1, '4d': 1, 'visualization,': 1, 'stitching': 1, 'registration': 1, '(<50': 1, 'mb),': 1, 'marker-based': 1, 'watershed,': 1, 'quantitation': 1, '(none': 1, 'listed': 1, 'problems)': 1, 'shallow': 1, 'weka)': 1, '(cellpose,': 1, 'knime': 1, 'workflows': 1, 'w/training': 1, 'data,': 1, 'etc.': 1, '-': 1, 'lots': 1, 'options': 1, 'documentation': 1, 'there).': 1, '(yay': 1, 'stardist)': 1, 'good.': 1, 'plenty,': 1, 'room': 1, 'segmentation;': 1, 'tracking;': 1, 'registration/alignment': 1, 'shape': 1, 'confident': 1, 'spaced': 1, 'monolayers': 1, '(unless': 1, 'they': 1, 'too': 1, 'together)': 1, 'user': 1, 'guided': 1, 'roi': 1, 'contrasting': 1, 'regions': 1, 'image,': 1, 'whole': 1, 'blobs': 1, 'particles,': 1, 'co-localization,': 1, 'locating': 1, 'bandpass': 1, 'filtering': 1, 'background/noise': 1, 'reduction,': 1, 'flat': 1, 'opposed': 1, 'embryos': 1, 'boundaries': 1, 'our': 1, 'scope': 1, '(mostly': 1, 'rod': 1, 'shaped': 1, 'bacteria)': 1, \"there's\": 1, 'smlm': 1, 'simultaneously': 1, 'considering': 1, 'xyzt': 1, 'optimal.': 1, 'super-resolution,': 1, 'watershed': 1, 'consistent': 1, 'cytosolic': 1, 'marker': 1, 'foci,': 1, 'resolution': 1, 'dense': 1, '(but': 1, 'extremly': 1, 'dense)': 1, 'co': 1, 'ultra': 1, 'analysing': 1, 'step': 1, 'plenty': 1, 'had.': 1, 'nucleus-based': 1, 'storm-palm-smlm,': 1, 'rics': 1, 'would': 1, 'argue': 1, 'no': 1, 'problem': 1, 'been,': 1, '\"solved\".': 1, 'however,': 1, 'progress': 1, 'non-purely': 1, 'threshold': 1, 'identification,': 1, 'phase-contrast': 1, 'strides': 1, 'also': 1, 'recently': 1, 'respect': 1, 'handling': 1, 'sets': 1, '(though': 1, 'long': 1, 'way': 1, 'go).': 1, 'defining': 1, 'mononucleated': 1, 'fluoresence': 1, 'imaging.': 1, 'classic': 1, 'ai': 1, 'stereotyped': 1, 'cells/subcellular': 1, 's:n': 1, 'stardist': 1, 'thresholding,': 1, 'measures,': 1, 'approaches': 1, 'getting': 1, 'cleared': 1, 'brains': 1, 'objects/nuclei': 1, 'static': 1, 'micrographs,': 1, 'batch': 1, 'localisation': 1, 'proteins': 1, '\"solid\"': 1, 'organelles.': 1, 'counting.': 1, 'yeast': 1, 'otherwise,': 1, 'users': 1, 'keep': 1, 'wanting': 1, 'more': 1, 'more,': 1, 'push': 1, 'futher': 1, 'understand': 1, 'progress.': 1, 'with:': 1, 'correction,': 1, 'selection.': 1, '(thanks': 1, 'cellpose/stardist)': 1, 'them': 1, 'had': 1, 'rely': 1, 'extent': 1, 'human': 1, 'intervention': 1, 'anythng': 1, 'labeled': 1, 'items.': 1, 'rendering': 1, 'data.': 1, 'hcs': 1, 'cellcounting,': 1, 'nuc': 1, 'boring': 1, 'know': 1, 'around': 1, '10': 1, 'um': 1, 'do': 1, 'overlap.': 1, 'specially': 1, 'display': 1, 'homogeneous': 1, 'label': 1, 'then': 1, 'quantify': 1, 'cytoplasm/nucleus': 1})\n"
     ]
    }
   ],
   "source": [
    "results = Counter()\n",
    "well_solved = well_solved.dropna(how='all')\n",
    "well_solved.apply(results.update)\n",
    "print(results)"
   ]
  },
  {
   "cell_type": "code",
   "execution_count": 1024,
   "metadata": {},
   "outputs": [
    {
     "name": "stdout",
     "output_type": "stream",
     "text": [
      "{\"name\": \"John\", \"age\": 30, \"married\": true, \"divorced\": false, \"children\": [\"Ann\", \"Billy\"], \"pets\": null, \"cars\": [{\"model\": \"BMW 230\", \"mpg\": 27.5}, {\"model\": \"Ford Edge\", \"mpg\": 24.1}]}\n"
     ]
    }
   ],
   "source": [
    "x = {\n",
    "  \"name\": \"John\",\n",
    "  \"age\": 30,\n",
    "  \"married\": True,\n",
    "  \"divorced\": False,\n",
    "  \"children\": (\"Ann\",\"Billy\"),\n",
    "  \"pets\": None,\n",
    "  \"cars\": [\n",
    "    {\"model\": \"BMW 230\", \"mpg\": 27.5},\n",
    "    {\"model\": \"Ford Edge\", \"mpg\": 24.1}\n",
    "  ]\n",
    "}\n",
    "\n",
    "print(json.dumps(x))"
   ]
  },
  {
   "cell_type": "code",
   "execution_count": 1025,
   "metadata": {},
   "outputs": [
    {
     "data": {
      "text/plain": [
       "'{\\n    \"name\": \"John\",\\n    \"age\": 30,\\n    \"married\": true,\\n    \"divorced\": false,\\n    \"children\": [\\n        \"Ann\",\\n        \"Billy\"\\n    ],\\n    \"pets\": null,\\n    \"cars\": [\\n        {\\n            \"model\": \"BMW 230\",\\n            \"mpg\": 27.5\\n        },\\n        {\\n            \"model\": \"Ford Edge\",\\n            \"mpg\": 24.1\\n        }\\n    ]\\n}'"
      ]
     },
     "execution_count": 1025,
     "metadata": {},
     "output_type": "execute_result"
    }
   ],
   "source": [
    "json.dumps(x, indent=4)"
   ]
  },
  {
   "cell_type": "code",
   "execution_count": 1026,
   "metadata": {},
   "outputs": [
    {
     "data": {
      "text/plain": [
       "'{\\n    \"name\" = \"John\". \\n    \"age\" = 30. \\n    \"married\" = true. \\n    \"divorced\" = false. \\n    \"children\" = [\\n        \"Ann\". \\n        \"Billy\"\\n    ]. \\n    \"pets\" = null. \\n    \"cars\" = [\\n        {\\n            \"model\" = \"BMW 230\". \\n            \"mpg\" = 27.5\\n        }. \\n        {\\n            \"model\" = \"Ford Edge\". \\n            \"mpg\" = 24.1\\n        }\\n    ]\\n}'"
      ]
     },
     "execution_count": 1026,
     "metadata": {},
     "output_type": "execute_result"
    }
   ],
   "source": [
    "json.dumps(x, indent=4, separators=(\". \", \" = \"))"
   ]
  },
  {
   "cell_type": "code",
   "execution_count": null,
   "metadata": {},
   "outputs": [],
   "source": []
  }
 ],
 "metadata": {
  "kernelspec": {
   "display_name": "base",
   "language": "python",
   "name": "python3"
  },
  "language_info": {
   "codemirror_mode": {
    "name": "ipython",
    "version": 3
   },
   "file_extension": ".py",
   "mimetype": "text/x-python",
   "name": "python",
   "nbconvert_exporter": "python",
   "pygments_lexer": "ipython3",
   "version": "3.9.13"
  },
  "orig_nbformat": 4,
  "vscode": {
   "interpreter": {
    "hash": "d91d12b3fa74ea5e2a00c9bf9da56a759d7f1d3517e109c46b6efdf2002e9553"
   }
  }
 },
 "nbformat": 4,
 "nbformat_minor": 2
}
