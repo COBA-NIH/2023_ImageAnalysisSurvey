{
 "cells": [
  {
   "attachments": {},
   "cell_type": "markdown",
   "metadata": {},
   "source": [
    "#### Templates for the graphs"
   ]
  },
  {
   "attachments": {},
   "cell_type": "markdown",
   "metadata": {},
   "source": [
    "##### Stacked barchart"
   ]
  },
  {
   "cell_type": "code",
   "execution_count": 4,
   "metadata": {},
   "outputs": [],
   "source": [
    "def stacked_barchart(columns, title='', order=[]):\n",
    "    #importing the necessary modules \n",
    "    import pandas as pd\n",
    "    import plotly.express as px\n",
    "    import plotly.graph_objects as go\n",
    "    \n",
    "\n",
    "    df = pd.DataFrame()\n",
    "    for i in columns:\n",
    "        remove_na = i.dropna(how='all')       #removing the null values from the dataframe columns\n",
    "        df_to_list = remove_na.tolist()        #converting the panda series to a list \n",
    "        list_split = [i.split(',') for i in df_to_list]         #the values inside the column are split by comma\n",
    "        list_flat = [i for innerlist in list_split for i in innerlist]      #the nested list is made to a flatlist \n",
    "        list_wo_space = [i.replace(' ', '') for i in list_flat]     #since there were spaces in some of the entries, spaces were removed to make it uniform \n",
    "        dict_values = dict((x,list_wo_space.count(x)) for x in set(list_wo_space))      #the set has only the unique values and it is counted and made to a dictionary \n",
    "        dataframe = pd.DataFrame.from_dict(dict_values, orient='index')         #the dictionary with the unique values and the number of occurences are made into a dataframe \n",
    "        dataframe = dataframe.transpose() \n",
    "        col_name = i.name\n",
    "        dataframe['kinds'] = col_name\n",
    "        df = pd.concat([df, dataframe], axis=0)\n",
    "        \n",
    "        \n",
    "    #df.to_csv(title + '.csv') #saving the dataframe as csv file \n",
    "        \n",
    "       \n",
    "    #creating the stacked bar chart\n",
    "    fig = go.Figure()\n",
    "    df = df.set_index('kinds')\n",
    "    \n",
    "\n",
    "    for i in df.columns:\n",
    "        fig.add_trace(go.Bar(name=i, y=df.index,x=df[i],orientation='h', text=df[i]))\n",
    "        fig.update_layout(barmode='stack')\n",
    "        fig.update_layout(title =title, \n",
    "        title_x=0.5, height =500, title_y=0.9, font=dict(family='Helvetica', color=\"Black\", size=16), legend=dict(title_font_family = 'Helvetica', font=dict(size=16, color=\"Black\")))\n",
    "        fig.update_yaxes(categoryorder='array', categoryarray = order)\n",
    "    #fig.to_image('image' + title + '.svg')\n",
    "    return fig.show()\n",
    "\n",
    "    #  pip install -U kaleido- do you include this in the function?\n",
    "    "
   ]
  },
  {
   "attachments": {},
   "cell_type": "markdown",
   "metadata": {},
   "source": [
    "##### Percentage stacked bar charts "
   ]
  },
  {
   "cell_type": "code",
   "execution_count": 5,
   "metadata": {},
   "outputs": [],
   "source": [
    "def percentage_stackedcharts(columns, title='', order=[]):\n",
    "    #importing the necessary modules \n",
    "    import pandas as pd\n",
    "    import plotly.express as px\n",
    "    import plotly.graph_objects as go\n",
    "\n",
    "    df = pd.DataFrame()\n",
    "    for i in columns:\n",
    "        dataframe = i.value_counts().to_frame() # counting the number of occurences of each unique values\n",
    "        df = pd.concat([df,dataframe], axis=1)  # Appending to the values to the dataframe \n",
    "    \n",
    "    df = df.reset_index()           #resetting the index of the dataframe such that it is easier for making graphs\n",
    "    df = df.rename(columns={'index':'interest'}) \n",
    "    df = df.set_index('interest').transpose()\n",
    "    df.columns = df.columns.str.replace(' ', '')\n",
    "    df.columns\n",
    "    \n",
    "\n",
    "    #creating a dataframe for the percentage values\n",
    "    per_df = pd.DataFrame()         #creating a separate dataframe for percentage values\n",
    "    for col in df.columns:\n",
    "        per_df['percentage '+col] = [((i/df.iloc[0, 0:4].sum())*100) for i in df[col]]  #calculating the percentage values \n",
    "        per_df['percentage '+col] = per_df['percentage '+col].round(decimals=1)\n",
    "    per_df.index =df.index  #defining the index of the dataframe to be similar as the previous dataframe \n",
    "    \n",
    "    \n",
    "    \n",
    "    #saving the dataframe to a csv file \n",
    "    #df.to_csv(title +'.csv')\n",
    "\n",
    "\n",
    "    #creating the chart\n",
    "    fig = go.Figure()\n",
    "\n",
    "    for i in per_df.columns:\n",
    "        name = i.split()\n",
    "        fig.add_trace(go.Bar(name=name[1],x=per_df.index, y=per_df[i], text=[f'{val}%' for val in per_df[i]]))\n",
    "    \n",
    "    fig.update_layout(width=800, height=700, barmode='stack')\n",
    "    fig.update_yaxes(title='Percent')\n",
    "    fig.update_xaxes(categoryorder='array', categoryarray = order)\n",
    "    fig.update_layout(title=title, title_x = 0.5, font=dict(family='Helvetica', color=\"Black\", size=16), legend=dict(title_font_family = 'Helvetica', font=dict(size=16, color=\"Black\")))\n",
    "    #fig.write_image('image'+ title + '.svg')\n",
    "    return fig.show()\n",
    "    "
   ]
  },
  {
   "attachments": {},
   "cell_type": "markdown",
   "metadata": {},
   "source": [
    "##### Wordcloud"
   ]
  },
  {
   "cell_type": "code",
   "execution_count": 6,
   "metadata": {},
   "outputs": [],
   "source": [
    "# defining a function to make a wordcloud \n",
    "# input - Specific columns of a dataframe with the question on the survey data form as the column name\n",
    "def wordcloud(df,extra_stopwords=[]):\n",
    "    from wordcloud import WordCloud, STOPWORDS\n",
    "    import matplotlib.pyplot as plt\n",
    "    input = ''.join(df.str.lower().str.split().dropna(how='all').astype(str).str.replace(r'[-./?!,\":;()\\']',' '))\n",
    "    words_to_remove = df.name.split() \n",
    "    stopwords_new = words_to_remove + list(STOPWORDS) + extra_stopwords\n",
    "    wc_image = WordCloud(stopwords=stopwords_new, background_color='white', width=600, height=600, random_state=4).generate(input)\n",
    "    plt.imshow(wc_image)\n",
    "    plt.tight_layout()\n",
    "    plt.title(df.name)\n",
    "    plt.axis('off')\n",
    "    plt.savefig('Image-' +df.name+ '.png')"
   ]
  }
 ],
 "metadata": {
  "language_info": {
   "name": "python"
  },
  "orig_nbformat": 4
 },
 "nbformat": 4,
 "nbformat_minor": 2
}
