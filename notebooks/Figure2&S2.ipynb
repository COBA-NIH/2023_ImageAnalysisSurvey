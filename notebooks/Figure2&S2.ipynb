{
 "cells": [
  {
   "cell_type": "code",
   "execution_count": 1,
   "metadata": {},
   "outputs": [],
   "source": [
    "#importing the necessary modules\n",
    "import pandas as pd\n",
    "import plotly.express as px\n",
    "import plotly.graph_objects as go\n",
    "import matplotlib.pyplot as plt\n",
    "import numpy as np\n",
    "import plotly.io as pio\n",
    "import kaleido\n",
    "from utils import *\n",
    "\n",
    "%load_ext autoreload\n",
    "%autoreload 2"
   ]
  },
  {
   "cell_type": "code",
   "execution_count": 2,
   "metadata": {},
   "outputs": [],
   "source": [
    "#reading data from main notebook \n",
    "%store -r data"
   ]
  },
  {
   "attachments": {},
   "cell_type": "markdown",
   "metadata": {},
   "source": [
    "### Work type and skills of the participants"
   ]
  },
  {
   "attachments": {},
   "cell_type": "markdown",
   "metadata": {},
   "source": [
    "##### Creation of the dataframes"
   ]
  },
  {
   "cell_type": "code",
   "execution_count": 3,
   "metadata": {},
   "outputs": [],
   "source": [
    "#Dataframe for work description - distribution \n",
    "work_cat = data['Work description'].value_counts().to_frame().reset_index()\n",
    "work_cat['Percentage'] = (work_cat['Work description']/work_cat['Work description'].sum())*100\n",
    "work_cat['Percentage'] = work_cat['Percentage'].round(decimals=1)\n",
    "work_cat.loc[work_cat['index'] <3, 'Category'] ='Imaging'\n",
    "work_cat.loc[(work_cat['index'] >= 3) & (work_cat['index'] <= 5), 'Category'] ='Balanced'\n",
    "work_cat.loc[work_cat['index'] >5 , 'Category'] ='Analyst'\n",
    "work_cat = work_cat.sort_values(by='index')\n",
    "work_cat.to_csv('C:\\\\Users\\\\ssivagur\\\\Documents\\\\GitHub\\\\2023_ImageAnalysisSurvey\\\\csv files\\\\work_des.csv')"
   ]
  },
  {
   "cell_type": "code",
   "execution_count": 4,
   "metadata": {},
   "outputs": [],
   "source": [
    "#dataframe for categorization of computational skills \n",
    "comp_skill_distbn = data[\"Level of computational skills\"].value_counts().to_frame().reset_index()\n",
    "comp_skill_distbn['Percentage'] = (comp_skill_distbn['Level of computational skills']/comp_skill_distbn['Level of computational skills'].sum())*100\n",
    "comp_skill_distbn['Percentage'] = comp_skill_distbn['Percentage'].round(decimals=1)\n",
    "comp_skill_distbn.loc[comp_skill_distbn['index'] <3, 'Category'] = 'Low skill'\n",
    "comp_skill_distbn.loc[(comp_skill_distbn['index'] >= 3) & (comp_skill_distbn['index'] <= 5), 'Category'] = 'Medium skill'\n",
    "comp_skill_distbn.loc[comp_skill_distbn['index'] >5, 'Category'] = 'High skill'\n",
    "comp_skill_distbn = comp_skill_distbn.sort_values(by='index')\n",
    "comp_skill_distbn.to_csv('C:\\\\Users\\\\ssivagur\\\\Documents\\\\GitHub\\\\2023_ImageAnalysisSurvey\\\\csv files\\\\comp_skill_distbn.csv')"
   ]
  },
  {
   "cell_type": "code",
   "execution_count": 5,
   "metadata": {},
   "outputs": [],
   "source": [
    "#dataframe for categorization of comfort in developing new computational skills\n",
    "comf_distbn = data['Comfort in developing computational skills'].value_counts().to_frame().reset_index()\n",
    "comf_distbn['Percentage'] = (comf_distbn['Comfort in developing computational skills']/comf_distbn['Comfort in developing computational skills'].sum())*100\n",
    "comf_distbn['Percentage'] = comf_distbn['Percentage'].round(decimals=1)\n",
    "comf_distbn.loc[comf_distbn['index'] <3, 'Category'] ='Low comfort'\n",
    "comf_distbn.loc[(comf_distbn['index'] >= 3) & (comf_distbn['index'] <= 5), 'Category'] ='Medium comfort'\n",
    "comf_distbn.loc[comf_distbn['index'] >5 , 'Category'] ='High  comfort'\n",
    "comf_distbn = comf_distbn.sort_values(by='index')\n",
    "comf_distbn.to_csv('C:\\\\Users\\\\ssivagur\\\\Documents\\\\GitHub\\\\2023_ImageAnalysisSurvey\\\\csv files\\\\comf_distbn.csv')"
   ]
  },
  {
   "attachments": {},
   "cell_type": "markdown",
   "metadata": {},
   "source": [
    "##### Creation of the figures "
   ]
  },
  {
   "cell_type": "code",
   "execution_count": 10,
   "metadata": {},
   "outputs": [],
   "source": [
    "work_cat_bar = barchart_vertical_fig(work_cat, title = 'Work description',color_by='Category', category_color={'Imaging':'lightskyblue', 'Balanced':'darkseagreen', 'Analyst':'orchid'})\n",
    "comp_skill_distbn_bar = barchart_vertical_fig(comp_skill_distbn, title='Level of computational skills', color_by='Category', category_color={'Low skill':'lightskyblue', 'Medium skill':'darkseagreen', 'High skill':'orchid'})\n",
    "comf_distbn_bar = barchart_vertical_fig(comf_distbn, title='Comfort in developing new computational skills', color_by='Category', category_color={'Low comfort':'lightskyblue', 'Medium comfort':'darkseagreen', 'High  comfort':'orchid'})"
   ]
  },
  {
   "attachments": {},
   "cell_type": "markdown",
   "metadata": {},
   "source": [
    "#### Creation of the sunburst charts"
   ]
  },
  {
   "attachments": {},
   "cell_type": "markdown",
   "metadata": {},
   "source": [
    "##### Creation of the dataframes "
   ]
  },
  {
   "cell_type": "code",
   "execution_count": 6,
   "metadata": {},
   "outputs": [],
   "source": [
    "# Creating new columns for categorization \n",
    "#Creating a column for tarinee status\n",
    "data['Trainee status'] = data['Role'].dropna().apply(lambda x: 'Trainee' if x in ['Undergraduate/Graduate student', 'Postdoctoral fellow'] else 'Nontrainee')\n",
    "\n",
    "# creating a column for work type\n",
    "data.loc[data[\"Work description\"] < 3, \"Work type\" ] = \"Imaging\"\n",
    "data.loc[(data[\"Work description\"] >= 3) & (data[\"Work description\"] <= 5), \"Work type\"] = \"Balanced\"\n",
    "data.loc[data[\"Work description\"] > 5, \"Work type\"] = \"Analyst\"\n",
    "\n",
    "# creating a column for knowledge in computational skills \n",
    "data.loc[data[\"Level of computational skills\"] < 3, \"Knowledge of computational skills\"] = \"Low skill\"\n",
    "data.loc[(data[\"Level of computational skills\"] >= 3) & (data[\"Level of computational skills\"] <= 5), \"Knowledge of computational skills\"] = \"Medium skill\"\n",
    "data.loc[data[\"Level of computational skills\"] > 5, \"Knowledge of computational skills\"] = \"High skill\"\n",
    "\n",
    "# Comfort in developing new computational skills\n",
    "data.loc[data[\"Comfort in developing computational skills\"] < 3, 'Comfort'] = 'Low comfort'\n",
    "data.loc[(data['Comfort in developing computational skills'] >= 3) & (data['Comfort in developing computational skills'] <= 5), 'Comfort'] = \"Medium comfort\"\n",
    "data.loc[data['Comfort in developing computational skills'] > 5 , 'Comfort'] = \"High comfort\""
   ]
  },
  {
   "cell_type": "code",
   "execution_count": 7,
   "metadata": {},
   "outputs": [],
   "source": [
    "#slicing the dataframes for the specific categories\n",
    "#Trainee and non-trainee categorization\n",
    "trainee_df = data.loc[:, (\"Work type\", 'Trainee status')]\n",
    "trainee_df.to_csv('C:\\\\Users\\\\ssivagur\\\\Documents\\\\GitHub\\\\2023_ImageAnalysisSurvey\\\\csv files\\\\trainee_df.csv')\n",
    "\n",
    "trainee_comp_comf_df = data.loc[:, ('Knowledge of computational skills','Comfort', 'Trainee status')]\n",
    "trainee_comp_comf_df.to_csv('C:\\\\Users\\\\ssivagur\\\\Documents\\\\GitHub\\\\2023_ImageAnalysisSurvey\\\\csv files\\\\trainee_comp_comf_df.csv')\n",
    "\n",
    "#combining the work type, comp skills and comfort \n",
    "work_comp_com_df = data.loc[:, ['Work type', 'Knowledge of computational skills', 'Comfort', 'Microscopy for life sciences physical sciences']]\n",
    "work_comp_com_df.to_csv('C:\\\\Users\\\\ssivagur\\\\Documents\\\\GitHub\\\\2023_ImageAnalysisSurvey\\\\csv files\\\\work_comp_com_df.csv')\n",
    "\n",
    "work_comp_com_lif_df = work_comp_com_df.groupby('Microscopy for life sciences physical sciences').get_group('Life Sciences')\n",
    "work_comp_com_lif_df.to_csv('C:\\\\Users\\\\ssivagur\\\\Documents\\\\GitHub\\\\2023_ImageAnalysisSurvey\\\\csv files\\\\work_comp_com_lif_df.csv')\n",
    "\n",
    "work_comp_com_phy_df = work_comp_com_df.groupby('Microscopy for life sciences physical sciences').get_group('Physical Sciences')\n",
    "work_comp_com_phy_df.to_csv('C:\\\\Users\\\\ssivagur\\\\Documents\\\\GitHub\\\\2023_ImageAnalysisSurvey\\\\csv files\\\\work_comp_com_phy_df.csv')"
   ]
  },
  {
   "attachments": {},
   "cell_type": "markdown",
   "metadata": {},
   "source": [
    "##### Creation of the charts"
   ]
  },
  {
   "cell_type": "code",
   "execution_count": 13,
   "metadata": {},
   "outputs": [],
   "source": [
    "# Charts for the tarinees vs non-trainees\n",
    "trainee_worktype_fig  = sunburst_chart(trainee_df, order_list=['Trainee status', \"Work type\"], color_column='Trainee status', custom_colors={'Trainee':'lightskyblue', 'Nontrainee':'darkseagreen'}, title='Worktype categorized based on trainee status')\n",
    "trainee_comp_comf_fig = sunburst_chart(trainee_comp_comf_df, order_list=['Trainee status', 'Knowledge of computational skills', 'Comfort'], color_column='Trainee status', custom_colors={'Trainee':'lightskyblue', 'Nontrainee':'darkseagreen'}, title='Computational skills of the trainees and nontrainees') \n",
    "\n",
    "#Charts for the life sciences vs physical sciences \n",
    "sun_lif = sunburst_chart(work_comp_com_lif_df, order_list=[\"Work type\", 'Knowledge of computational skills', 'Comfort'], color_column='Work type', custom_colors={'Imaging':'lightskyblue', 'Balanced':'darkseagreen', 'Analyst':'orchid'}, title='Skills of the participants (Life Sciences)')\n",
    "sun_phy = sunburst_chart(work_comp_com_phy_df, order_list=[\"Work type\", 'Knowledge of computational skills', 'Comfort'], color_column='Work type', custom_colors={'Imaging':'lightskyblue', 'Balanced':'darkseagreen', 'Analyst':'orchid'}, title='Skills of the participants (Physical Sciences)')\n",
    "\n",
    "#Overall chart\n",
    "lif_phy = sunburst_chart(work_comp_com_df,order_list=[\"Work type\", 'Knowledge of computational skills', 'Comfort'], color_column = 'Work type', custom_colors= {'Imaging':'lightskyblue', 'Balanced':'darkseagreen', 'Analyst':'orchid'}, title='Skills of the participants' )"
   ]
  }
 ],
 "metadata": {
  "kernelspec": {
   "display_name": "base",
   "language": "python",
   "name": "python3"
  },
  "language_info": {
   "codemirror_mode": {
    "name": "ipython",
    "version": 3
   },
   "file_extension": ".py",
   "mimetype": "text/x-python",
   "name": "python",
   "nbconvert_exporter": "python",
   "pygments_lexer": "ipython3",
   "version": "3.9.13"
  },
  "orig_nbformat": 4
 },
 "nbformat": 4,
 "nbformat_minor": 2
}
