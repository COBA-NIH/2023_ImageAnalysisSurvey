{
 "cells": [
  {
   "cell_type": "code",
   "execution_count": 180,
   "metadata": {},
   "outputs": [
    {
     "name": "stdout",
     "output_type": "stream",
     "text": [
      "The autoreload extension is already loaded. To reload it, use:\n",
      "  %reload_ext autoreload\n"
     ]
    }
   ],
   "source": [
    "#importing the necessary modules\n",
    "import pandas as pd\n",
    "from utils_added import *\n",
    "\n",
    "%load_ext autoreload\n",
    "%autoreload 2"
   ]
  },
  {
   "cell_type": "code",
   "execution_count": 181,
   "metadata": {},
   "outputs": [],
   "source": [
    "#reading data from main notebook \n",
    "%store -r data"
   ]
  },
  {
   "attachments": {},
   "cell_type": "markdown",
   "metadata": {},
   "source": [
    "##### Creating the necessary dataframes"
   ]
  },
  {
   "cell_type": "code",
   "execution_count": 182,
   "metadata": {},
   "outputs": [],
   "source": [
    "# creating a column for work type\n",
    "data.loc[data[\"Work description\"] < 3, \"Work type\" ] = \"Imaging\"\n",
    "data.loc[(data[\"Work description\"] >= 3) & (data[\"Work description\"] <= 5), \"Work type\"] = \"Balanced\"\n",
    "data.loc[data[\"Work description\"] > 5, \"Work type\"] = \"Analyst\""
   ]
  },
  {
   "cell_type": "code",
   "execution_count": 183,
   "metadata": {},
   "outputs": [],
   "source": [
    "# Comfort in developing new computational skills\n",
    "data.loc[data[\"Comfort in developing computational skills\"] < 3, 'Comfort'] = 'Low comfort'\n",
    "data.loc[(data['Comfort in developing computational skills'] >= 3) & (data['Comfort in developing computational skills'] <= 5), 'Comfort'] = \"Medium comfort\"\n",
    "data.loc[data['Comfort in developing computational skills'] > 5 , 'Comfort'] = \"High comfort\""
   ]
  },
  {
   "cell_type": "code",
   "execution_count": 184,
   "metadata": {},
   "outputs": [],
   "source": [
    "# creating a column for knowledge in computational skills \n",
    "data.loc[data[\"Level of computational skills\"] < 3, \"Knowledge of computational skills\"] = \"Low skill\"\n",
    "data.loc[(data[\"Level of computational skills\"] >= 3) & (data[\"Level of computational skills\"] <= 5), \"Knowledge of computational skills\"] = \"Medium skill\"\n",
    "data.loc[data[\"Level of computational skills\"] > 5, \"Knowledge of computational skills\"] = \"High skill\""
   ]
  },
  {
   "cell_type": "code",
   "execution_count": 185,
   "metadata": {},
   "outputs": [],
   "source": [
    "#Methods based on work type\n",
    "df = df_for_comparison(data,list_of_col = ['Best practices articles', 'Written tutorials', 'Video tutorial', 'Interactive webinar', 'Office hours', 'One day seminar', 'Multiday workshop'],list_of_groups = ['Imaging', 'Balanced', 'Analyst'],slicing_column = ['Work type'],sort_order = ['Very preferable', 'Moderately preferable', 'Somewhat preferable', 'Not at all preferable'], name='Worktype_methods')\n",
    "\n",
    "#Methods based on comfort\n",
    "df_comfort = df_for_comparison(data, list_of_col=['Best practices articles', 'Written tutorials', 'Video tutorial', 'Interactive webinar', 'Office hours', 'One day seminar', 'Multiday workshop'],list_of_groups = ['High comfort', 'Medium comfort', 'Low comfort'],slicing_column = ['Comfort'], sort_order = ['Very preferable', 'Moderately preferable', 'Somewhat preferable', 'Not at all preferable'], name='Comfort_methods')\n",
    "\n",
    "#Methods based on skills\n",
    "df_skill = df_for_comparison(data, list_of_col=['Best practices articles', 'Written tutorials', 'Video tutorial', 'Interactive webinar', 'Office hours', 'One day seminar', 'Multiday workshop'],list_of_groups = ['High skill', 'Medium skill', 'Low skill'],slicing_column = ['Knowledge of computational skills'], sort_order = ['Very preferable', 'Moderately preferable', 'Somewhat preferable', 'Not at all preferable'], name='Skill_methods')\n",
    "\n",
    "#Topics based on skills\n",
    "df_top_skill = df_for_comparison(data, list_of_col=['Image analysis theory', 'Image analysis practices', 'Topics related to sub discipline', 'Specific software tool', 'Deep learning for image analysis', 'Analyzing large images', 'Visualization of results'],list_of_groups = ['High skill', 'Medium skill', 'Low skill'],slicing_column = ['Knowledge of computational skills'], sort_order=['Very interested', 'Moderately interested', 'Somewhat interested', 'Not at all interested'], name='Skill_topics')"
   ]
  },
  {
   "attachments": {},
   "cell_type": "markdown",
   "metadata": {},
   "source": [
    "#### The subplots "
   ]
  },
  {
   "cell_type": "code",
   "execution_count": 189,
   "metadata": {},
   "outputs": [
    {
     "data": {
      "application/vnd.plotly.v1+json": {
       "config": {
        "plotlyServerURL": "https://plot.ly"
       },
       "data": [
        {
         "marker": {
          "color": "royalblue"
         },
         "name": "Imaging",
         "text": [
          13.6,
          39.5,
          34.6,
          12.3
         ],
         "type": "bar",
         "x": [
          "Very preferable",
          "Moderately preferable",
          "Somewhat preferable",
          "Not at all preferable"
         ],
         "xaxis": "x",
         "y": [
          13.6,
          39.5,
          34.6,
          12.3
         ],
         "yaxis": "y"
        },
        {
         "marker": {
          "color": "royalblue"
         },
         "name": "Imaging",
         "showlegend": false,
         "text": [
          61.7,
          33.3,
          4.9,
          null
         ],
         "type": "bar",
         "x": [
          "Very preferable",
          "Moderately preferable",
          "Somewhat preferable",
          "Not at all preferable"
         ],
         "xaxis": "x2",
         "y": [
          61.7,
          33.3,
          4.9,
          null
         ],
         "yaxis": "y2"
        },
        {
         "marker": {
          "color": "royalblue"
         },
         "name": "Imaging",
         "showlegend": false,
         "text": [
          53.1,
          29.6,
          14.8,
          2.5
         ],
         "type": "bar",
         "x": [
          "Very preferable",
          "Moderately preferable",
          "Somewhat preferable",
          "Not at all preferable"
         ],
         "xaxis": "x3",
         "y": [
          53.1,
          29.6,
          14.8,
          2.5
         ],
         "yaxis": "y3"
        },
        {
         "marker": {
          "color": "royalblue"
         },
         "name": "Imaging",
         "showlegend": false,
         "text": [
          23.5,
          39.5,
          29.6,
          7.4
         ],
         "type": "bar",
         "x": [
          "Very preferable",
          "Moderately preferable",
          "Somewhat preferable",
          "Not at all preferable"
         ],
         "xaxis": "x4",
         "y": [
          23.5,
          39.5,
          29.6,
          7.4
         ],
         "yaxis": "y4"
        },
        {
         "marker": {
          "color": "royalblue"
         },
         "name": "Imaging",
         "showlegend": false,
         "text": [
          45.7,
          30.9,
          17.3,
          6.2
         ],
         "type": "bar",
         "x": [
          "Very preferable",
          "Moderately preferable",
          "Somewhat preferable",
          "Not at all preferable"
         ],
         "xaxis": "x5",
         "y": [
          45.7,
          30.9,
          17.3,
          6.2
         ],
         "yaxis": "y5"
        },
        {
         "marker": {
          "color": "royalblue"
         },
         "name": "Imaging",
         "showlegend": false,
         "text": [
          29.6,
          29.6,
          29.6,
          11.1
         ],
         "type": "bar",
         "x": [
          "Very preferable",
          "Moderately preferable",
          "Somewhat preferable",
          "Not at all preferable"
         ],
         "xaxis": "x6",
         "y": [
          29.6,
          29.6,
          29.6,
          11.1
         ],
         "yaxis": "y6"
        },
        {
         "marker": {
          "color": "royalblue"
         },
         "name": "Imaging",
         "showlegend": false,
         "text": [
          22.2,
          28.4,
          34.6,
          14.8
         ],
         "type": "bar",
         "x": [
          "Very preferable",
          "Moderately preferable",
          "Somewhat preferable",
          "Not at all preferable"
         ],
         "xaxis": "x7",
         "y": [
          22.2,
          28.4,
          34.6,
          14.8
         ],
         "yaxis": "y7"
        },
        {
         "marker": {
          "color": "plum"
         },
         "name": "Balanced",
         "text": [
          16.1,
          33.2,
          40.1,
          10.6
         ],
         "type": "bar",
         "x": [
          "Very preferable",
          "Moderately preferable",
          "Somewhat preferable",
          "Not at all preferable"
         ],
         "xaxis": "x",
         "y": [
          16.1,
          33.2,
          40.1,
          10.6
         ],
         "yaxis": "y"
        },
        {
         "marker": {
          "color": "plum"
         },
         "name": "Balanced",
         "showlegend": false,
         "text": [
          56.5,
          30.7,
          12.1,
          0.6
         ],
         "type": "bar",
         "x": [
          "Very preferable",
          "Moderately preferable",
          "Somewhat preferable",
          "Not at all preferable"
         ],
         "xaxis": "x2",
         "y": [
          56.5,
          30.7,
          12.1,
          0.6
         ],
         "yaxis": "y2"
        },
        {
         "marker": {
          "color": "plum"
         },
         "name": "Balanced",
         "showlegend": false,
         "text": [
          46.6,
          28.3,
          18.6,
          6.5
         ],
         "type": "bar",
         "x": [
          "Very preferable",
          "Moderately preferable",
          "Somewhat preferable",
          "Not at all preferable"
         ],
         "xaxis": "x3",
         "y": [
          46.6,
          28.3,
          18.6,
          6.5
         ],
         "yaxis": "y3"
        },
        {
         "marker": {
          "color": "plum"
         },
         "name": "Balanced",
         "showlegend": false,
         "text": [
          20.2,
          35.4,
          32.3,
          12.1
         ],
         "type": "bar",
         "x": [
          "Very preferable",
          "Moderately preferable",
          "Somewhat preferable",
          "Not at all preferable"
         ],
         "xaxis": "x4",
         "y": [
          20.2,
          35.4,
          32.3,
          12.1
         ],
         "yaxis": "y4"
        },
        {
         "marker": {
          "color": "plum"
         },
         "name": "Balanced",
         "showlegend": false,
         "text": [
          37.9,
          24.2,
          24.8,
          13
         ],
         "type": "bar",
         "x": [
          "Very preferable",
          "Moderately preferable",
          "Somewhat preferable",
          "Not at all preferable"
         ],
         "xaxis": "x5",
         "y": [
          37.9,
          24.2,
          24.8,
          13
         ],
         "yaxis": "y5"
        },
        {
         "marker": {
          "color": "plum"
         },
         "name": "Balanced",
         "showlegend": false,
         "text": [
          21.4,
          37.3,
          27.6,
          13.7
         ],
         "type": "bar",
         "x": [
          "Very preferable",
          "Moderately preferable",
          "Somewhat preferable",
          "Not at all preferable"
         ],
         "xaxis": "x6",
         "y": [
          21.4,
          37.3,
          27.6,
          13.7
         ],
         "yaxis": "y6"
        },
        {
         "marker": {
          "color": "plum"
         },
         "name": "Balanced",
         "showlegend": false,
         "text": [
          17.1,
          27.3,
          36.6,
          18.9
         ],
         "type": "bar",
         "x": [
          "Very preferable",
          "Moderately preferable",
          "Somewhat preferable",
          "Not at all preferable"
         ],
         "xaxis": "x7",
         "y": [
          17.1,
          27.3,
          36.6,
          18.9
         ],
         "yaxis": "y7"
        },
        {
         "marker": {
          "color": "darkturquoise"
         },
         "name": "Analyst",
         "text": [
          28.9,
          28.9,
          36.7,
          5.6
         ],
         "type": "bar",
         "x": [
          "Very preferable",
          "Moderately preferable",
          "Somewhat preferable",
          "Not at all preferable"
         ],
         "xaxis": "x",
         "y": [
          28.9,
          28.9,
          36.7,
          5.6
         ],
         "yaxis": "y"
        },
        {
         "marker": {
          "color": "darkturquoise"
         },
         "name": "Analyst",
         "showlegend": false,
         "text": [
          64.4,
          23.3,
          11.1,
          1.1
         ],
         "type": "bar",
         "x": [
          "Very preferable",
          "Moderately preferable",
          "Somewhat preferable",
          "Not at all preferable"
         ],
         "xaxis": "x2",
         "y": [
          64.4,
          23.3,
          11.1,
          1.1
         ],
         "yaxis": "y2"
        },
        {
         "marker": {
          "color": "darkturquoise"
         },
         "name": "Analyst",
         "showlegend": false,
         "text": [
          40,
          23.3,
          26.7,
          10
         ],
         "type": "bar",
         "x": [
          "Very preferable",
          "Moderately preferable",
          "Somewhat preferable",
          "Not at all preferable"
         ],
         "xaxis": "x3",
         "y": [
          40,
          23.3,
          26.7,
          10
         ],
         "yaxis": "y3"
        },
        {
         "marker": {
          "color": "darkturquoise"
         },
         "name": "Analyst",
         "showlegend": false,
         "text": [
          20,
          28.9,
          42.2,
          8.9
         ],
         "type": "bar",
         "x": [
          "Very preferable",
          "Moderately preferable",
          "Somewhat preferable",
          "Not at all preferable"
         ],
         "xaxis": "x4",
         "y": [
          20,
          28.9,
          42.2,
          8.9
         ],
         "yaxis": "y4"
        },
        {
         "marker": {
          "color": "darkturquoise"
         },
         "name": "Analyst",
         "showlegend": false,
         "text": [
          36.7,
          20,
          34.4,
          8.9
         ],
         "type": "bar",
         "x": [
          "Very preferable",
          "Moderately preferable",
          "Somewhat preferable",
          "Not at all preferable"
         ],
         "xaxis": "x5",
         "y": [
          36.7,
          20,
          34.4,
          8.9
         ],
         "yaxis": "y5"
        },
        {
         "marker": {
          "color": "darkturquoise"
         },
         "name": "Analyst",
         "showlegend": false,
         "text": [
          24.4,
          27.8,
          38.9,
          8.9
         ],
         "type": "bar",
         "x": [
          "Very preferable",
          "Moderately preferable",
          "Somewhat preferable",
          "Not at all preferable"
         ],
         "xaxis": "x6",
         "y": [
          24.4,
          27.8,
          38.9,
          8.9
         ],
         "yaxis": "y6"
        },
        {
         "marker": {
          "color": "darkturquoise"
         },
         "name": "Analyst",
         "showlegend": false,
         "text": [
          17.8,
          28.9,
          41.1,
          12.2
         ],
         "type": "bar",
         "x": [
          "Very preferable",
          "Moderately preferable",
          "Somewhat preferable",
          "Not at all preferable"
         ],
         "xaxis": "x7",
         "y": [
          17.8,
          28.9,
          41.1,
          12.2
         ],
         "yaxis": "y7"
        }
       ],
       "layout": {
        "annotations": [
         {
          "font": {
           "size": 16
          },
          "showarrow": false,
          "text": "Best practices articles",
          "x": 0.225,
          "xanchor": "center",
          "xref": "paper",
          "y": 1,
          "yanchor": "bottom",
          "yref": "paper"
         },
         {
          "font": {
           "size": 16
          },
          "showarrow": false,
          "text": "Written tutorials",
          "x": 0.775,
          "xanchor": "center",
          "xref": "paper",
          "y": 1,
          "yanchor": "bottom",
          "yref": "paper"
         },
         {
          "font": {
           "size": 16
          },
          "showarrow": false,
          "text": "Video tutorial",
          "x": 0.225,
          "xanchor": "center",
          "xref": "paper",
          "y": 0.71875,
          "yanchor": "bottom",
          "yref": "paper"
         },
         {
          "font": {
           "size": 16
          },
          "showarrow": false,
          "text": "Interactive webinar",
          "x": 0.775,
          "xanchor": "center",
          "xref": "paper",
          "y": 0.71875,
          "yanchor": "bottom",
          "yref": "paper"
         },
         {
          "font": {
           "size": 16
          },
          "showarrow": false,
          "text": "Office hours",
          "x": 0.225,
          "xanchor": "center",
          "xref": "paper",
          "y": 0.4375,
          "yanchor": "bottom",
          "yref": "paper"
         },
         {
          "font": {
           "size": 16
          },
          "showarrow": false,
          "text": "One day seminar",
          "x": 0.775,
          "xanchor": "center",
          "xref": "paper",
          "y": 0.4375,
          "yanchor": "bottom",
          "yref": "paper"
         },
         {
          "font": {
           "size": 16
          },
          "showarrow": false,
          "text": "Multiday workshop",
          "x": 0.225,
          "xanchor": "center",
          "xref": "paper",
          "y": 0.15625,
          "yanchor": "bottom",
          "yref": "paper"
         }
        ],
        "font": {
         "color": "Black",
         "family": "Helvetica",
         "size": 14
        },
        "height": 1250,
        "legend": {
         "font": {
          "color": "Black",
          "size": 14
         },
         "title": {
          "font": {
           "family": "Helvetica"
          }
         }
        },
        "template": {
         "data": {
          "bar": [
           {
            "error_x": {
             "color": "#2a3f5f"
            },
            "error_y": {
             "color": "#2a3f5f"
            },
            "marker": {
             "line": {
              "color": "#E5ECF6",
              "width": 0.5
             },
             "pattern": {
              "fillmode": "overlay",
              "size": 10,
              "solidity": 0.2
             }
            },
            "type": "bar"
           }
          ],
          "barpolar": [
           {
            "marker": {
             "line": {
              "color": "#E5ECF6",
              "width": 0.5
             },
             "pattern": {
              "fillmode": "overlay",
              "size": 10,
              "solidity": 0.2
             }
            },
            "type": "barpolar"
           }
          ],
          "carpet": [
           {
            "aaxis": {
             "endlinecolor": "#2a3f5f",
             "gridcolor": "white",
             "linecolor": "white",
             "minorgridcolor": "white",
             "startlinecolor": "#2a3f5f"
            },
            "baxis": {
             "endlinecolor": "#2a3f5f",
             "gridcolor": "white",
             "linecolor": "white",
             "minorgridcolor": "white",
             "startlinecolor": "#2a3f5f"
            },
            "type": "carpet"
           }
          ],
          "choropleth": [
           {
            "colorbar": {
             "outlinewidth": 0,
             "ticks": ""
            },
            "type": "choropleth"
           }
          ],
          "contour": [
           {
            "colorbar": {
             "outlinewidth": 0,
             "ticks": ""
            },
            "colorscale": [
             [
              0,
              "#0d0887"
             ],
             [
              0.1111111111111111,
              "#46039f"
             ],
             [
              0.2222222222222222,
              "#7201a8"
             ],
             [
              0.3333333333333333,
              "#9c179e"
             ],
             [
              0.4444444444444444,
              "#bd3786"
             ],
             [
              0.5555555555555556,
              "#d8576b"
             ],
             [
              0.6666666666666666,
              "#ed7953"
             ],
             [
              0.7777777777777778,
              "#fb9f3a"
             ],
             [
              0.8888888888888888,
              "#fdca26"
             ],
             [
              1,
              "#f0f921"
             ]
            ],
            "type": "contour"
           }
          ],
          "contourcarpet": [
           {
            "colorbar": {
             "outlinewidth": 0,
             "ticks": ""
            },
            "type": "contourcarpet"
           }
          ],
          "heatmap": [
           {
            "colorbar": {
             "outlinewidth": 0,
             "ticks": ""
            },
            "colorscale": [
             [
              0,
              "#0d0887"
             ],
             [
              0.1111111111111111,
              "#46039f"
             ],
             [
              0.2222222222222222,
              "#7201a8"
             ],
             [
              0.3333333333333333,
              "#9c179e"
             ],
             [
              0.4444444444444444,
              "#bd3786"
             ],
             [
              0.5555555555555556,
              "#d8576b"
             ],
             [
              0.6666666666666666,
              "#ed7953"
             ],
             [
              0.7777777777777778,
              "#fb9f3a"
             ],
             [
              0.8888888888888888,
              "#fdca26"
             ],
             [
              1,
              "#f0f921"
             ]
            ],
            "type": "heatmap"
           }
          ],
          "heatmapgl": [
           {
            "colorbar": {
             "outlinewidth": 0,
             "ticks": ""
            },
            "colorscale": [
             [
              0,
              "#0d0887"
             ],
             [
              0.1111111111111111,
              "#46039f"
             ],
             [
              0.2222222222222222,
              "#7201a8"
             ],
             [
              0.3333333333333333,
              "#9c179e"
             ],
             [
              0.4444444444444444,
              "#bd3786"
             ],
             [
              0.5555555555555556,
              "#d8576b"
             ],
             [
              0.6666666666666666,
              "#ed7953"
             ],
             [
              0.7777777777777778,
              "#fb9f3a"
             ],
             [
              0.8888888888888888,
              "#fdca26"
             ],
             [
              1,
              "#f0f921"
             ]
            ],
            "type": "heatmapgl"
           }
          ],
          "histogram": [
           {
            "marker": {
             "pattern": {
              "fillmode": "overlay",
              "size": 10,
              "solidity": 0.2
             }
            },
            "type": "histogram"
           }
          ],
          "histogram2d": [
           {
            "colorbar": {
             "outlinewidth": 0,
             "ticks": ""
            },
            "colorscale": [
             [
              0,
              "#0d0887"
             ],
             [
              0.1111111111111111,
              "#46039f"
             ],
             [
              0.2222222222222222,
              "#7201a8"
             ],
             [
              0.3333333333333333,
              "#9c179e"
             ],
             [
              0.4444444444444444,
              "#bd3786"
             ],
             [
              0.5555555555555556,
              "#d8576b"
             ],
             [
              0.6666666666666666,
              "#ed7953"
             ],
             [
              0.7777777777777778,
              "#fb9f3a"
             ],
             [
              0.8888888888888888,
              "#fdca26"
             ],
             [
              1,
              "#f0f921"
             ]
            ],
            "type": "histogram2d"
           }
          ],
          "histogram2dcontour": [
           {
            "colorbar": {
             "outlinewidth": 0,
             "ticks": ""
            },
            "colorscale": [
             [
              0,
              "#0d0887"
             ],
             [
              0.1111111111111111,
              "#46039f"
             ],
             [
              0.2222222222222222,
              "#7201a8"
             ],
             [
              0.3333333333333333,
              "#9c179e"
             ],
             [
              0.4444444444444444,
              "#bd3786"
             ],
             [
              0.5555555555555556,
              "#d8576b"
             ],
             [
              0.6666666666666666,
              "#ed7953"
             ],
             [
              0.7777777777777778,
              "#fb9f3a"
             ],
             [
              0.8888888888888888,
              "#fdca26"
             ],
             [
              1,
              "#f0f921"
             ]
            ],
            "type": "histogram2dcontour"
           }
          ],
          "mesh3d": [
           {
            "colorbar": {
             "outlinewidth": 0,
             "ticks": ""
            },
            "type": "mesh3d"
           }
          ],
          "parcoords": [
           {
            "line": {
             "colorbar": {
              "outlinewidth": 0,
              "ticks": ""
             }
            },
            "type": "parcoords"
           }
          ],
          "pie": [
           {
            "automargin": true,
            "type": "pie"
           }
          ],
          "scatter": [
           {
            "fillpattern": {
             "fillmode": "overlay",
             "size": 10,
             "solidity": 0.2
            },
            "type": "scatter"
           }
          ],
          "scatter3d": [
           {
            "line": {
             "colorbar": {
              "outlinewidth": 0,
              "ticks": ""
             }
            },
            "marker": {
             "colorbar": {
              "outlinewidth": 0,
              "ticks": ""
             }
            },
            "type": "scatter3d"
           }
          ],
          "scattercarpet": [
           {
            "marker": {
             "colorbar": {
              "outlinewidth": 0,
              "ticks": ""
             }
            },
            "type": "scattercarpet"
           }
          ],
          "scattergeo": [
           {
            "marker": {
             "colorbar": {
              "outlinewidth": 0,
              "ticks": ""
             }
            },
            "type": "scattergeo"
           }
          ],
          "scattergl": [
           {
            "marker": {
             "colorbar": {
              "outlinewidth": 0,
              "ticks": ""
             }
            },
            "type": "scattergl"
           }
          ],
          "scattermapbox": [
           {
            "marker": {
             "colorbar": {
              "outlinewidth": 0,
              "ticks": ""
             }
            },
            "type": "scattermapbox"
           }
          ],
          "scatterpolar": [
           {
            "marker": {
             "colorbar": {
              "outlinewidth": 0,
              "ticks": ""
             }
            },
            "type": "scatterpolar"
           }
          ],
          "scatterpolargl": [
           {
            "marker": {
             "colorbar": {
              "outlinewidth": 0,
              "ticks": ""
             }
            },
            "type": "scatterpolargl"
           }
          ],
          "scatterternary": [
           {
            "marker": {
             "colorbar": {
              "outlinewidth": 0,
              "ticks": ""
             }
            },
            "type": "scatterternary"
           }
          ],
          "surface": [
           {
            "colorbar": {
             "outlinewidth": 0,
             "ticks": ""
            },
            "colorscale": [
             [
              0,
              "#0d0887"
             ],
             [
              0.1111111111111111,
              "#46039f"
             ],
             [
              0.2222222222222222,
              "#7201a8"
             ],
             [
              0.3333333333333333,
              "#9c179e"
             ],
             [
              0.4444444444444444,
              "#bd3786"
             ],
             [
              0.5555555555555556,
              "#d8576b"
             ],
             [
              0.6666666666666666,
              "#ed7953"
             ],
             [
              0.7777777777777778,
              "#fb9f3a"
             ],
             [
              0.8888888888888888,
              "#fdca26"
             ],
             [
              1,
              "#f0f921"
             ]
            ],
            "type": "surface"
           }
          ],
          "table": [
           {
            "cells": {
             "fill": {
              "color": "#EBF0F8"
             },
             "line": {
              "color": "white"
             }
            },
            "header": {
             "fill": {
              "color": "#C8D4E3"
             },
             "line": {
              "color": "white"
             }
            },
            "type": "table"
           }
          ]
         },
         "layout": {
          "annotationdefaults": {
           "arrowcolor": "#2a3f5f",
           "arrowhead": 0,
           "arrowwidth": 1
          },
          "autotypenumbers": "strict",
          "coloraxis": {
           "colorbar": {
            "outlinewidth": 0,
            "ticks": ""
           }
          },
          "colorscale": {
           "diverging": [
            [
             0,
             "#8e0152"
            ],
            [
             0.1,
             "#c51b7d"
            ],
            [
             0.2,
             "#de77ae"
            ],
            [
             0.3,
             "#f1b6da"
            ],
            [
             0.4,
             "#fde0ef"
            ],
            [
             0.5,
             "#f7f7f7"
            ],
            [
             0.6,
             "#e6f5d0"
            ],
            [
             0.7,
             "#b8e186"
            ],
            [
             0.8,
             "#7fbc41"
            ],
            [
             0.9,
             "#4d9221"
            ],
            [
             1,
             "#276419"
            ]
           ],
           "sequential": [
            [
             0,
             "#0d0887"
            ],
            [
             0.1111111111111111,
             "#46039f"
            ],
            [
             0.2222222222222222,
             "#7201a8"
            ],
            [
             0.3333333333333333,
             "#9c179e"
            ],
            [
             0.4444444444444444,
             "#bd3786"
            ],
            [
             0.5555555555555556,
             "#d8576b"
            ],
            [
             0.6666666666666666,
             "#ed7953"
            ],
            [
             0.7777777777777778,
             "#fb9f3a"
            ],
            [
             0.8888888888888888,
             "#fdca26"
            ],
            [
             1,
             "#f0f921"
            ]
           ],
           "sequentialminus": [
            [
             0,
             "#0d0887"
            ],
            [
             0.1111111111111111,
             "#46039f"
            ],
            [
             0.2222222222222222,
             "#7201a8"
            ],
            [
             0.3333333333333333,
             "#9c179e"
            ],
            [
             0.4444444444444444,
             "#bd3786"
            ],
            [
             0.5555555555555556,
             "#d8576b"
            ],
            [
             0.6666666666666666,
             "#ed7953"
            ],
            [
             0.7777777777777778,
             "#fb9f3a"
            ],
            [
             0.8888888888888888,
             "#fdca26"
            ],
            [
             1,
             "#f0f921"
            ]
           ]
          },
          "colorway": [
           "#636efa",
           "#EF553B",
           "#00cc96",
           "#ab63fa",
           "#FFA15A",
           "#19d3f3",
           "#FF6692",
           "#B6E880",
           "#FF97FF",
           "#FECB52"
          ],
          "font": {
           "color": "#2a3f5f"
          },
          "geo": {
           "bgcolor": "white",
           "lakecolor": "white",
           "landcolor": "#E5ECF6",
           "showlakes": true,
           "showland": true,
           "subunitcolor": "white"
          },
          "hoverlabel": {
           "align": "left"
          },
          "hovermode": "closest",
          "mapbox": {
           "style": "light"
          },
          "paper_bgcolor": "white",
          "plot_bgcolor": "#E5ECF6",
          "polar": {
           "angularaxis": {
            "gridcolor": "white",
            "linecolor": "white",
            "ticks": ""
           },
           "bgcolor": "#E5ECF6",
           "radialaxis": {
            "gridcolor": "white",
            "linecolor": "white",
            "ticks": ""
           }
          },
          "scene": {
           "xaxis": {
            "backgroundcolor": "#E5ECF6",
            "gridcolor": "white",
            "gridwidth": 2,
            "linecolor": "white",
            "showbackground": true,
            "ticks": "",
            "zerolinecolor": "white"
           },
           "yaxis": {
            "backgroundcolor": "#E5ECF6",
            "gridcolor": "white",
            "gridwidth": 2,
            "linecolor": "white",
            "showbackground": true,
            "ticks": "",
            "zerolinecolor": "white"
           },
           "zaxis": {
            "backgroundcolor": "#E5ECF6",
            "gridcolor": "white",
            "gridwidth": 2,
            "linecolor": "white",
            "showbackground": true,
            "ticks": "",
            "zerolinecolor": "white"
           }
          },
          "shapedefaults": {
           "line": {
            "color": "#2a3f5f"
           }
          },
          "ternary": {
           "aaxis": {
            "gridcolor": "white",
            "linecolor": "white",
            "ticks": ""
           },
           "baxis": {
            "gridcolor": "white",
            "linecolor": "white",
            "ticks": ""
           },
           "bgcolor": "#E5ECF6",
           "caxis": {
            "gridcolor": "white",
            "linecolor": "white",
            "ticks": ""
           }
          },
          "title": {
           "x": 0.05
          },
          "xaxis": {
           "automargin": true,
           "gridcolor": "white",
           "linecolor": "white",
           "ticks": "",
           "title": {
            "standoff": 15
           },
           "zerolinecolor": "white",
           "zerolinewidth": 2
          },
          "yaxis": {
           "automargin": true,
           "gridcolor": "white",
           "linecolor": "white",
           "ticks": "",
           "title": {
            "standoff": 15
           },
           "zerolinecolor": "white",
           "zerolinewidth": 2
          }
         }
        },
        "title": {
         "text": "Preferable instructional methods",
         "x": 0.5
        },
        "width": 650,
        "xaxis": {
         "anchor": "y",
         "domain": [
          0,
          0.45
         ]
        },
        "xaxis2": {
         "anchor": "y2",
         "domain": [
          0.55,
          1
         ]
        },
        "xaxis3": {
         "anchor": "y3",
         "domain": [
          0,
          0.45
         ]
        },
        "xaxis4": {
         "anchor": "y4",
         "domain": [
          0.55,
          1
         ]
        },
        "xaxis5": {
         "anchor": "y5",
         "domain": [
          0,
          0.45
         ]
        },
        "xaxis6": {
         "anchor": "y6",
         "domain": [
          0.55,
          1
         ]
        },
        "xaxis7": {
         "anchor": "y7",
         "domain": [
          0,
          0.45
         ]
        },
        "xaxis8": {
         "anchor": "y8",
         "domain": [
          0.55,
          1
         ]
        },
        "yaxis": {
         "anchor": "x",
         "domain": [
          0.84375,
          1
         ],
         "matches": "y7",
         "title": {
          "text": "Percent"
         }
        },
        "yaxis2": {
         "anchor": "x2",
         "domain": [
          0.84375,
          1
         ],
         "matches": "y7",
         "showticklabels": false
        },
        "yaxis3": {
         "anchor": "x3",
         "domain": [
          0.5625,
          0.71875
         ],
         "matches": "y7",
         "title": {
          "text": "Percent"
         }
        },
        "yaxis4": {
         "anchor": "x4",
         "domain": [
          0.5625,
          0.71875
         ],
         "matches": "y7",
         "showticklabels": false
        },
        "yaxis5": {
         "anchor": "x5",
         "domain": [
          0.28125,
          0.4375
         ],
         "matches": "y7",
         "title": {
          "text": "Percent"
         }
        },
        "yaxis6": {
         "anchor": "x6",
         "domain": [
          0.28125,
          0.4375
         ],
         "matches": "y7",
         "showticklabels": false
        },
        "yaxis7": {
         "anchor": "x7",
         "domain": [
          0,
          0.15625
         ],
         "title": {
          "text": "Percent"
         }
        },
        "yaxis8": {
         "anchor": "x8",
         "domain": [
          0,
          0.15625
         ],
         "matches": "y7",
         "showticklabels": false
        }
       }
      }
     },
     "metadata": {},
     "output_type": "display_data"
    }
   ],
   "source": [
    "fig_subgroups(df,list_of_col = ['Best practices articles', 'Written tutorials', 'Video tutorial', 'Interactive webinar', 'Office hours', 'One day seminar', 'Multiday workshop'], list_of_groups = ['Imaging', 'Balanced', 'Analyst'],colorkey = ['royalblue', 'plum', 'darkturquoise'],title = 'Preferable instructional methods')"
   ]
  },
  {
   "cell_type": "code",
   "execution_count": 190,
   "metadata": {},
   "outputs": [
    {
     "data": {
      "application/vnd.plotly.v1+json": {
       "config": {
        "plotlyServerURL": "https://plot.ly"
       },
       "data": [
        {
         "marker": {
          "color": "darkviolet"
         },
         "name": "High comfort",
         "text": [
          22.3,
          30.4,
          38.6,
          8.7
         ],
         "type": "bar",
         "x": [
          "Very preferable",
          "Moderately preferable",
          "Somewhat preferable",
          "Not at all preferable"
         ],
         "xaxis": "x",
         "y": [
          22.3,
          30.4,
          38.6,
          8.7
         ],
         "yaxis": "y"
        },
        {
         "marker": {
          "color": "darkviolet"
         },
         "name": "High comfort",
         "showlegend": false,
         "text": [
          59.2,
          26.1,
          14.1,
          0.5
         ],
         "type": "bar",
         "x": [
          "Very preferable",
          "Moderately preferable",
          "Somewhat preferable",
          "Not at all preferable"
         ],
         "xaxis": "x2",
         "y": [
          59.2,
          26.1,
          14.1,
          0.5
         ],
         "yaxis": "y2"
        },
        {
         "marker": {
          "color": "darkviolet"
         },
         "name": "High comfort",
         "showlegend": false,
         "text": [
          38.6,
          28.3,
          25,
          8.2
         ],
         "type": "bar",
         "x": [
          "Very preferable",
          "Moderately preferable",
          "Somewhat preferable",
          "Not at all preferable"
         ],
         "xaxis": "x3",
         "y": [
          38.6,
          28.3,
          25,
          8.2
         ],
         "yaxis": "y3"
        },
        {
         "marker": {
          "color": "darkviolet"
         },
         "name": "High comfort",
         "showlegend": false,
         "text": [
          16.3,
          40.2,
          31,
          12.5
         ],
         "type": "bar",
         "x": [
          "Very preferable",
          "Moderately preferable",
          "Somewhat preferable",
          "Not at all preferable"
         ],
         "xaxis": "x4",
         "y": [
          16.3,
          40.2,
          31,
          12.5
         ],
         "yaxis": "y4"
        },
        {
         "marker": {
          "color": "darkviolet"
         },
         "name": "High comfort",
         "showlegend": false,
         "text": [
          32.1,
          23.9,
          31,
          13
         ],
         "type": "bar",
         "x": [
          "Very preferable",
          "Moderately preferable",
          "Somewhat preferable",
          "Not at all preferable"
         ],
         "xaxis": "x5",
         "y": [
          32.1,
          23.9,
          31,
          13
         ],
         "yaxis": "y5"
        },
        {
         "marker": {
          "color": "darkviolet"
         },
         "name": "High comfort",
         "showlegend": false,
         "text": [
          21.2,
          33.2,
          34.2,
          11.4
         ],
         "type": "bar",
         "x": [
          "Very preferable",
          "Moderately preferable",
          "Somewhat preferable",
          "Not at all preferable"
         ],
         "xaxis": "x6",
         "y": [
          21.2,
          33.2,
          34.2,
          11.4
         ],
         "yaxis": "y6"
        },
        {
         "marker": {
          "color": "darkviolet"
         },
         "name": "High comfort",
         "showlegend": false,
         "text": [
          16.3,
          31,
          38,
          14.7
         ],
         "type": "bar",
         "x": [
          "Very preferable",
          "Moderately preferable",
          "Somewhat preferable",
          "Not at all preferable"
         ],
         "xaxis": "x7",
         "y": [
          16.3,
          31,
          38,
          14.7
         ],
         "yaxis": "y7"
        },
        {
         "marker": {
          "color": "blueviolet"
         },
         "name": "Medium comfort",
         "text": [
          15.4,
          38.2,
          37.8,
          8.7
         ],
         "type": "bar",
         "x": [
          "Very preferable",
          "Moderately preferable",
          "Somewhat preferable",
          "Not at all preferable"
         ],
         "xaxis": "x",
         "y": [
          15.4,
          38.2,
          37.8,
          8.7
         ],
         "yaxis": "y"
        },
        {
         "marker": {
          "color": "blueviolet"
         },
         "name": "Medium comfort",
         "showlegend": false,
         "text": [
          58.5,
          34.4,
          6.2,
          0.8
         ],
         "type": "bar",
         "x": [
          "Very preferable",
          "Moderately preferable",
          "Somewhat preferable",
          "Not at all preferable"
         ],
         "xaxis": "x2",
         "y": [
          58.5,
          34.4,
          6.2,
          0.8
         ],
         "yaxis": "y2"
        },
        {
         "marker": {
          "color": "blueviolet"
         },
         "name": "Medium comfort",
         "showlegend": false,
         "text": [
          48.1,
          29.9,
          16.6,
          5.4
         ],
         "type": "bar",
         "x": [
          "Very preferable",
          "Moderately preferable",
          "Somewhat preferable",
          "Not at all preferable"
         ],
         "xaxis": "x3",
         "y": [
          48.1,
          29.9,
          16.6,
          5.4
         ],
         "yaxis": "y3"
        },
        {
         "marker": {
          "color": "blueviolet"
         },
         "name": "Medium comfort",
         "showlegend": false,
         "text": [
          21.2,
          32.4,
          35.7,
          10.8
         ],
         "type": "bar",
         "x": [
          "Very preferable",
          "Moderately preferable",
          "Somewhat preferable",
          "Not at all preferable"
         ],
         "xaxis": "x4",
         "y": [
          21.2,
          32.4,
          35.7,
          10.8
         ],
         "yaxis": "y4"
        },
        {
         "marker": {
          "color": "blueviolet"
         },
         "name": "Medium comfort",
         "showlegend": false,
         "text": [
          40.7,
          25.7,
          22.8,
          10.8
         ],
         "type": "bar",
         "x": [
          "Very preferable",
          "Moderately preferable",
          "Somewhat preferable",
          "Not at all preferable"
         ],
         "xaxis": "x5",
         "y": [
          40.7,
          25.7,
          22.8,
          10.8
         ],
         "yaxis": "y5"
        },
        {
         "marker": {
          "color": "blueviolet"
         },
         "name": "Medium comfort",
         "showlegend": false,
         "text": [
          22.8,
          36.5,
          27.4,
          13.3
         ],
         "type": "bar",
         "x": [
          "Very preferable",
          "Moderately preferable",
          "Somewhat preferable",
          "Not at all preferable"
         ],
         "xaxis": "x6",
         "y": [
          22.8,
          36.5,
          27.4,
          13.3
         ],
         "yaxis": "y6"
        },
        {
         "marker": {
          "color": "blueviolet"
         },
         "name": "Medium comfort",
         "showlegend": false,
         "text": [
          17.8,
          26.6,
          36.5,
          19.1
         ],
         "type": "bar",
         "x": [
          "Very preferable",
          "Moderately preferable",
          "Somewhat preferable",
          "Not at all preferable"
         ],
         "xaxis": "x7",
         "y": [
          17.8,
          26.6,
          36.5,
          19.1
         ],
         "yaxis": "y7"
        },
        {
         "marker": {
          "color": "violet"
         },
         "name": "Low comfort",
         "text": [
          16.2,
          25,
          41.2,
          17.6
         ],
         "type": "bar",
         "x": [
          "Very preferable",
          "Moderately preferable",
          "Somewhat preferable",
          "Not at all preferable"
         ],
         "xaxis": "x",
         "y": [
          16.2,
          25,
          41.2,
          17.6
         ],
         "yaxis": "y"
        },
        {
         "marker": {
          "color": "violet"
         },
         "name": "Low comfort",
         "showlegend": false,
         "text": [
          58.8,
          23.5,
          17.6,
          null
         ],
         "type": "bar",
         "x": [
          "Very preferable",
          "Moderately preferable",
          "Somewhat preferable",
          "Not at all preferable"
         ],
         "xaxis": "x2",
         "y": [
          58.8,
          23.5,
          17.6,
          null
         ],
         "yaxis": "y2"
        },
        {
         "marker": {
          "color": "violet"
         },
         "name": "Low comfort",
         "showlegend": false,
         "text": [
          61.8,
          17.6,
          14.7,
          5.9
         ],
         "type": "bar",
         "x": [
          "Very preferable",
          "Moderately preferable",
          "Somewhat preferable",
          "Not at all preferable"
         ],
         "xaxis": "x3",
         "y": [
          61.8,
          17.6,
          14.7,
          5.9
         ],
         "yaxis": "y3"
        },
        {
         "marker": {
          "color": "violet"
         },
         "name": "Low comfort",
         "showlegend": false,
         "text": [
          30.9,
          29.4,
          33.8,
          5.9
         ],
         "type": "bar",
         "x": [
          "Very preferable",
          "Moderately preferable",
          "Somewhat preferable",
          "Not at all preferable"
         ],
         "xaxis": "x4",
         "y": [
          30.9,
          29.4,
          33.8,
          5.9
         ],
         "yaxis": "y4"
        },
        {
         "marker": {
          "color": "violet"
         },
         "name": "Low comfort",
         "showlegend": false,
         "text": [
          51.5,
          22.1,
          19.1,
          7.4
         ],
         "type": "bar",
         "x": [
          "Very preferable",
          "Moderately preferable",
          "Somewhat preferable",
          "Not at all preferable"
         ],
         "xaxis": "x5",
         "y": [
          51.5,
          22.1,
          19.1,
          7.4
         ],
         "yaxis": "y5"
        },
        {
         "marker": {
          "color": "violet"
         },
         "name": "Low comfort",
         "showlegend": false,
         "text": [
          30.9,
          29.4,
          27.9,
          11.8
         ],
         "type": "bar",
         "x": [
          "Very preferable",
          "Moderately preferable",
          "Somewhat preferable",
          "Not at all preferable"
         ],
         "xaxis": "x6",
         "y": [
          30.9,
          29.4,
          27.9,
          11.8
         ],
         "yaxis": "y6"
        },
        {
         "marker": {
          "color": "violet"
         },
         "name": "Low comfort",
         "showlegend": false,
         "text": [
          23.5,
          23.5,
          36.8,
          16.2
         ],
         "type": "bar",
         "x": [
          "Very preferable",
          "Moderately preferable",
          "Somewhat preferable",
          "Not at all preferable"
         ],
         "xaxis": "x7",
         "y": [
          23.5,
          23.5,
          36.8,
          16.2
         ],
         "yaxis": "y7"
        }
       ],
       "layout": {
        "annotations": [
         {
          "font": {
           "size": 16
          },
          "showarrow": false,
          "text": "Best practices articles",
          "x": 0.225,
          "xanchor": "center",
          "xref": "paper",
          "y": 1,
          "yanchor": "bottom",
          "yref": "paper"
         },
         {
          "font": {
           "size": 16
          },
          "showarrow": false,
          "text": "Written tutorials",
          "x": 0.775,
          "xanchor": "center",
          "xref": "paper",
          "y": 1,
          "yanchor": "bottom",
          "yref": "paper"
         },
         {
          "font": {
           "size": 16
          },
          "showarrow": false,
          "text": "Video tutorial",
          "x": 0.225,
          "xanchor": "center",
          "xref": "paper",
          "y": 0.71875,
          "yanchor": "bottom",
          "yref": "paper"
         },
         {
          "font": {
           "size": 16
          },
          "showarrow": false,
          "text": "Interactive webinar",
          "x": 0.775,
          "xanchor": "center",
          "xref": "paper",
          "y": 0.71875,
          "yanchor": "bottom",
          "yref": "paper"
         },
         {
          "font": {
           "size": 16
          },
          "showarrow": false,
          "text": "Office hours",
          "x": 0.225,
          "xanchor": "center",
          "xref": "paper",
          "y": 0.4375,
          "yanchor": "bottom",
          "yref": "paper"
         },
         {
          "font": {
           "size": 16
          },
          "showarrow": false,
          "text": "One day seminar",
          "x": 0.775,
          "xanchor": "center",
          "xref": "paper",
          "y": 0.4375,
          "yanchor": "bottom",
          "yref": "paper"
         },
         {
          "font": {
           "size": 16
          },
          "showarrow": false,
          "text": "Multiday workshop",
          "x": 0.225,
          "xanchor": "center",
          "xref": "paper",
          "y": 0.15625,
          "yanchor": "bottom",
          "yref": "paper"
         }
        ],
        "font": {
         "color": "Black",
         "family": "Helvetica",
         "size": 14
        },
        "height": 1250,
        "legend": {
         "font": {
          "color": "Black",
          "size": 14
         },
         "title": {
          "font": {
           "family": "Helvetica"
          }
         }
        },
        "template": {
         "data": {
          "bar": [
           {
            "error_x": {
             "color": "#2a3f5f"
            },
            "error_y": {
             "color": "#2a3f5f"
            },
            "marker": {
             "line": {
              "color": "#E5ECF6",
              "width": 0.5
             },
             "pattern": {
              "fillmode": "overlay",
              "size": 10,
              "solidity": 0.2
             }
            },
            "type": "bar"
           }
          ],
          "barpolar": [
           {
            "marker": {
             "line": {
              "color": "#E5ECF6",
              "width": 0.5
             },
             "pattern": {
              "fillmode": "overlay",
              "size": 10,
              "solidity": 0.2
             }
            },
            "type": "barpolar"
           }
          ],
          "carpet": [
           {
            "aaxis": {
             "endlinecolor": "#2a3f5f",
             "gridcolor": "white",
             "linecolor": "white",
             "minorgridcolor": "white",
             "startlinecolor": "#2a3f5f"
            },
            "baxis": {
             "endlinecolor": "#2a3f5f",
             "gridcolor": "white",
             "linecolor": "white",
             "minorgridcolor": "white",
             "startlinecolor": "#2a3f5f"
            },
            "type": "carpet"
           }
          ],
          "choropleth": [
           {
            "colorbar": {
             "outlinewidth": 0,
             "ticks": ""
            },
            "type": "choropleth"
           }
          ],
          "contour": [
           {
            "colorbar": {
             "outlinewidth": 0,
             "ticks": ""
            },
            "colorscale": [
             [
              0,
              "#0d0887"
             ],
             [
              0.1111111111111111,
              "#46039f"
             ],
             [
              0.2222222222222222,
              "#7201a8"
             ],
             [
              0.3333333333333333,
              "#9c179e"
             ],
             [
              0.4444444444444444,
              "#bd3786"
             ],
             [
              0.5555555555555556,
              "#d8576b"
             ],
             [
              0.6666666666666666,
              "#ed7953"
             ],
             [
              0.7777777777777778,
              "#fb9f3a"
             ],
             [
              0.8888888888888888,
              "#fdca26"
             ],
             [
              1,
              "#f0f921"
             ]
            ],
            "type": "contour"
           }
          ],
          "contourcarpet": [
           {
            "colorbar": {
             "outlinewidth": 0,
             "ticks": ""
            },
            "type": "contourcarpet"
           }
          ],
          "heatmap": [
           {
            "colorbar": {
             "outlinewidth": 0,
             "ticks": ""
            },
            "colorscale": [
             [
              0,
              "#0d0887"
             ],
             [
              0.1111111111111111,
              "#46039f"
             ],
             [
              0.2222222222222222,
              "#7201a8"
             ],
             [
              0.3333333333333333,
              "#9c179e"
             ],
             [
              0.4444444444444444,
              "#bd3786"
             ],
             [
              0.5555555555555556,
              "#d8576b"
             ],
             [
              0.6666666666666666,
              "#ed7953"
             ],
             [
              0.7777777777777778,
              "#fb9f3a"
             ],
             [
              0.8888888888888888,
              "#fdca26"
             ],
             [
              1,
              "#f0f921"
             ]
            ],
            "type": "heatmap"
           }
          ],
          "heatmapgl": [
           {
            "colorbar": {
             "outlinewidth": 0,
             "ticks": ""
            },
            "colorscale": [
             [
              0,
              "#0d0887"
             ],
             [
              0.1111111111111111,
              "#46039f"
             ],
             [
              0.2222222222222222,
              "#7201a8"
             ],
             [
              0.3333333333333333,
              "#9c179e"
             ],
             [
              0.4444444444444444,
              "#bd3786"
             ],
             [
              0.5555555555555556,
              "#d8576b"
             ],
             [
              0.6666666666666666,
              "#ed7953"
             ],
             [
              0.7777777777777778,
              "#fb9f3a"
             ],
             [
              0.8888888888888888,
              "#fdca26"
             ],
             [
              1,
              "#f0f921"
             ]
            ],
            "type": "heatmapgl"
           }
          ],
          "histogram": [
           {
            "marker": {
             "pattern": {
              "fillmode": "overlay",
              "size": 10,
              "solidity": 0.2
             }
            },
            "type": "histogram"
           }
          ],
          "histogram2d": [
           {
            "colorbar": {
             "outlinewidth": 0,
             "ticks": ""
            },
            "colorscale": [
             [
              0,
              "#0d0887"
             ],
             [
              0.1111111111111111,
              "#46039f"
             ],
             [
              0.2222222222222222,
              "#7201a8"
             ],
             [
              0.3333333333333333,
              "#9c179e"
             ],
             [
              0.4444444444444444,
              "#bd3786"
             ],
             [
              0.5555555555555556,
              "#d8576b"
             ],
             [
              0.6666666666666666,
              "#ed7953"
             ],
             [
              0.7777777777777778,
              "#fb9f3a"
             ],
             [
              0.8888888888888888,
              "#fdca26"
             ],
             [
              1,
              "#f0f921"
             ]
            ],
            "type": "histogram2d"
           }
          ],
          "histogram2dcontour": [
           {
            "colorbar": {
             "outlinewidth": 0,
             "ticks": ""
            },
            "colorscale": [
             [
              0,
              "#0d0887"
             ],
             [
              0.1111111111111111,
              "#46039f"
             ],
             [
              0.2222222222222222,
              "#7201a8"
             ],
             [
              0.3333333333333333,
              "#9c179e"
             ],
             [
              0.4444444444444444,
              "#bd3786"
             ],
             [
              0.5555555555555556,
              "#d8576b"
             ],
             [
              0.6666666666666666,
              "#ed7953"
             ],
             [
              0.7777777777777778,
              "#fb9f3a"
             ],
             [
              0.8888888888888888,
              "#fdca26"
             ],
             [
              1,
              "#f0f921"
             ]
            ],
            "type": "histogram2dcontour"
           }
          ],
          "mesh3d": [
           {
            "colorbar": {
             "outlinewidth": 0,
             "ticks": ""
            },
            "type": "mesh3d"
           }
          ],
          "parcoords": [
           {
            "line": {
             "colorbar": {
              "outlinewidth": 0,
              "ticks": ""
             }
            },
            "type": "parcoords"
           }
          ],
          "pie": [
           {
            "automargin": true,
            "type": "pie"
           }
          ],
          "scatter": [
           {
            "fillpattern": {
             "fillmode": "overlay",
             "size": 10,
             "solidity": 0.2
            },
            "type": "scatter"
           }
          ],
          "scatter3d": [
           {
            "line": {
             "colorbar": {
              "outlinewidth": 0,
              "ticks": ""
             }
            },
            "marker": {
             "colorbar": {
              "outlinewidth": 0,
              "ticks": ""
             }
            },
            "type": "scatter3d"
           }
          ],
          "scattercarpet": [
           {
            "marker": {
             "colorbar": {
              "outlinewidth": 0,
              "ticks": ""
             }
            },
            "type": "scattercarpet"
           }
          ],
          "scattergeo": [
           {
            "marker": {
             "colorbar": {
              "outlinewidth": 0,
              "ticks": ""
             }
            },
            "type": "scattergeo"
           }
          ],
          "scattergl": [
           {
            "marker": {
             "colorbar": {
              "outlinewidth": 0,
              "ticks": ""
             }
            },
            "type": "scattergl"
           }
          ],
          "scattermapbox": [
           {
            "marker": {
             "colorbar": {
              "outlinewidth": 0,
              "ticks": ""
             }
            },
            "type": "scattermapbox"
           }
          ],
          "scatterpolar": [
           {
            "marker": {
             "colorbar": {
              "outlinewidth": 0,
              "ticks": ""
             }
            },
            "type": "scatterpolar"
           }
          ],
          "scatterpolargl": [
           {
            "marker": {
             "colorbar": {
              "outlinewidth": 0,
              "ticks": ""
             }
            },
            "type": "scatterpolargl"
           }
          ],
          "scatterternary": [
           {
            "marker": {
             "colorbar": {
              "outlinewidth": 0,
              "ticks": ""
             }
            },
            "type": "scatterternary"
           }
          ],
          "surface": [
           {
            "colorbar": {
             "outlinewidth": 0,
             "ticks": ""
            },
            "colorscale": [
             [
              0,
              "#0d0887"
             ],
             [
              0.1111111111111111,
              "#46039f"
             ],
             [
              0.2222222222222222,
              "#7201a8"
             ],
             [
              0.3333333333333333,
              "#9c179e"
             ],
             [
              0.4444444444444444,
              "#bd3786"
             ],
             [
              0.5555555555555556,
              "#d8576b"
             ],
             [
              0.6666666666666666,
              "#ed7953"
             ],
             [
              0.7777777777777778,
              "#fb9f3a"
             ],
             [
              0.8888888888888888,
              "#fdca26"
             ],
             [
              1,
              "#f0f921"
             ]
            ],
            "type": "surface"
           }
          ],
          "table": [
           {
            "cells": {
             "fill": {
              "color": "#EBF0F8"
             },
             "line": {
              "color": "white"
             }
            },
            "header": {
             "fill": {
              "color": "#C8D4E3"
             },
             "line": {
              "color": "white"
             }
            },
            "type": "table"
           }
          ]
         },
         "layout": {
          "annotationdefaults": {
           "arrowcolor": "#2a3f5f",
           "arrowhead": 0,
           "arrowwidth": 1
          },
          "autotypenumbers": "strict",
          "coloraxis": {
           "colorbar": {
            "outlinewidth": 0,
            "ticks": ""
           }
          },
          "colorscale": {
           "diverging": [
            [
             0,
             "#8e0152"
            ],
            [
             0.1,
             "#c51b7d"
            ],
            [
             0.2,
             "#de77ae"
            ],
            [
             0.3,
             "#f1b6da"
            ],
            [
             0.4,
             "#fde0ef"
            ],
            [
             0.5,
             "#f7f7f7"
            ],
            [
             0.6,
             "#e6f5d0"
            ],
            [
             0.7,
             "#b8e186"
            ],
            [
             0.8,
             "#7fbc41"
            ],
            [
             0.9,
             "#4d9221"
            ],
            [
             1,
             "#276419"
            ]
           ],
           "sequential": [
            [
             0,
             "#0d0887"
            ],
            [
             0.1111111111111111,
             "#46039f"
            ],
            [
             0.2222222222222222,
             "#7201a8"
            ],
            [
             0.3333333333333333,
             "#9c179e"
            ],
            [
             0.4444444444444444,
             "#bd3786"
            ],
            [
             0.5555555555555556,
             "#d8576b"
            ],
            [
             0.6666666666666666,
             "#ed7953"
            ],
            [
             0.7777777777777778,
             "#fb9f3a"
            ],
            [
             0.8888888888888888,
             "#fdca26"
            ],
            [
             1,
             "#f0f921"
            ]
           ],
           "sequentialminus": [
            [
             0,
             "#0d0887"
            ],
            [
             0.1111111111111111,
             "#46039f"
            ],
            [
             0.2222222222222222,
             "#7201a8"
            ],
            [
             0.3333333333333333,
             "#9c179e"
            ],
            [
             0.4444444444444444,
             "#bd3786"
            ],
            [
             0.5555555555555556,
             "#d8576b"
            ],
            [
             0.6666666666666666,
             "#ed7953"
            ],
            [
             0.7777777777777778,
             "#fb9f3a"
            ],
            [
             0.8888888888888888,
             "#fdca26"
            ],
            [
             1,
             "#f0f921"
            ]
           ]
          },
          "colorway": [
           "#636efa",
           "#EF553B",
           "#00cc96",
           "#ab63fa",
           "#FFA15A",
           "#19d3f3",
           "#FF6692",
           "#B6E880",
           "#FF97FF",
           "#FECB52"
          ],
          "font": {
           "color": "#2a3f5f"
          },
          "geo": {
           "bgcolor": "white",
           "lakecolor": "white",
           "landcolor": "#E5ECF6",
           "showlakes": true,
           "showland": true,
           "subunitcolor": "white"
          },
          "hoverlabel": {
           "align": "left"
          },
          "hovermode": "closest",
          "mapbox": {
           "style": "light"
          },
          "paper_bgcolor": "white",
          "plot_bgcolor": "#E5ECF6",
          "polar": {
           "angularaxis": {
            "gridcolor": "white",
            "linecolor": "white",
            "ticks": ""
           },
           "bgcolor": "#E5ECF6",
           "radialaxis": {
            "gridcolor": "white",
            "linecolor": "white",
            "ticks": ""
           }
          },
          "scene": {
           "xaxis": {
            "backgroundcolor": "#E5ECF6",
            "gridcolor": "white",
            "gridwidth": 2,
            "linecolor": "white",
            "showbackground": true,
            "ticks": "",
            "zerolinecolor": "white"
           },
           "yaxis": {
            "backgroundcolor": "#E5ECF6",
            "gridcolor": "white",
            "gridwidth": 2,
            "linecolor": "white",
            "showbackground": true,
            "ticks": "",
            "zerolinecolor": "white"
           },
           "zaxis": {
            "backgroundcolor": "#E5ECF6",
            "gridcolor": "white",
            "gridwidth": 2,
            "linecolor": "white",
            "showbackground": true,
            "ticks": "",
            "zerolinecolor": "white"
           }
          },
          "shapedefaults": {
           "line": {
            "color": "#2a3f5f"
           }
          },
          "ternary": {
           "aaxis": {
            "gridcolor": "white",
            "linecolor": "white",
            "ticks": ""
           },
           "baxis": {
            "gridcolor": "white",
            "linecolor": "white",
            "ticks": ""
           },
           "bgcolor": "#E5ECF6",
           "caxis": {
            "gridcolor": "white",
            "linecolor": "white",
            "ticks": ""
           }
          },
          "title": {
           "x": 0.05
          },
          "xaxis": {
           "automargin": true,
           "gridcolor": "white",
           "linecolor": "white",
           "ticks": "",
           "title": {
            "standoff": 15
           },
           "zerolinecolor": "white",
           "zerolinewidth": 2
          },
          "yaxis": {
           "automargin": true,
           "gridcolor": "white",
           "linecolor": "white",
           "ticks": "",
           "title": {
            "standoff": 15
           },
           "zerolinecolor": "white",
           "zerolinewidth": 2
          }
         }
        },
        "title": {
         "text": "Preferable instructional methods",
         "x": 0.5
        },
        "width": 650,
        "xaxis": {
         "anchor": "y",
         "domain": [
          0,
          0.45
         ]
        },
        "xaxis2": {
         "anchor": "y2",
         "domain": [
          0.55,
          1
         ]
        },
        "xaxis3": {
         "anchor": "y3",
         "domain": [
          0,
          0.45
         ]
        },
        "xaxis4": {
         "anchor": "y4",
         "domain": [
          0.55,
          1
         ]
        },
        "xaxis5": {
         "anchor": "y5",
         "domain": [
          0,
          0.45
         ]
        },
        "xaxis6": {
         "anchor": "y6",
         "domain": [
          0.55,
          1
         ]
        },
        "xaxis7": {
         "anchor": "y7",
         "domain": [
          0,
          0.45
         ]
        },
        "xaxis8": {
         "anchor": "y8",
         "domain": [
          0.55,
          1
         ]
        },
        "yaxis": {
         "anchor": "x",
         "domain": [
          0.84375,
          1
         ],
         "matches": "y7",
         "title": {
          "text": "Percent"
         }
        },
        "yaxis2": {
         "anchor": "x2",
         "domain": [
          0.84375,
          1
         ],
         "matches": "y7",
         "showticklabels": false
        },
        "yaxis3": {
         "anchor": "x3",
         "domain": [
          0.5625,
          0.71875
         ],
         "matches": "y7",
         "title": {
          "text": "Percent"
         }
        },
        "yaxis4": {
         "anchor": "x4",
         "domain": [
          0.5625,
          0.71875
         ],
         "matches": "y7",
         "showticklabels": false
        },
        "yaxis5": {
         "anchor": "x5",
         "domain": [
          0.28125,
          0.4375
         ],
         "matches": "y7",
         "title": {
          "text": "Percent"
         }
        },
        "yaxis6": {
         "anchor": "x6",
         "domain": [
          0.28125,
          0.4375
         ],
         "matches": "y7",
         "showticklabels": false
        },
        "yaxis7": {
         "anchor": "x7",
         "domain": [
          0,
          0.15625
         ],
         "title": {
          "text": "Percent"
         }
        },
        "yaxis8": {
         "anchor": "x8",
         "domain": [
          0,
          0.15625
         ],
         "matches": "y7",
         "showticklabels": false
        }
       }
      }
     },
     "metadata": {},
     "output_type": "display_data"
    }
   ],
   "source": [
    "fig_subgroups(df_comfort,list_of_col = ['Best practices articles', 'Written tutorials', 'Video tutorial', 'Interactive webinar', 'Office hours', 'One day seminar', 'Multiday workshop'], list_of_groups = ['High comfort', 'Medium comfort', 'Low comfort'],colorkey = ['darkviolet', 'blueviolet', 'violet'],title = 'Preferable instructional methods')"
   ]
  },
  {
   "cell_type": "code",
   "execution_count": 191,
   "metadata": {},
   "outputs": [
    {
     "data": {
      "application/vnd.plotly.v1+json": {
       "config": {
        "plotlyServerURL": "https://plot.ly"
       },
       "data": [
        {
         "marker": {
          "color": "darkgreen"
         },
         "name": "High skill",
         "text": [
          13.5,
          37.5,
          40.4,
          8.7
         ],
         "type": "bar",
         "x": [
          "Very preferable",
          "Moderately preferable",
          "Somewhat preferable",
          "Not at all preferable"
         ],
         "xaxis": "x",
         "y": [
          13.5,
          37.5,
          40.4,
          8.7
         ],
         "yaxis": "y"
        },
        {
         "marker": {
          "color": "darkgreen"
         },
         "name": "High skill",
         "showlegend": false,
         "text": [
          55.8,
          31.7,
          12.5,
          null
         ],
         "type": "bar",
         "x": [
          "Very preferable",
          "Moderately preferable",
          "Somewhat preferable",
          "Not at all preferable"
         ],
         "xaxis": "x2",
         "y": [
          55.8,
          31.7,
          12.5,
          null
         ],
         "yaxis": "y2"
        },
        {
         "marker": {
          "color": "darkgreen"
         },
         "name": "High skill",
         "showlegend": false,
         "text": [
          39.4,
          23.1,
          25,
          12.5
         ],
         "type": "bar",
         "x": [
          "Very preferable",
          "Moderately preferable",
          "Somewhat preferable",
          "Not at all preferable"
         ],
         "xaxis": "x3",
         "y": [
          39.4,
          23.1,
          25,
          12.5
         ],
         "yaxis": "y3"
        },
        {
         "marker": {
          "color": "darkgreen"
         },
         "name": "High skill",
         "showlegend": false,
         "text": [
          13.5,
          33.7,
          37.5,
          15.4
         ],
         "type": "bar",
         "x": [
          "Very preferable",
          "Moderately preferable",
          "Somewhat preferable",
          "Not at all preferable"
         ],
         "xaxis": "x4",
         "y": [
          13.5,
          33.7,
          37.5,
          15.4
         ],
         "yaxis": "y4"
        },
        {
         "marker": {
          "color": "darkgreen"
         },
         "name": "High skill",
         "showlegend": false,
         "text": [
          31.7,
          26,
          27.9,
          14.4
         ],
         "type": "bar",
         "x": [
          "Very preferable",
          "Moderately preferable",
          "Somewhat preferable",
          "Not at all preferable"
         ],
         "xaxis": "x5",
         "y": [
          31.7,
          26,
          27.9,
          14.4
         ],
         "yaxis": "y5"
        },
        {
         "marker": {
          "color": "darkgreen"
         },
         "name": "High skill",
         "showlegend": false,
         "text": [
          25,
          26.9,
          35.6,
          12.5
         ],
         "type": "bar",
         "x": [
          "Very preferable",
          "Moderately preferable",
          "Somewhat preferable",
          "Not at all preferable"
         ],
         "xaxis": "x6",
         "y": [
          25,
          26.9,
          35.6,
          12.5
         ],
         "yaxis": "y6"
        },
        {
         "marker": {
          "color": "darkgreen"
         },
         "name": "High skill",
         "showlegend": false,
         "text": [
          15.4,
          31.7,
          37.5,
          15.4
         ],
         "type": "bar",
         "x": [
          "Very preferable",
          "Moderately preferable",
          "Somewhat preferable",
          "Not at all preferable"
         ],
         "xaxis": "x7",
         "y": [
          15.4,
          31.7,
          37.5,
          15.4
         ],
         "yaxis": "y7"
        },
        {
         "marker": {
          "color": "green"
         },
         "name": "Medium skill",
         "text": [
          19.8,
          31.9,
          38.1,
          10.2
         ],
         "type": "bar",
         "x": [
          "Very preferable",
          "Moderately preferable",
          "Somewhat preferable",
          "Not at all preferable"
         ],
         "xaxis": "x",
         "y": [
          19.8,
          31.9,
          38.1,
          10.2
         ],
         "yaxis": "y"
        },
        {
         "marker": {
          "color": "green"
         },
         "name": "Medium skill",
         "showlegend": false,
         "text": [
          58.5,
          30,
          10.5,
          0.9
         ],
         "type": "bar",
         "x": [
          "Very preferable",
          "Moderately preferable",
          "Somewhat preferable",
          "Not at all preferable"
         ],
         "xaxis": "x2",
         "y": [
          58.5,
          30,
          10.5,
          0.9
         ],
         "yaxis": "y2"
        },
        {
         "marker": {
          "color": "green"
         },
         "name": "Medium skill",
         "showlegend": false,
         "text": [
          45.8,
          30,
          18.9,
          5.3
         ],
         "type": "bar",
         "x": [
          "Very preferable",
          "Moderately preferable",
          "Somewhat preferable",
          "Not at all preferable"
         ],
         "xaxis": "x3",
         "y": [
          45.8,
          30,
          18.9,
          5.3
         ],
         "yaxis": "y3"
        },
        {
         "marker": {
          "color": "green"
         },
         "name": "Medium skill",
         "showlegend": false,
         "text": [
          20.7,
          36.2,
          33.7,
          9.3
         ],
         "type": "bar",
         "x": [
          "Very preferable",
          "Moderately preferable",
          "Somewhat preferable",
          "Not at all preferable"
         ],
         "xaxis": "x4",
         "y": [
          20.7,
          36.2,
          33.7,
          9.3
         ],
         "yaxis": "y4"
        },
        {
         "marker": {
          "color": "green"
         },
         "name": "Medium skill",
         "showlegend": false,
         "text": [
          39,
          24.1,
          26.6,
          10.2
         ],
         "type": "bar",
         "x": [
          "Very preferable",
          "Moderately preferable",
          "Somewhat preferable",
          "Not at all preferable"
         ],
         "xaxis": "x5",
         "y": [
          39,
          24.1,
          26.6,
          10.2
         ],
         "yaxis": "y5"
        },
        {
         "marker": {
          "color": "green"
         },
         "name": "Medium skill",
         "showlegend": false,
         "text": [
          21.7,
          35.9,
          30.3,
          12.1
         ],
         "type": "bar",
         "x": [
          "Very preferable",
          "Moderately preferable",
          "Somewhat preferable",
          "Not at all preferable"
         ],
         "xaxis": "x6",
         "y": [
          21.7,
          35.9,
          30.3,
          12.1
         ],
         "yaxis": "y6"
        },
        {
         "marker": {
          "color": "green"
         },
         "name": "Medium skill",
         "showlegend": false,
         "text": [
          19.5,
          24.8,
          38.4,
          17.3
         ],
         "type": "bar",
         "x": [
          "Very preferable",
          "Moderately preferable",
          "Somewhat preferable",
          "Not at all preferable"
         ],
         "xaxis": "x7",
         "y": [
          19.5,
          24.8,
          38.4,
          17.3
         ],
         "yaxis": "y7"
        },
        {
         "marker": {
          "color": "lightgreen"
         },
         "name": "Low skill",
         "text": [
          16.7,
          34.8,
          37.9,
          10.6
         ],
         "type": "bar",
         "x": [
          "Very preferable",
          "Moderately preferable",
          "Somewhat preferable",
          "Not at all preferable"
         ],
         "xaxis": "x",
         "y": [
          16.7,
          34.8,
          37.9,
          10.6
         ],
         "yaxis": "y"
        },
        {
         "marker": {
          "color": "lightgreen"
         },
         "name": "Low skill",
         "showlegend": false,
         "text": [
          65.2,
          25.8,
          9.1,
          null
         ],
         "type": "bar",
         "x": [
          "Very preferable",
          "Moderately preferable",
          "Somewhat preferable",
          "Not at all preferable"
         ],
         "xaxis": "x2",
         "y": [
          65.2,
          25.8,
          9.1,
          null
         ],
         "yaxis": "y2"
        },
        {
         "marker": {
          "color": "lightgreen"
         },
         "name": "Low skill",
         "showlegend": false,
         "text": [
          60.6,
          22.7,
          13.6,
          3
         ],
         "type": "bar",
         "x": [
          "Very preferable",
          "Moderately preferable",
          "Somewhat preferable",
          "Not at all preferable"
         ],
         "xaxis": "x3",
         "y": [
          60.6,
          22.7,
          13.6,
          3
         ],
         "yaxis": "y3"
        },
        {
         "marker": {
          "color": "lightgreen"
         },
         "name": "Low skill",
         "showlegend": false,
         "text": [
          31.8,
          30.3,
          27.3,
          10.6
         ],
         "type": "bar",
         "x": [
          "Very preferable",
          "Moderately preferable",
          "Somewhat preferable",
          "Not at all preferable"
         ],
         "xaxis": "x4",
         "y": [
          31.8,
          30.3,
          27.3,
          10.6
         ],
         "yaxis": "y4"
        },
        {
         "marker": {
          "color": "lightgreen"
         },
         "name": "Low skill",
         "showlegend": false,
         "text": [
          50,
          24.2,
          15.2,
          10.6
         ],
         "type": "bar",
         "x": [
          "Very preferable",
          "Moderately preferable",
          "Somewhat preferable",
          "Not at all preferable"
         ],
         "xaxis": "x5",
         "y": [
          50,
          24.2,
          15.2,
          10.6
         ],
         "yaxis": "y5"
        },
        {
         "marker": {
          "color": "lightgreen"
         },
         "name": "Low skill",
         "showlegend": false,
         "text": [
          28.8,
          37.9,
          19.7,
          13.6
         ],
         "type": "bar",
         "x": [
          "Very preferable",
          "Moderately preferable",
          "Somewhat preferable",
          "Not at all preferable"
         ],
         "xaxis": "x6",
         "y": [
          28.8,
          37.9,
          19.7,
          13.6
         ],
         "yaxis": "y6"
        },
        {
         "marker": {
          "color": "lightgreen"
         },
         "name": "Low skill",
         "showlegend": false,
         "text": [
          15.2,
          36.4,
          30.3,
          18.2
         ],
         "type": "bar",
         "x": [
          "Very preferable",
          "Moderately preferable",
          "Somewhat preferable",
          "Not at all preferable"
         ],
         "xaxis": "x7",
         "y": [
          15.2,
          36.4,
          30.3,
          18.2
         ],
         "yaxis": "y7"
        }
       ],
       "layout": {
        "annotations": [
         {
          "font": {
           "size": 16
          },
          "showarrow": false,
          "text": "Best practices articles",
          "x": 0.225,
          "xanchor": "center",
          "xref": "paper",
          "y": 1,
          "yanchor": "bottom",
          "yref": "paper"
         },
         {
          "font": {
           "size": 16
          },
          "showarrow": false,
          "text": "Written tutorials",
          "x": 0.775,
          "xanchor": "center",
          "xref": "paper",
          "y": 1,
          "yanchor": "bottom",
          "yref": "paper"
         },
         {
          "font": {
           "size": 16
          },
          "showarrow": false,
          "text": "Video tutorial",
          "x": 0.225,
          "xanchor": "center",
          "xref": "paper",
          "y": 0.71875,
          "yanchor": "bottom",
          "yref": "paper"
         },
         {
          "font": {
           "size": 16
          },
          "showarrow": false,
          "text": "Interactive webinar",
          "x": 0.775,
          "xanchor": "center",
          "xref": "paper",
          "y": 0.71875,
          "yanchor": "bottom",
          "yref": "paper"
         },
         {
          "font": {
           "size": 16
          },
          "showarrow": false,
          "text": "Office hours",
          "x": 0.225,
          "xanchor": "center",
          "xref": "paper",
          "y": 0.4375,
          "yanchor": "bottom",
          "yref": "paper"
         },
         {
          "font": {
           "size": 16
          },
          "showarrow": false,
          "text": "One day seminar",
          "x": 0.775,
          "xanchor": "center",
          "xref": "paper",
          "y": 0.4375,
          "yanchor": "bottom",
          "yref": "paper"
         },
         {
          "font": {
           "size": 16
          },
          "showarrow": false,
          "text": "Multiday workshop",
          "x": 0.225,
          "xanchor": "center",
          "xref": "paper",
          "y": 0.15625,
          "yanchor": "bottom",
          "yref": "paper"
         }
        ],
        "font": {
         "color": "Black",
         "family": "Helvetica",
         "size": 14
        },
        "height": 1250,
        "legend": {
         "font": {
          "color": "Black",
          "size": 14
         },
         "title": {
          "font": {
           "family": "Helvetica"
          }
         }
        },
        "template": {
         "data": {
          "bar": [
           {
            "error_x": {
             "color": "#2a3f5f"
            },
            "error_y": {
             "color": "#2a3f5f"
            },
            "marker": {
             "line": {
              "color": "#E5ECF6",
              "width": 0.5
             },
             "pattern": {
              "fillmode": "overlay",
              "size": 10,
              "solidity": 0.2
             }
            },
            "type": "bar"
           }
          ],
          "barpolar": [
           {
            "marker": {
             "line": {
              "color": "#E5ECF6",
              "width": 0.5
             },
             "pattern": {
              "fillmode": "overlay",
              "size": 10,
              "solidity": 0.2
             }
            },
            "type": "barpolar"
           }
          ],
          "carpet": [
           {
            "aaxis": {
             "endlinecolor": "#2a3f5f",
             "gridcolor": "white",
             "linecolor": "white",
             "minorgridcolor": "white",
             "startlinecolor": "#2a3f5f"
            },
            "baxis": {
             "endlinecolor": "#2a3f5f",
             "gridcolor": "white",
             "linecolor": "white",
             "minorgridcolor": "white",
             "startlinecolor": "#2a3f5f"
            },
            "type": "carpet"
           }
          ],
          "choropleth": [
           {
            "colorbar": {
             "outlinewidth": 0,
             "ticks": ""
            },
            "type": "choropleth"
           }
          ],
          "contour": [
           {
            "colorbar": {
             "outlinewidth": 0,
             "ticks": ""
            },
            "colorscale": [
             [
              0,
              "#0d0887"
             ],
             [
              0.1111111111111111,
              "#46039f"
             ],
             [
              0.2222222222222222,
              "#7201a8"
             ],
             [
              0.3333333333333333,
              "#9c179e"
             ],
             [
              0.4444444444444444,
              "#bd3786"
             ],
             [
              0.5555555555555556,
              "#d8576b"
             ],
             [
              0.6666666666666666,
              "#ed7953"
             ],
             [
              0.7777777777777778,
              "#fb9f3a"
             ],
             [
              0.8888888888888888,
              "#fdca26"
             ],
             [
              1,
              "#f0f921"
             ]
            ],
            "type": "contour"
           }
          ],
          "contourcarpet": [
           {
            "colorbar": {
             "outlinewidth": 0,
             "ticks": ""
            },
            "type": "contourcarpet"
           }
          ],
          "heatmap": [
           {
            "colorbar": {
             "outlinewidth": 0,
             "ticks": ""
            },
            "colorscale": [
             [
              0,
              "#0d0887"
             ],
             [
              0.1111111111111111,
              "#46039f"
             ],
             [
              0.2222222222222222,
              "#7201a8"
             ],
             [
              0.3333333333333333,
              "#9c179e"
             ],
             [
              0.4444444444444444,
              "#bd3786"
             ],
             [
              0.5555555555555556,
              "#d8576b"
             ],
             [
              0.6666666666666666,
              "#ed7953"
             ],
             [
              0.7777777777777778,
              "#fb9f3a"
             ],
             [
              0.8888888888888888,
              "#fdca26"
             ],
             [
              1,
              "#f0f921"
             ]
            ],
            "type": "heatmap"
           }
          ],
          "heatmapgl": [
           {
            "colorbar": {
             "outlinewidth": 0,
             "ticks": ""
            },
            "colorscale": [
             [
              0,
              "#0d0887"
             ],
             [
              0.1111111111111111,
              "#46039f"
             ],
             [
              0.2222222222222222,
              "#7201a8"
             ],
             [
              0.3333333333333333,
              "#9c179e"
             ],
             [
              0.4444444444444444,
              "#bd3786"
             ],
             [
              0.5555555555555556,
              "#d8576b"
             ],
             [
              0.6666666666666666,
              "#ed7953"
             ],
             [
              0.7777777777777778,
              "#fb9f3a"
             ],
             [
              0.8888888888888888,
              "#fdca26"
             ],
             [
              1,
              "#f0f921"
             ]
            ],
            "type": "heatmapgl"
           }
          ],
          "histogram": [
           {
            "marker": {
             "pattern": {
              "fillmode": "overlay",
              "size": 10,
              "solidity": 0.2
             }
            },
            "type": "histogram"
           }
          ],
          "histogram2d": [
           {
            "colorbar": {
             "outlinewidth": 0,
             "ticks": ""
            },
            "colorscale": [
             [
              0,
              "#0d0887"
             ],
             [
              0.1111111111111111,
              "#46039f"
             ],
             [
              0.2222222222222222,
              "#7201a8"
             ],
             [
              0.3333333333333333,
              "#9c179e"
             ],
             [
              0.4444444444444444,
              "#bd3786"
             ],
             [
              0.5555555555555556,
              "#d8576b"
             ],
             [
              0.6666666666666666,
              "#ed7953"
             ],
             [
              0.7777777777777778,
              "#fb9f3a"
             ],
             [
              0.8888888888888888,
              "#fdca26"
             ],
             [
              1,
              "#f0f921"
             ]
            ],
            "type": "histogram2d"
           }
          ],
          "histogram2dcontour": [
           {
            "colorbar": {
             "outlinewidth": 0,
             "ticks": ""
            },
            "colorscale": [
             [
              0,
              "#0d0887"
             ],
             [
              0.1111111111111111,
              "#46039f"
             ],
             [
              0.2222222222222222,
              "#7201a8"
             ],
             [
              0.3333333333333333,
              "#9c179e"
             ],
             [
              0.4444444444444444,
              "#bd3786"
             ],
             [
              0.5555555555555556,
              "#d8576b"
             ],
             [
              0.6666666666666666,
              "#ed7953"
             ],
             [
              0.7777777777777778,
              "#fb9f3a"
             ],
             [
              0.8888888888888888,
              "#fdca26"
             ],
             [
              1,
              "#f0f921"
             ]
            ],
            "type": "histogram2dcontour"
           }
          ],
          "mesh3d": [
           {
            "colorbar": {
             "outlinewidth": 0,
             "ticks": ""
            },
            "type": "mesh3d"
           }
          ],
          "parcoords": [
           {
            "line": {
             "colorbar": {
              "outlinewidth": 0,
              "ticks": ""
             }
            },
            "type": "parcoords"
           }
          ],
          "pie": [
           {
            "automargin": true,
            "type": "pie"
           }
          ],
          "scatter": [
           {
            "fillpattern": {
             "fillmode": "overlay",
             "size": 10,
             "solidity": 0.2
            },
            "type": "scatter"
           }
          ],
          "scatter3d": [
           {
            "line": {
             "colorbar": {
              "outlinewidth": 0,
              "ticks": ""
             }
            },
            "marker": {
             "colorbar": {
              "outlinewidth": 0,
              "ticks": ""
             }
            },
            "type": "scatter3d"
           }
          ],
          "scattercarpet": [
           {
            "marker": {
             "colorbar": {
              "outlinewidth": 0,
              "ticks": ""
             }
            },
            "type": "scattercarpet"
           }
          ],
          "scattergeo": [
           {
            "marker": {
             "colorbar": {
              "outlinewidth": 0,
              "ticks": ""
             }
            },
            "type": "scattergeo"
           }
          ],
          "scattergl": [
           {
            "marker": {
             "colorbar": {
              "outlinewidth": 0,
              "ticks": ""
             }
            },
            "type": "scattergl"
           }
          ],
          "scattermapbox": [
           {
            "marker": {
             "colorbar": {
              "outlinewidth": 0,
              "ticks": ""
             }
            },
            "type": "scattermapbox"
           }
          ],
          "scatterpolar": [
           {
            "marker": {
             "colorbar": {
              "outlinewidth": 0,
              "ticks": ""
             }
            },
            "type": "scatterpolar"
           }
          ],
          "scatterpolargl": [
           {
            "marker": {
             "colorbar": {
              "outlinewidth": 0,
              "ticks": ""
             }
            },
            "type": "scatterpolargl"
           }
          ],
          "scatterternary": [
           {
            "marker": {
             "colorbar": {
              "outlinewidth": 0,
              "ticks": ""
             }
            },
            "type": "scatterternary"
           }
          ],
          "surface": [
           {
            "colorbar": {
             "outlinewidth": 0,
             "ticks": ""
            },
            "colorscale": [
             [
              0,
              "#0d0887"
             ],
             [
              0.1111111111111111,
              "#46039f"
             ],
             [
              0.2222222222222222,
              "#7201a8"
             ],
             [
              0.3333333333333333,
              "#9c179e"
             ],
             [
              0.4444444444444444,
              "#bd3786"
             ],
             [
              0.5555555555555556,
              "#d8576b"
             ],
             [
              0.6666666666666666,
              "#ed7953"
             ],
             [
              0.7777777777777778,
              "#fb9f3a"
             ],
             [
              0.8888888888888888,
              "#fdca26"
             ],
             [
              1,
              "#f0f921"
             ]
            ],
            "type": "surface"
           }
          ],
          "table": [
           {
            "cells": {
             "fill": {
              "color": "#EBF0F8"
             },
             "line": {
              "color": "white"
             }
            },
            "header": {
             "fill": {
              "color": "#C8D4E3"
             },
             "line": {
              "color": "white"
             }
            },
            "type": "table"
           }
          ]
         },
         "layout": {
          "annotationdefaults": {
           "arrowcolor": "#2a3f5f",
           "arrowhead": 0,
           "arrowwidth": 1
          },
          "autotypenumbers": "strict",
          "coloraxis": {
           "colorbar": {
            "outlinewidth": 0,
            "ticks": ""
           }
          },
          "colorscale": {
           "diverging": [
            [
             0,
             "#8e0152"
            ],
            [
             0.1,
             "#c51b7d"
            ],
            [
             0.2,
             "#de77ae"
            ],
            [
             0.3,
             "#f1b6da"
            ],
            [
             0.4,
             "#fde0ef"
            ],
            [
             0.5,
             "#f7f7f7"
            ],
            [
             0.6,
             "#e6f5d0"
            ],
            [
             0.7,
             "#b8e186"
            ],
            [
             0.8,
             "#7fbc41"
            ],
            [
             0.9,
             "#4d9221"
            ],
            [
             1,
             "#276419"
            ]
           ],
           "sequential": [
            [
             0,
             "#0d0887"
            ],
            [
             0.1111111111111111,
             "#46039f"
            ],
            [
             0.2222222222222222,
             "#7201a8"
            ],
            [
             0.3333333333333333,
             "#9c179e"
            ],
            [
             0.4444444444444444,
             "#bd3786"
            ],
            [
             0.5555555555555556,
             "#d8576b"
            ],
            [
             0.6666666666666666,
             "#ed7953"
            ],
            [
             0.7777777777777778,
             "#fb9f3a"
            ],
            [
             0.8888888888888888,
             "#fdca26"
            ],
            [
             1,
             "#f0f921"
            ]
           ],
           "sequentialminus": [
            [
             0,
             "#0d0887"
            ],
            [
             0.1111111111111111,
             "#46039f"
            ],
            [
             0.2222222222222222,
             "#7201a8"
            ],
            [
             0.3333333333333333,
             "#9c179e"
            ],
            [
             0.4444444444444444,
             "#bd3786"
            ],
            [
             0.5555555555555556,
             "#d8576b"
            ],
            [
             0.6666666666666666,
             "#ed7953"
            ],
            [
             0.7777777777777778,
             "#fb9f3a"
            ],
            [
             0.8888888888888888,
             "#fdca26"
            ],
            [
             1,
             "#f0f921"
            ]
           ]
          },
          "colorway": [
           "#636efa",
           "#EF553B",
           "#00cc96",
           "#ab63fa",
           "#FFA15A",
           "#19d3f3",
           "#FF6692",
           "#B6E880",
           "#FF97FF",
           "#FECB52"
          ],
          "font": {
           "color": "#2a3f5f"
          },
          "geo": {
           "bgcolor": "white",
           "lakecolor": "white",
           "landcolor": "#E5ECF6",
           "showlakes": true,
           "showland": true,
           "subunitcolor": "white"
          },
          "hoverlabel": {
           "align": "left"
          },
          "hovermode": "closest",
          "mapbox": {
           "style": "light"
          },
          "paper_bgcolor": "white",
          "plot_bgcolor": "#E5ECF6",
          "polar": {
           "angularaxis": {
            "gridcolor": "white",
            "linecolor": "white",
            "ticks": ""
           },
           "bgcolor": "#E5ECF6",
           "radialaxis": {
            "gridcolor": "white",
            "linecolor": "white",
            "ticks": ""
           }
          },
          "scene": {
           "xaxis": {
            "backgroundcolor": "#E5ECF6",
            "gridcolor": "white",
            "gridwidth": 2,
            "linecolor": "white",
            "showbackground": true,
            "ticks": "",
            "zerolinecolor": "white"
           },
           "yaxis": {
            "backgroundcolor": "#E5ECF6",
            "gridcolor": "white",
            "gridwidth": 2,
            "linecolor": "white",
            "showbackground": true,
            "ticks": "",
            "zerolinecolor": "white"
           },
           "zaxis": {
            "backgroundcolor": "#E5ECF6",
            "gridcolor": "white",
            "gridwidth": 2,
            "linecolor": "white",
            "showbackground": true,
            "ticks": "",
            "zerolinecolor": "white"
           }
          },
          "shapedefaults": {
           "line": {
            "color": "#2a3f5f"
           }
          },
          "ternary": {
           "aaxis": {
            "gridcolor": "white",
            "linecolor": "white",
            "ticks": ""
           },
           "baxis": {
            "gridcolor": "white",
            "linecolor": "white",
            "ticks": ""
           },
           "bgcolor": "#E5ECF6",
           "caxis": {
            "gridcolor": "white",
            "linecolor": "white",
            "ticks": ""
           }
          },
          "title": {
           "x": 0.05
          },
          "xaxis": {
           "automargin": true,
           "gridcolor": "white",
           "linecolor": "white",
           "ticks": "",
           "title": {
            "standoff": 15
           },
           "zerolinecolor": "white",
           "zerolinewidth": 2
          },
          "yaxis": {
           "automargin": true,
           "gridcolor": "white",
           "linecolor": "white",
           "ticks": "",
           "title": {
            "standoff": 15
           },
           "zerolinecolor": "white",
           "zerolinewidth": 2
          }
         }
        },
        "title": {
         "text": "Preferable instructional methods",
         "x": 0.5
        },
        "width": 650,
        "xaxis": {
         "anchor": "y",
         "domain": [
          0,
          0.45
         ]
        },
        "xaxis2": {
         "anchor": "y2",
         "domain": [
          0.55,
          1
         ]
        },
        "xaxis3": {
         "anchor": "y3",
         "domain": [
          0,
          0.45
         ]
        },
        "xaxis4": {
         "anchor": "y4",
         "domain": [
          0.55,
          1
         ]
        },
        "xaxis5": {
         "anchor": "y5",
         "domain": [
          0,
          0.45
         ]
        },
        "xaxis6": {
         "anchor": "y6",
         "domain": [
          0.55,
          1
         ]
        },
        "xaxis7": {
         "anchor": "y7",
         "domain": [
          0,
          0.45
         ]
        },
        "xaxis8": {
         "anchor": "y8",
         "domain": [
          0.55,
          1
         ]
        },
        "yaxis": {
         "anchor": "x",
         "domain": [
          0.84375,
          1
         ],
         "matches": "y7",
         "title": {
          "text": "Percent"
         }
        },
        "yaxis2": {
         "anchor": "x2",
         "domain": [
          0.84375,
          1
         ],
         "matches": "y7",
         "showticklabels": false
        },
        "yaxis3": {
         "anchor": "x3",
         "domain": [
          0.5625,
          0.71875
         ],
         "matches": "y7",
         "title": {
          "text": "Percent"
         }
        },
        "yaxis4": {
         "anchor": "x4",
         "domain": [
          0.5625,
          0.71875
         ],
         "matches": "y7",
         "showticklabels": false
        },
        "yaxis5": {
         "anchor": "x5",
         "domain": [
          0.28125,
          0.4375
         ],
         "matches": "y7",
         "title": {
          "text": "Percent"
         }
        },
        "yaxis6": {
         "anchor": "x6",
         "domain": [
          0.28125,
          0.4375
         ],
         "matches": "y7",
         "showticklabels": false
        },
        "yaxis7": {
         "anchor": "x7",
         "domain": [
          0,
          0.15625
         ],
         "title": {
          "text": "Percent"
         }
        },
        "yaxis8": {
         "anchor": "x8",
         "domain": [
          0,
          0.15625
         ],
         "matches": "y7",
         "showticklabels": false
        }
       }
      }
     },
     "metadata": {},
     "output_type": "display_data"
    }
   ],
   "source": [
    "fig_subgroups(df_skill,list_of_col = ['Best practices articles', 'Written tutorials', 'Video tutorial', 'Interactive webinar', 'Office hours', 'One day seminar', 'Multiday workshop'], list_of_groups = ['High skill', 'Medium skill', 'Low skill'],colorkey = ['darkgreen', 'green', 'lightgreen'],title = 'Preferable instructional methods')"
   ]
  },
  {
   "cell_type": "code",
   "execution_count": 192,
   "metadata": {},
   "outputs": [
    {
     "data": {
      "application/vnd.plotly.v1+json": {
       "config": {
        "plotlyServerURL": "https://plot.ly"
       },
       "data": [
        {
         "marker": {
          "color": "cornflowerblue"
         },
         "name": "High skill",
         "text": [
          42.3,
          27.9,
          26,
          3.8
         ],
         "type": "bar",
         "x": [
          "Very interested",
          "Moderately interested",
          "Somewhat interested",
          "Not at all interested"
         ],
         "xaxis": "x",
         "y": [
          42.3,
          27.9,
          26,
          3.8
         ],
         "yaxis": "y"
        },
        {
         "marker": {
          "color": "cornflowerblue"
         },
         "name": "High skill",
         "showlegend": false,
         "text": [
          42.3,
          39.4,
          15.4,
          2.9
         ],
         "type": "bar",
         "x": [
          "Very interested",
          "Moderately interested",
          "Somewhat interested",
          "Not at all interested"
         ],
         "xaxis": "x2",
         "y": [
          42.3,
          39.4,
          15.4,
          2.9
         ],
         "yaxis": "y2"
        },
        {
         "marker": {
          "color": "cornflowerblue"
         },
         "name": "High skill",
         "showlegend": false,
         "text": [
          59.6,
          28.8,
          8.7,
          2.9
         ],
         "type": "bar",
         "x": [
          "Very interested",
          "Moderately interested",
          "Somewhat interested",
          "Not at all interested"
         ],
         "xaxis": "x3",
         "y": [
          59.6,
          28.8,
          8.7,
          2.9
         ],
         "yaxis": "y3"
        },
        {
         "marker": {
          "color": "cornflowerblue"
         },
         "name": "High skill",
         "showlegend": false,
         "text": [
          36.5,
          31.7,
          25,
          6.7
         ],
         "type": "bar",
         "x": [
          "Very interested",
          "Moderately interested",
          "Somewhat interested",
          "Not at all interested"
         ],
         "xaxis": "x4",
         "y": [
          36.5,
          31.7,
          25,
          6.7
         ],
         "yaxis": "y4"
        },
        {
         "marker": {
          "color": "cornflowerblue"
         },
         "name": "High skill",
         "showlegend": false,
         "text": [
          36.5,
          36.5,
          20.2,
          6.7
         ],
         "type": "bar",
         "x": [
          "Very interested",
          "Moderately interested",
          "Somewhat interested",
          "Not at all interested"
         ],
         "xaxis": "x5",
         "y": [
          36.5,
          36.5,
          20.2,
          6.7
         ],
         "yaxis": "y5"
        },
        {
         "marker": {
          "color": "cornflowerblue"
         },
         "name": "High skill",
         "showlegend": false,
         "text": [
          57.7,
          27.9,
          13.5,
          1
         ],
         "type": "bar",
         "x": [
          "Very interested",
          "Moderately interested",
          "Somewhat interested",
          "Not at all interested"
         ],
         "xaxis": "x6",
         "y": [
          57.7,
          27.9,
          13.5,
          1
         ],
         "yaxis": "y6"
        },
        {
         "marker": {
          "color": "cornflowerblue"
         },
         "name": "High skill",
         "showlegend": false,
         "text": [
          61.5,
          26.9,
          8.7,
          2.9
         ],
         "type": "bar",
         "x": [
          "Very interested",
          "Moderately interested",
          "Somewhat interested",
          "Not at all interested"
         ],
         "xaxis": "x7",
         "y": [
          61.5,
          26.9,
          8.7,
          2.9
         ],
         "yaxis": "y7"
        },
        {
         "marker": {
          "color": "deepskyblue"
         },
         "name": "Medium skill",
         "text": [
          29.7,
          33.1,
          31.3,
          5.9
         ],
         "type": "bar",
         "x": [
          "Very interested",
          "Moderately interested",
          "Somewhat interested",
          "Not at all interested"
         ],
         "xaxis": "x",
         "y": [
          29.7,
          33.1,
          31.3,
          5.9
         ],
         "yaxis": "y"
        },
        {
         "marker": {
          "color": "deepskyblue"
         },
         "name": "Medium skill",
         "showlegend": false,
         "text": [
          47.4,
          39,
          12.1,
          1.5
         ],
         "type": "bar",
         "x": [
          "Very interested",
          "Moderately interested",
          "Somewhat interested",
          "Not at all interested"
         ],
         "xaxis": "x2",
         "y": [
          47.4,
          39,
          12.1,
          1.5
         ],
         "yaxis": "y2"
        },
        {
         "marker": {
          "color": "deepskyblue"
         },
         "name": "Medium skill",
         "showlegend": false,
         "text": [
          71.5,
          20.4,
          7.1,
          0.9
         ],
         "type": "bar",
         "x": [
          "Very interested",
          "Moderately interested",
          "Somewhat interested",
          "Not at all interested"
         ],
         "xaxis": "x3",
         "y": [
          71.5,
          20.4,
          7.1,
          0.9
         ],
         "yaxis": "y3"
        },
        {
         "marker": {
          "color": "deepskyblue"
         },
         "name": "Medium skill",
         "showlegend": false,
         "text": [
          46.4,
          35.6,
          15.5,
          2.5
         ],
         "type": "bar",
         "x": [
          "Very interested",
          "Moderately interested",
          "Somewhat interested",
          "Not at all interested"
         ],
         "xaxis": "x4",
         "y": [
          46.4,
          35.6,
          15.5,
          2.5
         ],
         "yaxis": "y4"
        },
        {
         "marker": {
          "color": "deepskyblue"
         },
         "name": "Medium skill",
         "showlegend": false,
         "text": [
          45.5,
          26.3,
          23.8,
          4.3
         ],
         "type": "bar",
         "x": [
          "Very interested",
          "Moderately interested",
          "Somewhat interested",
          "Not at all interested"
         ],
         "xaxis": "x5",
         "y": [
          45.5,
          26.3,
          23.8,
          4.3
         ],
         "yaxis": "y5"
        },
        {
         "marker": {
          "color": "deepskyblue"
         },
         "name": "Medium skill",
         "showlegend": false,
         "text": [
          56.7,
          27.2,
          15.2,
          0.9
         ],
         "type": "bar",
         "x": [
          "Very interested",
          "Moderately interested",
          "Somewhat interested",
          "Not at all interested"
         ],
         "xaxis": "x6",
         "y": [
          56.7,
          27.2,
          15.2,
          0.9
         ],
         "yaxis": "y6"
        },
        {
         "marker": {
          "color": "deepskyblue"
         },
         "name": "Medium skill",
         "showlegend": false,
         "text": [
          56.7,
          31.9,
          10.2,
          1.2
         ],
         "type": "bar",
         "x": [
          "Very interested",
          "Moderately interested",
          "Somewhat interested",
          "Not at all interested"
         ],
         "xaxis": "x7",
         "y": [
          56.7,
          31.9,
          10.2,
          1.2
         ],
         "yaxis": "y7"
        },
        {
         "marker": {
          "color": "lightskyblue"
         },
         "name": "Low skill",
         "text": [
          25.8,
          21.2,
          28.8,
          24.2
         ],
         "type": "bar",
         "x": [
          "Very interested",
          "Moderately interested",
          "Somewhat interested",
          "Not at all interested"
         ],
         "xaxis": "x",
         "y": [
          25.8,
          21.2,
          28.8,
          24.2
         ],
         "yaxis": "y"
        },
        {
         "marker": {
          "color": "lightskyblue"
         },
         "name": "Low skill",
         "showlegend": false,
         "text": [
          45.5,
          31.8,
          21.2,
          1.5
         ],
         "type": "bar",
         "x": [
          "Very interested",
          "Moderately interested",
          "Somewhat interested",
          "Not at all interested"
         ],
         "xaxis": "x2",
         "y": [
          45.5,
          31.8,
          21.2,
          1.5
         ],
         "yaxis": "y2"
        },
        {
         "marker": {
          "color": "lightskyblue"
         },
         "name": "Low skill",
         "showlegend": false,
         "text": [
          72.7,
          19.7,
          6.1,
          1.5
         ],
         "type": "bar",
         "x": [
          "Very interested",
          "Moderately interested",
          "Somewhat interested",
          "Not at all interested"
         ],
         "xaxis": "x3",
         "y": [
          72.7,
          19.7,
          6.1,
          1.5
         ],
         "yaxis": "y3"
        },
        {
         "marker": {
          "color": "lightskyblue"
         },
         "name": "Low skill",
         "showlegend": false,
         "text": [
          53,
          34.8,
          9.1,
          3
         ],
         "type": "bar",
         "x": [
          "Very interested",
          "Moderately interested",
          "Somewhat interested",
          "Not at all interested"
         ],
         "xaxis": "x4",
         "y": [
          53,
          34.8,
          9.1,
          3
         ],
         "yaxis": "y4"
        },
        {
         "marker": {
          "color": "lightskyblue"
         },
         "name": "Low skill",
         "showlegend": false,
         "text": [
          33.3,
          30.3,
          24.2,
          12.1
         ],
         "type": "bar",
         "x": [
          "Very interested",
          "Moderately interested",
          "Somewhat interested",
          "Not at all interested"
         ],
         "xaxis": "x5",
         "y": [
          33.3,
          30.3,
          24.2,
          12.1
         ],
         "yaxis": "y5"
        },
        {
         "marker": {
          "color": "lightskyblue"
         },
         "name": "Low skill",
         "showlegend": false,
         "text": [
          51.5,
          33.3,
          10.6,
          4.5
         ],
         "type": "bar",
         "x": [
          "Very interested",
          "Moderately interested",
          "Somewhat interested",
          "Not at all interested"
         ],
         "xaxis": "x6",
         "y": [
          51.5,
          33.3,
          10.6,
          4.5
         ],
         "yaxis": "y6"
        },
        {
         "marker": {
          "color": "lightskyblue"
         },
         "name": "Low skill",
         "showlegend": false,
         "text": [
          51.5,
          34.8,
          13.6,
          null
         ],
         "type": "bar",
         "x": [
          "Very interested",
          "Moderately interested",
          "Somewhat interested",
          "Not at all interested"
         ],
         "xaxis": "x7",
         "y": [
          51.5,
          34.8,
          13.6,
          null
         ],
         "yaxis": "y7"
        }
       ],
       "layout": {
        "annotations": [
         {
          "font": {
           "size": 16
          },
          "showarrow": false,
          "text": "Image analysis theory",
          "x": 0.225,
          "xanchor": "center",
          "xref": "paper",
          "y": 1,
          "yanchor": "bottom",
          "yref": "paper"
         },
         {
          "font": {
           "size": 16
          },
          "showarrow": false,
          "text": "Image analysis practices",
          "x": 0.775,
          "xanchor": "center",
          "xref": "paper",
          "y": 1,
          "yanchor": "bottom",
          "yref": "paper"
         },
         {
          "font": {
           "size": 16
          },
          "showarrow": false,
          "text": "Topics related to sub discipline",
          "x": 0.225,
          "xanchor": "center",
          "xref": "paper",
          "y": 0.71875,
          "yanchor": "bottom",
          "yref": "paper"
         },
         {
          "font": {
           "size": 16
          },
          "showarrow": false,
          "text": "Specific software tool",
          "x": 0.775,
          "xanchor": "center",
          "xref": "paper",
          "y": 0.71875,
          "yanchor": "bottom",
          "yref": "paper"
         },
         {
          "font": {
           "size": 16
          },
          "showarrow": false,
          "text": "Deep learning for image analysis",
          "x": 0.225,
          "xanchor": "center",
          "xref": "paper",
          "y": 0.4375,
          "yanchor": "bottom",
          "yref": "paper"
         },
         {
          "font": {
           "size": 16
          },
          "showarrow": false,
          "text": "Analyzing large images",
          "x": 0.775,
          "xanchor": "center",
          "xref": "paper",
          "y": 0.4375,
          "yanchor": "bottom",
          "yref": "paper"
         },
         {
          "font": {
           "size": 16
          },
          "showarrow": false,
          "text": "Visualization of results",
          "x": 0.225,
          "xanchor": "center",
          "xref": "paper",
          "y": 0.15625,
          "yanchor": "bottom",
          "yref": "paper"
         }
        ],
        "font": {
         "color": "Black",
         "family": "Helvetica",
         "size": 14
        },
        "height": 1250,
        "legend": {
         "font": {
          "color": "Black",
          "size": 14
         },
         "title": {
          "font": {
           "family": "Helvetica"
          }
         }
        },
        "template": {
         "data": {
          "bar": [
           {
            "error_x": {
             "color": "#2a3f5f"
            },
            "error_y": {
             "color": "#2a3f5f"
            },
            "marker": {
             "line": {
              "color": "#E5ECF6",
              "width": 0.5
             },
             "pattern": {
              "fillmode": "overlay",
              "size": 10,
              "solidity": 0.2
             }
            },
            "type": "bar"
           }
          ],
          "barpolar": [
           {
            "marker": {
             "line": {
              "color": "#E5ECF6",
              "width": 0.5
             },
             "pattern": {
              "fillmode": "overlay",
              "size": 10,
              "solidity": 0.2
             }
            },
            "type": "barpolar"
           }
          ],
          "carpet": [
           {
            "aaxis": {
             "endlinecolor": "#2a3f5f",
             "gridcolor": "white",
             "linecolor": "white",
             "minorgridcolor": "white",
             "startlinecolor": "#2a3f5f"
            },
            "baxis": {
             "endlinecolor": "#2a3f5f",
             "gridcolor": "white",
             "linecolor": "white",
             "minorgridcolor": "white",
             "startlinecolor": "#2a3f5f"
            },
            "type": "carpet"
           }
          ],
          "choropleth": [
           {
            "colorbar": {
             "outlinewidth": 0,
             "ticks": ""
            },
            "type": "choropleth"
           }
          ],
          "contour": [
           {
            "colorbar": {
             "outlinewidth": 0,
             "ticks": ""
            },
            "colorscale": [
             [
              0,
              "#0d0887"
             ],
             [
              0.1111111111111111,
              "#46039f"
             ],
             [
              0.2222222222222222,
              "#7201a8"
             ],
             [
              0.3333333333333333,
              "#9c179e"
             ],
             [
              0.4444444444444444,
              "#bd3786"
             ],
             [
              0.5555555555555556,
              "#d8576b"
             ],
             [
              0.6666666666666666,
              "#ed7953"
             ],
             [
              0.7777777777777778,
              "#fb9f3a"
             ],
             [
              0.8888888888888888,
              "#fdca26"
             ],
             [
              1,
              "#f0f921"
             ]
            ],
            "type": "contour"
           }
          ],
          "contourcarpet": [
           {
            "colorbar": {
             "outlinewidth": 0,
             "ticks": ""
            },
            "type": "contourcarpet"
           }
          ],
          "heatmap": [
           {
            "colorbar": {
             "outlinewidth": 0,
             "ticks": ""
            },
            "colorscale": [
             [
              0,
              "#0d0887"
             ],
             [
              0.1111111111111111,
              "#46039f"
             ],
             [
              0.2222222222222222,
              "#7201a8"
             ],
             [
              0.3333333333333333,
              "#9c179e"
             ],
             [
              0.4444444444444444,
              "#bd3786"
             ],
             [
              0.5555555555555556,
              "#d8576b"
             ],
             [
              0.6666666666666666,
              "#ed7953"
             ],
             [
              0.7777777777777778,
              "#fb9f3a"
             ],
             [
              0.8888888888888888,
              "#fdca26"
             ],
             [
              1,
              "#f0f921"
             ]
            ],
            "type": "heatmap"
           }
          ],
          "heatmapgl": [
           {
            "colorbar": {
             "outlinewidth": 0,
             "ticks": ""
            },
            "colorscale": [
             [
              0,
              "#0d0887"
             ],
             [
              0.1111111111111111,
              "#46039f"
             ],
             [
              0.2222222222222222,
              "#7201a8"
             ],
             [
              0.3333333333333333,
              "#9c179e"
             ],
             [
              0.4444444444444444,
              "#bd3786"
             ],
             [
              0.5555555555555556,
              "#d8576b"
             ],
             [
              0.6666666666666666,
              "#ed7953"
             ],
             [
              0.7777777777777778,
              "#fb9f3a"
             ],
             [
              0.8888888888888888,
              "#fdca26"
             ],
             [
              1,
              "#f0f921"
             ]
            ],
            "type": "heatmapgl"
           }
          ],
          "histogram": [
           {
            "marker": {
             "pattern": {
              "fillmode": "overlay",
              "size": 10,
              "solidity": 0.2
             }
            },
            "type": "histogram"
           }
          ],
          "histogram2d": [
           {
            "colorbar": {
             "outlinewidth": 0,
             "ticks": ""
            },
            "colorscale": [
             [
              0,
              "#0d0887"
             ],
             [
              0.1111111111111111,
              "#46039f"
             ],
             [
              0.2222222222222222,
              "#7201a8"
             ],
             [
              0.3333333333333333,
              "#9c179e"
             ],
             [
              0.4444444444444444,
              "#bd3786"
             ],
             [
              0.5555555555555556,
              "#d8576b"
             ],
             [
              0.6666666666666666,
              "#ed7953"
             ],
             [
              0.7777777777777778,
              "#fb9f3a"
             ],
             [
              0.8888888888888888,
              "#fdca26"
             ],
             [
              1,
              "#f0f921"
             ]
            ],
            "type": "histogram2d"
           }
          ],
          "histogram2dcontour": [
           {
            "colorbar": {
             "outlinewidth": 0,
             "ticks": ""
            },
            "colorscale": [
             [
              0,
              "#0d0887"
             ],
             [
              0.1111111111111111,
              "#46039f"
             ],
             [
              0.2222222222222222,
              "#7201a8"
             ],
             [
              0.3333333333333333,
              "#9c179e"
             ],
             [
              0.4444444444444444,
              "#bd3786"
             ],
             [
              0.5555555555555556,
              "#d8576b"
             ],
             [
              0.6666666666666666,
              "#ed7953"
             ],
             [
              0.7777777777777778,
              "#fb9f3a"
             ],
             [
              0.8888888888888888,
              "#fdca26"
             ],
             [
              1,
              "#f0f921"
             ]
            ],
            "type": "histogram2dcontour"
           }
          ],
          "mesh3d": [
           {
            "colorbar": {
             "outlinewidth": 0,
             "ticks": ""
            },
            "type": "mesh3d"
           }
          ],
          "parcoords": [
           {
            "line": {
             "colorbar": {
              "outlinewidth": 0,
              "ticks": ""
             }
            },
            "type": "parcoords"
           }
          ],
          "pie": [
           {
            "automargin": true,
            "type": "pie"
           }
          ],
          "scatter": [
           {
            "fillpattern": {
             "fillmode": "overlay",
             "size": 10,
             "solidity": 0.2
            },
            "type": "scatter"
           }
          ],
          "scatter3d": [
           {
            "line": {
             "colorbar": {
              "outlinewidth": 0,
              "ticks": ""
             }
            },
            "marker": {
             "colorbar": {
              "outlinewidth": 0,
              "ticks": ""
             }
            },
            "type": "scatter3d"
           }
          ],
          "scattercarpet": [
           {
            "marker": {
             "colorbar": {
              "outlinewidth": 0,
              "ticks": ""
             }
            },
            "type": "scattercarpet"
           }
          ],
          "scattergeo": [
           {
            "marker": {
             "colorbar": {
              "outlinewidth": 0,
              "ticks": ""
             }
            },
            "type": "scattergeo"
           }
          ],
          "scattergl": [
           {
            "marker": {
             "colorbar": {
              "outlinewidth": 0,
              "ticks": ""
             }
            },
            "type": "scattergl"
           }
          ],
          "scattermapbox": [
           {
            "marker": {
             "colorbar": {
              "outlinewidth": 0,
              "ticks": ""
             }
            },
            "type": "scattermapbox"
           }
          ],
          "scatterpolar": [
           {
            "marker": {
             "colorbar": {
              "outlinewidth": 0,
              "ticks": ""
             }
            },
            "type": "scatterpolar"
           }
          ],
          "scatterpolargl": [
           {
            "marker": {
             "colorbar": {
              "outlinewidth": 0,
              "ticks": ""
             }
            },
            "type": "scatterpolargl"
           }
          ],
          "scatterternary": [
           {
            "marker": {
             "colorbar": {
              "outlinewidth": 0,
              "ticks": ""
             }
            },
            "type": "scatterternary"
           }
          ],
          "surface": [
           {
            "colorbar": {
             "outlinewidth": 0,
             "ticks": ""
            },
            "colorscale": [
             [
              0,
              "#0d0887"
             ],
             [
              0.1111111111111111,
              "#46039f"
             ],
             [
              0.2222222222222222,
              "#7201a8"
             ],
             [
              0.3333333333333333,
              "#9c179e"
             ],
             [
              0.4444444444444444,
              "#bd3786"
             ],
             [
              0.5555555555555556,
              "#d8576b"
             ],
             [
              0.6666666666666666,
              "#ed7953"
             ],
             [
              0.7777777777777778,
              "#fb9f3a"
             ],
             [
              0.8888888888888888,
              "#fdca26"
             ],
             [
              1,
              "#f0f921"
             ]
            ],
            "type": "surface"
           }
          ],
          "table": [
           {
            "cells": {
             "fill": {
              "color": "#EBF0F8"
             },
             "line": {
              "color": "white"
             }
            },
            "header": {
             "fill": {
              "color": "#C8D4E3"
             },
             "line": {
              "color": "white"
             }
            },
            "type": "table"
           }
          ]
         },
         "layout": {
          "annotationdefaults": {
           "arrowcolor": "#2a3f5f",
           "arrowhead": 0,
           "arrowwidth": 1
          },
          "autotypenumbers": "strict",
          "coloraxis": {
           "colorbar": {
            "outlinewidth": 0,
            "ticks": ""
           }
          },
          "colorscale": {
           "diverging": [
            [
             0,
             "#8e0152"
            ],
            [
             0.1,
             "#c51b7d"
            ],
            [
             0.2,
             "#de77ae"
            ],
            [
             0.3,
             "#f1b6da"
            ],
            [
             0.4,
             "#fde0ef"
            ],
            [
             0.5,
             "#f7f7f7"
            ],
            [
             0.6,
             "#e6f5d0"
            ],
            [
             0.7,
             "#b8e186"
            ],
            [
             0.8,
             "#7fbc41"
            ],
            [
             0.9,
             "#4d9221"
            ],
            [
             1,
             "#276419"
            ]
           ],
           "sequential": [
            [
             0,
             "#0d0887"
            ],
            [
             0.1111111111111111,
             "#46039f"
            ],
            [
             0.2222222222222222,
             "#7201a8"
            ],
            [
             0.3333333333333333,
             "#9c179e"
            ],
            [
             0.4444444444444444,
             "#bd3786"
            ],
            [
             0.5555555555555556,
             "#d8576b"
            ],
            [
             0.6666666666666666,
             "#ed7953"
            ],
            [
             0.7777777777777778,
             "#fb9f3a"
            ],
            [
             0.8888888888888888,
             "#fdca26"
            ],
            [
             1,
             "#f0f921"
            ]
           ],
           "sequentialminus": [
            [
             0,
             "#0d0887"
            ],
            [
             0.1111111111111111,
             "#46039f"
            ],
            [
             0.2222222222222222,
             "#7201a8"
            ],
            [
             0.3333333333333333,
             "#9c179e"
            ],
            [
             0.4444444444444444,
             "#bd3786"
            ],
            [
             0.5555555555555556,
             "#d8576b"
            ],
            [
             0.6666666666666666,
             "#ed7953"
            ],
            [
             0.7777777777777778,
             "#fb9f3a"
            ],
            [
             0.8888888888888888,
             "#fdca26"
            ],
            [
             1,
             "#f0f921"
            ]
           ]
          },
          "colorway": [
           "#636efa",
           "#EF553B",
           "#00cc96",
           "#ab63fa",
           "#FFA15A",
           "#19d3f3",
           "#FF6692",
           "#B6E880",
           "#FF97FF",
           "#FECB52"
          ],
          "font": {
           "color": "#2a3f5f"
          },
          "geo": {
           "bgcolor": "white",
           "lakecolor": "white",
           "landcolor": "#E5ECF6",
           "showlakes": true,
           "showland": true,
           "subunitcolor": "white"
          },
          "hoverlabel": {
           "align": "left"
          },
          "hovermode": "closest",
          "mapbox": {
           "style": "light"
          },
          "paper_bgcolor": "white",
          "plot_bgcolor": "#E5ECF6",
          "polar": {
           "angularaxis": {
            "gridcolor": "white",
            "linecolor": "white",
            "ticks": ""
           },
           "bgcolor": "#E5ECF6",
           "radialaxis": {
            "gridcolor": "white",
            "linecolor": "white",
            "ticks": ""
           }
          },
          "scene": {
           "xaxis": {
            "backgroundcolor": "#E5ECF6",
            "gridcolor": "white",
            "gridwidth": 2,
            "linecolor": "white",
            "showbackground": true,
            "ticks": "",
            "zerolinecolor": "white"
           },
           "yaxis": {
            "backgroundcolor": "#E5ECF6",
            "gridcolor": "white",
            "gridwidth": 2,
            "linecolor": "white",
            "showbackground": true,
            "ticks": "",
            "zerolinecolor": "white"
           },
           "zaxis": {
            "backgroundcolor": "#E5ECF6",
            "gridcolor": "white",
            "gridwidth": 2,
            "linecolor": "white",
            "showbackground": true,
            "ticks": "",
            "zerolinecolor": "white"
           }
          },
          "shapedefaults": {
           "line": {
            "color": "#2a3f5f"
           }
          },
          "ternary": {
           "aaxis": {
            "gridcolor": "white",
            "linecolor": "white",
            "ticks": ""
           },
           "baxis": {
            "gridcolor": "white",
            "linecolor": "white",
            "ticks": ""
           },
           "bgcolor": "#E5ECF6",
           "caxis": {
            "gridcolor": "white",
            "linecolor": "white",
            "ticks": ""
           }
          },
          "title": {
           "x": 0.05
          },
          "xaxis": {
           "automargin": true,
           "gridcolor": "white",
           "linecolor": "white",
           "ticks": "",
           "title": {
            "standoff": 15
           },
           "zerolinecolor": "white",
           "zerolinewidth": 2
          },
          "yaxis": {
           "automargin": true,
           "gridcolor": "white",
           "linecolor": "white",
           "ticks": "",
           "title": {
            "standoff": 15
           },
           "zerolinecolor": "white",
           "zerolinewidth": 2
          }
         }
        },
        "title": {
         "text": "Topics of interest for the future workshops",
         "x": 0.5
        },
        "width": 650,
        "xaxis": {
         "anchor": "y",
         "domain": [
          0,
          0.45
         ]
        },
        "xaxis2": {
         "anchor": "y2",
         "domain": [
          0.55,
          1
         ]
        },
        "xaxis3": {
         "anchor": "y3",
         "domain": [
          0,
          0.45
         ]
        },
        "xaxis4": {
         "anchor": "y4",
         "domain": [
          0.55,
          1
         ]
        },
        "xaxis5": {
         "anchor": "y5",
         "domain": [
          0,
          0.45
         ]
        },
        "xaxis6": {
         "anchor": "y6",
         "domain": [
          0.55,
          1
         ]
        },
        "xaxis7": {
         "anchor": "y7",
         "domain": [
          0,
          0.45
         ]
        },
        "xaxis8": {
         "anchor": "y8",
         "domain": [
          0.55,
          1
         ]
        },
        "yaxis": {
         "anchor": "x",
         "domain": [
          0.84375,
          1
         ],
         "matches": "y7",
         "title": {
          "text": "Percent"
         }
        },
        "yaxis2": {
         "anchor": "x2",
         "domain": [
          0.84375,
          1
         ],
         "matches": "y7",
         "showticklabels": false
        },
        "yaxis3": {
         "anchor": "x3",
         "domain": [
          0.5625,
          0.71875
         ],
         "matches": "y7",
         "title": {
          "text": "Percent"
         }
        },
        "yaxis4": {
         "anchor": "x4",
         "domain": [
          0.5625,
          0.71875
         ],
         "matches": "y7",
         "showticklabels": false
        },
        "yaxis5": {
         "anchor": "x5",
         "domain": [
          0.28125,
          0.4375
         ],
         "matches": "y7",
         "title": {
          "text": "Percent"
         }
        },
        "yaxis6": {
         "anchor": "x6",
         "domain": [
          0.28125,
          0.4375
         ],
         "matches": "y7",
         "showticklabels": false
        },
        "yaxis7": {
         "anchor": "x7",
         "domain": [
          0,
          0.15625
         ],
         "title": {
          "text": "Percent"
         }
        },
        "yaxis8": {
         "anchor": "x8",
         "domain": [
          0,
          0.15625
         ],
         "matches": "y7",
         "showticklabels": false
        }
       }
      }
     },
     "metadata": {},
     "output_type": "display_data"
    }
   ],
   "source": [
    "fig_subgroups(df_top_skill,list_of_col=['Image analysis theory', 'Image analysis practices', 'Topics related to sub discipline', 'Specific software tool', 'Deep learning for image analysis', 'Analyzing large images', 'Visualization of results'],list_of_groups = ['High skill', 'Medium skill', 'Low skill'],colorkey=['cornflowerblue', 'deepskyblue', 'lightskyblue'], title='Topics of interest for the future workshops')"
   ]
  }
 ],
 "metadata": {
  "kernelspec": {
   "display_name": "base",
   "language": "python",
   "name": "python3"
  },
  "language_info": {
   "codemirror_mode": {
    "name": "ipython",
    "version": 3
   },
   "file_extension": ".py",
   "mimetype": "text/x-python",
   "name": "python",
   "nbconvert_exporter": "python",
   "pygments_lexer": "ipython3",
   "version": "3.9.13"
  },
  "orig_nbformat": 4
 },
 "nbformat": 4,
 "nbformat_minor": 2
}
