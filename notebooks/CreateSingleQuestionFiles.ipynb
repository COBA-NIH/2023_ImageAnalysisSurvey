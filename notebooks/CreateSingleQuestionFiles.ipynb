{
 "cells": [
  {
   "cell_type": "code",
   "execution_count": 1,
   "id": "d0c8daa7",
   "metadata": {},
   "outputs": [],
   "source": [
    "import os\n",
    "import pandas as pd"
   ]
  },
  {
   "cell_type": "code",
   "execution_count": 2,
   "id": "5567e72a",
   "metadata": {},
   "outputs": [],
   "source": [
    "os.makedirs('../indiv_questions',exist_ok=True)\n",
    "\n",
    "df = pd.read_csv('../Bridging Imaging Users to Imaging Analysis - 2022 (Responses) - Form Responses 1.csv')\n",
    "\n",
    "punctdict = {\" \":\"_\" , \"?\":\"\" , \"(\":\"\" , \")\":\"\" , \"[\":\"\" , \"]\":\"\" , \"/\":\"_\" , \",\":\"\" , \"<\":\"lessthan\" , '\"':\"\" , \".\":\"\",\"*\":\"\"}\n",
    "for col in df.columns:\n",
    "    if 'Would you be interested in subscribing' not in col:\n",
    "        entryseries = df[col].astype(\"str\")\n",
    "        entrylist = list(entryseries)\n",
    "        entrylist.sort()\n",
    "        while \"nan\" in entrylist:\n",
    "            entrylist.remove(\"nan\")\n",
    "        entryseries = pd.Series(entrylist)\n",
    "        filename = col \n",
    "        for key in punctdict.keys():\n",
    "            filename = filename.replace(key,punctdict[key])\n",
    "        filename = os.path.join('../indiv_questions',filename+\".csv\")\n",
    "        entryseries.to_csv(filename,index=False)"
   ]
  }
 ],
 "metadata": {
  "kernelspec": {
   "display_name": "Python 3 (ipykernel)",
   "language": "python",
   "name": "python3"
  },
  "language_info": {
   "codemirror_mode": {
    "name": "ipython",
    "version": 3
   },
   "file_extension": ".py",
   "mimetype": "text/x-python",
   "name": "python",
   "nbconvert_exporter": "python",
   "pygments_lexer": "ipython3",
   "version": "3.8.15"
  }
 },
 "nbformat": 4,
 "nbformat_minor": 5
}
